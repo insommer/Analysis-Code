{
 "cells": [
  {
   "cell_type": "code",
   "execution_count": 54,
   "id": "26f1f372-38f1-47a4-aef0-b2617c8e03cd",
   "metadata": {},
   "outputs": [],
   "source": [
    "import numpy as np\n",
    "import pandas as pd\n",
    "import os\n",
    "import glob\n",
    "import matplotlib.pyplot as plt"
   ]
  },
  {
   "cell_type": "code",
   "execution_count": 2,
   "id": "5c6fc06f-8b3a-4efa-939d-0fc01c8b8edf",
   "metadata": {},
   "outputs": [],
   "source": [
    "folder = r'D:\\Dropbox (Lehigh University)\\Sommer Lab Shared\\Data\\2024\\04-2024\\10 Apr 2024'"
   ]
  },
  {
   "cell_type": "code",
   "execution_count": 16,
   "id": "bc1f43a4-f76b-4e75-87a8-6ba715e9698b",
   "metadata": {},
   "outputs": [],
   "source": [
    "filenames = glob.glob1(folder, '*Wait*')"
   ]
  },
  {
   "cell_type": "code",
   "execution_count": 17,
   "id": "b31d6109-2729-4bb0-86d9-7fb6f131a838",
   "metadata": {},
   "outputs": [
    {
     "data": {
      "text/plain": [
       "['Low Field Wait.csv',\n",
       " 'Low Field Wait_1.csv',\n",
       " 'Low Field Wait_2.csv',\n",
       " 'Low Field Wait_3.csv',\n",
       " 'Med Field Wait.csv',\n",
       " 'Med Field Wait_1.csv',\n",
       " 'Med Field Wait_2.csv',\n",
       " 'Med Field Wait_3.csv',\n",
       " 'Med Field Wait_4.csv']"
      ]
     },
     "execution_count": 17,
     "metadata": {},
     "output_type": "execute_result"
    }
   ],
   "source": [
    "filenames"
   ]
  },
  {
   "cell_type": "code",
   "execution_count": 20,
   "id": "3bb082b0-d1be-4105-a826-33f724893885",
   "metadata": {},
   "outputs": [],
   "source": [
    "lowFieldfnames = filenames[0:4]\n",
    "medFieldfnames = filenames[-4:]"
   ]
  },
  {
   "cell_type": "code",
   "execution_count": 28,
   "id": "042ff157-ff95-4519-bd08-0f3ae5cf718c",
   "metadata": {},
   "outputs": [],
   "source": [
    "dfmed = []\n",
    "\n",
    "for f in medFieldfnames:\n",
    "    dfmed.append( pd.read_csv( os.path.join(folder, f) ) )\n",
    "    \n",
    "dfmed = pd.concat(dfmed)"
   ]
  },
  {
   "cell_type": "code",
   "execution_count": 27,
   "id": "60dc8b83-48e4-44b2-a94d-adf08b780079",
   "metadata": {},
   "outputs": [],
   "source": [
    "dflow = []\n",
    "\n",
    "for f in lowFieldfnames:\n",
    "    dflow.append( pd.read_csv( os.path.join(folder, f) ) )\n",
    "    \n",
    "dflow = pd.concat(dflow)"
   ]
  },
  {
   "cell_type": "code",
   "execution_count": null,
   "id": "86dffe4e-ee2e-42c2-bb34-01f1a45a5b21",
   "metadata": {},
   "outputs": [],
   "source": []
  },
  {
   "cell_type": "code",
   "execution_count": 34,
   "id": "23e7f5c4-d11a-46e6-a627-0122e1ad103f",
   "metadata": {},
   "outputs": [],
   "source": [
    "dfmed1 = dfmed[['wait', 'AtomNumber_yfit']]\n",
    "dflow1 = dflow[['wait', 'AtomNumber_yfit']]"
   ]
  },
  {
   "cell_type": "code",
   "execution_count": 36,
   "id": "c06ae5aa-3208-4ea2-8683-361a508ae15a",
   "metadata": {},
   "outputs": [],
   "source": [
    "medAtomNo = dfmed1.groupby('wait').mean()\n",
    "medAtomNoStd = dfmed1.groupby('wait').std()"
   ]
  },
  {
   "cell_type": "code",
   "execution_count": 39,
   "id": "61c2a0ff-03d8-455c-a374-ce8748ea4bc8",
   "metadata": {},
   "outputs": [],
   "source": [
    "lowAtomNo = dflow1.groupby('wait').mean()\n",
    "lowAtomNoStd = dflow1.groupby('wait').std()"
   ]
  },
  {
   "cell_type": "code",
   "execution_count": 74,
   "id": "fe368c76-24f6-40ff-b8dd-a0cf5c319c56",
   "metadata": {},
   "outputs": [],
   "source": [
    "ratio = lowAtomNo / medAtomNo"
   ]
  },
  {
   "cell_type": "code",
   "execution_count": 75,
   "id": "83d55661-d97c-40b3-b2a3-8eb424c9a89e",
   "metadata": {},
   "outputs": [],
   "source": [
    "ratioStd = ratio * ( (medAtomNoStd/medAtomNo)**2 + (lowAtomNoStd/lowAtomNo)**2 )**0.5"
   ]
  },
  {
   "cell_type": "code",
   "execution_count": 59,
   "id": "235c308d-16ec-4a7e-9ca7-5b25765cbc26",
   "metadata": {},
   "outputs": [
    {
     "data": {
      "text/plain": [
       "(6, 1)"
      ]
     },
     "execution_count": 59,
     "metadata": {},
     "output_type": "execute_result"
    }
   ],
   "source": [
    "ratio.shape"
   ]
  },
  {
   "cell_type": "code",
   "execution_count": 69,
   "id": "e271e028-cd3d-44fb-88c9-0a9c909bc301",
   "metadata": {},
   "outputs": [
    {
     "data": {
      "text/plain": [
       "(6,)"
      ]
     },
     "execution_count": 69,
     "metadata": {},
     "output_type": "execute_result"
    }
   ],
   "source": [
    "ratio.index.shape"
   ]
  },
  {
   "cell_type": "code",
   "execution_count": 72,
   "id": "34fda292-d693-4e64-8ce6-01ab56f5b0cb",
   "metadata": {},
   "outputs": [
    {
     "data": {
      "text/html": [
       "<div>\n",
       "<style scoped>\n",
       "    .dataframe tbody tr th:only-of-type {\n",
       "        vertical-align: middle;\n",
       "    }\n",
       "\n",
       "    .dataframe tbody tr th {\n",
       "        vertical-align: top;\n",
       "    }\n",
       "\n",
       "    .dataframe thead th {\n",
       "        text-align: right;\n",
       "    }\n",
       "</style>\n",
       "<table border=\"1\" class=\"dataframe\">\n",
       "  <thead>\n",
       "    <tr style=\"text-align: right;\">\n",
       "      <th></th>\n",
       "      <th>AtomNumber_yfit</th>\n",
       "    </tr>\n",
       "    <tr>\n",
       "      <th>wait</th>\n",
       "      <th></th>\n",
       "    </tr>\n",
       "  </thead>\n",
       "  <tbody>\n",
       "    <tr>\n",
       "      <th>100.0</th>\n",
       "      <td>0.256582</td>\n",
       "    </tr>\n",
       "    <tr>\n",
       "      <th>500.0</th>\n",
       "      <td>0.236280</td>\n",
       "    </tr>\n",
       "    <tr>\n",
       "      <th>1000.0</th>\n",
       "      <td>0.226219</td>\n",
       "    </tr>\n",
       "    <tr>\n",
       "      <th>2000.0</th>\n",
       "      <td>0.294497</td>\n",
       "    </tr>\n",
       "    <tr>\n",
       "      <th>3500.0</th>\n",
       "      <td>0.356001</td>\n",
       "    </tr>\n",
       "    <tr>\n",
       "      <th>5000.0</th>\n",
       "      <td>0.317415</td>\n",
       "    </tr>\n",
       "  </tbody>\n",
       "</table>\n",
       "</div>"
      ],
      "text/plain": [
       "        AtomNumber_yfit\n",
       "wait                   \n",
       "100.0          0.256582\n",
       "500.0          0.236280\n",
       "1000.0         0.226219\n",
       "2000.0         0.294497\n",
       "3500.0         0.356001\n",
       "5000.0         0.317415"
      ]
     },
     "execution_count": 72,
     "metadata": {},
     "output_type": "execute_result"
    }
   ],
   "source": [
    "ratioStd"
   ]
  },
  {
   "cell_type": "code",
   "execution_count": null,
   "id": "2ba45ed3-18bd-4808-b8e1-154ab8a58a55",
   "metadata": {},
   "outputs": [],
   "source": []
  },
  {
   "cell_type": "code",
   "execution_count": 77,
   "id": "47e6d1f3-7573-456e-8857-c0d97ff29097",
   "metadata": {},
   "outputs": [
    {
     "data": {
      "text/plain": [
       "Text(0, 0.5, 'Low filed / Med field')"
      ]
     },
     "execution_count": 77,
     "metadata": {},
     "output_type": "execute_result"
    },
    {
     "data": {
      "image/png": "[encoded data removed]",
      "text/plain": [
       "<Figure size 432x288 with 1 Axes>"
      ]
     },
     "metadata": {
      "needs_background": "light"
     },
     "output_type": "display_data"
    }
   ],
   "source": [
    "plt.errorbar(ratio.index, ratio.AtomNumber_yfit, yerr=ratioStd.AtomNumber_yfit )\n",
    "plt.xlabel('wait (ms)')\n",
    "plt.ylabel('Low filed / Med field')"
   ]
  },
  {
   "cell_type": "code",
   "execution_count": null,
   "id": "0cdf2c56-166f-4409-a077-2605e9558ca0",
   "metadata": {},
   "outputs": [],
   "source": []
  },
  {
   "cell_type": "code",
   "execution_count": null,
   "id": "da2bba57-60b0-41fa-9ddb-0366dc4c07da",
   "metadata": {},
   "outputs": [],
   "source": []
  },
  {
   "cell_type": "code",
   "execution_count": null,
   "id": "4055f9b7-e2fb-4ca8-a48b-dbff785a2ad3",
   "metadata": {},
   "outputs": [],
   "source": []
  },
  {
   "cell_type": "code",
   "execution_count": 42,
   "id": "1b92557b-42a9-4c92-ab41-1a56826dbffb",
   "metadata": {},
   "outputs": [
    {
     "data": {
      "text/html": [
       "<div>\n",
       "<style scoped>\n",
       "    .dataframe tbody tr th:only-of-type {\n",
       "        vertical-align: middle;\n",
       "    }\n",
       "\n",
       "    .dataframe tbody tr th {\n",
       "        vertical-align: top;\n",
       "    }\n",
       "\n",
       "    .dataframe thead th {\n",
       "        text-align: right;\n",
       "    }\n",
       "</style>\n",
       "<table border=\"1\" class=\"dataframe\">\n",
       "  <thead>\n",
       "    <tr style=\"text-align: right;\">\n",
       "      <th></th>\n",
       "      <th>AtomNumber_yfit</th>\n",
       "    </tr>\n",
       "    <tr>\n",
       "      <th>wait</th>\n",
       "      <th></th>\n",
       "    </tr>\n",
       "  </thead>\n",
       "  <tbody>\n",
       "    <tr>\n",
       "      <th>100.0</th>\n",
       "      <td>101540.208582</td>\n",
       "    </tr>\n",
       "    <tr>\n",
       "      <th>500.0</th>\n",
       "      <td>104224.612466</td>\n",
       "    </tr>\n",
       "    <tr>\n",
       "      <th>1000.0</th>\n",
       "      <td>88060.675575</td>\n",
       "    </tr>\n",
       "    <tr>\n",
       "      <th>2000.0</th>\n",
       "      <td>77944.106323</td>\n",
       "    </tr>\n",
       "    <tr>\n",
       "      <th>3500.0</th>\n",
       "      <td>59414.386692</td>\n",
       "    </tr>\n",
       "    <tr>\n",
       "      <th>5000.0</th>\n",
       "      <td>33310.527138</td>\n",
       "    </tr>\n",
       "  </tbody>\n",
       "</table>\n",
       "</div>"
      ],
      "text/plain": [
       "        AtomNumber_yfit\n",
       "wait                   \n",
       "100.0     101540.208582\n",
       "500.0     104224.612466\n",
       "1000.0     88060.675575\n",
       "2000.0     77944.106323\n",
       "3500.0     59414.386692\n",
       "5000.0     33310.527138"
      ]
     },
     "execution_count": 42,
     "metadata": {},
     "output_type": "execute_result"
    }
   ],
   "source": [
    "lowAtomNoStd"
   ]
  },
  {
   "cell_type": "code",
   "execution_count": 44,
   "id": "7d390b63-00cb-46d6-9a9d-a1d36a470d95",
   "metadata": {},
   "outputs": [
    {
     "data": {
      "text/html": [
       "<div>\n",
       "<style scoped>\n",
       "    .dataframe tbody tr th:only-of-type {\n",
       "        vertical-align: middle;\n",
       "    }\n",
       "\n",
       "    .dataframe tbody tr th {\n",
       "        vertical-align: top;\n",
       "    }\n",
       "\n",
       "    .dataframe thead th {\n",
       "        text-align: right;\n",
       "    }\n",
       "</style>\n",
       "<table border=\"1\" class=\"dataframe\">\n",
       "  <thead>\n",
       "    <tr style=\"text-align: right;\">\n",
       "      <th></th>\n",
       "      <th>AtomNumber_yfit</th>\n",
       "    </tr>\n",
       "    <tr>\n",
       "      <th>wait</th>\n",
       "      <th></th>\n",
       "    </tr>\n",
       "  </thead>\n",
       "  <tbody>\n",
       "    <tr>\n",
       "      <th>100.0</th>\n",
       "      <td>452603.801125</td>\n",
       "    </tr>\n",
       "    <tr>\n",
       "      <th>500.0</th>\n",
       "      <td>469624.698195</td>\n",
       "    </tr>\n",
       "    <tr>\n",
       "      <th>1000.0</th>\n",
       "      <td>396420.991694</td>\n",
       "    </tr>\n",
       "    <tr>\n",
       "      <th>2000.0</th>\n",
       "      <td>316617.801120</td>\n",
       "    </tr>\n",
       "    <tr>\n",
       "      <th>3500.0</th>\n",
       "      <td>220163.186657</td>\n",
       "    </tr>\n",
       "    <tr>\n",
       "      <th>5000.0</th>\n",
       "      <td>143056.184031</td>\n",
       "    </tr>\n",
       "  </tbody>\n",
       "</table>\n",
       "</div>"
      ],
      "text/plain": [
       "        AtomNumber_yfit\n",
       "wait                   \n",
       "100.0     452603.801125\n",
       "500.0     469624.698195\n",
       "1000.0    396420.991694\n",
       "2000.0    316617.801120\n",
       "3500.0    220163.186657\n",
       "5000.0    143056.184031"
      ]
     },
     "execution_count": 44,
     "metadata": {},
     "output_type": "execute_result"
    }
   ],
   "source": [
    "lowAtomNo"
   ]
  },
  {
   "cell_type": "code",
   "execution_count": 43,
   "id": "df454196-4af1-4a05-9147-01b3795f82ed",
   "metadata": {},
   "outputs": [
    {
     "data": {
      "text/html": [
       "<div>\n",
       "<style scoped>\n",
       "    .dataframe tbody tr th:only-of-type {\n",
       "        vertical-align: middle;\n",
       "    }\n",
       "\n",
       "    .dataframe tbody tr th {\n",
       "        vertical-align: top;\n",
       "    }\n",
       "\n",
       "    .dataframe thead th {\n",
       "        text-align: right;\n",
       "    }\n",
       "</style>\n",
       "<table border=\"1\" class=\"dataframe\">\n",
       "  <thead>\n",
       "    <tr style=\"text-align: right;\">\n",
       "      <th></th>\n",
       "      <th>AtomNumber_yfit</th>\n",
       "    </tr>\n",
       "    <tr>\n",
       "      <th>wait</th>\n",
       "      <th></th>\n",
       "    </tr>\n",
       "  </thead>\n",
       "  <tbody>\n",
       "    <tr>\n",
       "      <th>100.0</th>\n",
       "      <td>1.031041e+10</td>\n",
       "    </tr>\n",
       "    <tr>\n",
       "      <th>500.0</th>\n",
       "      <td>1.086277e+10</td>\n",
       "    </tr>\n",
       "    <tr>\n",
       "      <th>1000.0</th>\n",
       "      <td>7.754683e+09</td>\n",
       "    </tr>\n",
       "    <tr>\n",
       "      <th>2000.0</th>\n",
       "      <td>6.075284e+09</td>\n",
       "    </tr>\n",
       "    <tr>\n",
       "      <th>3500.0</th>\n",
       "      <td>3.530069e+09</td>\n",
       "    </tr>\n",
       "    <tr>\n",
       "      <th>5000.0</th>\n",
       "      <td>1.109591e+09</td>\n",
       "    </tr>\n",
       "  </tbody>\n",
       "</table>\n",
       "</div>"
      ],
      "text/plain": [
       "        AtomNumber_yfit\n",
       "wait                   \n",
       "100.0      1.031041e+10\n",
       "500.0      1.086277e+10\n",
       "1000.0     7.754683e+09\n",
       "2000.0     6.075284e+09\n",
       "3500.0     3.530069e+09\n",
       "5000.0     1.109591e+09"
      ]
     },
     "execution_count": 43,
     "metadata": {},
     "output_type": "execute_result"
    }
   ],
   "source": [
    "lowAtomNoStd**2"
   ]
  },
  {
   "cell_type": "code",
   "execution_count": 46,
   "id": "993fc45b-e48e-48ae-a1c4-9c3f7cfdfba4",
   "metadata": {},
   "outputs": [
    {
     "data": {
      "text/html": [
       "<div>\n",
       "<style scoped>\n",
       "    .dataframe tbody tr th:only-of-type {\n",
       "        vertical-align: middle;\n",
       "    }\n",
       "\n",
       "    .dataframe tbody tr th {\n",
       "        vertical-align: top;\n",
       "    }\n",
       "\n",
       "    .dataframe thead th {\n",
       "        text-align: right;\n",
       "    }\n",
       "</style>\n",
       "<table border=\"1\" class=\"dataframe\">\n",
       "  <thead>\n",
       "    <tr style=\"text-align: right;\">\n",
       "      <th></th>\n",
       "      <th>AtomNumber_yfit</th>\n",
       "    </tr>\n",
       "    <tr>\n",
       "      <th>wait</th>\n",
       "      <th></th>\n",
       "    </tr>\n",
       "  </thead>\n",
       "  <tbody>\n",
       "    <tr>\n",
       "      <th>100.0</th>\n",
       "      <td>0.224347</td>\n",
       "    </tr>\n",
       "    <tr>\n",
       "      <th>500.0</th>\n",
       "      <td>0.221932</td>\n",
       "    </tr>\n",
       "    <tr>\n",
       "      <th>1000.0</th>\n",
       "      <td>0.222139</td>\n",
       "    </tr>\n",
       "    <tr>\n",
       "      <th>2000.0</th>\n",
       "      <td>0.246177</td>\n",
       "    </tr>\n",
       "    <tr>\n",
       "      <th>3500.0</th>\n",
       "      <td>0.269865</td>\n",
       "    </tr>\n",
       "    <tr>\n",
       "      <th>5000.0</th>\n",
       "      <td>0.232849</td>\n",
       "    </tr>\n",
       "  </tbody>\n",
       "</table>\n",
       "</div>"
      ],
      "text/plain": [
       "        AtomNumber_yfit\n",
       "wait                   \n",
       "100.0          0.224347\n",
       "500.0          0.221932\n",
       "1000.0         0.222139\n",
       "2000.0         0.246177\n",
       "3500.0         0.269865\n",
       "5000.0         0.232849"
      ]
     },
     "execution_count": 46,
     "metadata": {},
     "output_type": "execute_result"
    }
   ],
   "source": [
    "lowAtomNoStd / lowAtomNo"
   ]
  },
  {
   "cell_type": "code",
   "execution_count": 47,
   "id": "864b6f96-841b-4c47-8fc8-951af9b03bd1",
   "metadata": {},
   "outputs": [
    {
     "data": {
      "text/html": [
       "<div>\n",
       "<style scoped>\n",
       "    .dataframe tbody tr th:only-of-type {\n",
       "        vertical-align: middle;\n",
       "    }\n",
       "\n",
       "    .dataframe tbody tr th {\n",
       "        vertical-align: top;\n",
       "    }\n",
       "\n",
       "    .dataframe thead th {\n",
       "        text-align: right;\n",
       "    }\n",
       "</style>\n",
       "<table border=\"1\" class=\"dataframe\">\n",
       "  <thead>\n",
       "    <tr style=\"text-align: right;\">\n",
       "      <th></th>\n",
       "      <th>AtomNumber_yfit</th>\n",
       "    </tr>\n",
       "    <tr>\n",
       "      <th>wait</th>\n",
       "      <th></th>\n",
       "    </tr>\n",
       "  </thead>\n",
       "  <tbody>\n",
       "    <tr>\n",
       "      <th>100.0</th>\n",
       "      <td>23</td>\n",
       "    </tr>\n",
       "    <tr>\n",
       "      <th>500.0</th>\n",
       "      <td>23</td>\n",
       "    </tr>\n",
       "    <tr>\n",
       "      <th>1000.0</th>\n",
       "      <td>23</td>\n",
       "    </tr>\n",
       "    <tr>\n",
       "      <th>2000.0</th>\n",
       "      <td>23</td>\n",
       "    </tr>\n",
       "    <tr>\n",
       "      <th>3500.0</th>\n",
       "      <td>23</td>\n",
       "    </tr>\n",
       "    <tr>\n",
       "      <th>5000.0</th>\n",
       "      <td>23</td>\n",
       "    </tr>\n",
       "  </tbody>\n",
       "</table>\n",
       "</div>"
      ],
      "text/plain": [
       "        AtomNumber_yfit\n",
       "wait                   \n",
       "100.0                23\n",
       "500.0                23\n",
       "1000.0               23\n",
       "2000.0               23\n",
       "3500.0               23\n",
       "5000.0               23"
      ]
     },
     "execution_count": 47,
     "metadata": {},
     "output_type": "execute_result"
    }
   ],
   "source": [
    "dfmed1.groupby('wait').count()"
   ]
  },
  {
   "cell_type": "code",
   "execution_count": 48,
   "id": "94470d5e-6790-4b26-8c18-80dac1cb77bc",
   "metadata": {},
   "outputs": [
    {
     "data": {
      "text/html": [
       "<div>\n",
       "<style scoped>\n",
       "    .dataframe tbody tr th:only-of-type {\n",
       "        vertical-align: middle;\n",
       "    }\n",
       "\n",
       "    .dataframe tbody tr th {\n",
       "        vertical-align: top;\n",
       "    }\n",
       "\n",
       "    .dataframe thead th {\n",
       "        text-align: right;\n",
       "    }\n",
       "</style>\n",
       "<table border=\"1\" class=\"dataframe\">\n",
       "  <thead>\n",
       "    <tr style=\"text-align: right;\">\n",
       "      <th></th>\n",
       "      <th>AtomNumber_yfit</th>\n",
       "    </tr>\n",
       "    <tr>\n",
       "      <th>wait</th>\n",
       "      <th></th>\n",
       "    </tr>\n",
       "  </thead>\n",
       "  <tbody>\n",
       "    <tr>\n",
       "      <th>100.0</th>\n",
       "      <td>28</td>\n",
       "    </tr>\n",
       "    <tr>\n",
       "      <th>500.0</th>\n",
       "      <td>28</td>\n",
       "    </tr>\n",
       "    <tr>\n",
       "      <th>1000.0</th>\n",
       "      <td>28</td>\n",
       "    </tr>\n",
       "    <tr>\n",
       "      <th>2000.0</th>\n",
       "      <td>28</td>\n",
       "    </tr>\n",
       "    <tr>\n",
       "      <th>3500.0</th>\n",
       "      <td>28</td>\n",
       "    </tr>\n",
       "    <tr>\n",
       "      <th>5000.0</th>\n",
       "      <td>28</td>\n",
       "    </tr>\n",
       "  </tbody>\n",
       "</table>\n",
       "</div>"
      ],
      "text/plain": [
       "        AtomNumber_yfit\n",
       "wait                   \n",
       "100.0                28\n",
       "500.0                28\n",
       "1000.0               28\n",
       "2000.0               28\n",
       "3500.0               28\n",
       "5000.0               28"
      ]
     },
     "execution_count": 48,
     "metadata": {},
     "output_type": "execute_result"
    }
   ],
   "source": [
    "dflow1.groupby('wait').count()"
   ]
  },
  {
   "cell_type": "code",
   "execution_count": 51,
   "id": "8065a958-6899-40be-829c-cbf32fc81ab8",
   "metadata": {},
   "outputs": [
    {
     "data": {
      "text/html": [
       "<div>\n",
       "<style scoped>\n",
       "    .dataframe tbody tr th:only-of-type {\n",
       "        vertical-align: middle;\n",
       "    }\n",
       "\n",
       "    .dataframe tbody tr th {\n",
       "        vertical-align: top;\n",
       "    }\n",
       "\n",
       "    .dataframe thead th {\n",
       "        text-align: right;\n",
       "    }\n",
       "</style>\n",
       "<table border=\"1\" class=\"dataframe\">\n",
       "  <thead>\n",
       "    <tr style=\"text-align: right;\">\n",
       "      <th></th>\n",
       "      <th>AtomNumber_yfit</th>\n",
       "    </tr>\n",
       "    <tr>\n",
       "      <th>wait</th>\n",
       "      <th></th>\n",
       "    </tr>\n",
       "  </thead>\n",
       "  <tbody>\n",
       "    <tr>\n",
       "      <th>100.0</th>\n",
       "      <td>4.795832</td>\n",
       "    </tr>\n",
       "    <tr>\n",
       "      <th>500.0</th>\n",
       "      <td>4.795832</td>\n",
       "    </tr>\n",
       "    <tr>\n",
       "      <th>1000.0</th>\n",
       "      <td>4.795832</td>\n",
       "    </tr>\n",
       "    <tr>\n",
       "      <th>2000.0</th>\n",
       "      <td>4.795832</td>\n",
       "    </tr>\n",
       "    <tr>\n",
       "      <th>3500.0</th>\n",
       "      <td>4.795832</td>\n",
       "    </tr>\n",
       "    <tr>\n",
       "      <th>5000.0</th>\n",
       "      <td>4.795832</td>\n",
       "    </tr>\n",
       "  </tbody>\n",
       "</table>\n",
       "</div>"
      ],
      "text/plain": [
       "        AtomNumber_yfit\n",
       "wait                   \n",
       "100.0          4.795832\n",
       "500.0          4.795832\n",
       "1000.0         4.795832\n",
       "2000.0         4.795832\n",
       "3500.0         4.795832\n",
       "5000.0         4.795832"
      ]
     },
     "execution_count": 51,
     "metadata": {},
     "output_type": "execute_result"
    }
   ],
   "source": [
    "dfmed1.groupby('wait').std() / dfmed1.groupby('wait').sem() "
   ]
  },
  {
   "cell_type": "code",
   "execution_count": 52,
   "id": "98ef55e3-200d-4e57-bf3b-0c983d7a963c",
   "metadata": {},
   "outputs": [
    {
     "data": {
      "text/plain": [
       "4.795831523312719"
      ]
     },
     "execution_count": 52,
     "metadata": {},
     "output_type": "execute_result"
    }
   ],
   "source": [
    "23**0.5"
   ]
  },
  {
   "cell_type": "code",
   "execution_count": 50,
   "id": "30d5f832-8169-4189-9362-f556efdef28b",
   "metadata": {},
   "outputs": [
    {
     "data": {
      "text/html": [
       "<div>\n",
       "<style scoped>\n",
       "    .dataframe tbody tr th:only-of-type {\n",
       "        vertical-align: middle;\n",
       "    }\n",
       "\n",
       "    .dataframe tbody tr th {\n",
       "        vertical-align: top;\n",
       "    }\n",
       "\n",
       "    .dataframe thead th {\n",
       "        text-align: right;\n",
       "    }\n",
       "</style>\n",
       "<table border=\"1\" class=\"dataframe\">\n",
       "  <thead>\n",
       "    <tr style=\"text-align: right;\">\n",
       "      <th></th>\n",
       "      <th>AtomNumber_yfit</th>\n",
       "    </tr>\n",
       "    <tr>\n",
       "      <th>wait</th>\n",
       "      <th></th>\n",
       "    </tr>\n",
       "  </thead>\n",
       "  <tbody>\n",
       "    <tr>\n",
       "      <th>100.0</th>\n",
       "      <td>85457.635093</td>\n",
       "    </tr>\n",
       "    <tr>\n",
       "      <th>500.0</th>\n",
       "      <td>86705.133235</td>\n",
       "    </tr>\n",
       "    <tr>\n",
       "      <th>1000.0</th>\n",
       "      <td>60388.152006</td>\n",
       "    </tr>\n",
       "    <tr>\n",
       "      <th>2000.0</th>\n",
       "      <td>73918.558063</td>\n",
       "    </tr>\n",
       "    <tr>\n",
       "      <th>3500.0</th>\n",
       "      <td>59428.863262</td>\n",
       "    </tr>\n",
       "    <tr>\n",
       "      <th>5000.0</th>\n",
       "      <td>27440.912143</td>\n",
       "    </tr>\n",
       "  </tbody>\n",
       "</table>\n",
       "</div>"
      ],
      "text/plain": [
       "        AtomNumber_yfit\n",
       "wait                   \n",
       "100.0      85457.635093\n",
       "500.0      86705.133235\n",
       "1000.0     60388.152006\n",
       "2000.0     73918.558063\n",
       "3500.0     59428.863262\n",
       "5000.0     27440.912143"
      ]
     },
     "execution_count": 50,
     "metadata": {},
     "output_type": "execute_result"
    }
   ],
   "source": [
    "dfmed1.groupby('wait').std()"
   ]
  },
  {
   "cell_type": "code",
   "execution_count": null,
   "id": "8c9b337a-a3eb-401e-b22a-308b4c72de69",
   "metadata": {},
   "outputs": [],
   "source": []
  }
 ],
 "metadata": {
  "kernelspec": {
   "display_name": "Python 3 (ipykernel)",
   "language": "python",
   "name": "python3"
  },
  "language_info": {
   "codemirror_mode": {
    "name": "ipython",
    "version": 3
   },
   "file_extension": ".py",
   "mimetype": "text/x-python",
   "name": "python",
   "nbconvert_exporter": "python",
   "pygments_lexer": "ipython3",
   "version": "3.7.3"
  }
 },
 "nbformat": 4,
 "nbformat_minor": 5
}
