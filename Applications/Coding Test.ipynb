{
 "cells": [
  {
   "cell_type": "code",
   "execution_count": 1,
   "id": "55b8577c",
   "metadata": {},
   "outputs": [],
   "source": [
    "%load_ext autoreload"
   ]
  },
  {
   "cell_type": "code",
   "execution_count": 2,
   "id": "45220be2",
   "metadata": {},
   "outputs": [],
   "source": [
    "%autoreload 2"
   ]
  },
  {
   "cell_type": "code",
   "execution_count": 3,
   "id": "a8b20030",
   "metadata": {},
   "outputs": [],
   "source": [
    "import sys\n",
    "sys.path.append(r'C:\\Users\\Sommer Lab\\Documents\\Analysis Code')\n",
    "import os\n",
    "from scipy.optimize import curve_fit\n",
    "from scipy.ndimage import rotate\n",
    "from scipy.integrate import simpson\n",
    "\n",
    "from ImageAnalysis import ImageAnalysisCode\n",
    "import numpy as np\n",
    "import matplotlib.pyplot as plt"
   ]
  },
  {
   "cell_type": "code",
   "execution_count": 4,
   "id": "ee5fe0f3",
   "metadata": {},
   "outputs": [],
   "source": [
    "data_folder =  './FLIR/odt align'\n",
    "t_exp = 10e-6\n",
    "picturesPerIteration = 3\n",
    "# t0 = 40e-6\n",
    "\n",
    "\n",
    "rowstart = 0#243#450\n",
    "rowend = -1#560\n",
    "columnstart = 0#600\n",
    "columnend = -1#900\n",
    "#config = ImageAnalysisCode.LoadConfigFile(dataFolder = data_folder)\n",
    "binsize=4"
   ]
  },
  {
   "cell_type": "code",
   "execution_count": 3,
   "id": "ce0d4a16",
   "metadata": {},
   "outputs": [],
   "source": [
    "AA = np.array([ ii+np.random.rand(10,10) for ii in range(3)])"
   ]
  },
  {
   "cell_type": "code",
   "execution_count": 43,
   "id": "08b5c916",
   "metadata": {},
   "outputs": [
    {
     "data": {
      "text/plain": [
       "array([[[0.05309043, 0.23848394, 0.89967033, 0.52427109, 0.58195987,\n",
       "         0.4565538 , 0.75611681, 0.86989442, 0.86348855, 0.21912723],\n",
       "        [0.19286709, 0.52129323, 0.29244974, 0.28576613, 0.93527249,\n",
       "         0.2853157 , 0.05146749, 0.04610904, 0.02899616, 0.18241022],\n",
       "        [0.72512644, 0.31490334, 0.29706101, 0.70994601, 0.88797368,\n",
       "         0.2626943 , 0.07468275, 0.13924969, 0.89998649, 0.31695123],\n",
       "        [0.55881035, 0.7407415 , 0.39294623, 0.30964054, 0.78320176,\n",
       "         0.72782915, 0.03275141, 0.9388813 , 0.82925475, 0.17525129],\n",
       "        [0.27257841, 0.89513208, 0.55486004, 0.77103312, 0.49918103,\n",
       "         0.96529563, 0.59194703, 0.40390621, 0.0594646 , 0.67587097],\n",
       "        [0.04128964, 0.88650083, 0.35350838, 0.91387238, 0.21266252,\n",
       "         0.87179386, 0.3971328 , 0.10938868, 0.15776365, 0.38746098],\n",
       "        [0.473137  , 0.70728857, 0.02517872, 0.46768119, 0.78000949,\n",
       "         0.85228623, 0.24220282, 0.50013746, 0.65965726, 0.84251645],\n",
       "        [0.70422966, 0.32554871, 0.28126611, 0.19854728, 0.63324684,\n",
       "         0.14143737, 0.50222054, 0.1233755 , 0.75272348, 0.81670022],\n",
       "        [0.29057878, 0.78485346, 0.51468881, 0.13083169, 0.75872813,\n",
       "         0.4152334 , 0.65932922, 0.18013218, 0.04617182, 0.71763759],\n",
       "        [0.65966249, 0.56084258, 0.62903924, 0.28499077, 0.73028968,\n",
       "         0.43761716, 0.31721348, 0.68386018, 0.96662208, 0.39967828]],\n",
       "\n",
       "       [[1.3241738 , 1.8225735 , 1.79894114, 1.2400892 , 1.24860772,\n",
       "         1.89075359, 1.66956718, 1.46148661, 1.1489366 , 1.17948735],\n",
       "        [1.70096683, 1.61412402, 1.47361266, 1.53645341, 1.18823311,\n",
       "         1.0678299 , 1.96683499, 1.0079362 , 1.13807539, 1.01125493],\n",
       "        [1.28460011, 1.18817862, 1.93650036, 1.1392556 , 1.30892209,\n",
       "         1.50047978, 1.96228116, 1.72773569, 1.36191421, 1.13159739],\n",
       "        [1.20105157, 1.44093214, 1.34669181, 1.22986818, 1.59183515,\n",
       "         1.1401741 , 1.43529013, 1.01180393, 1.68715281, 1.74845931],\n",
       "        [1.62245152, 1.61142022, 1.92463465, 1.26663532, 1.50872654,\n",
       "         1.32938182, 1.74889407, 1.14308906, 1.7898857 , 1.52372035],\n",
       "        [1.76404129, 1.25808943, 1.31577027, 1.78425996, 1.98881875,\n",
       "         1.26453744, 1.01930566, 1.08284434, 1.93275801, 1.20742611],\n",
       "        [1.20791863, 1.78321183, 1.10934278, 1.50934515, 1.53437208,\n",
       "         1.34797143, 1.72768899, 1.25500561, 1.88002694, 1.41849951],\n",
       "        [1.12055061, 1.13115789, 1.23343945, 1.64548424, 1.7570992 ,\n",
       "         1.74896702, 1.89060254, 1.3367405 , 1.96866729, 1.30013188],\n",
       "        [1.96746321, 1.63594929, 1.88078006, 1.42900137, 1.25698882,\n",
       "         1.77409525, 1.69552542, 1.78676255, 1.0569666 , 1.53884233],\n",
       "        [1.54457939, 1.54714593, 1.17776249, 1.1314036 , 1.54666894,\n",
       "         1.91760744, 1.77789362, 1.93398489, 1.77646823, 1.96914373]],\n",
       "\n",
       "       [[2.06368157, 2.28233639, 2.18936283, 2.08187169, 2.31398867,\n",
       "         2.7398121 , 2.69908761, 2.33965714, 2.69044692, 2.16051045],\n",
       "        [2.79266032, 2.99045214, 2.33315174, 2.15969562, 2.74302591,\n",
       "         2.88201376, 2.71607233, 2.69554   , 2.91260147, 2.75835654],\n",
       "        [2.12964134, 2.8204012 , 2.97105874, 2.75105878, 2.31137011,\n",
       "         2.67934996, 2.95078536, 2.24966231, 2.46130442, 2.45800906],\n",
       "        [2.86902499, 2.30339682, 2.62795838, 2.627532  , 2.85124993,\n",
       "         2.88262271, 2.96706629, 2.09413665, 2.92581798, 2.91166166],\n",
       "        [2.54519966, 2.89355297, 2.84631376, 2.05956206, 2.92823299,\n",
       "         2.52578736, 2.03726075, 2.00700338, 2.43946226, 2.81645083],\n",
       "        [2.35343743, 2.76737128, 2.64499787, 2.55214684, 2.99417358,\n",
       "         2.5225813 , 2.46548769, 2.37732627, 2.90308535, 2.18513442],\n",
       "        [2.28678447, 2.59793611, 2.40275273, 2.15852561, 2.55250843,\n",
       "         2.42748988, 2.28601061, 2.84070832, 2.81372792, 2.93296182],\n",
       "        [2.69358097, 2.87044261, 2.03116243, 2.29562999, 2.16151845,\n",
       "         2.46911858, 2.44635538, 2.29573766, 2.05929458, 2.01249918],\n",
       "        [2.83598568, 2.06913326, 2.10633738, 2.78971026, 2.56806018,\n",
       "         2.33080243, 2.57305938, 2.66666982, 2.77583336, 2.73034538],\n",
       "        [2.79084909, 2.85299449, 2.35090704, 2.50641256, 2.79672004,\n",
       "         2.10880207, 2.59313637, 2.81376284, 2.08901335, 2.77629644]]])"
      ]
     },
     "execution_count": 43,
     "metadata": {},
     "output_type": "execute_result"
    }
   ],
   "source": [
    "AA"
   ]
  },
  {
   "cell_type": "code",
   "execution_count": null,
   "id": "28eb6efd",
   "metadata": {},
   "outputs": [],
   "source": []
  },
  {
   "cell_type": "code",
   "execution_count": 94,
   "id": "d17b5899",
   "metadata": {},
   "outputs": [
    {
     "data": {
      "image/png": "[encoded data removed]",
      "text/plain": [
       "<Figure size 432x288 with 3 Axes>"
      ]
     },
     "metadata": {
      "needs_background": "light"
     },
     "output_type": "display_data"
    }
   ],
   "source": [
    "fig, axs = plt.subplots(1,3)"
   ]
  },
  {
   "cell_type": "code",
   "execution_count": 95,
   "id": "bbe8e517",
   "metadata": {},
   "outputs": [
    {
     "data": {
      "text/plain": [
       "array([<AxesSubplot:>, <AxesSubplot:>, <AxesSubplot:>], dtype=object)"
      ]
     },
     "execution_count": 95,
     "metadata": {},
     "output_type": "execute_result"
    }
   ],
   "source": [
    "axs"
   ]
  },
  {
   "cell_type": "code",
   "execution_count": 116,
   "id": "70fcf8b0",
   "metadata": {},
   "outputs": [
    {
     "data": {
      "image/png": "[encoded data removed]",
      "text/plain": [
       "<Figure size 432x288 with 1 Axes>"
      ]
     },
     "metadata": {
      "needs_background": "light"
     },
     "output_type": "display_data"
    }
   ],
   "source": [
    "fig, axs = plt.subplots(1,1)"
   ]
  },
  {
   "cell_type": "code",
   "execution_count": 117,
   "id": "0c3a1110",
   "metadata": {},
   "outputs": [
    {
     "data": {
      "text/plain": [
       "<AxesSubplot:>"
      ]
     },
     "execution_count": 117,
     "metadata": {},
     "output_type": "execute_result"
    }
   ],
   "source": [
    "axs"
   ]
  },
  {
   "cell_type": "code",
   "execution_count": 118,
   "id": "91131067",
   "metadata": {},
   "outputs": [
    {
     "data": {
      "text/plain": [
       "array(<AxesSubplot:>, dtype=object)"
      ]
     },
     "execution_count": 118,
     "metadata": {},
     "output_type": "execute_result"
    }
   ],
   "source": [
    "axsarray = np.array(axs)\n",
    "axsarray"
   ]
  },
  {
   "cell_type": "code",
   "execution_count": 119,
   "id": "01823f40",
   "metadata": {},
   "outputs": [
    {
     "data": {
      "text/plain": [
       "array(<AxesSubplot:>, dtype=object)"
      ]
     },
     "execution_count": 119,
     "metadata": {},
     "output_type": "execute_result"
    }
   ],
   "source": [
    "axsarray = np.array(axs)\n",
    "axsarray"
   ]
  },
  {
   "cell_type": "code",
   "execution_count": 120,
   "id": "54ed3203",
   "metadata": {
    "scrolled": true
   },
   "outputs": [
    {
     "data": {
      "text/plain": [
       "()"
      ]
     },
     "execution_count": 120,
     "metadata": {},
     "output_type": "execute_result"
    }
   ],
   "source": [
    "axsarray.shape"
   ]
  },
  {
   "cell_type": "code",
   "execution_count": 129,
   "id": "d54bd144",
   "metadata": {},
   "outputs": [
    {
     "data": {
      "text/plain": [
       "array([[[<AxesSubplot:>]]], dtype=object)"
      ]
     },
     "execution_count": 129,
     "metadata": {},
     "output_type": "execute_result"
    }
   ],
   "source": [
    "axsarray = axsarray.reshape([1, 1, -1])\n",
    "axsarray"
   ]
  },
  {
   "cell_type": "code",
   "execution_count": 130,
   "id": "7af7e7c2",
   "metadata": {},
   "outputs": [
    {
     "data": {
      "text/plain": [
       "(1, 1, 1)"
      ]
     },
     "execution_count": 130,
     "metadata": {},
     "output_type": "execute_result"
    }
   ],
   "source": [
    "axsarray.shape"
   ]
  },
  {
   "cell_type": "code",
   "execution_count": 131,
   "id": "9f77b6e2",
   "metadata": {},
   "outputs": [],
   "source": [
    "aa = np.array([2])"
   ]
  },
  {
   "cell_type": "code",
   "execution_count": 132,
   "id": "fc29985e",
   "metadata": {},
   "outputs": [
    {
     "data": {
      "text/plain": [
       "array([2])"
      ]
     },
     "execution_count": 132,
     "metadata": {},
     "output_type": "execute_result"
    }
   ],
   "source": [
    "aa"
   ]
  },
  {
   "cell_type": "code",
   "execution_count": 91,
   "id": "82ef04c8",
   "metadata": {},
   "outputs": [
    {
     "data": {
      "text/plain": [
       "(1,)"
      ]
     },
     "execution_count": 91,
     "metadata": {},
     "output_type": "execute_result"
    }
   ],
   "source": [
    "aa.shape"
   ]
  },
  {
   "cell_type": "code",
   "execution_count": null,
   "id": "e6272cfa",
   "metadata": {},
   "outputs": [],
   "source": []
  },
  {
   "cell_type": "code",
   "execution_count": 67,
   "id": "a6e06aa5",
   "metadata": {},
   "outputs": [
    {
     "ename": "IndexError",
     "evalue": "too many indices for array: array is 0-dimensional, but 1 were indexed",
     "output_type": "error",
     "traceback": [
      "\u001b[1;31m---------------------------------------------------------------------------\u001b[0m",
      "\u001b[1;31mIndexError\u001b[0m                                Traceback (most recent call last)",
      "\u001b[1;32mC:\\Users\\SOMMER~1\\AppData\\Local\\Temp/ipykernel_16264/159288381.py\u001b[0m in \u001b[0;36m<module>\u001b[1;34m\u001b[0m\n\u001b[1;32m----> 1\u001b[1;33m \u001b[0maxs\u001b[0m\u001b[1;33m[\u001b[0m\u001b[1;36m0\u001b[0m\u001b[1;33m]\u001b[0m\u001b[1;33m\u001b[0m\u001b[1;33m\u001b[0m\u001b[0m\n\u001b[0m",
      "\u001b[1;31mIndexError\u001b[0m: too many indices for array: array is 0-dimensional, but 1 were indexed"
     ]
    }
   ],
   "source": [
    "axs[0]"
   ]
  },
  {
   "cell_type": "code",
   "execution_count": null,
   "id": "5ce60d49",
   "metadata": {},
   "outputs": [],
   "source": []
  },
  {
   "cell_type": "code",
   "execution_count": null,
   "id": "29d4ecda",
   "metadata": {},
   "outputs": [],
   "source": []
  },
  {
   "cell_type": "code",
   "execution_count": 44,
   "id": "5d5b9140",
   "metadata": {
    "scrolled": true
   },
   "outputs": [
    {
     "data": {
      "image/png": "[encoded data removed]",
      "text/plain": [
       "<Figure size 432x288 with 3 Axes>"
      ]
     },
     "metadata": {
      "needs_background": "light"
     },
     "output_type": "display_data"
    }
   ],
   "source": [
    "fig, axs = plt.subplots(3,1)\n",
    "\n",
    "for ii in range(len(axs)):\n",
    "    axs[ii].imshow(AA[ii])\n",
    "#     plt.colorbar()\n",
    "    \n",
    "# plt.colorbar()"
   ]
  },
  {
   "cell_type": "code",
   "execution_count": 113,
   "id": "39ccfb7f",
   "metadata": {},
   "outputs": [
    {
     "data": {
      "text/plain": [
       "<matplotlib.collections.PolyCollection at 0x17fe337b978>"
      ]
     },
     "execution_count": 113,
     "metadata": {},
     "output_type": "execute_result"
    },
    {
     "data": {
      "image/png": "[encoded data removed]",
      "text/plain": [
       "<Figure size 432x288 with 1 Axes>"
      ]
     },
     "metadata": {
      "needs_background": "light"
     },
     "output_type": "display_data"
    }
   ],
   "source": [
    "plt.subplot(3,1,1)\n",
    "plt.pcolor(AA[0])\n",
    "\n",
    "# plt.subplot(1,3,1)\n",
    "# plt.pcolor(AA[1])\n",
    "\n",
    "# plt.subplot(3,1,3)\n",
    "# plt.pcolor(AA[2])"
   ]
  },
  {
   "cell_type": "code",
   "execution_count": 15,
   "id": "da4cd7c0",
   "metadata": {},
   "outputs": [
    {
     "data": {
      "text/plain": [
       "<matplotlib.colorbar.Colorbar at 0x29f204c6dd8>"
      ]
     },
     "execution_count": 15,
     "metadata": {},
     "output_type": "execute_result"
    },
    {
     "data": {
      "image/png": "[encoded data removed]",
      "text/plain": [
       "<Figure size 432x288 with 2 Axes>"
      ]
     },
     "metadata": {
      "needs_background": "light"
     },
     "output_type": "display_data"
    }
   ],
   "source": [
    "plt.imshow(AA[2])\n",
    "plt.colorbar()"
   ]
  },
  {
   "cell_type": "code",
   "execution_count": 8,
   "id": "f2e3f091",
   "metadata": {},
   "outputs": [
    {
     "data": {
      "text/plain": [
       "<matplotlib.colorbar.Colorbar at 0x217c962be48>"
      ]
     },
     "execution_count": 8,
     "metadata": {},
     "output_type": "execute_result"
    },
    {
     "data": {
      "image/png": "[encoded data removed]",
      "text/plain": [
       "<Figure size 432x288 with 5 Axes>"
      ]
     },
     "metadata": {
      "needs_background": "light"
     },
     "output_type": "display_data"
    }
   ],
   "source": [
    "fig, axes = plt.subplots(nrows=2, ncols=2, sharex=True, sharey=True)\n",
    "  \n",
    "for ax in axes.flat:\n",
    "    im = ax.imshow(np.random.random((10, 10)), vmin=0, vmax=1)\n",
    "    \n",
    "plt.colorbar(im, ax=axes.ravel().tolist())"
   ]
  },
  {
   "cell_type": "code",
   "execution_count": 23,
   "id": "8919ceb5",
   "metadata": {},
   "outputs": [
    {
     "data": {
      "text/plain": [
       "(4,)"
      ]
     },
     "execution_count": 23,
     "metadata": {},
     "output_type": "execute_result"
    }
   ],
   "source": [
    "axes.ravel().shape"
   ]
  },
  {
   "cell_type": "code",
   "execution_count": 24,
   "id": "98e67608",
   "metadata": {},
   "outputs": [
    {
     "data": {
      "text/plain": [
       "(4,)"
      ]
     },
     "execution_count": 24,
     "metadata": {},
     "output_type": "execute_result"
    }
   ],
   "source": [
    "axes.flatten().shape"
   ]
  },
  {
   "cell_type": "code",
   "execution_count": 26,
   "id": "0a6400ad",
   "metadata": {},
   "outputs": [],
   "source": [
    "ax=axes.ravel().tolist()"
   ]
  },
  {
   "cell_type": "code",
   "execution_count": 27,
   "id": "dd4f5a16",
   "metadata": {},
   "outputs": [
    {
     "data": {
      "text/plain": [
       "[<AxesSubplot:>, <AxesSubplot:>, <AxesSubplot:>, <AxesSubplot:>]"
      ]
     },
     "execution_count": 27,
     "metadata": {},
     "output_type": "execute_result"
    }
   ],
   "source": [
    "ax"
   ]
  },
  {
   "cell_type": "code",
   "execution_count": 29,
   "id": "e5d326bd",
   "metadata": {},
   "outputs": [
    {
     "data": {
      "text/plain": [
       "array([[0.97169886, 0.65668476, 0.02688219],\n",
       "       [0.64657241, 0.02991465, 0.72120143]])"
      ]
     },
     "execution_count": 29,
     "metadata": {},
     "output_type": "execute_result"
    }
   ],
   "source": [
    "AA = np.random.rand(2,3)\n",
    "AA"
   ]
  },
  {
   "cell_type": "code",
   "execution_count": 32,
   "id": "bfd55de5",
   "metadata": {},
   "outputs": [
    {
     "data": {
      "text/plain": [
       "numpy.flatiter"
      ]
     },
     "execution_count": 32,
     "metadata": {},
     "output_type": "execute_result"
    }
   ],
   "source": [
    "type(AA.flat)"
   ]
  },
  {
   "cell_type": "code",
   "execution_count": 36,
   "id": "8de04caa",
   "metadata": {},
   "outputs": [
    {
     "data": {
      "text/plain": [
       "(6,)"
      ]
     },
     "execution_count": 36,
     "metadata": {},
     "output_type": "execute_result"
    }
   ],
   "source": [
    "AA.flatten().shape"
   ]
  },
  {
   "cell_type": "code",
   "execution_count": 37,
   "id": "03341cb1",
   "metadata": {},
   "outputs": [
    {
     "data": {
      "text/plain": [
       "(6,)"
      ]
     },
     "execution_count": 37,
     "metadata": {},
     "output_type": "execute_result"
    }
   ],
   "source": [
    "AA.ravel().shape"
   ]
  },
  {
   "cell_type": "code",
   "execution_count": 16,
   "id": "964da3f5",
   "metadata": {},
   "outputs": [],
   "source": [
    "np.random.randint?"
   ]
  },
  {
   "cell_type": "code",
   "execution_count": 5,
   "id": "404a9fd2",
   "metadata": {},
   "outputs": [],
   "source": [
    "aa = np.random.randint(1,50,10)\n",
    "bb = np.random.randint(1,50,10)"
   ]
  },
  {
   "cell_type": "code",
   "execution_count": 6,
   "id": "330a1eb7",
   "metadata": {},
   "outputs": [
    {
     "data": {
      "text/plain": [
       "array([39,  3,  2, 41, 46, 28,  1,  9, 20, 11])"
      ]
     },
     "execution_count": 6,
     "metadata": {},
     "output_type": "execute_result"
    }
   ],
   "source": [
    "aa"
   ]
  },
  {
   "cell_type": "code",
   "execution_count": 11,
   "id": "747cc4d5",
   "metadata": {},
   "outputs": [
    {
     "ename": "AttributeError",
     "evalue": "'numpy.ndarray' object has no attribute 'median'",
     "output_type": "error",
     "traceback": [
      "\u001b[1;31m---------------------------------------------------------------------------\u001b[0m",
      "\u001b[1;31mAttributeError\u001b[0m                            Traceback (most recent call last)",
      "\u001b[1;32mC:\\Users\\SOMMER~1\\AppData\\Local\\Temp/ipykernel_9304/415783020.py\u001b[0m in \u001b[0;36m<module>\u001b[1;34m\u001b[0m\n\u001b[1;32m----> 1\u001b[1;33m \u001b[0maa\u001b[0m\u001b[1;33m.\u001b[0m\u001b[0mmedian\u001b[0m\u001b[1;33m(\u001b[0m\u001b[1;33m)\u001b[0m\u001b[1;33m\u001b[0m\u001b[1;33m\u001b[0m\u001b[0m\n\u001b[0m",
      "\u001b[1;31mAttributeError\u001b[0m: 'numpy.ndarray' object has no attribute 'median'"
     ]
    }
   ],
   "source": [
    "aa.median()"
   ]
  },
  {
   "cell_type": "code",
   "execution_count": 7,
   "id": "f4156ce6",
   "metadata": {},
   "outputs": [
    {
     "data": {
      "text/plain": [
       "array([ 7, 35, 49,  8, 26,  9, 14, 25, 26,  4])"
      ]
     },
     "execution_count": 7,
     "metadata": {},
     "output_type": "execute_result"
    }
   ],
   "source": [
    "bb"
   ]
  },
  {
   "cell_type": "code",
   "execution_count": 22,
   "id": "3913d9b1",
   "metadata": {},
   "outputs": [],
   "source": [
    "grid = np.meshgrid(aa, bb)"
   ]
  },
  {
   "cell_type": "code",
   "execution_count": 23,
   "id": "bea1d9eb",
   "metadata": {},
   "outputs": [
    {
     "data": {
      "text/plain": [
       "[array([[44,  8, 16, 15],\n",
       "        [44,  8, 16, 15],\n",
       "        [44,  8, 16, 15],\n",
       "        [44,  8, 16, 15]]),\n",
       " array([[22, 22, 22, 22],\n",
       "        [36, 36, 36, 36],\n",
       "        [43, 43, 43, 43],\n",
       "        [30, 30, 30, 30]])]"
      ]
     },
     "execution_count": 23,
     "metadata": {},
     "output_type": "execute_result"
    }
   ],
   "source": [
    "grid"
   ]
  },
  {
   "cell_type": "code",
   "execution_count": 24,
   "id": "4bf47bb0",
   "metadata": {},
   "outputs": [
    {
     "data": {
      "text/plain": [
       "array([44,  8, 16, 15, 44,  8, 16, 15, 44,  8, 16, 15, 44,  8, 16, 15])"
      ]
     },
     "execution_count": 24,
     "metadata": {},
     "output_type": "execute_result"
    }
   ],
   "source": [
    "grid[0].ravel()"
   ]
  },
  {
   "cell_type": "code",
   "execution_count": 26,
   "id": "d513be7d",
   "metadata": {},
   "outputs": [
    {
     "data": {
      "text/plain": [
       "array([[44,  8, 16, 15, 44,  8, 16, 15, 44,  8, 16, 15, 44,  8, 16, 15],\n",
       "       [22, 22, 22, 22, 36, 36, 36, 36, 43, 43, 43, 43, 30, 30, 30, 30]])"
      ]
     },
     "execution_count": 26,
     "metadata": {},
     "output_type": "execute_result"
    }
   ],
   "source": [
    "np.vstack( (grid[0].ravel(), grid[1].ravel()) )"
   ]
  },
  {
   "cell_type": "code",
   "execution_count": 34,
   "id": "7d235095",
   "metadata": {},
   "outputs": [
    {
     "data": {
      "text/plain": [
       "array([[ True,  True,  True,  True],\n",
       "       [ True,  True,  True,  True],\n",
       "       [ True,  True,  True,  True],\n",
       "       [ True,  True,  True,  True]])"
      ]
     },
     "execution_count": 34,
     "metadata": {},
     "output_type": "execute_result"
    }
   ],
   "source": [
    "np.ones_like(grid[0], dtype=bool)"
   ]
  },
  {
   "cell_type": "code",
   "execution_count": 42,
   "id": "fbbcb777",
   "metadata": {},
   "outputs": [
    {
     "data": {
      "text/plain": [
       "array([ True,  True,  True,  True,  True,  True,  True,  True,  True,\n",
       "        True])"
      ]
     },
     "execution_count": 42,
     "metadata": {},
     "output_type": "execute_result"
    }
   ],
   "source": [
    "mask = np.full(aa.shape, True)\n",
    "mask"
   ]
  },
  {
   "cell_type": "code",
   "execution_count": 43,
   "id": "469713d4",
   "metadata": {},
   "outputs": [],
   "source": [
    "mask[3:-3] = False"
   ]
  },
  {
   "cell_type": "code",
   "execution_count": 44,
   "id": "0d537aca",
   "metadata": {},
   "outputs": [
    {
     "data": {
      "text/plain": [
       "array([ True,  True,  True, False, False, False, False,  True,  True,\n",
       "        True])"
      ]
     },
     "execution_count": 44,
     "metadata": {},
     "output_type": "execute_result"
    }
   ],
   "source": [
    "mask"
   ]
  },
  {
   "cell_type": "code",
   "execution_count": 52,
   "id": "6b65e41c",
   "metadata": {},
   "outputs": [
    {
     "data": {
      "text/plain": [
       "array([-4.22144870e-04,  2.38517060e-02,  1.27482701e-01,  1.12902784e+01])"
      ]
     },
     "execution_count": 52,
     "metadata": {},
     "output_type": "execute_result"
    }
   ],
   "source": [
    "pp = np.polyfit(aa, bb, 3)\n",
    "pp"
   ]
  },
  {
   "cell_type": "code",
   "execution_count": 53,
   "id": "d1614371",
   "metadata": {},
   "outputs": [],
   "source": [
    "xx = np.arange(aa.min(), aa.max(), 0.1)\n",
    "yy = pp[0] * xx**3 + pp[1] * xx**2 + pp[2] * xx + pp[3]"
   ]
  },
  {
   "cell_type": "code",
   "execution_count": 54,
   "id": "0c804bf9",
   "metadata": {},
   "outputs": [
    {
     "data": {
      "text/plain": [
       "[<matplotlib.lines.Line2D at 0x17c5d1bafd0>,\n",
       " <matplotlib.lines.Line2D at 0x17c5d0a16a0>]"
      ]
     },
     "execution_count": 54,
     "metadata": {},
     "output_type": "execute_result"
    },
    {
     "data": {
      "image/png": "[encoded data removed]",
      "text/plain": [
       "<Figure size 432x288 with 1 Axes>"
      ]
     },
     "metadata": {
      "needs_background": "light"
     },
     "output_type": "display_data"
    }
   ],
   "source": [
    "plt.plot(xx, yy, aa, bb, 'x')"
   ]
  },
  {
   "cell_type": "code",
   "execution_count": 55,
   "id": "c44b93e7",
   "metadata": {},
   "outputs": [
    {
     "data": {
      "text/plain": [
       "array([34, 24, 21, 28, 29, 42, 33, 48,  6, 37])"
      ]
     },
     "execution_count": 55,
     "metadata": {},
     "output_type": "execute_result"
    }
   ],
   "source": [
    "aa"
   ]
  },
  {
   "cell_type": "code",
   "execution_count": 56,
   "id": "a775008a",
   "metadata": {},
   "outputs": [
    {
     "data": {
      "text/plain": [
       "7"
      ]
     },
     "execution_count": 56,
     "metadata": {},
     "output_type": "execute_result"
    }
   ],
   "source": [
    "np.argmax(aa)"
   ]
  },
  {
   "cell_type": "code",
   "execution_count": 66,
   "id": "c03d7146",
   "metadata": {},
   "outputs": [
    {
     "data": {
      "text/plain": [
       "32.0"
      ]
     },
     "execution_count": 66,
     "metadata": {},
     "output_type": "execute_result"
    }
   ],
   "source": [
    "aa.max()/1.5"
   ]
  },
  {
   "cell_type": "code",
   "execution_count": 67,
   "id": "17547aa0",
   "metadata": {},
   "outputs": [
    {
     "data": {
      "text/plain": [
       "5"
      ]
     },
     "execution_count": 67,
     "metadata": {},
     "output_type": "execute_result"
    }
   ],
   "source": [
    "(aa < aa.max()/1.5).sum()"
   ]
  },
  {
   "cell_type": "code",
   "execution_count": 69,
   "id": "bbb7d4c8",
   "metadata": {},
   "outputs": [
    {
     "data": {
      "text/plain": [
       "42"
      ]
     },
     "execution_count": 69,
     "metadata": {},
     "output_type": "execute_result"
    }
   ],
   "source": [
    "np.ptp(aa)"
   ]
  },
  {
   "cell_type": "code",
   "execution_count": 71,
   "id": "b782e3aa",
   "metadata": {},
   "outputs": [
    {
     "data": {
      "text/plain": [
       "42"
      ]
     },
     "execution_count": 71,
     "metadata": {},
     "output_type": "execute_result"
    }
   ],
   "source": [
    "aa.ptp()"
   ]
  },
  {
   "cell_type": "code",
   "execution_count": null,
   "id": "77410882",
   "metadata": {},
   "outputs": [],
   "source": []
  }
 ],
 "metadata": {
  "kernelspec": {
   "display_name": "Python 3 (ipykernel)",
   "language": "python",
   "name": "python3"
  },
  "language_info": {
   "codemirror_mode": {
    "name": "ipython",
    "version": 3
   },
   "file_extension": ".py",
   "mimetype": "text/x-python",
   "name": "python",
   "nbconvert_exporter": "python",
   "pygments_lexer": "ipython3",
   "version": "3.7.3"
  }
 },
 "nbformat": 4,
 "nbformat_minor": 5
}
