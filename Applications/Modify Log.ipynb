{
 "cells": [
  {
   "cell_type": "code",
   "execution_count": 1,
   "id": "552dfc2c",
   "metadata": {},
   "outputs": [],
   "source": [
    "import sys\n",
    "# sys.path.append(r'C:\\Users\\Sommer Lab\\Documents\\Analysis Code')\n",
    "import os\n",
    "from scipy.optimize import curve_fit\n",
    "from scipy.ndimage import rotate\n",
    "from scipy.integrate import simpson\n",
    "\n",
    "# from ImageAnalysis import ImageAnalysisCode\n",
    "import numpy as np\n",
    "import matplotlib.pyplot as plt\n",
    "import pandas as pd\n",
    "import datetime"
   ]
  },
  {
   "cell_type": "code",
   "execution_count": 63,
   "id": "3bcc738a",
   "metadata": {},
   "outputs": [],
   "source": [
    "def getFileTime(data_folder, picturesPerIteration=3):\n",
    "    \n",
    "    number_of_pics = np.sum(['spool.dat' in ii for ii in filenames])\n",
    "    assert number_of_pics % picturesPerIteration == 0\n",
    "    number_of_iterations = int(number_of_pics/picturesPerIteration)\n",
    "    \n",
    "    #read the whole kinetic series, bg correct, and load all images into a numpy array called image-array_correcpted\n",
    "\n",
    "    fileTime = []\n",
    "    for x in range(number_of_pics): \n",
    "        if x % picturesPerIteration == 0:\n",
    "            filePath = os.path.join(data_folder, '{:010d}'.format(x)[::-1]) + \"spool.dat\" \n",
    "            fileTime.append( datetime.datetime.fromtimestamp( os.path.getctime(filePath) ) )\n",
    "            \n",
    "    return fileTime"
   ]
  },
  {
   "cell_type": "code",
   "execution_count": 94,
   "id": "8245181d",
   "metadata": {},
   "outputs": [],
   "source": [
    "dataFolder = r'C:\\Users\\Sommer Lab\\Documents\\Data\\2023\\09-2023\\28 Sep 2023\\Andor\\MOT and ODT Movement data_2'\n",
    "dataTimes = getFileTime(dataFolder)"
   ]
  },
  {
   "cell_type": "code",
   "execution_count": 97,
   "id": "f01dacd2",
   "metadata": {},
   "outputs": [],
   "source": [
    "logFolder = r'Z:\\ats317group\\Data\\2023\\09-2023\\28 Sep 2023'\n",
    "\n",
    "logFileNames = os.listdir(logFolder)\n",
    "logFileNames.sort(reverse=True)"
   ]
  },
  {
   "cell_type": "code",
   "execution_count": 96,
   "id": "01b42496",
   "metadata": {
    "scrolled": true
   },
   "outputs": [
    {
     "name": "stdout",
     "output_type": "stream",
     "text": [
      "In folder Z:\\ats317group\\Data\\2023\\09-2023\\28 Sep 2023\\Variable Logs:\n",
      "Changed log file Variables_2023_09_28_19_03_43_0.txt.\n",
      "Changed log file Variables_2023_09_28_19_03_36_0.txt.\n",
      "Changed log file Variables_2023_09_28_19_03_30_0.txt.\n",
      "Changed log file Variables_2023_09_28_19_03_24_0.txt.\n",
      "Changed log file Variables_2023_09_28_19_03_17_0.txt.\n",
      "Changed log file Variables_2023_09_28_19_03_11_0.txt.\n",
      "Changed log file Variables_2023_09_28_19_03_05_0.txt.\n",
      "Changed log file Variables_2023_09_28_19_02_59_0.txt.\n",
      "Changed log file Variables_2023_09_28_19_02_52_0.txt.\n",
      "Changed log file Variables_2023_09_28_19_02_46_0.txt.\n",
      "Changed log file Variables_2023_09_28_19_02_40_0.txt.\n",
      "Changed log file Variables_2023_09_28_19_02_33_0.txt.\n",
      "Changed log file Variables_2023_09_28_19_02_27_0.txt.\n",
      "Changed log file Variables_2023_09_28_19_02_20_0.txt.\n",
      "Changed log file Variables_2023_09_28_19_02_14_0.txt.\n",
      "Changed log file Variables_2023_09_28_19_02_08_0.txt.\n",
      "Changed log file Variables_2023_09_28_19_02_01_0.txt.\n",
      "Changed log file Variables_2023_09_28_19_01_55_0.txt.\n",
      "Changed log file Variables_2023_09_28_19_01_49_0.txt.\n",
      "Changed log file Variables_2023_09_28_19_01_43_0.txt.\n",
      "Changed log file Variables_2023_09_28_19_01_36_0.txt.\n",
      "Changed log file Variables_2023_09_28_19_01_30_0.txt.\n",
      "Changed log file Variables_2023_09_28_19_01_24_0.txt.\n",
      "Changed log file Variables_2023_09_28_19_01_17_0.txt.\n",
      "Changed log file Variables_2023_09_28_19_01_11_0.txt.\n",
      "Changed log file Variables_2023_09_28_19_01_05_0.txt.\n",
      "Changed log file Variables_2023_09_28_19_00_58_0.txt.\n",
      "Changed log file Variables_2023_09_28_19_00_52_0.txt.\n",
      "Changed log file Variables_2023_09_28_19_00_46_0.txt.\n",
      "Changed log file Variables_2023_09_28_19_00_39_0.txt.\n"
     ]
    }
   ],
   "source": [
    "print('In folder {}:'.format(logFolder))\n",
    "for ff in logFileNames:    \n",
    "    logFilePath = os.path.join(logFolder, ff)  \n",
    "#     logTime = datetime.datetime.strptime(ff, 'Variables_%Y_%m_%d_%H_%M_%S_0.txt')\n",
    "    logTime = datetime.datetime.fromtimestamp( os.path.getctime(logFilePath) )\n",
    "#     print(ff)\n",
    "    if logTime < np.max(dataTimes):\n",
    "        with open(logFilePath, \"r+\") as f:\n",
    "            old = f.read() # read everything in the file\n",
    "            f.seek(0) # rewind\n",
    "            f.write(old.replace('ODT_Position = 2', 'ODT_Position = 3'))\n",
    "        print('Changed log file {}.'.format(ff))\n",
    "    if logTime < np.min(dataTimes):\n",
    "        break"
   ]
  },
  {
   "cell_type": "code",
   "execution_count": null,
   "id": "1e2ab681",
   "metadata": {},
   "outputs": [],
   "source": []
  }
 ],
 "metadata": {
  "kernelspec": {
   "display_name": "Python 3 (ipykernel)",
   "language": "python",
   "name": "python3"
  },
  "language_info": {
   "codemirror_mode": {
    "name": "ipython",
    "version": 3
   },
   "file_extension": ".py",
   "mimetype": "text/x-python",
   "name": "python",
   "nbconvert_exporter": "python",
   "pygments_lexer": "ipython3",
   "version": "3.7.3"
  }
 },
 "nbformat": 4,
 "nbformat_minor": 5
}
