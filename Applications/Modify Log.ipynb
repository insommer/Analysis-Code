{
 "cells": [
  {
   "cell_type": "code",
   "execution_count": 1,
   "id": "eee04504",
   "metadata": {},
   "outputs": [],
   "source": [
    "import sys\n",
    "# sys.path.append(r'C:\\Users\\Sommer Lab\\Documents\\Analysis Code')\n",
    "import os\n",
    "from scipy.optimize import curve_fit\n",
    "from scipy.ndimage import rotate\n",
    "from scipy.integrate import simpson\n",
    "\n",
    "# from ImageAnalysis import ImageAnalysisCode\n",
    "import numpy as np\n",
    "import matplotlib.pyplot as plt\n",
    "import pandas as pd\n",
    "import datetime"
   ]
  },
  {
   "cell_type": "code",
   "execution_count": 16,
   "id": "98fc1946",
   "metadata": {},
   "outputs": [],
   "source": [
    "folderPath = r'C:\\Users\\Sommer Lab\\Documents\\Data\\2023\\09-2023\\28 Sep 2023'\n",
    "fileName = 'Variables_2023_09_28_12_03_09_0.txt'\n",
    "\n",
    "filePath = os.path.join(folderPath, fileName)"
   ]
  },
  {
   "cell_type": "code",
   "execution_count": 21,
   "id": "2b0cf809",
   "metadata": {},
   "outputs": [],
   "source": [
    "with open(filePath, \"r+\") as f:\n",
    "    old = f.read() # read everything in the file\n",
    "#     print(type(old))\n",
    "    \n",
    "#     print(old.replace('new line', '#########\\n###########'))\n",
    "    \n",
    "    \n",
    "        \n",
    "    f.seek(0) # rewind\n",
    "    f.write(old.replace('piezoY = 5', 'piezoY = 99'))\n",
    "#     f.write(\"new line\\n\") # write the new line before"
   ]
  },
  {
   "cell_type": "code",
   "execution_count": null,
   "id": "8609962f",
   "metadata": {},
   "outputs": [],
   "source": []
  }
 ],
 "metadata": {
  "kernelspec": {
   "display_name": "Python 3 (ipykernel)",
   "language": "python",
   "name": "python3"
  },
  "language_info": {
   "codemirror_mode": {
    "name": "ipython",
    "version": 3
   },
   "file_extension": ".py",
   "mimetype": "text/x-python",
   "name": "python",
   "nbconvert_exporter": "python",
   "pygments_lexer": "ipython3",
   "version": "3.7.3"
  }
 },
 "nbformat": 4,
 "nbformat_minor": 5
}
