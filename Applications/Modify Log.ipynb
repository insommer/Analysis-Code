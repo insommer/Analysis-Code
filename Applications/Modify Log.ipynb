{
 "cells": [
  {
   "cell_type": "code",
   "execution_count": 16,
   "id": "72817752-2bf0-44fd-afee-c8afe1e05af6",
   "metadata": {},
   "outputs": [
    {
     "name": "stdout",
     "output_type": "stream",
     "text": [
      "C:\\Users\\Sommer Lab\\Documents\\Analysis Code\n"
     ]
    }
   ],
   "source": [
    "cd .."
   ]
  },
  {
   "cell_type": "code",
   "execution_count": 17,
   "id": "552dfc2c",
   "metadata": {},
   "outputs": [],
   "source": [
    "import os\n",
    "\n",
    "from ImageAnalysis import ImageAnalysisCode\n",
    "import numpy as np\n",
    "import matplotlib.pyplot as plt\n",
    "import pandas as pd\n",
    "import datetime"
   ]
  },
  {
   "cell_type": "code",
   "execution_count": 20,
   "id": "3bcc738a",
   "metadata": {},
   "outputs": [],
   "source": [
    "def getFileTime(data_folder, picturesPerIteration=3):\n",
    "    \n",
    "    filenames = ImageAnalysisCode.GetFileNames(data_folder, picsPerIteration=picturesPerIteration)    \n",
    "    number_of_pics = len(filenames)\n",
    "    assert number_of_pics % picturesPerIteration == 0\n",
    "    number_of_iterations = int(number_of_pics/picturesPerIteration)\n",
    "    \n",
    "    fileTime = []\n",
    "    for x, f in enumerate(filenames): \n",
    "        if x % picturesPerIteration == 0:\n",
    "            filePath = os.path.join(data_folder, f) \n",
    "            fileTime.append( datetime.datetime.fromtimestamp( os.path.getctime(filePath) ) )\n",
    "            \n",
    "    return fileTime"
   ]
  },
  {
   "cell_type": "code",
   "execution_count": 13,
   "id": "f01dacd2",
   "metadata": {},
   "outputs": [],
   "source": [
    "# The folder contains the logs\n",
    "\n",
    "logFolder = r'D:\\Dropbox (Lehigh University)\\Sommer Lab Shared\\Data\\2024\\03-2024\\25 Mar 2024\\Variable Logs'\n",
    "\n",
    "logFileNames = os.listdir(logFolder)\n",
    "logFileNames.sort(reverse=True)"
   ]
  },
  {
   "cell_type": "code",
   "execution_count": 25,
   "id": "38e9de58",
   "metadata": {},
   "outputs": [],
   "source": [
    "# The folder of the data of which the logs you want to modify \n",
    "dataFolder = r'D:\\Dropbox (Lehigh University)\\Sommer Lab Shared\\Data\\2024\\03-2024\\25 Mar 2024\\Andor\\GM Cloud 3400 at 0 wait'\n",
    "dataTimes = getFileTime(dataFolder, picturesPerIteration=4)\n",
    "\n",
    "t1 = np.min(dataTimes)\n",
    "t2 = np.max(dataTimes)"
   ]
  },
  {
   "cell_type": "code",
   "execution_count": null,
   "id": "493e9afd",
   "metadata": {},
   "outputs": [],
   "source": [
    "### Use this to specify the starting and ending files if you know the exact files\n",
    "\n",
    "fileStart = os.path.join(logFolder, 'Variables_2024_01_08_11_10_40_0.txt')\n",
    "fileEnd = os.path.join(logFolder, 'Variables_2024_01_08_17_45_16_0.txt')\n",
    "\n",
    "t1 = datetime.datetime.fromtimestamp( os.path.getctime(fileStart) )\n",
    "t2 = datetime.datetime.fromtimestamp( os.path.getctime(fileEnd)+1 )\n",
    "print(t1, t2)"
   ]
  },
  {
   "cell_type": "code",
   "execution_count": null,
   "id": "a0ebd50c",
   "metadata": {},
   "outputs": [],
   "source": []
  },
  {
   "cell_type": "code",
   "execution_count": 26,
   "id": "1eb3fd69",
   "metadata": {},
   "outputs": [],
   "source": [
    "original = 'ODT Position = -1'\n",
    "modified = 'ODT Position = 3400'\n",
    "\n",
    "\n",
    "# original = 'Burnt In = 1'\n",
    "# modified = 'Burnt In = 0'"
   ]
  },
  {
   "cell_type": "code",
   "execution_count": null,
   "id": "a12f5281",
   "metadata": {},
   "outputs": [],
   "source": []
  },
  {
   "cell_type": "code",
   "execution_count": 27,
   "id": "01b42496",
   "metadata": {},
   "outputs": [
    {
     "name": "stdout",
     "output_type": "stream",
     "text": [
      "In folder D:\\Dropbox (Lehigh University)\\Sommer Lab Shared\\Data\\2024\\03-2024\\25 Mar 2024\\Variable Logs:\n",
      "Changed log file Variables_2024_03_25_18_25_04_0.txt.\n",
      "Changed log file Variables_2024_03_25_18_24_51_0.txt.\n",
      "Changed log file Variables_2024_03_25_18_24_38_0.txt.\n",
      "Changed log file Variables_2024_03_25_18_24_26_0.txt.\n",
      "Changed log file Variables_2024_03_25_18_24_13_0.txt.\n",
      "Changed log file Variables_2024_03_25_18_24_01_0.txt.\n",
      "6 files were changed.\n"
     ]
    }
   ],
   "source": [
    "print('In folder {}:'.format(logFolder))\n",
    "\n",
    "ii = 0\n",
    "for ff in logFileNames:    \n",
    "    logFilePath = os.path.join(logFolder, ff)  \n",
    "#     logTime = datetime.datetime.strptime(ff, 'Variables_%Y_%m_%d_%H_%M_%S_0.txt')\n",
    "    logTime = datetime.datetime.fromtimestamp( os.path.getctime(logFilePath) )\n",
    "#     print(ff)\n",
    "    if logTime < t2:\n",
    "        with open(logFilePath, \"r+\") as f:\n",
    "            old = f.read() # read everything in the file\n",
    "            f.seek(0) # rewind            \n",
    "            f.truncate(0)\n",
    "            f.write(old.replace(original, modified))\n",
    "        print('Changed log file {}.'.format(ff))\n",
    "        ii += 1\n",
    "    if logTime < t1:\n",
    "        break\n",
    "print('{} files were changed.'.format(ii))"
   ]
  },
  {
   "cell_type": "code",
   "execution_count": null,
   "id": "8acb9bfa",
   "metadata": {},
   "outputs": [],
   "source": []
  },
  {
   "cell_type": "code",
   "execution_count": null,
   "id": "f0fc8649",
   "metadata": {},
   "outputs": [],
   "source": []
  },
  {
   "cell_type": "code",
   "execution_count": 10,
   "id": "64e7dca6",
   "metadata": {
    "scrolled": true
   },
   "outputs": [],
   "source": [
    "filePath = r'Z:\\ats317group\\Data\\2023\\11-2023\\30 Nov 2023\\Variables_2023_11_30_18_56_01_0.txt'"
   ]
  },
  {
   "cell_type": "code",
   "execution_count": 11,
   "id": "b307e90e",
   "metadata": {},
   "outputs": [],
   "source": [
    "original = 'ODT Position = 1200'\n",
    "modified = 'ODT Position = -1'"
   ]
  },
  {
   "cell_type": "code",
   "execution_count": 12,
   "id": "b7579ac5",
   "metadata": {},
   "outputs": [],
   "source": [
    "with open(filePath, \"r+\") as f:\n",
    "    old = f.read() # read everything in the file\n",
    "    f.seek(0) # rewind            \n",
    "    f.truncate(0)\n",
    "    f.write(old.replace(original, modified))\n",
    "#     f.write('asdf')"
   ]
  },
  {
   "cell_type": "code",
   "execution_count": 23,
   "id": "7cc25ac7",
   "metadata": {},
   "outputs": [],
   "source": [
    "with open(filePath, \"r+\") as f:\n",
    "    old = f.read() # read everything in the file\n",
    "    f.truncate(0)\n",
    "    f.seek(0) # rewind            \n",
    "#     f.write(old.replace('Lens Position = 9', 'Lens Position = 1'))\n",
    "    f.write('asdf')"
   ]
  },
  {
   "cell_type": "code",
   "execution_count": null,
   "id": "14779985",
   "metadata": {},
   "outputs": [],
   "source": []
  }
 ],
 "metadata": {
  "kernelspec": {
   "display_name": "Python 3 (ipykernel)",
   "language": "python",
   "name": "python3"
  },
  "language_info": {
   "codemirror_mode": {
    "name": "ipython",
    "version": 3
   },
   "file_extension": ".py",
   "mimetype": "text/x-python",
   "name": "python",
   "nbconvert_exporter": "python",
   "pygments_lexer": "ipython3",
   "version": "3.7.3"
  }
 },
 "nbformat": 4,
 "nbformat_minor": 5
}
