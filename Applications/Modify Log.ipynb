{
 "cells": [
  {
   "cell_type": "code",
   "execution_count": 1,
   "id": "552dfc2c",
   "metadata": {},
   "outputs": [],
   "source": [
    "import os\n",
    "\n",
    "# from ImageAnalysis import ImageAnalysisCode\n",
    "import numpy as np\n",
    "import matplotlib.pyplot as plt\n",
    "import pandas as pd\n",
    "import datetime"
   ]
  },
  {
   "cell_type": "code",
   "execution_count": 14,
   "id": "3bcc738a",
   "metadata": {},
   "outputs": [],
   "source": [
    "def getFileTime(data_folder, picturesPerIteration=3):\n",
    "    \n",
    "    filenames = os.listdir(data_folder)    \n",
    "    number_of_pics = np.sum(['spool.dat' in ii for ii in filenames])\n",
    "    assert number_of_pics % picturesPerIteration == 0\n",
    "    number_of_iterations = int(number_of_pics/picturesPerIteration)\n",
    "    \n",
    "    #read the whole kinetic series, bg correct, and load all images into a numpy array called image-array_correcpted\n",
    "\n",
    "    fileTime = []\n",
    "    for x in range(number_of_pics): \n",
    "        if x % picturesPerIteration == 0:\n",
    "            filePath = os.path.join(data_folder, '{:010d}'.format(x)[::-1]) + \"spool.dat\" \n",
    "            fileTime.append( datetime.datetime.fromtimestamp( os.path.getctime(filePath) ) )\n",
    "            \n",
    "    return fileTime"
   ]
  },
  {
   "cell_type": "code",
   "execution_count": 15,
   "id": "8245181d",
   "metadata": {},
   "outputs": [],
   "source": [
    "# The folder of the data of which the logs you want to modify \n",
    "dataFolder = r'Z:\\ats317group\\Data\\2023\\11-2023\\30 Nov 2023\\Andor\\ODT Position 1200 Bias Scan CMOT'\n",
    "dataTimes = getFileTime(dataFolder, picturesPerIteration=4)\n",
    "\n",
    "t1 = np.min(dataTimes)\n",
    "t2 = np.max(dataTimes)"
   ]
  },
  {
   "cell_type": "code",
   "execution_count": 16,
   "id": "f01dacd2",
   "metadata": {},
   "outputs": [],
   "source": [
    "# The folder contains the logs\n",
    "\n",
    "# logFolder = r'Z:\\ats317group\\Data\\2023\\11-2023\\30 Nov 2023\\Variable Logs'\n",
    "\n",
    "logFileNames = os.listdir(logFolder)\n",
    "logFileNames.sort(reverse=True)"
   ]
  },
  {
   "cell_type": "code",
   "execution_count": 17,
   "id": "493e9afd",
   "metadata": {},
   "outputs": [],
   "source": [
    "# ### Use this to specify the starting and ending files if you know the exact files\n",
    "\n",
    "# fileStart = os.path.join(logFolder, 'Variables_2023_10_24_21_44_22_0.txt')\n",
    "# fileEnd = os.path.join(logFolder, 'Variables_2023_10_24_22_09_47_0.txt')\n",
    "\n",
    "# t1 = datetime.datetime.fromtimestamp( os.path.getctime(fileStart) )\n",
    "# t2 = datetime.datetime.fromtimestamp( os.path.getctime(fileEnd)+1 )\n",
    "# print(t1, t2)"
   ]
  },
  {
   "cell_type": "code",
   "execution_count": null,
   "id": "a0ebd50c",
   "metadata": {},
   "outputs": [],
   "source": []
  },
  {
   "cell_type": "code",
   "execution_count": 18,
   "id": "1eb3fd69",
   "metadata": {},
   "outputs": [],
   "source": [
    "original = 'ODT Position = 1200'\n",
    "modified = 'ODT Position = -1'"
   ]
  },
  {
   "cell_type": "code",
   "execution_count": null,
   "id": "a12f5281",
   "metadata": {},
   "outputs": [],
   "source": []
  },
  {
   "cell_type": "code",
   "execution_count": 19,
   "id": "01b42496",
   "metadata": {
    "scrolled": false
   },
   "outputs": [
    {
     "name": "stdout",
     "output_type": "stream",
     "text": [
      "In folder Z:\\ats317group\\Data\\2023\\11-2023\\30 Nov 2023\\Variable Logs:\n",
      "Changed log file Variables_2023_11_30_18_57_35_0.txt.\n",
      "Changed log file Variables_2023_11_30_18_57_24_0.txt.\n",
      "Changed log file Variables_2023_11_30_18_57_12_0.txt.\n",
      "Changed log file Variables_2023_11_30_18_57_00_0.txt.\n",
      "Changed log file Variables_2023_11_30_18_56_48_0.txt.\n",
      "Changed log file Variables_2023_11_30_18_56_36_0.txt.\n",
      "Changed log file Variables_2023_11_30_18_56_24_0.txt.\n",
      "Changed log file Variables_2023_11_30_18_56_13_0.txt.\n",
      "Changed log file Variables_2023_11_30_18_56_01_0.txt.\n",
      "Changed log file Variables_2023_11_30_18_55_49_0.txt.\n",
      "Changed log file Variables_2023_11_30_18_55_37_0.txt.\n",
      "Changed log file Variables_2023_11_30_18_55_26_0.txt.\n",
      "Changed log file Variables_2023_11_30_18_55_14_0.txt.\n",
      "Changed log file Variables_2023_11_30_18_55_02_0.txt.\n",
      "Changed log file Variables_2023_11_30_18_54_50_0.txt.\n",
      "Changed log file Variables_2023_11_30_18_54_38_0.txt.\n",
      "Changed log file Variables_2023_11_30_18_54_27_0.txt.\n",
      "Changed log file Variables_2023_11_30_18_54_15_0.txt.\n",
      "Changed log file Variables_2023_11_30_18_54_03_0.txt.\n",
      "Changed log file Variables_2023_11_30_18_53_51_0.txt.\n",
      "Changed log file Variables_2023_11_30_18_53_39_0.txt.\n",
      "Changed log file Variables_2023_11_30_18_53_27_0.txt.\n",
      "Changed log file Variables_2023_11_30_18_53_15_0.txt.\n",
      "Changed log file Variables_2023_11_30_18_53_04_0.txt.\n",
      "Changed log file Variables_2023_11_30_18_52_52_0.txt.\n",
      "Changed log file Variables_2023_11_30_18_52_40_0.txt.\n",
      "Changed log file Variables_2023_11_30_18_52_28_0.txt.\n",
      "Changed log file Variables_2023_11_30_18_52_16_0.txt.\n",
      "Changed log file Variables_2023_11_30_18_52_04_0.txt.\n",
      "Changed log file Variables_2023_11_30_18_51_52_0.txt.\n",
      "Changed log file Variables_2023_11_30_18_51_41_0.txt.\n",
      "Changed log file Variables_2023_11_30_18_51_29_0.txt.\n",
      "Changed log file Variables_2023_11_30_18_51_17_0.txt.\n",
      "Changed log file Variables_2023_11_30_18_51_05_0.txt.\n",
      "Changed log file Variables_2023_11_30_18_50_53_0.txt.\n",
      "Changed log file Variables_2023_11_30_18_50_41_0.txt.\n",
      "Changed log file Variables_2023_11_30_18_50_29_0.txt.\n",
      "Changed log file Variables_2023_11_30_18_50_18_0.txt.\n",
      "Changed log file Variables_2023_11_30_18_50_06_0.txt.\n",
      "Changed log file Variables_2023_11_30_18_49_54_0.txt.\n",
      "Changed log file Variables_2023_11_30_18_49_42_0.txt.\n",
      "Changed log file Variables_2023_11_30_18_49_30_0.txt.\n",
      "Changed log file Variables_2023_11_30_18_49_18_0.txt.\n",
      "Changed log file Variables_2023_11_30_18_49_07_0.txt.\n",
      "Changed log file Variables_2023_11_30_18_48_55_0.txt.\n",
      "45 files were changed.\n"
     ]
    }
   ],
   "source": [
    "print('In folder {}:'.format(logFolder))\n",
    "\n",
    "ii = 0\n",
    "for ff in logFileNames:    \n",
    "    logFilePath = os.path.join(logFolder, ff)  \n",
    "#     logTime = datetime.datetime.strptime(ff, 'Variables_%Y_%m_%d_%H_%M_%S_0.txt')\n",
    "    logTime = datetime.datetime.fromtimestamp( os.path.getctime(logFilePath) )\n",
    "#     print(ff)\n",
    "    if logTime < t2:\n",
    "        with open(logFilePath, \"r+\") as f:\n",
    "            old = f.read() # read everything in the file\n",
    "            f.seek(0) # rewind            \n",
    "            f.truncate(0)\n",
    "            f.write(old.replace(original, modified))\n",
    "        print('Changed log file {}.'.format(ff))\n",
    "        ii += 1\n",
    "    if logTime < np.min(dataTimes):\n",
    "        break\n",
    "print('{} files were changed.'.format(ii))"
   ]
  },
  {
   "cell_type": "code",
   "execution_count": null,
   "id": "8acb9bfa",
   "metadata": {},
   "outputs": [],
   "source": []
  },
  {
   "cell_type": "code",
   "execution_count": null,
   "id": "f0fc8649",
   "metadata": {},
   "outputs": [],
   "source": []
  },
  {
   "cell_type": "code",
   "execution_count": 10,
   "id": "64e7dca6",
   "metadata": {
    "scrolled": true
   },
   "outputs": [],
   "source": [
    "filePath = r'Z:\\ats317group\\Data\\2023\\11-2023\\30 Nov 2023\\Variables_2023_11_30_18_56_01_0.txt'"
   ]
  },
  {
   "cell_type": "code",
   "execution_count": 11,
   "id": "b307e90e",
   "metadata": {},
   "outputs": [],
   "source": [
    "original = 'ODT Position = 1200'\n",
    "modified = 'ODT Position = -1'"
   ]
  },
  {
   "cell_type": "code",
   "execution_count": 12,
   "id": "b7579ac5",
   "metadata": {},
   "outputs": [],
   "source": [
    "with open(filePath, \"r+\") as f:\n",
    "    old = f.read() # read everything in the file\n",
    "    f.seek(0) # rewind            \n",
    "    f.truncate(0)\n",
    "    f.write(old.replace(original, modified))\n",
    "#     f.write('asdf')"
   ]
  },
  {
   "cell_type": "code",
   "execution_count": 23,
   "id": "7cc25ac7",
   "metadata": {},
   "outputs": [],
   "source": [
    "with open(filePath, \"r+\") as f:\n",
    "    old = f.read() # read everything in the file\n",
    "    f.truncate(0)\n",
    "    f.seek(0) # rewind            \n",
    "#     f.write(old.replace('Lens Position = 9', 'Lens Position = 1'))\n",
    "    f.write('asdf')"
   ]
  },
  {
   "cell_type": "code",
   "execution_count": null,
   "id": "14779985",
   "metadata": {},
   "outputs": [],
   "source": []
  }
 ],
 "metadata": {
  "kernelspec": {
   "display_name": "Python 3 (ipykernel)",
   "language": "python",
   "name": "python3"
  },
  "language_info": {
   "codemirror_mode": {
    "name": "ipython",
    "version": 3
   },
   "file_extension": ".py",
   "mimetype": "text/x-python",
   "name": "python",
   "nbconvert_exporter": "python",
   "pygments_lexer": "ipython3",
   "version": "3.10.9"
  }
 },
 "nbformat": 4,
 "nbformat_minor": 5
}
