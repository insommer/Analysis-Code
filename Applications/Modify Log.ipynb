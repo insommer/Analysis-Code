{
 "cells": [
  {
   "cell_type": "code",
   "execution_count": 3,
   "id": "552dfc2c",
   "metadata": {},
   "outputs": [],
   "source": [
    "import os\n",
    "\n",
    "# from ImageAnalysis import ImageAnalysisCode\n",
    "import numpy as np\n",
    "import matplotlib.pyplot as plt\n",
    "import pandas as pd\n",
    "import datetime"
   ]
  },
  {
   "cell_type": "code",
   "execution_count": 28,
   "id": "3bcc738a",
   "metadata": {},
   "outputs": [],
   "source": [
    "def getFileTime(data_folder, picturesPerIteration=3):\n",
    "    \n",
    "    filenames = os.listdir(data_folder)    \n",
    "    number_of_pics = np.sum(['spool.dat' in ii for ii in filenames])\n",
    "    assert number_of_pics % picturesPerIteration == 0\n",
    "    number_of_iterations = int(number_of_pics/picturesPerIteration)\n",
    "    \n",
    "    #read the whole kinetic series, bg correct, and load all images into a numpy array called image-array_correcpted\n",
    "\n",
    "    fileTime = []\n",
    "    for x in range(number_of_pics): \n",
    "        if x % picturesPerIteration == 0:\n",
    "            filePath = os.path.join(data_folder, '{:010d}'.format(x)[::-1]) + \"spool.dat\" \n",
    "            fileTime.append( datetime.datetime.fromtimestamp( os.path.getctime(filePath) ) )\n",
    "            \n",
    "    return fileTime"
   ]
  },
  {
   "cell_type": "code",
   "execution_count": 29,
   "id": "8245181d",
   "metadata": {},
   "outputs": [],
   "source": [
    "# The folder of the data of which the logs you want to modify \n",
    "dataFolder = r'C:\\Users\\Sommer Lab\\Documents\\Data\\2023\\11-2023\\22 Nov 2023\\Andor\\ODT P5 bias scan CMOT burntin'\n",
    "dataTimes = getFileTime(dataFolder, 4)\n",
    "\n",
    "t1 = np.min(dataTimes)\n",
    "t2 = np.max(dataTimes)"
   ]
  },
  {
   "cell_type": "code",
   "execution_count": 30,
   "id": "f01dacd2",
   "metadata": {},
   "outputs": [],
   "source": [
    "# The folder contains the logs\n",
    "\n",
    "# logFolder = r'C:\\Users\\Sommer Lab\\Documents\\Data\\2023\\11-2023\\22 Nov 2023\\Variable Logs'\n",
    "\n",
    "logFileNames = os.listdir(logFolder)\n",
    "logFileNames.sort(reverse=True)"
   ]
  },
  {
   "cell_type": "code",
   "execution_count": 10,
   "id": "493e9afd",
   "metadata": {},
   "outputs": [],
   "source": [
    "# ### Use this to specify the starting and ending files if you know the exact files\n",
    "\n",
    "# fileStart = os.path.join(logFolder, 'Variables_2023_10_24_21_44_22_0.txt')\n",
    "# fileEnd = os.path.join(logFolder, 'Variables_2023_10_24_22_09_47_0.txt')\n",
    "\n",
    "# t1 = datetime.datetime.fromtimestamp( os.path.getctime(fileStart) )\n",
    "# t2 = datetime.datetime.fromtimestamp( os.path.getctime(fileEnd)+1 )\n",
    "# print(t1, t2)"
   ]
  },
  {
   "cell_type": "code",
   "execution_count": null,
   "id": "a0ebd50c",
   "metadata": {},
   "outputs": [],
   "source": []
  },
  {
   "cell_type": "code",
   "execution_count": 33,
   "id": "1eb3fd69",
   "metadata": {},
   "outputs": [],
   "source": [
    "original = 'ODT_Position = 5'\n",
    "modified = 'ODT_Position = 99\\nBurnt In = 1'"
   ]
  },
  {
   "cell_type": "code",
   "execution_count": null,
   "id": "a12f5281",
   "metadata": {},
   "outputs": [],
   "source": []
  },
  {
   "cell_type": "code",
   "execution_count": 34,
   "id": "01b42496",
   "metadata": {
    "scrolled": false
   },
   "outputs": [
    {
     "name": "stdout",
     "output_type": "stream",
     "text": [
      "In folder C:\\Users\\Sommer Lab\\Documents\\Data\\2023\\11-2023\\22 Nov 2023\\Variable Logs:\n",
      "Changed log file Variables_2023_11_22_14_57_18_0.txt.\n",
      "Changed log file Variables_2023_11_22_14_57_07_0.txt.\n",
      "Changed log file Variables_2023_11_22_14_56_55_0.txt.\n",
      "Changed log file Variables_2023_11_22_14_56_43_0.txt.\n",
      "Changed log file Variables_2023_11_22_14_56_31_0.txt.\n",
      "Changed log file Variables_2023_11_22_14_56_20_0.txt.\n",
      "Changed log file Variables_2023_11_22_14_56_08_0.txt.\n",
      "Changed log file Variables_2023_11_22_14_55_56_0.txt.\n",
      "Changed log file Variables_2023_11_22_14_55_44_0.txt.\n",
      "Changed log file Variables_2023_11_22_14_54_12_0.txt.\n",
      "Changed log file Variables_2023_11_22_14_54_00_0.txt.\n",
      "Changed log file Variables_2023_11_22_14_53_49_0.txt.\n",
      "Changed log file Variables_2023_11_22_14_53_37_0.txt.\n",
      "Changed log file Variables_2023_11_22_14_53_25_0.txt.\n",
      "Changed log file Variables_2023_11_22_14_53_13_0.txt.\n",
      "Changed log file Variables_2023_11_22_14_53_02_0.txt.\n",
      "Changed log file Variables_2023_11_22_14_52_50_0.txt.\n",
      "Changed log file Variables_2023_11_22_14_52_38_0.txt.\n",
      "Changed log file Variables_2023_11_22_14_38_55_0.txt.\n"
     ]
    }
   ],
   "source": [
    "print('In folder {}:'.format(logFolder))\n",
    "\n",
    "ii = 0\n",
    "for ff in logFileNames:    \n",
    "    logFilePath = os.path.join(logFolder, ff)  \n",
    "#     logTime = datetime.datetime.strptime(ff, 'Variables_%Y_%m_%d_%H_%M_%S_0.txt')\n",
    "    logTime = datetime.datetime.fromtimestamp( os.path.getctime(logFilePath) )\n",
    "#     print(ff)\n",
    "    if logTime < t2:\n",
    "        with open(logFilePath, \"r+\") as f:\n",
    "            old = f.read() # read everything in the file\n",
    "            f.seek(0) # rewind            \n",
    "            f.truncate(0)\n",
    "            f.write(old.replace(original, modified))\n",
    "        print('Changed log file {}.'.format(ff))\n",
    "        ii += 1\n",
    "    if logTime < np.min(dataTimes):\n",
    "        break\n",
    "print('{} files were changed.'.format(ii))"
   ]
  },
  {
   "cell_type": "code",
   "execution_count": null,
   "id": "8acb9bfa",
   "metadata": {},
   "outputs": [],
   "source": []
  },
  {
   "cell_type": "code",
   "execution_count": null,
   "id": "f0fc8649",
   "metadata": {},
   "outputs": [],
   "source": []
  },
  {
   "cell_type": "code",
   "execution_count": 1,
   "id": "64e7dca6",
   "metadata": {
    "scrolled": true
   },
   "outputs": [],
   "source": [
    "filePath = r'C:\\Users\\Sommer Lab\\Documents\\Data\\2023\\11-2023\\22 Nov 2023\\Variables_2023_11_22_14_56_31_0.txt'"
   ]
  },
  {
   "cell_type": "code",
   "execution_count": 2,
   "id": "b7579ac5",
   "metadata": {},
   "outputs": [],
   "source": [
    "with open(filePath, \"r+\") as f:\n",
    "    old = f.read() # read everything in the file\n",
    "    f.seek(0) # rewind            \n",
    "    f.truncate(0)\n",
    "    f.write(old.replace('ODT_Position = 5', 'ODT_Position = 99\\nBurnt In = 0'))\n",
    "#     f.write('asdf')"
   ]
  },
  {
   "cell_type": "code",
   "execution_count": 23,
   "id": "7cc25ac7",
   "metadata": {},
   "outputs": [],
   "source": [
    "with open(filePath, \"r+\") as f:\n",
    "    old = f.read() # read everything in the file\n",
    "    f.truncate(0)\n",
    "    f.seek(0) # rewind            \n",
    "#     f.write(old.replace('Lens Position = 9', 'Lens Position = 1'))\n",
    "    f.write('asdf')"
   ]
  },
  {
   "cell_type": "code",
   "execution_count": null,
   "id": "14779985",
   "metadata": {},
   "outputs": [],
   "source": []
  }
 ],
 "metadata": {
  "kernelspec": {
   "display_name": "Python 3 (ipykernel)",
   "language": "python",
   "name": "python3"
  },
  "language_info": {
   "codemirror_mode": {
    "name": "ipython",
    "version": 3
   },
   "file_extension": ".py",
   "mimetype": "text/x-python",
   "name": "python",
   "nbconvert_exporter": "python",
   "pygments_lexer": "ipython3",
   "version": "3.7.3"
  }
 },
 "nbformat": 4,
 "nbformat_minor": 5
}
