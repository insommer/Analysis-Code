{
 "cells": [
  {
   "cell_type": "code",
   "execution_count": 1,
   "id": "552dfc2c",
   "metadata": {},
   "outputs": [],
   "source": [
    "import sys\n",
    "# sys.path.append(r'C:\\Users\\Sommer Lab\\Documents\\Analysis Code')\n",
    "import os\n",
    "from scipy.optimize import curve_fit\n",
    "from scipy.ndimage import rotate\n",
    "from scipy.integrate import simpson\n",
    "\n",
    "# from ImageAnalysis import ImageAnalysisCode\n",
    "import numpy as np\n",
    "import matplotlib.pyplot as plt\n",
    "import pandas as pd\n",
    "import datetime"
   ]
  },
  {
   "cell_type": "code",
   "execution_count": 2,
   "id": "3bcc738a",
   "metadata": {},
   "outputs": [],
   "source": [
    "def getFileTime(data_folder, picturesPerIteration=3):\n",
    "    \n",
    "    filenames = os.listdir(data_folder)    \n",
    "    number_of_pics = np.sum(['spool.dat' in ii for ii in filenames])\n",
    "    assert number_of_pics % picturesPerIteration == 0\n",
    "    number_of_iterations = int(number_of_pics/picturesPerIteration)\n",
    "    \n",
    "    #read the whole kinetic series, bg correct, and load all images into a numpy array called image-array_correcpted\n",
    "\n",
    "    fileTime = []\n",
    "    for x in range(number_of_pics): \n",
    "        if x % picturesPerIteration == 0:\n",
    "            filePath = os.path.join(data_folder, '{:010d}'.format(x)[::-1]) + \"spool.dat\" \n",
    "            fileTime.append( datetime.datetime.fromtimestamp( os.path.getctime(filePath) ) )\n",
    "            \n",
    "    return fileTime"
   ]
  },
  {
   "cell_type": "code",
   "execution_count": 170,
   "id": "8245181d",
   "metadata": {},
   "outputs": [],
   "source": [
    "dataFolder = r'Z:\\ats317group\\Data\\2023\\10-2023\\17 Oct 2023\\Andor\\No ODT Bias Scan_2'\n",
    "dataTimes = getFileTime(dataFolder)"
   ]
  },
  {
   "cell_type": "code",
   "execution_count": 2,
   "id": "f01dacd2",
   "metadata": {},
   "outputs": [],
   "source": [
    "logFolder = r'Z:\\ats317group\\Data\\2023\\10-2023\\19 Oct 2023\\Variable Logs'\n",
    "\n",
    "logFileNames = os.listdir(logFolder)\n",
    "logFileNames.sort(reverse=True)"
   ]
  },
  {
   "cell_type": "code",
   "execution_count": 5,
   "id": "01b42496",
   "metadata": {
    "scrolled": true
   },
   "outputs": [
    {
     "name": "stdout",
     "output_type": "stream",
     "text": [
      "In folder Z:\\ats317group\\Data\\2023\\10-2023\\19 Oct 2023\\Variable Logs:\n",
      "Changed log file Variables_2023_10_19_18_07_24_0.txt.\n",
      "Changed log file Variables_2023_10_19_18_07_17_0.txt.\n",
      "Changed log file Variables_2023_10_19_18_07_11_0.txt.\n",
      "Changed log file Variables_2023_10_19_18_07_05_0.txt.\n",
      "Changed log file Variables_2023_10_19_18_06_58_0.txt.\n",
      "Changed log file Variables_2023_10_19_17_54_52_0.txt.\n",
      "Changed log file Variables_2023_10_19_17_54_46_0.txt.\n",
      "Changed log file Variables_2023_10_19_17_54_39_0.txt.\n",
      "Changed log file Variables_2023_10_19_17_54_33_0.txt.\n",
      "Changed log file Variables_2023_10_19_17_54_27_0.txt.\n",
      "Changed log file Variables_2023_10_19_17_48_42_0.txt.\n",
      "Changed log file Variables_2023_10_19_17_48_35_0.txt.\n",
      "Changed log file Variables_2023_10_19_17_48_29_0.txt.\n",
      "Changed log file Variables_2023_10_19_17_48_23_0.txt.\n",
      "Changed log file Variables_2023_10_19_17_48_16_0.txt.\n",
      "Changed log file Variables_2023_10_19_16_18_43_0.txt.\n",
      "Changed log file Variables_2023_10_19_16_18_36_0.txt.\n",
      "Changed log file Variables_2023_10_19_16_18_30_0.txt.\n",
      "Changed log file Variables_2023_10_19_16_18_23_0.txt.\n",
      "Changed log file Variables_2023_10_19_16_18_16_0.txt.\n",
      "Changed log file Variables_2023_10_19_15_52_14_0.txt.\n",
      "Changed log file Variables_2023_10_19_15_52_07_0.txt.\n",
      "Changed log file Variables_2023_10_19_15_52_01_0.txt.\n",
      "Changed log file Variables_2023_10_19_15_51_55_0.txt.\n",
      "Changed log file Variables_2023_10_19_15_51_49_0.txt.\n",
      "Changed log file Variables_2023_10_19_15_45_13_0.txt.\n",
      "Changed log file Variables_2023_10_19_15_44_11_0.txt.\n",
      "Changed log file Variables_2023_10_19_15_44_04_0.txt.\n",
      "Changed log file Variables_2023_10_19_15_43_58_0.txt.\n",
      "Changed log file Variables_2023_10_19_15_43_52_0.txt.\n",
      "Changed log file Variables_2023_10_19_15_43_45_0.txt.\n",
      "Changed log file Variables_2023_10_19_15_37_27_0.txt.\n",
      "Changed log file Variables_2023_10_19_15_37_21_0.txt.\n",
      "Changed log file Variables_2023_10_19_15_37_15_0.txt.\n",
      "Changed log file Variables_2023_10_19_15_37_08_0.txt.\n",
      "Changed log file Variables_2023_10_19_15_37_02_0.txt.\n",
      "Changed log file Variables_2023_10_19_15_33_08_0.txt.\n"
     ]
    }
   ],
   "source": [
    "print('In folder {}:'.format(logFolder))\n",
    "for ff in logFileNames:    \n",
    "    logFilePath = os.path.join(logFolder, ff)  \n",
    "#     logTime = datetime.datetime.strptime(ff, 'Variables_%Y_%m_%d_%H_%M_%S_0.txt')\n",
    "#     logTime = datetime.datetime.fromtimestamp( os.path.getctime(logFilePath) )\n",
    "#     print(ff)\n",
    "#     if logTime < np.max(dataTimes):\n",
    "    with open(logFilePath, \"r+\") as f:\n",
    "        old = f.read() # read everything in the file\n",
    "        f.seek(0) # rewind            \n",
    "#         f.truncate(0)\n",
    "        f.write(old.replace('Lens Position = 9', 'Lens Position = 1'))\n",
    "    print('Changed log file {}.'.format(ff))\n",
    "#     if logTime < np.min(dataTimes):\n",
    "#         break"
   ]
  },
  {
   "cell_type": "code",
   "execution_count": 27,
   "id": "ea3f1aed",
   "metadata": {},
   "outputs": [
    {
     "data": {
      "text/html": [
       "<div>\n",
       "<style scoped>\n",
       "    .dataframe tbody tr th:only-of-type {\n",
       "        vertical-align: middle;\n",
       "    }\n",
       "\n",
       "    .dataframe tbody tr th {\n",
       "        vertical-align: top;\n",
       "    }\n",
       "\n",
       "    .dataframe thead th {\n",
       "        text-align: right;\n",
       "    }\n",
       "</style>\n",
       "<table border=\"1\" class=\"dataframe\">\n",
       "  <thead>\n",
       "    <tr style=\"text-align: right;\">\n",
       "      <th></th>\n",
       "      <th>0</th>\n",
       "    </tr>\n",
       "  </thead>\n",
       "  <tbody>\n",
       "    <tr>\n",
       "      <th>a</th>\n",
       "      <td>1</td>\n",
       "    </tr>\n",
       "    <tr>\n",
       "      <th>s</th>\n",
       "      <td>2</td>\n",
       "    </tr>\n",
       "    <tr>\n",
       "      <th>d</th>\n",
       "      <td>3</td>\n",
       "    </tr>\n",
       "  </tbody>\n",
       "</table>\n",
       "</div>"
      ],
      "text/plain": [
       "   0\n",
       "a  1\n",
       "s  2\n",
       "d  3"
      ]
     },
     "execution_count": 27,
     "metadata": {},
     "output_type": "execute_result"
    }
   ],
   "source": [
    "df = pd.DataFrame([1,2,3], ['a','s','d'])\n",
    "df"
   ]
  },
  {
   "cell_type": "code",
   "execution_count": 25,
   "id": "1e2ab681",
   "metadata": {},
   "outputs": [],
   "source": [
    "LIST = [1]"
   ]
  },
  {
   "cell_type": "code",
   "execution_count": 17,
   "id": "78e7fee9",
   "metadata": {},
   "outputs": [
    {
     "ename": "TypeError",
     "evalue": "'NoneType' object is not iterable",
     "output_type": "error",
     "traceback": [
      "\u001b[1;31m---------------------------------------------------------------------------\u001b[0m",
      "\u001b[1;31mTypeError\u001b[0m                                 Traceback (most recent call last)",
      "\u001b[1;32mC:\\Users\\SOMMER~1\\AppData\\Local\\Temp/ipykernel_18260/3630134690.py\u001b[0m in \u001b[0;36m<module>\u001b[1;34m\u001b[0m\n\u001b[1;32m----> 1\u001b[1;33m \u001b[1;32mfor\u001b[0m \u001b[0mII\u001b[0m \u001b[1;32min\u001b[0m \u001b[0mLIST\u001b[0m\u001b[1;33m:\u001b[0m\u001b[1;33m\u001b[0m\u001b[1;33m\u001b[0m\u001b[0m\n\u001b[0m\u001b[0;32m      2\u001b[0m     \u001b[0mprint\u001b[0m\u001b[1;33m(\u001b[0m\u001b[0mII\u001b[0m\u001b[1;33m)\u001b[0m\u001b[1;33m\u001b[0m\u001b[1;33m\u001b[0m\u001b[0m\n",
      "\u001b[1;31mTypeError\u001b[0m: 'NoneType' object is not iterable"
     ]
    }
   ],
   "source": [
    "for II in LIST:\n",
    "    print(II)"
   ]
  },
  {
   "cell_type": "code",
   "execution_count": 28,
   "id": "64e7dca6",
   "metadata": {
    "scrolled": true
   },
   "outputs": [
    {
     "ename": "ValueError",
     "evalue": "The truth value of a DataFrame is ambiguous. Use a.empty, a.bool(), a.item(), a.any() or a.all().",
     "output_type": "error",
     "traceback": [
      "\u001b[1;31m---------------------------------------------------------------------------\u001b[0m",
      "\u001b[1;31mValueError\u001b[0m                                Traceback (most recent call last)",
      "\u001b[1;32mC:\\Users\\SOMMER~1\\AppData\\Local\\Temp/ipykernel_18260/1081095282.py\u001b[0m in \u001b[0;36m<module>\u001b[1;34m\u001b[0m\n\u001b[1;32m----> 1\u001b[1;33m \u001b[1;32mif\u001b[0m \u001b[0mdf\u001b[0m\u001b[1;33m:\u001b[0m\u001b[1;33m\u001b[0m\u001b[1;33m\u001b[0m\u001b[0m\n\u001b[0m\u001b[0;32m      2\u001b[0m     \u001b[0mprint\u001b[0m\u001b[1;33m(\u001b[0m\u001b[1;34m'True!'\u001b[0m\u001b[1;33m)\u001b[0m\u001b[1;33m\u001b[0m\u001b[1;33m\u001b[0m\u001b[0m\n\u001b[0;32m      3\u001b[0m \u001b[1;32melse\u001b[0m\u001b[1;33m:\u001b[0m\u001b[1;33m\u001b[0m\u001b[1;33m\u001b[0m\u001b[0m\n\u001b[0;32m      4\u001b[0m     \u001b[0mprint\u001b[0m\u001b[1;33m(\u001b[0m\u001b[1;34m'False!'\u001b[0m\u001b[1;33m)\u001b[0m\u001b[1;33m\u001b[0m\u001b[1;33m\u001b[0m\u001b[0m\n",
      "\u001b[1;32mC:\\ProgramData\\Anaconda3\\lib\\site-packages\\pandas\\core\\generic.py\u001b[0m in \u001b[0;36m__nonzero__\u001b[1;34m(self)\u001b[0m\n\u001b[0;32m   1536\u001b[0m     \u001b[1;32mdef\u001b[0m \u001b[0m__nonzero__\u001b[0m\u001b[1;33m(\u001b[0m\u001b[0mself\u001b[0m\u001b[1;33m)\u001b[0m\u001b[1;33m:\u001b[0m\u001b[1;33m\u001b[0m\u001b[1;33m\u001b[0m\u001b[0m\n\u001b[0;32m   1537\u001b[0m         raise ValueError(\n\u001b[1;32m-> 1538\u001b[1;33m             \u001b[1;34mf\"The truth value of a {type(self).__name__} is ambiguous. \"\u001b[0m\u001b[1;33m\u001b[0m\u001b[1;33m\u001b[0m\u001b[0m\n\u001b[0m\u001b[0;32m   1539\u001b[0m             \u001b[1;34m\"Use a.empty, a.bool(), a.item(), a.any() or a.all().\"\u001b[0m\u001b[1;33m\u001b[0m\u001b[1;33m\u001b[0m\u001b[0m\n\u001b[0;32m   1540\u001b[0m         )\n",
      "\u001b[1;31mValueError\u001b[0m: The truth value of a DataFrame is ambiguous. Use a.empty, a.bool(), a.item(), a.any() or a.all()."
     ]
    }
   ],
   "source": [
    "if df:\n",
    "    print('True!')\n",
    "else:\n",
    "    print('False!')"
   ]
  },
  {
   "cell_type": "code",
   "execution_count": null,
   "id": "b7579ac5",
   "metadata": {},
   "outputs": [],
   "source": []
  }
 ],
 "metadata": {
  "kernelspec": {
   "display_name": "Python 3 (ipykernel)",
   "language": "python",
   "name": "python3"
  },
  "language_info": {
   "codemirror_mode": {
    "name": "ipython",
    "version": 3
   },
   "file_extension": ".py",
   "mimetype": "text/x-python",
   "name": "python",
   "nbconvert_exporter": "python",
   "pygments_lexer": "ipython3",
   "version": "3.7.3"
  }
 },
 "nbformat": 4,
 "nbformat_minor": 5
}
