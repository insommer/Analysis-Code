{
 "cells": [
  {
   "cell_type": "code",
   "execution_count": 1,
   "id": "552dfc2c",
   "metadata": {},
   "outputs": [],
   "source": [
    "import os\n",
    "\n",
    "# from ImageAnalysis import ImageAnalysisCode\n",
    "import numpy as np\n",
    "import matplotlib.pyplot as plt\n",
    "import pandas as pd\n",
    "import datetime"
   ]
  },
  {
   "cell_type": "code",
   "execution_count": 2,
   "id": "3bcc738a",
   "metadata": {},
   "outputs": [],
   "source": [
    "def getFileTime(data_folder, picturesPerIteration=3):\n",
    "    \n",
    "    filenames = os.listdir(data_folder)    \n",
    "    number_of_pics = np.sum(['spool.dat' in ii for ii in filenames])\n",
    "    assert number_of_pics % picturesPerIteration == 0\n",
    "    number_of_iterations = int(number_of_pics/picturesPerIteration)\n",
    "    \n",
    "    #read the whole kinetic series, bg correct, and load all images into a numpy array called image-array_correcpted\n",
    "\n",
    "    fileTime = []\n",
    "    for x in range(number_of_pics): \n",
    "        if x % picturesPerIteration == 0:\n",
    "            filePath = os.path.join(data_folder, '{:010d}'.format(x)[::-1]) + \"spool.dat\" \n",
    "            fileTime.append( datetime.datetime.fromtimestamp( os.path.getctime(filePath) ) )\n",
    "            \n",
    "    return fileTime"
   ]
  },
  {
   "cell_type": "code",
   "execution_count": 3,
   "id": "8245181d",
   "metadata": {},
   "outputs": [],
   "source": [
    "# The folder of the data of which the logs you want to modify \n",
    "dataFolder = r'D:\\Dropbox (Lehigh University)\\Sommer Lab Shared\\Data\\2024\\01-2024\\29 Jan 2024\\Andor\\ODT Compare_1'\n",
    "dataTimes = getFileTime(dataFolder, picturesPerIteration=3)\n",
    "\n",
    "t1 = np.min(dataTimes)\n",
    "t2 = np.max(dataTimes)"
   ]
  },
  {
   "cell_type": "code",
   "execution_count": 6,
   "id": "f01dacd2",
   "metadata": {},
   "outputs": [],
   "source": [
    "# The folder contains the logs\n",
    "\n",
    "logFolder = r'D:\\Dropbox (Lehigh University)\\Sommer Lab Shared\\Data\\2024\\01-2024\\29 Jan 2024\\Variable Logs'\n",
    "\n",
    "logFileNames = os.listdir(logFolder)\n",
    "logFileNames.sort(reverse=True)"
   ]
  },
  {
   "cell_type": "code",
   "execution_count": 15,
   "id": "493e9afd",
   "metadata": {},
   "outputs": [
    {
     "name": "stdout",
     "output_type": "stream",
     "text": [
      "2024-01-08 11:10:40.668376 2024-01-08 17:45:17.577169\n"
     ]
    }
   ],
   "source": [
    "### Use this to specify the starting and ending files if you know the exact files\n",
    "\n",
    "fileStart = os.path.join(logFolder, 'Variables_2024_01_08_11_10_40_0.txt')\n",
    "fileEnd = os.path.join(logFolder, 'Variables_2024_01_08_17_45_16_0.txt')\n",
    "\n",
    "t1 = datetime.datetime.fromtimestamp( os.path.getctime(fileStart) )\n",
    "t2 = datetime.datetime.fromtimestamp( os.path.getctime(fileEnd)+1 )\n",
    "print(t1, t2)"
   ]
  },
  {
   "cell_type": "code",
   "execution_count": null,
   "id": "a0ebd50c",
   "metadata": {},
   "outputs": [],
   "source": []
  },
  {
   "cell_type": "code",
   "execution_count": 10,
   "id": "1eb3fd69",
   "metadata": {},
   "outputs": [],
   "source": [
    "original = 'ODT Position = 2070'\n",
    "modified = 'ODT Position = 2590'\n",
    "\n",
    "\n",
    "# original = 'Burnt In = 1'\n",
    "# modified = 'Burnt In = 0'"
   ]
  },
  {
   "cell_type": "code",
   "execution_count": null,
   "id": "a12f5281",
   "metadata": {},
   "outputs": [],
   "source": []
  },
  {
   "cell_type": "code",
   "execution_count": 11,
   "id": "01b42496",
   "metadata": {
    "scrolled": false
   },
   "outputs": [
    {
     "name": "stdout",
     "output_type": "stream",
     "text": [
      "In folder D:\\Dropbox (Lehigh University)\\Sommer Lab Shared\\Data\\2024\\01-2024\\29 Jan 2024\\Variable Logs:\n",
      "Changed log file Variables_2024_01_29_20_36_43_0.txt.\n",
      "Changed log file Variables_2024_01_29_20_36_37_0.txt.\n",
      "Changed log file Variables_2024_01_29_20_36_31_0.txt.\n",
      "Changed log file Variables_2024_01_29_20_36_24_0.txt.\n",
      "Changed log file Variables_2024_01_29_20_34_54_0.txt.\n",
      "Changed log file Variables_2024_01_29_20_34_48_0.txt.\n",
      "Changed log file Variables_2024_01_29_20_34_41_0.txt.\n",
      "Changed log file Variables_2024_01_29_20_34_35_0.txt.\n",
      "Changed log file Variables_2024_01_29_20_25_14_0.txt.\n",
      "Changed log file Variables_2024_01_29_20_25_07_0.txt.\n",
      "Changed log file Variables_2024_01_29_20_25_01_0.txt.\n",
      "Changed log file Variables_2024_01_29_20_24_55_0.txt.\n",
      "Changed log file Variables_2024_01_29_20_24_08_0.txt.\n",
      "Changed log file Variables_2024_01_29_20_15_09_0.txt.\n",
      "Changed log file Variables_2024_01_29_20_15_03_0.txt.\n",
      "Changed log file Variables_2024_01_29_20_14_57_0.txt.\n",
      "Changed log file Variables_2024_01_29_20_14_51_0.txt.\n",
      "Changed log file Variables_2024_01_29_20_12_22_0.txt.\n",
      "Changed log file Variables_2024_01_29_20_12_16_0.txt.\n",
      "Changed log file Variables_2024_01_29_20_12_10_0.txt.\n",
      "Changed log file Variables_2024_01_29_20_12_03_0.txt.\n",
      "21 files were changed.\n"
     ]
    }
   ],
   "source": [
    "print('In folder {}:'.format(logFolder))\n",
    "\n",
    "ii = 0\n",
    "for ff in logFileNames:    \n",
    "    logFilePath = os.path.join(logFolder, ff)  \n",
    "#     logTime = datetime.datetime.strptime(ff, 'Variables_%Y_%m_%d_%H_%M_%S_0.txt')\n",
    "    logTime = datetime.datetime.fromtimestamp( os.path.getctime(logFilePath) )\n",
    "#     print(ff)\n",
    "    if logTime < t2:\n",
    "        with open(logFilePath, \"r+\") as f:\n",
    "            old = f.read() # read everything in the file\n",
    "            f.seek(0) # rewind            \n",
    "            f.truncate(0)\n",
    "            f.write(old.replace(original, modified))\n",
    "        print('Changed log file {}.'.format(ff))\n",
    "        ii += 1\n",
    "    if logTime < t1:\n",
    "        break\n",
    "print('{} files were changed.'.format(ii))"
   ]
  },
  {
   "cell_type": "code",
   "execution_count": null,
   "id": "8acb9bfa",
   "metadata": {},
   "outputs": [],
   "source": []
  },
  {
   "cell_type": "code",
   "execution_count": null,
   "id": "f0fc8649",
   "metadata": {},
   "outputs": [],
   "source": []
  },
  {
   "cell_type": "code",
   "execution_count": 10,
   "id": "64e7dca6",
   "metadata": {
    "scrolled": true
   },
   "outputs": [],
   "source": [
    "filePath = r'Z:\\ats317group\\Data\\2023\\11-2023\\30 Nov 2023\\Variables_2023_11_30_18_56_01_0.txt'"
   ]
  },
  {
   "cell_type": "code",
   "execution_count": 11,
   "id": "b307e90e",
   "metadata": {},
   "outputs": [],
   "source": [
    "original = 'ODT Position = 1200'\n",
    "modified = 'ODT Position = -1'"
   ]
  },
  {
   "cell_type": "code",
   "execution_count": 12,
   "id": "b7579ac5",
   "metadata": {},
   "outputs": [],
   "source": [
    "with open(filePath, \"r+\") as f:\n",
    "    old = f.read() # read everything in the file\n",
    "    f.seek(0) # rewind            \n",
    "    f.truncate(0)\n",
    "    f.write(old.replace(original, modified))\n",
    "#     f.write('asdf')"
   ]
  },
  {
   "cell_type": "code",
   "execution_count": 23,
   "id": "7cc25ac7",
   "metadata": {},
   "outputs": [],
   "source": [
    "with open(filePath, \"r+\") as f:\n",
    "    old = f.read() # read everything in the file\n",
    "    f.truncate(0)\n",
    "    f.seek(0) # rewind            \n",
    "#     f.write(old.replace('Lens Position = 9', 'Lens Position = 1'))\n",
    "    f.write('asdf')"
   ]
  },
  {
   "cell_type": "code",
   "execution_count": null,
   "id": "14779985",
   "metadata": {},
   "outputs": [],
   "source": []
  }
 ],
 "metadata": {
  "kernelspec": {
   "display_name": "Python 3 (ipykernel)",
   "language": "python",
   "name": "python3"
  },
  "language_info": {
   "codemirror_mode": {
    "name": "ipython",
    "version": 3
   },
   "file_extension": ".py",
   "mimetype": "text/x-python",
   "name": "python",
   "nbconvert_exporter": "python",
   "pygments_lexer": "ipython3",
   "version": "3.7.3"
  }
 },
 "nbformat": 4,
 "nbformat_minor": 5
}
