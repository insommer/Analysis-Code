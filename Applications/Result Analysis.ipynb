{
 "cells": [
  {
   "cell_type": "code",
   "execution_count": 1,
   "id": "8633af50",
   "metadata": {},
   "outputs": [
    {
     "name": "stdout",
     "output_type": "stream",
     "text": [
      "C:\\Users\\Sommer Lab\\Documents\\Analysis Code\n"
     ]
    }
   ],
   "source": [
    "cd .."
   ]
  },
  {
   "cell_type": "code",
   "execution_count": 2,
   "id": "d6f4b276",
   "metadata": {
    "scrolled": true
   },
   "outputs": [],
   "source": [
    "import sys\n",
    "# sys.path.append(r'C:\\Users\\Sommer Lab\\Documents\\Analysis Code')\n",
    "import os\n",
    "\n",
    "# from ImageAnalysis import ImageAnalysisCode\n",
    "import numpy as np\n",
    "import matplotlib.pyplot as plt\n",
    "import pandas as pd\n",
    "import datetime\n",
    "from ImageAnalysis import ImageAnalysisCode"
   ]
  },
  {
   "cell_type": "code",
   "execution_count": 19,
   "id": "9cc78c83",
   "metadata": {},
   "outputs": [],
   "source": [
    "folderName = r'Z:\\ats317group\\Data\\ODT Move Data Set 3'\n",
    "fileNames = os.listdir(folderName)\n",
    "# fileNames = ['ODT Position 1 Bias Scan_Oct10.csv',\n",
    "#             'ODT Position 1 Bias Scan_Oct12.csv']\n",
    "\n",
    "df = []\n",
    "for f in fileNames:\n",
    "    if '.csv' in f:\n",
    "        dataCSV_filePath = os.path.join(folderName, f)\n",
    "        df.append(pd.read_csv(dataCSV_filePath))\n",
    "\n",
    "df = pd.concat(df)\n",
    "df.time = pd.to_datetime(df.time)\n",
    "df.set_index('time', inplace=True)\n",
    "\n",
    "# df = df.loc[ \n",
    "#     (df.index>=datetime.datetime.strptime('10/1/2023', '%m/%d/%Y'))\n",
    "#     &\n",
    "#     (df.index<=datetime.datetime.strptime('10/23/2023', '%m/%d/%Y'))\n",
    "# ]"
   ]
  },
  {
   "cell_type": "code",
   "execution_count": 20,
   "id": "3578a647",
   "metadata": {},
   "outputs": [
    {
     "data": {
      "text/html": [
       "<div>\n",
       "<style scoped>\n",
       "    .dataframe tbody tr th:only-of-type {\n",
       "        vertical-align: middle;\n",
       "    }\n",
       "\n",
       "    .dataframe tbody tr th {\n",
       "        vertical-align: top;\n",
       "    }\n",
       "\n",
       "    .dataframe thead th {\n",
       "        text-align: right;\n",
       "    }\n",
       "</style>\n",
       "<table border=\"1\" class=\"dataframe\">\n",
       "  <thead>\n",
       "    <tr style=\"text-align: right;\">\n",
       "      <th></th>\n",
       "      <th>Folder</th>\n",
       "      <th>Ycenter</th>\n",
       "      <th>Ywidth</th>\n",
       "      <th>AtomNumber</th>\n",
       "      <th>Xcenter</th>\n",
       "      <th>Xwidth</th>\n",
       "      <th>AtomNumberX</th>\n",
       "      <th>IterationNum</th>\n",
       "      <th>IterationCount</th>\n",
       "      <th>wait</th>\n",
       "      <th>...</th>\n",
       "      <th>HighServo2</th>\n",
       "      <th>HighServo3</th>\n",
       "      <th>HighServo0</th>\n",
       "      <th>Coil_medB</th>\n",
       "      <th>MedB_time</th>\n",
       "      <th>IR_AOM_freq</th>\n",
       "      <th>IR_AOM_VCO_V</th>\n",
       "      <th>IRmodulate_ms</th>\n",
       "      <th>modulate_freq</th>\n",
       "      <th>Burnt_In</th>\n",
       "    </tr>\n",
       "    <tr>\n",
       "      <th>time</th>\n",
       "      <th></th>\n",
       "      <th></th>\n",
       "      <th></th>\n",
       "      <th></th>\n",
       "      <th></th>\n",
       "      <th></th>\n",
       "      <th></th>\n",
       "      <th></th>\n",
       "      <th></th>\n",
       "      <th></th>\n",
       "      <th></th>\n",
       "      <th></th>\n",
       "      <th></th>\n",
       "      <th></th>\n",
       "      <th></th>\n",
       "      <th></th>\n",
       "      <th></th>\n",
       "      <th></th>\n",
       "      <th></th>\n",
       "      <th></th>\n",
       "      <th></th>\n",
       "    </tr>\n",
       "  </thead>\n",
       "  <tbody>\n",
       "    <tr>\n",
       "      <th>2023-11-30 18:48:55.289094</th>\n",
       "      <td>Andor/ODT_Position_1200_Bias_Scan_CMOT</td>\n",
       "      <td>7346.196733</td>\n",
       "      <td>1880.574350</td>\n",
       "      <td>2.424068e+08</td>\n",
       "      <td>9879.833696</td>\n",
       "      <td>3369.614186</td>\n",
       "      <td>2.483216e+08</td>\n",
       "      <td>0.0</td>\n",
       "      <td>45.0</td>\n",
       "      <td>2.0</td>\n",
       "      <td>...</td>\n",
       "      <td>2.3</td>\n",
       "      <td>2.3</td>\n",
       "      <td>-0.1</td>\n",
       "      <td>-0.1</td>\n",
       "      <td>20.0</td>\n",
       "      <td>110.0</td>\n",
       "      <td>7.800687</td>\n",
       "      <td>7.0</td>\n",
       "      <td>30.0</td>\n",
       "      <td>1.0</td>\n",
       "    </tr>\n",
       "    <tr>\n",
       "      <th>2023-11-30 18:49:07.044070</th>\n",
       "      <td>Andor/ODT_Position_1200_Bias_Scan_CMOT</td>\n",
       "      <td>7529.512931</td>\n",
       "      <td>1867.504063</td>\n",
       "      <td>2.134747e+08</td>\n",
       "      <td>9828.634921</td>\n",
       "      <td>3381.445111</td>\n",
       "      <td>2.400032e+08</td>\n",
       "      <td>1.0</td>\n",
       "      <td>45.0</td>\n",
       "      <td>2.0</td>\n",
       "      <td>...</td>\n",
       "      <td>2.3</td>\n",
       "      <td>2.3</td>\n",
       "      <td>-0.1</td>\n",
       "      <td>-0.1</td>\n",
       "      <td>20.0</td>\n",
       "      <td>110.0</td>\n",
       "      <td>7.800687</td>\n",
       "      <td>7.0</td>\n",
       "      <td>30.0</td>\n",
       "      <td>1.0</td>\n",
       "    </tr>\n",
       "    <tr>\n",
       "      <th>2023-11-30 18:49:18.937534</th>\n",
       "      <td>Andor/ODT_Position_1200_Bias_Scan_CMOT</td>\n",
       "      <td>7679.585226</td>\n",
       "      <td>1842.946634</td>\n",
       "      <td>1.881564e+08</td>\n",
       "      <td>9797.685092</td>\n",
       "      <td>3371.298233</td>\n",
       "      <td>2.115709e+08</td>\n",
       "      <td>2.0</td>\n",
       "      <td>45.0</td>\n",
       "      <td>2.0</td>\n",
       "      <td>...</td>\n",
       "      <td>2.3</td>\n",
       "      <td>2.3</td>\n",
       "      <td>-0.1</td>\n",
       "      <td>-0.1</td>\n",
       "      <td>20.0</td>\n",
       "      <td>110.0</td>\n",
       "      <td>7.800687</td>\n",
       "      <td>7.0</td>\n",
       "      <td>30.0</td>\n",
       "      <td>1.0</td>\n",
       "    </tr>\n",
       "    <tr>\n",
       "      <th>2023-11-30 18:49:30.693408</th>\n",
       "      <td>Andor/ODT_Position_1200_Bias_Scan_CMOT</td>\n",
       "      <td>7796.059273</td>\n",
       "      <td>1789.029940</td>\n",
       "      <td>1.630977e+08</td>\n",
       "      <td>9652.141148</td>\n",
       "      <td>3122.423464</td>\n",
       "      <td>1.804593e+08</td>\n",
       "      <td>3.0</td>\n",
       "      <td>45.0</td>\n",
       "      <td>2.0</td>\n",
       "      <td>...</td>\n",
       "      <td>2.3</td>\n",
       "      <td>2.3</td>\n",
       "      <td>-0.1</td>\n",
       "      <td>-0.1</td>\n",
       "      <td>20.0</td>\n",
       "      <td>110.0</td>\n",
       "      <td>7.800687</td>\n",
       "      <td>7.0</td>\n",
       "      <td>30.0</td>\n",
       "      <td>1.0</td>\n",
       "    </tr>\n",
       "    <tr>\n",
       "      <th>2023-11-30 18:49:42.569157</th>\n",
       "      <td>Andor/ODT_Position_1200_Bias_Scan_CMOT</td>\n",
       "      <td>7942.305976</td>\n",
       "      <td>1778.090739</td>\n",
       "      <td>1.419956e+08</td>\n",
       "      <td>9668.383256</td>\n",
       "      <td>3015.343455</td>\n",
       "      <td>1.546879e+08</td>\n",
       "      <td>4.0</td>\n",
       "      <td>45.0</td>\n",
       "      <td>2.0</td>\n",
       "      <td>...</td>\n",
       "      <td>2.3</td>\n",
       "      <td>2.3</td>\n",
       "      <td>-0.1</td>\n",
       "      <td>-0.1</td>\n",
       "      <td>20.0</td>\n",
       "      <td>110.0</td>\n",
       "      <td>7.800687</td>\n",
       "      <td>7.0</td>\n",
       "      <td>30.0</td>\n",
       "      <td>1.0</td>\n",
       "    </tr>\n",
       "    <tr>\n",
       "      <th>...</th>\n",
       "      <td>...</td>\n",
       "      <td>...</td>\n",
       "      <td>...</td>\n",
       "      <td>...</td>\n",
       "      <td>...</td>\n",
       "      <td>...</td>\n",
       "      <td>...</td>\n",
       "      <td>...</td>\n",
       "      <td>...</td>\n",
       "      <td>...</td>\n",
       "      <td>...</td>\n",
       "      <td>...</td>\n",
       "      <td>...</td>\n",
       "      <td>...</td>\n",
       "      <td>...</td>\n",
       "      <td>...</td>\n",
       "      <td>...</td>\n",
       "      <td>...</td>\n",
       "      <td>...</td>\n",
       "      <td>...</td>\n",
       "      <td>...</td>\n",
       "    </tr>\n",
       "    <tr>\n",
       "      <th>2023-11-30 18:43:54.733891</th>\n",
       "      <td>Andor/ODT_Position_1200_Bias_Scan_3</td>\n",
       "      <td>3316.337426</td>\n",
       "      <td>41.139154</td>\n",
       "      <td>2.800048e+05</td>\n",
       "      <td>1604.815044</td>\n",
       "      <td>139.050165</td>\n",
       "      <td>4.127852e+04</td>\n",
       "      <td>40.0</td>\n",
       "      <td>45.0</td>\n",
       "      <td>30.0</td>\n",
       "      <td>...</td>\n",
       "      <td>2.3</td>\n",
       "      <td>2.3</td>\n",
       "      <td>-0.1</td>\n",
       "      <td>-0.1</td>\n",
       "      <td>20.0</td>\n",
       "      <td>110.0</td>\n",
       "      <td>7.800687</td>\n",
       "      <td>7.0</td>\n",
       "      <td>30.0</td>\n",
       "      <td>0.0</td>\n",
       "    </tr>\n",
       "    <tr>\n",
       "      <th>2023-11-30 18:44:01.008974</th>\n",
       "      <td>Andor/ODT_Position_1200_Bias_Scan_3</td>\n",
       "      <td>3314.889430</td>\n",
       "      <td>40.856136</td>\n",
       "      <td>3.411265e+05</td>\n",
       "      <td>1577.177049</td>\n",
       "      <td>140.417687</td>\n",
       "      <td>4.852068e+04</td>\n",
       "      <td>41.0</td>\n",
       "      <td>45.0</td>\n",
       "      <td>30.0</td>\n",
       "      <td>...</td>\n",
       "      <td>2.3</td>\n",
       "      <td>2.3</td>\n",
       "      <td>-0.1</td>\n",
       "      <td>-0.1</td>\n",
       "      <td>20.0</td>\n",
       "      <td>110.0</td>\n",
       "      <td>7.800687</td>\n",
       "      <td>7.0</td>\n",
       "      <td>30.0</td>\n",
       "      <td>0.0</td>\n",
       "    </tr>\n",
       "    <tr>\n",
       "      <th>2023-11-30 18:44:07.226235</th>\n",
       "      <td>Andor/ODT_Position_1200_Bias_Scan_3</td>\n",
       "      <td>3313.589340</td>\n",
       "      <td>40.963845</td>\n",
       "      <td>3.403363e+05</td>\n",
       "      <td>1590.949489</td>\n",
       "      <td>147.305616</td>\n",
       "      <td>5.338252e+04</td>\n",
       "      <td>42.0</td>\n",
       "      <td>45.0</td>\n",
       "      <td>30.0</td>\n",
       "      <td>...</td>\n",
       "      <td>2.3</td>\n",
       "      <td>2.3</td>\n",
       "      <td>-0.1</td>\n",
       "      <td>-0.1</td>\n",
       "      <td>20.0</td>\n",
       "      <td>110.0</td>\n",
       "      <td>7.800687</td>\n",
       "      <td>7.0</td>\n",
       "      <td>30.0</td>\n",
       "      <td>0.0</td>\n",
       "    </tr>\n",
       "    <tr>\n",
       "      <th>2023-11-30 18:44:13.507394</th>\n",
       "      <td>Andor/ODT_Position_1200_Bias_Scan_3</td>\n",
       "      <td>3313.111027</td>\n",
       "      <td>41.151818</td>\n",
       "      <td>2.872015e+05</td>\n",
       "      <td>1560.954621</td>\n",
       "      <td>134.240467</td>\n",
       "      <td>4.207034e+04</td>\n",
       "      <td>43.0</td>\n",
       "      <td>45.0</td>\n",
       "      <td>30.0</td>\n",
       "      <td>...</td>\n",
       "      <td>2.3</td>\n",
       "      <td>2.3</td>\n",
       "      <td>-0.1</td>\n",
       "      <td>-0.1</td>\n",
       "      <td>20.0</td>\n",
       "      <td>110.0</td>\n",
       "      <td>7.800687</td>\n",
       "      <td>7.0</td>\n",
       "      <td>30.0</td>\n",
       "      <td>0.0</td>\n",
       "    </tr>\n",
       "    <tr>\n",
       "      <th>2023-11-30 18:44:19.744259</th>\n",
       "      <td>Andor/ODT_Position_1200_Bias_Scan_3</td>\n",
       "      <td>3312.237148</td>\n",
       "      <td>43.280871</td>\n",
       "      <td>2.377986e+05</td>\n",
       "      <td>1493.248977</td>\n",
       "      <td>225.436451</td>\n",
       "      <td>2.173415e+04</td>\n",
       "      <td>44.0</td>\n",
       "      <td>45.0</td>\n",
       "      <td>30.0</td>\n",
       "      <td>...</td>\n",
       "      <td>2.3</td>\n",
       "      <td>2.3</td>\n",
       "      <td>-0.1</td>\n",
       "      <td>-0.1</td>\n",
       "      <td>20.0</td>\n",
       "      <td>110.0</td>\n",
       "      <td>7.800687</td>\n",
       "      <td>7.0</td>\n",
       "      <td>30.0</td>\n",
       "      <td>0.0</td>\n",
       "    </tr>\n",
       "  </tbody>\n",
       "</table>\n",
       "<p>218 rows × 49 columns</p>\n",
       "</div>"
      ],
      "text/plain": [
       "                                                            Folder  \\\n",
       "time                                                                 \n",
       "2023-11-30 18:48:55.289094  Andor/ODT_Position_1200_Bias_Scan_CMOT   \n",
       "2023-11-30 18:49:07.044070  Andor/ODT_Position_1200_Bias_Scan_CMOT   \n",
       "2023-11-30 18:49:18.937534  Andor/ODT_Position_1200_Bias_Scan_CMOT   \n",
       "2023-11-30 18:49:30.693408  Andor/ODT_Position_1200_Bias_Scan_CMOT   \n",
       "2023-11-30 18:49:42.569157  Andor/ODT_Position_1200_Bias_Scan_CMOT   \n",
       "...                                                            ...   \n",
       "2023-11-30 18:43:54.733891     Andor/ODT_Position_1200_Bias_Scan_3   \n",
       "2023-11-30 18:44:01.008974     Andor/ODT_Position_1200_Bias_Scan_3   \n",
       "2023-11-30 18:44:07.226235     Andor/ODT_Position_1200_Bias_Scan_3   \n",
       "2023-11-30 18:44:13.507394     Andor/ODT_Position_1200_Bias_Scan_3   \n",
       "2023-11-30 18:44:19.744259     Andor/ODT_Position_1200_Bias_Scan_3   \n",
       "\n",
       "                                Ycenter       Ywidth    AtomNumber  \\\n",
       "time                                                                 \n",
       "2023-11-30 18:48:55.289094  7346.196733  1880.574350  2.424068e+08   \n",
       "2023-11-30 18:49:07.044070  7529.512931  1867.504063  2.134747e+08   \n",
       "2023-11-30 18:49:18.937534  7679.585226  1842.946634  1.881564e+08   \n",
       "2023-11-30 18:49:30.693408  7796.059273  1789.029940  1.630977e+08   \n",
       "2023-11-30 18:49:42.569157  7942.305976  1778.090739  1.419956e+08   \n",
       "...                                 ...          ...           ...   \n",
       "2023-11-30 18:43:54.733891  3316.337426    41.139154  2.800048e+05   \n",
       "2023-11-30 18:44:01.008974  3314.889430    40.856136  3.411265e+05   \n",
       "2023-11-30 18:44:07.226235  3313.589340    40.963845  3.403363e+05   \n",
       "2023-11-30 18:44:13.507394  3313.111027    41.151818  2.872015e+05   \n",
       "2023-11-30 18:44:19.744259  3312.237148    43.280871  2.377986e+05   \n",
       "\n",
       "                                Xcenter       Xwidth   AtomNumberX  \\\n",
       "time                                                                 \n",
       "2023-11-30 18:48:55.289094  9879.833696  3369.614186  2.483216e+08   \n",
       "2023-11-30 18:49:07.044070  9828.634921  3381.445111  2.400032e+08   \n",
       "2023-11-30 18:49:18.937534  9797.685092  3371.298233  2.115709e+08   \n",
       "2023-11-30 18:49:30.693408  9652.141148  3122.423464  1.804593e+08   \n",
       "2023-11-30 18:49:42.569157  9668.383256  3015.343455  1.546879e+08   \n",
       "...                                 ...          ...           ...   \n",
       "2023-11-30 18:43:54.733891  1604.815044   139.050165  4.127852e+04   \n",
       "2023-11-30 18:44:01.008974  1577.177049   140.417687  4.852068e+04   \n",
       "2023-11-30 18:44:07.226235  1590.949489   147.305616  5.338252e+04   \n",
       "2023-11-30 18:44:13.507394  1560.954621   134.240467  4.207034e+04   \n",
       "2023-11-30 18:44:19.744259  1493.248977   225.436451  2.173415e+04   \n",
       "\n",
       "                            IterationNum  IterationCount  wait  ...  \\\n",
       "time                                                            ...   \n",
       "2023-11-30 18:48:55.289094           0.0            45.0   2.0  ...   \n",
       "2023-11-30 18:49:07.044070           1.0            45.0   2.0  ...   \n",
       "2023-11-30 18:49:18.937534           2.0            45.0   2.0  ...   \n",
       "2023-11-30 18:49:30.693408           3.0            45.0   2.0  ...   \n",
       "2023-11-30 18:49:42.569157           4.0            45.0   2.0  ...   \n",
       "...                                  ...             ...   ...  ...   \n",
       "2023-11-30 18:43:54.733891          40.0            45.0  30.0  ...   \n",
       "2023-11-30 18:44:01.008974          41.0            45.0  30.0  ...   \n",
       "2023-11-30 18:44:07.226235          42.0            45.0  30.0  ...   \n",
       "2023-11-30 18:44:13.507394          43.0            45.0  30.0  ...   \n",
       "2023-11-30 18:44:19.744259          44.0            45.0  30.0  ...   \n",
       "\n",
       "                            HighServo2  HighServo3  HighServo0  Coil_medB  \\\n",
       "time                                                                        \n",
       "2023-11-30 18:48:55.289094         2.3         2.3        -0.1       -0.1   \n",
       "2023-11-30 18:49:07.044070         2.3         2.3        -0.1       -0.1   \n",
       "2023-11-30 18:49:18.937534         2.3         2.3        -0.1       -0.1   \n",
       "2023-11-30 18:49:30.693408         2.3         2.3        -0.1       -0.1   \n",
       "2023-11-30 18:49:42.569157         2.3         2.3        -0.1       -0.1   \n",
       "...                                ...         ...         ...        ...   \n",
       "2023-11-30 18:43:54.733891         2.3         2.3        -0.1       -0.1   \n",
       "2023-11-30 18:44:01.008974         2.3         2.3        -0.1       -0.1   \n",
       "2023-11-30 18:44:07.226235         2.3         2.3        -0.1       -0.1   \n",
       "2023-11-30 18:44:13.507394         2.3         2.3        -0.1       -0.1   \n",
       "2023-11-30 18:44:19.744259         2.3         2.3        -0.1       -0.1   \n",
       "\n",
       "                            MedB_time  IR_AOM_freq  IR_AOM_VCO_V  \\\n",
       "time                                                               \n",
       "2023-11-30 18:48:55.289094       20.0        110.0      7.800687   \n",
       "2023-11-30 18:49:07.044070       20.0        110.0      7.800687   \n",
       "2023-11-30 18:49:18.937534       20.0        110.0      7.800687   \n",
       "2023-11-30 18:49:30.693408       20.0        110.0      7.800687   \n",
       "2023-11-30 18:49:42.569157       20.0        110.0      7.800687   \n",
       "...                               ...          ...           ...   \n",
       "2023-11-30 18:43:54.733891       20.0        110.0      7.800687   \n",
       "2023-11-30 18:44:01.008974       20.0        110.0      7.800687   \n",
       "2023-11-30 18:44:07.226235       20.0        110.0      7.800687   \n",
       "2023-11-30 18:44:13.507394       20.0        110.0      7.800687   \n",
       "2023-11-30 18:44:19.744259       20.0        110.0      7.800687   \n",
       "\n",
       "                            IRmodulate_ms  modulate_freq  Burnt_In  \n",
       "time                                                                \n",
       "2023-11-30 18:48:55.289094            7.0           30.0       1.0  \n",
       "2023-11-30 18:49:07.044070            7.0           30.0       1.0  \n",
       "2023-11-30 18:49:18.937534            7.0           30.0       1.0  \n",
       "2023-11-30 18:49:30.693408            7.0           30.0       1.0  \n",
       "2023-11-30 18:49:42.569157            7.0           30.0       1.0  \n",
       "...                                   ...            ...       ...  \n",
       "2023-11-30 18:43:54.733891            7.0           30.0       0.0  \n",
       "2023-11-30 18:44:01.008974            7.0           30.0       0.0  \n",
       "2023-11-30 18:44:07.226235            7.0           30.0       0.0  \n",
       "2023-11-30 18:44:13.507394            7.0           30.0       0.0  \n",
       "2023-11-30 18:44:19.744259            7.0           30.0       0.0  \n",
       "\n",
       "[218 rows x 49 columns]"
      ]
     },
     "execution_count": 20,
     "metadata": {},
     "output_type": "execute_result"
    }
   ],
   "source": [
    "df"
   ]
  },
  {
   "cell_type": "code",
   "execution_count": 21,
   "id": "9f4ba9d3",
   "metadata": {},
   "outputs": [
    {
     "data": {
      "text/plain": [
       "time\n",
       "2023-11-30 18:48:55.289094      -1.0\n",
       "2023-11-30 18:49:07.044070      -1.0\n",
       "2023-11-30 18:49:18.937534      -1.0\n",
       "2023-11-30 18:49:30.693408      -1.0\n",
       "2023-11-30 18:49:42.569157      -1.0\n",
       "                               ...  \n",
       "2023-11-30 18:43:54.733891    1200.0\n",
       "2023-11-30 18:44:01.008974    1200.0\n",
       "2023-11-30 18:44:07.226235    1200.0\n",
       "2023-11-30 18:44:13.507394    1200.0\n",
       "2023-11-30 18:44:19.744259    1200.0\n",
       "Name: ODT_Position, Length: 218, dtype: float64"
      ]
     },
     "execution_count": 21,
     "metadata": {},
     "output_type": "execute_result"
    }
   ],
   "source": [
    "df.ODT_Position"
   ]
  },
  {
   "cell_type": "code",
   "execution_count": null,
   "id": "de28cc46",
   "metadata": {},
   "outputs": [],
   "source": []
  },
  {
   "cell_type": "code",
   "execution_count": 22,
   "id": "6f2e3d3b",
   "metadata": {},
   "outputs": [
    {
     "data": {
      "image/png": "[encoded data removed]",
      "text/plain": [
       "<Figure size 720x576 with 1 Axes>"
      ]
     },
     "metadata": {
      "needs_background": "light"
     },
     "output_type": "display_data"
    },
    {
     "data": {
      "text/plain": [
       "(<Figure size 720x576 with 1 Axes>,\n",
       " <AxesSubplot:xlabel='ZSBiasCurrent', ylabel='AtomNumber'>)"
      ]
     },
     "execution_count": 22,
     "metadata": {},
     "output_type": "execute_result"
    }
   ],
   "source": [
    "\n",
    "ImageAnalysisCode.PlotFromDataCSV(df, 'ZSBiasCurrent', 'AtomNumber', \n",
    "                                  iterateVariable='VerticalBiasCurrent', \n",
    "                                  filterByAnd=[\n",
    "#                                       'AtomNumber<1000000', \n",
    "#                                       'VerticalBiasCurrent>=7.5',\n",
    "#                                       'wait==30',\n",
    "                                      'ODT_Position==1200'\n",
    "                                  ],\n",
    "                                  groupbyX=1, threeD=0,\n",
    "                                 viewElev=20, viewAzim=-20\n",
    "                                 )\n"
   ]
  },
  {
   "cell_type": "code",
   "execution_count": 23,
   "id": "bf81bae7",
   "metadata": {},
   "outputs": [],
   "source": [
    "X = 'VerticalBiasCurrent'\n",
    "Y = 'ZSBiasCurrent'\n",
    "Z = 'AtomNumber'\n",
    "O = 'ODT_Position'\n",
    "B = 'Burnt_In'"
   ]
  },
  {
   "cell_type": "code",
   "execution_count": 24,
   "id": "79ed2485",
   "metadata": {},
   "outputs": [],
   "source": [
    "df1 = df[[X, Y, Z, O, B]]"
   ]
  },
  {
   "cell_type": "code",
   "execution_count": 25,
   "id": "ff1fe754",
   "metadata": {},
   "outputs": [],
   "source": [
    "dfODT = df1[df1.ODT_Position == 1]\n",
    "dfCMOT = df1[(df1.ODT_Position == -1)]\n",
    "# dfCMOTBurntIn = df1[(df1.ODT_Position == 99) & (df1.Burnt_In == 1)]"
   ]
  },
  {
   "cell_type": "code",
   "execution_count": null,
   "id": "9a4ffaf6",
   "metadata": {},
   "outputs": [],
   "source": []
  },
  {
   "cell_type": "code",
   "execution_count": 26,
   "id": "cdf14f0c",
   "metadata": {},
   "outputs": [
    {
     "data": {
      "text/html": [
       "<div>\n",
       "<style scoped>\n",
       "    .dataframe tbody tr th:only-of-type {\n",
       "        vertical-align: middle;\n",
       "    }\n",
       "\n",
       "    .dataframe tbody tr th {\n",
       "        vertical-align: top;\n",
       "    }\n",
       "\n",
       "    .dataframe thead th {\n",
       "        text-align: right;\n",
       "    }\n",
       "</style>\n",
       "<table border=\"1\" class=\"dataframe\">\n",
       "  <thead>\n",
       "    <tr style=\"text-align: right;\">\n",
       "      <th></th>\n",
       "      <th></th>\n",
       "      <th></th>\n",
       "      <th></th>\n",
       "      <th>AtomNumber</th>\n",
       "    </tr>\n",
       "    <tr>\n",
       "      <th>VerticalBiasCurrent</th>\n",
       "      <th>ZSBiasCurrent</th>\n",
       "      <th>Burnt_In</th>\n",
       "      <th>ODT_Position</th>\n",
       "      <th></th>\n",
       "    </tr>\n",
       "  </thead>\n",
       "  <tbody>\n",
       "    <tr>\n",
       "      <th rowspan=\"5\" valign=\"top\">1.0</th>\n",
       "      <th>4.5</th>\n",
       "      <th>0.0</th>\n",
       "      <th>1200.0</th>\n",
       "      <td>738.093630</td>\n",
       "    </tr>\n",
       "    <tr>\n",
       "      <th>5.0</th>\n",
       "      <th>0.0</th>\n",
       "      <th>1200.0</th>\n",
       "      <td>11810.493959</td>\n",
       "    </tr>\n",
       "    <tr>\n",
       "      <th>5.5</th>\n",
       "      <th>0.0</th>\n",
       "      <th>1200.0</th>\n",
       "      <td>14958.441290</td>\n",
       "    </tr>\n",
       "    <tr>\n",
       "      <th>6.0</th>\n",
       "      <th>0.0</th>\n",
       "      <th>1200.0</th>\n",
       "      <td>86508.686056</td>\n",
       "    </tr>\n",
       "    <tr>\n",
       "      <th>6.5</th>\n",
       "      <th>0.0</th>\n",
       "      <th>1200.0</th>\n",
       "      <td>206933.660714</td>\n",
       "    </tr>\n",
       "    <tr>\n",
       "      <th>...</th>\n",
       "      <th>...</th>\n",
       "      <th>...</th>\n",
       "      <th>...</th>\n",
       "      <td>...</td>\n",
       "    </tr>\n",
       "    <tr>\n",
       "      <th rowspan=\"5\" valign=\"top\">5.5</th>\n",
       "      <th>5.5</th>\n",
       "      <th>0.0</th>\n",
       "      <th>1200.0</th>\n",
       "      <td>123268.316407</td>\n",
       "    </tr>\n",
       "    <tr>\n",
       "      <th>6.0</th>\n",
       "      <th>0.0</th>\n",
       "      <th>1200.0</th>\n",
       "      <td>137837.013512</td>\n",
       "    </tr>\n",
       "    <tr>\n",
       "      <th>6.5</th>\n",
       "      <th>0.0</th>\n",
       "      <th>1200.0</th>\n",
       "      <td>174168.300261</td>\n",
       "    </tr>\n",
       "    <tr>\n",
       "      <th>7.0</th>\n",
       "      <th>0.0</th>\n",
       "      <th>1200.0</th>\n",
       "      <td>159077.616241</td>\n",
       "    </tr>\n",
       "    <tr>\n",
       "      <th>7.5</th>\n",
       "      <th>0.0</th>\n",
       "      <th>1200.0</th>\n",
       "      <td>118740.448401</td>\n",
       "    </tr>\n",
       "  </tbody>\n",
       "</table>\n",
       "<p>83 rows × 1 columns</p>\n",
       "</div>"
      ],
      "text/plain": [
       "                                                            AtomNumber\n",
       "VerticalBiasCurrent ZSBiasCurrent Burnt_In ODT_Position               \n",
       "1.0                 4.5           0.0      1200.0           738.093630\n",
       "                    5.0           0.0      1200.0         11810.493959\n",
       "                    5.5           0.0      1200.0         14958.441290\n",
       "                    6.0           0.0      1200.0         86508.686056\n",
       "                    6.5           0.0      1200.0        206933.660714\n",
       "...                                                                ...\n",
       "5.5                 5.5           0.0      1200.0        123268.316407\n",
       "                    6.0           0.0      1200.0        137837.013512\n",
       "                    6.5           0.0      1200.0        174168.300261\n",
       "                    7.0           0.0      1200.0        159077.616241\n",
       "                    7.5           0.0      1200.0        118740.448401\n",
       "\n",
       "[83 rows x 1 columns]"
      ]
     },
     "execution_count": 26,
     "metadata": {},
     "output_type": "execute_result"
    }
   ],
   "source": [
    "df1mean = df1.groupby([X, Y, B, O]).mean()\n",
    "df1mean"
   ]
  },
  {
   "cell_type": "code",
   "execution_count": null,
   "id": "53c788bf",
   "metadata": {},
   "outputs": [],
   "source": []
  },
  {
   "cell_type": "code",
   "execution_count": 27,
   "id": "b31d84eb",
   "metadata": {},
   "outputs": [
    {
     "data": {
      "text/html": [
       "<div>\n",
       "<style scoped>\n",
       "    .dataframe tbody tr th:only-of-type {\n",
       "        vertical-align: middle;\n",
       "    }\n",
       "\n",
       "    .dataframe tbody tr th {\n",
       "        vertical-align: top;\n",
       "    }\n",
       "\n",
       "    .dataframe thead tr th {\n",
       "        text-align: left;\n",
       "    }\n",
       "\n",
       "    .dataframe thead tr:last-of-type th {\n",
       "        text-align: right;\n",
       "    }\n",
       "</style>\n",
       "<table border=\"1\" class=\"dataframe\">\n",
       "  <thead>\n",
       "    <tr>\n",
       "      <th></th>\n",
       "      <th>ODT_Position</th>\n",
       "      <th colspan=\"2\" halign=\"left\">-1.0</th>\n",
       "      <th colspan=\"2\" halign=\"left\">1200.0</th>\n",
       "    </tr>\n",
       "    <tr>\n",
       "      <th></th>\n",
       "      <th>Burnt_In</th>\n",
       "      <th>0.0</th>\n",
       "      <th>1.0</th>\n",
       "      <th>0.0</th>\n",
       "      <th>1.0</th>\n",
       "    </tr>\n",
       "    <tr>\n",
       "      <th>VerticalBiasCurrent</th>\n",
       "      <th>ZSBiasCurrent</th>\n",
       "      <th></th>\n",
       "      <th></th>\n",
       "      <th></th>\n",
       "      <th></th>\n",
       "    </tr>\n",
       "  </thead>\n",
       "  <tbody>\n",
       "    <tr>\n",
       "      <th rowspan=\"5\" valign=\"top\">1.0</th>\n",
       "      <th>4.5</th>\n",
       "      <td>NaN</td>\n",
       "      <td>NaN</td>\n",
       "      <td>738.093630</td>\n",
       "      <td>NaN</td>\n",
       "    </tr>\n",
       "    <tr>\n",
       "      <th>5.0</th>\n",
       "      <td>NaN</td>\n",
       "      <td>NaN</td>\n",
       "      <td>11810.493959</td>\n",
       "      <td>NaN</td>\n",
       "    </tr>\n",
       "    <tr>\n",
       "      <th>5.5</th>\n",
       "      <td>NaN</td>\n",
       "      <td>NaN</td>\n",
       "      <td>14958.441290</td>\n",
       "      <td>NaN</td>\n",
       "    </tr>\n",
       "    <tr>\n",
       "      <th>6.0</th>\n",
       "      <td>NaN</td>\n",
       "      <td>NaN</td>\n",
       "      <td>86508.686056</td>\n",
       "      <td>NaN</td>\n",
       "    </tr>\n",
       "    <tr>\n",
       "      <th>6.5</th>\n",
       "      <td>NaN</td>\n",
       "      <td>NaN</td>\n",
       "      <td>206933.660714</td>\n",
       "      <td>NaN</td>\n",
       "    </tr>\n",
       "    <tr>\n",
       "      <th>...</th>\n",
       "      <th>...</th>\n",
       "      <td>...</td>\n",
       "      <td>...</td>\n",
       "      <td>...</td>\n",
       "      <td>...</td>\n",
       "    </tr>\n",
       "    <tr>\n",
       "      <th rowspan=\"5\" valign=\"top\">5.5</th>\n",
       "      <th>5.5</th>\n",
       "      <td>NaN</td>\n",
       "      <td>NaN</td>\n",
       "      <td>123268.316407</td>\n",
       "      <td>NaN</td>\n",
       "    </tr>\n",
       "    <tr>\n",
       "      <th>6.0</th>\n",
       "      <td>NaN</td>\n",
       "      <td>NaN</td>\n",
       "      <td>137837.013512</td>\n",
       "      <td>NaN</td>\n",
       "    </tr>\n",
       "    <tr>\n",
       "      <th>6.5</th>\n",
       "      <td>NaN</td>\n",
       "      <td>NaN</td>\n",
       "      <td>174168.300261</td>\n",
       "      <td>NaN</td>\n",
       "    </tr>\n",
       "    <tr>\n",
       "      <th>7.0</th>\n",
       "      <td>NaN</td>\n",
       "      <td>NaN</td>\n",
       "      <td>159077.616241</td>\n",
       "      <td>NaN</td>\n",
       "    </tr>\n",
       "    <tr>\n",
       "      <th>7.5</th>\n",
       "      <td>NaN</td>\n",
       "      <td>NaN</td>\n",
       "      <td>118740.448401</td>\n",
       "      <td>NaN</td>\n",
       "    </tr>\n",
       "  </tbody>\n",
       "</table>\n",
       "<p>68 rows × 4 columns</p>\n",
       "</div>"
      ],
      "text/plain": [
       "ODT_Position                      -1.0                1200.0    \n",
       "Burnt_In                              0.0 1.0            0.0 1.0\n",
       "VerticalBiasCurrent ZSBiasCurrent                               \n",
       "1.0                 4.5               NaN NaN     738.093630 NaN\n",
       "                    5.0               NaN NaN   11810.493959 NaN\n",
       "                    5.5               NaN NaN   14958.441290 NaN\n",
       "                    6.0               NaN NaN   86508.686056 NaN\n",
       "                    6.5               NaN NaN  206933.660714 NaN\n",
       "...                                   ...  ..            ...  ..\n",
       "5.5                 5.5               NaN NaN  123268.316407 NaN\n",
       "                    6.0               NaN NaN  137837.013512 NaN\n",
       "                    6.5               NaN NaN  174168.300261 NaN\n",
       "                    7.0               NaN NaN  159077.616241 NaN\n",
       "                    7.5               NaN NaN  118740.448401 NaN\n",
       "\n",
       "[68 rows x 4 columns]"
      ]
     },
     "execution_count": 27,
     "metadata": {},
     "output_type": "execute_result"
    }
   ],
   "source": [
    "df1mean.AtomNumber.unstack().unstack()"
   ]
  },
  {
   "cell_type": "code",
   "execution_count": 28,
   "id": "3d38b5b7",
   "metadata": {},
   "outputs": [],
   "source": [
    "ANO = df1mean.AtomNumber.unstack().unstack()[1200][0].unstack()\n",
    "# ANC = df1mean.AtomNumber.unstack().unstack()[99][0].unstack()\n",
    "ANCB = df1mean.AtomNumber.unstack().unstack()[-1][1].unstack()"
   ]
  },
  {
   "cell_type": "code",
   "execution_count": 29,
   "id": "c231ebe5",
   "metadata": {},
   "outputs": [
    {
     "data": {
      "text/html": [
       "<div>\n",
       "<style scoped>\n",
       "    .dataframe tbody tr th:only-of-type {\n",
       "        vertical-align: middle;\n",
       "    }\n",
       "\n",
       "    .dataframe tbody tr th {\n",
       "        vertical-align: top;\n",
       "    }\n",
       "\n",
       "    .dataframe thead th {\n",
       "        text-align: right;\n",
       "    }\n",
       "</style>\n",
       "<table border=\"1\" class=\"dataframe\">\n",
       "  <thead>\n",
       "    <tr style=\"text-align: right;\">\n",
       "      <th>ZSBiasCurrent</th>\n",
       "      <th>4.5</th>\n",
       "      <th>5.0</th>\n",
       "      <th>5.5</th>\n",
       "      <th>6.0</th>\n",
       "      <th>6.5</th>\n",
       "      <th>7.0</th>\n",
       "      <th>7.5</th>\n",
       "    </tr>\n",
       "    <tr>\n",
       "      <th>VerticalBiasCurrent</th>\n",
       "      <th></th>\n",
       "      <th></th>\n",
       "      <th></th>\n",
       "      <th></th>\n",
       "      <th></th>\n",
       "      <th></th>\n",
       "      <th></th>\n",
       "    </tr>\n",
       "  </thead>\n",
       "  <tbody>\n",
       "    <tr>\n",
       "      <th>1.0</th>\n",
       "      <td>NaN</td>\n",
       "      <td>NaN</td>\n",
       "      <td>NaN</td>\n",
       "      <td>NaN</td>\n",
       "      <td>NaN</td>\n",
       "      <td>NaN</td>\n",
       "      <td>NaN</td>\n",
       "    </tr>\n",
       "    <tr>\n",
       "      <th>1.5</th>\n",
       "      <td>NaN</td>\n",
       "      <td>NaN</td>\n",
       "      <td>NaN</td>\n",
       "      <td>2.378906e+08</td>\n",
       "      <td>2.264254e+08</td>\n",
       "      <td>2.091161e+08</td>\n",
       "      <td>NaN</td>\n",
       "    </tr>\n",
       "    <tr>\n",
       "      <th>2.0</th>\n",
       "      <td>NaN</td>\n",
       "      <td>NaN</td>\n",
       "      <td>NaN</td>\n",
       "      <td>2.108250e+08</td>\n",
       "      <td>1.986656e+08</td>\n",
       "      <td>1.821966e+08</td>\n",
       "      <td>NaN</td>\n",
       "    </tr>\n",
       "    <tr>\n",
       "      <th>2.5</th>\n",
       "      <td>NaN</td>\n",
       "      <td>NaN</td>\n",
       "      <td>NaN</td>\n",
       "      <td>1.855230e+08</td>\n",
       "      <td>1.701159e+08</td>\n",
       "      <td>1.589612e+08</td>\n",
       "      <td>NaN</td>\n",
       "    </tr>\n",
       "    <tr>\n",
       "      <th>3.0</th>\n",
       "      <td>NaN</td>\n",
       "      <td>NaN</td>\n",
       "      <td>NaN</td>\n",
       "      <td>1.615147e+08</td>\n",
       "      <td>1.509238e+08</td>\n",
       "      <td>1.386629e+08</td>\n",
       "      <td>NaN</td>\n",
       "    </tr>\n",
       "    <tr>\n",
       "      <th>3.5</th>\n",
       "      <td>NaN</td>\n",
       "      <td>NaN</td>\n",
       "      <td>NaN</td>\n",
       "      <td>1.423762e+08</td>\n",
       "      <td>1.310709e+08</td>\n",
       "      <td>1.213302e+08</td>\n",
       "      <td>NaN</td>\n",
       "    </tr>\n",
       "    <tr>\n",
       "      <th>4.0</th>\n",
       "      <td>NaN</td>\n",
       "      <td>NaN</td>\n",
       "      <td>NaN</td>\n",
       "      <td>NaN</td>\n",
       "      <td>NaN</td>\n",
       "      <td>NaN</td>\n",
       "      <td>NaN</td>\n",
       "    </tr>\n",
       "    <tr>\n",
       "      <th>4.5</th>\n",
       "      <td>NaN</td>\n",
       "      <td>NaN</td>\n",
       "      <td>NaN</td>\n",
       "      <td>NaN</td>\n",
       "      <td>NaN</td>\n",
       "      <td>NaN</td>\n",
       "      <td>NaN</td>\n",
       "    </tr>\n",
       "    <tr>\n",
       "      <th>5.0</th>\n",
       "      <td>NaN</td>\n",
       "      <td>NaN</td>\n",
       "      <td>NaN</td>\n",
       "      <td>NaN</td>\n",
       "      <td>NaN</td>\n",
       "      <td>NaN</td>\n",
       "      <td>NaN</td>\n",
       "    </tr>\n",
       "    <tr>\n",
       "      <th>5.5</th>\n",
       "      <td>NaN</td>\n",
       "      <td>NaN</td>\n",
       "      <td>NaN</td>\n",
       "      <td>NaN</td>\n",
       "      <td>NaN</td>\n",
       "      <td>NaN</td>\n",
       "      <td>NaN</td>\n",
       "    </tr>\n",
       "  </tbody>\n",
       "</table>\n",
       "</div>"
      ],
      "text/plain": [
       "ZSBiasCurrent        4.5  5.0  5.5           6.0           6.5           7.0  \\\n",
       "VerticalBiasCurrent                                                            \n",
       "1.0                  NaN  NaN  NaN           NaN           NaN           NaN   \n",
       "1.5                  NaN  NaN  NaN  2.378906e+08  2.264254e+08  2.091161e+08   \n",
       "2.0                  NaN  NaN  NaN  2.108250e+08  1.986656e+08  1.821966e+08   \n",
       "2.5                  NaN  NaN  NaN  1.855230e+08  1.701159e+08  1.589612e+08   \n",
       "3.0                  NaN  NaN  NaN  1.615147e+08  1.509238e+08  1.386629e+08   \n",
       "3.5                  NaN  NaN  NaN  1.423762e+08  1.310709e+08  1.213302e+08   \n",
       "4.0                  NaN  NaN  NaN           NaN           NaN           NaN   \n",
       "4.5                  NaN  NaN  NaN           NaN           NaN           NaN   \n",
       "5.0                  NaN  NaN  NaN           NaN           NaN           NaN   \n",
       "5.5                  NaN  NaN  NaN           NaN           NaN           NaN   \n",
       "\n",
       "ZSBiasCurrent        7.5  \n",
       "VerticalBiasCurrent       \n",
       "1.0                  NaN  \n",
       "1.5                  NaN  \n",
       "2.0                  NaN  \n",
       "2.5                  NaN  \n",
       "3.0                  NaN  \n",
       "3.5                  NaN  \n",
       "4.0                  NaN  \n",
       "4.5                  NaN  \n",
       "5.0                  NaN  \n",
       "5.5                  NaN  "
      ]
     },
     "execution_count": 29,
     "metadata": {},
     "output_type": "execute_result"
    }
   ],
   "source": [
    "ANCB"
   ]
  },
  {
   "cell_type": "code",
   "execution_count": 30,
   "id": "e436b202",
   "metadata": {},
   "outputs": [
    {
     "data": {
      "text/html": [
       "<div>\n",
       "<style scoped>\n",
       "    .dataframe tbody tr th:only-of-type {\n",
       "        vertical-align: middle;\n",
       "    }\n",
       "\n",
       "    .dataframe tbody tr th {\n",
       "        vertical-align: top;\n",
       "    }\n",
       "\n",
       "    .dataframe thead th {\n",
       "        text-align: right;\n",
       "    }\n",
       "</style>\n",
       "<table border=\"1\" class=\"dataframe\">\n",
       "  <thead>\n",
       "    <tr style=\"text-align: right;\">\n",
       "      <th>ZSBiasCurrent</th>\n",
       "      <th>4.5</th>\n",
       "      <th>5.0</th>\n",
       "      <th>5.5</th>\n",
       "      <th>6.0</th>\n",
       "      <th>6.5</th>\n",
       "      <th>7.0</th>\n",
       "      <th>7.5</th>\n",
       "    </tr>\n",
       "    <tr>\n",
       "      <th>VerticalBiasCurrent</th>\n",
       "      <th></th>\n",
       "      <th></th>\n",
       "      <th></th>\n",
       "      <th></th>\n",
       "      <th></th>\n",
       "      <th></th>\n",
       "      <th></th>\n",
       "    </tr>\n",
       "  </thead>\n",
       "  <tbody>\n",
       "    <tr>\n",
       "      <th>1.0</th>\n",
       "      <td>738.093630</td>\n",
       "      <td>11810.493959</td>\n",
       "      <td>14958.441290</td>\n",
       "      <td>86508.686056</td>\n",
       "      <td>206933.660714</td>\n",
       "      <td>60801.767826</td>\n",
       "      <td>14341.033922</td>\n",
       "    </tr>\n",
       "    <tr>\n",
       "      <th>1.5</th>\n",
       "      <td>8497.482380</td>\n",
       "      <td>26333.224645</td>\n",
       "      <td>38154.727386</td>\n",
       "      <td>124941.120815</td>\n",
       "      <td>366893.914316</td>\n",
       "      <td>234583.600735</td>\n",
       "      <td>55045.814943</td>\n",
       "    </tr>\n",
       "    <tr>\n",
       "      <th>2.0</th>\n",
       "      <td>18801.398396</td>\n",
       "      <td>40136.137980</td>\n",
       "      <td>86469.040368</td>\n",
       "      <td>208922.251708</td>\n",
       "      <td>447441.731976</td>\n",
       "      <td>299720.035959</td>\n",
       "      <td>111040.960513</td>\n",
       "    </tr>\n",
       "    <tr>\n",
       "      <th>2.5</th>\n",
       "      <td>30492.865589</td>\n",
       "      <td>62233.863568</td>\n",
       "      <td>131526.545999</td>\n",
       "      <td>304107.960689</td>\n",
       "      <td>416816.627313</td>\n",
       "      <td>309961.716523</td>\n",
       "      <td>135507.513762</td>\n",
       "    </tr>\n",
       "    <tr>\n",
       "      <th>3.0</th>\n",
       "      <td>47438.422721</td>\n",
       "      <td>77832.536936</td>\n",
       "      <td>162395.384445</td>\n",
       "      <td>288265.131813</td>\n",
       "      <td>318222.735934</td>\n",
       "      <td>283847.621085</td>\n",
       "      <td>139778.503514</td>\n",
       "    </tr>\n",
       "    <tr>\n",
       "      <th>3.5</th>\n",
       "      <td>62608.150961</td>\n",
       "      <td>85088.064199</td>\n",
       "      <td>197061.934552</td>\n",
       "      <td>254777.528600</td>\n",
       "      <td>254195.392408</td>\n",
       "      <td>240538.571527</td>\n",
       "      <td>132915.768178</td>\n",
       "    </tr>\n",
       "    <tr>\n",
       "      <th>4.0</th>\n",
       "      <td>74510.253193</td>\n",
       "      <td>88790.184985</td>\n",
       "      <td>209695.690762</td>\n",
       "      <td>238427.297012</td>\n",
       "      <td>224611.540925</td>\n",
       "      <td>215917.314188</td>\n",
       "      <td>147234.968032</td>\n",
       "    </tr>\n",
       "    <tr>\n",
       "      <th>4.5</th>\n",
       "      <td>78998.462217</td>\n",
       "      <td>86941.894952</td>\n",
       "      <td>216612.851949</td>\n",
       "      <td>225791.215626</td>\n",
       "      <td>226936.327266</td>\n",
       "      <td>209096.417910</td>\n",
       "      <td>145189.760802</td>\n",
       "    </tr>\n",
       "    <tr>\n",
       "      <th>5.0</th>\n",
       "      <td>70331.393947</td>\n",
       "      <td>76121.395696</td>\n",
       "      <td>168195.844936</td>\n",
       "      <td>190481.380435</td>\n",
       "      <td>208654.759028</td>\n",
       "      <td>197305.780281</td>\n",
       "      <td>143162.742565</td>\n",
       "    </tr>\n",
       "    <tr>\n",
       "      <th>5.5</th>\n",
       "      <td>NaN</td>\n",
       "      <td>NaN</td>\n",
       "      <td>123268.316407</td>\n",
       "      <td>137837.013512</td>\n",
       "      <td>174168.300261</td>\n",
       "      <td>159077.616241</td>\n",
       "      <td>118740.448401</td>\n",
       "    </tr>\n",
       "  </tbody>\n",
       "</table>\n",
       "</div>"
      ],
      "text/plain": [
       "ZSBiasCurrent                 4.5           5.0            5.5            6.0  \\\n",
       "VerticalBiasCurrent                                                             \n",
       "1.0                    738.093630  11810.493959   14958.441290   86508.686056   \n",
       "1.5                   8497.482380  26333.224645   38154.727386  124941.120815   \n",
       "2.0                  18801.398396  40136.137980   86469.040368  208922.251708   \n",
       "2.5                  30492.865589  62233.863568  131526.545999  304107.960689   \n",
       "3.0                  47438.422721  77832.536936  162395.384445  288265.131813   \n",
       "3.5                  62608.150961  85088.064199  197061.934552  254777.528600   \n",
       "4.0                  74510.253193  88790.184985  209695.690762  238427.297012   \n",
       "4.5                  78998.462217  86941.894952  216612.851949  225791.215626   \n",
       "5.0                  70331.393947  76121.395696  168195.844936  190481.380435   \n",
       "5.5                           NaN           NaN  123268.316407  137837.013512   \n",
       "\n",
       "ZSBiasCurrent                  6.5            7.0            7.5  \n",
       "VerticalBiasCurrent                                               \n",
       "1.0                  206933.660714   60801.767826   14341.033922  \n",
       "1.5                  366893.914316  234583.600735   55045.814943  \n",
       "2.0                  447441.731976  299720.035959  111040.960513  \n",
       "2.5                  416816.627313  309961.716523  135507.513762  \n",
       "3.0                  318222.735934  283847.621085  139778.503514  \n",
       "3.5                  254195.392408  240538.571527  132915.768178  \n",
       "4.0                  224611.540925  215917.314188  147234.968032  \n",
       "4.5                  226936.327266  209096.417910  145189.760802  \n",
       "5.0                  208654.759028  197305.780281  143162.742565  \n",
       "5.5                  174168.300261  159077.616241  118740.448401  "
      ]
     },
     "execution_count": 30,
     "metadata": {},
     "output_type": "execute_result"
    }
   ],
   "source": [
    "ANO"
   ]
  },
  {
   "cell_type": "code",
   "execution_count": 31,
   "id": "a2927403",
   "metadata": {},
   "outputs": [],
   "source": [
    "ratio = ANO.values / ANCB.values"
   ]
  },
  {
   "cell_type": "code",
   "execution_count": 32,
   "id": "9e27bc0f",
   "metadata": {},
   "outputs": [
    {
     "data": {
      "text/html": [
       "<div>\n",
       "<style scoped>\n",
       "    .dataframe tbody tr th:only-of-type {\n",
       "        vertical-align: middle;\n",
       "    }\n",
       "\n",
       "    .dataframe tbody tr th {\n",
       "        vertical-align: top;\n",
       "    }\n",
       "\n",
       "    .dataframe thead th {\n",
       "        text-align: right;\n",
       "    }\n",
       "</style>\n",
       "<table border=\"1\" class=\"dataframe\">\n",
       "  <thead>\n",
       "    <tr style=\"text-align: right;\">\n",
       "      <th>ZSBiasCurrent</th>\n",
       "      <th>4.5</th>\n",
       "      <th>5.0</th>\n",
       "      <th>5.5</th>\n",
       "      <th>6.0</th>\n",
       "      <th>6.5</th>\n",
       "      <th>7.0</th>\n",
       "      <th>7.5</th>\n",
       "    </tr>\n",
       "    <tr>\n",
       "      <th>VerticalBiasCurrent</th>\n",
       "      <th></th>\n",
       "      <th></th>\n",
       "      <th></th>\n",
       "      <th></th>\n",
       "      <th></th>\n",
       "      <th></th>\n",
       "      <th></th>\n",
       "    </tr>\n",
       "  </thead>\n",
       "  <tbody>\n",
       "    <tr>\n",
       "      <th>1.0</th>\n",
       "      <td>NaN</td>\n",
       "      <td>NaN</td>\n",
       "      <td>NaN</td>\n",
       "      <td>NaN</td>\n",
       "      <td>NaN</td>\n",
       "      <td>NaN</td>\n",
       "      <td>NaN</td>\n",
       "    </tr>\n",
       "    <tr>\n",
       "      <th>1.5</th>\n",
       "      <td>NaN</td>\n",
       "      <td>NaN</td>\n",
       "      <td>NaN</td>\n",
       "      <td>0.214352</td>\n",
       "      <td>0.661326</td>\n",
       "      <td>0.457836</td>\n",
       "      <td>NaN</td>\n",
       "    </tr>\n",
       "    <tr>\n",
       "      <th>2.0</th>\n",
       "      <td>NaN</td>\n",
       "      <td>NaN</td>\n",
       "      <td>NaN</td>\n",
       "      <td>0.404448</td>\n",
       "      <td>0.919208</td>\n",
       "      <td>0.671391</td>\n",
       "      <td>NaN</td>\n",
       "    </tr>\n",
       "    <tr>\n",
       "      <th>2.5</th>\n",
       "      <td>NaN</td>\n",
       "      <td>NaN</td>\n",
       "      <td>NaN</td>\n",
       "      <td>0.669006</td>\n",
       "      <td>1.000000</td>\n",
       "      <td>0.795823</td>\n",
       "      <td>NaN</td>\n",
       "    </tr>\n",
       "    <tr>\n",
       "      <th>3.0</th>\n",
       "      <td>NaN</td>\n",
       "      <td>NaN</td>\n",
       "      <td>NaN</td>\n",
       "      <td>0.728417</td>\n",
       "      <td>0.860545</td>\n",
       "      <td>0.835459</td>\n",
       "      <td>NaN</td>\n",
       "    </tr>\n",
       "    <tr>\n",
       "      <th>3.5</th>\n",
       "      <td>NaN</td>\n",
       "      <td>NaN</td>\n",
       "      <td>NaN</td>\n",
       "      <td>0.730338</td>\n",
       "      <td>0.791519</td>\n",
       "      <td>0.809125</td>\n",
       "      <td>NaN</td>\n",
       "    </tr>\n",
       "    <tr>\n",
       "      <th>4.0</th>\n",
       "      <td>NaN</td>\n",
       "      <td>NaN</td>\n",
       "      <td>NaN</td>\n",
       "      <td>NaN</td>\n",
       "      <td>NaN</td>\n",
       "      <td>NaN</td>\n",
       "      <td>NaN</td>\n",
       "    </tr>\n",
       "    <tr>\n",
       "      <th>4.5</th>\n",
       "      <td>NaN</td>\n",
       "      <td>NaN</td>\n",
       "      <td>NaN</td>\n",
       "      <td>NaN</td>\n",
       "      <td>NaN</td>\n",
       "      <td>NaN</td>\n",
       "      <td>NaN</td>\n",
       "    </tr>\n",
       "    <tr>\n",
       "      <th>5.0</th>\n",
       "      <td>NaN</td>\n",
       "      <td>NaN</td>\n",
       "      <td>NaN</td>\n",
       "      <td>NaN</td>\n",
       "      <td>NaN</td>\n",
       "      <td>NaN</td>\n",
       "      <td>NaN</td>\n",
       "    </tr>\n",
       "    <tr>\n",
       "      <th>5.5</th>\n",
       "      <td>NaN</td>\n",
       "      <td>NaN</td>\n",
       "      <td>NaN</td>\n",
       "      <td>NaN</td>\n",
       "      <td>NaN</td>\n",
       "      <td>NaN</td>\n",
       "      <td>NaN</td>\n",
       "    </tr>\n",
       "  </tbody>\n",
       "</table>\n",
       "</div>"
      ],
      "text/plain": [
       "ZSBiasCurrent        4.5  5.0  5.5       6.0       6.5       7.0  7.5\n",
       "VerticalBiasCurrent                                                  \n",
       "1.0                  NaN  NaN  NaN       NaN       NaN       NaN  NaN\n",
       "1.5                  NaN  NaN  NaN  0.214352  0.661326  0.457836  NaN\n",
       "2.0                  NaN  NaN  NaN  0.404448  0.919208  0.671391  NaN\n",
       "2.5                  NaN  NaN  NaN  0.669006  1.000000  0.795823  NaN\n",
       "3.0                  NaN  NaN  NaN  0.728417  0.860545  0.835459  NaN\n",
       "3.5                  NaN  NaN  NaN  0.730338  0.791519  0.809125  NaN\n",
       "4.0                  NaN  NaN  NaN       NaN       NaN       NaN  NaN\n",
       "4.5                  NaN  NaN  NaN       NaN       NaN       NaN  NaN\n",
       "5.0                  NaN  NaN  NaN       NaN       NaN       NaN  NaN\n",
       "5.5                  NaN  NaN  NaN       NaN       NaN       NaN  NaN"
      ]
     },
     "execution_count": 32,
     "metadata": {},
     "output_type": "execute_result"
    }
   ],
   "source": [
    "pd.DataFrame(ratio/np.nanmax(ratio), index=ANO.index, columns=ANO.columns)"
   ]
  },
  {
   "cell_type": "code",
   "execution_count": 33,
   "id": "e3d1d1e5",
   "metadata": {},
   "outputs": [
    {
     "data": {
      "text/plain": [
       "0.002450191539084932"
      ]
     },
     "execution_count": 33,
     "metadata": {},
     "output_type": "execute_result"
    }
   ],
   "source": [
    "np.nanmax(ratio)"
   ]
  },
  {
   "cell_type": "code",
   "execution_count": null,
   "id": "dde8452f",
   "metadata": {},
   "outputs": [],
   "source": []
  },
  {
   "cell_type": "code",
   "execution_count": 34,
   "id": "89479476",
   "metadata": {},
   "outputs": [
    {
     "ename": "FileNotFoundError",
     "evalue": "[Errno 2] No such file or directory: 'Z:\\\\ats317group\\\\Data\\\\Analysis Resutls in csv\\\\No ODT Bias Scan_Oct24.csv'",
     "output_type": "error",
     "traceback": [
      "\u001b[1;31m---------------------------------------------------------------------------\u001b[0m",
      "\u001b[1;31mFileNotFoundError\u001b[0m                         Traceback (most recent call last)",
      "\u001b[1;32mC:\\Users\\SOMMER~1\\AppData\\Local\\Temp/ipykernel_8208/3071787719.py\u001b[0m in \u001b[0;36m<module>\u001b[1;34m\u001b[0m\n\u001b[1;32m----> 1\u001b[1;33m \u001b[0mscanResults\u001b[0m \u001b[1;33m=\u001b[0m \u001b[0mpd\u001b[0m\u001b[1;33m.\u001b[0m\u001b[0mread_csv\u001b[0m\u001b[1;33m(\u001b[0m\u001b[1;34mr'Z:\\ats317group\\Data\\Analysis Resutls in csv\\No ODT Bias Scan_Oct24.csv'\u001b[0m\u001b[1;33m)\u001b[0m\u001b[1;33m.\u001b[0m\u001b[0mset_index\u001b[0m\u001b[1;33m(\u001b[0m\u001b[1;33m[\u001b[0m\u001b[1;34m'VerticalBiasCurrent'\u001b[0m\u001b[1;33m,\u001b[0m\u001b[1;34m'ZSBiasCurrent'\u001b[0m\u001b[1;33m]\u001b[0m\u001b[1;33m)\u001b[0m\u001b[1;33m\u001b[0m\u001b[1;33m\u001b[0m\u001b[0m\n\u001b[0m",
      "\u001b[1;32mC:\\ProgramData\\Anaconda3\\lib\\site-packages\\pandas\\util\\_decorators.py\u001b[0m in \u001b[0;36mwrapper\u001b[1;34m(*args, **kwargs)\u001b[0m\n\u001b[0;32m    309\u001b[0m                     \u001b[0mstacklevel\u001b[0m\u001b[1;33m=\u001b[0m\u001b[0mstacklevel\u001b[0m\u001b[1;33m,\u001b[0m\u001b[1;33m\u001b[0m\u001b[1;33m\u001b[0m\u001b[0m\n\u001b[0;32m    310\u001b[0m                 )\n\u001b[1;32m--> 311\u001b[1;33m             \u001b[1;32mreturn\u001b[0m \u001b[0mfunc\u001b[0m\u001b[1;33m(\u001b[0m\u001b[1;33m*\u001b[0m\u001b[0margs\u001b[0m\u001b[1;33m,\u001b[0m \u001b[1;33m**\u001b[0m\u001b[0mkwargs\u001b[0m\u001b[1;33m)\u001b[0m\u001b[1;33m\u001b[0m\u001b[1;33m\u001b[0m\u001b[0m\n\u001b[0m\u001b[0;32m    312\u001b[0m \u001b[1;33m\u001b[0m\u001b[0m\n\u001b[0;32m    313\u001b[0m         \u001b[1;32mreturn\u001b[0m \u001b[0mwrapper\u001b[0m\u001b[1;33m\u001b[0m\u001b[1;33m\u001b[0m\u001b[0m\n",
      "\u001b[1;32mC:\\ProgramData\\Anaconda3\\lib\\site-packages\\pandas\\io\\parsers\\readers.py\u001b[0m in \u001b[0;36mread_csv\u001b[1;34m(filepath_or_buffer, sep, delimiter, header, names, index_col, usecols, squeeze, prefix, mangle_dupe_cols, dtype, engine, converters, true_values, false_values, skipinitialspace, skiprows, skipfooter, nrows, na_values, keep_default_na, na_filter, verbose, skip_blank_lines, parse_dates, infer_datetime_format, keep_date_col, date_parser, dayfirst, cache_dates, iterator, chunksize, compression, thousands, decimal, lineterminator, quotechar, quoting, doublequote, escapechar, comment, encoding, encoding_errors, dialect, error_bad_lines, warn_bad_lines, on_bad_lines, delim_whitespace, low_memory, memory_map, float_precision, storage_options)\u001b[0m\n\u001b[0;32m    584\u001b[0m     \u001b[0mkwds\u001b[0m\u001b[1;33m.\u001b[0m\u001b[0mupdate\u001b[0m\u001b[1;33m(\u001b[0m\u001b[0mkwds_defaults\u001b[0m\u001b[1;33m)\u001b[0m\u001b[1;33m\u001b[0m\u001b[1;33m\u001b[0m\u001b[0m\n\u001b[0;32m    585\u001b[0m \u001b[1;33m\u001b[0m\u001b[0m\n\u001b[1;32m--> 586\u001b[1;33m     \u001b[1;32mreturn\u001b[0m \u001b[0m_read\u001b[0m\u001b[1;33m(\u001b[0m\u001b[0mfilepath_or_buffer\u001b[0m\u001b[1;33m,\u001b[0m \u001b[0mkwds\u001b[0m\u001b[1;33m)\u001b[0m\u001b[1;33m\u001b[0m\u001b[1;33m\u001b[0m\u001b[0m\n\u001b[0m\u001b[0;32m    587\u001b[0m \u001b[1;33m\u001b[0m\u001b[0m\n\u001b[0;32m    588\u001b[0m \u001b[1;33m\u001b[0m\u001b[0m\n",
      "\u001b[1;32mC:\\ProgramData\\Anaconda3\\lib\\site-packages\\pandas\\io\\parsers\\readers.py\u001b[0m in \u001b[0;36m_read\u001b[1;34m(filepath_or_buffer, kwds)\u001b[0m\n\u001b[0;32m    480\u001b[0m \u001b[1;33m\u001b[0m\u001b[0m\n\u001b[0;32m    481\u001b[0m     \u001b[1;31m# Create the parser.\u001b[0m\u001b[1;33m\u001b[0m\u001b[1;33m\u001b[0m\u001b[1;33m\u001b[0m\u001b[0m\n\u001b[1;32m--> 482\u001b[1;33m     \u001b[0mparser\u001b[0m \u001b[1;33m=\u001b[0m \u001b[0mTextFileReader\u001b[0m\u001b[1;33m(\u001b[0m\u001b[0mfilepath_or_buffer\u001b[0m\u001b[1;33m,\u001b[0m \u001b[1;33m**\u001b[0m\u001b[0mkwds\u001b[0m\u001b[1;33m)\u001b[0m\u001b[1;33m\u001b[0m\u001b[1;33m\u001b[0m\u001b[0m\n\u001b[0m\u001b[0;32m    483\u001b[0m \u001b[1;33m\u001b[0m\u001b[0m\n\u001b[0;32m    484\u001b[0m     \u001b[1;32mif\u001b[0m \u001b[0mchunksize\u001b[0m \u001b[1;32mor\u001b[0m \u001b[0miterator\u001b[0m\u001b[1;33m:\u001b[0m\u001b[1;33m\u001b[0m\u001b[1;33m\u001b[0m\u001b[0m\n",
      "\u001b[1;32mC:\\ProgramData\\Anaconda3\\lib\\site-packages\\pandas\\io\\parsers\\readers.py\u001b[0m in \u001b[0;36m__init__\u001b[1;34m(self, f, engine, **kwds)\u001b[0m\n\u001b[0;32m    809\u001b[0m             \u001b[0mself\u001b[0m\u001b[1;33m.\u001b[0m\u001b[0moptions\u001b[0m\u001b[1;33m[\u001b[0m\u001b[1;34m\"has_index_names\"\u001b[0m\u001b[1;33m]\u001b[0m \u001b[1;33m=\u001b[0m \u001b[0mkwds\u001b[0m\u001b[1;33m[\u001b[0m\u001b[1;34m\"has_index_names\"\u001b[0m\u001b[1;33m]\u001b[0m\u001b[1;33m\u001b[0m\u001b[1;33m\u001b[0m\u001b[0m\n\u001b[0;32m    810\u001b[0m \u001b[1;33m\u001b[0m\u001b[0m\n\u001b[1;32m--> 811\u001b[1;33m         \u001b[0mself\u001b[0m\u001b[1;33m.\u001b[0m\u001b[0m_engine\u001b[0m \u001b[1;33m=\u001b[0m \u001b[0mself\u001b[0m\u001b[1;33m.\u001b[0m\u001b[0m_make_engine\u001b[0m\u001b[1;33m(\u001b[0m\u001b[0mself\u001b[0m\u001b[1;33m.\u001b[0m\u001b[0mengine\u001b[0m\u001b[1;33m)\u001b[0m\u001b[1;33m\u001b[0m\u001b[1;33m\u001b[0m\u001b[0m\n\u001b[0m\u001b[0;32m    812\u001b[0m \u001b[1;33m\u001b[0m\u001b[0m\n\u001b[0;32m    813\u001b[0m     \u001b[1;32mdef\u001b[0m \u001b[0mclose\u001b[0m\u001b[1;33m(\u001b[0m\u001b[0mself\u001b[0m\u001b[1;33m)\u001b[0m\u001b[1;33m:\u001b[0m\u001b[1;33m\u001b[0m\u001b[1;33m\u001b[0m\u001b[0m\n",
      "\u001b[1;32mC:\\ProgramData\\Anaconda3\\lib\\site-packages\\pandas\\io\\parsers\\readers.py\u001b[0m in \u001b[0;36m_make_engine\u001b[1;34m(self, engine)\u001b[0m\n\u001b[0;32m   1038\u001b[0m             )\n\u001b[0;32m   1039\u001b[0m         \u001b[1;31m# error: Too many arguments for \"ParserBase\"\u001b[0m\u001b[1;33m\u001b[0m\u001b[1;33m\u001b[0m\u001b[1;33m\u001b[0m\u001b[0m\n\u001b[1;32m-> 1040\u001b[1;33m         \u001b[1;32mreturn\u001b[0m \u001b[0mmapping\u001b[0m\u001b[1;33m[\u001b[0m\u001b[0mengine\u001b[0m\u001b[1;33m]\u001b[0m\u001b[1;33m(\u001b[0m\u001b[0mself\u001b[0m\u001b[1;33m.\u001b[0m\u001b[0mf\u001b[0m\u001b[1;33m,\u001b[0m \u001b[1;33m**\u001b[0m\u001b[0mself\u001b[0m\u001b[1;33m.\u001b[0m\u001b[0moptions\u001b[0m\u001b[1;33m)\u001b[0m  \u001b[1;31m# type: ignore[call-arg]\u001b[0m\u001b[1;33m\u001b[0m\u001b[1;33m\u001b[0m\u001b[0m\n\u001b[0m\u001b[0;32m   1041\u001b[0m \u001b[1;33m\u001b[0m\u001b[0m\n\u001b[0;32m   1042\u001b[0m     \u001b[1;32mdef\u001b[0m \u001b[0m_failover_to_python\u001b[0m\u001b[1;33m(\u001b[0m\u001b[0mself\u001b[0m\u001b[1;33m)\u001b[0m\u001b[1;33m:\u001b[0m\u001b[1;33m\u001b[0m\u001b[1;33m\u001b[0m\u001b[0m\n",
      "\u001b[1;32mC:\\ProgramData\\Anaconda3\\lib\\site-packages\\pandas\\io\\parsers\\c_parser_wrapper.py\u001b[0m in \u001b[0;36m__init__\u001b[1;34m(self, src, **kwds)\u001b[0m\n\u001b[0;32m     49\u001b[0m \u001b[1;33m\u001b[0m\u001b[0m\n\u001b[0;32m     50\u001b[0m         \u001b[1;31m# open handles\u001b[0m\u001b[1;33m\u001b[0m\u001b[1;33m\u001b[0m\u001b[1;33m\u001b[0m\u001b[0m\n\u001b[1;32m---> 51\u001b[1;33m         \u001b[0mself\u001b[0m\u001b[1;33m.\u001b[0m\u001b[0m_open_handles\u001b[0m\u001b[1;33m(\u001b[0m\u001b[0msrc\u001b[0m\u001b[1;33m,\u001b[0m \u001b[0mkwds\u001b[0m\u001b[1;33m)\u001b[0m\u001b[1;33m\u001b[0m\u001b[1;33m\u001b[0m\u001b[0m\n\u001b[0m\u001b[0;32m     52\u001b[0m         \u001b[1;32massert\u001b[0m \u001b[0mself\u001b[0m\u001b[1;33m.\u001b[0m\u001b[0mhandles\u001b[0m \u001b[1;32mis\u001b[0m \u001b[1;32mnot\u001b[0m \u001b[1;32mNone\u001b[0m\u001b[1;33m\u001b[0m\u001b[1;33m\u001b[0m\u001b[0m\n\u001b[0;32m     53\u001b[0m \u001b[1;33m\u001b[0m\u001b[0m\n",
      "\u001b[1;32mC:\\ProgramData\\Anaconda3\\lib\\site-packages\\pandas\\io\\parsers\\base_parser.py\u001b[0m in \u001b[0;36m_open_handles\u001b[1;34m(self, src, kwds)\u001b[0m\n\u001b[0;32m    227\u001b[0m             \u001b[0mmemory_map\u001b[0m\u001b[1;33m=\u001b[0m\u001b[0mkwds\u001b[0m\u001b[1;33m.\u001b[0m\u001b[0mget\u001b[0m\u001b[1;33m(\u001b[0m\u001b[1;34m\"memory_map\"\u001b[0m\u001b[1;33m,\u001b[0m \u001b[1;32mFalse\u001b[0m\u001b[1;33m)\u001b[0m\u001b[1;33m,\u001b[0m\u001b[1;33m\u001b[0m\u001b[1;33m\u001b[0m\u001b[0m\n\u001b[0;32m    228\u001b[0m             \u001b[0mstorage_options\u001b[0m\u001b[1;33m=\u001b[0m\u001b[0mkwds\u001b[0m\u001b[1;33m.\u001b[0m\u001b[0mget\u001b[0m\u001b[1;33m(\u001b[0m\u001b[1;34m\"storage_options\"\u001b[0m\u001b[1;33m,\u001b[0m \u001b[1;32mNone\u001b[0m\u001b[1;33m)\u001b[0m\u001b[1;33m,\u001b[0m\u001b[1;33m\u001b[0m\u001b[1;33m\u001b[0m\u001b[0m\n\u001b[1;32m--> 229\u001b[1;33m             \u001b[0merrors\u001b[0m\u001b[1;33m=\u001b[0m\u001b[0mkwds\u001b[0m\u001b[1;33m.\u001b[0m\u001b[0mget\u001b[0m\u001b[1;33m(\u001b[0m\u001b[1;34m\"encoding_errors\"\u001b[0m\u001b[1;33m,\u001b[0m \u001b[1;34m\"strict\"\u001b[0m\u001b[1;33m)\u001b[0m\u001b[1;33m,\u001b[0m\u001b[1;33m\u001b[0m\u001b[1;33m\u001b[0m\u001b[0m\n\u001b[0m\u001b[0;32m    230\u001b[0m         )\n\u001b[0;32m    231\u001b[0m \u001b[1;33m\u001b[0m\u001b[0m\n",
      "\u001b[1;32mC:\\ProgramData\\Anaconda3\\lib\\site-packages\\pandas\\io\\common.py\u001b[0m in \u001b[0;36mget_handle\u001b[1;34m(path_or_buf, mode, encoding, compression, memory_map, is_text, errors, storage_options)\u001b[0m\n\u001b[0;32m    705\u001b[0m                 \u001b[0mencoding\u001b[0m\u001b[1;33m=\u001b[0m\u001b[0mioargs\u001b[0m\u001b[1;33m.\u001b[0m\u001b[0mencoding\u001b[0m\u001b[1;33m,\u001b[0m\u001b[1;33m\u001b[0m\u001b[1;33m\u001b[0m\u001b[0m\n\u001b[0;32m    706\u001b[0m                 \u001b[0merrors\u001b[0m\u001b[1;33m=\u001b[0m\u001b[0merrors\u001b[0m\u001b[1;33m,\u001b[0m\u001b[1;33m\u001b[0m\u001b[1;33m\u001b[0m\u001b[0m\n\u001b[1;32m--> 707\u001b[1;33m                 \u001b[0mnewline\u001b[0m\u001b[1;33m=\u001b[0m\u001b[1;34m\"\"\u001b[0m\u001b[1;33m,\u001b[0m\u001b[1;33m\u001b[0m\u001b[1;33m\u001b[0m\u001b[0m\n\u001b[0m\u001b[0;32m    708\u001b[0m             )\n\u001b[0;32m    709\u001b[0m         \u001b[1;32melse\u001b[0m\u001b[1;33m:\u001b[0m\u001b[1;33m\u001b[0m\u001b[1;33m\u001b[0m\u001b[0m\n",
      "\u001b[1;31mFileNotFoundError\u001b[0m: [Errno 2] No such file or directory: 'Z:\\\\ats317group\\\\Data\\\\Analysis Resutls in csv\\\\No ODT Bias Scan_Oct24.csv'"
     ]
    }
   ],
   "source": [
    "scanResults = pd.read_csv(r'Z:\\ats317group\\Data\\Analysis Resutls in csv\\No ODT Bias Scan_Oct24.csv').set_index(['VerticalBiasCurrent','ZSBiasCurrent'])"
   ]
  },
  {
   "cell_type": "code",
   "execution_count": 35,
   "id": "66a8d171",
   "metadata": {},
   "outputs": [
    {
     "ename": "NameError",
     "evalue": "name 'scanResults' is not defined",
     "output_type": "error",
     "traceback": [
      "\u001b[1;31m---------------------------------------------------------------------------\u001b[0m",
      "\u001b[1;31mNameError\u001b[0m                                 Traceback (most recent call last)",
      "\u001b[1;32mC:\\Users\\SOMMER~1\\AppData\\Local\\Temp/ipykernel_8208/3264337905.py\u001b[0m in \u001b[0;36m<module>\u001b[1;34m\u001b[0m\n\u001b[1;32m----> 1\u001b[1;33m \u001b[0mscanResults\u001b[0m\u001b[1;33m\u001b[0m\u001b[1;33m\u001b[0m\u001b[0m\n\u001b[0m",
      "\u001b[1;31mNameError\u001b[0m: name 'scanResults' is not defined"
     ]
    }
   ],
   "source": [
    "scanResults"
   ]
  },
  {
   "cell_type": "code",
   "execution_count": 36,
   "id": "07084503",
   "metadata": {},
   "outputs": [
    {
     "ename": "NameError",
     "evalue": "name 'scanResults' is not defined",
     "output_type": "error",
     "traceback": [
      "\u001b[1;31m---------------------------------------------------------------------------\u001b[0m",
      "\u001b[1;31mNameError\u001b[0m                                 Traceback (most recent call last)",
      "\u001b[1;32mC:\\Users\\SOMMER~1\\AppData\\Local\\Temp/ipykernel_8208/3923963175.py\u001b[0m in \u001b[0;36m<module>\u001b[1;34m\u001b[0m\n\u001b[1;32m----> 1\u001b[1;33m \u001b[0mscanResults\u001b[0m\u001b[1;33m.\u001b[0m\u001b[0mindex\u001b[0m\u001b[1;33m.\u001b[0m\u001b[0munique\u001b[0m\u001b[1;33m(\u001b[0m\u001b[1;33m)\u001b[0m\u001b[1;33m\u001b[0m\u001b[1;33m\u001b[0m\u001b[0m\n\u001b[0m",
      "\u001b[1;31mNameError\u001b[0m: name 'scanResults' is not defined"
     ]
    }
   ],
   "source": [
    "scanResults.index.unique()"
   ]
  },
  {
   "cell_type": "code",
   "execution_count": null,
   "id": "807ca6aa",
   "metadata": {},
   "outputs": [],
   "source": []
  },
  {
   "cell_type": "code",
   "execution_count": null,
   "id": "416d6563",
   "metadata": {},
   "outputs": [],
   "source": []
  },
  {
   "cell_type": "code",
   "execution_count": null,
   "id": "d61d3808",
   "metadata": {},
   "outputs": [],
   "source": []
  },
  {
   "cell_type": "code",
   "execution_count": 37,
   "id": "837d7f1a",
   "metadata": {},
   "outputs": [
    {
     "data": {
      "text/plain": [
       "AtomNumber    (1.5, 6.0, 1.0, -1.0)\n",
       "dtype: object"
      ]
     },
     "execution_count": 37,
     "metadata": {},
     "output_type": "execute_result"
    }
   ],
   "source": [
    "df1mean.idxmax()"
   ]
  },
  {
   "cell_type": "code",
   "execution_count": 38,
   "id": "e316fa1c",
   "metadata": {},
   "outputs": [
    {
     "data": {
      "text/plain": [
       "AtomNumber    2.378906e+08\n",
       "dtype: float64"
      ]
     },
     "execution_count": 38,
     "metadata": {},
     "output_type": "execute_result"
    }
   ],
   "source": [
    "df1mean.max()"
   ]
  },
  {
   "cell_type": "code",
   "execution_count": 39,
   "id": "7ae0161a",
   "metadata": {},
   "outputs": [
    {
     "ename": "KeyError",
     "evalue": "\"None of [Int64Index([99], dtype='int64')] are in the [columns]\"",
     "output_type": "error",
     "traceback": [
      "\u001b[1;31m---------------------------------------------------------------------------\u001b[0m",
      "\u001b[1;31mKeyError\u001b[0m                                  Traceback (most recent call last)",
      "\u001b[1;32mC:\\Users\\SOMMER~1\\AppData\\Local\\Temp/ipykernel_8208/3746923668.py\u001b[0m in \u001b[0;36m<module>\u001b[1;34m\u001b[0m\n\u001b[1;32m----> 1\u001b[1;33m \u001b[0mdf1mean\u001b[0m\u001b[1;33m[\u001b[0m\u001b[1;33m[\u001b[0m\u001b[1;36m99\u001b[0m\u001b[1;33m]\u001b[0m\u001b[1;33m]\u001b[0m\u001b[1;33m.\u001b[0m\u001b[0mloc\u001b[0m\u001b[1;33m[\u001b[0m\u001b[0mdf1mean\u001b[0m\u001b[1;33m.\u001b[0m\u001b[0midxmax\u001b[0m\u001b[1;33m(\u001b[0m\u001b[1;33m)\u001b[0m\u001b[1;33m]\u001b[0m\u001b[1;33m\u001b[0m\u001b[1;33m\u001b[0m\u001b[0m\n\u001b[0m",
      "\u001b[1;32mC:\\ProgramData\\Anaconda3\\lib\\site-packages\\pandas\\core\\frame.py\u001b[0m in \u001b[0;36m__getitem__\u001b[1;34m(self, key)\u001b[0m\n\u001b[0;32m   3462\u001b[0m             \u001b[1;32mif\u001b[0m \u001b[0mis_iterator\u001b[0m\u001b[1;33m(\u001b[0m\u001b[0mkey\u001b[0m\u001b[1;33m)\u001b[0m\u001b[1;33m:\u001b[0m\u001b[1;33m\u001b[0m\u001b[1;33m\u001b[0m\u001b[0m\n\u001b[0;32m   3463\u001b[0m                 \u001b[0mkey\u001b[0m \u001b[1;33m=\u001b[0m \u001b[0mlist\u001b[0m\u001b[1;33m(\u001b[0m\u001b[0mkey\u001b[0m\u001b[1;33m)\u001b[0m\u001b[1;33m\u001b[0m\u001b[1;33m\u001b[0m\u001b[0m\n\u001b[1;32m-> 3464\u001b[1;33m             \u001b[0mindexer\u001b[0m \u001b[1;33m=\u001b[0m \u001b[0mself\u001b[0m\u001b[1;33m.\u001b[0m\u001b[0mloc\u001b[0m\u001b[1;33m.\u001b[0m\u001b[0m_get_listlike_indexer\u001b[0m\u001b[1;33m(\u001b[0m\u001b[0mkey\u001b[0m\u001b[1;33m,\u001b[0m \u001b[0maxis\u001b[0m\u001b[1;33m=\u001b[0m\u001b[1;36m1\u001b[0m\u001b[1;33m)\u001b[0m\u001b[1;33m[\u001b[0m\u001b[1;36m1\u001b[0m\u001b[1;33m]\u001b[0m\u001b[1;33m\u001b[0m\u001b[1;33m\u001b[0m\u001b[0m\n\u001b[0m\u001b[0;32m   3465\u001b[0m \u001b[1;33m\u001b[0m\u001b[0m\n\u001b[0;32m   3466\u001b[0m         \u001b[1;31m# take() does not accept boolean indexers\u001b[0m\u001b[1;33m\u001b[0m\u001b[1;33m\u001b[0m\u001b[1;33m\u001b[0m\u001b[0m\n",
      "\u001b[1;32mC:\\ProgramData\\Anaconda3\\lib\\site-packages\\pandas\\core\\indexing.py\u001b[0m in \u001b[0;36m_get_listlike_indexer\u001b[1;34m(self, key, axis)\u001b[0m\n\u001b[0;32m   1312\u001b[0m             \u001b[0mkeyarr\u001b[0m\u001b[1;33m,\u001b[0m \u001b[0mindexer\u001b[0m\u001b[1;33m,\u001b[0m \u001b[0mnew_indexer\u001b[0m \u001b[1;33m=\u001b[0m \u001b[0max\u001b[0m\u001b[1;33m.\u001b[0m\u001b[0m_reindex_non_unique\u001b[0m\u001b[1;33m(\u001b[0m\u001b[0mkeyarr\u001b[0m\u001b[1;33m)\u001b[0m\u001b[1;33m\u001b[0m\u001b[1;33m\u001b[0m\u001b[0m\n\u001b[0;32m   1313\u001b[0m \u001b[1;33m\u001b[0m\u001b[0m\n\u001b[1;32m-> 1314\u001b[1;33m         \u001b[0mself\u001b[0m\u001b[1;33m.\u001b[0m\u001b[0m_validate_read_indexer\u001b[0m\u001b[1;33m(\u001b[0m\u001b[0mkeyarr\u001b[0m\u001b[1;33m,\u001b[0m \u001b[0mindexer\u001b[0m\u001b[1;33m,\u001b[0m \u001b[0maxis\u001b[0m\u001b[1;33m)\u001b[0m\u001b[1;33m\u001b[0m\u001b[1;33m\u001b[0m\u001b[0m\n\u001b[0m\u001b[0;32m   1315\u001b[0m \u001b[1;33m\u001b[0m\u001b[0m\n\u001b[0;32m   1316\u001b[0m         if needs_i8_conversion(ax.dtype) or isinstance(\n",
      "\u001b[1;32mC:\\ProgramData\\Anaconda3\\lib\\site-packages\\pandas\\core\\indexing.py\u001b[0m in \u001b[0;36m_validate_read_indexer\u001b[1;34m(self, key, indexer, axis)\u001b[0m\n\u001b[0;32m   1372\u001b[0m                 \u001b[1;32mif\u001b[0m \u001b[0muse_interval_msg\u001b[0m\u001b[1;33m:\u001b[0m\u001b[1;33m\u001b[0m\u001b[1;33m\u001b[0m\u001b[0m\n\u001b[0;32m   1373\u001b[0m                     \u001b[0mkey\u001b[0m \u001b[1;33m=\u001b[0m \u001b[0mlist\u001b[0m\u001b[1;33m(\u001b[0m\u001b[0mkey\u001b[0m\u001b[1;33m)\u001b[0m\u001b[1;33m\u001b[0m\u001b[1;33m\u001b[0m\u001b[0m\n\u001b[1;32m-> 1374\u001b[1;33m                 \u001b[1;32mraise\u001b[0m \u001b[0mKeyError\u001b[0m\u001b[1;33m(\u001b[0m\u001b[1;34mf\"None of [{key}] are in the [{axis_name}]\"\u001b[0m\u001b[1;33m)\u001b[0m\u001b[1;33m\u001b[0m\u001b[1;33m\u001b[0m\u001b[0m\n\u001b[0m\u001b[0;32m   1375\u001b[0m \u001b[1;33m\u001b[0m\u001b[0m\n\u001b[0;32m   1376\u001b[0m             \u001b[0mnot_found\u001b[0m \u001b[1;33m=\u001b[0m \u001b[0mlist\u001b[0m\u001b[1;33m(\u001b[0m\u001b[0mensure_index\u001b[0m\u001b[1;33m(\u001b[0m\u001b[0mkey\u001b[0m\u001b[1;33m)\u001b[0m\u001b[1;33m[\u001b[0m\u001b[0mmissing_mask\u001b[0m\u001b[1;33m.\u001b[0m\u001b[0mnonzero\u001b[0m\u001b[1;33m(\u001b[0m\u001b[1;33m)\u001b[0m\u001b[1;33m[\u001b[0m\u001b[1;36m0\u001b[0m\u001b[1;33m]\u001b[0m\u001b[1;33m]\u001b[0m\u001b[1;33m.\u001b[0m\u001b[0munique\u001b[0m\u001b[1;33m(\u001b[0m\u001b[1;33m)\u001b[0m\u001b[1;33m)\u001b[0m\u001b[1;33m\u001b[0m\u001b[1;33m\u001b[0m\u001b[0m\n",
      "\u001b[1;31mKeyError\u001b[0m: \"None of [Int64Index([99], dtype='int64')] are in the [columns]\""
     ]
    }
   ],
   "source": [
    "df1mean[[99]].loc[df1mean.idxmax()]"
   ]
  },
  {
   "cell_type": "code",
   "execution_count": 40,
   "id": "cad0f54a",
   "metadata": {},
   "outputs": [
    {
     "ename": "NameError",
     "evalue": "name 'P' is not defined",
     "output_type": "error",
     "traceback": [
      "\u001b[1;31m---------------------------------------------------------------------------\u001b[0m",
      "\u001b[1;31mNameError\u001b[0m                                 Traceback (most recent call last)",
      "\u001b[1;32mC:\\Users\\SOMMER~1\\AppData\\Local\\Temp/ipykernel_8208/356979541.py\u001b[0m in \u001b[0;36m<module>\u001b[1;34m\u001b[0m\n\u001b[1;32m----> 1\u001b[1;33m \u001b[0mdf1std\u001b[0m \u001b[1;33m=\u001b[0m \u001b[0mdf1\u001b[0m\u001b[1;33m.\u001b[0m\u001b[0mgroupby\u001b[0m\u001b[1;33m(\u001b[0m\u001b[1;33m[\u001b[0m\u001b[0mX\u001b[0m\u001b[1;33m,\u001b[0m \u001b[0mY\u001b[0m\u001b[1;33m,\u001b[0m \u001b[0mP\u001b[0m\u001b[1;33m]\u001b[0m\u001b[1;33m)\u001b[0m\u001b[1;33m.\u001b[0m\u001b[0mstd\u001b[0m\u001b[1;33m(\u001b[0m\u001b[1;33m)\u001b[0m\u001b[1;33m.\u001b[0m\u001b[0mAtomNumber\u001b[0m\u001b[1;33m.\u001b[0m\u001b[0munstack\u001b[0m\u001b[1;33m(\u001b[0m\u001b[1;33m)\u001b[0m\u001b[1;33m\u001b[0m\u001b[1;33m\u001b[0m\u001b[0m\n\u001b[0m",
      "\u001b[1;31mNameError\u001b[0m: name 'P' is not defined"
     ]
    }
   ],
   "source": [
    "df1std = df1.groupby([X, Y, P]).std().AtomNumber.unstack()"
   ]
  },
  {
   "cell_type": "code",
   "execution_count": 41,
   "id": "da5fba0c",
   "metadata": {},
   "outputs": [
    {
     "ename": "NameError",
     "evalue": "name 'df1std' is not defined",
     "output_type": "error",
     "traceback": [
      "\u001b[1;31m---------------------------------------------------------------------------\u001b[0m",
      "\u001b[1;31mNameError\u001b[0m                                 Traceback (most recent call last)",
      "\u001b[1;32mC:\\Users\\SOMMER~1\\AppData\\Local\\Temp/ipykernel_8208/979231788.py\u001b[0m in \u001b[0;36m<module>\u001b[1;34m\u001b[0m\n\u001b[1;32m----> 1\u001b[1;33m \u001b[0mdf1std\u001b[0m\u001b[1;33m.\u001b[0m\u001b[0mloc\u001b[0m\u001b[1;33m[\u001b[0m\u001b[0mdf1mean\u001b[0m\u001b[1;33m.\u001b[0m\u001b[0midxmax\u001b[0m\u001b[1;33m(\u001b[0m\u001b[1;33m)\u001b[0m\u001b[1;33m]\u001b[0m\u001b[1;33m\u001b[0m\u001b[1;33m\u001b[0m\u001b[0m\n\u001b[0m",
      "\u001b[1;31mNameError\u001b[0m: name 'df1std' is not defined"
     ]
    }
   ],
   "source": [
    "df1std.loc[df1mean.idxmax()]"
   ]
  },
  {
   "cell_type": "code",
   "execution_count": 42,
   "id": "88fc3bde",
   "metadata": {},
   "outputs": [
    {
     "data": {
      "text/plain": [
       "Float64Index([4.5, 5.0, 5.5, 6.0, 6.5, 7.0, 7.5, 4.5, 5.0, 5.5, 6.0, 6.0, 6.5,\n",
       "              6.5, 7.0, 7.0, 7.5, 4.5, 5.0, 5.5, 6.0, 6.0, 6.5, 6.5, 7.0, 7.0,\n",
       "              7.5, 4.5, 5.0, 5.5, 6.0, 6.0, 6.5, 6.5, 7.0, 7.0, 7.5, 4.5, 5.0,\n",
       "              5.5, 6.0, 6.0, 6.5, 6.5, 7.0, 7.0, 7.5, 4.5, 5.0, 5.5, 6.0, 6.0,\n",
       "              6.5, 6.5, 7.0, 7.0, 7.5, 4.5, 5.0, 5.5, 6.0, 6.5, 7.0, 7.5, 4.5,\n",
       "              5.0, 5.5, 6.0, 6.5, 7.0, 7.5, 4.5, 5.0, 5.5, 6.0, 6.5, 7.0, 7.5,\n",
       "              5.5, 6.0, 6.5, 7.0, 7.5],\n",
       "             dtype='float64', name='ZSBiasCurrent')"
      ]
     },
     "execution_count": 42,
     "metadata": {},
     "output_type": "execute_result"
    }
   ],
   "source": [
    "df1mean.index.get_level_values(1)"
   ]
  },
  {
   "cell_type": "code",
   "execution_count": null,
   "id": "8201489e",
   "metadata": {},
   "outputs": [],
   "source": []
  },
  {
   "cell_type": "code",
   "execution_count": null,
   "id": "3f6a08b4",
   "metadata": {},
   "outputs": [],
   "source": []
  },
  {
   "cell_type": "code",
   "execution_count": null,
   "id": "f8758c52",
   "metadata": {},
   "outputs": [],
   "source": []
  },
  {
   "cell_type": "code",
   "execution_count": null,
   "id": "ac566e83",
   "metadata": {},
   "outputs": [],
   "source": []
  },
  {
   "cell_type": "code",
   "execution_count": 43,
   "id": "a36d0bad",
   "metadata": {},
   "outputs": [],
   "source": [
    "df1mean.to_csv('df1mean.csv')"
   ]
  },
  {
   "cell_type": "code",
   "execution_count": null,
   "id": "cb869961",
   "metadata": {},
   "outputs": [],
   "source": []
  },
  {
   "cell_type": "code",
   "execution_count": null,
   "id": "51ff7a55",
   "metadata": {},
   "outputs": [],
   "source": []
  },
  {
   "cell_type": "code",
   "execution_count": 44,
   "id": "cfedf43b",
   "metadata": {},
   "outputs": [],
   "source": [
    "totalDataPath =r\"Z:\\ats317group\\Data\"\n",
    "date = '10/10/2023'\n"
   ]
  },
  {
   "cell_type": "code",
   "execution_count": 45,
   "id": "ae07cd42",
   "metadata": {},
   "outputs": [],
   "source": [
    "dataCSV_filename = 'cMOT 0.2 and 0.45 with different bias.csv'\n",
    "\n",
    "dayFolderPath = ImageAnalysisCode.GetDataLocation(date, DataPath=totalDataPath)\n",
    "dataCSV_filePath = os.path.join(dayFolderPath, dataCSV_filename)"
   ]
  },
  {
   "cell_type": "code",
   "execution_count": 46,
   "id": "c3440b14",
   "metadata": {
    "scrolled": true
   },
   "outputs": [
    {
     "ename": "TypeError",
     "evalue": "string indices must be integers",
     "output_type": "error",
     "traceback": [
      "\u001b[1;31m---------------------------------------------------------------------------\u001b[0m",
      "\u001b[1;31mTypeError\u001b[0m                                 Traceback (most recent call last)",
      "\u001b[1;32mC:\\Users\\SOMMER~1\\AppData\\Local\\Temp/ipykernel_8208/3285933640.py\u001b[0m in \u001b[0;36m<module>\u001b[1;34m\u001b[0m\n\u001b[1;32m----> 1\u001b[1;33m \u001b[0mImageAnalysisCode\u001b[0m\u001b[1;33m.\u001b[0m\u001b[0mPlotFromDataCSV\u001b[0m\u001b[1;33m(\u001b[0m\u001b[0mdataCSV_filePath\u001b[0m\u001b[1;33m,\u001b[0m \u001b[1;34m'VerticalBiasCurrent'\u001b[0m\u001b[1;33m,\u001b[0m \u001b[1;34m'Ycenter'\u001b[0m\u001b[1;33m,\u001b[0m \u001b[0miterateVariable\u001b[0m\u001b[1;33m=\u001b[0m\u001b[1;34m'cMOT_coil'\u001b[0m\u001b[1;33m)\u001b[0m\u001b[1;33m\u001b[0m\u001b[1;33m\u001b[0m\u001b[0m\n\u001b[0m",
      "\u001b[1;32m~\\Documents\\Analysis Code\\ImageAnalysis\\ImageAnalysisCode.py\u001b[0m in \u001b[0;36mPlotFromDataCSV\u001b[1;34m(df, xVariable, yVariable, groupby, groupbyX, iterateVariable, filterByAnd, filterByOr, filterByOr2, legend, legendLoc, threeD, viewElev, viewAzim)\u001b[0m\n\u001b[0;32m   1478\u001b[0m \u001b[1;33m\u001b[0m\u001b[0m\n\u001b[0;32m   1479\u001b[0m     \u001b[1;31m# df = pd.read_csv(filePath)\u001b[0m\u001b[1;33m\u001b[0m\u001b[1;33m\u001b[0m\u001b[1;33m\u001b[0m\u001b[0m\n\u001b[1;32m-> 1480\u001b[1;33m     \u001b[0mdf\u001b[0m \u001b[1;33m=\u001b[0m \u001b[0mdf\u001b[0m\u001b[1;33m[\u001b[0m \u001b[1;33m~\u001b[0m\u001b[0mnp\u001b[0m\u001b[1;33m.\u001b[0m\u001b[0misnan\u001b[0m\u001b[1;33m(\u001b[0m\u001b[0mdf\u001b[0m\u001b[1;33m[\u001b[0m\u001b[0myVariable\u001b[0m\u001b[1;33m]\u001b[0m\u001b[1;33m)\u001b[0m \u001b[1;33m]\u001b[0m\u001b[1;33m\u001b[0m\u001b[1;33m\u001b[0m\u001b[0m\n\u001b[0m\u001b[0;32m   1481\u001b[0m     \u001b[0mdf\u001b[0m \u001b[1;33m=\u001b[0m \u001b[0mDataFilter\u001b[0m\u001b[1;33m(\u001b[0m\u001b[0mdf\u001b[0m\u001b[1;33m,\u001b[0m \u001b[0mfilterByAnd\u001b[0m\u001b[1;33m,\u001b[0m \u001b[0mfilterByOr\u001b[0m\u001b[1;33m,\u001b[0m \u001b[0mfilterByOr2\u001b[0m\u001b[1;33m)\u001b[0m\u001b[1;33m\u001b[0m\u001b[1;33m\u001b[0m\u001b[0m\n\u001b[0;32m   1482\u001b[0m \u001b[1;33m\u001b[0m\u001b[0m\n",
      "\u001b[1;31mTypeError\u001b[0m: string indices must be integers"
     ]
    }
   ],
   "source": [
    "ImageAnalysisCode.PlotFromDataCSV(dataCSV_filePath, 'VerticalBiasCurrent', 'Ycenter', iterateVariable='cMOT_coil')"
   ]
  },
  {
   "cell_type": "code",
   "execution_count": null,
   "id": "871b0db5",
   "metadata": {},
   "outputs": [],
   "source": []
  },
  {
   "cell_type": "code",
   "execution_count": null,
   "id": "ba1f487f",
   "metadata": {},
   "outputs": [],
   "source": []
  },
  {
   "cell_type": "code",
   "execution_count": 47,
   "id": "fd90ffab",
   "metadata": {},
   "outputs": [],
   "source": [
    "dataCSV_filename = 'ODT Move.csv'\n",
    "\n",
    "dayFolderPath = ImageAnalysisCode.GetDataLocation(date, DataPath=totalDataPath)\n",
    "dataCSV_filePath = os.path.join(dayFolderPath, dataCSV_filename)"
   ]
  },
  {
   "cell_type": "code",
   "execution_count": 48,
   "id": "b53a7b87",
   "metadata": {
    "scrolled": true
   },
   "outputs": [
    {
     "ename": "NameError",
     "evalue": "name 'PlotFromDataCSV' is not defined",
     "output_type": "error",
     "traceback": [
      "\u001b[1;31m---------------------------------------------------------------------------\u001b[0m",
      "\u001b[1;31mNameError\u001b[0m                                 Traceback (most recent call last)",
      "\u001b[1;32mC:\\Users\\SOMMER~1\\AppData\\Local\\Temp/ipykernel_8208/907314387.py\u001b[0m in \u001b[0;36m<module>\u001b[1;34m\u001b[0m\n\u001b[1;32m----> 1\u001b[1;33m PlotFromDataCSV(dataCSV_filePath, \n\u001b[0m\u001b[0;32m      2\u001b[0m                                   \u001b[1;34m'wait'\u001b[0m\u001b[1;33m,\u001b[0m \u001b[1;34m'AtomNumber'\u001b[0m\u001b[1;33m,\u001b[0m\u001b[1;33m\u001b[0m\u001b[1;33m\u001b[0m\u001b[0m\n\u001b[0;32m      3\u001b[0m                                   iterateVariable=None, filterlist=['wait==30'], groupby='wait')\n",
      "\u001b[1;31mNameError\u001b[0m: name 'PlotFromDataCSV' is not defined"
     ]
    }
   ],
   "source": [
    "PlotFromDataCSV(dataCSV_filePath, \n",
    "                                  'wait', 'AtomNumber', \n",
    "                                  iterateVariable=None, filterlist=['wait==30'], groupby='wait')"
   ]
  },
  {
   "cell_type": "code",
   "execution_count": 49,
   "id": "3664a7a9",
   "metadata": {},
   "outputs": [
    {
     "ename": "NameError",
     "evalue": "name 'colum' is not defined",
     "output_type": "error",
     "traceback": [
      "\u001b[1;31m---------------------------------------------------------------------------\u001b[0m",
      "\u001b[1;31mNameError\u001b[0m                                 Traceback (most recent call last)",
      "\u001b[1;32mC:\\Users\\SOMMER~1\\AppData\\Local\\Temp/ipykernel_8208/3328310465.py\u001b[0m in \u001b[0;36m<module>\u001b[1;34m\u001b[0m\n\u001b[1;32m----> 1\u001b[1;33m \u001b[0mcolum\u001b[0m\u001b[1;33m\u001b[0m\u001b[1;33m\u001b[0m\u001b[0m\n\u001b[0m",
      "\u001b[1;31mNameError\u001b[0m: name 'colum' is not defined"
     ]
    }
   ],
   "source": [
    "colum"
   ]
  },
  {
   "cell_type": "code",
   "execution_count": 50,
   "id": "4005dd35",
   "metadata": {},
   "outputs": [
    {
     "name": "stderr",
     "output_type": "stream",
     "text": [
      "C:\\ProgramData\\Anaconda3\\lib\\site-packages\\numpy\\core\\_methods.py:44: RuntimeWarning: invalid value encountered in reduce\n",
      "  return umr_minimum(a, axis, None, out, keepdims, initial, where)\n",
      "C:\\ProgramData\\Anaconda3\\lib\\site-packages\\numpy\\core\\_methods.py:40: RuntimeWarning: invalid value encountered in reduce\n",
      "  return umr_maximum(a, axis, None, out, keepdims, initial, where)\n"
     ]
    },
    {
     "data": {
      "text/plain": [
       "<ErrorbarContainer object of 3 artists>"
      ]
     },
     "execution_count": 50,
     "metadata": {},
     "output_type": "execute_result"
    },
    {
     "data": {
      "image/png": "[encoded data removed]",
      "text/plain": [
       "<Figure size 432x288 with 1 Axes>"
      ]
     },
     "metadata": {
      "needs_background": "light"
     },
     "output_type": "display_data"
    }
   ],
   "source": [
    "plt.errorbar([1,2,3,4], [45,23,123,65], [np.nan]*4)"
   ]
  },
  {
   "cell_type": "code",
   "execution_count": null,
   "id": "f0775193",
   "metadata": {},
   "outputs": [],
   "source": []
  },
  {
   "cell_type": "code",
   "execution_count": 51,
   "id": "9ea54550",
   "metadata": {
    "scrolled": true
   },
   "outputs": [],
   "source": [
    "df = pd.read_csv(r'Z:\\ats317group\\Data\\2023\\09-2023\\29 Sep 2023\\Data Folder 5-9.csv')"
   ]
  },
  {
   "cell_type": "code",
   "execution_count": 52,
   "id": "8614eb1d",
   "metadata": {
    "scrolled": true
   },
   "outputs": [],
   "source": [
    "dfwait30 = df[df.wait==30]"
   ]
  },
  {
   "cell_type": "code",
   "execution_count": null,
   "id": "0490f92b",
   "metadata": {
    "scrolled": true
   },
   "outputs": [],
   "source": []
  },
  {
   "cell_type": "code",
   "execution_count": 53,
   "id": "e6fb9033",
   "metadata": {
    "scrolled": true
   },
   "outputs": [],
   "source": [
    "dataFrame = dfwait30\n",
    "iterateVariableName = 'VerticalBiasCurrent'\n",
    "xVariable = 'Ycenter'\n",
    "yVariable = 'AtomNumber'\n",
    "groupby = None\n",
    "\n",
    "iterateVariable = dataFrame[iterateVariableName]\n",
    "iterateVariable = iterateVariable.unique()"
   ]
  },
  {
   "cell_type": "code",
   "execution_count": 54,
   "id": "808fad1e",
   "metadata": {},
   "outputs": [],
   "source": [
    "def PlotFromDataCSV(filePath, xVariable, yVariable, \n",
    "                    groupby=None, groupbyX=None, iterateVariable=None, \n",
    "                    filterlist=None, filterLogic='and'):\n",
    "    \n",
    "    if not os.path.exists(filePath):\n",
    "        raise FileNotFoundError(\"The file does not exist!\")\n",
    "    \n",
    "    df = pd.read_csv(filePath)\n",
    "    \n",
    "    if filterlist:\n",
    "        masklist = []\n",
    "        for fil in filterlist:\n",
    "            masklist.append(eval( 'df.' + fil.replace(' ', '_') ))\n",
    "            \n",
    "        if len(masklist) > 1:\n",
    "            for mask in masklist[1:]:\n",
    "                if filterLogic == 'and':\n",
    "                    masklist[0] &= mask\n",
    "                elif filterLogic == 'or':\n",
    "                    masklist[0] |= mask\n",
    "        df = df[ masklist[0] ]\n",
    "    \n",
    "    columnlist = [xVariable, yVariable]\n",
    "    \n",
    "    if iterateVariable:\n",
    "        iterateVariable.replace(' ', '_')\n",
    "        iterable = df[iterateVariable].unique()\n",
    "        columnlist.append(iterateVariable)\n",
    "    else:\n",
    "        iterable = [None]\n",
    "    \n",
    "    if groupby == xVariable:\n",
    "        groupbyX = 1\n",
    "        \n",
    "    if groupby and not groupbyX:\n",
    "        groupby.replace(' ', '_')\n",
    "        columnlist.append(groupby)    \n",
    "    \n",
    "    fig, ax = plt.subplots(figsize=(8,5))\n",
    "    for ii in iterable:\n",
    "        if ii is None:\n",
    "            dfii = df[columnlist]\n",
    "        else:\n",
    "            dfii = df[columnlist][ (df[iterateVariable]==ii) ]\n",
    "            \n",
    "        if groupbyX:\n",
    "            dfiimean = dfii.groupby(xVariable).mean()\n",
    "            dfiistd = dfii.groupby(xVariable).std()\n",
    "            plt.errorbar(dfiimean.index, dfiimean[yVariable],\n",
    "                         dfiistd[yVariable], capsize=3,\n",
    "                         label = '{} = {}'.format(iterateVariable, ii))\n",
    "            plt.scatter(dfiimean.index, dfiimean[yVariable], s=8)\n",
    "        elif groupby:\n",
    "            dfiimean = dfii.groupby(groupby).mean()\n",
    "            dfiistd = dfii.groupby(groupby).std()\n",
    "            plt.errorbar(dfiimean[xVariable], dfiimean[yVariable],\n",
    "                         dfiistd[yVariable], dfiistd[xVariable], capsize=3,\n",
    "                         label = '{} = {}'.format(iterateVariable, ii))        \n",
    "        else:\n",
    "            plt.plot( dfii[xVariable], dfii[yVariable], '.', \n",
    "                     label = '{} = {}'.format(iterateVariable, ii))\n",
    "    \n",
    "    ax.set(xlabel=xVariable, ylabel=yVariable)\n",
    "    ax.ticklabel_format(axis='both', style='sci', scilimits=(-3,3))\n",
    "\n",
    "    fig.tight_layout()\n",
    "    if iterateVariable:\n",
    "        plt.legend()\n",
    "    plt.show()\n",
    "    \n",
    "    return fig, ax"
   ]
  },
  {
   "cell_type": "code",
   "execution_count": null,
   "id": "535d82ca",
   "metadata": {},
   "outputs": [],
   "source": []
  },
  {
   "cell_type": "code",
   "execution_count": null,
   "id": "c7bfdc19",
   "metadata": {},
   "outputs": [],
   "source": []
  },
  {
   "cell_type": "code",
   "execution_count": 55,
   "id": "bb550955",
   "metadata": {
    "scrolled": true
   },
   "outputs": [
    {
     "ename": "FileNotFoundError",
     "evalue": "The file does not exist!",
     "output_type": "error",
     "traceback": [
      "\u001b[1;31m---------------------------------------------------------------------------\u001b[0m",
      "\u001b[1;31mFileNotFoundError\u001b[0m                         Traceback (most recent call last)",
      "\u001b[1;32mC:\\Users\\SOMMER~1\\AppData\\Local\\Temp/ipykernel_8208/1580712027.py\u001b[0m in \u001b[0;36m<module>\u001b[1;34m\u001b[0m\n\u001b[0;32m      1\u001b[0m \u001b[0mpath\u001b[0m \u001b[1;33m=\u001b[0m \u001b[1;34mr'Z:\\ats317group\\Data\\ODT Data 11.22'\u001b[0m\u001b[1;33m\u001b[0m\u001b[1;33m\u001b[0m\u001b[0m\n\u001b[0;32m      2\u001b[0m fig, ax = PlotFromDataCSV(path, 'ZSBiasCurrent', 'AtomNumber', filterlist=['wait==30'], \n\u001b[1;32m----> 3\u001b[1;33m                 iterateVariable='VerticalBiasCurrent', groupby='ZSBiasCurrent')\n\u001b[0m",
      "\u001b[1;32mC:\\Users\\SOMMER~1\\AppData\\Local\\Temp/ipykernel_8208/3992068778.py\u001b[0m in \u001b[0;36mPlotFromDataCSV\u001b[1;34m(filePath, xVariable, yVariable, groupby, groupbyX, iterateVariable, filterlist, filterLogic)\u001b[0m\n\u001b[0;32m      4\u001b[0m \u001b[1;33m\u001b[0m\u001b[0m\n\u001b[0;32m      5\u001b[0m     \u001b[1;32mif\u001b[0m \u001b[1;32mnot\u001b[0m \u001b[0mos\u001b[0m\u001b[1;33m.\u001b[0m\u001b[0mpath\u001b[0m\u001b[1;33m.\u001b[0m\u001b[0mexists\u001b[0m\u001b[1;33m(\u001b[0m\u001b[0mfilePath\u001b[0m\u001b[1;33m)\u001b[0m\u001b[1;33m:\u001b[0m\u001b[1;33m\u001b[0m\u001b[1;33m\u001b[0m\u001b[0m\n\u001b[1;32m----> 6\u001b[1;33m         \u001b[1;32mraise\u001b[0m \u001b[0mFileNotFoundError\u001b[0m\u001b[1;33m(\u001b[0m\u001b[1;34m\"The file does not exist!\"\u001b[0m\u001b[1;33m)\u001b[0m\u001b[1;33m\u001b[0m\u001b[1;33m\u001b[0m\u001b[0m\n\u001b[0m\u001b[0;32m      7\u001b[0m \u001b[1;33m\u001b[0m\u001b[0m\n\u001b[0;32m      8\u001b[0m     \u001b[0mdf\u001b[0m \u001b[1;33m=\u001b[0m \u001b[0mpd\u001b[0m\u001b[1;33m.\u001b[0m\u001b[0mread_csv\u001b[0m\u001b[1;33m(\u001b[0m\u001b[0mfilePath\u001b[0m\u001b[1;33m)\u001b[0m\u001b[1;33m\u001b[0m\u001b[1;33m\u001b[0m\u001b[0m\n",
      "\u001b[1;31mFileNotFoundError\u001b[0m: The file does not exist!"
     ]
    }
   ],
   "source": [
    "path = r'Z:\\ats317group\\Data\\ODT Data 11.22'\n",
    "fig, ax = PlotFromDataCSV(path, 'ZSBiasCurrent', 'AtomNumber', filterlist=['wait==30'], \n",
    "                iterateVariable='VerticalBiasCurrent', groupby='ZSBiasCurrent')"
   ]
  },
  {
   "cell_type": "code",
   "execution_count": 56,
   "id": "0fc3bc04",
   "metadata": {},
   "outputs": [
    {
     "ename": "FileNotFoundError",
     "evalue": "The file does not exist!",
     "output_type": "error",
     "traceback": [
      "\u001b[1;31m---------------------------------------------------------------------------\u001b[0m",
      "\u001b[1;31mFileNotFoundError\u001b[0m                         Traceback (most recent call last)",
      "\u001b[1;32mC:\\Users\\SOMMER~1\\AppData\\Local\\Temp/ipykernel_8208/2426696989.py\u001b[0m in \u001b[0;36m<module>\u001b[1;34m\u001b[0m\n\u001b[0;32m      1\u001b[0m \u001b[0mpath\u001b[0m \u001b[1;33m=\u001b[0m \u001b[1;34mr'Z:\\ats317group\\Data\\Analysis Resutls in csv\\Data Folder 5-9_Calculated on 1019_Sept29.csv'\u001b[0m\u001b[1;33m\u001b[0m\u001b[1;33m\u001b[0m\u001b[0m\n\u001b[0;32m      2\u001b[0m fig, ax = PlotFromDataCSV(path, 'Ycenter', 'AtomNumber', filterlist=['wait==30'], \n\u001b[1;32m----> 3\u001b[1;33m                 iterateVariable='VerticalBiasCurrent', groupby='ODT_Position')\n\u001b[0m",
      "\u001b[1;32mC:\\Users\\SOMMER~1\\AppData\\Local\\Temp/ipykernel_8208/3992068778.py\u001b[0m in \u001b[0;36mPlotFromDataCSV\u001b[1;34m(filePath, xVariable, yVariable, groupby, groupbyX, iterateVariable, filterlist, filterLogic)\u001b[0m\n\u001b[0;32m      4\u001b[0m \u001b[1;33m\u001b[0m\u001b[0m\n\u001b[0;32m      5\u001b[0m     \u001b[1;32mif\u001b[0m \u001b[1;32mnot\u001b[0m \u001b[0mos\u001b[0m\u001b[1;33m.\u001b[0m\u001b[0mpath\u001b[0m\u001b[1;33m.\u001b[0m\u001b[0mexists\u001b[0m\u001b[1;33m(\u001b[0m\u001b[0mfilePath\u001b[0m\u001b[1;33m)\u001b[0m\u001b[1;33m:\u001b[0m\u001b[1;33m\u001b[0m\u001b[1;33m\u001b[0m\u001b[0m\n\u001b[1;32m----> 6\u001b[1;33m         \u001b[1;32mraise\u001b[0m \u001b[0mFileNotFoundError\u001b[0m\u001b[1;33m(\u001b[0m\u001b[1;34m\"The file does not exist!\"\u001b[0m\u001b[1;33m)\u001b[0m\u001b[1;33m\u001b[0m\u001b[1;33m\u001b[0m\u001b[0m\n\u001b[0m\u001b[0;32m      7\u001b[0m \u001b[1;33m\u001b[0m\u001b[0m\n\u001b[0;32m      8\u001b[0m     \u001b[0mdf\u001b[0m \u001b[1;33m=\u001b[0m \u001b[0mpd\u001b[0m\u001b[1;33m.\u001b[0m\u001b[0mread_csv\u001b[0m\u001b[1;33m(\u001b[0m\u001b[0mfilePath\u001b[0m\u001b[1;33m)\u001b[0m\u001b[1;33m\u001b[0m\u001b[1;33m\u001b[0m\u001b[0m\n",
      "\u001b[1;31mFileNotFoundError\u001b[0m: The file does not exist!"
     ]
    }
   ],
   "source": [
    "path = r'Z:\\ats317group\\Data\\Analysis Resutls in csv\\Data Folder 5-9_Calculated on 1019_Sept29.csv'\n",
    "fig, ax = PlotFromDataCSV(path, 'Ycenter', 'AtomNumber', filterlist=['wait==30'], \n",
    "                iterateVariable='VerticalBiasCurrent', groupby='ODT_Position')"
   ]
  },
  {
   "cell_type": "code",
   "execution_count": 57,
   "id": "6f11fbf7",
   "metadata": {},
   "outputs": [
    {
     "ename": "FileNotFoundError",
     "evalue": "The file does not exist!",
     "output_type": "error",
     "traceback": [
      "\u001b[1;31m---------------------------------------------------------------------------\u001b[0m",
      "\u001b[1;31mFileNotFoundError\u001b[0m                         Traceback (most recent call last)",
      "\u001b[1;32mC:\\Users\\SOMMER~1\\AppData\\Local\\Temp/ipykernel_8208/2009990432.py\u001b[0m in \u001b[0;36m<module>\u001b[1;34m\u001b[0m\n\u001b[0;32m      1\u001b[0m \u001b[0mpath\u001b[0m \u001b[1;33m=\u001b[0m \u001b[1;34m'Z:\\\\ats317group\\\\Data\\\\2023/09-2023/29 Sep 2023\\\\Data Folder 5-9_Calculated on 1019.csv'\u001b[0m\u001b[1;33m\u001b[0m\u001b[1;33m\u001b[0m\u001b[0m\n\u001b[0;32m      2\u001b[0m fig, ax = PlotFromDataCSV(path, 'Ycenter', 'AtomNumber', filterlist=['wait==30'], \n\u001b[1;32m----> 3\u001b[1;33m                 iterateVariable='VerticalBiasCurrent', groupby='ODT_Position')\n\u001b[0m",
      "\u001b[1;32mC:\\Users\\SOMMER~1\\AppData\\Local\\Temp/ipykernel_8208/3992068778.py\u001b[0m in \u001b[0;36mPlotFromDataCSV\u001b[1;34m(filePath, xVariable, yVariable, groupby, groupbyX, iterateVariable, filterlist, filterLogic)\u001b[0m\n\u001b[0;32m      4\u001b[0m \u001b[1;33m\u001b[0m\u001b[0m\n\u001b[0;32m      5\u001b[0m     \u001b[1;32mif\u001b[0m \u001b[1;32mnot\u001b[0m \u001b[0mos\u001b[0m\u001b[1;33m.\u001b[0m\u001b[0mpath\u001b[0m\u001b[1;33m.\u001b[0m\u001b[0mexists\u001b[0m\u001b[1;33m(\u001b[0m\u001b[0mfilePath\u001b[0m\u001b[1;33m)\u001b[0m\u001b[1;33m:\u001b[0m\u001b[1;33m\u001b[0m\u001b[1;33m\u001b[0m\u001b[0m\n\u001b[1;32m----> 6\u001b[1;33m         \u001b[1;32mraise\u001b[0m \u001b[0mFileNotFoundError\u001b[0m\u001b[1;33m(\u001b[0m\u001b[1;34m\"The file does not exist!\"\u001b[0m\u001b[1;33m)\u001b[0m\u001b[1;33m\u001b[0m\u001b[1;33m\u001b[0m\u001b[0m\n\u001b[0m\u001b[0;32m      7\u001b[0m \u001b[1;33m\u001b[0m\u001b[0m\n\u001b[0;32m      8\u001b[0m     \u001b[0mdf\u001b[0m \u001b[1;33m=\u001b[0m \u001b[0mpd\u001b[0m\u001b[1;33m.\u001b[0m\u001b[0mread_csv\u001b[0m\u001b[1;33m(\u001b[0m\u001b[0mfilePath\u001b[0m\u001b[1;33m)\u001b[0m\u001b[1;33m\u001b[0m\u001b[1;33m\u001b[0m\u001b[0m\n",
      "\u001b[1;31mFileNotFoundError\u001b[0m: The file does not exist!"
     ]
    }
   ],
   "source": [
    "path = 'Z:\\\\ats317group\\\\Data\\\\2023/09-2023/29 Sep 2023\\\\Data Folder 5-9_Calculated on 1019.csv'\n",
    "fig, ax = PlotFromDataCSV(path, 'Ycenter', 'AtomNumber', filterlist=['wait==30'], \n",
    "                iterateVariable='VerticalBiasCurrent', groupby='ODT_Position')"
   ]
  },
  {
   "cell_type": "code",
   "execution_count": null,
   "id": "59cb4ab1",
   "metadata": {
    "scrolled": true
   },
   "outputs": [],
   "source": []
  },
  {
   "cell_type": "code",
   "execution_count": null,
   "id": "a42ea667",
   "metadata": {
    "scrolled": true
   },
   "outputs": [],
   "source": []
  },
  {
   "cell_type": "code",
   "execution_count": null,
   "id": "90d0b0f0",
   "metadata": {},
   "outputs": [],
   "source": []
  },
  {
   "cell_type": "code",
   "execution_count": 58,
   "id": "8223116a",
   "metadata": {},
   "outputs": [
    {
     "name": "stderr",
     "output_type": "stream",
     "text": [
      "C:\\ProgramData\\Anaconda3\\lib\\site-packages\\numpy\\core\\_methods.py:44: RuntimeWarning: invalid value encountered in reduce\n",
      "  return umr_minimum(a, axis, None, out, keepdims, initial, where)\n",
      "C:\\ProgramData\\Anaconda3\\lib\\site-packages\\numpy\\core\\_methods.py:40: RuntimeWarning: invalid value encountered in reduce\n",
      "  return umr_maximum(a, axis, None, out, keepdims, initial, where)\n"
     ]
    },
    {
     "data": {
      "image/png": "[encoded data removed]",
      "text/plain": [
       "<Figure size 576x360 with 1 Axes>"
      ]
     },
     "metadata": {
      "needs_background": "light"
     },
     "output_type": "display_data"
    },
    {
     "data": {
      "text/plain": [
       "(<Figure size 576x360 with 1 Axes>,\n",
       " <AxesSubplot:xlabel='Ycenter', ylabel='AtomNumber'>)"
      ]
     },
     "execution_count": 58,
     "metadata": {},
     "output_type": "execute_result"
    }
   ],
   "source": [
    "path = 'Z:\\\\ats317group\\\\Data\\\\2023/09-2023/29 Sep 2023\\\\Data Folder 5-9.csv'\n",
    "PlotFromDataCSV(path, 'Ycenter', 'AtomNumber', filterlist=['Ywidth<0.00006', 'wait==30'], \n",
    "                iterateVariable='VerticalBiasCurrent', groupby='ODT_Position')"
   ]
  },
  {
   "cell_type": "code",
   "execution_count": null,
   "id": "abef5f53",
   "metadata": {},
   "outputs": [],
   "source": []
  },
  {
   "cell_type": "code",
   "execution_count": 59,
   "id": "3ab92566",
   "metadata": {},
   "outputs": [
    {
     "name": "stderr",
     "output_type": "stream",
     "text": [
      "C:\\ProgramData\\Anaconda3\\lib\\site-packages\\numpy\\core\\_methods.py:44: RuntimeWarning: invalid value encountered in reduce\n",
      "  return umr_minimum(a, axis, None, out, keepdims, initial, where)\n",
      "C:\\ProgramData\\Anaconda3\\lib\\site-packages\\numpy\\core\\_methods.py:40: RuntimeWarning: invalid value encountered in reduce\n",
      "  return umr_maximum(a, axis, None, out, keepdims, initial, where)\n"
     ]
    },
    {
     "data": {
      "image/png": "[encoded data removed]",
      "text/plain": [
       "<Figure size 576x360 with 1 Axes>"
      ]
     },
     "metadata": {
      "needs_background": "light"
     },
     "output_type": "display_data"
    },
    {
     "data": {
      "text/plain": [
       "Text(0.5, 17.200000000000003, 'Y Center (m)')"
      ]
     },
     "execution_count": 59,
     "metadata": {},
     "output_type": "execute_result"
    }
   ],
   "source": [
    "path = 'Z:\\\\ats317group\\\\Data\\\\2023/09-2023/29 Sep 2023\\\\Data Folder 5-9.csv'\n",
    "fig, ax = PlotFromDataCSV(path, 'Ycenter', 'AtomNumber', filterlist=['Ywidth<0.00006', 'wait==30'], \n",
    "                iterateVariable='VerticalBiasCurrent', groupby='ODT_Position')\n",
    "ax.set_xlabel('Y Center (m)')"
   ]
  },
  {
   "cell_type": "code",
   "execution_count": 60,
   "id": "eee2fc85",
   "metadata": {},
   "outputs": [
    {
     "data": {
      "image/png": "[encoded data removed]",
      "text/plain": [
       "<Figure size 576x360 with 1 Axes>"
      ]
     },
     "execution_count": 60,
     "metadata": {},
     "output_type": "execute_result"
    }
   ],
   "source": [
    "fig"
   ]
  },
  {
   "cell_type": "code",
   "execution_count": 61,
   "id": "3d26c131",
   "metadata": {},
   "outputs": [
    {
     "data": {
      "text/plain": [
       "[Text(0.5, 0, 'Ycenter'), Text(0, 0.5, 'AtomNumber')]"
      ]
     },
     "execution_count": 61,
     "metadata": {},
     "output_type": "execute_result"
    },
    {
     "data": {
      "image/png": "[encoded data removed]",
      "text/plain": [
       "<Figure size 720x576 with 1 Axes>"
      ]
     },
     "metadata": {
      "needs_background": "light"
     },
     "output_type": "display_data"
    }
   ],
   "source": [
    "fig, ax = plt.subplots(figsize=(10,8))\n",
    "\n",
    "for ii in (iterateVariable):\n",
    "        \n",
    "    if groupby:\n",
    "        dfSelect = dfwait30[ (dfwait30.VerticalBiasCurrent==ii) & (dfwait30.Ywidth < 0.00006) ][[xVariable, yVariable, groupby]]\n",
    "        dfmean = dfSelect.groupby(groupby).mean()\n",
    "        dfstd = dfSelect.groupby(groupby).std()\n",
    "        plt.errorbar( dfmean[xVariable], dfmean[yVariable], \n",
    "                     dfstd[yVariable], dfstd[xVariable], capsize=3, \n",
    "                     label = '{} = {}'.format(iterateVariableName, ii))\n",
    "    else:\n",
    "        dfSelect = dfwait30[ (dfwait30.VerticalBiasCurrent==ii) & (dfwait30.Ywidth < 0.00006) ][[xVariable, yVariable]]\n",
    "        plt.plot( dfSelect[xVariable], dfSelect[yVariable], '.', label = '{} = {}'.format(iterateVariableName, ii))\n",
    "    \n",
    "plt.legend()\n",
    "ax.set(xlabel=xVariable, ylabel=yVariable)"
   ]
  },
  {
   "cell_type": "code",
   "execution_count": null,
   "id": "f04b6b96",
   "metadata": {
    "scrolled": true
   },
   "outputs": [],
   "source": []
  },
  {
   "cell_type": "code",
   "execution_count": null,
   "id": "8d1c1719",
   "metadata": {},
   "outputs": [],
   "source": []
  },
  {
   "cell_type": "code",
   "execution_count": 62,
   "id": "5c84ccfd",
   "metadata": {
    "scrolled": true
   },
   "outputs": [
    {
     "ename": "NameError",
     "evalue": "name 'df99' is not defined",
     "output_type": "error",
     "traceback": [
      "\u001b[1;31m---------------------------------------------------------------------------\u001b[0m",
      "\u001b[1;31mNameError\u001b[0m                                 Traceback (most recent call last)",
      "\u001b[1;32mC:\\Users\\SOMMER~1\\AppData\\Local\\Temp/ipykernel_8208/3856562325.py\u001b[0m in \u001b[0;36m<module>\u001b[1;34m\u001b[0m\n\u001b[1;32m----> 1\u001b[1;33m \u001b[0mxx\u001b[0m\u001b[1;33m,\u001b[0m \u001b[0myy\u001b[0m \u001b[1;33m=\u001b[0m \u001b[0mdf99\u001b[0m\u001b[1;33m.\u001b[0m\u001b[0mcolumns\u001b[0m\u001b[1;33m.\u001b[0m\u001b[0mvalues\u001b[0m\u001b[1;33m,\u001b[0m \u001b[0mdf99\u001b[0m\u001b[1;33m.\u001b[0m\u001b[0mindex\u001b[0m\u001b[1;33m.\u001b[0m\u001b[0mvalues\u001b[0m\u001b[1;33m\u001b[0m\u001b[1;33m\u001b[0m\u001b[0m\n\u001b[0m\u001b[0;32m      2\u001b[0m \u001b[0mzz99\u001b[0m \u001b[1;33m=\u001b[0m \u001b[0mdf99\u001b[0m\u001b[1;33m.\u001b[0m\u001b[0mvalues\u001b[0m\u001b[1;33m\u001b[0m\u001b[1;33m\u001b[0m\u001b[0m\n\u001b[0;32m      3\u001b[0m \u001b[0mzz11\u001b[0m \u001b[1;33m=\u001b[0m \u001b[0mdf11\u001b[0m\u001b[1;33m.\u001b[0m\u001b[0mvalues\u001b[0m\u001b[1;33m\u001b[0m\u001b[1;33m\u001b[0m\u001b[0m\n\u001b[0;32m      4\u001b[0m \u001b[0mXX\u001b[0m\u001b[1;33m,\u001b[0m\u001b[0mYY\u001b[0m \u001b[1;33m=\u001b[0m \u001b[0mnp\u001b[0m\u001b[1;33m.\u001b[0m\u001b[0mmeshgrid\u001b[0m\u001b[1;33m(\u001b[0m\u001b[0mxx\u001b[0m\u001b[1;33m,\u001b[0m\u001b[0myy\u001b[0m\u001b[1;33m)\u001b[0m\u001b[1;33m\u001b[0m\u001b[1;33m\u001b[0m\u001b[0m\n\u001b[0;32m      5\u001b[0m \u001b[1;33m\u001b[0m\u001b[0m\n",
      "\u001b[1;31mNameError\u001b[0m: name 'df99' is not defined"
     ]
    }
   ],
   "source": [
    "xx, yy = df99.columns.values, df99.index.values\n",
    "zz99 = df99.values\n",
    "zz11 = df11.values\n",
    "XX,YY = np.meshgrid(xx,yy)\n",
    "\n",
    "fig, ax = plt.subplots(figsize=[10,10], subplot_kw=dict(projection='3d'))\n",
    "zz = np.divide(zz11,zz99)\n",
    "\n",
    "ax.plot_surface(XX, YY ,zz)       "
   ]
  },
  {
   "cell_type": "code",
   "execution_count": null,
   "id": "043fa20f",
   "metadata": {},
   "outputs": [],
   "source": []
  },
  {
   "cell_type": "code",
   "execution_count": 4,
   "id": "b673cc95",
   "metadata": {},
   "outputs": [],
   "source": [
    "import pickle"
   ]
  },
  {
   "cell_type": "code",
   "execution_count": 7,
   "id": "10cce9e0",
   "metadata": {},
   "outputs": [],
   "source": [
    "path = r'D:\\Dropbox (Lehigh University)\\Sommer Lab Shared\\Data\\2024\\06-2024\\25 Jun 2024\\Andor\\Vary Evap Time 2\\results.pkl'\n",
    "var2 = 'Evap_Time_2'\n",
    "var1 = 'LowServo1'"
   ]
  },
  {
   "cell_type": "code",
   "execution_count": 12,
   "id": "8eed6ceb",
   "metadata": {},
   "outputs": [],
   "source": [
    "with open(path, 'rb') as f:\n",
    "    df = pickle.load(f)"
   ]
  },
  {
   "cell_type": "code",
   "execution_count": 13,
   "id": "e1d229b1-eda4-471d-b22f-f39041ba9642",
   "metadata": {},
   "outputs": [],
   "source": [
    "df = df[[var2, var1, 'Ycenter', 'Ywidth', 'YatomNumber', 'TOF']]"
   ]
  },
  {
   "cell_type": "code",
   "execution_count": 19,
   "id": "df1b7507",
   "metadata": {},
   "outputs": [
    {
     "name": "stdout",
     "output_type": "stream",
     "text": [
      "(1.0, 0.3)\n",
      "[19604.328479424817, 18904.861988195997, 18462.036646365763]\n",
      "(1.5, 0.3)\n",
      "[19529.391260087352, 19234.90080197176, 14812.180167396406]\n",
      "(2.0, 0.3)\n",
      "[14566.589423944746, 20497.088276750204, 13522.939401302985]\n"
     ]
    }
   ],
   "source": [
    "for ii, (ind, item) in enumerate( df.groupby([var2, var1]) ):\n",
    "    print(ind)\n",
    "    print(list(item[item.TOF==0].YatomNumber ))\n",
    "    "
   ]
  },
  {
   "cell_type": "code",
   "execution_count": 20,
   "id": "39bfa703-4c5b-4c66-ae8c-8bcca24b6afe",
   "metadata": {},
   "outputs": [],
   "source": [
    "df1 = df.groupby([var2, var1]).mean()\n",
    "df2 = df.groupby([var2, var1]).std()"
   ]
  },
  {
   "cell_type": "code",
   "execution_count": 29,
   "id": "f5a03d8c-6f02-4873-a54b-67849ef4450c",
   "metadata": {},
   "outputs": [
    {
     "data": {
      "text/html": [
       "<div>\n",
       "<style scoped>\n",
       "    .dataframe tbody tr th:only-of-type {\n",
       "        vertical-align: middle;\n",
       "    }\n",
       "\n",
       "    .dataframe tbody tr th {\n",
       "        vertical-align: top;\n",
       "    }\n",
       "\n",
       "    .dataframe thead th {\n",
       "        text-align: right;\n",
       "    }\n",
       "</style>\n",
       "<table border=\"1\" class=\"dataframe\">\n",
       "  <thead>\n",
       "    <tr style=\"text-align: right;\">\n",
       "      <th></th>\n",
       "      <th>Evap_Time_2</th>\n",
       "      <th>LowServo1</th>\n",
       "      <th>Ycenter</th>\n",
       "      <th>Ywidth</th>\n",
       "      <th>YatomNumber</th>\n",
       "      <th>TOF</th>\n",
       "    </tr>\n",
       "  </thead>\n",
       "  <tbody>\n",
       "    <tr>\n",
       "      <th>0</th>\n",
       "      <td>1.0</td>\n",
       "      <td>0.3</td>\n",
       "      <td>104.734480</td>\n",
       "      <td>11.496492</td>\n",
       "      <td>19106.965230</td>\n",
       "      <td>0.883333</td>\n",
       "    </tr>\n",
       "    <tr>\n",
       "      <th>1</th>\n",
       "      <td>1.5</td>\n",
       "      <td>0.3</td>\n",
       "      <td>105.152593</td>\n",
       "      <td>11.155819</td>\n",
       "      <td>18289.604086</td>\n",
       "      <td>0.883333</td>\n",
       "    </tr>\n",
       "    <tr>\n",
       "      <th>2</th>\n",
       "      <td>2.0</td>\n",
       "      <td>0.3</td>\n",
       "      <td>104.833260</td>\n",
       "      <td>11.757501</td>\n",
       "      <td>18999.036053</td>\n",
       "      <td>0.883333</td>\n",
       "    </tr>\n",
       "  </tbody>\n",
       "</table>\n",
       "</div>"
      ],
      "text/plain": [
       "   Evap_Time_2  LowServo1     Ycenter     Ywidth   YatomNumber       TOF\n",
       "0          1.0        0.3  104.734480  11.496492  19106.965230  0.883333\n",
       "1          1.5        0.3  105.152593  11.155819  18289.604086  0.883333\n",
       "2          2.0        0.3  104.833260  11.757501  18999.036053  0.883333"
      ]
     },
     "execution_count": 30,
     "metadata": {},
     "output_type": "execute_result"
    }
   ],
   "source": [
    "df1.reset_index()"
   ]
  },
  {
   "cell_type": "code",
   "execution_count": 21,
   "id": "20ff1feb-6157-4196-94ca-96171fa69b08",
   "metadata": {},
   "outputs": [
    {
     "data": {
      "text/plain": [
       "Evap_Time_2  LowServo1\n",
       "1.0          0.3          19106.965230\n",
       "1.5          0.3          18289.604086\n",
       "2.0          0.3          18999.036053\n",
       "Name: YatomNumber, dtype: float64"
      ]
     },
     "execution_count": 21,
     "metadata": {},
     "output_type": "execute_result"
    }
   ],
   "source": [
    "df1.YatomNumber"
   ]
  },
  {
   "cell_type": "code",
   "execution_count": 35,
   "id": "d0566698-253b-46c7-b7e6-e8e2a57cf6a8",
   "metadata": {},
   "outputs": [
    {
     "ename": "ValueError",
     "evalue": "setting an array element with a sequence.",
     "output_type": "error",
     "traceback": [
      "\u001b[1;31m---------------------------------------------------------------------------\u001b[0m",
      "\u001b[1;31mTypeError\u001b[0m                                 Traceback (most recent call last)",
      "\u001b[1;31mTypeError\u001b[0m: float() argument must be a string or a number, not 'tuple'",
      "\nThe above exception was the direct cause of the following exception:\n",
      "\u001b[1;31mValueError\u001b[0m                                Traceback (most recent call last)",
      "\u001b[1;32mC:\\Users\\SOMMER~1\\AppData\\Local\\Temp/ipykernel_22412/739426054.py\u001b[0m in \u001b[0;36m<module>\u001b[1;34m\u001b[0m\n\u001b[1;32m----> 1\u001b[1;33m \u001b[0mplt\u001b[0m\u001b[1;33m.\u001b[0m\u001b[0mplot\u001b[0m\u001b[1;33m(\u001b[0m\u001b[0mdf1\u001b[0m\u001b[1;33m.\u001b[0m\u001b[0mindex\u001b[0m\u001b[1;33m.\u001b[0m\u001b[0mvalues\u001b[0m\u001b[1;33m,\u001b[0m \u001b[0mdf1\u001b[0m\u001b[1;33m.\u001b[0m\u001b[0mYatomNumber\u001b[0m\u001b[1;33m.\u001b[0m\u001b[0mvalues\u001b[0m\u001b[1;33m)\u001b[0m\u001b[1;33m\u001b[0m\u001b[1;33m\u001b[0m\u001b[0m\n\u001b[0m",
      "\u001b[1;32mC:\\ProgramData\\Anaconda3\\lib\\site-packages\\matplotlib\\pyplot.py\u001b[0m in \u001b[0;36mplot\u001b[1;34m(scalex, scaley, data, *args, **kwargs)\u001b[0m\n\u001b[0;32m   2757\u001b[0m     return gca().plot(\n\u001b[0;32m   2758\u001b[0m         \u001b[1;33m*\u001b[0m\u001b[0margs\u001b[0m\u001b[1;33m,\u001b[0m \u001b[0mscalex\u001b[0m\u001b[1;33m=\u001b[0m\u001b[0mscalex\u001b[0m\u001b[1;33m,\u001b[0m \u001b[0mscaley\u001b[0m\u001b[1;33m=\u001b[0m\u001b[0mscaley\u001b[0m\u001b[1;33m,\u001b[0m\u001b[1;33m\u001b[0m\u001b[1;33m\u001b[0m\u001b[0m\n\u001b[1;32m-> 2759\u001b[1;33m         **({\"data\": data} if data is not None else {}), **kwargs)\n\u001b[0m\u001b[0;32m   2760\u001b[0m \u001b[1;33m\u001b[0m\u001b[0m\n\u001b[0;32m   2761\u001b[0m \u001b[1;33m\u001b[0m\u001b[0m\n",
      "\u001b[1;32mC:\\ProgramData\\Anaconda3\\lib\\site-packages\\matplotlib\\axes\\_axes.py\u001b[0m in \u001b[0;36mplot\u001b[1;34m(self, scalex, scaley, data, *args, **kwargs)\u001b[0m\n\u001b[0;32m   1632\u001b[0m         \u001b[0mlines\u001b[0m \u001b[1;33m=\u001b[0m \u001b[1;33m[\u001b[0m\u001b[1;33m*\u001b[0m\u001b[0mself\u001b[0m\u001b[1;33m.\u001b[0m\u001b[0m_get_lines\u001b[0m\u001b[1;33m(\u001b[0m\u001b[1;33m*\u001b[0m\u001b[0margs\u001b[0m\u001b[1;33m,\u001b[0m \u001b[0mdata\u001b[0m\u001b[1;33m=\u001b[0m\u001b[0mdata\u001b[0m\u001b[1;33m,\u001b[0m \u001b[1;33m**\u001b[0m\u001b[0mkwargs\u001b[0m\u001b[1;33m)\u001b[0m\u001b[1;33m]\u001b[0m\u001b[1;33m\u001b[0m\u001b[1;33m\u001b[0m\u001b[0m\n\u001b[0;32m   1633\u001b[0m         \u001b[1;32mfor\u001b[0m \u001b[0mline\u001b[0m \u001b[1;32min\u001b[0m \u001b[0mlines\u001b[0m\u001b[1;33m:\u001b[0m\u001b[1;33m\u001b[0m\u001b[1;33m\u001b[0m\u001b[0m\n\u001b[1;32m-> 1634\u001b[1;33m             \u001b[0mself\u001b[0m\u001b[1;33m.\u001b[0m\u001b[0madd_line\u001b[0m\u001b[1;33m(\u001b[0m\u001b[0mline\u001b[0m\u001b[1;33m)\u001b[0m\u001b[1;33m\u001b[0m\u001b[1;33m\u001b[0m\u001b[0m\n\u001b[0m\u001b[0;32m   1635\u001b[0m         \u001b[0mself\u001b[0m\u001b[1;33m.\u001b[0m\u001b[0m_request_autoscale_view\u001b[0m\u001b[1;33m(\u001b[0m\u001b[0mscalex\u001b[0m\u001b[1;33m=\u001b[0m\u001b[0mscalex\u001b[0m\u001b[1;33m,\u001b[0m \u001b[0mscaley\u001b[0m\u001b[1;33m=\u001b[0m\u001b[0mscaley\u001b[0m\u001b[1;33m)\u001b[0m\u001b[1;33m\u001b[0m\u001b[1;33m\u001b[0m\u001b[0m\n\u001b[0;32m   1636\u001b[0m         \u001b[1;32mreturn\u001b[0m \u001b[0mlines\u001b[0m\u001b[1;33m\u001b[0m\u001b[1;33m\u001b[0m\u001b[0m\n",
      "\u001b[1;32mC:\\ProgramData\\Anaconda3\\lib\\site-packages\\matplotlib\\axes\\_base.py\u001b[0m in \u001b[0;36madd_line\u001b[1;34m(self, line)\u001b[0m\n\u001b[0;32m   2281\u001b[0m             \u001b[0mline\u001b[0m\u001b[1;33m.\u001b[0m\u001b[0mset_clip_path\u001b[0m\u001b[1;33m(\u001b[0m\u001b[0mself\u001b[0m\u001b[1;33m.\u001b[0m\u001b[0mpatch\u001b[0m\u001b[1;33m)\u001b[0m\u001b[1;33m\u001b[0m\u001b[1;33m\u001b[0m\u001b[0m\n\u001b[0;32m   2282\u001b[0m \u001b[1;33m\u001b[0m\u001b[0m\n\u001b[1;32m-> 2283\u001b[1;33m         \u001b[0mself\u001b[0m\u001b[1;33m.\u001b[0m\u001b[0m_update_line_limits\u001b[0m\u001b[1;33m(\u001b[0m\u001b[0mline\u001b[0m\u001b[1;33m)\u001b[0m\u001b[1;33m\u001b[0m\u001b[1;33m\u001b[0m\u001b[0m\n\u001b[0m\u001b[0;32m   2284\u001b[0m         \u001b[1;32mif\u001b[0m \u001b[1;32mnot\u001b[0m \u001b[0mline\u001b[0m\u001b[1;33m.\u001b[0m\u001b[0mget_label\u001b[0m\u001b[1;33m(\u001b[0m\u001b[1;33m)\u001b[0m\u001b[1;33m:\u001b[0m\u001b[1;33m\u001b[0m\u001b[1;33m\u001b[0m\u001b[0m\n\u001b[0;32m   2285\u001b[0m             \u001b[0mline\u001b[0m\u001b[1;33m.\u001b[0m\u001b[0mset_label\u001b[0m\u001b[1;33m(\u001b[0m\u001b[1;34mf'_child{len(self._children)}'\u001b[0m\u001b[1;33m)\u001b[0m\u001b[1;33m\u001b[0m\u001b[1;33m\u001b[0m\u001b[0m\n",
      "\u001b[1;32mC:\\ProgramData\\Anaconda3\\lib\\site-packages\\matplotlib\\axes\\_base.py\u001b[0m in \u001b[0;36m_update_line_limits\u001b[1;34m(self, line)\u001b[0m\n\u001b[0;32m   2304\u001b[0m         \u001b[0mFigures\u001b[0m \u001b[0mout\u001b[0m \u001b[0mthe\u001b[0m \u001b[0mdata\u001b[0m \u001b[0mlimit\u001b[0m \u001b[0mof\u001b[0m \u001b[0mthe\u001b[0m \u001b[0mgiven\u001b[0m \u001b[0mline\u001b[0m\u001b[1;33m,\u001b[0m \u001b[0mupdating\u001b[0m \u001b[0mself\u001b[0m\u001b[1;33m.\u001b[0m\u001b[0mdataLim\u001b[0m\u001b[1;33m.\u001b[0m\u001b[1;33m\u001b[0m\u001b[1;33m\u001b[0m\u001b[0m\n\u001b[0;32m   2305\u001b[0m         \"\"\"\n\u001b[1;32m-> 2306\u001b[1;33m         \u001b[0mpath\u001b[0m \u001b[1;33m=\u001b[0m \u001b[0mline\u001b[0m\u001b[1;33m.\u001b[0m\u001b[0mget_path\u001b[0m\u001b[1;33m(\u001b[0m\u001b[1;33m)\u001b[0m\u001b[1;33m\u001b[0m\u001b[1;33m\u001b[0m\u001b[0m\n\u001b[0m\u001b[0;32m   2307\u001b[0m         \u001b[1;32mif\u001b[0m \u001b[0mpath\u001b[0m\u001b[1;33m.\u001b[0m\u001b[0mvertices\u001b[0m\u001b[1;33m.\u001b[0m\u001b[0msize\u001b[0m \u001b[1;33m==\u001b[0m \u001b[1;36m0\u001b[0m\u001b[1;33m:\u001b[0m\u001b[1;33m\u001b[0m\u001b[1;33m\u001b[0m\u001b[0m\n\u001b[0;32m   2308\u001b[0m             \u001b[1;32mreturn\u001b[0m\u001b[1;33m\u001b[0m\u001b[1;33m\u001b[0m\u001b[0m\n",
      "\u001b[1;32mC:\\ProgramData\\Anaconda3\\lib\\site-packages\\matplotlib\\lines.py\u001b[0m in \u001b[0;36mget_path\u001b[1;34m(self)\u001b[0m\n\u001b[0;32m    995\u001b[0m         \u001b[1;34m\"\"\"Return the `~matplotlib.path.Path` associated with this line.\"\"\"\u001b[0m\u001b[1;33m\u001b[0m\u001b[1;33m\u001b[0m\u001b[0m\n\u001b[0;32m    996\u001b[0m         \u001b[1;32mif\u001b[0m \u001b[0mself\u001b[0m\u001b[1;33m.\u001b[0m\u001b[0m_invalidy\u001b[0m \u001b[1;32mor\u001b[0m \u001b[0mself\u001b[0m\u001b[1;33m.\u001b[0m\u001b[0m_invalidx\u001b[0m\u001b[1;33m:\u001b[0m\u001b[1;33m\u001b[0m\u001b[1;33m\u001b[0m\u001b[0m\n\u001b[1;32m--> 997\u001b[1;33m             \u001b[0mself\u001b[0m\u001b[1;33m.\u001b[0m\u001b[0mrecache\u001b[0m\u001b[1;33m(\u001b[0m\u001b[1;33m)\u001b[0m\u001b[1;33m\u001b[0m\u001b[1;33m\u001b[0m\u001b[0m\n\u001b[0m\u001b[0;32m    998\u001b[0m         \u001b[1;32mreturn\u001b[0m \u001b[0mself\u001b[0m\u001b[1;33m.\u001b[0m\u001b[0m_path\u001b[0m\u001b[1;33m\u001b[0m\u001b[1;33m\u001b[0m\u001b[0m\n\u001b[0;32m    999\u001b[0m \u001b[1;33m\u001b[0m\u001b[0m\n",
      "\u001b[1;32mC:\\ProgramData\\Anaconda3\\lib\\site-packages\\matplotlib\\lines.py\u001b[0m in \u001b[0;36mrecache\u001b[1;34m(self, always)\u001b[0m\n\u001b[0;32m    648\u001b[0m         \u001b[1;32mif\u001b[0m \u001b[0malways\u001b[0m \u001b[1;32mor\u001b[0m \u001b[0mself\u001b[0m\u001b[1;33m.\u001b[0m\u001b[0m_invalidx\u001b[0m\u001b[1;33m:\u001b[0m\u001b[1;33m\u001b[0m\u001b[1;33m\u001b[0m\u001b[0m\n\u001b[0;32m    649\u001b[0m             \u001b[0mxconv\u001b[0m \u001b[1;33m=\u001b[0m \u001b[0mself\u001b[0m\u001b[1;33m.\u001b[0m\u001b[0mconvert_xunits\u001b[0m\u001b[1;33m(\u001b[0m\u001b[0mself\u001b[0m\u001b[1;33m.\u001b[0m\u001b[0m_xorig\u001b[0m\u001b[1;33m)\u001b[0m\u001b[1;33m\u001b[0m\u001b[1;33m\u001b[0m\u001b[0m\n\u001b[1;32m--> 650\u001b[1;33m             \u001b[0mx\u001b[0m \u001b[1;33m=\u001b[0m \u001b[0m_to_unmasked_float_array\u001b[0m\u001b[1;33m(\u001b[0m\u001b[0mxconv\u001b[0m\u001b[1;33m)\u001b[0m\u001b[1;33m.\u001b[0m\u001b[0mravel\u001b[0m\u001b[1;33m(\u001b[0m\u001b[1;33m)\u001b[0m\u001b[1;33m\u001b[0m\u001b[1;33m\u001b[0m\u001b[0m\n\u001b[0m\u001b[0;32m    651\u001b[0m         \u001b[1;32melse\u001b[0m\u001b[1;33m:\u001b[0m\u001b[1;33m\u001b[0m\u001b[1;33m\u001b[0m\u001b[0m\n\u001b[0;32m    652\u001b[0m             \u001b[0mx\u001b[0m \u001b[1;33m=\u001b[0m \u001b[0mself\u001b[0m\u001b[1;33m.\u001b[0m\u001b[0m_x\u001b[0m\u001b[1;33m\u001b[0m\u001b[1;33m\u001b[0m\u001b[0m\n",
      "\u001b[1;32mC:\\ProgramData\\Anaconda3\\lib\\site-packages\\matplotlib\\cbook\\__init__.py\u001b[0m in \u001b[0;36m_to_unmasked_float_array\u001b[1;34m(x)\u001b[0m\n\u001b[0;32m   1296\u001b[0m         \u001b[1;32mreturn\u001b[0m \u001b[0mnp\u001b[0m\u001b[1;33m.\u001b[0m\u001b[0mma\u001b[0m\u001b[1;33m.\u001b[0m\u001b[0masarray\u001b[0m\u001b[1;33m(\u001b[0m\u001b[0mx\u001b[0m\u001b[1;33m,\u001b[0m \u001b[0mfloat\u001b[0m\u001b[1;33m)\u001b[0m\u001b[1;33m.\u001b[0m\u001b[0mfilled\u001b[0m\u001b[1;33m(\u001b[0m\u001b[0mnp\u001b[0m\u001b[1;33m.\u001b[0m\u001b[0mnan\u001b[0m\u001b[1;33m)\u001b[0m\u001b[1;33m\u001b[0m\u001b[1;33m\u001b[0m\u001b[0m\n\u001b[0;32m   1297\u001b[0m     \u001b[1;32melse\u001b[0m\u001b[1;33m:\u001b[0m\u001b[1;33m\u001b[0m\u001b[1;33m\u001b[0m\u001b[0m\n\u001b[1;32m-> 1298\u001b[1;33m         \u001b[1;32mreturn\u001b[0m \u001b[0mnp\u001b[0m\u001b[1;33m.\u001b[0m\u001b[0masarray\u001b[0m\u001b[1;33m(\u001b[0m\u001b[0mx\u001b[0m\u001b[1;33m,\u001b[0m \u001b[0mfloat\u001b[0m\u001b[1;33m)\u001b[0m\u001b[1;33m\u001b[0m\u001b[1;33m\u001b[0m\u001b[0m\n\u001b[0m\u001b[0;32m   1299\u001b[0m \u001b[1;33m\u001b[0m\u001b[0m\n\u001b[0;32m   1300\u001b[0m \u001b[1;33m\u001b[0m\u001b[0m\n",
      "\u001b[1;31mValueError\u001b[0m: setting an array element with a sequence."
     ]
    },
    {
     "data": {
      "image/png": "[encoded data removed]",
      "text/plain": [
       "<Figure size 432x288 with 1 Axes>"
      ]
     },
     "metadata": {
      "needs_background": "light"
     },
     "output_type": "display_data"
    }
   ],
   "source": [
    "plt.plot(df1.index.values, df1.YatomNumber.values)"
   ]
  },
  {
   "cell_type": "code",
   "execution_count": 34,
   "id": "ca5c70ed-b4ab-460e-b8b2-7d8b2233befe",
   "metadata": {},
   "outputs": [
    {
     "data": {
      "text/plain": [
       "array([(1.0, 0.3), (1.5, 0.3), (2.0, 0.3)], dtype=object)"
      ]
     },
     "execution_count": 34,
     "metadata": {},
     "output_type": "execute_result"
    }
   ],
   "source": [
    "df1.index.values"
   ]
  },
  {
   "cell_type": "code",
   "execution_count": 36,
   "id": "ba155d6d-222c-46eb-89d3-58032f0b8062",
   "metadata": {},
   "outputs": [
    {
     "ename": "TypeError",
     "evalue": "errorbar() missing 1 required positional argument: 'x'",
     "output_type": "error",
     "traceback": [
      "\u001b[1;31m---------------------------------------------------------------------------\u001b[0m",
      "\u001b[1;31mTypeError\u001b[0m                                 Traceback (most recent call last)",
      "\u001b[1;32mC:\\Users\\SOMMER~1\\AppData\\Local\\Temp/ipykernel_22412/1401370381.py\u001b[0m in \u001b[0;36m<module>\u001b[1;34m\u001b[0m\n\u001b[1;32m----> 1\u001b[1;33m \u001b[0mplt\u001b[0m\u001b[1;33m.\u001b[0m\u001b[0merrorbar\u001b[0m\u001b[1;33m(\u001b[0m\u001b[0my\u001b[0m\u001b[1;33m=\u001b[0m\u001b[0mdf1\u001b[0m\u001b[1;33m.\u001b[0m\u001b[0mYatomNumber\u001b[0m\u001b[1;33m.\u001b[0m\u001b[0mvalues\u001b[0m\u001b[1;33m,\u001b[0m \u001b[0myerr\u001b[0m\u001b[1;33m=\u001b[0m\u001b[0mdf2\u001b[0m\u001b[1;33m.\u001b[0m\u001b[0mYatomNumber\u001b[0m\u001b[1;33m.\u001b[0m\u001b[0mvalues\u001b[0m\u001b[1;33m)\u001b[0m\u001b[1;33m\u001b[0m\u001b[1;33m\u001b[0m\u001b[0m\n\u001b[0m",
      "\u001b[1;31mTypeError\u001b[0m: errorbar() missing 1 required positional argument: 'x'"
     ]
    }
   ],
   "source": [
    "plt.errorbar(y=df1.YatomNumber.values, yerr=df2.YatomNumber.values)"
   ]
  },
  {
   "cell_type": "code",
   "execution_count": null,
   "id": "84a2ba93-f308-4d9f-8a06-fad492a8c150",
   "metadata": {},
   "outputs": [],
   "source": []
  }
 ],
 "metadata": {
  "kernelspec": {
   "display_name": "Python 3 (ipykernel)",
   "language": "python",
   "name": "python3"
  },
  "language_info": {
   "codemirror_mode": {
    "name": "ipython",
    "version": 3
   },
   "file_extension": ".py",
   "mimetype": "text/x-python",
   "name": "python",
   "nbconvert_exporter": "python",
   "pygments_lexer": "ipython3",
   "version": "3.7.3"
  }
 },
 "nbformat": 4,
 "nbformat_minor": 5
}
