{
 "cells": [
  {
   "cell_type": "code",
   "execution_count": 47,
   "id": "9c4d4894",
   "metadata": {},
   "outputs": [],
   "source": [
    "import numpy as np\n",
    "import pandas as pd\n",
    "import matplotlib.pyplot as plt\n",
    "import os\n",
    "import datetime\n"
   ]
  },
  {
   "cell_type": "code",
   "execution_count": 48,
   "id": "3b253e98",
   "metadata": {},
   "outputs": [],
   "source": [
    "date = '08/21/2023'"
   ]
  },
  {
   "cell_type": "code",
   "execution_count": 49,
   "id": "caebcb5b",
   "metadata": {},
   "outputs": [
    {
     "data": {
      "text/plain": [
       "'2023\\\\08-2023\\\\21 Aug 2023'"
      ]
     },
     "execution_count": 49,
     "metadata": {},
     "output_type": "execute_result"
    }
   ],
   "source": [
    "datetime.datetime.strptime(date, '%m/%d/%Y').strftime('%Y\\\\%m-%Y\\\\%d %b %Y')"
   ]
  },
  {
   "cell_type": "code",
   "execution_count": 50,
   "id": "738a4100",
   "metadata": {},
   "outputs": [],
   "source": [
    "foldername = os.path.join('C:\\\\Users\\\\Sommer Lab\\\\Documents\\\\Data',  \n",
    "                      datetime.datetime.strptime(date, '%m/%d/%Y').strftime('%Y\\\\%m-%Y\\\\%d %b %Y'))"
   ]
  },
  {
   "cell_type": "code",
   "execution_count": 51,
   "id": "187c7ae0",
   "metadata": {},
   "outputs": [
    {
     "data": {
      "text/plain": [
       "'C:\\\\Users\\\\Sommer Lab\\\\Documents\\\\Data\\\\2023\\\\08-2023\\\\21 Aug 2023'"
      ]
     },
     "execution_count": 51,
     "metadata": {},
     "output_type": "execute_result"
    }
   ],
   "source": [
    "foldername"
   ]
  },
  {
   "cell_type": "code",
   "execution_count": 32,
   "id": "81c94c5d",
   "metadata": {},
   "outputs": [],
   "source": [
    "WithFeedback = pd.read_csv(os.path.join(foldername, 'Laser power with feedback.csv'), header=18)\n",
    "NoFeedback = pd.read_csv(os.path.join(foldername,'Laser power without feedback.csv'), header=18)"
   ]
  },
  {
   "cell_type": "code",
   "execution_count": 33,
   "id": "cb782961",
   "metadata": {},
   "outputs": [
    {
     "data": {
      "text/html": [
       "<div>\n",
       "<style scoped>\n",
       "    .dataframe tbody tr th:only-of-type {\n",
       "        vertical-align: middle;\n",
       "    }\n",
       "\n",
       "    .dataframe tbody tr th {\n",
       "        vertical-align: top;\n",
       "    }\n",
       "\n",
       "    .dataframe thead th {\n",
       "        text-align: right;\n",
       "    }\n",
       "</style>\n",
       "<table border=\"1\" class=\"dataframe\">\n",
       "  <thead>\n",
       "    <tr style=\"text-align: right;\">\n",
       "      <th></th>\n",
       "      <th>Time (ms)</th>\n",
       "      <th>Power (W)</th>\n",
       "    </tr>\n",
       "  </thead>\n",
       "  <tbody>\n",
       "    <tr>\n",
       "      <th>0</th>\n",
       "      <td>0.0</td>\n",
       "      <td>0.75922</td>\n",
       "    </tr>\n",
       "    <tr>\n",
       "      <th>1</th>\n",
       "      <td>13.0</td>\n",
       "      <td>0.75797</td>\n",
       "    </tr>\n",
       "    <tr>\n",
       "      <th>2</th>\n",
       "      <td>50.0</td>\n",
       "      <td>0.75828</td>\n",
       "    </tr>\n",
       "    <tr>\n",
       "      <th>3</th>\n",
       "      <td>63.0</td>\n",
       "      <td>0.75922</td>\n",
       "    </tr>\n",
       "    <tr>\n",
       "      <th>4</th>\n",
       "      <td>101.0</td>\n",
       "      <td>0.75906</td>\n",
       "    </tr>\n",
       "  </tbody>\n",
       "</table>\n",
       "</div>"
      ],
      "text/plain": [
       "   Time (ms)  Power (W)\n",
       "0        0.0    0.75922\n",
       "1       13.0    0.75797\n",
       "2       50.0    0.75828\n",
       "3       63.0    0.75922\n",
       "4      101.0    0.75906"
      ]
     },
     "execution_count": 33,
     "metadata": {},
     "output_type": "execute_result"
    }
   ],
   "source": [
    "WithFeedback.head()"
   ]
  },
  {
   "cell_type": "code",
   "execution_count": 34,
   "id": "3f500fa8",
   "metadata": {},
   "outputs": [],
   "source": [
    "WithFeedback = WithFeedback.rename(columns={'Time (ms)':'Time_ms', 'Power (W)':'Power_W'})\n",
    "NoFeedback = NoFeedback.rename(columns={'Time (ms)':'Time_ms', 'Power (W)':'Power_W'})"
   ]
  },
  {
   "cell_type": "code",
   "execution_count": 35,
   "id": "13a625d8",
   "metadata": {},
   "outputs": [],
   "source": [
    "WithFeedback['Time_s'] = WithFeedback.Time_ms/1000\n",
    "NoFeedback['Time_s'] = NoFeedback.Time_ms/1000"
   ]
  },
  {
   "cell_type": "code",
   "execution_count": 36,
   "id": "78e874cf",
   "metadata": {},
   "outputs": [],
   "source": [
    "WithFeedback = WithFeedback.set_index('Time_s')\n",
    "NoFeedback = NoFeedback.set_index('Time_s')"
   ]
  },
  {
   "cell_type": "code",
   "execution_count": null,
   "id": "5e3644f4",
   "metadata": {},
   "outputs": [],
   "source": [
    "def"
   ]
  },
  {
   "cell_type": "code",
   "execution_count": 40,
   "id": "4a108d10",
   "metadata": {},
   "outputs": [],
   "source": [
    "WithFeedback65 = WithFeedback[ WithFeedback['Power_W']>75 ]\n",
    "NoFeedback65 = NoFeedback[ NoFeedback['Power_W']>75 ]"
   ]
  },
  {
   "cell_type": "code",
   "execution_count": 43,
   "id": "62467aeb",
   "metadata": {},
   "outputs": [],
   "source": [
    "WithFeedback69 = WithFeedback[ WithFeedback['Power_W']>80.5 ]\n",
    "NoFeedback69 = NoFeedback[ NoFeedback['Power_W']>80.5 ]"
   ]
  },
  {
   "cell_type": "code",
   "execution_count": 45,
   "id": "965d833c",
   "metadata": {
    "scrolled": true
   },
   "outputs": [
    {
     "data": {
      "text/plain": [
       "Text(0, 0.5, 'Power (W)')"
      ]
     },
     "execution_count": 45,
     "metadata": {},
     "output_type": "execute_result"
    },
    {
     "data": {
      "image/png": "[encoded data removed]",
      "text/plain": [
       "<Figure size 720x576 with 6 Axes>"
      ]
     },
     "metadata": {
      "needs_background": "light"
     },
     "output_type": "display_data"
    }
   ],
   "source": [
    "fig, axs = plt.subplots(3,2, figsize=(10,8))\n",
    "\n",
    "WithFeedback69.Power_W.plot(ax=axs[0,0])\n",
    "WithFeedback65.Power_W.plot(ax=axs[1,0])\n",
    "WithFeedback.Power_W.plot(ax=axs[2,0])\n",
    "\n",
    "NoFeedback69.Power_W.plot(ax=axs[0,1])\n",
    "NoFeedback65.Power_W.plot(ax=axs[1,1])\n",
    "NoFeedback.Power_W.plot(ax=axs[2,1])\n",
    "\n",
    "axs[0,0].set_title('With Feedback')\n",
    "axs[0,1].set_title('No Feedback')\n",
    "axs[1,0].set_ylabel('Power (W)')"
   ]
  },
  {
   "cell_type": "code",
   "execution_count": null,
   "id": "a985a384",
   "metadata": {},
   "outputs": [],
   "source": []
  },
  {
   "cell_type": "code",
   "execution_count": 46,
   "id": "14ee716c",
   "metadata": {},
   "outputs": [
    {
     "data": {
      "text/plain": [
       "<AxesSubplot:xlabel='Time_s'>"
      ]
     },
     "execution_count": 46,
     "metadata": {},
     "output_type": "execute_result"
    },
    {
     "data": {
      "image/png": "[encoded data removed]",
      "text/plain": [
       "<Figure size 432x288 with 1 Axes>"
      ]
     },
     "metadata": {
      "needs_background": "light"
     },
     "output_type": "display_data"
    }
   ],
   "source": [
    "WithFeedback.Power_W.plot()"
   ]
  },
  {
   "cell_type": "code",
   "execution_count": 208,
   "id": "6628afee",
   "metadata": {},
   "outputs": [
    {
     "data": {
      "text/html": [
       "<div>\n",
       "<style scoped>\n",
       "    .dataframe tbody tr th:only-of-type {\n",
       "        vertical-align: middle;\n",
       "    }\n",
       "\n",
       "    .dataframe tbody tr th {\n",
       "        vertical-align: top;\n",
       "    }\n",
       "\n",
       "    .dataframe thead th {\n",
       "        text-align: right;\n",
       "    }\n",
       "</style>\n",
       "<table border=\"1\" class=\"dataframe\">\n",
       "  <thead>\n",
       "    <tr style=\"text-align: right;\">\n",
       "      <th></th>\n",
       "      <th>Time_ms</th>\n",
       "      <th>Power_W</th>\n",
       "    </tr>\n",
       "    <tr>\n",
       "      <th>Time_s</th>\n",
       "      <th></th>\n",
       "      <th></th>\n",
       "    </tr>\n",
       "  </thead>\n",
       "  <tbody>\n",
       "    <tr>\n",
       "      <th>0.000000</th>\n",
       "      <td>0.000</td>\n",
       "      <td>0.51824</td>\n",
       "    </tr>\n",
       "    <tr>\n",
       "      <th>0.037000</th>\n",
       "      <td>37.000</td>\n",
       "      <td>0.51652</td>\n",
       "    </tr>\n",
       "    <tr>\n",
       "      <th>0.053000</th>\n",
       "      <td>53.000</td>\n",
       "      <td>0.51464</td>\n",
       "    </tr>\n",
       "    <tr>\n",
       "      <th>0.091000</th>\n",
       "      <td>91.000</td>\n",
       "      <td>0.51355</td>\n",
       "    </tr>\n",
       "    <tr>\n",
       "      <th>0.106000</th>\n",
       "      <td>106.000</td>\n",
       "      <td>0.51230</td>\n",
       "    </tr>\n",
       "    <tr>\n",
       "      <th>...</th>\n",
       "      <td>...</td>\n",
       "      <td>...</td>\n",
       "    </tr>\n",
       "    <tr>\n",
       "      <th>221.781463</th>\n",
       "      <td>221781.463</td>\n",
       "      <td>6.27760</td>\n",
       "    </tr>\n",
       "    <tr>\n",
       "      <th>221.793463</th>\n",
       "      <td>221793.463</td>\n",
       "      <td>6.22620</td>\n",
       "    </tr>\n",
       "    <tr>\n",
       "      <th>221.807463</th>\n",
       "      <td>221807.463</td>\n",
       "      <td>6.21690</td>\n",
       "    </tr>\n",
       "    <tr>\n",
       "      <th>221.820463</th>\n",
       "      <td>221820.463</td>\n",
       "      <td>6.18410</td>\n",
       "    </tr>\n",
       "    <tr>\n",
       "      <th>221.833463</th>\n",
       "      <td>221833.463</td>\n",
       "      <td>6.18100</td>\n",
       "    </tr>\n",
       "  </tbody>\n",
       "</table>\n",
       "<p>9467 rows × 2 columns</p>\n",
       "</div>"
      ],
      "text/plain": [
       "               Time_ms  Power_W\n",
       "Time_s                         \n",
       "0.000000         0.000  0.51824\n",
       "0.037000        37.000  0.51652\n",
       "0.053000        53.000  0.51464\n",
       "0.091000        91.000  0.51355\n",
       "0.106000       106.000  0.51230\n",
       "...                ...      ...\n",
       "221.781463  221781.463  6.27760\n",
       "221.793463  221793.463  6.22620\n",
       "221.807463  221807.463  6.21690\n",
       "221.820463  221820.463  6.18410\n",
       "221.833463  221833.463  6.18100\n",
       "\n",
       "[9467 rows x 2 columns]"
      ]
     },
     "execution_count": 208,
     "metadata": {},
     "output_type": "execute_result"
    }
   ],
   "source": [
    "NoFeedback"
   ]
  },
  {
   "cell_type": "code",
   "execution_count": 209,
   "id": "a4822fa9",
   "metadata": {},
   "outputs": [
    {
     "data": {
      "text/html": [
       "<div>\n",
       "<style scoped>\n",
       "    .dataframe tbody tr th:only-of-type {\n",
       "        vertical-align: middle;\n",
       "    }\n",
       "\n",
       "    .dataframe tbody tr th {\n",
       "        vertical-align: top;\n",
       "    }\n",
       "\n",
       "    .dataframe thead th {\n",
       "        text-align: right;\n",
       "    }\n",
       "</style>\n",
       "<table border=\"1\" class=\"dataframe\">\n",
       "  <thead>\n",
       "    <tr style=\"text-align: right;\">\n",
       "      <th></th>\n",
       "      <th>Time_ms</th>\n",
       "      <th>Power_W</th>\n",
       "    </tr>\n",
       "    <tr>\n",
       "      <th>Time_s</th>\n",
       "      <th></th>\n",
       "      <th></th>\n",
       "    </tr>\n",
       "  </thead>\n",
       "  <tbody>\n",
       "    <tr>\n",
       "      <th>0.000000</th>\n",
       "      <td>0.000</td>\n",
       "      <td>1.9026</td>\n",
       "    </tr>\n",
       "    <tr>\n",
       "      <th>0.012000</th>\n",
       "      <td>12.000</td>\n",
       "      <td>1.9004</td>\n",
       "    </tr>\n",
       "    <tr>\n",
       "      <th>0.024000</th>\n",
       "      <td>24.000</td>\n",
       "      <td>1.8998</td>\n",
       "    </tr>\n",
       "    <tr>\n",
       "      <th>0.061000</th>\n",
       "      <td>61.000</td>\n",
       "      <td>1.9014</td>\n",
       "    </tr>\n",
       "    <tr>\n",
       "      <th>0.073000</th>\n",
       "      <td>73.000</td>\n",
       "      <td>1.9015</td>\n",
       "    </tr>\n",
       "    <tr>\n",
       "      <th>...</th>\n",
       "      <td>...</td>\n",
       "      <td>...</td>\n",
       "    </tr>\n",
       "    <tr>\n",
       "      <th>282.369634</th>\n",
       "      <td>282369.634</td>\n",
       "      <td>10.5520</td>\n",
       "    </tr>\n",
       "    <tr>\n",
       "      <th>282.411634</th>\n",
       "      <td>282411.634</td>\n",
       "      <td>10.5310</td>\n",
       "    </tr>\n",
       "    <tr>\n",
       "      <th>282.423634</th>\n",
       "      <td>282423.634</td>\n",
       "      <td>10.4360</td>\n",
       "    </tr>\n",
       "    <tr>\n",
       "      <th>282.460634</th>\n",
       "      <td>282460.634</td>\n",
       "      <td>10.4020</td>\n",
       "    </tr>\n",
       "    <tr>\n",
       "      <th>282.473634</th>\n",
       "      <td>282473.634</td>\n",
       "      <td>10.3300</td>\n",
       "    </tr>\n",
       "  </tbody>\n",
       "</table>\n",
       "<p>12070 rows × 2 columns</p>\n",
       "</div>"
      ],
      "text/plain": [
       "               Time_ms  Power_W\n",
       "Time_s                         \n",
       "0.000000         0.000   1.9026\n",
       "0.012000        12.000   1.9004\n",
       "0.024000        24.000   1.8998\n",
       "0.061000        61.000   1.9014\n",
       "0.073000        73.000   1.9015\n",
       "...                ...      ...\n",
       "282.369634  282369.634  10.5520\n",
       "282.411634  282411.634  10.5310\n",
       "282.423634  282423.634  10.4360\n",
       "282.460634  282460.634  10.4020\n",
       "282.473634  282473.634  10.3300\n",
       "\n",
       "[12070 rows x 2 columns]"
      ]
     },
     "execution_count": 209,
     "metadata": {},
     "output_type": "execute_result"
    }
   ],
   "source": [
    "WithFeedback"
   ]
  },
  {
   "cell_type": "code",
   "execution_count": 226,
   "id": "b50c69f4",
   "metadata": {},
   "outputs": [
    {
     "data": {
      "text/html": [
       "<div>\n",
       "<style scoped>\n",
       "    .dataframe tbody tr th:only-of-type {\n",
       "        vertical-align: middle;\n",
       "    }\n",
       "\n",
       "    .dataframe tbody tr th {\n",
       "        vertical-align: top;\n",
       "    }\n",
       "\n",
       "    .dataframe thead th {\n",
       "        text-align: right;\n",
       "    }\n",
       "</style>\n",
       "<table border=\"1\" class=\"dataframe\">\n",
       "  <thead>\n",
       "    <tr style=\"text-align: right;\">\n",
       "      <th></th>\n",
       "      <th>Time_ms</th>\n",
       "      <th>Power_W</th>\n",
       "    </tr>\n",
       "  </thead>\n",
       "  <tbody>\n",
       "  </tbody>\n",
       "</table>\n",
       "</div>"
      ],
      "text/plain": [
       "Empty DataFrame\n",
       "Columns: [Time_ms, Power_W]\n",
       "Index: []"
      ]
     },
     "execution_count": 226,
     "metadata": {},
     "output_type": "execute_result"
    }
   ],
   "source": [
    "pd.merge(WithFeedback, NoFeedback)"
   ]
  },
  {
   "cell_type": "code",
   "execution_count": 225,
   "id": "e74055c6",
   "metadata": {
    "scrolled": true
   },
   "outputs": [
    {
     "data": {
      "text/html": [
       "<div>\n",
       "<style scoped>\n",
       "    .dataframe tbody tr th:only-of-type {\n",
       "        vertical-align: middle;\n",
       "    }\n",
       "\n",
       "    .dataframe tbody tr th {\n",
       "        vertical-align: top;\n",
       "    }\n",
       "\n",
       "    .dataframe thead th {\n",
       "        text-align: right;\n",
       "    }\n",
       "</style>\n",
       "<table border=\"1\" class=\"dataframe\">\n",
       "  <thead>\n",
       "    <tr style=\"text-align: right;\">\n",
       "      <th></th>\n",
       "      <th>Time_ms</th>\n",
       "      <th>Power_W</th>\n",
       "    </tr>\n",
       "  </thead>\n",
       "  <tbody>\n",
       "    <tr>\n",
       "      <th>12060</th>\n",
       "      <td>282269.634</td>\n",
       "      <td>10.78500</td>\n",
       "    </tr>\n",
       "    <tr>\n",
       "      <th>12061</th>\n",
       "      <td>282283.634</td>\n",
       "      <td>10.74900</td>\n",
       "    </tr>\n",
       "    <tr>\n",
       "      <th>12062</th>\n",
       "      <td>282297.634</td>\n",
       "      <td>10.70900</td>\n",
       "    </tr>\n",
       "    <tr>\n",
       "      <th>12063</th>\n",
       "      <td>282308.634</td>\n",
       "      <td>10.68400</td>\n",
       "    </tr>\n",
       "    <tr>\n",
       "      <th>12064</th>\n",
       "      <td>282356.634</td>\n",
       "      <td>10.63700</td>\n",
       "    </tr>\n",
       "    <tr>\n",
       "      <th>12065</th>\n",
       "      <td>282369.634</td>\n",
       "      <td>10.55200</td>\n",
       "    </tr>\n",
       "    <tr>\n",
       "      <th>12066</th>\n",
       "      <td>282411.634</td>\n",
       "      <td>10.53100</td>\n",
       "    </tr>\n",
       "    <tr>\n",
       "      <th>12067</th>\n",
       "      <td>282423.634</td>\n",
       "      <td>10.43600</td>\n",
       "    </tr>\n",
       "    <tr>\n",
       "      <th>12068</th>\n",
       "      <td>282460.634</td>\n",
       "      <td>10.40200</td>\n",
       "    </tr>\n",
       "    <tr>\n",
       "      <th>12069</th>\n",
       "      <td>282473.634</td>\n",
       "      <td>10.33000</td>\n",
       "    </tr>\n",
       "    <tr>\n",
       "      <th>12070</th>\n",
       "      <td>0.000</td>\n",
       "      <td>0.51824</td>\n",
       "    </tr>\n",
       "    <tr>\n",
       "      <th>12071</th>\n",
       "      <td>37.000</td>\n",
       "      <td>0.51652</td>\n",
       "    </tr>\n",
       "    <tr>\n",
       "      <th>12072</th>\n",
       "      <td>53.000</td>\n",
       "      <td>0.51464</td>\n",
       "    </tr>\n",
       "    <tr>\n",
       "      <th>12073</th>\n",
       "      <td>91.000</td>\n",
       "      <td>0.51355</td>\n",
       "    </tr>\n",
       "    <tr>\n",
       "      <th>12074</th>\n",
       "      <td>106.000</td>\n",
       "      <td>0.51230</td>\n",
       "    </tr>\n",
       "    <tr>\n",
       "      <th>12075</th>\n",
       "      <td>144.000</td>\n",
       "      <td>0.50948</td>\n",
       "    </tr>\n",
       "    <tr>\n",
       "      <th>12076</th>\n",
       "      <td>156.000</td>\n",
       "      <td>0.50901</td>\n",
       "    </tr>\n",
       "    <tr>\n",
       "      <th>12077</th>\n",
       "      <td>171.000</td>\n",
       "      <td>0.50839</td>\n",
       "    </tr>\n",
       "    <tr>\n",
       "      <th>12078</th>\n",
       "      <td>183.000</td>\n",
       "      <td>0.50823</td>\n",
       "    </tr>\n",
       "    <tr>\n",
       "      <th>12079</th>\n",
       "      <td>195.000</td>\n",
       "      <td>0.50682</td>\n",
       "    </tr>\n",
       "  </tbody>\n",
       "</table>\n",
       "</div>"
      ],
      "text/plain": [
       "          Time_ms   Power_W\n",
       "12060  282269.634  10.78500\n",
       "12061  282283.634  10.74900\n",
       "12062  282297.634  10.70900\n",
       "12063  282308.634  10.68400\n",
       "12064  282356.634  10.63700\n",
       "12065  282369.634  10.55200\n",
       "12066  282411.634  10.53100\n",
       "12067  282423.634  10.43600\n",
       "12068  282460.634  10.40200\n",
       "12069  282473.634  10.33000\n",
       "12070       0.000   0.51824\n",
       "12071      37.000   0.51652\n",
       "12072      53.000   0.51464\n",
       "12073      91.000   0.51355\n",
       "12074     106.000   0.51230\n",
       "12075     144.000   0.50948\n",
       "12076     156.000   0.50901\n",
       "12077     171.000   0.50839\n",
       "12078     183.000   0.50823\n",
       "12079     195.000   0.50682"
      ]
     },
     "execution_count": 225,
     "metadata": {},
     "output_type": "execute_result"
    }
   ],
   "source": [
    "pd.merge(WithFeedback, NoFeedback, how='outer').iloc[12060:12080]"
   ]
  },
  {
   "cell_type": "code",
   "execution_count": 215,
   "id": "ffbc8c86",
   "metadata": {
    "scrolled": true
   },
   "outputs": [
    {
     "data": {
      "text/html": [
       "<div>\n",
       "<style scoped>\n",
       "    .dataframe tbody tr th:only-of-type {\n",
       "        vertical-align: middle;\n",
       "    }\n",
       "\n",
       "    .dataframe tbody tr th {\n",
       "        vertical-align: top;\n",
       "    }\n",
       "\n",
       "    .dataframe thead th {\n",
       "        text-align: right;\n",
       "    }\n",
       "</style>\n",
       "<table border=\"1\" class=\"dataframe\">\n",
       "  <thead>\n",
       "    <tr style=\"text-align: right;\">\n",
       "      <th></th>\n",
       "      <th>Time_ms</th>\n",
       "      <th>Power_W</th>\n",
       "    </tr>\n",
       "    <tr>\n",
       "      <th>Time_s</th>\n",
       "      <th></th>\n",
       "      <th></th>\n",
       "    </tr>\n",
       "  </thead>\n",
       "  <tbody>\n",
       "    <tr>\n",
       "      <th>0.000000</th>\n",
       "      <td>0.000</td>\n",
       "      <td>1.9026</td>\n",
       "    </tr>\n",
       "    <tr>\n",
       "      <th>0.012000</th>\n",
       "      <td>12.000</td>\n",
       "      <td>1.9004</td>\n",
       "    </tr>\n",
       "    <tr>\n",
       "      <th>0.024000</th>\n",
       "      <td>24.000</td>\n",
       "      <td>1.8998</td>\n",
       "    </tr>\n",
       "    <tr>\n",
       "      <th>0.061000</th>\n",
       "      <td>61.000</td>\n",
       "      <td>1.9014</td>\n",
       "    </tr>\n",
       "    <tr>\n",
       "      <th>0.073000</th>\n",
       "      <td>73.000</td>\n",
       "      <td>1.9015</td>\n",
       "    </tr>\n",
       "    <tr>\n",
       "      <th>...</th>\n",
       "      <td>...</td>\n",
       "      <td>...</td>\n",
       "    </tr>\n",
       "    <tr>\n",
       "      <th>282.369634</th>\n",
       "      <td>282369.634</td>\n",
       "      <td>10.5520</td>\n",
       "    </tr>\n",
       "    <tr>\n",
       "      <th>282.411634</th>\n",
       "      <td>282411.634</td>\n",
       "      <td>10.5310</td>\n",
       "    </tr>\n",
       "    <tr>\n",
       "      <th>282.423634</th>\n",
       "      <td>282423.634</td>\n",
       "      <td>10.4360</td>\n",
       "    </tr>\n",
       "    <tr>\n",
       "      <th>282.460634</th>\n",
       "      <td>282460.634</td>\n",
       "      <td>10.4020</td>\n",
       "    </tr>\n",
       "    <tr>\n",
       "      <th>282.473634</th>\n",
       "      <td>282473.634</td>\n",
       "      <td>10.3300</td>\n",
       "    </tr>\n",
       "  </tbody>\n",
       "</table>\n",
       "<p>12070 rows × 2 columns</p>\n",
       "</div>"
      ],
      "text/plain": [
       "               Time_ms  Power_W\n",
       "Time_s                         \n",
       "0.000000         0.000   1.9026\n",
       "0.012000        12.000   1.9004\n",
       "0.024000        24.000   1.8998\n",
       "0.061000        61.000   1.9014\n",
       "0.073000        73.000   1.9015\n",
       "...                ...      ...\n",
       "282.369634  282369.634  10.5520\n",
       "282.411634  282411.634  10.5310\n",
       "282.423634  282423.634  10.4360\n",
       "282.460634  282460.634  10.4020\n",
       "282.473634  282473.634  10.3300\n",
       "\n",
       "[12070 rows x 2 columns]"
      ]
     },
     "execution_count": 215,
     "metadata": {},
     "output_type": "execute_result"
    }
   ],
   "source": [
    "WithFeedback"
   ]
  },
  {
   "cell_type": "code",
   "execution_count": 195,
   "id": "272c6cd0",
   "metadata": {},
   "outputs": [
    {
     "data": {
      "text/plain": [
       "Time_ms    37.00000\n",
       "Power_W     0.51652\n",
       "Name: 0.037, dtype: float64"
      ]
     },
     "execution_count": 195,
     "metadata": {},
     "output_type": "execute_result"
    }
   ],
   "source": [
    "NoFeedback.loc[0.037]"
   ]
  },
  {
   "cell_type": "code",
   "execution_count": 201,
   "id": "371c6ab8",
   "metadata": {},
   "outputs": [
    {
     "data": {
      "text/plain": [
       "array([[<AxesSubplot:xlabel='Time_s'>, <AxesSubplot:xlabel='Time_s'>]],\n",
       "      dtype=object)"
      ]
     },
     "execution_count": 201,
     "metadata": {},
     "output_type": "execute_result"
    },
    {
     "data": {
      "image/png": "[encoded data removed]",
      "text/plain": [
       "<Figure size 432x288 with 2 Axes>"
      ]
     },
     "metadata": {
      "needs_background": "light"
     },
     "output_type": "display_data"
    }
   ],
   "source": [
    "NoFeedback.plot(subplots=1, layout=[1,2])"
   ]
  },
  {
   "cell_type": "code",
   "execution_count": null,
   "id": "775da334",
   "metadata": {},
   "outputs": [],
   "source": []
  },
  {
   "cell_type": "code",
   "execution_count": null,
   "id": "79c21c76",
   "metadata": {},
   "outputs": [],
   "source": [
    "Power = pd.DataFrame([WithFeedback.Time_ms, NoFeedback.Time_ms], ind"
   ]
  },
  {
   "cell_type": "code",
   "execution_count": 175,
   "id": "936c74e1",
   "metadata": {},
   "outputs": [
    {
     "data": {
      "text/html": [
       "<div>\n",
       "<style scoped>\n",
       "    .dataframe tbody tr th:only-of-type {\n",
       "        vertical-align: middle;\n",
       "    }\n",
       "\n",
       "    .dataframe tbody tr th {\n",
       "        vertical-align: top;\n",
       "    }\n",
       "\n",
       "    .dataframe thead th {\n",
       "        text-align: right;\n",
       "    }\n",
       "</style>\n",
       "<table border=\"1\" class=\"dataframe\">\n",
       "  <thead>\n",
       "    <tr style=\"text-align: right;\">\n",
       "      <th></th>\n",
       "      <th>Time_ms</th>\n",
       "      <th>Power_W</th>\n",
       "    </tr>\n",
       "  </thead>\n",
       "  <tbody>\n",
       "    <tr>\n",
       "      <th>0</th>\n",
       "      <td>0.000</td>\n",
       "      <td>1.9026</td>\n",
       "    </tr>\n",
       "    <tr>\n",
       "      <th>1</th>\n",
       "      <td>12.000</td>\n",
       "      <td>1.9004</td>\n",
       "    </tr>\n",
       "    <tr>\n",
       "      <th>2</th>\n",
       "      <td>24.000</td>\n",
       "      <td>1.8998</td>\n",
       "    </tr>\n",
       "    <tr>\n",
       "      <th>3</th>\n",
       "      <td>61.000</td>\n",
       "      <td>1.9014</td>\n",
       "    </tr>\n",
       "    <tr>\n",
       "      <th>4</th>\n",
       "      <td>73.000</td>\n",
       "      <td>1.9015</td>\n",
       "    </tr>\n",
       "    <tr>\n",
       "      <th>...</th>\n",
       "      <td>...</td>\n",
       "      <td>...</td>\n",
       "    </tr>\n",
       "    <tr>\n",
       "      <th>12065</th>\n",
       "      <td>282369.634</td>\n",
       "      <td>10.5520</td>\n",
       "    </tr>\n",
       "    <tr>\n",
       "      <th>12066</th>\n",
       "      <td>282411.634</td>\n",
       "      <td>10.5310</td>\n",
       "    </tr>\n",
       "    <tr>\n",
       "      <th>12067</th>\n",
       "      <td>282423.634</td>\n",
       "      <td>10.4360</td>\n",
       "    </tr>\n",
       "    <tr>\n",
       "      <th>12068</th>\n",
       "      <td>282460.634</td>\n",
       "      <td>10.4020</td>\n",
       "    </tr>\n",
       "    <tr>\n",
       "      <th>12069</th>\n",
       "      <td>282473.634</td>\n",
       "      <td>10.3300</td>\n",
       "    </tr>\n",
       "  </tbody>\n",
       "</table>\n",
       "<p>12070 rows × 2 columns</p>\n",
       "</div>"
      ],
      "text/plain": [
       "          Time_ms  Power_W\n",
       "0           0.000   1.9026\n",
       "1          12.000   1.9004\n",
       "2          24.000   1.8998\n",
       "3          61.000   1.9014\n",
       "4          73.000   1.9015\n",
       "...           ...      ...\n",
       "12065  282369.634  10.5520\n",
       "12066  282411.634  10.5310\n",
       "12067  282423.634  10.4360\n",
       "12068  282460.634  10.4020\n",
       "12069  282473.634  10.3300\n",
       "\n",
       "[12070 rows x 2 columns]"
      ]
     },
     "execution_count": 175,
     "metadata": {},
     "output_type": "execute_result"
    }
   ],
   "source": [
    "WithFeedback"
   ]
  },
  {
   "cell_type": "code",
   "execution_count": null,
   "id": "8e248f67",
   "metadata": {},
   "outputs": [],
   "source": [
    "WithFeedback.set_index()"
   ]
  },
  {
   "cell_type": "code",
   "execution_count": 96,
   "id": "25462938",
   "metadata": {},
   "outputs": [
    {
     "data": {
      "text/html": [
       "<div>\n",
       "<style scoped>\n",
       "    .dataframe tbody tr th:only-of-type {\n",
       "        vertical-align: middle;\n",
       "    }\n",
       "\n",
       "    .dataframe tbody tr th {\n",
       "        vertical-align: top;\n",
       "    }\n",
       "\n",
       "    .dataframe thead th {\n",
       "        text-align: right;\n",
       "    }\n",
       "</style>\n",
       "<table border=\"1\" class=\"dataframe\">\n",
       "  <thead>\n",
       "    <tr style=\"text-align: right;\">\n",
       "      <th></th>\n",
       "      <th>Time_ms</th>\n",
       "      <th>Power_W</th>\n",
       "      <th>Time_s</th>\n",
       "    </tr>\n",
       "  </thead>\n",
       "  <tbody>\n",
       "    <tr>\n",
       "      <th>0</th>\n",
       "      <td>0.000</td>\n",
       "      <td>1.9026</td>\n",
       "      <td>0.000000</td>\n",
       "    </tr>\n",
       "    <tr>\n",
       "      <th>1</th>\n",
       "      <td>12.000</td>\n",
       "      <td>1.9004</td>\n",
       "      <td>0.012000</td>\n",
       "    </tr>\n",
       "    <tr>\n",
       "      <th>2</th>\n",
       "      <td>24.000</td>\n",
       "      <td>1.8998</td>\n",
       "      <td>0.024000</td>\n",
       "    </tr>\n",
       "    <tr>\n",
       "      <th>3</th>\n",
       "      <td>61.000</td>\n",
       "      <td>1.9014</td>\n",
       "      <td>0.061000</td>\n",
       "    </tr>\n",
       "    <tr>\n",
       "      <th>4</th>\n",
       "      <td>73.000</td>\n",
       "      <td>1.9015</td>\n",
       "      <td>0.073000</td>\n",
       "    </tr>\n",
       "    <tr>\n",
       "      <th>...</th>\n",
       "      <td>...</td>\n",
       "      <td>...</td>\n",
       "      <td>...</td>\n",
       "    </tr>\n",
       "    <tr>\n",
       "      <th>12065</th>\n",
       "      <td>282369.634</td>\n",
       "      <td>10.5520</td>\n",
       "      <td>282.369634</td>\n",
       "    </tr>\n",
       "    <tr>\n",
       "      <th>12066</th>\n",
       "      <td>282411.634</td>\n",
       "      <td>10.5310</td>\n",
       "      <td>282.411634</td>\n",
       "    </tr>\n",
       "    <tr>\n",
       "      <th>12067</th>\n",
       "      <td>282423.634</td>\n",
       "      <td>10.4360</td>\n",
       "      <td>282.423634</td>\n",
       "    </tr>\n",
       "    <tr>\n",
       "      <th>12068</th>\n",
       "      <td>282460.634</td>\n",
       "      <td>10.4020</td>\n",
       "      <td>282.460634</td>\n",
       "    </tr>\n",
       "    <tr>\n",
       "      <th>12069</th>\n",
       "      <td>282473.634</td>\n",
       "      <td>10.3300</td>\n",
       "      <td>282.473634</td>\n",
       "    </tr>\n",
       "  </tbody>\n",
       "</table>\n",
       "<p>12070 rows × 3 columns</p>\n",
       "</div>"
      ],
      "text/plain": [
       "          Time_ms  Power_W      Time_s\n",
       "0           0.000   1.9026    0.000000\n",
       "1          12.000   1.9004    0.012000\n",
       "2          24.000   1.8998    0.024000\n",
       "3          61.000   1.9014    0.061000\n",
       "4          73.000   1.9015    0.073000\n",
       "...           ...      ...         ...\n",
       "12065  282369.634  10.5520  282.369634\n",
       "12066  282411.634  10.5310  282.411634\n",
       "12067  282423.634  10.4360  282.423634\n",
       "12068  282460.634  10.4020  282.460634\n",
       "12069  282473.634  10.3300  282.473634\n",
       "\n",
       "[12070 rows x 3 columns]"
      ]
     },
     "execution_count": 96,
     "metadata": {},
     "output_type": "execute_result"
    }
   ],
   "source": [
    "WithFeedback"
   ]
  },
  {
   "cell_type": "code",
   "execution_count": 227,
   "id": "65846a91",
   "metadata": {},
   "outputs": [],
   "source": [
    "WithFeedback65 = WithFeedback[ WithFeedback['Power_W']>65 ]\n",
    "NoFeedback65 = NoFeedback[ NoFeedback['Power_W']>65 ]"
   ]
  },
  {
   "cell_type": "code",
   "execution_count": 228,
   "id": "1d22eb6a",
   "metadata": {},
   "outputs": [],
   "source": [
    "WithFeedback69 = WithFeedback[ WithFeedback['Power_W']>69 ]\n",
    "NoFeedback69 = NoFeedback[ NoFeedback['Power_W']>69 ]"
   ]
  },
  {
   "cell_type": "code",
   "execution_count": 235,
   "id": "0491d6b7",
   "metadata": {},
   "outputs": [
    {
     "data": {
      "text/plain": [
       "<AxesSubplot:xlabel='Time_s'>"
      ]
     },
     "execution_count": 235,
     "metadata": {},
     "output_type": "execute_result"
    },
    {
     "data": {
      "image/png": "[encoded data removed]",
      "text/plain": [
       "<Figure size 720x576 with 6 Axes>"
      ]
     },
     "metadata": {
      "needs_background": "light"
     },
     "output_type": "display_data"
    }
   ],
   "source": [
    "fig, axs = plt.subplots(3,2, figsize=(10,8))\n",
    "\n",
    "WithFeedback69.Power_W.plot(ax=axs[0,0])\n",
    "WithFeedback65.Power_W.plot(ax=axs[1,0])\n",
    "WithFeedback.Power_W.plot(ax=axs[2,0])\n",
    "\n",
    "NoFeedback69.Power_W.plot(ax=axs[0,1])\n",
    "NoFeedback65.Power_W.plot(ax=axs[1,1])\n",
    "NoFeedback.Power_W.plot(ax=axs[2,1])"
   ]
  },
  {
   "cell_type": "code",
   "execution_count": 150,
   "id": "1409c8d4",
   "metadata": {},
   "outputs": [
    {
     "data": {
      "text/plain": [
       "array([[<AxesSubplot:xlabel='Time_s'>, <AxesSubplot:xlabel='Time_s'>]],\n",
       "      dtype=object)"
      ]
     },
     "execution_count": 150,
     "metadata": {},
     "output_type": "execute_result"
    },
    {
     "data": {
      "image/png": "[encoded data removed]",
      "text/plain": [
       "<Figure size 432x288 with 2 Axes>"
      ]
     },
     "metadata": {
      "needs_background": "light"
     },
     "output_type": "display_data"
    },
    {
     "data": {
      "image/png": "[encoded data removed]",
      "text/plain": [
       "<Figure size 432x288 with 2 Axes>"
      ]
     },
     "metadata": {
      "needs_background": "light"
     },
     "output_type": "display_data"
    },
    {
     "data": {
      "image/png": "[encoded data removed]",
      "text/plain": [
       "<Figure size 432x288 with 2 Axes>"
      ]
     },
     "metadata": {
      "needs_background": "light"
     },
     "output_type": "display_data"
    }
   ],
   "source": [
    "WithFeedback69.plot('Time_s', 'Power_W', subplots=True, layout=(1,2))\n",
    "WithFeedback65.plot('Time_s', 'Power_W', subplots=True, layout=(1,2))\n",
    "WithFeedback.plot('Time_s', 'Power_W', subplots=True, layout=(1,2))\n",
    "# subplots=True, layout=(1,2)"
   ]
  },
  {
   "cell_type": "code",
   "execution_count": 120,
   "id": "b89a0261",
   "metadata": {},
   "outputs": [
    {
     "data": {
      "text/plain": [
       "<AxesSubplot:xlabel='Time_s'>"
      ]
     },
     "execution_count": 120,
     "metadata": {},
     "output_type": "execute_result"
    },
    {
     "data": {
      "image/png": "[encoded data removed]",
      "text/plain": [
       "<Figure size 432x288 with 1 Axes>"
      ]
     },
     "metadata": {
      "needs_background": "light"
     },
     "output_type": "display_data"
    },
    {
     "data": {
      "image/png": "[encoded data removed]",
      "text/plain": [
       "<Figure size 432x288 with 1 Axes>"
      ]
     },
     "metadata": {
      "needs_background": "light"
     },
     "output_type": "display_data"
    }
   ],
   "source": [
    "NoFeedback69.plot('Time_s', 'Power_W')\n",
    "NoFeedback65.plot('Time_s', 'Power_W')\n",
    "# NoFeedback.plot('Time_s', 'Power_W')"
   ]
  },
  {
   "cell_type": "code",
   "execution_count": null,
   "id": "b021fff9",
   "metadata": {},
   "outputs": [],
   "source": []
  },
  {
   "cell_type": "code",
   "execution_count": null,
   "id": "7f3e39b6",
   "metadata": {},
   "outputs": [],
   "source": [
    "aa = WithFeedback[]"
   ]
  },
  {
   "cell_type": "code",
   "execution_count": 140,
   "id": "2a35b620",
   "metadata": {},
   "outputs": [],
   "source": [
    "WithFeedbackPlateau = WithFeedback[ (WithFeedback.Time_s>=100) & (WithFeedback.Time_s<=250)]\n",
    "NoFeedbackPlateau = NoFeedback[ (NoFeedback.Time_s>=64) & (NoFeedback.Time_s<=214)]"
   ]
  },
  {
   "cell_type": "code",
   "execution_count": 141,
   "id": "0333f330",
   "metadata": {
    "scrolled": true
   },
   "outputs": [
    {
     "data": {
      "text/plain": [
       "<AxesSubplot:xlabel='Time_s'>"
      ]
     },
     "execution_count": 141,
     "metadata": {},
     "output_type": "execute_result"
    },
    {
     "data": {
      "image/png": "[encoded data removed]",
      "text/plain": [
       "<Figure size 432x288 with 1 Axes>"
      ]
     },
     "metadata": {
      "needs_background": "light"
     },
     "output_type": "display_data"
    },
    {
     "data": {
      "image/png": "[encoded data removed]",
      "text/plain": [
       "<Figure size 432x288 with 1 Axes>"
      ]
     },
     "metadata": {
      "needs_background": "light"
     },
     "output_type": "display_data"
    }
   ],
   "source": [
    "WithFeedbackPlateau.plot('Time_s', 'Power_W')\n",
    "NoFeedbackPlateau.plot('Time_s', 'Power_W')"
   ]
  },
  {
   "cell_type": "code",
   "execution_count": 142,
   "id": "1734830a",
   "metadata": {},
   "outputs": [
    {
     "data": {
      "text/html": [
       "<div>\n",
       "<style scoped>\n",
       "    .dataframe tbody tr th:only-of-type {\n",
       "        vertical-align: middle;\n",
       "    }\n",
       "\n",
       "    .dataframe tbody tr th {\n",
       "        vertical-align: top;\n",
       "    }\n",
       "\n",
       "    .dataframe thead th {\n",
       "        text-align: right;\n",
       "    }\n",
       "</style>\n",
       "<table border=\"1\" class=\"dataframe\">\n",
       "  <thead>\n",
       "    <tr style=\"text-align: right;\">\n",
       "      <th></th>\n",
       "      <th>Time_ms</th>\n",
       "      <th>Power_W</th>\n",
       "      <th>Time_s</th>\n",
       "    </tr>\n",
       "  </thead>\n",
       "  <tbody>\n",
       "    <tr>\n",
       "      <th>count</th>\n",
       "      <td>6423.000000</td>\n",
       "      <td>6423.000000</td>\n",
       "      <td>6423.000000</td>\n",
       "    </tr>\n",
       "    <tr>\n",
       "      <th>mean</th>\n",
       "      <td>174950.972992</td>\n",
       "      <td>69.768973</td>\n",
       "      <td>174.950973</td>\n",
       "    </tr>\n",
       "    <tr>\n",
       "      <th>std</th>\n",
       "      <td>43294.806216</td>\n",
       "      <td>0.172370</td>\n",
       "      <td>43.294806</td>\n",
       "    </tr>\n",
       "    <tr>\n",
       "      <th>min</th>\n",
       "      <td>100019.623000</td>\n",
       "      <td>69.276000</td>\n",
       "      <td>100.019623</td>\n",
       "    </tr>\n",
       "    <tr>\n",
       "      <th>25%</th>\n",
       "      <td>137523.123000</td>\n",
       "      <td>69.651000</td>\n",
       "      <td>137.523123</td>\n",
       "    </tr>\n",
       "    <tr>\n",
       "      <th>50%</th>\n",
       "      <td>174858.623000</td>\n",
       "      <td>69.760000</td>\n",
       "      <td>174.858623</td>\n",
       "    </tr>\n",
       "    <tr>\n",
       "      <th>75%</th>\n",
       "      <td>212449.123000</td>\n",
       "      <td>69.885000</td>\n",
       "      <td>212.449123</td>\n",
       "    </tr>\n",
       "    <tr>\n",
       "      <th>max</th>\n",
       "      <td>249972.623000</td>\n",
       "      <td>70.448000</td>\n",
       "      <td>249.972623</td>\n",
       "    </tr>\n",
       "  </tbody>\n",
       "</table>\n",
       "</div>"
      ],
      "text/plain": [
       "             Time_ms      Power_W       Time_s\n",
       "count    6423.000000  6423.000000  6423.000000\n",
       "mean   174950.972992    69.768973   174.950973\n",
       "std     43294.806216     0.172370    43.294806\n",
       "min    100019.623000    69.276000   100.019623\n",
       "25%    137523.123000    69.651000   137.523123\n",
       "50%    174858.623000    69.760000   174.858623\n",
       "75%    212449.123000    69.885000   212.449123\n",
       "max    249972.623000    70.448000   249.972623"
      ]
     },
     "execution_count": 142,
     "metadata": {},
     "output_type": "execute_result"
    }
   ],
   "source": [
    "WithFeedbackPlateau.describe()\n"
   ]
  },
  {
   "cell_type": "code",
   "execution_count": 143,
   "id": "f82ff7ae",
   "metadata": {},
   "outputs": [
    {
     "data": {
      "text/html": [
       "<div>\n",
       "<style scoped>\n",
       "    .dataframe tbody tr th:only-of-type {\n",
       "        vertical-align: middle;\n",
       "    }\n",
       "\n",
       "    .dataframe tbody tr th {\n",
       "        vertical-align: top;\n",
       "    }\n",
       "\n",
       "    .dataframe thead th {\n",
       "        text-align: right;\n",
       "    }\n",
       "</style>\n",
       "<table border=\"1\" class=\"dataframe\">\n",
       "  <thead>\n",
       "    <tr style=\"text-align: right;\">\n",
       "      <th></th>\n",
       "      <th>Time_ms</th>\n",
       "      <th>Power_W</th>\n",
       "      <th>Time_s</th>\n",
       "    </tr>\n",
       "  </thead>\n",
       "  <tbody>\n",
       "    <tr>\n",
       "      <th>count</th>\n",
       "      <td>6441.000000</td>\n",
       "      <td>6441.000000</td>\n",
       "      <td>6441.000000</td>\n",
       "    </tr>\n",
       "    <tr>\n",
       "      <th>mean</th>\n",
       "      <td>138919.117691</td>\n",
       "      <td>70.602542</td>\n",
       "      <td>138.919118</td>\n",
       "    </tr>\n",
       "    <tr>\n",
       "      <th>std</th>\n",
       "      <td>43294.067176</td>\n",
       "      <td>0.080303</td>\n",
       "      <td>43.294067</td>\n",
       "    </tr>\n",
       "    <tr>\n",
       "      <th>min</th>\n",
       "      <td>64013.567000</td>\n",
       "      <td>70.245000</td>\n",
       "      <td>64.013567</td>\n",
       "    </tr>\n",
       "    <tr>\n",
       "      <th>25%</th>\n",
       "      <td>101343.567000</td>\n",
       "      <td>70.557000</td>\n",
       "      <td>101.343567</td>\n",
       "    </tr>\n",
       "    <tr>\n",
       "      <th>50%</th>\n",
       "      <td>138905.567000</td>\n",
       "      <td>70.604000</td>\n",
       "      <td>138.905567</td>\n",
       "    </tr>\n",
       "    <tr>\n",
       "      <th>75%</th>\n",
       "      <td>176349.567000</td>\n",
       "      <td>70.651000</td>\n",
       "      <td>176.349567</td>\n",
       "    </tr>\n",
       "    <tr>\n",
       "      <th>max</th>\n",
       "      <td>213997.567000</td>\n",
       "      <td>70.948000</td>\n",
       "      <td>213.997567</td>\n",
       "    </tr>\n",
       "  </tbody>\n",
       "</table>\n",
       "</div>"
      ],
      "text/plain": [
       "             Time_ms      Power_W       Time_s\n",
       "count    6441.000000  6441.000000  6441.000000\n",
       "mean   138919.117691    70.602542   138.919118\n",
       "std     43294.067176     0.080303    43.294067\n",
       "min     64013.567000    70.245000    64.013567\n",
       "25%    101343.567000    70.557000   101.343567\n",
       "50%    138905.567000    70.604000   138.905567\n",
       "75%    176349.567000    70.651000   176.349567\n",
       "max    213997.567000    70.948000   213.997567"
      ]
     },
     "execution_count": 143,
     "metadata": {},
     "output_type": "execute_result"
    }
   ],
   "source": [
    "NoFeedbackPlateau.describe()"
   ]
  },
  {
   "cell_type": "code",
   "execution_count": 153,
   "id": "df1012f2",
   "metadata": {},
   "outputs": [
    {
     "data": {
      "text/plain": [
       "<AxesSubplot:>"
      ]
     },
     "execution_count": 153,
     "metadata": {},
     "output_type": "execute_result"
    },
    {
     "data": {
      "image/png": "[encoded data removed]",
      "text/plain": [
       "<Figure size 432x288 with 1 Axes>"
      ]
     },
     "metadata": {
      "needs_background": "light"
     },
     "output_type": "display_data"
    }
   ],
   "source": [
    "aa.plot()"
   ]
  },
  {
   "cell_type": "code",
   "execution_count": 166,
   "id": "ca1bdaa7",
   "metadata": {},
   "outputs": [
    {
     "data": {
      "text/plain": [
       "<AxesSubplot:>"
      ]
     },
     "execution_count": 166,
     "metadata": {},
     "output_type": "execute_result"
    },
    {
     "data": {
      "image/png": "[encoded data removed]",
      "text/plain": [
       "<Figure size 432x288 with 1 Axes>"
      ]
     },
     "metadata": {
      "needs_background": "light"
     },
     "output_type": "display_data"
    }
   ],
   "source": [
    "ts = pd.Series(np.random.randn(1000), index=pd.date_range('1/1/2000', periods=1000))\n",
    "\n",
    "ts = ts.cumsum()\n",
    "\n",
    "ts.plot()"
   ]
  },
  {
   "cell_type": "code",
   "execution_count": 76,
   "id": "dcfe1759",
   "metadata": {},
   "outputs": [
    {
     "data": {
      "image/png": "[encoded data removed]",
      "text/plain": [
       "<Figure size 432x288 with 3 Axes>"
      ]
     },
     "metadata": {
      "needs_background": "light"
     },
     "output_type": "display_data"
    }
   ],
   "source": [
    "fig, ax = plt.subplots(3,1)"
   ]
  },
  {
   "cell_type": "code",
   "execution_count": 77,
   "id": "4ded9482",
   "metadata": {},
   "outputs": [
    {
     "data": {
      "image/png": "[encoded data removed]",
      "text/plain": [
       "<Figure size 432x288 with 3 Axes>"
      ]
     },
     "execution_count": 77,
     "metadata": {},
     "output_type": "execute_result"
    }
   ],
   "source": [
    "fig"
   ]
  },
  {
   "cell_type": "code",
   "execution_count": 78,
   "id": "8deaf584",
   "metadata": {},
   "outputs": [
    {
     "data": {
      "text/plain": [
       "array([<AxesSubplot:>, <AxesSubplot:>, <AxesSubplot:>], dtype=object)"
      ]
     },
     "execution_count": 78,
     "metadata": {},
     "output_type": "execute_result"
    }
   ],
   "source": [
    "ax"
   ]
  },
  {
   "cell_type": "code",
   "execution_count": 79,
   "id": "58e9f3b8",
   "metadata": {},
   "outputs": [
    {
     "data": {
      "image/png": "[encoded data removed]",
      "text/plain": [
       "<Figure size 432x288 with 3 Axes>"
      ]
     },
     "metadata": {
      "needs_background": "light"
     },
     "output_type": "display_data"
    }
   ],
   "source": [
    "ax1 = plt.subplots(3,1)[1]"
   ]
  },
  {
   "cell_type": "code",
   "execution_count": null,
   "id": "d66415eb",
   "metadata": {},
   "outputs": [],
   "source": []
  },
  {
   "cell_type": "code",
   "execution_count": 67,
   "id": "7f4d0ace",
   "metadata": {},
   "outputs": [
    {
     "data": {
      "text/plain": [
       "<AxesSubplot:>"
      ]
     },
     "execution_count": 67,
     "metadata": {},
     "output_type": "execute_result"
    }
   ],
   "source": [
    "ax1"
   ]
  },
  {
   "cell_type": "code",
   "execution_count": 69,
   "id": "dd40ff47",
   "metadata": {},
   "outputs": [
    {
     "data": {
      "text/plain": [
       "(<Figure size 432x288 with 3 Axes>,\n",
       " array([<AxesSubplot:>, <AxesSubplot:>, <AxesSubplot:>], dtype=object))"
      ]
     },
     "execution_count": 69,
     "metadata": {},
     "output_type": "execute_result"
    }
   ],
   "source": [
    "A"
   ]
  },
  {
   "cell_type": "code",
   "execution_count": 73,
   "id": "af98b385",
   "metadata": {},
   "outputs": [
    {
     "data": {
      "text/plain": [
       "2"
      ]
     },
     "execution_count": 73,
     "metadata": {},
     "output_type": "execute_result"
    }
   ],
   "source": [
    "len(A)"
   ]
  },
  {
   "cell_type": "code",
   "execution_count": 80,
   "id": "ed0be755",
   "metadata": {},
   "outputs": [
    {
     "data": {
      "image/png": "[encoded data removed]",
      "text/plain": [
       "<Figure size 432x288 with 9 Axes>"
      ]
     },
     "metadata": {
      "needs_background": "light"
     },
     "output_type": "display_data"
    }
   ],
   "source": [
    "A = plt.subplots(3,3)"
   ]
  },
  {
   "cell_type": "code",
   "execution_count": 83,
   "id": "34a20290",
   "metadata": {},
   "outputs": [
    {
     "data": {
      "text/plain": [
       "(3, 3)"
      ]
     },
     "execution_count": 83,
     "metadata": {},
     "output_type": "execute_result"
    }
   ],
   "source": [
    "A[1].shape"
   ]
  },
  {
   "cell_type": "code",
   "execution_count": null,
   "id": "f78fccb9",
   "metadata": {},
   "outputs": [],
   "source": []
  }
 ],
 "metadata": {
  "kernelspec": {
   "display_name": "Python 3 (ipykernel)",
   "language": "python",
   "name": "python3"
  },
  "language_info": {
   "codemirror_mode": {
    "name": "ipython",
    "version": 3
   },
   "file_extension": ".py",
   "mimetype": "text/x-python",
   "name": "python",
   "nbconvert_exporter": "python",
   "pygments_lexer": "ipython3",
   "version": "3.7.3"
  }
 },
 "nbformat": 4,
 "nbformat_minor": 5
}
