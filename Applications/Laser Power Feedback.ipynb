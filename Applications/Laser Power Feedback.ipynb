{
 "cells": [
  {
   "cell_type": "code",
   "execution_count": 61,
   "id": "9c4d4894",
   "metadata": {},
   "outputs": [],
   "source": [
    "import numpy as np\n",
    "import pandas as pd\n",
    "import matplotlib.pyplot as plt\n",
    "import os\n",
    "import datetime\n"
   ]
  },
  {
   "cell_type": "code",
   "execution_count": 62,
   "id": "3b253e98",
   "metadata": {},
   "outputs": [],
   "source": [
    "date = '08/29/2023'"
   ]
  },
  {
   "cell_type": "code",
   "execution_count": 63,
   "id": "738a4100",
   "metadata": {},
   "outputs": [],
   "source": [
    "foldername = os.path.join('C:\\\\Users\\\\Sommer Lab\\\\Documents\\\\Data',  \n",
    "                      datetime.datetime.strptime(date, '%m/%d/%Y').strftime('%Y\\\\%m-%Y\\\\%d %b %Y'))"
   ]
  },
  {
   "cell_type": "code",
   "execution_count": 64,
   "id": "187c7ae0",
   "metadata": {},
   "outputs": [
    {
     "data": {
      "text/plain": [
       "'C:\\\\Users\\\\Sommer Lab\\\\Documents\\\\Data\\\\2023\\\\08-2023\\\\29 Aug 2023'"
      ]
     },
     "execution_count": 64,
     "metadata": {},
     "output_type": "execute_result"
    }
   ],
   "source": [
    "foldername"
   ]
  },
  {
   "cell_type": "code",
   "execution_count": 65,
   "id": "81c94c5d",
   "metadata": {},
   "outputs": [],
   "source": [
    "WithFeedback = pd.read_csv(os.path.join(foldername, 'Laser power with feedback.csv'), header=18)\n",
    "NoFeedback = pd.read_csv(os.path.join(foldername,'Laser power without feedback.csv'), header=18)\n",
    "\n",
    "WithFeedback2 = pd.read_csv(os.path.join(foldername, 'Laser power with feedback 2.csv'), header=18)"
   ]
  },
  {
   "cell_type": "code",
   "execution_count": 13,
   "id": "cb782961",
   "metadata": {
    "scrolled": true
   },
   "outputs": [
    {
     "data": {
      "text/html": [
       "<div>\n",
       "<style scoped>\n",
       "    .dataframe tbody tr th:only-of-type {\n",
       "        vertical-align: middle;\n",
       "    }\n",
       "\n",
       "    .dataframe tbody tr th {\n",
       "        vertical-align: top;\n",
       "    }\n",
       "\n",
       "    .dataframe thead th {\n",
       "        text-align: right;\n",
       "    }\n",
       "</style>\n",
       "<table border=\"1\" class=\"dataframe\">\n",
       "  <thead>\n",
       "    <tr style=\"text-align: right;\">\n",
       "      <th></th>\n",
       "      <th>Time (ms)</th>\n",
       "      <th>Power (W)</th>\n",
       "    </tr>\n",
       "  </thead>\n",
       "  <tbody>\n",
       "    <tr>\n",
       "      <th>0</th>\n",
       "      <td>0.0</td>\n",
       "      <td>-0.008935</td>\n",
       "    </tr>\n",
       "    <tr>\n",
       "      <th>1</th>\n",
       "      <td>12.0</td>\n",
       "      <td>-0.008778</td>\n",
       "    </tr>\n",
       "    <tr>\n",
       "      <th>2</th>\n",
       "      <td>27.0</td>\n",
       "      <td>-0.008152</td>\n",
       "    </tr>\n",
       "    <tr>\n",
       "      <th>3</th>\n",
       "      <td>39.0</td>\n",
       "      <td>-0.008152</td>\n",
       "    </tr>\n",
       "    <tr>\n",
       "      <th>4</th>\n",
       "      <td>51.0</td>\n",
       "      <td>-0.007526</td>\n",
       "    </tr>\n",
       "  </tbody>\n",
       "</table>\n",
       "</div>"
      ],
      "text/plain": [
       "   Time (ms)  Power (W)\n",
       "0        0.0  -0.008935\n",
       "1       12.0  -0.008778\n",
       "2       27.0  -0.008152\n",
       "3       39.0  -0.008152\n",
       "4       51.0  -0.007526"
      ]
     },
     "execution_count": 13,
     "metadata": {},
     "output_type": "execute_result"
    }
   ],
   "source": [
    "WithFeedback.head()"
   ]
  },
  {
   "cell_type": "code",
   "execution_count": 14,
   "id": "a2035a6b",
   "metadata": {},
   "outputs": [],
   "source": [
    "def RenameSeries(df):\n",
    "    return df.rename(columns={'Time (ms)':'Time_ms', 'Power (W)':'Power_W'})\n",
    "    "
   ]
  },
  {
   "cell_type": "code",
   "execution_count": 15,
   "id": "64cefa80",
   "metadata": {},
   "outputs": [],
   "source": [
    "WithFeedback = RenameSeries(WithFeedback)\n",
    "NoFeedback = RenameSeries(NoFeedback)\n",
    "WithFeedback2 = RenameSeries(WithFeedback2)"
   ]
  },
  {
   "cell_type": "code",
   "execution_count": 16,
   "id": "13a625d8",
   "metadata": {},
   "outputs": [],
   "source": [
    "WithFeedback['Time_s'] = WithFeedback.Time_ms/1000\n",
    "NoFeedback['Time_s'] = NoFeedback.Time_ms/1000\n",
    "WithFeedback2['Time_s'] = WithFeedback2.Time_ms/1000"
   ]
  },
  {
   "cell_type": "code",
   "execution_count": 17,
   "id": "78e874cf",
   "metadata": {},
   "outputs": [],
   "source": [
    "WithFeedback = WithFeedback.set_index('Time_s')\n",
    "NoFeedback = NoFeedback.set_index('Time_s')\n",
    "WithFeedback2 = WithFeedback2.set_index('Time_s')"
   ]
  },
  {
   "cell_type": "code",
   "execution_count": 19,
   "id": "92cb24cf",
   "metadata": {},
   "outputs": [
    {
     "data": {
      "text/html": [
       "<div>\n",
       "<style scoped>\n",
       "    .dataframe tbody tr th:only-of-type {\n",
       "        vertical-align: middle;\n",
       "    }\n",
       "\n",
       "    .dataframe tbody tr th {\n",
       "        vertical-align: top;\n",
       "    }\n",
       "\n",
       "    .dataframe thead th {\n",
       "        text-align: right;\n",
       "    }\n",
       "</style>\n",
       "<table border=\"1\" class=\"dataframe\">\n",
       "  <thead>\n",
       "    <tr style=\"text-align: right;\">\n",
       "      <th></th>\n",
       "      <th>Time_ms</th>\n",
       "      <th>Power_W</th>\n",
       "    </tr>\n",
       "  </thead>\n",
       "  <tbody>\n",
       "    <tr>\n",
       "      <th>count</th>\n",
       "      <td>12046.000000</td>\n",
       "      <td>12046.000000</td>\n",
       "    </tr>\n",
       "    <tr>\n",
       "      <th>mean</th>\n",
       "      <td>140493.853661</td>\n",
       "      <td>75.801160</td>\n",
       "    </tr>\n",
       "    <tr>\n",
       "      <th>std</th>\n",
       "      <td>80787.759871</td>\n",
       "      <td>17.730859</td>\n",
       "    </tr>\n",
       "    <tr>\n",
       "      <th>min</th>\n",
       "      <td>0.000000</td>\n",
       "      <td>0.324210</td>\n",
       "    </tr>\n",
       "    <tr>\n",
       "      <th>25%</th>\n",
       "      <td>70571.470000</td>\n",
       "      <td>80.249000</td>\n",
       "    </tr>\n",
       "    <tr>\n",
       "      <th>50%</th>\n",
       "      <td>140536.970000</td>\n",
       "      <td>80.405000</td>\n",
       "    </tr>\n",
       "    <tr>\n",
       "      <th>75%</th>\n",
       "      <td>210487.220000</td>\n",
       "      <td>80.530000</td>\n",
       "    </tr>\n",
       "    <tr>\n",
       "      <th>max</th>\n",
       "      <td>280206.470000</td>\n",
       "      <td>81.015000</td>\n",
       "    </tr>\n",
       "  </tbody>\n",
       "</table>\n",
       "</div>"
      ],
      "text/plain": [
       "             Time_ms       Power_W\n",
       "count   12046.000000  12046.000000\n",
       "mean   140493.853661     75.801160\n",
       "std     80787.759871     17.730859\n",
       "min         0.000000      0.324210\n",
       "25%     70571.470000     80.249000\n",
       "50%    140536.970000     80.405000\n",
       "75%    210487.220000     80.530000\n",
       "max    280206.470000     81.015000"
      ]
     },
     "execution_count": 19,
     "metadata": {},
     "output_type": "execute_result"
    }
   ],
   "source": [
    "WithFeedback2.describe()"
   ]
  },
  {
   "cell_type": "code",
   "execution_count": 34,
   "id": "4a108d10",
   "metadata": {},
   "outputs": [],
   "source": [
    "thr1 = 75\n",
    "\n",
    "WithFeedback_thr1 = WithFeedback[ WithFeedback['Power_W']>thr1 ]\n",
    "NoFeedback_thr1 = NoFeedback[ NoFeedback['Power_W']>thr1 ]\n",
    "WithFeedback2_thr1 = WithFeedback2[ WithFeedback2['Power_W']>thr1 ]"
   ]
  },
  {
   "cell_type": "code",
   "execution_count": 37,
   "id": "62467aeb",
   "metadata": {},
   "outputs": [],
   "source": [
    "thr2 = 79.5\n",
    "\n",
    "WithFeedback_thr2 = WithFeedback[ WithFeedback['Power_W']>thr2 ]\n",
    "NoFeedback_thr2 = NoFeedback[ NoFeedback['Power_W']>thr2 ]\n",
    "WithFeedback2_thr2 = WithFeedback2[ WithFeedback2['Power_W']>thr2 ]"
   ]
  },
  {
   "cell_type": "code",
   "execution_count": 38,
   "id": "965d833c",
   "metadata": {
    "scrolled": true
   },
   "outputs": [
    {
     "data": {
      "text/plain": [
       "Text(0, 0.5, 'Power (W)')"
      ]
     },
     "execution_count": 38,
     "metadata": {},
     "output_type": "execute_result"
    },
    {
     "data": {
      "image/png": "[encoded data removed]",
      "text/plain": [
       "<Figure size 1080x576 with 9 Axes>"
      ]
     },
     "metadata": {
      "needs_background": "light"
     },
     "output_type": "display_data"
    }
   ],
   "source": [
    "fig, axs = plt.subplots(3,3, figsize=(15,8))\n",
    "\n",
    "WithFeedback_thr2.Power_W.plot(ax=axs[0,0])\n",
    "WithFeedback_thr1.Power_W.plot(ax=axs[1,0])\n",
    "WithFeedback.Power_W.plot(ax=axs[2,0])\n",
    "\n",
    "NoFeedback_thr2.Power_W.plot(ax=axs[0,1])\n",
    "NoFeedback_thr1.Power_W.plot(ax=axs[1,1])\n",
    "NoFeedback.Power_W.plot(ax=axs[2,1])\n",
    "\n",
    "WithFeedback2_thr2.Power_W.plot(ax=axs[0,2])\n",
    "WithFeedback2_thr1.Power_W.plot(ax=axs[1,2])\n",
    "WithFeedback2.Power_W.plot(ax=axs[2,2])\n",
    "\n",
    "axs[0,0].set_title('With Feedback')\n",
    "axs[0,1].set_title('No Feedback')\n",
    "axs[0,2].set_title('With Feedback 2')\n",
    "axs[1,0].set_ylabel('Power (W)')"
   ]
  },
  {
   "cell_type": "code",
   "execution_count": 41,
   "id": "a985a384",
   "metadata": {},
   "outputs": [
    {
     "data": {
      "text/html": [
       "<div>\n",
       "<style scoped>\n",
       "    .dataframe tbody tr th:only-of-type {\n",
       "        vertical-align: middle;\n",
       "    }\n",
       "\n",
       "    .dataframe tbody tr th {\n",
       "        vertical-align: top;\n",
       "    }\n",
       "\n",
       "    .dataframe thead th {\n",
       "        text-align: right;\n",
       "    }\n",
       "</style>\n",
       "<table border=\"1\" class=\"dataframe\">\n",
       "  <thead>\n",
       "    <tr style=\"text-align: right;\">\n",
       "      <th></th>\n",
       "      <th>Time_ms</th>\n",
       "      <th>Power_W</th>\n",
       "    </tr>\n",
       "    <tr>\n",
       "      <th>Time_s</th>\n",
       "      <th></th>\n",
       "      <th></th>\n",
       "    </tr>\n",
       "  </thead>\n",
       "  <tbody>\n",
       "    <tr>\n",
       "      <th>280.13447</th>\n",
       "      <td>280134.47</td>\n",
       "      <td>80.546</td>\n",
       "    </tr>\n",
       "    <tr>\n",
       "      <th>280.14647</th>\n",
       "      <td>280146.47</td>\n",
       "      <td>80.561</td>\n",
       "    </tr>\n",
       "    <tr>\n",
       "      <th>280.15847</th>\n",
       "      <td>280158.47</td>\n",
       "      <td>80.593</td>\n",
       "    </tr>\n",
       "    <tr>\n",
       "      <th>280.17047</th>\n",
       "      <td>280170.47</td>\n",
       "      <td>80.452</td>\n",
       "    </tr>\n",
       "    <tr>\n",
       "      <th>280.20647</th>\n",
       "      <td>280206.47</td>\n",
       "      <td>80.640</td>\n",
       "    </tr>\n",
       "  </tbody>\n",
       "</table>\n",
       "</div>"
      ],
      "text/plain": [
       "             Time_ms  Power_W\n",
       "Time_s                       \n",
       "280.13447  280134.47   80.546\n",
       "280.14647  280146.47   80.561\n",
       "280.15847  280158.47   80.593\n",
       "280.17047  280170.47   80.452\n",
       "280.20647  280206.47   80.640"
      ]
     },
     "execution_count": 41,
     "metadata": {},
     "output_type": "execute_result"
    }
   ],
   "source": [
    "WithFeedback2.tail()"
   ]
  },
  {
   "cell_type": "code",
   "execution_count": 44,
   "id": "a20fd265",
   "metadata": {},
   "outputs": [],
   "source": [
    "t1 = 70\n",
    "t2 = 270\n",
    "WithFeedback2Plateau = WithFeedback2[ (WithFeedback2.index>=t1) & (WithFeedback2.index<=t2)]\n",
    "NoFeedbackPlateau = NoFeedback[ (NoFeedback.index>=t1) & (NoFeedback.index<=t2)]"
   ]
  },
  {
   "cell_type": "code",
   "execution_count": 60,
   "id": "d4264a7a",
   "metadata": {
    "scrolled": false
   },
   "outputs": [
    {
     "data": {
      "text/plain": [
       "<matplotlib.legend.Legend at 0x26fcbbd58d0>"
      ]
     },
     "execution_count": 60,
     "metadata": {},
     "output_type": "execute_result"
    },
    {
     "data": {
      "image/png": "[encoded data removed]",
      "text/plain": [
       "<Figure size 1440x360 with 1 Axes>"
      ]
     },
     "metadata": {
      "needs_background": "light"
     },
     "output_type": "display_data"
    }
   ],
   "source": [
    "plt.figure(figsize=(20,5))\n",
    "WithFeedback2Plateau.Power_W.plot()\n",
    "NoFeedbackPlateau.Power_W.plot()\n",
    "plt.legend(['With Feedback 2', 'Without Feedback'])"
   ]
  },
  {
   "cell_type": "code",
   "execution_count": 49,
   "id": "b8e2182b",
   "metadata": {},
   "outputs": [
    {
     "data": {
      "text/html": [
       "<div>\n",
       "<style scoped>\n",
       "    .dataframe tbody tr th:only-of-type {\n",
       "        vertical-align: middle;\n",
       "    }\n",
       "\n",
       "    .dataframe tbody tr th {\n",
       "        vertical-align: top;\n",
       "    }\n",
       "\n",
       "    .dataframe thead th {\n",
       "        text-align: right;\n",
       "    }\n",
       "</style>\n",
       "<table border=\"1\" class=\"dataframe\">\n",
       "  <thead>\n",
       "    <tr style=\"text-align: right;\">\n",
       "      <th></th>\n",
       "      <th>Time_ms</th>\n",
       "      <th>Power_W</th>\n",
       "    </tr>\n",
       "  </thead>\n",
       "  <tbody>\n",
       "    <tr>\n",
       "      <th>count</th>\n",
       "      <td>8614.000000</td>\n",
       "      <td>8614.000000</td>\n",
       "    </tr>\n",
       "    <tr>\n",
       "      <th>mean</th>\n",
       "      <td>169989.489387</td>\n",
       "      <td>80.460668</td>\n",
       "    </tr>\n",
       "    <tr>\n",
       "      <th>std</th>\n",
       "      <td>57736.809447</td>\n",
       "      <td>0.151427</td>\n",
       "    </tr>\n",
       "    <tr>\n",
       "      <th>min</th>\n",
       "      <td>70001.470000</td>\n",
       "      <td>79.827000</td>\n",
       "    </tr>\n",
       "    <tr>\n",
       "      <th>25%</th>\n",
       "      <td>120068.470000</td>\n",
       "      <td>80.358000</td>\n",
       "    </tr>\n",
       "    <tr>\n",
       "      <th>50%</th>\n",
       "      <td>169981.970000</td>\n",
       "      <td>80.452000</td>\n",
       "    </tr>\n",
       "    <tr>\n",
       "      <th>75%</th>\n",
       "      <td>219963.220000</td>\n",
       "      <td>80.561000</td>\n",
       "    </tr>\n",
       "    <tr>\n",
       "      <th>max</th>\n",
       "      <td>269967.470000</td>\n",
       "      <td>81.015000</td>\n",
       "    </tr>\n",
       "  </tbody>\n",
       "</table>\n",
       "</div>"
      ],
      "text/plain": [
       "             Time_ms      Power_W\n",
       "count    8614.000000  8614.000000\n",
       "mean   169989.489387    80.460668\n",
       "std     57736.809447     0.151427\n",
       "min     70001.470000    79.827000\n",
       "25%    120068.470000    80.358000\n",
       "50%    169981.970000    80.452000\n",
       "75%    219963.220000    80.561000\n",
       "max    269967.470000    81.015000"
      ]
     },
     "execution_count": 49,
     "metadata": {},
     "output_type": "execute_result"
    }
   ],
   "source": [
    "WithFeedback2Plateau.describe()"
   ]
  },
  {
   "cell_type": "code",
   "execution_count": 50,
   "id": "8bdeaea7",
   "metadata": {},
   "outputs": [
    {
     "data": {
      "text/html": [
       "<div>\n",
       "<style scoped>\n",
       "    .dataframe tbody tr th:only-of-type {\n",
       "        vertical-align: middle;\n",
       "    }\n",
       "\n",
       "    .dataframe tbody tr th {\n",
       "        vertical-align: top;\n",
       "    }\n",
       "\n",
       "    .dataframe thead th {\n",
       "        text-align: right;\n",
       "    }\n",
       "</style>\n",
       "<table border=\"1\" class=\"dataframe\">\n",
       "  <thead>\n",
       "    <tr style=\"text-align: right;\">\n",
       "      <th></th>\n",
       "      <th>Time_ms</th>\n",
       "      <th>Power_W</th>\n",
       "    </tr>\n",
       "  </thead>\n",
       "  <tbody>\n",
       "    <tr>\n",
       "      <th>count</th>\n",
       "      <td>8713.000000</td>\n",
       "      <td>8713.000000</td>\n",
       "    </tr>\n",
       "    <tr>\n",
       "      <th>mean</th>\n",
       "      <td>170080.462913</td>\n",
       "      <td>80.861891</td>\n",
       "    </tr>\n",
       "    <tr>\n",
       "      <th>std</th>\n",
       "      <td>57731.364295</td>\n",
       "      <td>0.087819</td>\n",
       "    </tr>\n",
       "    <tr>\n",
       "      <th>min</th>\n",
       "      <td>70028.051000</td>\n",
       "      <td>80.530000</td>\n",
       "    </tr>\n",
       "    <tr>\n",
       "      <th>25%</th>\n",
       "      <td>120135.051000</td>\n",
       "      <td>80.796000</td>\n",
       "    </tr>\n",
       "    <tr>\n",
       "      <th>50%</th>\n",
       "      <td>170140.051000</td>\n",
       "      <td>80.858000</td>\n",
       "    </tr>\n",
       "    <tr>\n",
       "      <th>75%</th>\n",
       "      <td>219990.051000</td>\n",
       "      <td>80.921000</td>\n",
       "    </tr>\n",
       "    <tr>\n",
       "      <th>max</th>\n",
       "      <td>269990.051000</td>\n",
       "      <td>81.202000</td>\n",
       "    </tr>\n",
       "  </tbody>\n",
       "</table>\n",
       "</div>"
      ],
      "text/plain": [
       "             Time_ms      Power_W\n",
       "count    8713.000000  8713.000000\n",
       "mean   170080.462913    80.861891\n",
       "std     57731.364295     0.087819\n",
       "min     70028.051000    80.530000\n",
       "25%    120135.051000    80.796000\n",
       "50%    170140.051000    80.858000\n",
       "75%    219990.051000    80.921000\n",
       "max    269990.051000    81.202000"
      ]
     },
     "execution_count": 50,
     "metadata": {},
     "output_type": "execute_result"
    }
   ],
   "source": [
    "NoFeedbackPlateau.describe()"
   ]
  },
  {
   "cell_type": "code",
   "execution_count": null,
   "id": "99059631",
   "metadata": {},
   "outputs": [],
   "source": []
  },
  {
   "cell_type": "code",
   "execution_count": 226,
   "id": "b50c69f4",
   "metadata": {},
   "outputs": [
    {
     "data": {
      "text/html": [
       "<div>\n",
       "<style scoped>\n",
       "    .dataframe tbody tr th:only-of-type {\n",
       "        vertical-align: middle;\n",
       "    }\n",
       "\n",
       "    .dataframe tbody tr th {\n",
       "        vertical-align: top;\n",
       "    }\n",
       "\n",
       "    .dataframe thead th {\n",
       "        text-align: right;\n",
       "    }\n",
       "</style>\n",
       "<table border=\"1\" class=\"dataframe\">\n",
       "  <thead>\n",
       "    <tr style=\"text-align: right;\">\n",
       "      <th></th>\n",
       "      <th>Time_ms</th>\n",
       "      <th>Power_W</th>\n",
       "    </tr>\n",
       "  </thead>\n",
       "  <tbody>\n",
       "  </tbody>\n",
       "</table>\n",
       "</div>"
      ],
      "text/plain": [
       "Empty DataFrame\n",
       "Columns: [Time_ms, Power_W]\n",
       "Index: []"
      ]
     },
     "execution_count": 226,
     "metadata": {},
     "output_type": "execute_result"
    }
   ],
   "source": [
    "pd.merge(WithFeedback, NoFeedback)"
   ]
  },
  {
   "cell_type": "code",
   "execution_count": 225,
   "id": "e74055c6",
   "metadata": {
    "scrolled": true
   },
   "outputs": [
    {
     "data": {
      "text/html": [
       "<div>\n",
       "<style scoped>\n",
       "    .dataframe tbody tr th:only-of-type {\n",
       "        vertical-align: middle;\n",
       "    }\n",
       "\n",
       "    .dataframe tbody tr th {\n",
       "        vertical-align: top;\n",
       "    }\n",
       "\n",
       "    .dataframe thead th {\n",
       "        text-align: right;\n",
       "    }\n",
       "</style>\n",
       "<table border=\"1\" class=\"dataframe\">\n",
       "  <thead>\n",
       "    <tr style=\"text-align: right;\">\n",
       "      <th></th>\n",
       "      <th>Time_ms</th>\n",
       "      <th>Power_W</th>\n",
       "    </tr>\n",
       "  </thead>\n",
       "  <tbody>\n",
       "    <tr>\n",
       "      <th>12060</th>\n",
       "      <td>282269.634</td>\n",
       "      <td>10.78500</td>\n",
       "    </tr>\n",
       "    <tr>\n",
       "      <th>12061</th>\n",
       "      <td>282283.634</td>\n",
       "      <td>10.74900</td>\n",
       "    </tr>\n",
       "    <tr>\n",
       "      <th>12062</th>\n",
       "      <td>282297.634</td>\n",
       "      <td>10.70900</td>\n",
       "    </tr>\n",
       "    <tr>\n",
       "      <th>12063</th>\n",
       "      <td>282308.634</td>\n",
       "      <td>10.68400</td>\n",
       "    </tr>\n",
       "    <tr>\n",
       "      <th>12064</th>\n",
       "      <td>282356.634</td>\n",
       "      <td>10.63700</td>\n",
       "    </tr>\n",
       "    <tr>\n",
       "      <th>12065</th>\n",
       "      <td>282369.634</td>\n",
       "      <td>10.55200</td>\n",
       "    </tr>\n",
       "    <tr>\n",
       "      <th>12066</th>\n",
       "      <td>282411.634</td>\n",
       "      <td>10.53100</td>\n",
       "    </tr>\n",
       "    <tr>\n",
       "      <th>12067</th>\n",
       "      <td>282423.634</td>\n",
       "      <td>10.43600</td>\n",
       "    </tr>\n",
       "    <tr>\n",
       "      <th>12068</th>\n",
       "      <td>282460.634</td>\n",
       "      <td>10.40200</td>\n",
       "    </tr>\n",
       "    <tr>\n",
       "      <th>12069</th>\n",
       "      <td>282473.634</td>\n",
       "      <td>10.33000</td>\n",
       "    </tr>\n",
       "    <tr>\n",
       "      <th>12070</th>\n",
       "      <td>0.000</td>\n",
       "      <td>0.51824</td>\n",
       "    </tr>\n",
       "    <tr>\n",
       "      <th>12071</th>\n",
       "      <td>37.000</td>\n",
       "      <td>0.51652</td>\n",
       "    </tr>\n",
       "    <tr>\n",
       "      <th>12072</th>\n",
       "      <td>53.000</td>\n",
       "      <td>0.51464</td>\n",
       "    </tr>\n",
       "    <tr>\n",
       "      <th>12073</th>\n",
       "      <td>91.000</td>\n",
       "      <td>0.51355</td>\n",
       "    </tr>\n",
       "    <tr>\n",
       "      <th>12074</th>\n",
       "      <td>106.000</td>\n",
       "      <td>0.51230</td>\n",
       "    </tr>\n",
       "    <tr>\n",
       "      <th>12075</th>\n",
       "      <td>144.000</td>\n",
       "      <td>0.50948</td>\n",
       "    </tr>\n",
       "    <tr>\n",
       "      <th>12076</th>\n",
       "      <td>156.000</td>\n",
       "      <td>0.50901</td>\n",
       "    </tr>\n",
       "    <tr>\n",
       "      <th>12077</th>\n",
       "      <td>171.000</td>\n",
       "      <td>0.50839</td>\n",
       "    </tr>\n",
       "    <tr>\n",
       "      <th>12078</th>\n",
       "      <td>183.000</td>\n",
       "      <td>0.50823</td>\n",
       "    </tr>\n",
       "    <tr>\n",
       "      <th>12079</th>\n",
       "      <td>195.000</td>\n",
       "      <td>0.50682</td>\n",
       "    </tr>\n",
       "  </tbody>\n",
       "</table>\n",
       "</div>"
      ],
      "text/plain": [
       "          Time_ms   Power_W\n",
       "12060  282269.634  10.78500\n",
       "12061  282283.634  10.74900\n",
       "12062  282297.634  10.70900\n",
       "12063  282308.634  10.68400\n",
       "12064  282356.634  10.63700\n",
       "12065  282369.634  10.55200\n",
       "12066  282411.634  10.53100\n",
       "12067  282423.634  10.43600\n",
       "12068  282460.634  10.40200\n",
       "12069  282473.634  10.33000\n",
       "12070       0.000   0.51824\n",
       "12071      37.000   0.51652\n",
       "12072      53.000   0.51464\n",
       "12073      91.000   0.51355\n",
       "12074     106.000   0.51230\n",
       "12075     144.000   0.50948\n",
       "12076     156.000   0.50901\n",
       "12077     171.000   0.50839\n",
       "12078     183.000   0.50823\n",
       "12079     195.000   0.50682"
      ]
     },
     "execution_count": 225,
     "metadata": {},
     "output_type": "execute_result"
    }
   ],
   "source": [
    "pd.merge(WithFeedback, NoFeedback, how='outer').iloc[12060:12080]"
   ]
  },
  {
   "cell_type": "code",
   "execution_count": 215,
   "id": "ffbc8c86",
   "metadata": {
    "scrolled": true
   },
   "outputs": [
    {
     "data": {
      "text/html": [
       "<div>\n",
       "<style scoped>\n",
       "    .dataframe tbody tr th:only-of-type {\n",
       "        vertical-align: middle;\n",
       "    }\n",
       "\n",
       "    .dataframe tbody tr th {\n",
       "        vertical-align: top;\n",
       "    }\n",
       "\n",
       "    .dataframe thead th {\n",
       "        text-align: right;\n",
       "    }\n",
       "</style>\n",
       "<table border=\"1\" class=\"dataframe\">\n",
       "  <thead>\n",
       "    <tr style=\"text-align: right;\">\n",
       "      <th></th>\n",
       "      <th>Time_ms</th>\n",
       "      <th>Power_W</th>\n",
       "    </tr>\n",
       "    <tr>\n",
       "      <th>Time_s</th>\n",
       "      <th></th>\n",
       "      <th></th>\n",
       "    </tr>\n",
       "  </thead>\n",
       "  <tbody>\n",
       "    <tr>\n",
       "      <th>0.000000</th>\n",
       "      <td>0.000</td>\n",
       "      <td>1.9026</td>\n",
       "    </tr>\n",
       "    <tr>\n",
       "      <th>0.012000</th>\n",
       "      <td>12.000</td>\n",
       "      <td>1.9004</td>\n",
       "    </tr>\n",
       "    <tr>\n",
       "      <th>0.024000</th>\n",
       "      <td>24.000</td>\n",
       "      <td>1.8998</td>\n",
       "    </tr>\n",
       "    <tr>\n",
       "      <th>0.061000</th>\n",
       "      <td>61.000</td>\n",
       "      <td>1.9014</td>\n",
       "    </tr>\n",
       "    <tr>\n",
       "      <th>0.073000</th>\n",
       "      <td>73.000</td>\n",
       "      <td>1.9015</td>\n",
       "    </tr>\n",
       "    <tr>\n",
       "      <th>...</th>\n",
       "      <td>...</td>\n",
       "      <td>...</td>\n",
       "    </tr>\n",
       "    <tr>\n",
       "      <th>282.369634</th>\n",
       "      <td>282369.634</td>\n",
       "      <td>10.5520</td>\n",
       "    </tr>\n",
       "    <tr>\n",
       "      <th>282.411634</th>\n",
       "      <td>282411.634</td>\n",
       "      <td>10.5310</td>\n",
       "    </tr>\n",
       "    <tr>\n",
       "      <th>282.423634</th>\n",
       "      <td>282423.634</td>\n",
       "      <td>10.4360</td>\n",
       "    </tr>\n",
       "    <tr>\n",
       "      <th>282.460634</th>\n",
       "      <td>282460.634</td>\n",
       "      <td>10.4020</td>\n",
       "    </tr>\n",
       "    <tr>\n",
       "      <th>282.473634</th>\n",
       "      <td>282473.634</td>\n",
       "      <td>10.3300</td>\n",
       "    </tr>\n",
       "  </tbody>\n",
       "</table>\n",
       "<p>12070 rows × 2 columns</p>\n",
       "</div>"
      ],
      "text/plain": [
       "               Time_ms  Power_W\n",
       "Time_s                         \n",
       "0.000000         0.000   1.9026\n",
       "0.012000        12.000   1.9004\n",
       "0.024000        24.000   1.8998\n",
       "0.061000        61.000   1.9014\n",
       "0.073000        73.000   1.9015\n",
       "...                ...      ...\n",
       "282.369634  282369.634  10.5520\n",
       "282.411634  282411.634  10.5310\n",
       "282.423634  282423.634  10.4360\n",
       "282.460634  282460.634  10.4020\n",
       "282.473634  282473.634  10.3300\n",
       "\n",
       "[12070 rows x 2 columns]"
      ]
     },
     "execution_count": 215,
     "metadata": {},
     "output_type": "execute_result"
    }
   ],
   "source": [
    "WithFeedback"
   ]
  },
  {
   "cell_type": "code",
   "execution_count": 195,
   "id": "272c6cd0",
   "metadata": {},
   "outputs": [
    {
     "data": {
      "text/plain": [
       "Time_ms    37.00000\n",
       "Power_W     0.51652\n",
       "Name: 0.037, dtype: float64"
      ]
     },
     "execution_count": 195,
     "metadata": {},
     "output_type": "execute_result"
    }
   ],
   "source": [
    "NoFeedback.loc[0.037]"
   ]
  },
  {
   "cell_type": "code",
   "execution_count": 201,
   "id": "371c6ab8",
   "metadata": {},
   "outputs": [
    {
     "data": {
      "text/plain": [
       "array([[<AxesSubplot:xlabel='Time_s'>, <AxesSubplot:xlabel='Time_s'>]],\n",
       "      dtype=object)"
      ]
     },
     "execution_count": 201,
     "metadata": {},
     "output_type": "execute_result"
    },
    {
     "data": {
      "image/png": "[encoded data removed]",
      "text/plain": [
       "<Figure size 432x288 with 2 Axes>"
      ]
     },
     "metadata": {
      "needs_background": "light"
     },
     "output_type": "display_data"
    }
   ],
   "source": [
    "NoFeedback.plot(subplots=1, layout=[1,2])"
   ]
  },
  {
   "cell_type": "code",
   "execution_count": null,
   "id": "775da334",
   "metadata": {},
   "outputs": [],
   "source": []
  },
  {
   "cell_type": "code",
   "execution_count": null,
   "id": "79c21c76",
   "metadata": {},
   "outputs": [],
   "source": [
    "Power = pd.DataFrame([WithFeedback.Time_ms, NoFeedback.Time_ms], ind"
   ]
  },
  {
   "cell_type": "code",
   "execution_count": 175,
   "id": "936c74e1",
   "metadata": {},
   "outputs": [
    {
     "data": {
      "text/html": [
       "<div>\n",
       "<style scoped>\n",
       "    .dataframe tbody tr th:only-of-type {\n",
       "        vertical-align: middle;\n",
       "    }\n",
       "\n",
       "    .dataframe tbody tr th {\n",
       "        vertical-align: top;\n",
       "    }\n",
       "\n",
       "    .dataframe thead th {\n",
       "        text-align: right;\n",
       "    }\n",
       "</style>\n",
       "<table border=\"1\" class=\"dataframe\">\n",
       "  <thead>\n",
       "    <tr style=\"text-align: right;\">\n",
       "      <th></th>\n",
       "      <th>Time_ms</th>\n",
       "      <th>Power_W</th>\n",
       "    </tr>\n",
       "  </thead>\n",
       "  <tbody>\n",
       "    <tr>\n",
       "      <th>0</th>\n",
       "      <td>0.000</td>\n",
       "      <td>1.9026</td>\n",
       "    </tr>\n",
       "    <tr>\n",
       "      <th>1</th>\n",
       "      <td>12.000</td>\n",
       "      <td>1.9004</td>\n",
       "    </tr>\n",
       "    <tr>\n",
       "      <th>2</th>\n",
       "      <td>24.000</td>\n",
       "      <td>1.8998</td>\n",
       "    </tr>\n",
       "    <tr>\n",
       "      <th>3</th>\n",
       "      <td>61.000</td>\n",
       "      <td>1.9014</td>\n",
       "    </tr>\n",
       "    <tr>\n",
       "      <th>4</th>\n",
       "      <td>73.000</td>\n",
       "      <td>1.9015</td>\n",
       "    </tr>\n",
       "    <tr>\n",
       "      <th>...</th>\n",
       "      <td>...</td>\n",
       "      <td>...</td>\n",
       "    </tr>\n",
       "    <tr>\n",
       "      <th>12065</th>\n",
       "      <td>282369.634</td>\n",
       "      <td>10.5520</td>\n",
       "    </tr>\n",
       "    <tr>\n",
       "      <th>12066</th>\n",
       "      <td>282411.634</td>\n",
       "      <td>10.5310</td>\n",
       "    </tr>\n",
       "    <tr>\n",
       "      <th>12067</th>\n",
       "      <td>282423.634</td>\n",
       "      <td>10.4360</td>\n",
       "    </tr>\n",
       "    <tr>\n",
       "      <th>12068</th>\n",
       "      <td>282460.634</td>\n",
       "      <td>10.4020</td>\n",
       "    </tr>\n",
       "    <tr>\n",
       "      <th>12069</th>\n",
       "      <td>282473.634</td>\n",
       "      <td>10.3300</td>\n",
       "    </tr>\n",
       "  </tbody>\n",
       "</table>\n",
       "<p>12070 rows × 2 columns</p>\n",
       "</div>"
      ],
      "text/plain": [
       "          Time_ms  Power_W\n",
       "0           0.000   1.9026\n",
       "1          12.000   1.9004\n",
       "2          24.000   1.8998\n",
       "3          61.000   1.9014\n",
       "4          73.000   1.9015\n",
       "...           ...      ...\n",
       "12065  282369.634  10.5520\n",
       "12066  282411.634  10.5310\n",
       "12067  282423.634  10.4360\n",
       "12068  282460.634  10.4020\n",
       "12069  282473.634  10.3300\n",
       "\n",
       "[12070 rows x 2 columns]"
      ]
     },
     "execution_count": 175,
     "metadata": {},
     "output_type": "execute_result"
    }
   ],
   "source": [
    "WithFeedback"
   ]
  },
  {
   "cell_type": "code",
   "execution_count": null,
   "id": "8e248f67",
   "metadata": {},
   "outputs": [],
   "source": [
    "WithFeedback.set_index()"
   ]
  },
  {
   "cell_type": "code",
   "execution_count": 96,
   "id": "25462938",
   "metadata": {},
   "outputs": [
    {
     "data": {
      "text/html": [
       "<div>\n",
       "<style scoped>\n",
       "    .dataframe tbody tr th:only-of-type {\n",
       "        vertical-align: middle;\n",
       "    }\n",
       "\n",
       "    .dataframe tbody tr th {\n",
       "        vertical-align: top;\n",
       "    }\n",
       "\n",
       "    .dataframe thead th {\n",
       "        text-align: right;\n",
       "    }\n",
       "</style>\n",
       "<table border=\"1\" class=\"dataframe\">\n",
       "  <thead>\n",
       "    <tr style=\"text-align: right;\">\n",
       "      <th></th>\n",
       "      <th>Time_ms</th>\n",
       "      <th>Power_W</th>\n",
       "      <th>Time_s</th>\n",
       "    </tr>\n",
       "  </thead>\n",
       "  <tbody>\n",
       "    <tr>\n",
       "      <th>0</th>\n",
       "      <td>0.000</td>\n",
       "      <td>1.9026</td>\n",
       "      <td>0.000000</td>\n",
       "    </tr>\n",
       "    <tr>\n",
       "      <th>1</th>\n",
       "      <td>12.000</td>\n",
       "      <td>1.9004</td>\n",
       "      <td>0.012000</td>\n",
       "    </tr>\n",
       "    <tr>\n",
       "      <th>2</th>\n",
       "      <td>24.000</td>\n",
       "      <td>1.8998</td>\n",
       "      <td>0.024000</td>\n",
       "    </tr>\n",
       "    <tr>\n",
       "      <th>3</th>\n",
       "      <td>61.000</td>\n",
       "      <td>1.9014</td>\n",
       "      <td>0.061000</td>\n",
       "    </tr>\n",
       "    <tr>\n",
       "      <th>4</th>\n",
       "      <td>73.000</td>\n",
       "      <td>1.9015</td>\n",
       "      <td>0.073000</td>\n",
       "    </tr>\n",
       "    <tr>\n",
       "      <th>...</th>\n",
       "      <td>...</td>\n",
       "      <td>...</td>\n",
       "      <td>...</td>\n",
       "    </tr>\n",
       "    <tr>\n",
       "      <th>12065</th>\n",
       "      <td>282369.634</td>\n",
       "      <td>10.5520</td>\n",
       "      <td>282.369634</td>\n",
       "    </tr>\n",
       "    <tr>\n",
       "      <th>12066</th>\n",
       "      <td>282411.634</td>\n",
       "      <td>10.5310</td>\n",
       "      <td>282.411634</td>\n",
       "    </tr>\n",
       "    <tr>\n",
       "      <th>12067</th>\n",
       "      <td>282423.634</td>\n",
       "      <td>10.4360</td>\n",
       "      <td>282.423634</td>\n",
       "    </tr>\n",
       "    <tr>\n",
       "      <th>12068</th>\n",
       "      <td>282460.634</td>\n",
       "      <td>10.4020</td>\n",
       "      <td>282.460634</td>\n",
       "    </tr>\n",
       "    <tr>\n",
       "      <th>12069</th>\n",
       "      <td>282473.634</td>\n",
       "      <td>10.3300</td>\n",
       "      <td>282.473634</td>\n",
       "    </tr>\n",
       "  </tbody>\n",
       "</table>\n",
       "<p>12070 rows × 3 columns</p>\n",
       "</div>"
      ],
      "text/plain": [
       "          Time_ms  Power_W      Time_s\n",
       "0           0.000   1.9026    0.000000\n",
       "1          12.000   1.9004    0.012000\n",
       "2          24.000   1.8998    0.024000\n",
       "3          61.000   1.9014    0.061000\n",
       "4          73.000   1.9015    0.073000\n",
       "...           ...      ...         ...\n",
       "12065  282369.634  10.5520  282.369634\n",
       "12066  282411.634  10.5310  282.411634\n",
       "12067  282423.634  10.4360  282.423634\n",
       "12068  282460.634  10.4020  282.460634\n",
       "12069  282473.634  10.3300  282.473634\n",
       "\n",
       "[12070 rows x 3 columns]"
      ]
     },
     "execution_count": 96,
     "metadata": {},
     "output_type": "execute_result"
    }
   ],
   "source": [
    "WithFeedback"
   ]
  },
  {
   "cell_type": "code",
   "execution_count": 227,
   "id": "65846a91",
   "metadata": {},
   "outputs": [],
   "source": [
    "WithFeedback65 = WithFeedback[ WithFeedback['Power_W']>65 ]\n",
    "NoFeedback65 = NoFeedback[ NoFeedback['Power_W']>65 ]"
   ]
  },
  {
   "cell_type": "code",
   "execution_count": 228,
   "id": "1d22eb6a",
   "metadata": {},
   "outputs": [],
   "source": [
    "WithFeedback69 = WithFeedback[ WithFeedback['Power_W']>69 ]\n",
    "NoFeedback69 = NoFeedback[ NoFeedback['Power_W']>69 ]"
   ]
  },
  {
   "cell_type": "code",
   "execution_count": 235,
   "id": "0491d6b7",
   "metadata": {},
   "outputs": [
    {
     "data": {
      "text/plain": [
       "<AxesSubplot:xlabel='Time_s'>"
      ]
     },
     "execution_count": 235,
     "metadata": {},
     "output_type": "execute_result"
    },
    {
     "data": {
      "image/png": "[encoded data removed]",
      "text/plain": [
       "<Figure size 720x576 with 6 Axes>"
      ]
     },
     "metadata": {
      "needs_background": "light"
     },
     "output_type": "display_data"
    }
   ],
   "source": [
    "fig, axs = plt.subplots(3,2, figsize=(10,8))\n",
    "\n",
    "WithFeedback69.Power_W.plot(ax=axs[0,0])\n",
    "WithFeedback65.Power_W.plot(ax=axs[1,0])\n",
    "WithFeedback.Power_W.plot(ax=axs[2,0])\n",
    "\n",
    "NoFeedback69.Power_W.plot(ax=axs[0,1])\n",
    "NoFeedback65.Power_W.plot(ax=axs[1,1])\n",
    "NoFeedback.Power_W.plot(ax=axs[2,1])"
   ]
  },
  {
   "cell_type": "code",
   "execution_count": null,
   "id": "b021fff9",
   "metadata": {},
   "outputs": [],
   "source": []
  },
  {
   "cell_type": "code",
   "execution_count": 142,
   "id": "1734830a",
   "metadata": {},
   "outputs": [
    {
     "data": {
      "text/html": [
       "<div>\n",
       "<style scoped>\n",
       "    .dataframe tbody tr th:only-of-type {\n",
       "        vertical-align: middle;\n",
       "    }\n",
       "\n",
       "    .dataframe tbody tr th {\n",
       "        vertical-align: top;\n",
       "    }\n",
       "\n",
       "    .dataframe thead th {\n",
       "        text-align: right;\n",
       "    }\n",
       "</style>\n",
       "<table border=\"1\" class=\"dataframe\">\n",
       "  <thead>\n",
       "    <tr style=\"text-align: right;\">\n",
       "      <th></th>\n",
       "      <th>Time_ms</th>\n",
       "      <th>Power_W</th>\n",
       "      <th>Time_s</th>\n",
       "    </tr>\n",
       "  </thead>\n",
       "  <tbody>\n",
       "    <tr>\n",
       "      <th>count</th>\n",
       "      <td>6423.000000</td>\n",
       "      <td>6423.000000</td>\n",
       "      <td>6423.000000</td>\n",
       "    </tr>\n",
       "    <tr>\n",
       "      <th>mean</th>\n",
       "      <td>174950.972992</td>\n",
       "      <td>69.768973</td>\n",
       "      <td>174.950973</td>\n",
       "    </tr>\n",
       "    <tr>\n",
       "      <th>std</th>\n",
       "      <td>43294.806216</td>\n",
       "      <td>0.172370</td>\n",
       "      <td>43.294806</td>\n",
       "    </tr>\n",
       "    <tr>\n",
       "      <th>min</th>\n",
       "      <td>100019.623000</td>\n",
       "      <td>69.276000</td>\n",
       "      <td>100.019623</td>\n",
       "    </tr>\n",
       "    <tr>\n",
       "      <th>25%</th>\n",
       "      <td>137523.123000</td>\n",
       "      <td>69.651000</td>\n",
       "      <td>137.523123</td>\n",
       "    </tr>\n",
       "    <tr>\n",
       "      <th>50%</th>\n",
       "      <td>174858.623000</td>\n",
       "      <td>69.760000</td>\n",
       "      <td>174.858623</td>\n",
       "    </tr>\n",
       "    <tr>\n",
       "      <th>75%</th>\n",
       "      <td>212449.123000</td>\n",
       "      <td>69.885000</td>\n",
       "      <td>212.449123</td>\n",
       "    </tr>\n",
       "    <tr>\n",
       "      <th>max</th>\n",
       "      <td>249972.623000</td>\n",
       "      <td>70.448000</td>\n",
       "      <td>249.972623</td>\n",
       "    </tr>\n",
       "  </tbody>\n",
       "</table>\n",
       "</div>"
      ],
      "text/plain": [
       "             Time_ms      Power_W       Time_s\n",
       "count    6423.000000  6423.000000  6423.000000\n",
       "mean   174950.972992    69.768973   174.950973\n",
       "std     43294.806216     0.172370    43.294806\n",
       "min    100019.623000    69.276000   100.019623\n",
       "25%    137523.123000    69.651000   137.523123\n",
       "50%    174858.623000    69.760000   174.858623\n",
       "75%    212449.123000    69.885000   212.449123\n",
       "max    249972.623000    70.448000   249.972623"
      ]
     },
     "execution_count": 142,
     "metadata": {},
     "output_type": "execute_result"
    }
   ],
   "source": [
    "WithFeedbackPlateau.describe()\n"
   ]
  },
  {
   "cell_type": "code",
   "execution_count": 143,
   "id": "f82ff7ae",
   "metadata": {},
   "outputs": [
    {
     "data": {
      "text/html": [
       "<div>\n",
       "<style scoped>\n",
       "    .dataframe tbody tr th:only-of-type {\n",
       "        vertical-align: middle;\n",
       "    }\n",
       "\n",
       "    .dataframe tbody tr th {\n",
       "        vertical-align: top;\n",
       "    }\n",
       "\n",
       "    .dataframe thead th {\n",
       "        text-align: right;\n",
       "    }\n",
       "</style>\n",
       "<table border=\"1\" class=\"dataframe\">\n",
       "  <thead>\n",
       "    <tr style=\"text-align: right;\">\n",
       "      <th></th>\n",
       "      <th>Time_ms</th>\n",
       "      <th>Power_W</th>\n",
       "      <th>Time_s</th>\n",
       "    </tr>\n",
       "  </thead>\n",
       "  <tbody>\n",
       "    <tr>\n",
       "      <th>count</th>\n",
       "      <td>6441.000000</td>\n",
       "      <td>6441.000000</td>\n",
       "      <td>6441.000000</td>\n",
       "    </tr>\n",
       "    <tr>\n",
       "      <th>mean</th>\n",
       "      <td>138919.117691</td>\n",
       "      <td>70.602542</td>\n",
       "      <td>138.919118</td>\n",
       "    </tr>\n",
       "    <tr>\n",
       "      <th>std</th>\n",
       "      <td>43294.067176</td>\n",
       "      <td>0.080303</td>\n",
       "      <td>43.294067</td>\n",
       "    </tr>\n",
       "    <tr>\n",
       "      <th>min</th>\n",
       "      <td>64013.567000</td>\n",
       "      <td>70.245000</td>\n",
       "      <td>64.013567</td>\n",
       "    </tr>\n",
       "    <tr>\n",
       "      <th>25%</th>\n",
       "      <td>101343.567000</td>\n",
       "      <td>70.557000</td>\n",
       "      <td>101.343567</td>\n",
       "    </tr>\n",
       "    <tr>\n",
       "      <th>50%</th>\n",
       "      <td>138905.567000</td>\n",
       "      <td>70.604000</td>\n",
       "      <td>138.905567</td>\n",
       "    </tr>\n",
       "    <tr>\n",
       "      <th>75%</th>\n",
       "      <td>176349.567000</td>\n",
       "      <td>70.651000</td>\n",
       "      <td>176.349567</td>\n",
       "    </tr>\n",
       "    <tr>\n",
       "      <th>max</th>\n",
       "      <td>213997.567000</td>\n",
       "      <td>70.948000</td>\n",
       "      <td>213.997567</td>\n",
       "    </tr>\n",
       "  </tbody>\n",
       "</table>\n",
       "</div>"
      ],
      "text/plain": [
       "             Time_ms      Power_W       Time_s\n",
       "count    6441.000000  6441.000000  6441.000000\n",
       "mean   138919.117691    70.602542   138.919118\n",
       "std     43294.067176     0.080303    43.294067\n",
       "min     64013.567000    70.245000    64.013567\n",
       "25%    101343.567000    70.557000   101.343567\n",
       "50%    138905.567000    70.604000   138.905567\n",
       "75%    176349.567000    70.651000   176.349567\n",
       "max    213997.567000    70.948000   213.997567"
      ]
     },
     "execution_count": 143,
     "metadata": {},
     "output_type": "execute_result"
    }
   ],
   "source": [
    "NoFeedbackPlateau.describe()"
   ]
  },
  {
   "cell_type": "code",
   "execution_count": 153,
   "id": "df1012f2",
   "metadata": {
    "scrolled": true
   },
   "outputs": [
    {
     "data": {
      "text/plain": [
       "<AxesSubplot:>"
      ]
     },
     "execution_count": 153,
     "metadata": {},
     "output_type": "execute_result"
    },
    {
     "data": {
      "image/png": "[encoded data removed]",
      "text/plain": [
       "<Figure size 432x288 with 1 Axes>"
      ]
     },
     "metadata": {
      "needs_background": "light"
     },
     "output_type": "display_data"
    }
   ],
   "source": [
    "aa.plot()"
   ]
  },
  {
   "cell_type": "code",
   "execution_count": 72,
   "id": "659e722d",
   "metadata": {},
   "outputs": [],
   "source": [
    "WithFeedback = pd.read_csv(r'C:\\Users\\Sommer Lab\\Documents\\Data\\2023\\08-2023\\31 Aug 2023\\With Feedback.CSV', header=1)\n",
    "WithoutFeedback = pd.read_csv(r'C:\\Users\\Sommer Lab\\Documents\\Data\\2023\\08-2023\\31 Aug 2023\\Without Feedback.CSV', header=1)"
   ]
  },
  {
   "cell_type": "code",
   "execution_count": 73,
   "id": "b1aa5a4a",
   "metadata": {},
   "outputs": [
    {
     "data": {
      "text/html": [
       "<div>\n",
       "<style scoped>\n",
       "    .dataframe tbody tr th:only-of-type {\n",
       "        vertical-align: middle;\n",
       "    }\n",
       "\n",
       "    .dataframe tbody tr th {\n",
       "        vertical-align: top;\n",
       "    }\n",
       "\n",
       "    .dataframe thead th {\n",
       "        text-align: right;\n",
       "    }\n",
       "</style>\n",
       "<table border=\"1\" class=\"dataframe\">\n",
       "  <thead>\n",
       "    <tr style=\"text-align: right;\">\n",
       "      <th></th>\n",
       "      <th>Second</th>\n",
       "      <th>Volt</th>\n",
       "      <th>Volt.1</th>\n",
       "    </tr>\n",
       "  </thead>\n",
       "  <tbody>\n",
       "    <tr>\n",
       "      <th>0</th>\n",
       "      <td>-2.0000</td>\n",
       "      <td>0.00048</td>\n",
       "      <td>0.08</td>\n",
       "    </tr>\n",
       "    <tr>\n",
       "      <th>1</th>\n",
       "      <td>-1.9999</td>\n",
       "      <td>0.00000</td>\n",
       "      <td>10.16</td>\n",
       "    </tr>\n",
       "    <tr>\n",
       "      <th>2</th>\n",
       "      <td>-1.9998</td>\n",
       "      <td>0.00128</td>\n",
       "      <td>0.08</td>\n",
       "    </tr>\n",
       "    <tr>\n",
       "      <th>3</th>\n",
       "      <td>-1.9997</td>\n",
       "      <td>0.00168</td>\n",
       "      <td>0.08</td>\n",
       "    </tr>\n",
       "    <tr>\n",
       "      <th>4</th>\n",
       "      <td>-1.9996</td>\n",
       "      <td>0.00040</td>\n",
       "      <td>0.08</td>\n",
       "    </tr>\n",
       "    <tr>\n",
       "      <th>...</th>\n",
       "      <td>...</td>\n",
       "      <td>...</td>\n",
       "      <td>...</td>\n",
       "    </tr>\n",
       "    <tr>\n",
       "      <th>36545</th>\n",
       "      <td>1.6545</td>\n",
       "      <td>0.00008</td>\n",
       "      <td>0.08</td>\n",
       "    </tr>\n",
       "    <tr>\n",
       "      <th>36546</th>\n",
       "      <td>1.6546</td>\n",
       "      <td>0.00136</td>\n",
       "      <td>0.08</td>\n",
       "    </tr>\n",
       "    <tr>\n",
       "      <th>36547</th>\n",
       "      <td>1.6547</td>\n",
       "      <td>0.00072</td>\n",
       "      <td>0.08</td>\n",
       "    </tr>\n",
       "    <tr>\n",
       "      <th>36548</th>\n",
       "      <td>1.6548</td>\n",
       "      <td>0.00048</td>\n",
       "      <td>0.08</td>\n",
       "    </tr>\n",
       "    <tr>\n",
       "      <th>36549</th>\n",
       "      <td>1.6549</td>\n",
       "      <td>0.00088</td>\n",
       "      <td>0.08</td>\n",
       "    </tr>\n",
       "  </tbody>\n",
       "</table>\n",
       "<p>36550 rows × 3 columns</p>\n",
       "</div>"
      ],
      "text/plain": [
       "       Second     Volt  Volt.1\n",
       "0     -2.0000  0.00048    0.08\n",
       "1     -1.9999  0.00000   10.16\n",
       "2     -1.9998  0.00128    0.08\n",
       "3     -1.9997  0.00168    0.08\n",
       "4     -1.9996  0.00040    0.08\n",
       "...       ...      ...     ...\n",
       "36545  1.6545  0.00008    0.08\n",
       "36546  1.6546  0.00136    0.08\n",
       "36547  1.6547  0.00072    0.08\n",
       "36548  1.6548  0.00048    0.08\n",
       "36549  1.6549  0.00088    0.08\n",
       "\n",
       "[36550 rows x 3 columns]"
      ]
     },
     "execution_count": 73,
     "metadata": {},
     "output_type": "execute_result"
    }
   ],
   "source": [
    "WithFeedback"
   ]
  },
  {
   "cell_type": "code",
   "execution_count": 75,
   "id": "6a64d05a",
   "metadata": {},
   "outputs": [
    {
     "data": {
      "text/plain": [
       "<AxesSubplot:>"
      ]
     },
     "execution_count": 75,
     "metadata": {},
     "output_type": "execute_result"
    },
    {
     "data": {
      "image/png": "[encoded data removed]",
      "text/plain": [
       "<Figure size 432x288 with 1 Axes>"
      ]
     },
     "metadata": {
      "needs_background": "light"
     },
     "output_type": "display_data"
    }
   ],
   "source": [
    "WithFeedback.Volt.plot()"
   ]
  },
  {
   "cell_type": "code",
   "execution_count": 76,
   "id": "46a65339",
   "metadata": {},
   "outputs": [
    {
     "data": {
      "text/plain": [
       "<AxesSubplot:>"
      ]
     },
     "execution_count": 76,
     "metadata": {},
     "output_type": "execute_result"
    },
    {
     "data": {
      "image/png": "[encoded data removed]",
      "text/plain": [
       "<Figure size 432x288 with 1 Axes>"
      ]
     },
     "metadata": {
      "needs_background": "light"
     },
     "output_type": "display_data"
    }
   ],
   "source": [
    "WithoutFeedback.Volt.plot()"
   ]
  },
  {
   "cell_type": "code",
   "execution_count": 77,
   "id": "709d5b18",
   "metadata": {},
   "outputs": [
    {
     "data": {
      "text/html": [
       "<div>\n",
       "<style scoped>\n",
       "    .dataframe tbody tr th:only-of-type {\n",
       "        vertical-align: middle;\n",
       "    }\n",
       "\n",
       "    .dataframe tbody tr th {\n",
       "        vertical-align: top;\n",
       "    }\n",
       "\n",
       "    .dataframe thead th {\n",
       "        text-align: right;\n",
       "    }\n",
       "</style>\n",
       "<table border=\"1\" class=\"dataframe\">\n",
       "  <thead>\n",
       "    <tr style=\"text-align: right;\">\n",
       "      <th></th>\n",
       "      <th>Second</th>\n",
       "      <th>Volt</th>\n",
       "      <th>Volt.1</th>\n",
       "    </tr>\n",
       "  </thead>\n",
       "  <tbody>\n",
       "    <tr>\n",
       "      <th>count</th>\n",
       "      <td>36550.000000</td>\n",
       "      <td>36550.000000</td>\n",
       "      <td>36550.000000</td>\n",
       "    </tr>\n",
       "    <tr>\n",
       "      <th>mean</th>\n",
       "      <td>-0.172550</td>\n",
       "      <td>0.001202</td>\n",
       "      <td>0.080696</td>\n",
       "    </tr>\n",
       "    <tr>\n",
       "      <th>std</th>\n",
       "      <td>1.055122</td>\n",
       "      <td>0.000582</td>\n",
       "      <td>0.053760</td>\n",
       "    </tr>\n",
       "    <tr>\n",
       "      <th>min</th>\n",
       "      <td>-2.000000</td>\n",
       "      <td>-0.001680</td>\n",
       "      <td>0.000000</td>\n",
       "    </tr>\n",
       "    <tr>\n",
       "      <th>25%</th>\n",
       "      <td>-1.086275</td>\n",
       "      <td>0.000800</td>\n",
       "      <td>0.080000</td>\n",
       "    </tr>\n",
       "    <tr>\n",
       "      <th>50%</th>\n",
       "      <td>-0.172550</td>\n",
       "      <td>0.001120</td>\n",
       "      <td>0.080000</td>\n",
       "    </tr>\n",
       "    <tr>\n",
       "      <th>75%</th>\n",
       "      <td>0.741175</td>\n",
       "      <td>0.001600</td>\n",
       "      <td>0.080000</td>\n",
       "    </tr>\n",
       "    <tr>\n",
       "      <th>max</th>\n",
       "      <td>1.654900</td>\n",
       "      <td>0.005120</td>\n",
       "      <td>10.160000</td>\n",
       "    </tr>\n",
       "  </tbody>\n",
       "</table>\n",
       "</div>"
      ],
      "text/plain": [
       "             Second          Volt        Volt.1\n",
       "count  36550.000000  36550.000000  36550.000000\n",
       "mean      -0.172550      0.001202      0.080696\n",
       "std        1.055122      0.000582      0.053760\n",
       "min       -2.000000     -0.001680      0.000000\n",
       "25%       -1.086275      0.000800      0.080000\n",
       "50%       -0.172550      0.001120      0.080000\n",
       "75%        0.741175      0.001600      0.080000\n",
       "max        1.654900      0.005120     10.160000"
      ]
     },
     "execution_count": 77,
     "metadata": {},
     "output_type": "execute_result"
    }
   ],
   "source": [
    "WithFeedback.describe()"
   ]
  },
  {
   "cell_type": "code",
   "execution_count": 79,
   "id": "f44f7b93",
   "metadata": {},
   "outputs": [
    {
     "data": {
      "text/html": [
       "<div>\n",
       "<style scoped>\n",
       "    .dataframe tbody tr th:only-of-type {\n",
       "        vertical-align: middle;\n",
       "    }\n",
       "\n",
       "    .dataframe tbody tr th {\n",
       "        vertical-align: top;\n",
       "    }\n",
       "\n",
       "    .dataframe thead th {\n",
       "        text-align: right;\n",
       "    }\n",
       "</style>\n",
       "<table border=\"1\" class=\"dataframe\">\n",
       "  <thead>\n",
       "    <tr style=\"text-align: right;\">\n",
       "      <th></th>\n",
       "      <th>Second</th>\n",
       "      <th>Volt</th>\n",
       "      <th>Volt.1</th>\n",
       "    </tr>\n",
       "  </thead>\n",
       "  <tbody>\n",
       "    <tr>\n",
       "      <th>count</th>\n",
       "      <td>40000.000000</td>\n",
       "      <td>40000.000000</td>\n",
       "      <td>40000.000000</td>\n",
       "    </tr>\n",
       "    <tr>\n",
       "      <th>mean</th>\n",
       "      <td>-0.000050</td>\n",
       "      <td>0.003287</td>\n",
       "      <td>6.590848</td>\n",
       "    </tr>\n",
       "    <tr>\n",
       "      <th>std</th>\n",
       "      <td>1.154715</td>\n",
       "      <td>0.023858</td>\n",
       "      <td>0.039978</td>\n",
       "    </tr>\n",
       "    <tr>\n",
       "      <th>min</th>\n",
       "      <td>-2.000000</td>\n",
       "      <td>-0.040000</td>\n",
       "      <td>5.840000</td>\n",
       "    </tr>\n",
       "    <tr>\n",
       "      <th>25%</th>\n",
       "      <td>-1.000025</td>\n",
       "      <td>-0.020000</td>\n",
       "      <td>6.560000</td>\n",
       "    </tr>\n",
       "    <tr>\n",
       "      <th>50%</th>\n",
       "      <td>-0.000050</td>\n",
       "      <td>0.004000</td>\n",
       "      <td>6.560000</td>\n",
       "    </tr>\n",
       "    <tr>\n",
       "      <th>75%</th>\n",
       "      <td>0.999925</td>\n",
       "      <td>0.026000</td>\n",
       "      <td>6.640000</td>\n",
       "    </tr>\n",
       "    <tr>\n",
       "      <th>max</th>\n",
       "      <td>1.999900</td>\n",
       "      <td>0.048000</td>\n",
       "      <td>8.240000</td>\n",
       "    </tr>\n",
       "  </tbody>\n",
       "</table>\n",
       "</div>"
      ],
      "text/plain": [
       "             Second          Volt        Volt.1\n",
       "count  40000.000000  40000.000000  40000.000000\n",
       "mean      -0.000050      0.003287      6.590848\n",
       "std        1.154715      0.023858      0.039978\n",
       "min       -2.000000     -0.040000      5.840000\n",
       "25%       -1.000025     -0.020000      6.560000\n",
       "50%       -0.000050      0.004000      6.560000\n",
       "75%        0.999925      0.026000      6.640000\n",
       "max        1.999900      0.048000      8.240000"
      ]
     },
     "execution_count": 79,
     "metadata": {},
     "output_type": "execute_result"
    }
   ],
   "source": [
    "WithoutFeedback.describe()"
   ]
  },
  {
   "cell_type": "code",
   "execution_count": null,
   "id": "54e5ef00",
   "metadata": {},
   "outputs": [],
   "source": []
  }
 ],
 "metadata": {
  "kernelspec": {
   "display_name": "Python 3 (ipykernel)",
   "language": "python",
   "name": "python3"
  },
  "language_info": {
   "codemirror_mode": {
    "name": "ipython",
    "version": 3
   },
   "file_extension": ".py",
   "mimetype": "text/x-python",
   "name": "python",
   "nbconvert_exporter": "python",
   "pygments_lexer": "ipython3",
   "version": "3.7.3"
  }
 },
 "nbformat": 4,
 "nbformat_minor": 5
}
