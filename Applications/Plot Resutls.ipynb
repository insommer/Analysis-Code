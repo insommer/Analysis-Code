{
 "cells": [
  {
   "cell_type": "code",
   "execution_count": 1,
   "id": "8633af50",
   "metadata": {
    "scrolled": false
   },
   "outputs": [
    {
     "name": "stdout",
     "output_type": "stream",
     "text": [
      "C:\\Users\\Sommer Lab\\Documents\\Analysis Code\n"
     ]
    }
   ],
   "source": [
    "cd .."
   ]
  },
  {
   "cell_type": "code",
   "execution_count": 2,
   "id": "d6f4b276",
   "metadata": {
    "scrolled": true
   },
   "outputs": [],
   "source": [
    "import sys\n",
    "# sys.path.append(r'C:\\Users\\Sommer Lab\\Documents\\Analysis Code')\n",
    "import os\n",
    "\n",
    "# from ImageAnalysis import ImageAnalysisCode\n",
    "import numpy as np\n",
    "import matplotlib.pyplot as plt\n",
    "import pandas as pd\n",
    "import datetime\n",
    "from ImageAnalysis import ImageAnalysisCode"
   ]
  },
  {
   "cell_type": "code",
   "execution_count": 3,
   "id": "cfedf43b",
   "metadata": {
    "scrolled": false
   },
   "outputs": [],
   "source": [
    "totalDataPath =r\"Z:\\ats317group\\Data\"\n",
    "date = '10/10/2023'\n"
   ]
  },
  {
   "cell_type": "code",
   "execution_count": 4,
   "id": "ae07cd42",
   "metadata": {
    "scrolled": false
   },
   "outputs": [],
   "source": [
    "dataCSV_filename = 'cMOT 0.2 and 0.45 with different bias.csv'\n",
    "\n",
    "dayFolderPath = ImageAnalysisCode.GetDataLocation(date, DataPath=totalDataPath)\n",
    "dataCSV_filePath = os.path.join(dayFolderPath, dataCSV_filename)"
   ]
  },
  {
   "cell_type": "code",
   "execution_count": 5,
   "id": "c3440b14",
   "metadata": {
    "scrolled": true
   },
   "outputs": [
    {
     "data": {
      "image/png": "[encoded data removed]",
      "text/plain": [
       "<Figure size 576x360 with 1 Axes>"
      ]
     },
     "metadata": {
      "needs_background": "light"
     },
     "output_type": "display_data"
    }
   ],
   "source": [
    "ImageAnalysisCode.PlotFromDataCSV(dataCSV_filePath, 'VerticalBiasCurrent', 'Ycenter', iterateVariable='cMOT_coil')"
   ]
  },
  {
   "cell_type": "code",
   "execution_count": null,
   "id": "871b0db5",
   "metadata": {
    "scrolled": false
   },
   "outputs": [],
   "source": []
  },
  {
   "cell_type": "code",
   "execution_count": null,
   "id": "ba1f487f",
   "metadata": {
    "scrolled": false
   },
   "outputs": [],
   "source": []
  },
  {
   "cell_type": "code",
   "execution_count": 6,
   "id": "fd90ffab",
   "metadata": {
    "scrolled": false
   },
   "outputs": [],
   "source": [
    "dataCSV_filename = 'ODT Move.csv'\n",
    "\n",
    "dayFolderPath = ImageAnalysisCode.GetDataLocation(date, DataPath=totalDataPath)\n",
    "dataCSV_filePath = os.path.join(dayFolderPath, dataCSV_filename)"
   ]
  },
  {
   "cell_type": "code",
   "execution_count": 9,
   "id": "b53a7b87",
   "metadata": {
    "scrolled": true
   },
   "outputs": [
    {
     "data": {
      "image/png": "[encoded data removed]",
      "text/plain": [
       "<Figure size 576x360 with 1 Axes>"
      ]
     },
     "metadata": {
      "needs_background": "light"
     },
     "output_type": "display_data"
    },
    {
     "data": {
      "text/html": [
       "<div>\n",
       "<style scoped>\n",
       "    .dataframe tbody tr th:only-of-type {\n",
       "        vertical-align: middle;\n",
       "    }\n",
       "\n",
       "    .dataframe tbody tr th {\n",
       "        vertical-align: top;\n",
       "    }\n",
       "\n",
       "    .dataframe thead th {\n",
       "        text-align: right;\n",
       "    }\n",
       "</style>\n",
       "<table border=\"1\" class=\"dataframe\">\n",
       "  <thead>\n",
       "    <tr style=\"text-align: right;\">\n",
       "      <th></th>\n",
       "      <th>time</th>\n",
       "      <th>Folder</th>\n",
       "      <th>Ycenter</th>\n",
       "      <th>Ywidth</th>\n",
       "      <th>AtomNumber</th>\n",
       "      <th>Xcenter</th>\n",
       "      <th>Xwidth</th>\n",
       "      <th>AtomNumberX</th>\n",
       "      <th>IterationNum</th>\n",
       "      <th>IterationCount</th>\n",
       "      <th>...</th>\n",
       "      <th>VerticalBiasCurrent</th>\n",
       "      <th>ZSBiasVoltage</th>\n",
       "      <th>CamBiasVoltage</th>\n",
       "      <th>VerticalBiasVoltage</th>\n",
       "      <th>HighServo1</th>\n",
       "      <th>LowServo1</th>\n",
       "      <th>D1Time_ms</th>\n",
       "      <th>ODT_Position</th>\n",
       "      <th>Var_27</th>\n",
       "      <th>Var_28</th>\n",
       "    </tr>\n",
       "  </thead>\n",
       "  <tbody>\n",
       "    <tr>\n",
       "      <th>2</th>\n",
       "      <td>2023-10-10 13:25:27.750</td>\n",
       "      <td>NaN</td>\n",
       "      <td>NaN</td>\n",
       "      <td>NaN</td>\n",
       "      <td>NaN</td>\n",
       "      <td>NaN</td>\n",
       "      <td>NaN</td>\n",
       "      <td>NaN</td>\n",
       "      <td>0.0</td>\n",
       "      <td>1.0</td>\n",
       "      <td>...</td>\n",
       "      <td>0.0</td>\n",
       "      <td>1.44</td>\n",
       "      <td>0.322</td>\n",
       "      <td>0.377</td>\n",
       "      <td>2.2</td>\n",
       "      <td>0.0</td>\n",
       "      <td>1.5</td>\n",
       "      <td>9.0</td>\n",
       "      <td>NaN</td>\n",
       "      <td>NaN</td>\n",
       "    </tr>\n",
       "    <tr>\n",
       "      <th>5</th>\n",
       "      <td>2023-10-10 13:27:15.320</td>\n",
       "      <td>NaN</td>\n",
       "      <td>NaN</td>\n",
       "      <td>NaN</td>\n",
       "      <td>NaN</td>\n",
       "      <td>NaN</td>\n",
       "      <td>NaN</td>\n",
       "      <td>NaN</td>\n",
       "      <td>1.0</td>\n",
       "      <td>2.0</td>\n",
       "      <td>...</td>\n",
       "      <td>0.0</td>\n",
       "      <td>1.44</td>\n",
       "      <td>0.322</td>\n",
       "      <td>0.377</td>\n",
       "      <td>2.2</td>\n",
       "      <td>0.0</td>\n",
       "      <td>1.5</td>\n",
       "      <td>9.0</td>\n",
       "      <td>NaN</td>\n",
       "      <td>NaN</td>\n",
       "    </tr>\n",
       "    <tr>\n",
       "      <th>25</th>\n",
       "      <td>2023-10-10 15:56:06.110</td>\n",
       "      <td>Andor/Position 1</td>\n",
       "      <td>0.005572</td>\n",
       "      <td>0.001023</td>\n",
       "      <td>4.395981e+06</td>\n",
       "      <td>3.708893e+06</td>\n",
       "      <td>1.219154e+06</td>\n",
       "      <td>2.600261e+15</td>\n",
       "      <td>1.0</td>\n",
       "      <td>6.0</td>\n",
       "      <td>...</td>\n",
       "      <td>0.0</td>\n",
       "      <td>1.44</td>\n",
       "      <td>0.322</td>\n",
       "      <td>0.377</td>\n",
       "      <td>2.2</td>\n",
       "      <td>0.0</td>\n",
       "      <td>1.5</td>\n",
       "      <td>1.0</td>\n",
       "      <td>0.0</td>\n",
       "      <td>0.0</td>\n",
       "    </tr>\n",
       "    <tr>\n",
       "      <th>27</th>\n",
       "      <td>2023-10-10 15:56:18.950</td>\n",
       "      <td>Andor/Position 1</td>\n",
       "      <td>0.005704</td>\n",
       "      <td>0.000904</td>\n",
       "      <td>3.635127e+06</td>\n",
       "      <td>3.272270e+00</td>\n",
       "      <td>5.521562e-02</td>\n",
       "      <td>1.215044e+06</td>\n",
       "      <td>3.0</td>\n",
       "      <td>6.0</td>\n",
       "      <td>...</td>\n",
       "      <td>0.0</td>\n",
       "      <td>1.44</td>\n",
       "      <td>0.322</td>\n",
       "      <td>0.377</td>\n",
       "      <td>2.2</td>\n",
       "      <td>0.0</td>\n",
       "      <td>1.5</td>\n",
       "      <td>1.0</td>\n",
       "      <td>0.0</td>\n",
       "      <td>0.0</td>\n",
       "    </tr>\n",
       "    <tr>\n",
       "      <th>29</th>\n",
       "      <td>2023-10-10 15:56:31.900</td>\n",
       "      <td>Andor/Position 1</td>\n",
       "      <td>0.006009</td>\n",
       "      <td>0.000845</td>\n",
       "      <td>2.975474e+06</td>\n",
       "      <td>2.174602e-02</td>\n",
       "      <td>4.996874e-06</td>\n",
       "      <td>1.381320e+04</td>\n",
       "      <td>5.0</td>\n",
       "      <td>6.0</td>\n",
       "      <td>...</td>\n",
       "      <td>0.0</td>\n",
       "      <td>1.44</td>\n",
       "      <td>0.322</td>\n",
       "      <td>0.377</td>\n",
       "      <td>2.2</td>\n",
       "      <td>0.0</td>\n",
       "      <td>1.5</td>\n",
       "      <td>1.0</td>\n",
       "      <td>0.0</td>\n",
       "      <td>0.0</td>\n",
       "    </tr>\n",
       "  </tbody>\n",
       "</table>\n",
       "<p>5 rows × 35 columns</p>\n",
       "</div>"
      ],
      "text/plain": [
       "                       time            Folder   Ycenter    Ywidth  \\\n",
       "2   2023-10-10 13:25:27.750               NaN       NaN       NaN   \n",
       "5   2023-10-10 13:27:15.320               NaN       NaN       NaN   \n",
       "25  2023-10-10 15:56:06.110  Andor/Position 1  0.005572  0.001023   \n",
       "27  2023-10-10 15:56:18.950  Andor/Position 1  0.005704  0.000904   \n",
       "29  2023-10-10 15:56:31.900  Andor/Position 1  0.006009  0.000845   \n",
       "\n",
       "      AtomNumber       Xcenter        Xwidth   AtomNumberX  IterationNum  \\\n",
       "2            NaN           NaN           NaN           NaN           0.0   \n",
       "5            NaN           NaN           NaN           NaN           1.0   \n",
       "25  4.395981e+06  3.708893e+06  1.219154e+06  2.600261e+15           1.0   \n",
       "27  3.635127e+06  3.272270e+00  5.521562e-02  1.215044e+06           3.0   \n",
       "29  2.975474e+06  2.174602e-02  4.996874e-06  1.381320e+04           5.0   \n",
       "\n",
       "    IterationCount  ...  VerticalBiasCurrent  ZSBiasVoltage  CamBiasVoltage  \\\n",
       "2              1.0  ...                  0.0           1.44           0.322   \n",
       "5              2.0  ...                  0.0           1.44           0.322   \n",
       "25             6.0  ...                  0.0           1.44           0.322   \n",
       "27             6.0  ...                  0.0           1.44           0.322   \n",
       "29             6.0  ...                  0.0           1.44           0.322   \n",
       "\n",
       "    VerticalBiasVoltage  HighServo1  LowServo1  D1Time_ms  ODT_Position  \\\n",
       "2                 0.377         2.2        0.0        1.5           9.0   \n",
       "5                 0.377         2.2        0.0        1.5           9.0   \n",
       "25                0.377         2.2        0.0        1.5           1.0   \n",
       "27                0.377         2.2        0.0        1.5           1.0   \n",
       "29                0.377         2.2        0.0        1.5           1.0   \n",
       "\n",
       "    Var_27  Var_28  \n",
       "2      NaN     NaN  \n",
       "5      NaN     NaN  \n",
       "25     0.0     0.0  \n",
       "27     0.0     0.0  \n",
       "29     0.0     0.0  \n",
       "\n",
       "[5 rows x 35 columns]"
      ]
     },
     "execution_count": 9,
     "metadata": {},
     "output_type": "execute_result"
    }
   ],
   "source": [
    "PlotFromDataCSV(dataCSV_filePath, \n",
    "                                  'wait', 'AtomNumber', \n",
    "                                  iterateVariable=None, filterlist=['wait==30'], groupby='wait')"
   ]
  },
  {
   "cell_type": "code",
   "execution_count": null,
   "id": "3664a7a9",
   "metadata": {
    "scrolled": false
   },
   "outputs": [],
   "source": [
    "colum"
   ]
  },
  {
   "cell_type": "code",
   "execution_count": null,
   "id": "4005dd35",
   "metadata": {
    "scrolled": false
   },
   "outputs": [],
   "source": []
  },
  {
   "cell_type": "code",
   "execution_count": 15,
   "id": "856d1af2",
   "metadata": {
    "scrolled": false
   },
   "outputs": [],
   "source": [
    "ImageAnalysisCode.PlotFromDataCSV?"
   ]
  },
  {
   "cell_type": "code",
   "execution_count": null,
   "id": "f0775193",
   "metadata": {
    "scrolled": false
   },
   "outputs": [],
   "source": []
  },
  {
   "cell_type": "code",
   "execution_count": 3,
   "id": "9ea54550",
   "metadata": {
    "scrolled": true
   },
   "outputs": [],
   "source": [
    "df = pd.read_csv(r'Z:\\ats317group\\Data\\2023\\09-2023\\29 Sep 2023\\Data Folder 5-9.csv')"
   ]
  },
  {
   "cell_type": "code",
   "execution_count": 4,
   "id": "8614eb1d",
   "metadata": {
    "scrolled": true
   },
   "outputs": [],
   "source": [
    "dfwait30 = df[df.wait==30]"
   ]
  },
  {
   "cell_type": "code",
   "execution_count": null,
   "id": "0490f92b",
   "metadata": {
    "scrolled": true
   },
   "outputs": [],
   "source": []
  },
  {
   "cell_type": "code",
   "execution_count": 103,
   "id": "e6fb9033",
   "metadata": {
    "scrolled": true
   },
   "outputs": [],
   "source": [
    "dataFrame = dfwait30\n",
    "iterateVariableName = 'VerticalBiasCurrent'\n",
    "xVariable = 'Ycenter'\n",
    "yVariable = 'AtomNumber'\n",
    "groupby = None\n",
    "\n",
    "iterateVariable = dataFrame[iterateVariableName]\n",
    "iterateVariable = iterateVariable.unique()"
   ]
  },
  {
   "cell_type": "code",
   "execution_count": 42,
   "id": "808fad1e",
   "metadata": {
    "scrolled": false
   },
   "outputs": [],
   "source": [
    "def PlotFromDataCSV(filePath, xVariable, yVariable, \n",
    "                    groupby=None, groupbyX=None, iterateVariable=None, \n",
    "                    filterlist=None, filterLogic='and'):\n",
    "    \n",
    "    if not os.path.exists(filePath):\n",
    "        raise FileNotFoundError(\"The file does not exist!\")\n",
    "    \n",
    "    df = pd.read_csv(filePath)\n",
    "    \n",
    "    if filterlist:\n",
    "        masklist = []\n",
    "        for fil in filterlist:\n",
    "            masklist.append(eval( 'df.' + fil.replace(' ', '_') ))\n",
    "            \n",
    "        if len(masklist) > 1:\n",
    "            for mask in masklist[1:]:\n",
    "                if filterLogic == 'and':\n",
    "                    masklist[0] &= mask\n",
    "                elif filterLogic == 'or':\n",
    "                    masklist[0] |= mask\n",
    "        df = df[ masklist[0] ]\n",
    "    \n",
    "    columnlist = [xVariable, yVariable]\n",
    "    \n",
    "    if iterateVariable:\n",
    "        iterateVariable.replace(' ', '_')\n",
    "        iterable = df[iterateVariable].unique()\n",
    "        columnlist.append(iterateVariable)\n",
    "    else:\n",
    "        iterable = [None]\n",
    "    \n",
    "    if groupby == xVariable:\n",
    "        groupbyX = 1\n",
    "        \n",
    "    if groupby and not groupbyX:\n",
    "        groupby.replace(' ', '_')\n",
    "        columnlist.append(groupby)    \n",
    "    \n",
    "    fig, ax = plt.subplots(figsize=(8,5))\n",
    "    for ii in iterable:\n",
    "        if ii is None:\n",
    "            dfii = df[columnlist]\n",
    "        else:\n",
    "            dfii = df[columnlist][ (df[iterateVariable]==ii) ]\n",
    "            \n",
    "        if groupbyX:\n",
    "            dfiimean = dfii.groupby(xVariable).mean()\n",
    "            dfiistd = dfii.groupby(xVariable).std()\n",
    "            plt.errorbar(dfiimean.index, dfiimean[yVariable],\n",
    "                         dfiistd[yVariable], capsize=3,\n",
    "                         label = '{} = {}'.format(iterateVariable, ii))\n",
    "            plt.scatter(dfiimean.index, dfiimean[yVariable], s=8)\n",
    "        elif groupby:\n",
    "            dfiimean = dfii.groupby(groupby).mean()\n",
    "            dfiistd = dfii.groupby(groupby).std()\n",
    "            plt.errorbar(dfiimean[xVariable], dfiimean[yVariable],\n",
    "                         dfiistd[yVariable], dfiistd[xVariable], capsize=3,\n",
    "                         label = '{} = {}'.format(iterateVariable, ii))        \n",
    "        else:\n",
    "            plt.plot( dfii[xVariable], dfii[yVariable], '.', \n",
    "                     label = '{} = {}'.format(iterateVariable, ii))\n",
    "    \n",
    "    ax.set(xlabel=xVariable, ylabel=yVariable)\n",
    "    fig.tight_layout()\n",
    "    if iterateVariable:\n",
    "        plt.legend()\n",
    "    plt.show()\n",
    "    \n",
    "    return df"
   ]
  },
  {
   "cell_type": "code",
   "execution_count": 17,
   "id": "bd4e7630",
   "metadata": {
    "scrolled": true
   },
   "outputs": [
    {
     "ename": "NameError",
     "evalue": "name 'df1' is not defined",
     "output_type": "error",
     "traceback": [
      "\u001b[1;31m---------------------------------------------------------------------------\u001b[0m",
      "\u001b[1;31mNameError\u001b[0m                                 Traceback (most recent call last)",
      "\u001b[1;32mC:\\Users\\SOMMER~1\\AppData\\Local\\Temp/ipykernel_8172/3309751900.py\u001b[0m in \u001b[0;36m<module>\u001b[1;34m\u001b[0m\n\u001b[1;32m----> 1\u001b[1;33m \u001b[0mdf1\u001b[0m\u001b[1;33m\u001b[0m\u001b[1;33m\u001b[0m\u001b[0m\n\u001b[0m",
      "\u001b[1;31mNameError\u001b[0m: name 'df1' is not defined"
     ]
    }
   ],
   "source": [
    "df1"
   ]
  },
  {
   "cell_type": "code",
   "execution_count": null,
   "id": "8cb46626",
   "metadata": {
    "scrolled": true
   },
   "outputs": [],
   "source": []
  },
  {
   "cell_type": "code",
   "execution_count": null,
   "id": "59cb4ab1",
   "metadata": {
    "scrolled": true
   },
   "outputs": [],
   "source": []
  },
  {
   "cell_type": "code",
   "execution_count": null,
   "id": "a42ea667",
   "metadata": {
    "scrolled": true
   },
   "outputs": [],
   "source": []
  },
  {
   "cell_type": "code",
   "execution_count": 44,
   "id": "ed35975c",
   "metadata": {
    "scrolled": false
   },
   "outputs": [
    {
     "data": {
      "image/png": "[encoded data removed]",
      "text/plain": [
       "<Figure size 576x360 with 1 Axes>"
      ]
     },
     "metadata": {
      "needs_background": "light"
     },
     "output_type": "display_data"
    }
   ],
   "source": [
    "df = PlotFromDataCSV(dataCSV_filePath, \n",
    "                                  'wait', 'AtomNumber', \n",
    "                                  iterateVariable=None, filterlist=['wait==30'], groupby='wait');\n"
   ]
  },
  {
   "cell_type": "code",
   "execution_count": 47,
   "id": "9fa8576c",
   "metadata": {
    "scrolled": false
   },
   "outputs": [
    {
     "data": {
      "text/html": [
       "<div>\n",
       "<style scoped>\n",
       "    .dataframe tbody tr th:only-of-type {\n",
       "        vertical-align: middle;\n",
       "    }\n",
       "\n",
       "    .dataframe tbody tr th {\n",
       "        vertical-align: top;\n",
       "    }\n",
       "\n",
       "    .dataframe thead th {\n",
       "        text-align: right;\n",
       "    }\n",
       "</style>\n",
       "<table border=\"1\" class=\"dataframe\">\n",
       "  <thead>\n",
       "    <tr style=\"text-align: right;\">\n",
       "      <th></th>\n",
       "      <th>time</th>\n",
       "      <th>Folder</th>\n",
       "      <th>Ycenter</th>\n",
       "      <th>Ywidth</th>\n",
       "      <th>AtomNumber</th>\n",
       "      <th>Xcenter</th>\n",
       "      <th>Xwidth</th>\n",
       "      <th>AtomNumberX</th>\n",
       "      <th>IterationNum</th>\n",
       "      <th>IterationCount</th>\n",
       "      <th>...</th>\n",
       "      <th>VerticalBiasCurrent</th>\n",
       "      <th>ZSBiasVoltage</th>\n",
       "      <th>CamBiasVoltage</th>\n",
       "      <th>VerticalBiasVoltage</th>\n",
       "      <th>HighServo1</th>\n",
       "      <th>LowServo1</th>\n",
       "      <th>D1Time_ms</th>\n",
       "      <th>ODT_Position</th>\n",
       "      <th>Var_27</th>\n",
       "      <th>Var_28</th>\n",
       "    </tr>\n",
       "  </thead>\n",
       "  <tbody>\n",
       "    <tr>\n",
       "      <th>2</th>\n",
       "      <td>2023-10-10 13:25:27.750</td>\n",
       "      <td>NaN</td>\n",
       "      <td>NaN</td>\n",
       "      <td>NaN</td>\n",
       "      <td>NaN</td>\n",
       "      <td>NaN</td>\n",
       "      <td>NaN</td>\n",
       "      <td>NaN</td>\n",
       "      <td>0.0</td>\n",
       "      <td>1.0</td>\n",
       "      <td>...</td>\n",
       "      <td>0.0</td>\n",
       "      <td>1.44</td>\n",
       "      <td>0.322</td>\n",
       "      <td>0.377</td>\n",
       "      <td>2.2</td>\n",
       "      <td>0.0</td>\n",
       "      <td>1.5</td>\n",
       "      <td>9.0</td>\n",
       "      <td>NaN</td>\n",
       "      <td>NaN</td>\n",
       "    </tr>\n",
       "    <tr>\n",
       "      <th>5</th>\n",
       "      <td>2023-10-10 13:27:15.320</td>\n",
       "      <td>NaN</td>\n",
       "      <td>NaN</td>\n",
       "      <td>NaN</td>\n",
       "      <td>NaN</td>\n",
       "      <td>NaN</td>\n",
       "      <td>NaN</td>\n",
       "      <td>NaN</td>\n",
       "      <td>1.0</td>\n",
       "      <td>2.0</td>\n",
       "      <td>...</td>\n",
       "      <td>0.0</td>\n",
       "      <td>1.44</td>\n",
       "      <td>0.322</td>\n",
       "      <td>0.377</td>\n",
       "      <td>2.2</td>\n",
       "      <td>0.0</td>\n",
       "      <td>1.5</td>\n",
       "      <td>9.0</td>\n",
       "      <td>NaN</td>\n",
       "      <td>NaN</td>\n",
       "    </tr>\n",
       "    <tr>\n",
       "      <th>25</th>\n",
       "      <td>2023-10-10 15:56:06.110</td>\n",
       "      <td>Andor/Position 1</td>\n",
       "      <td>0.005572</td>\n",
       "      <td>0.001023</td>\n",
       "      <td>4.395981e+06</td>\n",
       "      <td>3.708893e+06</td>\n",
       "      <td>1.219154e+06</td>\n",
       "      <td>2.600261e+15</td>\n",
       "      <td>1.0</td>\n",
       "      <td>6.0</td>\n",
       "      <td>...</td>\n",
       "      <td>0.0</td>\n",
       "      <td>1.44</td>\n",
       "      <td>0.322</td>\n",
       "      <td>0.377</td>\n",
       "      <td>2.2</td>\n",
       "      <td>0.0</td>\n",
       "      <td>1.5</td>\n",
       "      <td>1.0</td>\n",
       "      <td>0.0</td>\n",
       "      <td>0.0</td>\n",
       "    </tr>\n",
       "    <tr>\n",
       "      <th>27</th>\n",
       "      <td>2023-10-10 15:56:18.950</td>\n",
       "      <td>Andor/Position 1</td>\n",
       "      <td>0.005704</td>\n",
       "      <td>0.000904</td>\n",
       "      <td>3.635127e+06</td>\n",
       "      <td>3.272270e+00</td>\n",
       "      <td>5.521562e-02</td>\n",
       "      <td>1.215044e+06</td>\n",
       "      <td>3.0</td>\n",
       "      <td>6.0</td>\n",
       "      <td>...</td>\n",
       "      <td>0.0</td>\n",
       "      <td>1.44</td>\n",
       "      <td>0.322</td>\n",
       "      <td>0.377</td>\n",
       "      <td>2.2</td>\n",
       "      <td>0.0</td>\n",
       "      <td>1.5</td>\n",
       "      <td>1.0</td>\n",
       "      <td>0.0</td>\n",
       "      <td>0.0</td>\n",
       "    </tr>\n",
       "    <tr>\n",
       "      <th>29</th>\n",
       "      <td>2023-10-10 15:56:31.900</td>\n",
       "      <td>Andor/Position 1</td>\n",
       "      <td>0.006009</td>\n",
       "      <td>0.000845</td>\n",
       "      <td>2.975474e+06</td>\n",
       "      <td>2.174602e-02</td>\n",
       "      <td>4.996874e-06</td>\n",
       "      <td>1.381320e+04</td>\n",
       "      <td>5.0</td>\n",
       "      <td>6.0</td>\n",
       "      <td>...</td>\n",
       "      <td>0.0</td>\n",
       "      <td>1.44</td>\n",
       "      <td>0.322</td>\n",
       "      <td>0.377</td>\n",
       "      <td>2.2</td>\n",
       "      <td>0.0</td>\n",
       "      <td>1.5</td>\n",
       "      <td>1.0</td>\n",
       "      <td>0.0</td>\n",
       "      <td>0.0</td>\n",
       "    </tr>\n",
       "  </tbody>\n",
       "</table>\n",
       "<p>5 rows × 35 columns</p>\n",
       "</div>"
      ],
      "text/plain": [
       "                       time            Folder   Ycenter    Ywidth  \\\n",
       "2   2023-10-10 13:25:27.750               NaN       NaN       NaN   \n",
       "5   2023-10-10 13:27:15.320               NaN       NaN       NaN   \n",
       "25  2023-10-10 15:56:06.110  Andor/Position 1  0.005572  0.001023   \n",
       "27  2023-10-10 15:56:18.950  Andor/Position 1  0.005704  0.000904   \n",
       "29  2023-10-10 15:56:31.900  Andor/Position 1  0.006009  0.000845   \n",
       "\n",
       "      AtomNumber       Xcenter        Xwidth   AtomNumberX  IterationNum  \\\n",
       "2            NaN           NaN           NaN           NaN           0.0   \n",
       "5            NaN           NaN           NaN           NaN           1.0   \n",
       "25  4.395981e+06  3.708893e+06  1.219154e+06  2.600261e+15           1.0   \n",
       "27  3.635127e+06  3.272270e+00  5.521562e-02  1.215044e+06           3.0   \n",
       "29  2.975474e+06  2.174602e-02  4.996874e-06  1.381320e+04           5.0   \n",
       "\n",
       "    IterationCount  ...  VerticalBiasCurrent  ZSBiasVoltage  CamBiasVoltage  \\\n",
       "2              1.0  ...                  0.0           1.44           0.322   \n",
       "5              2.0  ...                  0.0           1.44           0.322   \n",
       "25             6.0  ...                  0.0           1.44           0.322   \n",
       "27             6.0  ...                  0.0           1.44           0.322   \n",
       "29             6.0  ...                  0.0           1.44           0.322   \n",
       "\n",
       "    VerticalBiasVoltage  HighServo1  LowServo1  D1Time_ms  ODT_Position  \\\n",
       "2                 0.377         2.2        0.0        1.5           9.0   \n",
       "5                 0.377         2.2        0.0        1.5           9.0   \n",
       "25                0.377         2.2        0.0        1.5           1.0   \n",
       "27                0.377         2.2        0.0        1.5           1.0   \n",
       "29                0.377         2.2        0.0        1.5           1.0   \n",
       "\n",
       "    Var_27  Var_28  \n",
       "2      NaN     NaN  \n",
       "5      NaN     NaN  \n",
       "25     0.0     0.0  \n",
       "27     0.0     0.0  \n",
       "29     0.0     0.0  \n",
       "\n",
       "[5 rows x 35 columns]"
      ]
     },
     "execution_count": 47,
     "metadata": {},
     "output_type": "execute_result"
    }
   ],
   "source": [
    "df"
   ]
  },
  {
   "cell_type": "code",
   "execution_count": null,
   "id": "8c7974a9",
   "metadata": {},
   "outputs": [],
   "source": []
  },
  {
   "cell_type": "code",
   "execution_count": 55,
   "id": "c10e7255",
   "metadata": {
    "scrolled": true
   },
   "outputs": [
    {
     "data": {
      "text/html": [
       "<div>\n",
       "<style scoped>\n",
       "    .dataframe tbody tr th:only-of-type {\n",
       "        vertical-align: middle;\n",
       "    }\n",
       "\n",
       "    .dataframe tbody tr th {\n",
       "        vertical-align: top;\n",
       "    }\n",
       "\n",
       "    .dataframe thead th {\n",
       "        text-align: right;\n",
       "    }\n",
       "</style>\n",
       "<table border=\"1\" class=\"dataframe\">\n",
       "  <thead>\n",
       "    <tr style=\"text-align: right;\">\n",
       "      <th></th>\n",
       "      <th>wait</th>\n",
       "      <th>AtomNumber</th>\n",
       "      <th>ODT_Position</th>\n",
       "    </tr>\n",
       "  </thead>\n",
       "  <tbody>\n",
       "    <tr>\n",
       "      <th>2</th>\n",
       "      <td>30.0</td>\n",
       "      <td>NaN</td>\n",
       "      <td>9.0</td>\n",
       "    </tr>\n",
       "    <tr>\n",
       "      <th>5</th>\n",
       "      <td>30.0</td>\n",
       "      <td>NaN</td>\n",
       "      <td>9.0</td>\n",
       "    </tr>\n",
       "    <tr>\n",
       "      <th>25</th>\n",
       "      <td>30.0</td>\n",
       "      <td>4.395981e+06</td>\n",
       "      <td>1.0</td>\n",
       "    </tr>\n",
       "    <tr>\n",
       "      <th>27</th>\n",
       "      <td>30.0</td>\n",
       "      <td>3.635127e+06</td>\n",
       "      <td>1.0</td>\n",
       "    </tr>\n",
       "    <tr>\n",
       "      <th>29</th>\n",
       "      <td>30.0</td>\n",
       "      <td>2.975474e+06</td>\n",
       "      <td>1.0</td>\n",
       "    </tr>\n",
       "  </tbody>\n",
       "</table>\n",
       "</div>"
      ],
      "text/plain": [
       "    wait    AtomNumber  ODT_Position\n",
       "2   30.0           NaN           9.0\n",
       "5   30.0           NaN           9.0\n",
       "25  30.0  4.395981e+06           1.0\n",
       "27  30.0  3.635127e+06           1.0\n",
       "29  30.0  2.975474e+06           1.0"
      ]
     },
     "execution_count": 55,
     "metadata": {},
     "output_type": "execute_result"
    }
   ],
   "source": [
    "df1 = df[['wait', 'AtomNumber', 'ODT_Position']]\n",
    "df1"
   ]
  },
  {
   "cell_type": "code",
   "execution_count": 56,
   "id": "60d26fea",
   "metadata": {
    "scrolled": false
   },
   "outputs": [],
   "source": [
    "df1mean = df1.groupby('ODT_Position').mean()\n",
    "df1std = df1.groupby('ODT_Position').std()"
   ]
  },
  {
   "cell_type": "code",
   "execution_count": 57,
   "id": "8dd21107",
   "metadata": {
    "scrolled": true
   },
   "outputs": [
    {
     "data": {
      "text/html": [
       "<div>\n",
       "<style scoped>\n",
       "    .dataframe tbody tr th:only-of-type {\n",
       "        vertical-align: middle;\n",
       "    }\n",
       "\n",
       "    .dataframe tbody tr th {\n",
       "        vertical-align: top;\n",
       "    }\n",
       "\n",
       "    .dataframe thead th {\n",
       "        text-align: right;\n",
       "    }\n",
       "</style>\n",
       "<table border=\"1\" class=\"dataframe\">\n",
       "  <thead>\n",
       "    <tr style=\"text-align: right;\">\n",
       "      <th></th>\n",
       "      <th>wait</th>\n",
       "      <th>AtomNumber</th>\n",
       "    </tr>\n",
       "    <tr>\n",
       "      <th>ODT_Position</th>\n",
       "      <th></th>\n",
       "      <th></th>\n",
       "    </tr>\n",
       "  </thead>\n",
       "  <tbody>\n",
       "    <tr>\n",
       "      <th>1.0</th>\n",
       "      <td>30.0</td>\n",
       "      <td>3.668861e+06</td>\n",
       "    </tr>\n",
       "    <tr>\n",
       "      <th>9.0</th>\n",
       "      <td>30.0</td>\n",
       "      <td>NaN</td>\n",
       "    </tr>\n",
       "  </tbody>\n",
       "</table>\n",
       "</div>"
      ],
      "text/plain": [
       "              wait    AtomNumber\n",
       "ODT_Position                    \n",
       "1.0           30.0  3.668861e+06\n",
       "9.0           30.0           NaN"
      ]
     },
     "execution_count": 57,
     "metadata": {},
     "output_type": "execute_result"
    }
   ],
   "source": [
    "df1mean"
   ]
  },
  {
   "cell_type": "code",
   "execution_count": 58,
   "id": "440f8fec",
   "metadata": {},
   "outputs": [
    {
     "data": {
      "text/html": [
       "<div>\n",
       "<style scoped>\n",
       "    .dataframe tbody tr th:only-of-type {\n",
       "        vertical-align: middle;\n",
       "    }\n",
       "\n",
       "    .dataframe tbody tr th {\n",
       "        vertical-align: top;\n",
       "    }\n",
       "\n",
       "    .dataframe thead th {\n",
       "        text-align: right;\n",
       "    }\n",
       "</style>\n",
       "<table border=\"1\" class=\"dataframe\">\n",
       "  <thead>\n",
       "    <tr style=\"text-align: right;\">\n",
       "      <th></th>\n",
       "      <th>wait</th>\n",
       "      <th>AtomNumber</th>\n",
       "    </tr>\n",
       "    <tr>\n",
       "      <th>ODT_Position</th>\n",
       "      <th></th>\n",
       "      <th></th>\n",
       "    </tr>\n",
       "  </thead>\n",
       "  <tbody>\n",
       "    <tr>\n",
       "      <th>1.0</th>\n",
       "      <td>0.0</td>\n",
       "      <td>710853.980234</td>\n",
       "    </tr>\n",
       "    <tr>\n",
       "      <th>9.0</th>\n",
       "      <td>0.0</td>\n",
       "      <td>NaN</td>\n",
       "    </tr>\n",
       "  </tbody>\n",
       "</table>\n",
       "</div>"
      ],
      "text/plain": [
       "              wait     AtomNumber\n",
       "ODT_Position                     \n",
       "1.0            0.0  710853.980234\n",
       "9.0            0.0            NaN"
      ]
     },
     "execution_count": 58,
     "metadata": {},
     "output_type": "execute_result"
    }
   ],
   "source": [
    "df1std"
   ]
  },
  {
   "cell_type": "code",
   "execution_count": 28,
   "id": "7512e083",
   "metadata": {
    "scrolled": true
   },
   "outputs": [
    {
     "ename": "KeyError",
     "evalue": "'index'",
     "output_type": "error",
     "traceback": [
      "\u001b[1;31m---------------------------------------------------------------------------\u001b[0m",
      "\u001b[1;31mKeyError\u001b[0m                                  Traceback (most recent call last)",
      "\u001b[1;32mC:\\ProgramData\\Anaconda3\\lib\\site-packages\\pandas\\core\\indexes\\base.py\u001b[0m in \u001b[0;36mget_loc\u001b[1;34m(self, key, method, tolerance)\u001b[0m\n\u001b[0;32m   3360\u001b[0m             \u001b[1;32mtry\u001b[0m\u001b[1;33m:\u001b[0m\u001b[1;33m\u001b[0m\u001b[1;33m\u001b[0m\u001b[0m\n\u001b[1;32m-> 3361\u001b[1;33m                 \u001b[1;32mreturn\u001b[0m \u001b[0mself\u001b[0m\u001b[1;33m.\u001b[0m\u001b[0m_engine\u001b[0m\u001b[1;33m.\u001b[0m\u001b[0mget_loc\u001b[0m\u001b[1;33m(\u001b[0m\u001b[0mcasted_key\u001b[0m\u001b[1;33m)\u001b[0m\u001b[1;33m\u001b[0m\u001b[1;33m\u001b[0m\u001b[0m\n\u001b[0m\u001b[0;32m   3362\u001b[0m             \u001b[1;32mexcept\u001b[0m \u001b[0mKeyError\u001b[0m \u001b[1;32mas\u001b[0m \u001b[0merr\u001b[0m\u001b[1;33m:\u001b[0m\u001b[1;33m\u001b[0m\u001b[1;33m\u001b[0m\u001b[0m\n",
      "\u001b[1;32mC:\\ProgramData\\Anaconda3\\lib\\site-packages\\pandas\\_libs\\index.pyx\u001b[0m in \u001b[0;36mpandas._libs.index.IndexEngine.get_loc\u001b[1;34m()\u001b[0m\n",
      "\u001b[1;32mC:\\ProgramData\\Anaconda3\\lib\\site-packages\\pandas\\_libs\\index.pyx\u001b[0m in \u001b[0;36mpandas._libs.index.IndexEngine.get_loc\u001b[1;34m()\u001b[0m\n",
      "\u001b[1;32mpandas\\_libs\\hashtable_class_helper.pxi\u001b[0m in \u001b[0;36mpandas._libs.hashtable.PyObjectHashTable.get_item\u001b[1;34m()\u001b[0m\n",
      "\u001b[1;32mpandas\\_libs\\hashtable_class_helper.pxi\u001b[0m in \u001b[0;36mpandas._libs.hashtable.PyObjectHashTable.get_item\u001b[1;34m()\u001b[0m\n",
      "\u001b[1;31mKeyError\u001b[0m: 'index'",
      "\nThe above exception was the direct cause of the following exception:\n",
      "\u001b[1;31mKeyError\u001b[0m                                  Traceback (most recent call last)",
      "\u001b[1;32mC:\\Users\\SOMMER~1\\AppData\\Local\\Temp/ipykernel_8172/53740047.py\u001b[0m in \u001b[0;36m<module>\u001b[1;34m\u001b[0m\n\u001b[1;32m----> 1\u001b[1;33m \u001b[0mplt\u001b[0m\u001b[1;33m.\u001b[0m\u001b[0merrorbar\u001b[0m\u001b[1;33m(\u001b[0m\u001b[0mdf1mean\u001b[0m\u001b[1;33m[\u001b[0m\u001b[1;34m'index'\u001b[0m\u001b[1;33m]\u001b[0m\u001b[1;33m,\u001b[0m \u001b[0mdf1mean\u001b[0m\u001b[1;33m.\u001b[0m\u001b[0mODT_Position\u001b[0m\u001b[1;33m,\u001b[0m \u001b[0mdf1std\u001b[0m\u001b[1;33m.\u001b[0m\u001b[0mODT_Position\u001b[0m\u001b[1;33m)\u001b[0m\u001b[1;33m\u001b[0m\u001b[1;33m\u001b[0m\u001b[0m\n\u001b[0m",
      "\u001b[1;32mC:\\ProgramData\\Anaconda3\\lib\\site-packages\\pandas\\core\\frame.py\u001b[0m in \u001b[0;36m__getitem__\u001b[1;34m(self, key)\u001b[0m\n\u001b[0;32m   3456\u001b[0m             \u001b[1;32mif\u001b[0m \u001b[0mself\u001b[0m\u001b[1;33m.\u001b[0m\u001b[0mcolumns\u001b[0m\u001b[1;33m.\u001b[0m\u001b[0mnlevels\u001b[0m \u001b[1;33m>\u001b[0m \u001b[1;36m1\u001b[0m\u001b[1;33m:\u001b[0m\u001b[1;33m\u001b[0m\u001b[1;33m\u001b[0m\u001b[0m\n\u001b[0;32m   3457\u001b[0m                 \u001b[1;32mreturn\u001b[0m \u001b[0mself\u001b[0m\u001b[1;33m.\u001b[0m\u001b[0m_getitem_multilevel\u001b[0m\u001b[1;33m(\u001b[0m\u001b[0mkey\u001b[0m\u001b[1;33m)\u001b[0m\u001b[1;33m\u001b[0m\u001b[1;33m\u001b[0m\u001b[0m\n\u001b[1;32m-> 3458\u001b[1;33m             \u001b[0mindexer\u001b[0m \u001b[1;33m=\u001b[0m \u001b[0mself\u001b[0m\u001b[1;33m.\u001b[0m\u001b[0mcolumns\u001b[0m\u001b[1;33m.\u001b[0m\u001b[0mget_loc\u001b[0m\u001b[1;33m(\u001b[0m\u001b[0mkey\u001b[0m\u001b[1;33m)\u001b[0m\u001b[1;33m\u001b[0m\u001b[1;33m\u001b[0m\u001b[0m\n\u001b[0m\u001b[0;32m   3459\u001b[0m             \u001b[1;32mif\u001b[0m \u001b[0mis_integer\u001b[0m\u001b[1;33m(\u001b[0m\u001b[0mindexer\u001b[0m\u001b[1;33m)\u001b[0m\u001b[1;33m:\u001b[0m\u001b[1;33m\u001b[0m\u001b[1;33m\u001b[0m\u001b[0m\n\u001b[0;32m   3460\u001b[0m                 \u001b[0mindexer\u001b[0m \u001b[1;33m=\u001b[0m \u001b[1;33m[\u001b[0m\u001b[0mindexer\u001b[0m\u001b[1;33m]\u001b[0m\u001b[1;33m\u001b[0m\u001b[1;33m\u001b[0m\u001b[0m\n",
      "\u001b[1;32mC:\\ProgramData\\Anaconda3\\lib\\site-packages\\pandas\\core\\indexes\\base.py\u001b[0m in \u001b[0;36mget_loc\u001b[1;34m(self, key, method, tolerance)\u001b[0m\n\u001b[0;32m   3361\u001b[0m                 \u001b[1;32mreturn\u001b[0m \u001b[0mself\u001b[0m\u001b[1;33m.\u001b[0m\u001b[0m_engine\u001b[0m\u001b[1;33m.\u001b[0m\u001b[0mget_loc\u001b[0m\u001b[1;33m(\u001b[0m\u001b[0mcasted_key\u001b[0m\u001b[1;33m)\u001b[0m\u001b[1;33m\u001b[0m\u001b[1;33m\u001b[0m\u001b[0m\n\u001b[0;32m   3362\u001b[0m             \u001b[1;32mexcept\u001b[0m \u001b[0mKeyError\u001b[0m \u001b[1;32mas\u001b[0m \u001b[0merr\u001b[0m\u001b[1;33m:\u001b[0m\u001b[1;33m\u001b[0m\u001b[1;33m\u001b[0m\u001b[0m\n\u001b[1;32m-> 3363\u001b[1;33m                 \u001b[1;32mraise\u001b[0m \u001b[0mKeyError\u001b[0m\u001b[1;33m(\u001b[0m\u001b[0mkey\u001b[0m\u001b[1;33m)\u001b[0m \u001b[1;32mfrom\u001b[0m \u001b[0merr\u001b[0m\u001b[1;33m\u001b[0m\u001b[1;33m\u001b[0m\u001b[0m\n\u001b[0m\u001b[0;32m   3364\u001b[0m \u001b[1;33m\u001b[0m\u001b[0m\n\u001b[0;32m   3365\u001b[0m         \u001b[1;32mif\u001b[0m \u001b[0mis_scalar\u001b[0m\u001b[1;33m(\u001b[0m\u001b[0mkey\u001b[0m\u001b[1;33m)\u001b[0m \u001b[1;32mand\u001b[0m \u001b[0misna\u001b[0m\u001b[1;33m(\u001b[0m\u001b[0mkey\u001b[0m\u001b[1;33m)\u001b[0m \u001b[1;32mand\u001b[0m \u001b[1;32mnot\u001b[0m \u001b[0mself\u001b[0m\u001b[1;33m.\u001b[0m\u001b[0mhasnans\u001b[0m\u001b[1;33m:\u001b[0m\u001b[1;33m\u001b[0m\u001b[1;33m\u001b[0m\u001b[0m\n",
      "\u001b[1;31mKeyError\u001b[0m: 'index'"
     ]
    }
   ],
   "source": [
    "plt.errorbar(df1mean['index'], df1mean.ODT_Position, df1std.ODT_Position)"
   ]
  },
  {
   "cell_type": "code",
   "execution_count": null,
   "id": "90d0b0f0",
   "metadata": {
    "scrolled": false
   },
   "outputs": [],
   "source": []
  },
  {
   "cell_type": "code",
   "execution_count": 46,
   "id": "8223116a",
   "metadata": {
    "scrolled": false
   },
   "outputs": [
    {
     "name": "stderr",
     "output_type": "stream",
     "text": [
      "C:\\ProgramData\\Anaconda3\\lib\\site-packages\\numpy\\core\\_methods.py:44: RuntimeWarning: invalid value encountered in reduce\n",
      "  return umr_minimum(a, axis, None, out, keepdims, initial, where)\n",
      "C:\\ProgramData\\Anaconda3\\lib\\site-packages\\numpy\\core\\_methods.py:40: RuntimeWarning: invalid value encountered in reduce\n",
      "  return umr_maximum(a, axis, None, out, keepdims, initial, where)\n"
     ]
    },
    {
     "data": {
      "image/png": "[encoded data removed]",
      "text/plain": [
       "<Figure size 576x360 with 1 Axes>"
      ]
     },
     "metadata": {
      "needs_background": "light"
     },
     "output_type": "display_data"
    },
    {
     "data": {
      "text/html": [
       "<div>\n",
       "<style scoped>\n",
       "    .dataframe tbody tr th:only-of-type {\n",
       "        vertical-align: middle;\n",
       "    }\n",
       "\n",
       "    .dataframe tbody tr th {\n",
       "        vertical-align: top;\n",
       "    }\n",
       "\n",
       "    .dataframe thead th {\n",
       "        text-align: right;\n",
       "    }\n",
       "</style>\n",
       "<table border=\"1\" class=\"dataframe\">\n",
       "  <thead>\n",
       "    <tr style=\"text-align: right;\">\n",
       "      <th></th>\n",
       "      <th>time</th>\n",
       "      <th>Folder</th>\n",
       "      <th>Ycenter</th>\n",
       "      <th>Ywidth</th>\n",
       "      <th>AtomNumber</th>\n",
       "      <th>Xcenter</th>\n",
       "      <th>Xwidth</th>\n",
       "      <th>AtomNumberX</th>\n",
       "      <th>IterationNum</th>\n",
       "      <th>IterationCount</th>\n",
       "      <th>...</th>\n",
       "      <th>ZSBiasCurrent</th>\n",
       "      <th>CamBiasCurrent</th>\n",
       "      <th>VerticalBiasCurrent</th>\n",
       "      <th>ZSBiasVoltage</th>\n",
       "      <th>CamBiasVoltage</th>\n",
       "      <th>VerticalBiasVoltage</th>\n",
       "      <th>HighServo1</th>\n",
       "      <th>LowServo1</th>\n",
       "      <th>D1Time_ms</th>\n",
       "      <th>ODT_Position</th>\n",
       "    </tr>\n",
       "  </thead>\n",
       "  <tbody>\n",
       "    <tr>\n",
       "      <th>6</th>\n",
       "      <td>2023-09-29 14:42:38.060</td>\n",
       "      <td>Andor/ODT position 5</td>\n",
       "      <td>0.005941</td>\n",
       "      <td>0.000032</td>\n",
       "      <td>382163.016545</td>\n",
       "      <td>0.006425</td>\n",
       "      <td>1.780230e-04</td>\n",
       "      <td>44868.847209</td>\n",
       "      <td>5.0</td>\n",
       "      <td>10.0</td>\n",
       "      <td>...</td>\n",
       "      <td>6.0</td>\n",
       "      <td>0.0</td>\n",
       "      <td>0.0</td>\n",
       "      <td>1.440</td>\n",
       "      <td>0.322</td>\n",
       "      <td>0.377</td>\n",
       "      <td>2.2</td>\n",
       "      <td>0.0</td>\n",
       "      <td>1.5</td>\n",
       "      <td>5.0</td>\n",
       "    </tr>\n",
       "    <tr>\n",
       "      <th>7</th>\n",
       "      <td>2023-09-29 14:42:44.400</td>\n",
       "      <td>Andor/ODT position 5</td>\n",
       "      <td>0.005941</td>\n",
       "      <td>0.000035</td>\n",
       "      <td>667654.764206</td>\n",
       "      <td>0.006393</td>\n",
       "      <td>1.784179e-04</td>\n",
       "      <td>87323.446073</td>\n",
       "      <td>6.0</td>\n",
       "      <td>10.0</td>\n",
       "      <td>...</td>\n",
       "      <td>5.4</td>\n",
       "      <td>0.0</td>\n",
       "      <td>2.0</td>\n",
       "      <td>1.332</td>\n",
       "      <td>0.322</td>\n",
       "      <td>0.739</td>\n",
       "      <td>2.2</td>\n",
       "      <td>0.0</td>\n",
       "      <td>1.5</td>\n",
       "      <td>5.0</td>\n",
       "    </tr>\n",
       "    <tr>\n",
       "      <th>8</th>\n",
       "      <td>2023-09-29 14:42:50.940</td>\n",
       "      <td>Andor/ODT position 5</td>\n",
       "      <td>0.005942</td>\n",
       "      <td>0.000034</td>\n",
       "      <td>506448.536238</td>\n",
       "      <td>0.006398</td>\n",
       "      <td>1.829580e-04</td>\n",
       "      <td>91125.141089</td>\n",
       "      <td>7.0</td>\n",
       "      <td>10.0</td>\n",
       "      <td>...</td>\n",
       "      <td>5.0</td>\n",
       "      <td>0.0</td>\n",
       "      <td>3.0</td>\n",
       "      <td>1.260</td>\n",
       "      <td>0.322</td>\n",
       "      <td>0.920</td>\n",
       "      <td>2.2</td>\n",
       "      <td>0.0</td>\n",
       "      <td>1.5</td>\n",
       "      <td>5.0</td>\n",
       "    </tr>\n",
       "    <tr>\n",
       "      <th>9</th>\n",
       "      <td>2023-09-29 14:42:57.360</td>\n",
       "      <td>Andor/ODT position 5</td>\n",
       "      <td>0.005940</td>\n",
       "      <td>0.000034</td>\n",
       "      <td>253945.244974</td>\n",
       "      <td>0.004286</td>\n",
       "      <td>1.447648e-03</td>\n",
       "      <td>311621.166996</td>\n",
       "      <td>8.0</td>\n",
       "      <td>10.0</td>\n",
       "      <td>...</td>\n",
       "      <td>4.9</td>\n",
       "      <td>0.0</td>\n",
       "      <td>4.0</td>\n",
       "      <td>1.242</td>\n",
       "      <td>0.322</td>\n",
       "      <td>1.101</td>\n",
       "      <td>2.2</td>\n",
       "      <td>0.0</td>\n",
       "      <td>1.5</td>\n",
       "      <td>5.0</td>\n",
       "    </tr>\n",
       "    <tr>\n",
       "      <th>10</th>\n",
       "      <td>2023-09-29 14:43:03.700</td>\n",
       "      <td>Andor/ODT position 5</td>\n",
       "      <td>0.005940</td>\n",
       "      <td>0.000039</td>\n",
       "      <td>92345.898805</td>\n",
       "      <td>0.005278</td>\n",
       "      <td>4.554724e-07</td>\n",
       "      <td>34.018114</td>\n",
       "      <td>9.0</td>\n",
       "      <td>10.0</td>\n",
       "      <td>...</td>\n",
       "      <td>4.7</td>\n",
       "      <td>0.0</td>\n",
       "      <td>5.0</td>\n",
       "      <td>1.206</td>\n",
       "      <td>0.322</td>\n",
       "      <td>1.282</td>\n",
       "      <td>2.2</td>\n",
       "      <td>0.0</td>\n",
       "      <td>1.5</td>\n",
       "      <td>5.0</td>\n",
       "    </tr>\n",
       "    <tr>\n",
       "      <th>...</th>\n",
       "      <td>...</td>\n",
       "      <td>...</td>\n",
       "      <td>...</td>\n",
       "      <td>...</td>\n",
       "      <td>...</td>\n",
       "      <td>...</td>\n",
       "      <td>...</td>\n",
       "      <td>...</td>\n",
       "      <td>...</td>\n",
       "      <td>...</td>\n",
       "      <td>...</td>\n",
       "      <td>...</td>\n",
       "      <td>...</td>\n",
       "      <td>...</td>\n",
       "      <td>...</td>\n",
       "      <td>...</td>\n",
       "      <td>...</td>\n",
       "      <td>...</td>\n",
       "      <td>...</td>\n",
       "      <td>...</td>\n",
       "      <td>...</td>\n",
       "    </tr>\n",
       "    <tr>\n",
       "      <th>130</th>\n",
       "      <td>2023-09-29 15:51:52.120</td>\n",
       "      <td>Andor/ODT position 9</td>\n",
       "      <td>0.006624</td>\n",
       "      <td>0.000032</td>\n",
       "      <td>483184.929170</td>\n",
       "      <td>0.006293</td>\n",
       "      <td>1.760816e-04</td>\n",
       "      <td>112382.066963</td>\n",
       "      <td>19.0</td>\n",
       "      <td>30.0</td>\n",
       "      <td>...</td>\n",
       "      <td>4.7</td>\n",
       "      <td>0.0</td>\n",
       "      <td>5.0</td>\n",
       "      <td>1.206</td>\n",
       "      <td>0.322</td>\n",
       "      <td>1.282</td>\n",
       "      <td>2.2</td>\n",
       "      <td>0.0</td>\n",
       "      <td>1.5</td>\n",
       "      <td>9.0</td>\n",
       "    </tr>\n",
       "    <tr>\n",
       "      <th>137</th>\n",
       "      <td>2023-09-29 15:52:36.410</td>\n",
       "      <td>Andor/ODT position 9</td>\n",
       "      <td>0.006625</td>\n",
       "      <td>0.000022</td>\n",
       "      <td>20596.159677</td>\n",
       "      <td>-0.001687</td>\n",
       "      <td>4.083835e-03</td>\n",
       "      <td>94555.519187</td>\n",
       "      <td>26.0</td>\n",
       "      <td>30.0</td>\n",
       "      <td>...</td>\n",
       "      <td>5.4</td>\n",
       "      <td>0.0</td>\n",
       "      <td>2.0</td>\n",
       "      <td>1.332</td>\n",
       "      <td>0.322</td>\n",
       "      <td>0.739</td>\n",
       "      <td>2.2</td>\n",
       "      <td>0.0</td>\n",
       "      <td>1.5</td>\n",
       "      <td>9.0</td>\n",
       "    </tr>\n",
       "    <tr>\n",
       "      <th>138</th>\n",
       "      <td>2023-09-29 15:52:42.730</td>\n",
       "      <td>Andor/ODT position 9</td>\n",
       "      <td>0.006625</td>\n",
       "      <td>0.000029</td>\n",
       "      <td>39795.737906</td>\n",
       "      <td>0.011148</td>\n",
       "      <td>4.681665e-05</td>\n",
       "      <td>5496.461307</td>\n",
       "      <td>27.0</td>\n",
       "      <td>30.0</td>\n",
       "      <td>...</td>\n",
       "      <td>5.0</td>\n",
       "      <td>0.0</td>\n",
       "      <td>3.0</td>\n",
       "      <td>1.260</td>\n",
       "      <td>0.322</td>\n",
       "      <td>0.920</td>\n",
       "      <td>2.2</td>\n",
       "      <td>0.0</td>\n",
       "      <td>1.5</td>\n",
       "      <td>9.0</td>\n",
       "    </tr>\n",
       "    <tr>\n",
       "      <th>139</th>\n",
       "      <td>2023-09-29 15:52:49.070</td>\n",
       "      <td>Andor/ODT position 9</td>\n",
       "      <td>0.006623</td>\n",
       "      <td>0.000035</td>\n",
       "      <td>155893.462475</td>\n",
       "      <td>0.011454</td>\n",
       "      <td>2.059002e-04</td>\n",
       "      <td>19590.802186</td>\n",
       "      <td>28.0</td>\n",
       "      <td>30.0</td>\n",
       "      <td>...</td>\n",
       "      <td>4.9</td>\n",
       "      <td>0.0</td>\n",
       "      <td>4.0</td>\n",
       "      <td>1.242</td>\n",
       "      <td>0.322</td>\n",
       "      <td>1.101</td>\n",
       "      <td>2.2</td>\n",
       "      <td>0.0</td>\n",
       "      <td>1.5</td>\n",
       "      <td>9.0</td>\n",
       "    </tr>\n",
       "    <tr>\n",
       "      <th>140</th>\n",
       "      <td>2023-09-29 15:52:55.390</td>\n",
       "      <td>Andor/ODT position 9</td>\n",
       "      <td>0.006623</td>\n",
       "      <td>0.000035</td>\n",
       "      <td>536479.258102</td>\n",
       "      <td>0.006263</td>\n",
       "      <td>1.634071e-04</td>\n",
       "      <td>102915.601187</td>\n",
       "      <td>29.0</td>\n",
       "      <td>30.0</td>\n",
       "      <td>...</td>\n",
       "      <td>4.7</td>\n",
       "      <td>0.0</td>\n",
       "      <td>5.0</td>\n",
       "      <td>1.206</td>\n",
       "      <td>0.322</td>\n",
       "      <td>1.282</td>\n",
       "      <td>2.2</td>\n",
       "      <td>0.0</td>\n",
       "      <td>1.5</td>\n",
       "      <td>9.0</td>\n",
       "    </tr>\n",
       "  </tbody>\n",
       "</table>\n",
       "<p>62 rows × 33 columns</p>\n",
       "</div>"
      ],
      "text/plain": [
       "                        time                Folder   Ycenter    Ywidth  \\\n",
       "6    2023-09-29 14:42:38.060  Andor/ODT position 5  0.005941  0.000032   \n",
       "7    2023-09-29 14:42:44.400  Andor/ODT position 5  0.005941  0.000035   \n",
       "8    2023-09-29 14:42:50.940  Andor/ODT position 5  0.005942  0.000034   \n",
       "9    2023-09-29 14:42:57.360  Andor/ODT position 5  0.005940  0.000034   \n",
       "10   2023-09-29 14:43:03.700  Andor/ODT position 5  0.005940  0.000039   \n",
       "..                       ...                   ...       ...       ...   \n",
       "130  2023-09-29 15:51:52.120  Andor/ODT position 9  0.006624  0.000032   \n",
       "137  2023-09-29 15:52:36.410  Andor/ODT position 9  0.006625  0.000022   \n",
       "138  2023-09-29 15:52:42.730  Andor/ODT position 9  0.006625  0.000029   \n",
       "139  2023-09-29 15:52:49.070  Andor/ODT position 9  0.006623  0.000035   \n",
       "140  2023-09-29 15:52:55.390  Andor/ODT position 9  0.006623  0.000035   \n",
       "\n",
       "        AtomNumber   Xcenter        Xwidth    AtomNumberX  IterationNum  \\\n",
       "6    382163.016545  0.006425  1.780230e-04   44868.847209           5.0   \n",
       "7    667654.764206  0.006393  1.784179e-04   87323.446073           6.0   \n",
       "8    506448.536238  0.006398  1.829580e-04   91125.141089           7.0   \n",
       "9    253945.244974  0.004286  1.447648e-03  311621.166996           8.0   \n",
       "10    92345.898805  0.005278  4.554724e-07      34.018114           9.0   \n",
       "..             ...       ...           ...            ...           ...   \n",
       "130  483184.929170  0.006293  1.760816e-04  112382.066963          19.0   \n",
       "137   20596.159677 -0.001687  4.083835e-03   94555.519187          26.0   \n",
       "138   39795.737906  0.011148  4.681665e-05    5496.461307          27.0   \n",
       "139  155893.462475  0.011454  2.059002e-04   19590.802186          28.0   \n",
       "140  536479.258102  0.006263  1.634071e-04  102915.601187          29.0   \n",
       "\n",
       "     IterationCount  ...  ZSBiasCurrent  CamBiasCurrent  VerticalBiasCurrent  \\\n",
       "6              10.0  ...            6.0             0.0                  0.0   \n",
       "7              10.0  ...            5.4             0.0                  2.0   \n",
       "8              10.0  ...            5.0             0.0                  3.0   \n",
       "9              10.0  ...            4.9             0.0                  4.0   \n",
       "10             10.0  ...            4.7             0.0                  5.0   \n",
       "..              ...  ...            ...             ...                  ...   \n",
       "130            30.0  ...            4.7             0.0                  5.0   \n",
       "137            30.0  ...            5.4             0.0                  2.0   \n",
       "138            30.0  ...            5.0             0.0                  3.0   \n",
       "139            30.0  ...            4.9             0.0                  4.0   \n",
       "140            30.0  ...            4.7             0.0                  5.0   \n",
       "\n",
       "     ZSBiasVoltage  CamBiasVoltage  VerticalBiasVoltage  HighServo1  \\\n",
       "6            1.440           0.322                0.377         2.2   \n",
       "7            1.332           0.322                0.739         2.2   \n",
       "8            1.260           0.322                0.920         2.2   \n",
       "9            1.242           0.322                1.101         2.2   \n",
       "10           1.206           0.322                1.282         2.2   \n",
       "..             ...             ...                  ...         ...   \n",
       "130          1.206           0.322                1.282         2.2   \n",
       "137          1.332           0.322                0.739         2.2   \n",
       "138          1.260           0.322                0.920         2.2   \n",
       "139          1.242           0.322                1.101         2.2   \n",
       "140          1.206           0.322                1.282         2.2   \n",
       "\n",
       "     LowServo1  D1Time_ms  ODT_Position  \n",
       "6          0.0        1.5           5.0  \n",
       "7          0.0        1.5           5.0  \n",
       "8          0.0        1.5           5.0  \n",
       "9          0.0        1.5           5.0  \n",
       "10         0.0        1.5           5.0  \n",
       "..         ...        ...           ...  \n",
       "130        0.0        1.5           9.0  \n",
       "137        0.0        1.5           9.0  \n",
       "138        0.0        1.5           9.0  \n",
       "139        0.0        1.5           9.0  \n",
       "140        0.0        1.5           9.0  \n",
       "\n",
       "[62 rows x 33 columns]"
      ]
     },
     "execution_count": 46,
     "metadata": {},
     "output_type": "execute_result"
    }
   ],
   "source": [
    "path = 'Z:\\\\ats317group\\\\Data\\\\2023/09-2023/29 Sep 2023\\\\Data Folder 5-9.csv'\n",
    "PlotFromDataCSV(path, 'Ycenter', 'AtomNumber', filterlist=['Ywidth<0.00006', 'wait==30'], \n",
    "                iterateVariable='VerticalBiasCurrent', groupby='ODT_Position')"
   ]
  },
  {
   "cell_type": "code",
   "execution_count": 105,
   "id": "3d26c131",
   "metadata": {
    "scrolled": false
   },
   "outputs": [
    {
     "data": {
      "text/plain": [
       "[Text(0.5, 0, 'Ycenter'), Text(0, 0.5, 'AtomNumber')]"
      ]
     },
     "execution_count": 105,
     "metadata": {},
     "output_type": "execute_result"
    },
    {
     "data": {
      "image/png": "[encoded data removed]",
      "text/plain": [
       "<Figure size 1000x800 with 1 Axes>"
      ]
     },
     "metadata": {},
     "output_type": "display_data"
    }
   ],
   "source": [
    "fig, ax = plt.subplots(figsize=(10,8))\n",
    "\n",
    "for ii in (iterateVariable):\n",
    "        \n",
    "    if groupby:\n",
    "        dfSelect = dfwait30[ (dfwait30.VerticalBiasCurrent==ii) & (dfwait30.Ywidth < 0.00006) ][[xVariable, yVariable, groupby]]\n",
    "        dfmean = dfSelect.groupby(groupby).mean()\n",
    "        dfstd = dfSelect.groupby(groupby).std()\n",
    "        plt.errorbar( dfmean[xVariable], dfmean[yVariable], \n",
    "                     dfstd[yVariable], dfstd[xVariable], capsize=3, \n",
    "                     label = '{} = {}'.format(iterateVariableName, ii))\n",
    "    else:\n",
    "        dfSelect = dfwait30[ (dfwait30.VerticalBiasCurrent==ii) & (dfwait30.Ywidth < 0.00006) ][[xVariable, yVariable]]\n",
    "        plt.plot( dfSelect[xVariable], dfSelect[yVariable], '.', label = '{} = {}'.format(iterateVariableName, ii))\n",
    "    \n",
    "plt.legend()\n",
    "ax.set(xlabel=xVariable, ylabel=yVariable)"
   ]
  },
  {
   "cell_type": "code",
   "execution_count": null,
   "id": "f04b6b96",
   "metadata": {
    "scrolled": true
   },
   "outputs": [],
   "source": []
  },
  {
   "cell_type": "code",
   "execution_count": 27,
   "id": "1a310568",
   "metadata": {
    "scrolled": false
   },
   "outputs": [],
   "source": [
    "aa = np.arange(10).reshape(2,5)"
   ]
  },
  {
   "cell_type": "code",
   "execution_count": 41,
   "id": "5dd2c46d",
   "metadata": {
    "scrolled": false
   },
   "outputs": [
    {
     "data": {
      "text/plain": [
       "<matplotlib.collections.PathCollection at 0x20e985fecc0>"
      ]
     },
     "execution_count": 41,
     "metadata": {},
     "output_type": "execute_result"
    },
    {
     "data": {
      "image/png": "[encoded data removed]",
      "text/plain": [
       "<Figure size 432x288 with 1 Axes>"
      ]
     },
     "metadata": {
      "needs_background": "light"
     },
     "output_type": "display_data"
    }
   ],
   "source": [
    "plt.plot(aa[0], '.')\n",
    "plt.scatter(aa[0], aa[1]+1)\n",
    "plt.errorbar(aa[0], aa[1], aa[0])\n",
    "plt.scatter(aa[0], aa[1])"
   ]
  },
  {
   "cell_type": "code",
   "execution_count": null,
   "id": "8d1c1719",
   "metadata": {},
   "outputs": [],
   "source": []
  }
 ],
 "metadata": {
  "kernelspec": {
   "display_name": "Python 3 (ipykernel)",
   "language": "python",
   "name": "python3"
  },
  "language_info": {
   "codemirror_mode": {
    "name": "ipython",
    "version": 3
   },
   "file_extension": ".py",
   "mimetype": "text/x-python",
   "name": "python",
   "nbconvert_exporter": "python",
   "pygments_lexer": "ipython3",
   "version": "3.7.3"
  }
 },
 "nbformat": 4,
 "nbformat_minor": 5
}
