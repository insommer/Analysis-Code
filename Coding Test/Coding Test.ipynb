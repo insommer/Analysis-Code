{
 "cells": [
  {
   "cell_type": "code",
   "execution_count": 6,
   "id": "55b8577c",
   "metadata": {
    "execution": {
     "iopub.execute_input": "2025-02-14T00:02:26.507036Z",
     "iopub.status.busy": "2025-02-14T00:02:26.506108Z",
     "iopub.status.idle": "2025-02-14T00:02:26.834376Z",
     "shell.execute_reply": "2025-02-14T00:02:26.832357Z",
     "shell.execute_reply.started": "2025-02-14T00:02:26.506949Z"
    },
    "tags": []
   },
   "outputs": [
    {
     "name": "stdout",
     "output_type": "stream",
     "text": [
      "The autoreload extension is already loaded. To reload it, use:\n",
      "  %reload_ext autoreload\n"
     ]
    }
   ],
   "source": [
    "%load_ext autoreload"
   ]
  },
  {
   "cell_type": "code",
   "execution_count": 7,
   "id": "45220be2",
   "metadata": {
    "execution": {
     "iopub.execute_input": "2025-02-14T00:02:27.334194Z",
     "iopub.status.busy": "2025-02-14T00:02:27.332895Z",
     "iopub.status.idle": "2025-02-14T00:02:27.413224Z",
     "shell.execute_reply": "2025-02-14T00:02:27.410883Z",
     "shell.execute_reply.started": "2025-02-14T00:02:27.334120Z"
    },
    "tags": []
   },
   "outputs": [],
   "source": [
    "%autoreload 2"
   ]
  },
  {
   "cell_type": "code",
   "execution_count": 8,
   "id": "1c9b7992",
   "metadata": {
    "execution": {
     "iopub.execute_input": "2025-02-14T00:02:27.689765Z",
     "iopub.status.busy": "2025-02-14T00:02:27.689131Z",
     "iopub.status.idle": "2025-02-14T00:02:27.776677Z",
     "shell.execute_reply": "2025-02-14T00:02:27.774311Z",
     "shell.execute_reply.started": "2025-02-14T00:02:27.689709Z"
    },
    "tags": []
   },
   "outputs": [
    {
     "name": "stdout",
     "output_type": "stream",
     "text": [
      "/home/idies/workspace/Storage/lianmign/persistent/UCA_Coding_Test\n"
     ]
    }
   ],
   "source": [
    "cd .."
   ]
  },
  {
   "cell_type": "code",
   "execution_count": 9,
   "id": "a8b20030",
   "metadata": {
    "execution": {
     "iopub.execute_input": "2025-02-14T00:02:28.122328Z",
     "iopub.status.busy": "2025-02-14T00:02:28.121662Z",
     "iopub.status.idle": "2025-02-14T00:02:28.205951Z",
     "shell.execute_reply": "2025-02-14T00:02:28.203680Z",
     "shell.execute_reply.started": "2025-02-14T00:02:28.122271Z"
    },
    "tags": []
   },
   "outputs": [],
   "source": [
    "import sys\n",
    "# sys.path.append(r'C:\\Users\\Sommer Lab\\Documents\\Analysis Code')\n",
    "import os\n",
    "from scipy.optimize import curve_fit\n",
    "from scipy.ndimage import rotate\n",
    "from scipy.integrate import simpson\n",
    "\n",
    "import numpy as np\n",
    "import matplotlib.pyplot as plt\n",
    "import pandas as pd\n",
    "import datetime\n",
    "from ImageAnalysis import ImageAnalysisCode\n",
    "\n",
    "import glob\n"
   ]
  },
  {
   "cell_type": "code",
   "execution_count": 10,
   "id": "ce0d4a16",
   "metadata": {
    "execution": {
     "iopub.execute_input": "2025-02-14T00:02:28.589698Z",
     "iopub.status.busy": "2025-02-14T00:02:28.588940Z",
     "iopub.status.idle": "2025-02-14T00:02:28.686771Z",
     "shell.execute_reply": "2025-02-14T00:02:28.683756Z",
     "shell.execute_reply.started": "2025-02-14T00:02:28.589600Z"
    },
    "tags": []
   },
   "outputs": [
    {
     "data": {
      "text/plain": [
       "'/home/idies/workspace/Storage/lianmign/persistent/UCA_Coding_Test'"
      ]
     },
     "execution_count": 10,
     "metadata": {},
     "output_type": "execute_result"
    }
   ],
   "source": [
    "pwd"
   ]
  },
  {
   "cell_type": "markdown",
   "id": "c4868ca2-a43c-4381-b111-1233a7009d6b",
   "metadata": {
    "jp-MarkdownHeadingCollapsed": true,
    "tags": []
   },
   "source": [
    "### Creating Variable Logs and Pandas"
   ]
  },
  {
   "cell_type": "code",
   "execution_count": 6,
   "id": "170eab4a",
   "metadata": {},
   "outputs": [],
   "source": [
    "data_folder = r'Z:\\ats317group\\Data\\2023\\11-2023\\30 Nov 2023\\Variable Logs'"
   ]
  },
  {
   "cell_type": "code",
   "execution_count": 7,
   "id": "63a1cbee",
   "metadata": {},
   "outputs": [],
   "source": [
    "filenames = os.listdir(data_folder)"
   ]
  },
  {
   "cell_type": "code",
   "execution_count": 8,
   "id": "0c4e5618",
   "metadata": {},
   "outputs": [],
   "source": [
    "filenames.sort()"
   ]
  },
  {
   "cell_type": "code",
   "execution_count": null,
   "id": "386da08a",
   "metadata": {},
   "outputs": [],
   "source": []
  },
  {
   "cell_type": "code",
   "execution_count": 9,
   "id": "5be3507e",
   "metadata": {},
   "outputs": [],
   "source": [
    "parameter_list = []\n",
    "\n",
    "for filename in filenames:\n",
    "    parameter_dict = {}\n",
    "    parameter_dict['time'] = datetime.datetime.strptime(filename.rsplit('_', 1)[0],'Variables_%Y_%m_%d_%H_%M_%S')\n",
    "#     print(parameter_dict['time'])\n",
    "    with open( data_folder + '/' + filename) as f:\n",
    "        next(f)\n",
    "        for line in f:\n",
    "            key, val = line.strip().split(' = ')\n",
    "            parameter_dict[key.replace(' ', '_')] = float(val)\n",
    "            \n",
    "    parameter_list.append(parameter_dict)"
   ]
  },
  {
   "cell_type": "code",
   "execution_count": 10,
   "id": "16a8ce4f",
   "metadata": {},
   "outputs": [
    {
     "name": "stdout",
     "output_type": "stream",
     "text": [
      "2023-12-01 11:47:57\n"
     ]
    }
   ],
   "source": [
    "print(parameter_dict['time'])"
   ]
  },
  {
   "cell_type": "code",
   "execution_count": 11,
   "id": "f911c446",
   "metadata": {},
   "outputs": [
    {
     "data": {
      "text/plain": [
       "{'time': datetime.datetime(2023, 12, 1, 11, 47, 57),\n",
       " 'IterationNum': 0.0,\n",
       " 'IterationCount': 45.0,\n",
       " 'wait': 2.0,\n",
       " 'AndorROIheight': 512.0,\n",
       " 'AndorShortExpDelay_us': 2415.44,\n",
       " 'LFImg': 3.598,\n",
       " 'LF_AOM_freq': 226.0,\n",
       " 'time_compress': 5.0,\n",
       " 'MOT_Re_Attn_final_V': 2.5,\n",
       " 'TOF': 0.0,\n",
       " 'IR_1': 0.0,\n",
       " 'tmod_ms': 0.0,\n",
       " 'fmod_kHz': 0.0,\n",
       " 'cMOT_coil': 0.2,\n",
       " 'cMOT_dwell_ms': 0.1,\n",
       " 'ZSBiasCurrent': 6.0,\n",
       " 'CamBiasCurrent': 0.0,\n",
       " 'VerticalBiasCurrent': 1.5,\n",
       " 'ZSBiasVoltage': 1.44,\n",
       " 'CamBiasVoltage': 0.322,\n",
       " 'VerticalBiasVoltage': 0.6485,\n",
       " 'HighServo1': 2.3,\n",
       " 'LowServo1': 0.0,\n",
       " 'D1Time_ms': 1.5,\n",
       " 'ODT_Position': 1200.0,\n",
       " 'MOT_VCO': 5.5,\n",
       " 'LFImg_Atten': 4.0,\n",
       " 'cMOT_final_V': 7.5,\n",
       " 'D1_AOM_VCO': 9.15,\n",
       " 'D1_Re_Attn': 5.75,\n",
       " 'D1_AOM_Attn': 10.0,\n",
       " 'D1_Re_Attn_rampFinal': 5.75,\n",
       " 'HighServo2': 2.3,\n",
       " 'HighServo3': 2.3,\n",
       " 'HighServo0': -0.1,\n",
       " 'Coil_medB': -0.1,\n",
       " 'MedB_time': 20.0,\n",
       " 'IR_AOM_freq': 110.0,\n",
       " 'IR_AOM_VCO_V': 7.80068728522337,\n",
       " 'IRmodulate_ms': 7.0,\n",
       " 'modulate_freq': 30.0,\n",
       " 'Burnt_In': 1.0}"
      ]
     },
     "execution_count": 11,
     "metadata": {},
     "output_type": "execute_result"
    }
   ],
   "source": [
    "parameter_dict"
   ]
  },
  {
   "cell_type": "code",
   "execution_count": null,
   "id": "107424b6",
   "metadata": {},
   "outputs": [],
   "source": []
  },
  {
   "cell_type": "code",
   "execution_count": 12,
   "id": "f40467aa",
   "metadata": {},
   "outputs": [
    {
     "data": {
      "text/html": [
       "<div>\n",
       "<style scoped>\n",
       "    .dataframe tbody tr th:only-of-type {\n",
       "        vertical-align: middle;\n",
       "    }\n",
       "\n",
       "    .dataframe tbody tr th {\n",
       "        vertical-align: top;\n",
       "    }\n",
       "\n",
       "    .dataframe thead th {\n",
       "        text-align: right;\n",
       "    }\n",
       "</style>\n",
       "<table border=\"1\" class=\"dataframe\">\n",
       "  <thead>\n",
       "    <tr style=\"text-align: right;\">\n",
       "      <th></th>\n",
       "      <th>IterationNum</th>\n",
       "      <th>IterationCount</th>\n",
       "      <th>wait</th>\n",
       "      <th>AndorROIheight</th>\n",
       "      <th>AndorShortExpDelay_us</th>\n",
       "      <th>LFImg</th>\n",
       "      <th>LF_AOM_freq</th>\n",
       "      <th>time_compress</th>\n",
       "      <th>MOT_Re_Attn_final_V</th>\n",
       "      <th>TOF</th>\n",
       "      <th>...</th>\n",
       "      <th>HighServo2</th>\n",
       "      <th>HighServo3</th>\n",
       "      <th>HighServo0</th>\n",
       "      <th>Coil_medB</th>\n",
       "      <th>MedB_time</th>\n",
       "      <th>IR_AOM_freq</th>\n",
       "      <th>IR_AOM_VCO_V</th>\n",
       "      <th>IRmodulate_ms</th>\n",
       "      <th>modulate_freq</th>\n",
       "      <th>Burnt_In</th>\n",
       "    </tr>\n",
       "    <tr>\n",
       "      <th>time</th>\n",
       "      <th></th>\n",
       "      <th></th>\n",
       "      <th></th>\n",
       "      <th></th>\n",
       "      <th></th>\n",
       "      <th></th>\n",
       "      <th></th>\n",
       "      <th></th>\n",
       "      <th></th>\n",
       "      <th></th>\n",
       "      <th></th>\n",
       "      <th></th>\n",
       "      <th></th>\n",
       "      <th></th>\n",
       "      <th></th>\n",
       "      <th></th>\n",
       "      <th></th>\n",
       "      <th></th>\n",
       "      <th></th>\n",
       "      <th></th>\n",
       "      <th></th>\n",
       "    </tr>\n",
       "  </thead>\n",
       "  <tbody>\n",
       "    <tr>\n",
       "      <th>2023-11-30 11:33:19</th>\n",
       "      <td>0.0</td>\n",
       "      <td>20.0</td>\n",
       "      <td>30.0</td>\n",
       "      <td>512.0</td>\n",
       "      <td>2415.44</td>\n",
       "      <td>3.598</td>\n",
       "      <td>226.0</td>\n",
       "      <td>5.0</td>\n",
       "      <td>2.5</td>\n",
       "      <td>0.0</td>\n",
       "      <td>...</td>\n",
       "      <td>2.3</td>\n",
       "      <td>2.3</td>\n",
       "      <td>-0.1</td>\n",
       "      <td>-0.1</td>\n",
       "      <td>20.0</td>\n",
       "      <td>110.0</td>\n",
       "      <td>7.800687</td>\n",
       "      <td>7.0</td>\n",
       "      <td>20.0</td>\n",
       "      <td>NaN</td>\n",
       "    </tr>\n",
       "    <tr>\n",
       "      <th>2023-11-30 15:17:33</th>\n",
       "      <td>0.0</td>\n",
       "      <td>20.0</td>\n",
       "      <td>30.0</td>\n",
       "      <td>512.0</td>\n",
       "      <td>2415.44</td>\n",
       "      <td>3.598</td>\n",
       "      <td>226.0</td>\n",
       "      <td>5.0</td>\n",
       "      <td>2.5</td>\n",
       "      <td>0.0</td>\n",
       "      <td>...</td>\n",
       "      <td>2.3</td>\n",
       "      <td>2.3</td>\n",
       "      <td>-0.1</td>\n",
       "      <td>-0.1</td>\n",
       "      <td>20.0</td>\n",
       "      <td>110.0</td>\n",
       "      <td>7.800687</td>\n",
       "      <td>7.0</td>\n",
       "      <td>30.0</td>\n",
       "      <td>NaN</td>\n",
       "    </tr>\n",
       "    <tr>\n",
       "      <th>2023-11-30 15:18:58</th>\n",
       "      <td>0.0</td>\n",
       "      <td>1.0</td>\n",
       "      <td>30.0</td>\n",
       "      <td>512.0</td>\n",
       "      <td>2415.44</td>\n",
       "      <td>3.598</td>\n",
       "      <td>226.0</td>\n",
       "      <td>5.0</td>\n",
       "      <td>2.5</td>\n",
       "      <td>0.0</td>\n",
       "      <td>...</td>\n",
       "      <td>2.3</td>\n",
       "      <td>2.3</td>\n",
       "      <td>-0.1</td>\n",
       "      <td>-0.1</td>\n",
       "      <td>20.0</td>\n",
       "      <td>110.0</td>\n",
       "      <td>7.800687</td>\n",
       "      <td>7.0</td>\n",
       "      <td>30.0</td>\n",
       "      <td>NaN</td>\n",
       "    </tr>\n",
       "    <tr>\n",
       "      <th>2023-11-30 15:19:52</th>\n",
       "      <td>0.0</td>\n",
       "      <td>1.0</td>\n",
       "      <td>30.0</td>\n",
       "      <td>512.0</td>\n",
       "      <td>2415.44</td>\n",
       "      <td>3.598</td>\n",
       "      <td>226.0</td>\n",
       "      <td>5.0</td>\n",
       "      <td>2.5</td>\n",
       "      <td>0.0</td>\n",
       "      <td>...</td>\n",
       "      <td>2.3</td>\n",
       "      <td>2.3</td>\n",
       "      <td>-0.1</td>\n",
       "      <td>-0.1</td>\n",
       "      <td>20.0</td>\n",
       "      <td>110.0</td>\n",
       "      <td>7.800687</td>\n",
       "      <td>7.0</td>\n",
       "      <td>30.0</td>\n",
       "      <td>NaN</td>\n",
       "    </tr>\n",
       "    <tr>\n",
       "      <th>2023-11-30 15:31:09</th>\n",
       "      <td>0.0</td>\n",
       "      <td>25.0</td>\n",
       "      <td>30.0</td>\n",
       "      <td>512.0</td>\n",
       "      <td>2415.44</td>\n",
       "      <td>3.598</td>\n",
       "      <td>226.0</td>\n",
       "      <td>5.0</td>\n",
       "      <td>2.5</td>\n",
       "      <td>0.0</td>\n",
       "      <td>...</td>\n",
       "      <td>2.3</td>\n",
       "      <td>2.3</td>\n",
       "      <td>-0.1</td>\n",
       "      <td>-0.1</td>\n",
       "      <td>20.0</td>\n",
       "      <td>110.0</td>\n",
       "      <td>7.800687</td>\n",
       "      <td>7.0</td>\n",
       "      <td>30.0</td>\n",
       "      <td>0.0</td>\n",
       "    </tr>\n",
       "    <tr>\n",
       "      <th>...</th>\n",
       "      <td>...</td>\n",
       "      <td>...</td>\n",
       "      <td>...</td>\n",
       "      <td>...</td>\n",
       "      <td>...</td>\n",
       "      <td>...</td>\n",
       "      <td>...</td>\n",
       "      <td>...</td>\n",
       "      <td>...</td>\n",
       "      <td>...</td>\n",
       "      <td>...</td>\n",
       "      <td>...</td>\n",
       "      <td>...</td>\n",
       "      <td>...</td>\n",
       "      <td>...</td>\n",
       "      <td>...</td>\n",
       "      <td>...</td>\n",
       "      <td>...</td>\n",
       "      <td>...</td>\n",
       "      <td>...</td>\n",
       "      <td>...</td>\n",
       "    </tr>\n",
       "    <tr>\n",
       "      <th>2023-11-30 18:57:00</th>\n",
       "      <td>41.0</td>\n",
       "      <td>45.0</td>\n",
       "      <td>2.0</td>\n",
       "      <td>512.0</td>\n",
       "      <td>2415.44</td>\n",
       "      <td>3.598</td>\n",
       "      <td>226.0</td>\n",
       "      <td>5.0</td>\n",
       "      <td>2.5</td>\n",
       "      <td>0.0</td>\n",
       "      <td>...</td>\n",
       "      <td>2.3</td>\n",
       "      <td>2.3</td>\n",
       "      <td>-0.1</td>\n",
       "      <td>-0.1</td>\n",
       "      <td>20.0</td>\n",
       "      <td>110.0</td>\n",
       "      <td>7.800687</td>\n",
       "      <td>7.0</td>\n",
       "      <td>30.0</td>\n",
       "      <td>1.0</td>\n",
       "    </tr>\n",
       "    <tr>\n",
       "      <th>2023-11-30 18:57:12</th>\n",
       "      <td>42.0</td>\n",
       "      <td>45.0</td>\n",
       "      <td>2.0</td>\n",
       "      <td>512.0</td>\n",
       "      <td>2415.44</td>\n",
       "      <td>3.598</td>\n",
       "      <td>226.0</td>\n",
       "      <td>5.0</td>\n",
       "      <td>2.5</td>\n",
       "      <td>0.0</td>\n",
       "      <td>...</td>\n",
       "      <td>2.3</td>\n",
       "      <td>2.3</td>\n",
       "      <td>-0.1</td>\n",
       "      <td>-0.1</td>\n",
       "      <td>20.0</td>\n",
       "      <td>110.0</td>\n",
       "      <td>7.800687</td>\n",
       "      <td>7.0</td>\n",
       "      <td>30.0</td>\n",
       "      <td>1.0</td>\n",
       "    </tr>\n",
       "    <tr>\n",
       "      <th>2023-11-30 18:57:24</th>\n",
       "      <td>43.0</td>\n",
       "      <td>45.0</td>\n",
       "      <td>2.0</td>\n",
       "      <td>512.0</td>\n",
       "      <td>2415.44</td>\n",
       "      <td>3.598</td>\n",
       "      <td>226.0</td>\n",
       "      <td>5.0</td>\n",
       "      <td>2.5</td>\n",
       "      <td>0.0</td>\n",
       "      <td>...</td>\n",
       "      <td>2.3</td>\n",
       "      <td>2.3</td>\n",
       "      <td>-0.1</td>\n",
       "      <td>-0.1</td>\n",
       "      <td>20.0</td>\n",
       "      <td>110.0</td>\n",
       "      <td>7.800687</td>\n",
       "      <td>7.0</td>\n",
       "      <td>30.0</td>\n",
       "      <td>1.0</td>\n",
       "    </tr>\n",
       "    <tr>\n",
       "      <th>2023-11-30 18:57:35</th>\n",
       "      <td>44.0</td>\n",
       "      <td>45.0</td>\n",
       "      <td>2.0</td>\n",
       "      <td>512.0</td>\n",
       "      <td>2415.44</td>\n",
       "      <td>3.598</td>\n",
       "      <td>226.0</td>\n",
       "      <td>5.0</td>\n",
       "      <td>2.5</td>\n",
       "      <td>0.0</td>\n",
       "      <td>...</td>\n",
       "      <td>2.3</td>\n",
       "      <td>2.3</td>\n",
       "      <td>-0.1</td>\n",
       "      <td>-0.1</td>\n",
       "      <td>20.0</td>\n",
       "      <td>110.0</td>\n",
       "      <td>7.800687</td>\n",
       "      <td>7.0</td>\n",
       "      <td>30.0</td>\n",
       "      <td>1.0</td>\n",
       "    </tr>\n",
       "    <tr>\n",
       "      <th>2023-12-01 11:47:57</th>\n",
       "      <td>0.0</td>\n",
       "      <td>45.0</td>\n",
       "      <td>2.0</td>\n",
       "      <td>512.0</td>\n",
       "      <td>2415.44</td>\n",
       "      <td>3.598</td>\n",
       "      <td>226.0</td>\n",
       "      <td>5.0</td>\n",
       "      <td>2.5</td>\n",
       "      <td>0.0</td>\n",
       "      <td>...</td>\n",
       "      <td>2.3</td>\n",
       "      <td>2.3</td>\n",
       "      <td>-0.1</td>\n",
       "      <td>-0.1</td>\n",
       "      <td>20.0</td>\n",
       "      <td>110.0</td>\n",
       "      <td>7.800687</td>\n",
       "      <td>7.0</td>\n",
       "      <td>30.0</td>\n",
       "      <td>1.0</td>\n",
       "    </tr>\n",
       "  </tbody>\n",
       "</table>\n",
       "<p>420 rows × 42 columns</p>\n",
       "</div>"
      ],
      "text/plain": [
       "                     IterationNum  IterationCount  wait  AndorROIheight  \\\n",
       "time                                                                      \n",
       "2023-11-30 11:33:19           0.0            20.0  30.0           512.0   \n",
       "2023-11-30 15:17:33           0.0            20.0  30.0           512.0   \n",
       "2023-11-30 15:18:58           0.0             1.0  30.0           512.0   \n",
       "2023-11-30 15:19:52           0.0             1.0  30.0           512.0   \n",
       "2023-11-30 15:31:09           0.0            25.0  30.0           512.0   \n",
       "...                           ...             ...   ...             ...   \n",
       "2023-11-30 18:57:00          41.0            45.0   2.0           512.0   \n",
       "2023-11-30 18:57:12          42.0            45.0   2.0           512.0   \n",
       "2023-11-30 18:57:24          43.0            45.0   2.0           512.0   \n",
       "2023-11-30 18:57:35          44.0            45.0   2.0           512.0   \n",
       "2023-12-01 11:47:57           0.0            45.0   2.0           512.0   \n",
       "\n",
       "                     AndorShortExpDelay_us  LFImg  LF_AOM_freq  time_compress  \\\n",
       "time                                                                            \n",
       "2023-11-30 11:33:19                2415.44  3.598        226.0            5.0   \n",
       "2023-11-30 15:17:33                2415.44  3.598        226.0            5.0   \n",
       "2023-11-30 15:18:58                2415.44  3.598        226.0            5.0   \n",
       "2023-11-30 15:19:52                2415.44  3.598        226.0            5.0   \n",
       "2023-11-30 15:31:09                2415.44  3.598        226.0            5.0   \n",
       "...                                    ...    ...          ...            ...   \n",
       "2023-11-30 18:57:00                2415.44  3.598        226.0            5.0   \n",
       "2023-11-30 18:57:12                2415.44  3.598        226.0            5.0   \n",
       "2023-11-30 18:57:24                2415.44  3.598        226.0            5.0   \n",
       "2023-11-30 18:57:35                2415.44  3.598        226.0            5.0   \n",
       "2023-12-01 11:47:57                2415.44  3.598        226.0            5.0   \n",
       "\n",
       "                     MOT_Re_Attn_final_V  TOF  ...  HighServo2  HighServo3  \\\n",
       "time                                           ...                           \n",
       "2023-11-30 11:33:19                  2.5  0.0  ...         2.3         2.3   \n",
       "2023-11-30 15:17:33                  2.5  0.0  ...         2.3         2.3   \n",
       "2023-11-30 15:18:58                  2.5  0.0  ...         2.3         2.3   \n",
       "2023-11-30 15:19:52                  2.5  0.0  ...         2.3         2.3   \n",
       "2023-11-30 15:31:09                  2.5  0.0  ...         2.3         2.3   \n",
       "...                                  ...  ...  ...         ...         ...   \n",
       "2023-11-30 18:57:00                  2.5  0.0  ...         2.3         2.3   \n",
       "2023-11-30 18:57:12                  2.5  0.0  ...         2.3         2.3   \n",
       "2023-11-30 18:57:24                  2.5  0.0  ...         2.3         2.3   \n",
       "2023-11-30 18:57:35                  2.5  0.0  ...         2.3         2.3   \n",
       "2023-12-01 11:47:57                  2.5  0.0  ...         2.3         2.3   \n",
       "\n",
       "                     HighServo0  Coil_medB  MedB_time  IR_AOM_freq  \\\n",
       "time                                                                 \n",
       "2023-11-30 11:33:19        -0.1       -0.1       20.0        110.0   \n",
       "2023-11-30 15:17:33        -0.1       -0.1       20.0        110.0   \n",
       "2023-11-30 15:18:58        -0.1       -0.1       20.0        110.0   \n",
       "2023-11-30 15:19:52        -0.1       -0.1       20.0        110.0   \n",
       "2023-11-30 15:31:09        -0.1       -0.1       20.0        110.0   \n",
       "...                         ...        ...        ...          ...   \n",
       "2023-11-30 18:57:00        -0.1       -0.1       20.0        110.0   \n",
       "2023-11-30 18:57:12        -0.1       -0.1       20.0        110.0   \n",
       "2023-11-30 18:57:24        -0.1       -0.1       20.0        110.0   \n",
       "2023-11-30 18:57:35        -0.1       -0.1       20.0        110.0   \n",
       "2023-12-01 11:47:57        -0.1       -0.1       20.0        110.0   \n",
       "\n",
       "                     IR_AOM_VCO_V  IRmodulate_ms  modulate_freq  Burnt_In  \n",
       "time                                                                       \n",
       "2023-11-30 11:33:19      7.800687            7.0           20.0       NaN  \n",
       "2023-11-30 15:17:33      7.800687            7.0           30.0       NaN  \n",
       "2023-11-30 15:18:58      7.800687            7.0           30.0       NaN  \n",
       "2023-11-30 15:19:52      7.800687            7.0           30.0       NaN  \n",
       "2023-11-30 15:31:09      7.800687            7.0           30.0       0.0  \n",
       "...                           ...            ...            ...       ...  \n",
       "2023-11-30 18:57:00      7.800687            7.0           30.0       1.0  \n",
       "2023-11-30 18:57:12      7.800687            7.0           30.0       1.0  \n",
       "2023-11-30 18:57:24      7.800687            7.0           30.0       1.0  \n",
       "2023-11-30 18:57:35      7.800687            7.0           30.0       1.0  \n",
       "2023-12-01 11:47:57      7.800687            7.0           30.0       1.0  \n",
       "\n",
       "[420 rows x 42 columns]"
      ]
     },
     "execution_count": 12,
     "metadata": {},
     "output_type": "execute_result"
    }
   ],
   "source": [
    "df = pd.DataFrame(parameter_list).set_index('time')\n",
    "df"
   ]
  },
  {
   "cell_type": "code",
   "execution_count": null,
   "id": "97073a47",
   "metadata": {},
   "outputs": [],
   "source": []
  },
  {
   "cell_type": "code",
   "execution_count": 13,
   "id": "de9b533d",
   "metadata": {},
   "outputs": [
    {
     "data": {
      "text/html": [
       "<div>\n",
       "<style scoped>\n",
       "    .dataframe tbody tr th:only-of-type {\n",
       "        vertical-align: middle;\n",
       "    }\n",
       "\n",
       "    .dataframe tbody tr th {\n",
       "        vertical-align: top;\n",
       "    }\n",
       "\n",
       "    .dataframe thead th {\n",
       "        text-align: right;\n",
       "    }\n",
       "</style>\n",
       "<table border=\"1\" class=\"dataframe\">\n",
       "  <thead>\n",
       "    <tr style=\"text-align: right;\">\n",
       "      <th></th>\n",
       "      <th>IterationNum</th>\n",
       "      <th>wait</th>\n",
       "      <th>VerticalBiasVoltage</th>\n",
       "    </tr>\n",
       "    <tr>\n",
       "      <th>time</th>\n",
       "      <th></th>\n",
       "      <th></th>\n",
       "      <th></th>\n",
       "    </tr>\n",
       "  </thead>\n",
       "  <tbody>\n",
       "    <tr>\n",
       "      <th>2023-11-30 11:33:19</th>\n",
       "      <td>0.0</td>\n",
       "      <td>30.0</td>\n",
       "      <td>0.377</td>\n",
       "    </tr>\n",
       "    <tr>\n",
       "      <th>2023-11-30 15:17:33</th>\n",
       "      <td>0.0</td>\n",
       "      <td>30.0</td>\n",
       "      <td>0.377</td>\n",
       "    </tr>\n",
       "    <tr>\n",
       "      <th>2023-11-30 15:18:58</th>\n",
       "      <td>0.0</td>\n",
       "      <td>30.0</td>\n",
       "      <td>0.377</td>\n",
       "    </tr>\n",
       "    <tr>\n",
       "      <th>2023-11-30 15:19:52</th>\n",
       "      <td>0.0</td>\n",
       "      <td>30.0</td>\n",
       "      <td>0.920</td>\n",
       "    </tr>\n",
       "    <tr>\n",
       "      <th>2023-11-30 15:31:09</th>\n",
       "      <td>0.0</td>\n",
       "      <td>30.0</td>\n",
       "      <td>0.739</td>\n",
       "    </tr>\n",
       "  </tbody>\n",
       "</table>\n",
       "</div>"
      ],
      "text/plain": [
       "                     IterationNum  wait  VerticalBiasVoltage\n",
       "time                                                        \n",
       "2023-11-30 11:33:19           0.0  30.0                0.377\n",
       "2023-11-30 15:17:33           0.0  30.0                0.377\n",
       "2023-11-30 15:18:58           0.0  30.0                0.377\n",
       "2023-11-30 15:19:52           0.0  30.0                0.920\n",
       "2023-11-30 15:31:09           0.0  30.0                0.739"
      ]
     },
     "execution_count": 13,
     "metadata": {},
     "output_type": "execute_result"
    }
   ],
   "source": [
    "aa = df.head()[['IterationNum', 'wait', 'VerticalBiasVoltage']]\n",
    "aa"
   ]
  },
  {
   "cell_type": "code",
   "execution_count": null,
   "id": "87f8abec-e8dc-441a-810d-618ee6ef2cb2",
   "metadata": {},
   "outputs": [],
   "source": []
  },
  {
   "cell_type": "code",
   "execution_count": 12,
   "id": "fd76b6bf",
   "metadata": {},
   "outputs": [
    {
     "data": {
      "text/html": [
       "<div>\n",
       "<style scoped>\n",
       "    .dataframe tbody tr th:only-of-type {\n",
       "        vertical-align: middle;\n",
       "    }\n",
       "\n",
       "    .dataframe tbody tr th {\n",
       "        vertical-align: top;\n",
       "    }\n",
       "\n",
       "    .dataframe thead th {\n",
       "        text-align: right;\n",
       "    }\n",
       "</style>\n",
       "<table border=\"1\" class=\"dataframe\">\n",
       "  <thead>\n",
       "    <tr style=\"text-align: right;\">\n",
       "      <th></th>\n",
       "      <th>IterationNum</th>\n",
       "      <th>wait</th>\n",
       "      <th>VerticalBiasCurrent</th>\n",
       "      <th>Burnt_In</th>\n",
       "    </tr>\n",
       "    <tr>\n",
       "      <th>time</th>\n",
       "      <th></th>\n",
       "      <th></th>\n",
       "      <th></th>\n",
       "      <th></th>\n",
       "    </tr>\n",
       "  </thead>\n",
       "  <tbody>\n",
       "    <tr>\n",
       "      <th>2023-11-30 11:33:19</th>\n",
       "      <td>0.0</td>\n",
       "      <td>30.0</td>\n",
       "      <td>0.0</td>\n",
       "      <td>NaN</td>\n",
       "    </tr>\n",
       "    <tr>\n",
       "      <th>2023-11-30 15:17:33</th>\n",
       "      <td>0.0</td>\n",
       "      <td>30.0</td>\n",
       "      <td>0.0</td>\n",
       "      <td>NaN</td>\n",
       "    </tr>\n",
       "    <tr>\n",
       "      <th>2023-11-30 15:18:58</th>\n",
       "      <td>0.0</td>\n",
       "      <td>30.0</td>\n",
       "      <td>0.0</td>\n",
       "      <td>NaN</td>\n",
       "    </tr>\n",
       "    <tr>\n",
       "      <th>2023-11-30 15:19:52</th>\n",
       "      <td>0.0</td>\n",
       "      <td>30.0</td>\n",
       "      <td>3.0</td>\n",
       "      <td>NaN</td>\n",
       "    </tr>\n",
       "    <tr>\n",
       "      <th>2023-11-30 15:31:09</th>\n",
       "      <td>0.0</td>\n",
       "      <td>30.0</td>\n",
       "      <td>2.0</td>\n",
       "      <td>0.0</td>\n",
       "    </tr>\n",
       "    <tr>\n",
       "      <th>2023-11-30 15:31:15</th>\n",
       "      <td>1.0</td>\n",
       "      <td>30.0</td>\n",
       "      <td>2.5</td>\n",
       "      <td>0.0</td>\n",
       "    </tr>\n",
       "    <tr>\n",
       "      <th>2023-11-30 15:31:22</th>\n",
       "      <td>2.0</td>\n",
       "      <td>30.0</td>\n",
       "      <td>3.0</td>\n",
       "      <td>0.0</td>\n",
       "    </tr>\n",
       "    <tr>\n",
       "      <th>2023-11-30 15:31:28</th>\n",
       "      <td>3.0</td>\n",
       "      <td>30.0</td>\n",
       "      <td>3.5</td>\n",
       "      <td>0.0</td>\n",
       "    </tr>\n",
       "    <tr>\n",
       "      <th>2023-11-30 15:31:34</th>\n",
       "      <td>4.0</td>\n",
       "      <td>30.0</td>\n",
       "      <td>4.0</td>\n",
       "      <td>0.0</td>\n",
       "    </tr>\n",
       "    <tr>\n",
       "      <th>2023-11-30 15:31:40</th>\n",
       "      <td>5.0</td>\n",
       "      <td>30.0</td>\n",
       "      <td>2.0</td>\n",
       "      <td>0.0</td>\n",
       "    </tr>\n",
       "    <tr>\n",
       "      <th>2023-11-30 15:31:47</th>\n",
       "      <td>6.0</td>\n",
       "      <td>30.0</td>\n",
       "      <td>2.5</td>\n",
       "      <td>0.0</td>\n",
       "    </tr>\n",
       "    <tr>\n",
       "      <th>2023-11-30 15:31:53</th>\n",
       "      <td>7.0</td>\n",
       "      <td>30.0</td>\n",
       "      <td>3.0</td>\n",
       "      <td>0.0</td>\n",
       "    </tr>\n",
       "    <tr>\n",
       "      <th>2023-11-30 15:31:59</th>\n",
       "      <td>8.0</td>\n",
       "      <td>30.0</td>\n",
       "      <td>3.5</td>\n",
       "      <td>0.0</td>\n",
       "    </tr>\n",
       "    <tr>\n",
       "      <th>2023-11-30 15:32:05</th>\n",
       "      <td>9.0</td>\n",
       "      <td>30.0</td>\n",
       "      <td>4.0</td>\n",
       "      <td>0.0</td>\n",
       "    </tr>\n",
       "  </tbody>\n",
       "</table>\n",
       "</div>"
      ],
      "text/plain": [
       "                     IterationNum  wait  VerticalBiasCurrent  Burnt_In\n",
       "time                                                                  \n",
       "2023-11-30 11:33:19           0.0  30.0                  0.0       NaN\n",
       "2023-11-30 15:17:33           0.0  30.0                  0.0       NaN\n",
       "2023-11-30 15:18:58           0.0  30.0                  0.0       NaN\n",
       "2023-11-30 15:19:52           0.0  30.0                  3.0       NaN\n",
       "2023-11-30 15:31:09           0.0  30.0                  2.0       0.0\n",
       "2023-11-30 15:31:15           1.0  30.0                  2.5       0.0\n",
       "2023-11-30 15:31:22           2.0  30.0                  3.0       0.0\n",
       "2023-11-30 15:31:28           3.0  30.0                  3.5       0.0\n",
       "2023-11-30 15:31:34           4.0  30.0                  4.0       0.0\n",
       "2023-11-30 15:31:40           5.0  30.0                  2.0       0.0\n",
       "2023-11-30 15:31:47           6.0  30.0                  2.5       0.0\n",
       "2023-11-30 15:31:53           7.0  30.0                  3.0       0.0\n",
       "2023-11-30 15:31:59           8.0  30.0                  3.5       0.0\n",
       "2023-11-30 15:32:05           9.0  30.0                  4.0       0.0"
      ]
     },
     "execution_count": 12,
     "metadata": {},
     "output_type": "execute_result"
    }
   ],
   "source": [
    "bb = df.iloc[0:14][['IterationNum', 'wait', 'VerticalBiasCurrent', 'Burnt_In']]\n",
    "bb"
   ]
  },
  {
   "cell_type": "code",
   "execution_count": 18,
   "id": "5989f8c5",
   "metadata": {},
   "outputs": [
    {
     "data": {
      "text/html": [
       "<div>\n",
       "<style scoped>\n",
       "    .dataframe tbody tr th:only-of-type {\n",
       "        vertical-align: middle;\n",
       "    }\n",
       "\n",
       "    .dataframe tbody tr th {\n",
       "        vertical-align: top;\n",
       "    }\n",
       "\n",
       "    .dataframe thead th {\n",
       "        text-align: right;\n",
       "    }\n",
       "</style>\n",
       "<table border=\"1\" class=\"dataframe\">\n",
       "  <thead>\n",
       "    <tr style=\"text-align: right;\">\n",
       "      <th></th>\n",
       "      <th></th>\n",
       "      <th>wait</th>\n",
       "      <th>Burnt_In</th>\n",
       "    </tr>\n",
       "    <tr>\n",
       "      <th>IterationNum</th>\n",
       "      <th>VerticalBiasCurrent</th>\n",
       "      <th></th>\n",
       "      <th></th>\n",
       "    </tr>\n",
       "  </thead>\n",
       "  <tbody>\n",
       "    <tr>\n",
       "      <th rowspan=\"3\" valign=\"top\">0.0</th>\n",
       "      <th>0.0</th>\n",
       "      <td>30.0</td>\n",
       "      <td>NaN</td>\n",
       "    </tr>\n",
       "    <tr>\n",
       "      <th>2.0</th>\n",
       "      <td>30.0</td>\n",
       "      <td>0.0</td>\n",
       "    </tr>\n",
       "    <tr>\n",
       "      <th>3.0</th>\n",
       "      <td>30.0</td>\n",
       "      <td>NaN</td>\n",
       "    </tr>\n",
       "    <tr>\n",
       "      <th>1.0</th>\n",
       "      <th>2.5</th>\n",
       "      <td>30.0</td>\n",
       "      <td>0.0</td>\n",
       "    </tr>\n",
       "    <tr>\n",
       "      <th>2.0</th>\n",
       "      <th>3.0</th>\n",
       "      <td>30.0</td>\n",
       "      <td>0.0</td>\n",
       "    </tr>\n",
       "    <tr>\n",
       "      <th>3.0</th>\n",
       "      <th>3.5</th>\n",
       "      <td>30.0</td>\n",
       "      <td>0.0</td>\n",
       "    </tr>\n",
       "    <tr>\n",
       "      <th>4.0</th>\n",
       "      <th>4.0</th>\n",
       "      <td>30.0</td>\n",
       "      <td>0.0</td>\n",
       "    </tr>\n",
       "    <tr>\n",
       "      <th>5.0</th>\n",
       "      <th>2.0</th>\n",
       "      <td>30.0</td>\n",
       "      <td>0.0</td>\n",
       "    </tr>\n",
       "    <tr>\n",
       "      <th>6.0</th>\n",
       "      <th>2.5</th>\n",
       "      <td>30.0</td>\n",
       "      <td>0.0</td>\n",
       "    </tr>\n",
       "    <tr>\n",
       "      <th>7.0</th>\n",
       "      <th>3.0</th>\n",
       "      <td>30.0</td>\n",
       "      <td>0.0</td>\n",
       "    </tr>\n",
       "    <tr>\n",
       "      <th>8.0</th>\n",
       "      <th>3.5</th>\n",
       "      <td>30.0</td>\n",
       "      <td>0.0</td>\n",
       "    </tr>\n",
       "    <tr>\n",
       "      <th>9.0</th>\n",
       "      <th>4.0</th>\n",
       "      <td>30.0</td>\n",
       "      <td>0.0</td>\n",
       "    </tr>\n",
       "  </tbody>\n",
       "</table>\n",
       "</div>"
      ],
      "text/plain": [
       "                                  wait  Burnt_In\n",
       "IterationNum VerticalBiasCurrent                \n",
       "0.0          0.0                  30.0       NaN\n",
       "             2.0                  30.0       0.0\n",
       "             3.0                  30.0       NaN\n",
       "1.0          2.5                  30.0       0.0\n",
       "2.0          3.0                  30.0       0.0\n",
       "3.0          3.5                  30.0       0.0\n",
       "4.0          4.0                  30.0       0.0\n",
       "5.0          2.0                  30.0       0.0\n",
       "6.0          2.5                  30.0       0.0\n",
       "7.0          3.0                  30.0       0.0\n",
       "8.0          3.5                  30.0       0.0\n",
       "9.0          4.0                  30.0       0.0"
      ]
     },
     "execution_count": 18,
     "metadata": {},
     "output_type": "execute_result"
    }
   ],
   "source": [
    "bb.groupby(['IterationNum', 'VerticalBiasCurrent']).mean()"
   ]
  },
  {
   "cell_type": "code",
   "execution_count": 20,
   "id": "b287e01b",
   "metadata": {
    "scrolled": true
   },
   "outputs": [
    {
     "data": {
      "text/html": [
       "<div>\n",
       "<style scoped>\n",
       "    .dataframe tbody tr th:only-of-type {\n",
       "        vertical-align: middle;\n",
       "    }\n",
       "\n",
       "    .dataframe tbody tr th {\n",
       "        vertical-align: top;\n",
       "    }\n",
       "\n",
       "    .dataframe thead th {\n",
       "        text-align: right;\n",
       "    }\n",
       "</style>\n",
       "<table border=\"1\" class=\"dataframe\">\n",
       "  <thead>\n",
       "    <tr style=\"text-align: right;\">\n",
       "      <th>VerticalBiasCurrent</th>\n",
       "      <th>0.0</th>\n",
       "      <th>2.0</th>\n",
       "      <th>2.5</th>\n",
       "      <th>3.0</th>\n",
       "      <th>3.5</th>\n",
       "      <th>4.0</th>\n",
       "    </tr>\n",
       "    <tr>\n",
       "      <th>IterationNum</th>\n",
       "      <th></th>\n",
       "      <th></th>\n",
       "      <th></th>\n",
       "      <th></th>\n",
       "      <th></th>\n",
       "      <th></th>\n",
       "    </tr>\n",
       "  </thead>\n",
       "  <tbody>\n",
       "    <tr>\n",
       "      <th>0.0</th>\n",
       "      <td>30.0</td>\n",
       "      <td>30.0</td>\n",
       "      <td>NaN</td>\n",
       "      <td>30.0</td>\n",
       "      <td>NaN</td>\n",
       "      <td>NaN</td>\n",
       "    </tr>\n",
       "    <tr>\n",
       "      <th>1.0</th>\n",
       "      <td>NaN</td>\n",
       "      <td>NaN</td>\n",
       "      <td>30.0</td>\n",
       "      <td>NaN</td>\n",
       "      <td>NaN</td>\n",
       "      <td>NaN</td>\n",
       "    </tr>\n",
       "    <tr>\n",
       "      <th>2.0</th>\n",
       "      <td>NaN</td>\n",
       "      <td>NaN</td>\n",
       "      <td>NaN</td>\n",
       "      <td>30.0</td>\n",
       "      <td>NaN</td>\n",
       "      <td>NaN</td>\n",
       "    </tr>\n",
       "    <tr>\n",
       "      <th>3.0</th>\n",
       "      <td>NaN</td>\n",
       "      <td>NaN</td>\n",
       "      <td>NaN</td>\n",
       "      <td>NaN</td>\n",
       "      <td>30.0</td>\n",
       "      <td>NaN</td>\n",
       "    </tr>\n",
       "    <tr>\n",
       "      <th>4.0</th>\n",
       "      <td>NaN</td>\n",
       "      <td>NaN</td>\n",
       "      <td>NaN</td>\n",
       "      <td>NaN</td>\n",
       "      <td>NaN</td>\n",
       "      <td>30.0</td>\n",
       "    </tr>\n",
       "    <tr>\n",
       "      <th>5.0</th>\n",
       "      <td>NaN</td>\n",
       "      <td>30.0</td>\n",
       "      <td>NaN</td>\n",
       "      <td>NaN</td>\n",
       "      <td>NaN</td>\n",
       "      <td>NaN</td>\n",
       "    </tr>\n",
       "    <tr>\n",
       "      <th>6.0</th>\n",
       "      <td>NaN</td>\n",
       "      <td>NaN</td>\n",
       "      <td>30.0</td>\n",
       "      <td>NaN</td>\n",
       "      <td>NaN</td>\n",
       "      <td>NaN</td>\n",
       "    </tr>\n",
       "    <tr>\n",
       "      <th>7.0</th>\n",
       "      <td>NaN</td>\n",
       "      <td>NaN</td>\n",
       "      <td>NaN</td>\n",
       "      <td>30.0</td>\n",
       "      <td>NaN</td>\n",
       "      <td>NaN</td>\n",
       "    </tr>\n",
       "    <tr>\n",
       "      <th>8.0</th>\n",
       "      <td>NaN</td>\n",
       "      <td>NaN</td>\n",
       "      <td>NaN</td>\n",
       "      <td>NaN</td>\n",
       "      <td>30.0</td>\n",
       "      <td>NaN</td>\n",
       "    </tr>\n",
       "    <tr>\n",
       "      <th>9.0</th>\n",
       "      <td>NaN</td>\n",
       "      <td>NaN</td>\n",
       "      <td>NaN</td>\n",
       "      <td>NaN</td>\n",
       "      <td>NaN</td>\n",
       "      <td>30.0</td>\n",
       "    </tr>\n",
       "  </tbody>\n",
       "</table>\n",
       "</div>"
      ],
      "text/plain": [
       "VerticalBiasCurrent   0.0   2.0   2.5   3.0   3.5   4.0\n",
       "IterationNum                                           \n",
       "0.0                  30.0  30.0   NaN  30.0   NaN   NaN\n",
       "1.0                   NaN   NaN  30.0   NaN   NaN   NaN\n",
       "2.0                   NaN   NaN   NaN  30.0   NaN   NaN\n",
       "3.0                   NaN   NaN   NaN   NaN  30.0   NaN\n",
       "4.0                   NaN   NaN   NaN   NaN   NaN  30.0\n",
       "5.0                   NaN  30.0   NaN   NaN   NaN   NaN\n",
       "6.0                   NaN   NaN  30.0   NaN   NaN   NaN\n",
       "7.0                   NaN   NaN   NaN  30.0   NaN   NaN\n",
       "8.0                   NaN   NaN   NaN   NaN  30.0   NaN\n",
       "9.0                   NaN   NaN   NaN   NaN   NaN  30.0"
      ]
     },
     "execution_count": 20,
     "metadata": {},
     "output_type": "execute_result"
    }
   ],
   "source": [
    "cc = bb.groupby(['IterationNum', 'VerticalBiasCurrent']).mean().wait.unstack()\n",
    "cc"
   ]
  },
  {
   "cell_type": "code",
   "execution_count": 21,
   "id": "29bb003d",
   "metadata": {},
   "outputs": [
    {
     "data": {
      "text/plain": [
       "Float64Index([0.0, 1.0, 2.0, 3.0, 4.0, 5.0, 6.0, 7.0, 8.0, 9.0], dtype='float64', name='IterationNum')"
      ]
     },
     "execution_count": 21,
     "metadata": {},
     "output_type": "execute_result"
    }
   ],
   "source": [
    "cc.index"
   ]
  },
  {
   "cell_type": "code",
   "execution_count": 26,
   "id": "89243fd1",
   "metadata": {},
   "outputs": [
    {
     "data": {
      "text/plain": [
       "array([0. , 2. , 2.5, 3. , 3.5, 4. ])"
      ]
     },
     "execution_count": 26,
     "metadata": {},
     "output_type": "execute_result"
    }
   ],
   "source": [
    "cc.columns.values"
   ]
  },
  {
   "cell_type": "code",
   "execution_count": 25,
   "id": "5eef5232",
   "metadata": {},
   "outputs": [
    {
     "data": {
      "text/plain": [
       "array([[30., 30., nan, 30., nan, nan],\n",
       "       [nan, nan, 30., nan, nan, nan],\n",
       "       [nan, nan, nan, 30., nan, nan],\n",
       "       [nan, nan, nan, nan, 30., nan],\n",
       "       [nan, nan, nan, nan, nan, 30.],\n",
       "       [nan, 30., nan, nan, nan, nan],\n",
       "       [nan, nan, 30., nan, nan, nan],\n",
       "       [nan, nan, nan, 30., nan, nan],\n",
       "       [nan, nan, nan, nan, 30., nan],\n",
       "       [nan, nan, nan, nan, nan, 30.]])"
      ]
     },
     "execution_count": 25,
     "metadata": {},
     "output_type": "execute_result"
    }
   ],
   "source": [
    "cc.values"
   ]
  },
  {
   "cell_type": "code",
   "execution_count": null,
   "id": "fc39c4cf",
   "metadata": {},
   "outputs": [],
   "source": []
  },
  {
   "cell_type": "code",
   "execution_count": 38,
   "id": "2f605a73",
   "metadata": {},
   "outputs": [
    {
     "data": {
      "text/html": [
       "<div>\n",
       "<style scoped>\n",
       "    .dataframe tbody tr th:only-of-type {\n",
       "        vertical-align: middle;\n",
       "    }\n",
       "\n",
       "    .dataframe tbody tr th {\n",
       "        vertical-align: top;\n",
       "    }\n",
       "\n",
       "    .dataframe thead th {\n",
       "        text-align: right;\n",
       "    }\n",
       "</style>\n",
       "<table border=\"1\" class=\"dataframe\">\n",
       "  <thead>\n",
       "    <tr style=\"text-align: right;\">\n",
       "      <th></th>\n",
       "      <th>wait</th>\n",
       "      <th>VerticalBiasCurrent</th>\n",
       "      <th>Burnt_In</th>\n",
       "    </tr>\n",
       "    <tr>\n",
       "      <th>IterationNum</th>\n",
       "      <th></th>\n",
       "      <th></th>\n",
       "      <th></th>\n",
       "    </tr>\n",
       "  </thead>\n",
       "  <tbody>\n",
       "    <tr>\n",
       "      <th>0.0</th>\n",
       "      <td>30.0</td>\n",
       "      <td>1.0</td>\n",
       "      <td>0.0</td>\n",
       "    </tr>\n",
       "    <tr>\n",
       "      <th>1.0</th>\n",
       "      <td>30.0</td>\n",
       "      <td>2.5</td>\n",
       "      <td>0.0</td>\n",
       "    </tr>\n",
       "    <tr>\n",
       "      <th>2.0</th>\n",
       "      <td>30.0</td>\n",
       "      <td>3.0</td>\n",
       "      <td>0.0</td>\n",
       "    </tr>\n",
       "    <tr>\n",
       "      <th>3.0</th>\n",
       "      <td>30.0</td>\n",
       "      <td>3.5</td>\n",
       "      <td>0.0</td>\n",
       "    </tr>\n",
       "    <tr>\n",
       "      <th>4.0</th>\n",
       "      <td>30.0</td>\n",
       "      <td>4.0</td>\n",
       "      <td>0.0</td>\n",
       "    </tr>\n",
       "    <tr>\n",
       "      <th>5.0</th>\n",
       "      <td>30.0</td>\n",
       "      <td>2.0</td>\n",
       "      <td>0.0</td>\n",
       "    </tr>\n",
       "    <tr>\n",
       "      <th>6.0</th>\n",
       "      <td>30.0</td>\n",
       "      <td>2.5</td>\n",
       "      <td>0.0</td>\n",
       "    </tr>\n",
       "    <tr>\n",
       "      <th>7.0</th>\n",
       "      <td>30.0</td>\n",
       "      <td>3.0</td>\n",
       "      <td>0.0</td>\n",
       "    </tr>\n",
       "    <tr>\n",
       "      <th>8.0</th>\n",
       "      <td>30.0</td>\n",
       "      <td>3.5</td>\n",
       "      <td>0.0</td>\n",
       "    </tr>\n",
       "    <tr>\n",
       "      <th>9.0</th>\n",
       "      <td>30.0</td>\n",
       "      <td>4.0</td>\n",
       "      <td>0.0</td>\n",
       "    </tr>\n",
       "  </tbody>\n",
       "</table>\n",
       "</div>"
      ],
      "text/plain": [
       "              wait  VerticalBiasCurrent  Burnt_In\n",
       "IterationNum                                     \n",
       "0.0           30.0                  1.0       0.0\n",
       "1.0           30.0                  2.5       0.0\n",
       "2.0           30.0                  3.0       0.0\n",
       "3.0           30.0                  3.5       0.0\n",
       "4.0           30.0                  4.0       0.0\n",
       "5.0           30.0                  2.0       0.0\n",
       "6.0           30.0                  2.5       0.0\n",
       "7.0           30.0                  3.0       0.0\n",
       "8.0           30.0                  3.5       0.0\n",
       "9.0           30.0                  4.0       0.0"
      ]
     },
     "execution_count": 38,
     "metadata": {},
     "output_type": "execute_result"
    }
   ],
   "source": [
    "bb.groupby('IterationNum').mean()"
   ]
  },
  {
   "cell_type": "code",
   "execution_count": null,
   "id": "5b01bf56",
   "metadata": {},
   "outputs": [],
   "source": []
  },
  {
   "cell_type": "code",
   "execution_count": 46,
   "id": "ea1a4cb5",
   "metadata": {},
   "outputs": [
    {
     "data": {
      "text/plain": [
       "<ErrorbarContainer object of 3 artists>"
      ]
     },
     "execution_count": 46,
     "metadata": {},
     "output_type": "execute_result"
    },
    {
     "data": {
      "image/png": "[encoded data removed]",
      "text/plain": [
       "<Figure size 640x480 with 1 Axes>"
      ]
     },
     "metadata": {},
     "output_type": "display_data"
    }
   ],
   "source": [
    "plt.errorbar([1,2,3,4], [34,43,21,23], [0]*4)"
   ]
  },
  {
   "cell_type": "code",
   "execution_count": 35,
   "id": "a97bf957",
   "metadata": {},
   "outputs": [
    {
     "data": {
      "text/html": [
       "<div>\n",
       "<style scoped>\n",
       "    .dataframe tbody tr th:only-of-type {\n",
       "        vertical-align: middle;\n",
       "    }\n",
       "\n",
       "    .dataframe tbody tr th {\n",
       "        vertical-align: top;\n",
       "    }\n",
       "\n",
       "    .dataframe thead th {\n",
       "        text-align: right;\n",
       "    }\n",
       "</style>\n",
       "<table border=\"1\" class=\"dataframe\">\n",
       "  <thead>\n",
       "    <tr style=\"text-align: right;\">\n",
       "      <th></th>\n",
       "      <th>wait</th>\n",
       "      <th>VerticalBiasCurrent</th>\n",
       "      <th>Burnt_In</th>\n",
       "    </tr>\n",
       "    <tr>\n",
       "      <th>IterationNum</th>\n",
       "      <th></th>\n",
       "      <th></th>\n",
       "      <th></th>\n",
       "    </tr>\n",
       "  </thead>\n",
       "  <tbody>\n",
       "    <tr>\n",
       "      <th>0.0</th>\n",
       "      <td>NaN</td>\n",
       "      <td>NaN</td>\n",
       "      <td>NaN</td>\n",
       "    </tr>\n",
       "    <tr>\n",
       "      <th>1.0</th>\n",
       "      <td>NaN</td>\n",
       "      <td>NaN</td>\n",
       "      <td>NaN</td>\n",
       "    </tr>\n",
       "    <tr>\n",
       "      <th>2.0</th>\n",
       "      <td>NaN</td>\n",
       "      <td>NaN</td>\n",
       "      <td>NaN</td>\n",
       "    </tr>\n",
       "    <tr>\n",
       "      <th>3.0</th>\n",
       "      <td>NaN</td>\n",
       "      <td>NaN</td>\n",
       "      <td>NaN</td>\n",
       "    </tr>\n",
       "    <tr>\n",
       "      <th>4.0</th>\n",
       "      <td>NaN</td>\n",
       "      <td>NaN</td>\n",
       "      <td>NaN</td>\n",
       "    </tr>\n",
       "    <tr>\n",
       "      <th>5.0</th>\n",
       "      <td>NaN</td>\n",
       "      <td>NaN</td>\n",
       "      <td>NaN</td>\n",
       "    </tr>\n",
       "    <tr>\n",
       "      <th>6.0</th>\n",
       "      <td>NaN</td>\n",
       "      <td>NaN</td>\n",
       "      <td>NaN</td>\n",
       "    </tr>\n",
       "    <tr>\n",
       "      <th>7.0</th>\n",
       "      <td>NaN</td>\n",
       "      <td>NaN</td>\n",
       "      <td>NaN</td>\n",
       "    </tr>\n",
       "    <tr>\n",
       "      <th>8.0</th>\n",
       "      <td>NaN</td>\n",
       "      <td>NaN</td>\n",
       "      <td>NaN</td>\n",
       "    </tr>\n",
       "    <tr>\n",
       "      <th>9.0</th>\n",
       "      <td>NaN</td>\n",
       "      <td>NaN</td>\n",
       "      <td>NaN</td>\n",
       "    </tr>\n",
       "  </tbody>\n",
       "</table>\n",
       "</div>"
      ],
      "text/plain": [
       "              wait  VerticalBiasCurrent  Burnt_In\n",
       "IterationNum                                     \n",
       "0.0            NaN                  NaN       NaN\n",
       "1.0            NaN                  NaN       NaN\n",
       "2.0            NaN                  NaN       NaN\n",
       "3.0            NaN                  NaN       NaN\n",
       "4.0            NaN                  NaN       NaN\n",
       "5.0            NaN                  NaN       NaN\n",
       "6.0            NaN                  NaN       NaN\n",
       "7.0            NaN                  NaN       NaN\n",
       "8.0            NaN                  NaN       NaN\n",
       "9.0            NaN                  NaN       NaN"
      ]
     },
     "execution_count": 35,
     "metadata": {},
     "output_type": "execute_result"
    }
   ],
   "source": [
    "bb.groupby('IterationNum').std(ddof=1)"
   ]
  },
  {
   "cell_type": "code",
   "execution_count": null,
   "id": "4303a5dd",
   "metadata": {},
   "outputs": [],
   "source": []
  },
  {
   "cell_type": "code",
   "execution_count": null,
   "id": "c862505b",
   "metadata": {},
   "outputs": [],
   "source": []
  },
  {
   "cell_type": "code",
   "execution_count": null,
   "id": "77639eb0",
   "metadata": {},
   "outputs": [],
   "source": []
  },
  {
   "cell_type": "code",
   "execution_count": 6,
   "id": "ab432d96",
   "metadata": {},
   "outputs": [
    {
     "ename": "NameError",
     "evalue": "name 'aa' is not defined",
     "output_type": "error",
     "traceback": [
      "\u001b[1;31m---------------------------------------------------------------------------\u001b[0m",
      "\u001b[1;31mNameError\u001b[0m                                 Traceback (most recent call last)",
      "\u001b[1;32mC:\\Users\\SOMMER~1\\AppData\\Local\\Temp/ipykernel_4932/1407403064.py\u001b[0m in \u001b[0;36m<module>\u001b[1;34m\u001b[0m\n\u001b[0;32m      1\u001b[0m \u001b[0mtake_smaller\u001b[0m \u001b[1;33m=\u001b[0m \u001b[1;32mlambda\u001b[0m \u001b[0ms1\u001b[0m\u001b[1;33m,\u001b[0m \u001b[0ms2\u001b[0m\u001b[1;33m:\u001b[0m \u001b[0ms1\u001b[0m \u001b[1;32mif\u001b[0m \u001b[0ms1\u001b[0m\u001b[1;33m.\u001b[0m\u001b[0msum\u001b[0m\u001b[1;33m(\u001b[0m\u001b[1;33m)\u001b[0m \u001b[1;33m<\u001b[0m \u001b[0ms2\u001b[0m\u001b[1;33m.\u001b[0m\u001b[0msum\u001b[0m\u001b[1;33m(\u001b[0m\u001b[1;33m)\u001b[0m \u001b[1;32melse\u001b[0m \u001b[0ms2\u001b[0m\u001b[1;33m\u001b[0m\u001b[1;33m\u001b[0m\u001b[0m\n\u001b[1;32m----> 2\u001b[1;33m \u001b[0maa\u001b[0m\u001b[1;33m.\u001b[0m\u001b[0mcombine\u001b[0m\u001b[1;33m(\u001b[0m\u001b[0mbb\u001b[0m\u001b[1;33m,\u001b[0m \u001b[0mtake_smaller\u001b[0m\u001b[1;33m)\u001b[0m\u001b[1;33m\u001b[0m\u001b[1;33m\u001b[0m\u001b[0m\n\u001b[0m",
      "\u001b[1;31mNameError\u001b[0m: name 'aa' is not defined"
     ]
    }
   ],
   "source": [
    "take_smaller = lambda s1, s2: s1 if s1.sum() < s2.sum() else s2\n",
    "aa.combine(bb, take_smaller)"
   ]
  },
  {
   "cell_type": "code",
   "execution_count": null,
   "id": "39425cc0",
   "metadata": {},
   "outputs": [],
   "source": []
  },
  {
   "cell_type": "code",
   "execution_count": null,
   "id": "37ba225f",
   "metadata": {},
   "outputs": [],
   "source": []
  },
  {
   "cell_type": "code",
   "execution_count": 255,
   "id": "8b6357b6",
   "metadata": {
    "scrolled": true
   },
   "outputs": [
    {
     "data": {
      "text/html": [
       "<div>\n",
       "<style scoped>\n",
       "    .dataframe tbody tr th:only-of-type {\n",
       "        vertical-align: middle;\n",
       "    }\n",
       "\n",
       "    .dataframe tbody tr th {\n",
       "        vertical-align: top;\n",
       "    }\n",
       "\n",
       "    .dataframe thead th {\n",
       "        text-align: right;\n",
       "    }\n",
       "</style>\n",
       "<table border=\"1\" class=\"dataframe\">\n",
       "  <thead>\n",
       "    <tr style=\"text-align: right;\">\n",
       "      <th></th>\n",
       "      <th>IterationNum</th>\n",
       "      <th>wait</th>\n",
       "      <th>VerticalBiasVoltage</th>\n",
       "      <th>FLIR_Pulse</th>\n",
       "      <th>piezoX</th>\n",
       "      <th>High_PD_1</th>\n",
       "    </tr>\n",
       "  </thead>\n",
       "  <tbody>\n",
       "    <tr>\n",
       "      <th>0</th>\n",
       "      <td>3.14</td>\n",
       "      <td>0.0</td>\n",
       "      <td>0.3770</td>\n",
       "      <td>NaN</td>\n",
       "      <td>5.0</td>\n",
       "      <td>1.75</td>\n",
       "    </tr>\n",
       "    <tr>\n",
       "      <th>1</th>\n",
       "      <td>3.14</td>\n",
       "      <td>0.0</td>\n",
       "      <td>0.3770</td>\n",
       "      <td>NaN</td>\n",
       "      <td>5.0</td>\n",
       "      <td>1.75</td>\n",
       "    </tr>\n",
       "    <tr>\n",
       "      <th>2</th>\n",
       "      <td>3.14</td>\n",
       "      <td>0.0</td>\n",
       "      <td>0.3770</td>\n",
       "      <td>NaN</td>\n",
       "      <td>5.0</td>\n",
       "      <td>1.75</td>\n",
       "    </tr>\n",
       "    <tr>\n",
       "      <th>3</th>\n",
       "      <td>3.14</td>\n",
       "      <td>0.0</td>\n",
       "      <td>0.3770</td>\n",
       "      <td>NaN</td>\n",
       "      <td>5.0</td>\n",
       "      <td>1.75</td>\n",
       "    </tr>\n",
       "    <tr>\n",
       "      <th>4</th>\n",
       "      <td>3.14</td>\n",
       "      <td>0.0</td>\n",
       "      <td>0.3770</td>\n",
       "      <td>NaN</td>\n",
       "      <td>5.0</td>\n",
       "      <td>1.75</td>\n",
       "    </tr>\n",
       "    <tr>\n",
       "      <th>5</th>\n",
       "      <td>0.00</td>\n",
       "      <td>0.0</td>\n",
       "      <td>0.3770</td>\n",
       "      <td>NaN</td>\n",
       "      <td>5.0</td>\n",
       "      <td>1.75</td>\n",
       "    </tr>\n",
       "    <tr>\n",
       "      <th>6</th>\n",
       "      <td>0.00</td>\n",
       "      <td>0.0</td>\n",
       "      <td>0.3770</td>\n",
       "      <td>NaN</td>\n",
       "      <td>5.0</td>\n",
       "      <td>1.75</td>\n",
       "    </tr>\n",
       "    <tr>\n",
       "      <th>7</th>\n",
       "      <td>0.00</td>\n",
       "      <td>0.0</td>\n",
       "      <td>0.3770</td>\n",
       "      <td>NaN</td>\n",
       "      <td>5.0</td>\n",
       "      <td>1.75</td>\n",
       "    </tr>\n",
       "    <tr>\n",
       "      <th>8</th>\n",
       "      <td>0.00</td>\n",
       "      <td>0.0</td>\n",
       "      <td>0.3770</td>\n",
       "      <td>NaN</td>\n",
       "      <td>5.0</td>\n",
       "      <td>1.75</td>\n",
       "    </tr>\n",
       "    <tr>\n",
       "      <th>9</th>\n",
       "      <td>0.00</td>\n",
       "      <td>0.0</td>\n",
       "      <td>0.3770</td>\n",
       "      <td>NaN</td>\n",
       "      <td>5.0</td>\n",
       "      <td>1.75</td>\n",
       "    </tr>\n",
       "    <tr>\n",
       "      <th>10</th>\n",
       "      <td>1.00</td>\n",
       "      <td>0.0</td>\n",
       "      <td>0.4675</td>\n",
       "      <td>NaN</td>\n",
       "      <td>5.0</td>\n",
       "      <td>1.75</td>\n",
       "    </tr>\n",
       "    <tr>\n",
       "      <th>11</th>\n",
       "      <td>1.00</td>\n",
       "      <td>0.0</td>\n",
       "      <td>0.4675</td>\n",
       "      <td>NaN</td>\n",
       "      <td>5.0</td>\n",
       "      <td>1.75</td>\n",
       "    </tr>\n",
       "    <tr>\n",
       "      <th>12</th>\n",
       "      <td>1.00</td>\n",
       "      <td>0.0</td>\n",
       "      <td>0.4675</td>\n",
       "      <td>NaN</td>\n",
       "      <td>5.0</td>\n",
       "      <td>1.75</td>\n",
       "    </tr>\n",
       "    <tr>\n",
       "      <th>13</th>\n",
       "      <td>1.00</td>\n",
       "      <td>0.0</td>\n",
       "      <td>0.4675</td>\n",
       "      <td>NaN</td>\n",
       "      <td>5.0</td>\n",
       "      <td>1.75</td>\n",
       "    </tr>\n",
       "    <tr>\n",
       "      <th>14</th>\n",
       "      <td>1.00</td>\n",
       "      <td>0.0</td>\n",
       "      <td>0.4675</td>\n",
       "      <td>NaN</td>\n",
       "      <td>5.0</td>\n",
       "      <td>1.75</td>\n",
       "    </tr>\n",
       "    <tr>\n",
       "      <th>15</th>\n",
       "      <td>2.00</td>\n",
       "      <td>0.0</td>\n",
       "      <td>0.5580</td>\n",
       "      <td>NaN</td>\n",
       "      <td>5.0</td>\n",
       "      <td>1.75</td>\n",
       "    </tr>\n",
       "    <tr>\n",
       "      <th>16</th>\n",
       "      <td>2.00</td>\n",
       "      <td>0.0</td>\n",
       "      <td>0.5580</td>\n",
       "      <td>NaN</td>\n",
       "      <td>5.0</td>\n",
       "      <td>1.75</td>\n",
       "    </tr>\n",
       "    <tr>\n",
       "      <th>17</th>\n",
       "      <td>2.00</td>\n",
       "      <td>0.0</td>\n",
       "      <td>0.5580</td>\n",
       "      <td>NaN</td>\n",
       "      <td>5.0</td>\n",
       "      <td>1.75</td>\n",
       "    </tr>\n",
       "    <tr>\n",
       "      <th>18</th>\n",
       "      <td>2.00</td>\n",
       "      <td>0.0</td>\n",
       "      <td>0.5580</td>\n",
       "      <td>NaN</td>\n",
       "      <td>5.0</td>\n",
       "      <td>1.75</td>\n",
       "    </tr>\n",
       "    <tr>\n",
       "      <th>19</th>\n",
       "      <td>2.00</td>\n",
       "      <td>0.0</td>\n",
       "      <td>0.5580</td>\n",
       "      <td>NaN</td>\n",
       "      <td>5.0</td>\n",
       "      <td>1.75</td>\n",
       "    </tr>\n",
       "    <tr>\n",
       "      <th>20</th>\n",
       "      <td>3.00</td>\n",
       "      <td>0.0</td>\n",
       "      <td>0.6485</td>\n",
       "      <td>NaN</td>\n",
       "      <td>5.0</td>\n",
       "      <td>1.75</td>\n",
       "    </tr>\n",
       "    <tr>\n",
       "      <th>21</th>\n",
       "      <td>3.00</td>\n",
       "      <td>0.0</td>\n",
       "      <td>0.6485</td>\n",
       "      <td>NaN</td>\n",
       "      <td>5.0</td>\n",
       "      <td>1.75</td>\n",
       "    </tr>\n",
       "    <tr>\n",
       "      <th>22</th>\n",
       "      <td>3.00</td>\n",
       "      <td>0.0</td>\n",
       "      <td>0.6485</td>\n",
       "      <td>NaN</td>\n",
       "      <td>5.0</td>\n",
       "      <td>1.75</td>\n",
       "    </tr>\n",
       "    <tr>\n",
       "      <th>23</th>\n",
       "      <td>3.00</td>\n",
       "      <td>0.0</td>\n",
       "      <td>0.6485</td>\n",
       "      <td>NaN</td>\n",
       "      <td>5.0</td>\n",
       "      <td>1.75</td>\n",
       "    </tr>\n",
       "    <tr>\n",
       "      <th>24</th>\n",
       "      <td>3.00</td>\n",
       "      <td>0.0</td>\n",
       "      <td>0.6485</td>\n",
       "      <td>NaN</td>\n",
       "      <td>5.0</td>\n",
       "      <td>1.75</td>\n",
       "    </tr>\n",
       "  </tbody>\n",
       "</table>\n",
       "</div>"
      ],
      "text/plain": [
       "    IterationNum  wait  VerticalBiasVoltage  FLIR_Pulse  piezoX  High_PD_1\n",
       "0           3.14   0.0               0.3770         NaN     5.0       1.75\n",
       "1           3.14   0.0               0.3770         NaN     5.0       1.75\n",
       "2           3.14   0.0               0.3770         NaN     5.0       1.75\n",
       "3           3.14   0.0               0.3770         NaN     5.0       1.75\n",
       "4           3.14   0.0               0.3770         NaN     5.0       1.75\n",
       "5           0.00   0.0               0.3770         NaN     5.0       1.75\n",
       "6           0.00   0.0               0.3770         NaN     5.0       1.75\n",
       "7           0.00   0.0               0.3770         NaN     5.0       1.75\n",
       "8           0.00   0.0               0.3770         NaN     5.0       1.75\n",
       "9           0.00   0.0               0.3770         NaN     5.0       1.75\n",
       "10          1.00   0.0               0.4675         NaN     5.0       1.75\n",
       "11          1.00   0.0               0.4675         NaN     5.0       1.75\n",
       "12          1.00   0.0               0.4675         NaN     5.0       1.75\n",
       "13          1.00   0.0               0.4675         NaN     5.0       1.75\n",
       "14          1.00   0.0               0.4675         NaN     5.0       1.75\n",
       "15          2.00   0.0               0.5580         NaN     5.0       1.75\n",
       "16          2.00   0.0               0.5580         NaN     5.0       1.75\n",
       "17          2.00   0.0               0.5580         NaN     5.0       1.75\n",
       "18          2.00   0.0               0.5580         NaN     5.0       1.75\n",
       "19          2.00   0.0               0.5580         NaN     5.0       1.75\n",
       "20          3.00   0.0               0.6485         NaN     5.0       1.75\n",
       "21          3.00   0.0               0.6485         NaN     5.0       1.75\n",
       "22          3.00   0.0               0.6485         NaN     5.0       1.75\n",
       "23          3.00   0.0               0.6485         NaN     5.0       1.75\n",
       "24          3.00   0.0               0.6485         NaN     5.0       1.75"
      ]
     },
     "execution_count": 255,
     "metadata": {},
     "output_type": "execute_result"
    }
   ],
   "source": [
    "aa.merge(bb, 'outer')"
   ]
  },
  {
   "cell_type": "code",
   "execution_count": 250,
   "id": "b80d3ed1",
   "metadata": {},
   "outputs": [
    {
     "data": {
      "text/html": [
       "<div>\n",
       "<style scoped>\n",
       "    .dataframe tbody tr th:only-of-type {\n",
       "        vertical-align: middle;\n",
       "    }\n",
       "\n",
       "    .dataframe tbody tr th {\n",
       "        vertical-align: top;\n",
       "    }\n",
       "\n",
       "    .dataframe thead th {\n",
       "        text-align: right;\n",
       "    }\n",
       "</style>\n",
       "<table border=\"1\" class=\"dataframe\">\n",
       "  <thead>\n",
       "    <tr style=\"text-align: right;\">\n",
       "      <th></th>\n",
       "      <th>piezoX_new</th>\n",
       "      <th>High_PD_1_new</th>\n",
       "      <th>piezoX</th>\n",
       "      <th>High_PD_1</th>\n",
       "    </tr>\n",
       "    <tr>\n",
       "      <th>time</th>\n",
       "      <th></th>\n",
       "      <th></th>\n",
       "      <th></th>\n",
       "      <th></th>\n",
       "    </tr>\n",
       "  </thead>\n",
       "  <tbody>\n",
       "    <tr>\n",
       "      <th>2023-09-15 14:25:48</th>\n",
       "      <td>5.0</td>\n",
       "      <td>1.75</td>\n",
       "      <td>5.0</td>\n",
       "      <td>1.75</td>\n",
       "    </tr>\n",
       "    <tr>\n",
       "      <th>2023-09-15 14:25:55</th>\n",
       "      <td>5.0</td>\n",
       "      <td>1.75</td>\n",
       "      <td>5.0</td>\n",
       "      <td>1.75</td>\n",
       "    </tr>\n",
       "    <tr>\n",
       "      <th>2023-09-15 14:26:01</th>\n",
       "      <td>5.0</td>\n",
       "      <td>1.75</td>\n",
       "      <td>5.0</td>\n",
       "      <td>1.75</td>\n",
       "    </tr>\n",
       "    <tr>\n",
       "      <th>2023-09-15 14:26:08</th>\n",
       "      <td>5.0</td>\n",
       "      <td>1.75</td>\n",
       "      <td>5.0</td>\n",
       "      <td>1.75</td>\n",
       "    </tr>\n",
       "    <tr>\n",
       "      <th>2023-09-15 14:26:15</th>\n",
       "      <td>5.0</td>\n",
       "      <td>1.75</td>\n",
       "      <td>5.0</td>\n",
       "      <td>1.75</td>\n",
       "    </tr>\n",
       "  </tbody>\n",
       "</table>\n",
       "</div>"
      ],
      "text/plain": [
       "                     piezoX_new  High_PD_1_new  piezoX  High_PD_1\n",
       "time                                                             \n",
       "2023-09-15 14:25:48         5.0           1.75     5.0       1.75\n",
       "2023-09-15 14:25:55         5.0           1.75     5.0       1.75\n",
       "2023-09-15 14:26:01         5.0           1.75     5.0       1.75\n",
       "2023-09-15 14:26:08         5.0           1.75     5.0       1.75\n",
       "2023-09-15 14:26:15         5.0           1.75     5.0       1.75"
      ]
     },
     "execution_count": 250,
     "metadata": {},
     "output_type": "execute_result"
    }
   ],
   "source": [
    "cc = bb.join(bb, how='outer', lsuffix='_new')\n",
    "cc"
   ]
  },
  {
   "cell_type": "code",
   "execution_count": 251,
   "id": "26c5c95c",
   "metadata": {},
   "outputs": [
    {
     "data": {
      "text/html": [
       "<div>\n",
       "<style scoped>\n",
       "    .dataframe tbody tr th:only-of-type {\n",
       "        vertical-align: middle;\n",
       "    }\n",
       "\n",
       "    .dataframe tbody tr th {\n",
       "        vertical-align: top;\n",
       "    }\n",
       "\n",
       "    .dataframe thead th {\n",
       "        text-align: right;\n",
       "    }\n",
       "</style>\n",
       "<table border=\"1\" class=\"dataframe\">\n",
       "  <thead>\n",
       "    <tr style=\"text-align: right;\">\n",
       "      <th></th>\n",
       "      <th>piezoX_new</th>\n",
       "      <th>High_PD_1_new</th>\n",
       "      <th>piezoX_new</th>\n",
       "      <th>High_PD_1_new</th>\n",
       "      <th>piezoX</th>\n",
       "      <th>High_PD_1</th>\n",
       "    </tr>\n",
       "    <tr>\n",
       "      <th>time</th>\n",
       "      <th></th>\n",
       "      <th></th>\n",
       "      <th></th>\n",
       "      <th></th>\n",
       "      <th></th>\n",
       "      <th></th>\n",
       "    </tr>\n",
       "  </thead>\n",
       "  <tbody>\n",
       "    <tr>\n",
       "      <th>2023-09-15 14:25:48</th>\n",
       "      <td>5.0</td>\n",
       "      <td>1.75</td>\n",
       "      <td>5.0</td>\n",
       "      <td>1.75</td>\n",
       "      <td>5.0</td>\n",
       "      <td>1.75</td>\n",
       "    </tr>\n",
       "    <tr>\n",
       "      <th>2023-09-15 14:25:55</th>\n",
       "      <td>5.0</td>\n",
       "      <td>1.75</td>\n",
       "      <td>5.0</td>\n",
       "      <td>1.75</td>\n",
       "      <td>5.0</td>\n",
       "      <td>1.75</td>\n",
       "    </tr>\n",
       "    <tr>\n",
       "      <th>2023-09-15 14:26:01</th>\n",
       "      <td>5.0</td>\n",
       "      <td>1.75</td>\n",
       "      <td>5.0</td>\n",
       "      <td>1.75</td>\n",
       "      <td>5.0</td>\n",
       "      <td>1.75</td>\n",
       "    </tr>\n",
       "    <tr>\n",
       "      <th>2023-09-15 14:26:08</th>\n",
       "      <td>5.0</td>\n",
       "      <td>1.75</td>\n",
       "      <td>5.0</td>\n",
       "      <td>1.75</td>\n",
       "      <td>5.0</td>\n",
       "      <td>1.75</td>\n",
       "    </tr>\n",
       "    <tr>\n",
       "      <th>2023-09-15 14:26:15</th>\n",
       "      <td>5.0</td>\n",
       "      <td>1.75</td>\n",
       "      <td>5.0</td>\n",
       "      <td>1.75</td>\n",
       "      <td>5.0</td>\n",
       "      <td>1.75</td>\n",
       "    </tr>\n",
       "  </tbody>\n",
       "</table>\n",
       "</div>"
      ],
      "text/plain": [
       "                     piezoX_new  High_PD_1_new  piezoX_new  High_PD_1_new  \\\n",
       "time                                                                        \n",
       "2023-09-15 14:25:48         5.0           1.75         5.0           1.75   \n",
       "2023-09-15 14:25:55         5.0           1.75         5.0           1.75   \n",
       "2023-09-15 14:26:01         5.0           1.75         5.0           1.75   \n",
       "2023-09-15 14:26:08         5.0           1.75         5.0           1.75   \n",
       "2023-09-15 14:26:15         5.0           1.75         5.0           1.75   \n",
       "\n",
       "                     piezoX  High_PD_1  \n",
       "time                                    \n",
       "2023-09-15 14:25:48     5.0       1.75  \n",
       "2023-09-15 14:25:55     5.0       1.75  \n",
       "2023-09-15 14:26:01     5.0       1.75  \n",
       "2023-09-15 14:26:08     5.0       1.75  \n",
       "2023-09-15 14:26:15     5.0       1.75  "
      ]
     },
     "execution_count": 251,
     "metadata": {},
     "output_type": "execute_result"
    }
   ],
   "source": [
    "bb.join(cc, how='outer', lsuffix='_new')"
   ]
  },
  {
   "cell_type": "code",
   "execution_count": 106,
   "id": "d060dd4e",
   "metadata": {},
   "outputs": [],
   "source": [
    "aa.index.set_names('', inplace=True)"
   ]
  },
  {
   "cell_type": "code",
   "execution_count": 107,
   "id": "f633bd38",
   "metadata": {},
   "outputs": [
    {
     "data": {
      "text/html": [
       "<div>\n",
       "<style scoped>\n",
       "    .dataframe tbody tr th:only-of-type {\n",
       "        vertical-align: middle;\n",
       "    }\n",
       "\n",
       "    .dataframe tbody tr th {\n",
       "        vertical-align: top;\n",
       "    }\n",
       "\n",
       "    .dataframe thead th {\n",
       "        text-align: right;\n",
       "    }\n",
       "</style>\n",
       "<table border=\"1\" class=\"dataframe\">\n",
       "  <thead>\n",
       "    <tr style=\"text-align: right;\">\n",
       "      <th></th>\n",
       "      <th>IterationNum</th>\n",
       "      <th>wait</th>\n",
       "      <th>VerticalBiasVoltage</th>\n",
       "      <th>FLIR_Pulse</th>\n",
       "    </tr>\n",
       "    <tr>\n",
       "      <th></th>\n",
       "      <th></th>\n",
       "      <th></th>\n",
       "      <th></th>\n",
       "      <th></th>\n",
       "    </tr>\n",
       "  </thead>\n",
       "  <tbody>\n",
       "    <tr>\n",
       "      <th>2023-09-15 14:24:20</th>\n",
       "      <td>3.14</td>\n",
       "      <td>0.0</td>\n",
       "      <td>0.3770</td>\n",
       "      <td>NaN</td>\n",
       "    </tr>\n",
       "    <tr>\n",
       "      <th>2023-09-15 14:25:41</th>\n",
       "      <td>0.00</td>\n",
       "      <td>0.0</td>\n",
       "      <td>0.3770</td>\n",
       "      <td>NaN</td>\n",
       "    </tr>\n",
       "    <tr>\n",
       "      <th>2023-09-15 14:25:48</th>\n",
       "      <td>1.00</td>\n",
       "      <td>0.0</td>\n",
       "      <td>0.4675</td>\n",
       "      <td>NaN</td>\n",
       "    </tr>\n",
       "    <tr>\n",
       "      <th>2023-09-15 14:25:55</th>\n",
       "      <td>2.00</td>\n",
       "      <td>0.0</td>\n",
       "      <td>0.5580</td>\n",
       "      <td>NaN</td>\n",
       "    </tr>\n",
       "    <tr>\n",
       "      <th>2023-09-15 14:26:01</th>\n",
       "      <td>3.00</td>\n",
       "      <td>0.0</td>\n",
       "      <td>0.6485</td>\n",
       "      <td>NaN</td>\n",
       "    </tr>\n",
       "  </tbody>\n",
       "</table>\n",
       "</div>"
      ],
      "text/plain": [
       "                     IterationNum  wait  VerticalBiasVoltage  FLIR_Pulse\n",
       "                                                                        \n",
       "2023-09-15 14:24:20          3.14   0.0               0.3770         NaN\n",
       "2023-09-15 14:25:41          0.00   0.0               0.3770         NaN\n",
       "2023-09-15 14:25:48          1.00   0.0               0.4675         NaN\n",
       "2023-09-15 14:25:55          2.00   0.0               0.5580         NaN\n",
       "2023-09-15 14:26:01          3.00   0.0               0.6485         NaN"
      ]
     },
     "execution_count": 107,
     "metadata": {},
     "output_type": "execute_result"
    }
   ],
   "source": [
    "aa"
   ]
  },
  {
   "cell_type": "code",
   "execution_count": null,
   "id": "173667c1",
   "metadata": {},
   "outputs": [],
   "source": []
  },
  {
   "cell_type": "code",
   "execution_count": null,
   "id": "68bc72cb",
   "metadata": {},
   "outputs": [],
   "source": []
  },
  {
   "cell_type": "code",
   "execution_count": 68,
   "id": "190e636a",
   "metadata": {},
   "outputs": [
    {
     "data": {
      "text/html": [
       "<div>\n",
       "<style scoped>\n",
       "    .dataframe tbody tr th:only-of-type {\n",
       "        vertical-align: middle;\n",
       "    }\n",
       "\n",
       "    .dataframe tbody tr th {\n",
       "        vertical-align: top;\n",
       "    }\n",
       "\n",
       "    .dataframe thead th {\n",
       "        text-align: right;\n",
       "    }\n",
       "</style>\n",
       "<table border=\"1\" class=\"dataframe\">\n",
       "  <thead>\n",
       "    <tr style=\"text-align: right;\">\n",
       "      <th></th>\n",
       "      <th>IterationNum</th>\n",
       "      <th>wait</th>\n",
       "      <th>VerticalBiasVoltage</th>\n",
       "      <th>FLIR_Pulse</th>\n",
       "    </tr>\n",
       "    <tr>\n",
       "      <th>time</th>\n",
       "      <th></th>\n",
       "      <th></th>\n",
       "      <th></th>\n",
       "      <th></th>\n",
       "    </tr>\n",
       "  </thead>\n",
       "  <tbody>\n",
       "    <tr>\n",
       "      <th>2023-09-15 14:24:20</th>\n",
       "      <td>3.14</td>\n",
       "      <td>0.0</td>\n",
       "      <td>0.3770</td>\n",
       "      <td>NaN</td>\n",
       "    </tr>\n",
       "    <tr>\n",
       "      <th>2023-09-15 14:25:41</th>\n",
       "      <td>0.00</td>\n",
       "      <td>0.0</td>\n",
       "      <td>0.3770</td>\n",
       "      <td>NaN</td>\n",
       "    </tr>\n",
       "    <tr>\n",
       "      <th>2023-09-15 14:25:48</th>\n",
       "      <td>1.00</td>\n",
       "      <td>0.0</td>\n",
       "      <td>0.4675</td>\n",
       "      <td>NaN</td>\n",
       "    </tr>\n",
       "    <tr>\n",
       "      <th>2023-09-15 14:25:55</th>\n",
       "      <td>2.00</td>\n",
       "      <td>0.0</td>\n",
       "      <td>0.5580</td>\n",
       "      <td>NaN</td>\n",
       "    </tr>\n",
       "  </tbody>\n",
       "</table>\n",
       "</div>"
      ],
      "text/plain": [
       "                     IterationNum  wait  VerticalBiasVoltage  FLIR_Pulse\n",
       "time                                                                    \n",
       "2023-09-15 14:24:20          3.14   0.0               0.3770         NaN\n",
       "2023-09-15 14:25:41          0.00   0.0               0.3770         NaN\n",
       "2023-09-15 14:25:48          1.00   0.0               0.4675         NaN\n",
       "2023-09-15 14:25:55          2.00   0.0               0.5580         NaN"
      ]
     },
     "execution_count": 68,
     "metadata": {},
     "output_type": "execute_result"
    }
   ],
   "source": [
    "aa.iloc[0:4]"
   ]
  },
  {
   "cell_type": "code",
   "execution_count": 69,
   "id": "60203d2d",
   "metadata": {},
   "outputs": [
    {
     "data": {
      "text/html": [
       "<div>\n",
       "<style scoped>\n",
       "    .dataframe tbody tr th:only-of-type {\n",
       "        vertical-align: middle;\n",
       "    }\n",
       "\n",
       "    .dataframe tbody tr th {\n",
       "        vertical-align: top;\n",
       "    }\n",
       "\n",
       "    .dataframe thead th {\n",
       "        text-align: right;\n",
       "    }\n",
       "</style>\n",
       "<table border=\"1\" class=\"dataframe\">\n",
       "  <thead>\n",
       "    <tr style=\"text-align: right;\">\n",
       "      <th></th>\n",
       "      <th>IterationNum</th>\n",
       "      <th>wait</th>\n",
       "      <th>VerticalBiasVoltage</th>\n",
       "      <th>FLIR_Pulse</th>\n",
       "    </tr>\n",
       "    <tr>\n",
       "      <th>time</th>\n",
       "      <th></th>\n",
       "      <th></th>\n",
       "      <th></th>\n",
       "      <th></th>\n",
       "    </tr>\n",
       "  </thead>\n",
       "  <tbody>\n",
       "    <tr>\n",
       "      <th>2023-09-15 14:24:20</th>\n",
       "      <td>3.14</td>\n",
       "      <td>0.0</td>\n",
       "      <td>0.3770</td>\n",
       "      <td>NaN</td>\n",
       "    </tr>\n",
       "    <tr>\n",
       "      <th>2023-09-15 14:25:41</th>\n",
       "      <td>0.00</td>\n",
       "      <td>0.0</td>\n",
       "      <td>0.3770</td>\n",
       "      <td>NaN</td>\n",
       "    </tr>\n",
       "    <tr>\n",
       "      <th>2023-09-15 14:25:48</th>\n",
       "      <td>1.00</td>\n",
       "      <td>0.0</td>\n",
       "      <td>0.4675</td>\n",
       "      <td>NaN</td>\n",
       "    </tr>\n",
       "    <tr>\n",
       "      <th>2023-09-15 14:25:55</th>\n",
       "      <td>2.00</td>\n",
       "      <td>0.0</td>\n",
       "      <td>0.5580</td>\n",
       "      <td>NaN</td>\n",
       "    </tr>\n",
       "  </tbody>\n",
       "</table>\n",
       "</div>"
      ],
      "text/plain": [
       "                     IterationNum  wait  VerticalBiasVoltage  FLIR_Pulse\n",
       "time                                                                    \n",
       "2023-09-15 14:24:20          3.14   0.0               0.3770         NaN\n",
       "2023-09-15 14:25:41          0.00   0.0               0.3770         NaN\n",
       "2023-09-15 14:25:48          1.00   0.0               0.4675         NaN\n",
       "2023-09-15 14:25:55          2.00   0.0               0.5580         NaN"
      ]
     },
     "execution_count": 69,
     "metadata": {},
     "output_type": "execute_result"
    }
   ],
   "source": [
    "aa[0:4]"
   ]
  },
  {
   "cell_type": "code",
   "execution_count": 70,
   "id": "24ca0671",
   "metadata": {},
   "outputs": [
    {
     "data": {
      "text/html": [
       "<div>\n",
       "<style scoped>\n",
       "    .dataframe tbody tr th:only-of-type {\n",
       "        vertical-align: middle;\n",
       "    }\n",
       "\n",
       "    .dataframe tbody tr th {\n",
       "        vertical-align: top;\n",
       "    }\n",
       "\n",
       "    .dataframe thead th {\n",
       "        text-align: right;\n",
       "    }\n",
       "</style>\n",
       "<table border=\"1\" class=\"dataframe\">\n",
       "  <thead>\n",
       "    <tr style=\"text-align: right;\">\n",
       "      <th></th>\n",
       "      <th>a</th>\n",
       "    </tr>\n",
       "  </thead>\n",
       "  <tbody>\n",
       "    <tr>\n",
       "      <th>0</th>\n",
       "      <td>1</td>\n",
       "    </tr>\n",
       "    <tr>\n",
       "      <th>1</th>\n",
       "      <td>2</td>\n",
       "    </tr>\n",
       "    <tr>\n",
       "      <th>2</th>\n",
       "      <td>3</td>\n",
       "    </tr>\n",
       "    <tr>\n",
       "      <th>3</th>\n",
       "      <td>4</td>\n",
       "    </tr>\n",
       "  </tbody>\n",
       "</table>\n",
       "</div>"
      ],
      "text/plain": [
       "   a\n",
       "0  1\n",
       "1  2\n",
       "2  3\n",
       "3  4"
      ]
     },
     "execution_count": 70,
     "metadata": {},
     "output_type": "execute_result"
    }
   ],
   "source": [
    "pd.DataFrame({'a': [1, 2, 3, 4]})"
   ]
  },
  {
   "cell_type": "code",
   "execution_count": null,
   "id": "9a2f2d85",
   "metadata": {},
   "outputs": [],
   "source": []
  },
  {
   "cell_type": "code",
   "execution_count": 36,
   "id": "88ce01e0",
   "metadata": {},
   "outputs": [
    {
     "data": {
      "text/html": [
       "<div>\n",
       "<style scoped>\n",
       "    .dataframe tbody tr th:only-of-type {\n",
       "        vertical-align: middle;\n",
       "    }\n",
       "\n",
       "    .dataframe tbody tr th {\n",
       "        vertical-align: top;\n",
       "    }\n",
       "\n",
       "    .dataframe thead th {\n",
       "        text-align: right;\n",
       "    }\n",
       "</style>\n",
       "<table border=\"1\" class=\"dataframe\">\n",
       "  <thead>\n",
       "    <tr style=\"text-align: right;\">\n",
       "      <th></th>\n",
       "      <th>time</th>\n",
       "      <th>IterationNum</th>\n",
       "      <th>IterationCount</th>\n",
       "      <th>wait</th>\n",
       "      <th>AndorROIheight</th>\n",
       "      <th>AndorShortExpDelay_us</th>\n",
       "      <th>LFImg</th>\n",
       "      <th>LF_AOM_freq</th>\n",
       "      <th>time_compress</th>\n",
       "      <th>MOT/Re_Attn_final_V</th>\n",
       "      <th>...</th>\n",
       "      <th>CamBiasVoltage</th>\n",
       "      <th>VerticalBiasVoltage</th>\n",
       "      <th>piezoX</th>\n",
       "      <th>piezoY</th>\n",
       "      <th>D1Time_ms</th>\n",
       "      <th>High_PD_1</th>\n",
       "      <th>High_PD_2</th>\n",
       "      <th>Evap_Time</th>\n",
       "      <th>Evap_Time_2</th>\n",
       "      <th>FLIR_Pulse</th>\n",
       "    </tr>\n",
       "  </thead>\n",
       "  <tbody>\n",
       "    <tr>\n",
       "      <th>0</th>\n",
       "      <td>2023-09-15 14:24:20</td>\n",
       "      <td>0.0</td>\n",
       "      <td>7.0</td>\n",
       "      <td>0.0</td>\n",
       "      <td>512.0</td>\n",
       "      <td>2415.44</td>\n",
       "      <td>3.598</td>\n",
       "      <td>226.0</td>\n",
       "      <td>5.0</td>\n",
       "      <td>4.0</td>\n",
       "      <td>...</td>\n",
       "      <td>0.322</td>\n",
       "      <td>0.3770</td>\n",
       "      <td>5.0</td>\n",
       "      <td>5.0</td>\n",
       "      <td>1.5</td>\n",
       "      <td>1.75</td>\n",
       "      <td>0.25</td>\n",
       "      <td>100.0</td>\n",
       "      <td>50.0</td>\n",
       "      <td>NaN</td>\n",
       "    </tr>\n",
       "    <tr>\n",
       "      <th>1</th>\n",
       "      <td>2023-09-15 14:25:41</td>\n",
       "      <td>0.0</td>\n",
       "      <td>7.0</td>\n",
       "      <td>0.0</td>\n",
       "      <td>512.0</td>\n",
       "      <td>2415.44</td>\n",
       "      <td>3.598</td>\n",
       "      <td>226.0</td>\n",
       "      <td>5.0</td>\n",
       "      <td>4.0</td>\n",
       "      <td>...</td>\n",
       "      <td>0.322</td>\n",
       "      <td>0.3770</td>\n",
       "      <td>5.0</td>\n",
       "      <td>5.0</td>\n",
       "      <td>1.5</td>\n",
       "      <td>1.75</td>\n",
       "      <td>0.25</td>\n",
       "      <td>100.0</td>\n",
       "      <td>50.0</td>\n",
       "      <td>NaN</td>\n",
       "    </tr>\n",
       "    <tr>\n",
       "      <th>2</th>\n",
       "      <td>2023-09-15 14:25:48</td>\n",
       "      <td>1.0</td>\n",
       "      <td>7.0</td>\n",
       "      <td>0.0</td>\n",
       "      <td>512.0</td>\n",
       "      <td>2415.44</td>\n",
       "      <td>3.598</td>\n",
       "      <td>226.0</td>\n",
       "      <td>5.0</td>\n",
       "      <td>4.0</td>\n",
       "      <td>...</td>\n",
       "      <td>0.322</td>\n",
       "      <td>0.4675</td>\n",
       "      <td>5.0</td>\n",
       "      <td>5.0</td>\n",
       "      <td>1.5</td>\n",
       "      <td>1.75</td>\n",
       "      <td>0.25</td>\n",
       "      <td>100.0</td>\n",
       "      <td>50.0</td>\n",
       "      <td>NaN</td>\n",
       "    </tr>\n",
       "    <tr>\n",
       "      <th>3</th>\n",
       "      <td>2023-09-15 14:25:55</td>\n",
       "      <td>2.0</td>\n",
       "      <td>7.0</td>\n",
       "      <td>0.0</td>\n",
       "      <td>512.0</td>\n",
       "      <td>2415.44</td>\n",
       "      <td>3.598</td>\n",
       "      <td>226.0</td>\n",
       "      <td>5.0</td>\n",
       "      <td>4.0</td>\n",
       "      <td>...</td>\n",
       "      <td>0.322</td>\n",
       "      <td>0.5580</td>\n",
       "      <td>5.0</td>\n",
       "      <td>5.0</td>\n",
       "      <td>1.5</td>\n",
       "      <td>1.75</td>\n",
       "      <td>0.25</td>\n",
       "      <td>100.0</td>\n",
       "      <td>50.0</td>\n",
       "      <td>NaN</td>\n",
       "    </tr>\n",
       "    <tr>\n",
       "      <th>4</th>\n",
       "      <td>2023-09-15 14:26:01</td>\n",
       "      <td>3.0</td>\n",
       "      <td>7.0</td>\n",
       "      <td>0.0</td>\n",
       "      <td>512.0</td>\n",
       "      <td>2415.44</td>\n",
       "      <td>3.598</td>\n",
       "      <td>226.0</td>\n",
       "      <td>5.0</td>\n",
       "      <td>4.0</td>\n",
       "      <td>...</td>\n",
       "      <td>0.322</td>\n",
       "      <td>0.6485</td>\n",
       "      <td>5.0</td>\n",
       "      <td>5.0</td>\n",
       "      <td>1.5</td>\n",
       "      <td>1.75</td>\n",
       "      <td>0.25</td>\n",
       "      <td>100.0</td>\n",
       "      <td>50.0</td>\n",
       "      <td>NaN</td>\n",
       "    </tr>\n",
       "    <tr>\n",
       "      <th>...</th>\n",
       "      <td>...</td>\n",
       "      <td>...</td>\n",
       "      <td>...</td>\n",
       "      <td>...</td>\n",
       "      <td>...</td>\n",
       "      <td>...</td>\n",
       "      <td>...</td>\n",
       "      <td>...</td>\n",
       "      <td>...</td>\n",
       "      <td>...</td>\n",
       "      <td>...</td>\n",
       "      <td>...</td>\n",
       "      <td>...</td>\n",
       "      <td>...</td>\n",
       "      <td>...</td>\n",
       "      <td>...</td>\n",
       "      <td>...</td>\n",
       "      <td>...</td>\n",
       "      <td>...</td>\n",
       "      <td>...</td>\n",
       "      <td>...</td>\n",
       "    </tr>\n",
       "    <tr>\n",
       "      <th>81</th>\n",
       "      <td>2023-09-15 18:10:01</td>\n",
       "      <td>16.0</td>\n",
       "      <td>21.0</td>\n",
       "      <td>0.0</td>\n",
       "      <td>512.0</td>\n",
       "      <td>2415.44</td>\n",
       "      <td>3.598</td>\n",
       "      <td>226.0</td>\n",
       "      <td>5.0</td>\n",
       "      <td>4.0</td>\n",
       "      <td>...</td>\n",
       "      <td>0.322</td>\n",
       "      <td>0.3770</td>\n",
       "      <td>5.0</td>\n",
       "      <td>5.0</td>\n",
       "      <td>1.5</td>\n",
       "      <td>1.75</td>\n",
       "      <td>0.25</td>\n",
       "      <td>97.0</td>\n",
       "      <td>50.0</td>\n",
       "      <td>16.0</td>\n",
       "    </tr>\n",
       "    <tr>\n",
       "      <th>82</th>\n",
       "      <td>2023-09-15 18:10:07</td>\n",
       "      <td>17.0</td>\n",
       "      <td>21.0</td>\n",
       "      <td>0.0</td>\n",
       "      <td>512.0</td>\n",
       "      <td>2415.44</td>\n",
       "      <td>3.598</td>\n",
       "      <td>226.0</td>\n",
       "      <td>5.0</td>\n",
       "      <td>4.0</td>\n",
       "      <td>...</td>\n",
       "      <td>0.322</td>\n",
       "      <td>0.3770</td>\n",
       "      <td>5.0</td>\n",
       "      <td>5.0</td>\n",
       "      <td>1.5</td>\n",
       "      <td>1.75</td>\n",
       "      <td>0.25</td>\n",
       "      <td>97.0</td>\n",
       "      <td>50.0</td>\n",
       "      <td>17.0</td>\n",
       "    </tr>\n",
       "    <tr>\n",
       "      <th>83</th>\n",
       "      <td>2023-09-15 18:10:14</td>\n",
       "      <td>18.0</td>\n",
       "      <td>21.0</td>\n",
       "      <td>0.0</td>\n",
       "      <td>512.0</td>\n",
       "      <td>2415.44</td>\n",
       "      <td>3.598</td>\n",
       "      <td>226.0</td>\n",
       "      <td>5.0</td>\n",
       "      <td>4.0</td>\n",
       "      <td>...</td>\n",
       "      <td>0.322</td>\n",
       "      <td>0.3770</td>\n",
       "      <td>5.0</td>\n",
       "      <td>5.0</td>\n",
       "      <td>1.5</td>\n",
       "      <td>1.75</td>\n",
       "      <td>0.25</td>\n",
       "      <td>97.0</td>\n",
       "      <td>50.0</td>\n",
       "      <td>18.0</td>\n",
       "    </tr>\n",
       "    <tr>\n",
       "      <th>84</th>\n",
       "      <td>2023-09-15 18:10:21</td>\n",
       "      <td>19.0</td>\n",
       "      <td>21.0</td>\n",
       "      <td>0.0</td>\n",
       "      <td>512.0</td>\n",
       "      <td>2415.44</td>\n",
       "      <td>3.598</td>\n",
       "      <td>226.0</td>\n",
       "      <td>5.0</td>\n",
       "      <td>4.0</td>\n",
       "      <td>...</td>\n",
       "      <td>0.322</td>\n",
       "      <td>0.3770</td>\n",
       "      <td>5.0</td>\n",
       "      <td>5.0</td>\n",
       "      <td>1.5</td>\n",
       "      <td>1.75</td>\n",
       "      <td>0.25</td>\n",
       "      <td>97.0</td>\n",
       "      <td>50.0</td>\n",
       "      <td>19.0</td>\n",
       "    </tr>\n",
       "    <tr>\n",
       "      <th>85</th>\n",
       "      <td>2023-09-15 18:10:27</td>\n",
       "      <td>20.0</td>\n",
       "      <td>21.0</td>\n",
       "      <td>0.0</td>\n",
       "      <td>512.0</td>\n",
       "      <td>2415.44</td>\n",
       "      <td>3.598</td>\n",
       "      <td>226.0</td>\n",
       "      <td>5.0</td>\n",
       "      <td>4.0</td>\n",
       "      <td>...</td>\n",
       "      <td>0.322</td>\n",
       "      <td>0.3770</td>\n",
       "      <td>5.0</td>\n",
       "      <td>5.0</td>\n",
       "      <td>1.5</td>\n",
       "      <td>1.75</td>\n",
       "      <td>0.25</td>\n",
       "      <td>97.0</td>\n",
       "      <td>50.0</td>\n",
       "      <td>20.0</td>\n",
       "    </tr>\n",
       "  </tbody>\n",
       "</table>\n",
       "<p>86 rows × 30 columns</p>\n",
       "</div>"
      ],
      "text/plain": [
       "                  time  IterationNum  IterationCount  wait  AndorROIheight  \\\n",
       "0  2023-09-15 14:24:20           0.0             7.0   0.0           512.0   \n",
       "1  2023-09-15 14:25:41           0.0             7.0   0.0           512.0   \n",
       "2  2023-09-15 14:25:48           1.0             7.0   0.0           512.0   \n",
       "3  2023-09-15 14:25:55           2.0             7.0   0.0           512.0   \n",
       "4  2023-09-15 14:26:01           3.0             7.0   0.0           512.0   \n",
       "..                 ...           ...             ...   ...             ...   \n",
       "81 2023-09-15 18:10:01          16.0            21.0   0.0           512.0   \n",
       "82 2023-09-15 18:10:07          17.0            21.0   0.0           512.0   \n",
       "83 2023-09-15 18:10:14          18.0            21.0   0.0           512.0   \n",
       "84 2023-09-15 18:10:21          19.0            21.0   0.0           512.0   \n",
       "85 2023-09-15 18:10:27          20.0            21.0   0.0           512.0   \n",
       "\n",
       "    AndorShortExpDelay_us  LFImg  LF_AOM_freq  time_compress  \\\n",
       "0                 2415.44  3.598        226.0            5.0   \n",
       "1                 2415.44  3.598        226.0            5.0   \n",
       "2                 2415.44  3.598        226.0            5.0   \n",
       "3                 2415.44  3.598        226.0            5.0   \n",
       "4                 2415.44  3.598        226.0            5.0   \n",
       "..                    ...    ...          ...            ...   \n",
       "81                2415.44  3.598        226.0            5.0   \n",
       "82                2415.44  3.598        226.0            5.0   \n",
       "83                2415.44  3.598        226.0            5.0   \n",
       "84                2415.44  3.598        226.0            5.0   \n",
       "85                2415.44  3.598        226.0            5.0   \n",
       "\n",
       "    MOT/Re_Attn_final_V  ...  CamBiasVoltage  VerticalBiasVoltage  piezoX  \\\n",
       "0                   4.0  ...           0.322               0.3770     5.0   \n",
       "1                   4.0  ...           0.322               0.3770     5.0   \n",
       "2                   4.0  ...           0.322               0.4675     5.0   \n",
       "3                   4.0  ...           0.322               0.5580     5.0   \n",
       "4                   4.0  ...           0.322               0.6485     5.0   \n",
       "..                  ...  ...             ...                  ...     ...   \n",
       "81                  4.0  ...           0.322               0.3770     5.0   \n",
       "82                  4.0  ...           0.322               0.3770     5.0   \n",
       "83                  4.0  ...           0.322               0.3770     5.0   \n",
       "84                  4.0  ...           0.322               0.3770     5.0   \n",
       "85                  4.0  ...           0.322               0.3770     5.0   \n",
       "\n",
       "    piezoY  D1Time_ms  High_PD_1  High_PD_2  Evap_Time  Evap_Time_2  \\\n",
       "0      5.0        1.5       1.75       0.25      100.0         50.0   \n",
       "1      5.0        1.5       1.75       0.25      100.0         50.0   \n",
       "2      5.0        1.5       1.75       0.25      100.0         50.0   \n",
       "3      5.0        1.5       1.75       0.25      100.0         50.0   \n",
       "4      5.0        1.5       1.75       0.25      100.0         50.0   \n",
       "..     ...        ...        ...        ...        ...          ...   \n",
       "81     5.0        1.5       1.75       0.25       97.0         50.0   \n",
       "82     5.0        1.5       1.75       0.25       97.0         50.0   \n",
       "83     5.0        1.5       1.75       0.25       97.0         50.0   \n",
       "84     5.0        1.5       1.75       0.25       97.0         50.0   \n",
       "85     5.0        1.5       1.75       0.25       97.0         50.0   \n",
       "\n",
       "    FLIR_Pulse  \n",
       "0          NaN  \n",
       "1          NaN  \n",
       "2          NaN  \n",
       "3          NaN  \n",
       "4          NaN  \n",
       "..         ...  \n",
       "81        16.0  \n",
       "82        17.0  \n",
       "83        18.0  \n",
       "84        19.0  \n",
       "85        20.0  \n",
       "\n",
       "[86 rows x 30 columns]"
      ]
     },
     "execution_count": 36,
     "metadata": {},
     "output_type": "execute_result"
    }
   ],
   "source": [
    "parameter_Frame[parameter_Frame.time < datetime.datetime(2023, 9, 15, 18, 14, 8, 764070)]"
   ]
  },
  {
   "cell_type": "code",
   "execution_count": 29,
   "id": "21b64d01",
   "metadata": {},
   "outputs": [],
   "source": [
    "Series = parameter_Frame[parameter_Frame.time < datetime.datetime(2023, 9, 15, 18, 14, 8, 764070)].iloc[-1]"
   ]
  },
  {
   "cell_type": "code",
   "execution_count": 30,
   "id": "4eaf0768",
   "metadata": {},
   "outputs": [
    {
     "data": {
      "text/plain": [
       "85"
      ]
     },
     "execution_count": 30,
     "metadata": {},
     "output_type": "execute_result"
    }
   ],
   "source": [
    "Series.name"
   ]
  },
  {
   "cell_type": "code",
   "execution_count": null,
   "id": "d4dea20c",
   "metadata": {},
   "outputs": [],
   "source": []
  },
  {
   "cell_type": "code",
   "execution_count": null,
   "id": "d0698ff1",
   "metadata": {},
   "outputs": [],
   "source": []
  },
  {
   "cell_type": "code",
   "execution_count": 242,
   "id": "b82e693f",
   "metadata": {},
   "outputs": [],
   "source": [
    "text = Series[['cMOT coil', 'VerticalBiasCurrent']]"
   ]
  },
  {
   "cell_type": "code",
   "execution_count": 265,
   "id": "28482115",
   "metadata": {},
   "outputs": [
    {
     "data": {
      "text/plain": [
       "Text(0.03, 0.98, 'cMOT coil              0.2\\nVerticalBiasCurrent    1.0')"
      ]
     },
     "execution_count": 265,
     "metadata": {},
     "output_type": "execute_result"
    },
    {
     "data": {
      "image/png": "[encoded data removed]",
      "text/plain": [
       "<Figure size 432x288 with 1 Axes>"
      ]
     },
     "metadata": {
      "needs_background": "light"
     },
     "output_type": "display_data"
    }
   ],
   "source": [
    "fig, ax = plt.subplots(1,1)\n",
    "\n",
    "ax.plot(parameter_Frame.VerticalBiasCurrent)\n",
    "ax.text(0.03,0.98, text.to_string(), ha='left', va='top', transform=ax.transAxes)"
   ]
  },
  {
   "cell_type": "code",
   "execution_count": null,
   "id": "d3dd2f09",
   "metadata": {},
   "outputs": [],
   "source": []
  },
  {
   "cell_type": "code",
   "execution_count": null,
   "id": "c16a902c",
   "metadata": {},
   "outputs": [],
   "source": []
  },
  {
   "cell_type": "code",
   "execution_count": 37,
   "id": "96814fdf",
   "metadata": {},
   "outputs": [
    {
     "data": {
      "text/html": [
       "<div>\n",
       "<style scoped>\n",
       "    .dataframe tbody tr th:only-of-type {\n",
       "        vertical-align: middle;\n",
       "    }\n",
       "\n",
       "    .dataframe tbody tr th {\n",
       "        vertical-align: top;\n",
       "    }\n",
       "\n",
       "    .dataframe thead th {\n",
       "        text-align: right;\n",
       "    }\n",
       "</style>\n",
       "<table border=\"1\" class=\"dataframe\">\n",
       "  <thead>\n",
       "    <tr style=\"text-align: right;\">\n",
       "      <th></th>\n",
       "      <th>IterationNum</th>\n",
       "      <th>IterationCount</th>\n",
       "      <th>wait</th>\n",
       "      <th>AndorROIheight</th>\n",
       "      <th>AndorShortExpDelay_us</th>\n",
       "      <th>LFImg</th>\n",
       "      <th>LF_AOM_freq</th>\n",
       "      <th>time_compress</th>\n",
       "      <th>MOT/Re_Attn_final_V</th>\n",
       "      <th>TOF</th>\n",
       "      <th>...</th>\n",
       "      <th>CamBiasVoltage</th>\n",
       "      <th>VerticalBiasVoltage</th>\n",
       "      <th>piezoX</th>\n",
       "      <th>piezoY</th>\n",
       "      <th>D1Time_ms</th>\n",
       "      <th>High_PD_1</th>\n",
       "      <th>High_PD_2</th>\n",
       "      <th>Evap_Time</th>\n",
       "      <th>Evap_Time_2</th>\n",
       "      <th>FLIR_Pulse</th>\n",
       "    </tr>\n",
       "    <tr>\n",
       "      <th>time</th>\n",
       "      <th></th>\n",
       "      <th></th>\n",
       "      <th></th>\n",
       "      <th></th>\n",
       "      <th></th>\n",
       "      <th></th>\n",
       "      <th></th>\n",
       "      <th></th>\n",
       "      <th></th>\n",
       "      <th></th>\n",
       "      <th></th>\n",
       "      <th></th>\n",
       "      <th></th>\n",
       "      <th></th>\n",
       "      <th></th>\n",
       "      <th></th>\n",
       "      <th></th>\n",
       "      <th></th>\n",
       "      <th></th>\n",
       "      <th></th>\n",
       "      <th></th>\n",
       "    </tr>\n",
       "  </thead>\n",
       "  <tbody>\n",
       "    <tr>\n",
       "      <th>2023-09-15 14:24:20</th>\n",
       "      <td>0.0</td>\n",
       "      <td>7.0</td>\n",
       "      <td>0.0</td>\n",
       "      <td>512.0</td>\n",
       "      <td>2415.44</td>\n",
       "      <td>3.598</td>\n",
       "      <td>226.0</td>\n",
       "      <td>5.0</td>\n",
       "      <td>4.0</td>\n",
       "      <td>0.0</td>\n",
       "      <td>...</td>\n",
       "      <td>0.322</td>\n",
       "      <td>0.3770</td>\n",
       "      <td>5.0</td>\n",
       "      <td>5.0</td>\n",
       "      <td>1.5</td>\n",
       "      <td>1.75</td>\n",
       "      <td>0.25</td>\n",
       "      <td>100.0</td>\n",
       "      <td>50.0</td>\n",
       "      <td>NaN</td>\n",
       "    </tr>\n",
       "    <tr>\n",
       "      <th>2023-09-15 14:25:41</th>\n",
       "      <td>0.0</td>\n",
       "      <td>7.0</td>\n",
       "      <td>0.0</td>\n",
       "      <td>512.0</td>\n",
       "      <td>2415.44</td>\n",
       "      <td>3.598</td>\n",
       "      <td>226.0</td>\n",
       "      <td>5.0</td>\n",
       "      <td>4.0</td>\n",
       "      <td>0.0</td>\n",
       "      <td>...</td>\n",
       "      <td>0.322</td>\n",
       "      <td>0.3770</td>\n",
       "      <td>5.0</td>\n",
       "      <td>5.0</td>\n",
       "      <td>1.5</td>\n",
       "      <td>1.75</td>\n",
       "      <td>0.25</td>\n",
       "      <td>100.0</td>\n",
       "      <td>50.0</td>\n",
       "      <td>NaN</td>\n",
       "    </tr>\n",
       "    <tr>\n",
       "      <th>2023-09-15 14:25:48</th>\n",
       "      <td>1.0</td>\n",
       "      <td>7.0</td>\n",
       "      <td>0.0</td>\n",
       "      <td>512.0</td>\n",
       "      <td>2415.44</td>\n",
       "      <td>3.598</td>\n",
       "      <td>226.0</td>\n",
       "      <td>5.0</td>\n",
       "      <td>4.0</td>\n",
       "      <td>0.0</td>\n",
       "      <td>...</td>\n",
       "      <td>0.322</td>\n",
       "      <td>0.4675</td>\n",
       "      <td>5.0</td>\n",
       "      <td>5.0</td>\n",
       "      <td>1.5</td>\n",
       "      <td>1.75</td>\n",
       "      <td>0.25</td>\n",
       "      <td>100.0</td>\n",
       "      <td>50.0</td>\n",
       "      <td>NaN</td>\n",
       "    </tr>\n",
       "    <tr>\n",
       "      <th>2023-09-15 14:25:55</th>\n",
       "      <td>2.0</td>\n",
       "      <td>7.0</td>\n",
       "      <td>0.0</td>\n",
       "      <td>512.0</td>\n",
       "      <td>2415.44</td>\n",
       "      <td>3.598</td>\n",
       "      <td>226.0</td>\n",
       "      <td>5.0</td>\n",
       "      <td>4.0</td>\n",
       "      <td>0.0</td>\n",
       "      <td>...</td>\n",
       "      <td>0.322</td>\n",
       "      <td>0.5580</td>\n",
       "      <td>5.0</td>\n",
       "      <td>5.0</td>\n",
       "      <td>1.5</td>\n",
       "      <td>1.75</td>\n",
       "      <td>0.25</td>\n",
       "      <td>100.0</td>\n",
       "      <td>50.0</td>\n",
       "      <td>NaN</td>\n",
       "    </tr>\n",
       "    <tr>\n",
       "      <th>2023-09-15 14:26:01</th>\n",
       "      <td>3.0</td>\n",
       "      <td>7.0</td>\n",
       "      <td>0.0</td>\n",
       "      <td>512.0</td>\n",
       "      <td>2415.44</td>\n",
       "      <td>3.598</td>\n",
       "      <td>226.0</td>\n",
       "      <td>5.0</td>\n",
       "      <td>4.0</td>\n",
       "      <td>0.0</td>\n",
       "      <td>...</td>\n",
       "      <td>0.322</td>\n",
       "      <td>0.6485</td>\n",
       "      <td>5.0</td>\n",
       "      <td>5.0</td>\n",
       "      <td>1.5</td>\n",
       "      <td>1.75</td>\n",
       "      <td>0.25</td>\n",
       "      <td>100.0</td>\n",
       "      <td>50.0</td>\n",
       "      <td>NaN</td>\n",
       "    </tr>\n",
       "    <tr>\n",
       "      <th>...</th>\n",
       "      <td>...</td>\n",
       "      <td>...</td>\n",
       "      <td>...</td>\n",
       "      <td>...</td>\n",
       "      <td>...</td>\n",
       "      <td>...</td>\n",
       "      <td>...</td>\n",
       "      <td>...</td>\n",
       "      <td>...</td>\n",
       "      <td>...</td>\n",
       "      <td>...</td>\n",
       "      <td>...</td>\n",
       "      <td>...</td>\n",
       "      <td>...</td>\n",
       "      <td>...</td>\n",
       "      <td>...</td>\n",
       "      <td>...</td>\n",
       "      <td>...</td>\n",
       "      <td>...</td>\n",
       "      <td>...</td>\n",
       "      <td>...</td>\n",
       "    </tr>\n",
       "    <tr>\n",
       "      <th>2023-09-15 20:13:17</th>\n",
       "      <td>16.0</td>\n",
       "      <td>21.0</td>\n",
       "      <td>0.0</td>\n",
       "      <td>512.0</td>\n",
       "      <td>2415.44</td>\n",
       "      <td>3.598</td>\n",
       "      <td>226.0</td>\n",
       "      <td>5.0</td>\n",
       "      <td>4.0</td>\n",
       "      <td>0.0</td>\n",
       "      <td>...</td>\n",
       "      <td>0.322</td>\n",
       "      <td>0.3770</td>\n",
       "      <td>5.0</td>\n",
       "      <td>5.0</td>\n",
       "      <td>1.5</td>\n",
       "      <td>1.75</td>\n",
       "      <td>0.25</td>\n",
       "      <td>97.0</td>\n",
       "      <td>50.0</td>\n",
       "      <td>16.0</td>\n",
       "    </tr>\n",
       "    <tr>\n",
       "      <th>2023-09-15 20:13:24</th>\n",
       "      <td>17.0</td>\n",
       "      <td>21.0</td>\n",
       "      <td>0.0</td>\n",
       "      <td>512.0</td>\n",
       "      <td>2415.44</td>\n",
       "      <td>3.598</td>\n",
       "      <td>226.0</td>\n",
       "      <td>5.0</td>\n",
       "      <td>4.0</td>\n",
       "      <td>0.0</td>\n",
       "      <td>...</td>\n",
       "      <td>0.322</td>\n",
       "      <td>0.3770</td>\n",
       "      <td>5.0</td>\n",
       "      <td>5.0</td>\n",
       "      <td>1.5</td>\n",
       "      <td>1.75</td>\n",
       "      <td>0.25</td>\n",
       "      <td>97.0</td>\n",
       "      <td>50.0</td>\n",
       "      <td>17.0</td>\n",
       "    </tr>\n",
       "    <tr>\n",
       "      <th>2023-09-15 20:13:30</th>\n",
       "      <td>18.0</td>\n",
       "      <td>21.0</td>\n",
       "      <td>0.0</td>\n",
       "      <td>512.0</td>\n",
       "      <td>2415.44</td>\n",
       "      <td>3.598</td>\n",
       "      <td>226.0</td>\n",
       "      <td>5.0</td>\n",
       "      <td>4.0</td>\n",
       "      <td>0.0</td>\n",
       "      <td>...</td>\n",
       "      <td>0.322</td>\n",
       "      <td>0.3770</td>\n",
       "      <td>5.0</td>\n",
       "      <td>5.0</td>\n",
       "      <td>1.5</td>\n",
       "      <td>1.75</td>\n",
       "      <td>0.25</td>\n",
       "      <td>97.0</td>\n",
       "      <td>50.0</td>\n",
       "      <td>18.0</td>\n",
       "    </tr>\n",
       "    <tr>\n",
       "      <th>2023-09-15 20:13:37</th>\n",
       "      <td>19.0</td>\n",
       "      <td>21.0</td>\n",
       "      <td>0.0</td>\n",
       "      <td>512.0</td>\n",
       "      <td>2415.44</td>\n",
       "      <td>3.598</td>\n",
       "      <td>226.0</td>\n",
       "      <td>5.0</td>\n",
       "      <td>4.0</td>\n",
       "      <td>0.0</td>\n",
       "      <td>...</td>\n",
       "      <td>0.322</td>\n",
       "      <td>0.3770</td>\n",
       "      <td>5.0</td>\n",
       "      <td>5.0</td>\n",
       "      <td>1.5</td>\n",
       "      <td>1.75</td>\n",
       "      <td>0.25</td>\n",
       "      <td>97.0</td>\n",
       "      <td>50.0</td>\n",
       "      <td>19.0</td>\n",
       "    </tr>\n",
       "    <tr>\n",
       "      <th>2023-09-15 20:13:44</th>\n",
       "      <td>20.0</td>\n",
       "      <td>21.0</td>\n",
       "      <td>0.0</td>\n",
       "      <td>512.0</td>\n",
       "      <td>2415.44</td>\n",
       "      <td>3.598</td>\n",
       "      <td>226.0</td>\n",
       "      <td>5.0</td>\n",
       "      <td>4.0</td>\n",
       "      <td>0.0</td>\n",
       "      <td>...</td>\n",
       "      <td>0.322</td>\n",
       "      <td>0.3770</td>\n",
       "      <td>5.0</td>\n",
       "      <td>5.0</td>\n",
       "      <td>1.5</td>\n",
       "      <td>1.75</td>\n",
       "      <td>0.25</td>\n",
       "      <td>97.0</td>\n",
       "      <td>50.0</td>\n",
       "      <td>20.0</td>\n",
       "    </tr>\n",
       "  </tbody>\n",
       "</table>\n",
       "<p>149 rows × 29 columns</p>\n",
       "</div>"
      ],
      "text/plain": [
       "                     IterationNum  IterationCount  wait  AndorROIheight  \\\n",
       "time                                                                      \n",
       "2023-09-15 14:24:20           0.0             7.0   0.0           512.0   \n",
       "2023-09-15 14:25:41           0.0             7.0   0.0           512.0   \n",
       "2023-09-15 14:25:48           1.0             7.0   0.0           512.0   \n",
       "2023-09-15 14:25:55           2.0             7.0   0.0           512.0   \n",
       "2023-09-15 14:26:01           3.0             7.0   0.0           512.0   \n",
       "...                           ...             ...   ...             ...   \n",
       "2023-09-15 20:13:17          16.0            21.0   0.0           512.0   \n",
       "2023-09-15 20:13:24          17.0            21.0   0.0           512.0   \n",
       "2023-09-15 20:13:30          18.0            21.0   0.0           512.0   \n",
       "2023-09-15 20:13:37          19.0            21.0   0.0           512.0   \n",
       "2023-09-15 20:13:44          20.0            21.0   0.0           512.0   \n",
       "\n",
       "                     AndorShortExpDelay_us  LFImg  LF_AOM_freq  time_compress  \\\n",
       "time                                                                            \n",
       "2023-09-15 14:24:20                2415.44  3.598        226.0            5.0   \n",
       "2023-09-15 14:25:41                2415.44  3.598        226.0            5.0   \n",
       "2023-09-15 14:25:48                2415.44  3.598        226.0            5.0   \n",
       "2023-09-15 14:25:55                2415.44  3.598        226.0            5.0   \n",
       "2023-09-15 14:26:01                2415.44  3.598        226.0            5.0   \n",
       "...                                    ...    ...          ...            ...   \n",
       "2023-09-15 20:13:17                2415.44  3.598        226.0            5.0   \n",
       "2023-09-15 20:13:24                2415.44  3.598        226.0            5.0   \n",
       "2023-09-15 20:13:30                2415.44  3.598        226.0            5.0   \n",
       "2023-09-15 20:13:37                2415.44  3.598        226.0            5.0   \n",
       "2023-09-15 20:13:44                2415.44  3.598        226.0            5.0   \n",
       "\n",
       "                     MOT/Re_Attn_final_V  TOF  ...  CamBiasVoltage  \\\n",
       "time                                           ...                   \n",
       "2023-09-15 14:24:20                  4.0  0.0  ...           0.322   \n",
       "2023-09-15 14:25:41                  4.0  0.0  ...           0.322   \n",
       "2023-09-15 14:25:48                  4.0  0.0  ...           0.322   \n",
       "2023-09-15 14:25:55                  4.0  0.0  ...           0.322   \n",
       "2023-09-15 14:26:01                  4.0  0.0  ...           0.322   \n",
       "...                                  ...  ...  ...             ...   \n",
       "2023-09-15 20:13:17                  4.0  0.0  ...           0.322   \n",
       "2023-09-15 20:13:24                  4.0  0.0  ...           0.322   \n",
       "2023-09-15 20:13:30                  4.0  0.0  ...           0.322   \n",
       "2023-09-15 20:13:37                  4.0  0.0  ...           0.322   \n",
       "2023-09-15 20:13:44                  4.0  0.0  ...           0.322   \n",
       "\n",
       "                     VerticalBiasVoltage  piezoX  piezoY  D1Time_ms  \\\n",
       "time                                                                  \n",
       "2023-09-15 14:24:20               0.3770     5.0     5.0        1.5   \n",
       "2023-09-15 14:25:41               0.3770     5.0     5.0        1.5   \n",
       "2023-09-15 14:25:48               0.4675     5.0     5.0        1.5   \n",
       "2023-09-15 14:25:55               0.5580     5.0     5.0        1.5   \n",
       "2023-09-15 14:26:01               0.6485     5.0     5.0        1.5   \n",
       "...                                  ...     ...     ...        ...   \n",
       "2023-09-15 20:13:17               0.3770     5.0     5.0        1.5   \n",
       "2023-09-15 20:13:24               0.3770     5.0     5.0        1.5   \n",
       "2023-09-15 20:13:30               0.3770     5.0     5.0        1.5   \n",
       "2023-09-15 20:13:37               0.3770     5.0     5.0        1.5   \n",
       "2023-09-15 20:13:44               0.3770     5.0     5.0        1.5   \n",
       "\n",
       "                     High_PD_1  High_PD_2  Evap_Time  Evap_Time_2  FLIR_Pulse  \n",
       "time                                                                           \n",
       "2023-09-15 14:24:20       1.75       0.25      100.0         50.0         NaN  \n",
       "2023-09-15 14:25:41       1.75       0.25      100.0         50.0         NaN  \n",
       "2023-09-15 14:25:48       1.75       0.25      100.0         50.0         NaN  \n",
       "2023-09-15 14:25:55       1.75       0.25      100.0         50.0         NaN  \n",
       "2023-09-15 14:26:01       1.75       0.25      100.0         50.0         NaN  \n",
       "...                        ...        ...        ...          ...         ...  \n",
       "2023-09-15 20:13:17       1.75       0.25       97.0         50.0        16.0  \n",
       "2023-09-15 20:13:24       1.75       0.25       97.0         50.0        17.0  \n",
       "2023-09-15 20:13:30       1.75       0.25       97.0         50.0        18.0  \n",
       "2023-09-15 20:13:37       1.75       0.25       97.0         50.0        19.0  \n",
       "2023-09-15 20:13:44       1.75       0.25       97.0         50.0        20.0  \n",
       "\n",
       "[149 rows x 29 columns]"
      ]
     },
     "execution_count": 37,
     "metadata": {},
     "output_type": "execute_result"
    }
   ],
   "source": [
    "parameter_Frame.set_index('time')"
   ]
  },
  {
   "cell_type": "code",
   "execution_count": 39,
   "id": "4c531dc8",
   "metadata": {},
   "outputs": [
    {
     "data": {
      "text/html": [
       "<div>\n",
       "<style scoped>\n",
       "    .dataframe tbody tr th:only-of-type {\n",
       "        vertical-align: middle;\n",
       "    }\n",
       "\n",
       "    .dataframe tbody tr th {\n",
       "        vertical-align: top;\n",
       "    }\n",
       "\n",
       "    .dataframe thead th {\n",
       "        text-align: right;\n",
       "    }\n",
       "</style>\n",
       "<table border=\"1\" class=\"dataframe\">\n",
       "  <thead>\n",
       "    <tr style=\"text-align: right;\">\n",
       "      <th></th>\n",
       "      <th>time</th>\n",
       "      <th>IterationNum</th>\n",
       "      <th>IterationCount</th>\n",
       "      <th>wait</th>\n",
       "      <th>AndorROIheight</th>\n",
       "      <th>AndorShortExpDelay_us</th>\n",
       "      <th>LFImg</th>\n",
       "      <th>LF_AOM_freq</th>\n",
       "      <th>time_compress</th>\n",
       "      <th>MOT/Re_Attn_final_V</th>\n",
       "      <th>...</th>\n",
       "      <th>CamBiasVoltage</th>\n",
       "      <th>VerticalBiasVoltage</th>\n",
       "      <th>piezoX</th>\n",
       "      <th>piezoY</th>\n",
       "      <th>D1Time_ms</th>\n",
       "      <th>High_PD_1</th>\n",
       "      <th>High_PD_2</th>\n",
       "      <th>Evap_Time</th>\n",
       "      <th>Evap_Time_2</th>\n",
       "      <th>FLIR_Pulse</th>\n",
       "    </tr>\n",
       "  </thead>\n",
       "  <tbody>\n",
       "    <tr>\n",
       "      <th>0</th>\n",
       "      <td>2023-09-15 14:24:20</td>\n",
       "      <td>0.0</td>\n",
       "      <td>7.0</td>\n",
       "      <td>0.0</td>\n",
       "      <td>512.0</td>\n",
       "      <td>2415.44</td>\n",
       "      <td>3.598</td>\n",
       "      <td>226.0</td>\n",
       "      <td>5.0</td>\n",
       "      <td>4.0</td>\n",
       "      <td>...</td>\n",
       "      <td>0.322</td>\n",
       "      <td>0.3770</td>\n",
       "      <td>5.0</td>\n",
       "      <td>5.0</td>\n",
       "      <td>1.5</td>\n",
       "      <td>1.75</td>\n",
       "      <td>0.25</td>\n",
       "      <td>100.0</td>\n",
       "      <td>50.0</td>\n",
       "      <td>NaN</td>\n",
       "    </tr>\n",
       "    <tr>\n",
       "      <th>1</th>\n",
       "      <td>2023-09-15 14:25:41</td>\n",
       "      <td>0.0</td>\n",
       "      <td>7.0</td>\n",
       "      <td>0.0</td>\n",
       "      <td>512.0</td>\n",
       "      <td>2415.44</td>\n",
       "      <td>3.598</td>\n",
       "      <td>226.0</td>\n",
       "      <td>5.0</td>\n",
       "      <td>4.0</td>\n",
       "      <td>...</td>\n",
       "      <td>0.322</td>\n",
       "      <td>0.3770</td>\n",
       "      <td>5.0</td>\n",
       "      <td>5.0</td>\n",
       "      <td>1.5</td>\n",
       "      <td>1.75</td>\n",
       "      <td>0.25</td>\n",
       "      <td>100.0</td>\n",
       "      <td>50.0</td>\n",
       "      <td>NaN</td>\n",
       "    </tr>\n",
       "    <tr>\n",
       "      <th>2</th>\n",
       "      <td>2023-09-15 14:25:48</td>\n",
       "      <td>1.0</td>\n",
       "      <td>7.0</td>\n",
       "      <td>0.0</td>\n",
       "      <td>512.0</td>\n",
       "      <td>2415.44</td>\n",
       "      <td>3.598</td>\n",
       "      <td>226.0</td>\n",
       "      <td>5.0</td>\n",
       "      <td>4.0</td>\n",
       "      <td>...</td>\n",
       "      <td>0.322</td>\n",
       "      <td>0.4675</td>\n",
       "      <td>5.0</td>\n",
       "      <td>5.0</td>\n",
       "      <td>1.5</td>\n",
       "      <td>1.75</td>\n",
       "      <td>0.25</td>\n",
       "      <td>100.0</td>\n",
       "      <td>50.0</td>\n",
       "      <td>NaN</td>\n",
       "    </tr>\n",
       "    <tr>\n",
       "      <th>3</th>\n",
       "      <td>2023-09-15 14:25:55</td>\n",
       "      <td>2.0</td>\n",
       "      <td>7.0</td>\n",
       "      <td>0.0</td>\n",
       "      <td>512.0</td>\n",
       "      <td>2415.44</td>\n",
       "      <td>3.598</td>\n",
       "      <td>226.0</td>\n",
       "      <td>5.0</td>\n",
       "      <td>4.0</td>\n",
       "      <td>...</td>\n",
       "      <td>0.322</td>\n",
       "      <td>0.5580</td>\n",
       "      <td>5.0</td>\n",
       "      <td>5.0</td>\n",
       "      <td>1.5</td>\n",
       "      <td>1.75</td>\n",
       "      <td>0.25</td>\n",
       "      <td>100.0</td>\n",
       "      <td>50.0</td>\n",
       "      <td>NaN</td>\n",
       "    </tr>\n",
       "    <tr>\n",
       "      <th>4</th>\n",
       "      <td>2023-09-15 14:26:01</td>\n",
       "      <td>3.0</td>\n",
       "      <td>7.0</td>\n",
       "      <td>0.0</td>\n",
       "      <td>512.0</td>\n",
       "      <td>2415.44</td>\n",
       "      <td>3.598</td>\n",
       "      <td>226.0</td>\n",
       "      <td>5.0</td>\n",
       "      <td>4.0</td>\n",
       "      <td>...</td>\n",
       "      <td>0.322</td>\n",
       "      <td>0.6485</td>\n",
       "      <td>5.0</td>\n",
       "      <td>5.0</td>\n",
       "      <td>1.5</td>\n",
       "      <td>1.75</td>\n",
       "      <td>0.25</td>\n",
       "      <td>100.0</td>\n",
       "      <td>50.0</td>\n",
       "      <td>NaN</td>\n",
       "    </tr>\n",
       "    <tr>\n",
       "      <th>5</th>\n",
       "      <td>2023-09-15 14:26:08</td>\n",
       "      <td>4.0</td>\n",
       "      <td>7.0</td>\n",
       "      <td>0.0</td>\n",
       "      <td>512.0</td>\n",
       "      <td>2415.44</td>\n",
       "      <td>3.598</td>\n",
       "      <td>226.0</td>\n",
       "      <td>5.0</td>\n",
       "      <td>4.0</td>\n",
       "      <td>...</td>\n",
       "      <td>0.322</td>\n",
       "      <td>0.7390</td>\n",
       "      <td>5.0</td>\n",
       "      <td>5.0</td>\n",
       "      <td>1.5</td>\n",
       "      <td>1.75</td>\n",
       "      <td>0.25</td>\n",
       "      <td>100.0</td>\n",
       "      <td>50.0</td>\n",
       "      <td>NaN</td>\n",
       "    </tr>\n",
       "    <tr>\n",
       "      <th>6</th>\n",
       "      <td>2023-09-15 14:26:15</td>\n",
       "      <td>5.0</td>\n",
       "      <td>7.0</td>\n",
       "      <td>0.0</td>\n",
       "      <td>512.0</td>\n",
       "      <td>2415.44</td>\n",
       "      <td>3.598</td>\n",
       "      <td>226.0</td>\n",
       "      <td>5.0</td>\n",
       "      <td>4.0</td>\n",
       "      <td>...</td>\n",
       "      <td>0.322</td>\n",
       "      <td>0.8295</td>\n",
       "      <td>5.0</td>\n",
       "      <td>5.0</td>\n",
       "      <td>1.5</td>\n",
       "      <td>1.75</td>\n",
       "      <td>0.25</td>\n",
       "      <td>100.0</td>\n",
       "      <td>50.0</td>\n",
       "      <td>NaN</td>\n",
       "    </tr>\n",
       "    <tr>\n",
       "      <th>7</th>\n",
       "      <td>2023-09-15 14:26:21</td>\n",
       "      <td>6.0</td>\n",
       "      <td>7.0</td>\n",
       "      <td>0.0</td>\n",
       "      <td>512.0</td>\n",
       "      <td>2415.44</td>\n",
       "      <td>3.598</td>\n",
       "      <td>226.0</td>\n",
       "      <td>5.0</td>\n",
       "      <td>4.0</td>\n",
       "      <td>...</td>\n",
       "      <td>0.322</td>\n",
       "      <td>0.9200</td>\n",
       "      <td>5.0</td>\n",
       "      <td>5.0</td>\n",
       "      <td>1.5</td>\n",
       "      <td>1.75</td>\n",
       "      <td>0.25</td>\n",
       "      <td>100.0</td>\n",
       "      <td>50.0</td>\n",
       "      <td>NaN</td>\n",
       "    </tr>\n",
       "    <tr>\n",
       "      <th>8</th>\n",
       "      <td>2023-09-15 14:40:24</td>\n",
       "      <td>0.0</td>\n",
       "      <td>6.0</td>\n",
       "      <td>0.0</td>\n",
       "      <td>512.0</td>\n",
       "      <td>2415.44</td>\n",
       "      <td>3.598</td>\n",
       "      <td>226.0</td>\n",
       "      <td>5.0</td>\n",
       "      <td>4.0</td>\n",
       "      <td>...</td>\n",
       "      <td>0.322</td>\n",
       "      <td>0.3770</td>\n",
       "      <td>5.0</td>\n",
       "      <td>5.0</td>\n",
       "      <td>1.5</td>\n",
       "      <td>1.75</td>\n",
       "      <td>0.25</td>\n",
       "      <td>100.0</td>\n",
       "      <td>50.0</td>\n",
       "      <td>NaN</td>\n",
       "    </tr>\n",
       "    <tr>\n",
       "      <th>9</th>\n",
       "      <td>2023-09-15 14:40:30</td>\n",
       "      <td>1.0</td>\n",
       "      <td>6.0</td>\n",
       "      <td>1.0</td>\n",
       "      <td>512.0</td>\n",
       "      <td>2415.44</td>\n",
       "      <td>3.598</td>\n",
       "      <td>226.0</td>\n",
       "      <td>5.0</td>\n",
       "      <td>4.0</td>\n",
       "      <td>...</td>\n",
       "      <td>0.322</td>\n",
       "      <td>0.3770</td>\n",
       "      <td>5.0</td>\n",
       "      <td>5.0</td>\n",
       "      <td>1.5</td>\n",
       "      <td>1.75</td>\n",
       "      <td>0.25</td>\n",
       "      <td>100.0</td>\n",
       "      <td>50.0</td>\n",
       "      <td>NaN</td>\n",
       "    </tr>\n",
       "    <tr>\n",
       "      <th>10</th>\n",
       "      <td>2023-09-15 14:40:37</td>\n",
       "      <td>2.0</td>\n",
       "      <td>6.0</td>\n",
       "      <td>0.0</td>\n",
       "      <td>512.0</td>\n",
       "      <td>2415.44</td>\n",
       "      <td>3.598</td>\n",
       "      <td>226.0</td>\n",
       "      <td>5.0</td>\n",
       "      <td>4.0</td>\n",
       "      <td>...</td>\n",
       "      <td>0.322</td>\n",
       "      <td>0.3770</td>\n",
       "      <td>5.0</td>\n",
       "      <td>5.0</td>\n",
       "      <td>1.5</td>\n",
       "      <td>1.75</td>\n",
       "      <td>0.25</td>\n",
       "      <td>100.0</td>\n",
       "      <td>50.0</td>\n",
       "      <td>NaN</td>\n",
       "    </tr>\n",
       "    <tr>\n",
       "      <th>11</th>\n",
       "      <td>2023-09-15 14:40:44</td>\n",
       "      <td>3.0</td>\n",
       "      <td>6.0</td>\n",
       "      <td>1.0</td>\n",
       "      <td>512.0</td>\n",
       "      <td>2415.44</td>\n",
       "      <td>3.598</td>\n",
       "      <td>226.0</td>\n",
       "      <td>5.0</td>\n",
       "      <td>4.0</td>\n",
       "      <td>...</td>\n",
       "      <td>0.322</td>\n",
       "      <td>0.3770</td>\n",
       "      <td>5.0</td>\n",
       "      <td>5.0</td>\n",
       "      <td>1.5</td>\n",
       "      <td>1.75</td>\n",
       "      <td>0.25</td>\n",
       "      <td>100.0</td>\n",
       "      <td>50.0</td>\n",
       "      <td>NaN</td>\n",
       "    </tr>\n",
       "    <tr>\n",
       "      <th>12</th>\n",
       "      <td>2023-09-15 14:40:50</td>\n",
       "      <td>4.0</td>\n",
       "      <td>6.0</td>\n",
       "      <td>0.0</td>\n",
       "      <td>512.0</td>\n",
       "      <td>2415.44</td>\n",
       "      <td>3.598</td>\n",
       "      <td>226.0</td>\n",
       "      <td>5.0</td>\n",
       "      <td>4.0</td>\n",
       "      <td>...</td>\n",
       "      <td>0.322</td>\n",
       "      <td>0.3770</td>\n",
       "      <td>5.0</td>\n",
       "      <td>5.0</td>\n",
       "      <td>1.5</td>\n",
       "      <td>1.75</td>\n",
       "      <td>0.25</td>\n",
       "      <td>100.0</td>\n",
       "      <td>50.0</td>\n",
       "      <td>NaN</td>\n",
       "    </tr>\n",
       "    <tr>\n",
       "      <th>13</th>\n",
       "      <td>2023-09-15 14:40:57</td>\n",
       "      <td>5.0</td>\n",
       "      <td>6.0</td>\n",
       "      <td>1.0</td>\n",
       "      <td>512.0</td>\n",
       "      <td>2415.44</td>\n",
       "      <td>3.598</td>\n",
       "      <td>226.0</td>\n",
       "      <td>5.0</td>\n",
       "      <td>4.0</td>\n",
       "      <td>...</td>\n",
       "      <td>0.322</td>\n",
       "      <td>0.3770</td>\n",
       "      <td>5.0</td>\n",
       "      <td>5.0</td>\n",
       "      <td>1.5</td>\n",
       "      <td>1.75</td>\n",
       "      <td>0.25</td>\n",
       "      <td>100.0</td>\n",
       "      <td>50.0</td>\n",
       "      <td>NaN</td>\n",
       "    </tr>\n",
       "    <tr>\n",
       "      <th>14</th>\n",
       "      <td>2023-09-15 14:41:36</td>\n",
       "      <td>0.0</td>\n",
       "      <td>6.0</td>\n",
       "      <td>0.0</td>\n",
       "      <td>512.0</td>\n",
       "      <td>2415.44</td>\n",
       "      <td>3.598</td>\n",
       "      <td>226.0</td>\n",
       "      <td>5.0</td>\n",
       "      <td>4.0</td>\n",
       "      <td>...</td>\n",
       "      <td>0.322</td>\n",
       "      <td>0.3770</td>\n",
       "      <td>5.0</td>\n",
       "      <td>5.0</td>\n",
       "      <td>1.5</td>\n",
       "      <td>1.75</td>\n",
       "      <td>0.25</td>\n",
       "      <td>100.0</td>\n",
       "      <td>50.0</td>\n",
       "      <td>NaN</td>\n",
       "    </tr>\n",
       "    <tr>\n",
       "      <th>15</th>\n",
       "      <td>2023-09-15 14:41:42</td>\n",
       "      <td>1.0</td>\n",
       "      <td>6.0</td>\n",
       "      <td>1.0</td>\n",
       "      <td>512.0</td>\n",
       "      <td>2415.44</td>\n",
       "      <td>3.598</td>\n",
       "      <td>226.0</td>\n",
       "      <td>5.0</td>\n",
       "      <td>4.0</td>\n",
       "      <td>...</td>\n",
       "      <td>0.322</td>\n",
       "      <td>0.3770</td>\n",
       "      <td>5.0</td>\n",
       "      <td>5.0</td>\n",
       "      <td>1.5</td>\n",
       "      <td>1.75</td>\n",
       "      <td>0.25</td>\n",
       "      <td>100.0</td>\n",
       "      <td>50.0</td>\n",
       "      <td>NaN</td>\n",
       "    </tr>\n",
       "    <tr>\n",
       "      <th>16</th>\n",
       "      <td>2023-09-15 14:41:49</td>\n",
       "      <td>2.0</td>\n",
       "      <td>6.0</td>\n",
       "      <td>0.0</td>\n",
       "      <td>512.0</td>\n",
       "      <td>2415.44</td>\n",
       "      <td>3.598</td>\n",
       "      <td>226.0</td>\n",
       "      <td>5.0</td>\n",
       "      <td>4.0</td>\n",
       "      <td>...</td>\n",
       "      <td>0.322</td>\n",
       "      <td>0.3770</td>\n",
       "      <td>5.0</td>\n",
       "      <td>5.0</td>\n",
       "      <td>1.5</td>\n",
       "      <td>1.75</td>\n",
       "      <td>0.25</td>\n",
       "      <td>100.0</td>\n",
       "      <td>50.0</td>\n",
       "      <td>NaN</td>\n",
       "    </tr>\n",
       "    <tr>\n",
       "      <th>17</th>\n",
       "      <td>2023-09-15 14:41:56</td>\n",
       "      <td>3.0</td>\n",
       "      <td>6.0</td>\n",
       "      <td>1.0</td>\n",
       "      <td>512.0</td>\n",
       "      <td>2415.44</td>\n",
       "      <td>3.598</td>\n",
       "      <td>226.0</td>\n",
       "      <td>5.0</td>\n",
       "      <td>4.0</td>\n",
       "      <td>...</td>\n",
       "      <td>0.322</td>\n",
       "      <td>0.3770</td>\n",
       "      <td>5.0</td>\n",
       "      <td>5.0</td>\n",
       "      <td>1.5</td>\n",
       "      <td>1.75</td>\n",
       "      <td>0.25</td>\n",
       "      <td>100.0</td>\n",
       "      <td>50.0</td>\n",
       "      <td>NaN</td>\n",
       "    </tr>\n",
       "    <tr>\n",
       "      <th>18</th>\n",
       "      <td>2023-09-15 14:42:02</td>\n",
       "      <td>4.0</td>\n",
       "      <td>6.0</td>\n",
       "      <td>0.0</td>\n",
       "      <td>512.0</td>\n",
       "      <td>2415.44</td>\n",
       "      <td>3.598</td>\n",
       "      <td>226.0</td>\n",
       "      <td>5.0</td>\n",
       "      <td>4.0</td>\n",
       "      <td>...</td>\n",
       "      <td>0.322</td>\n",
       "      <td>0.3770</td>\n",
       "      <td>5.0</td>\n",
       "      <td>5.0</td>\n",
       "      <td>1.5</td>\n",
       "      <td>1.75</td>\n",
       "      <td>0.25</td>\n",
       "      <td>100.0</td>\n",
       "      <td>50.0</td>\n",
       "      <td>NaN</td>\n",
       "    </tr>\n",
       "    <tr>\n",
       "      <th>19</th>\n",
       "      <td>2023-09-15 14:42:09</td>\n",
       "      <td>5.0</td>\n",
       "      <td>6.0</td>\n",
       "      <td>1.0</td>\n",
       "      <td>512.0</td>\n",
       "      <td>2415.44</td>\n",
       "      <td>3.598</td>\n",
       "      <td>226.0</td>\n",
       "      <td>5.0</td>\n",
       "      <td>4.0</td>\n",
       "      <td>...</td>\n",
       "      <td>0.322</td>\n",
       "      <td>0.3770</td>\n",
       "      <td>5.0</td>\n",
       "      <td>5.0</td>\n",
       "      <td>1.5</td>\n",
       "      <td>1.75</td>\n",
       "      <td>0.25</td>\n",
       "      <td>100.0</td>\n",
       "      <td>50.0</td>\n",
       "      <td>NaN</td>\n",
       "    </tr>\n",
       "    <tr>\n",
       "      <th>20</th>\n",
       "      <td>2023-09-15 15:22:58</td>\n",
       "      <td>0.0</td>\n",
       "      <td>6.0</td>\n",
       "      <td>0.0</td>\n",
       "      <td>512.0</td>\n",
       "      <td>2415.44</td>\n",
       "      <td>3.598</td>\n",
       "      <td>226.0</td>\n",
       "      <td>5.0</td>\n",
       "      <td>4.0</td>\n",
       "      <td>...</td>\n",
       "      <td>0.322</td>\n",
       "      <td>0.3770</td>\n",
       "      <td>5.0</td>\n",
       "      <td>5.0</td>\n",
       "      <td>1.5</td>\n",
       "      <td>1.75</td>\n",
       "      <td>0.25</td>\n",
       "      <td>100.0</td>\n",
       "      <td>50.0</td>\n",
       "      <td>NaN</td>\n",
       "    </tr>\n",
       "    <tr>\n",
       "      <th>21</th>\n",
       "      <td>2023-09-15 15:24:26</td>\n",
       "      <td>0.0</td>\n",
       "      <td>6.0</td>\n",
       "      <td>0.0</td>\n",
       "      <td>512.0</td>\n",
       "      <td>2415.44</td>\n",
       "      <td>3.598</td>\n",
       "      <td>226.0</td>\n",
       "      <td>5.0</td>\n",
       "      <td>4.0</td>\n",
       "      <td>...</td>\n",
       "      <td>0.322</td>\n",
       "      <td>0.3770</td>\n",
       "      <td>5.0</td>\n",
       "      <td>5.0</td>\n",
       "      <td>1.5</td>\n",
       "      <td>1.75</td>\n",
       "      <td>0.25</td>\n",
       "      <td>100.0</td>\n",
       "      <td>50.0</td>\n",
       "      <td>NaN</td>\n",
       "    </tr>\n",
       "    <tr>\n",
       "      <th>22</th>\n",
       "      <td>2023-09-15 15:26:26</td>\n",
       "      <td>0.0</td>\n",
       "      <td>6.0</td>\n",
       "      <td>0.0</td>\n",
       "      <td>512.0</td>\n",
       "      <td>2415.44</td>\n",
       "      <td>3.598</td>\n",
       "      <td>226.0</td>\n",
       "      <td>5.0</td>\n",
       "      <td>4.0</td>\n",
       "      <td>...</td>\n",
       "      <td>0.322</td>\n",
       "      <td>0.3770</td>\n",
       "      <td>5.0</td>\n",
       "      <td>5.0</td>\n",
       "      <td>1.5</td>\n",
       "      <td>1.75</td>\n",
       "      <td>0.25</td>\n",
       "      <td>100.0</td>\n",
       "      <td>50.0</td>\n",
       "      <td>NaN</td>\n",
       "    </tr>\n",
       "  </tbody>\n",
       "</table>\n",
       "<p>23 rows × 30 columns</p>\n",
       "</div>"
      ],
      "text/plain": [
       "                  time  IterationNum  IterationCount  wait  AndorROIheight  \\\n",
       "0  2023-09-15 14:24:20           0.0             7.0   0.0           512.0   \n",
       "1  2023-09-15 14:25:41           0.0             7.0   0.0           512.0   \n",
       "2  2023-09-15 14:25:48           1.0             7.0   0.0           512.0   \n",
       "3  2023-09-15 14:25:55           2.0             7.0   0.0           512.0   \n",
       "4  2023-09-15 14:26:01           3.0             7.0   0.0           512.0   \n",
       "5  2023-09-15 14:26:08           4.0             7.0   0.0           512.0   \n",
       "6  2023-09-15 14:26:15           5.0             7.0   0.0           512.0   \n",
       "7  2023-09-15 14:26:21           6.0             7.0   0.0           512.0   \n",
       "8  2023-09-15 14:40:24           0.0             6.0   0.0           512.0   \n",
       "9  2023-09-15 14:40:30           1.0             6.0   1.0           512.0   \n",
       "10 2023-09-15 14:40:37           2.0             6.0   0.0           512.0   \n",
       "11 2023-09-15 14:40:44           3.0             6.0   1.0           512.0   \n",
       "12 2023-09-15 14:40:50           4.0             6.0   0.0           512.0   \n",
       "13 2023-09-15 14:40:57           5.0             6.0   1.0           512.0   \n",
       "14 2023-09-15 14:41:36           0.0             6.0   0.0           512.0   \n",
       "15 2023-09-15 14:41:42           1.0             6.0   1.0           512.0   \n",
       "16 2023-09-15 14:41:49           2.0             6.0   0.0           512.0   \n",
       "17 2023-09-15 14:41:56           3.0             6.0   1.0           512.0   \n",
       "18 2023-09-15 14:42:02           4.0             6.0   0.0           512.0   \n",
       "19 2023-09-15 14:42:09           5.0             6.0   1.0           512.0   \n",
       "20 2023-09-15 15:22:58           0.0             6.0   0.0           512.0   \n",
       "21 2023-09-15 15:24:26           0.0             6.0   0.0           512.0   \n",
       "22 2023-09-15 15:26:26           0.0             6.0   0.0           512.0   \n",
       "\n",
       "    AndorShortExpDelay_us  LFImg  LF_AOM_freq  time_compress  \\\n",
       "0                 2415.44  3.598        226.0            5.0   \n",
       "1                 2415.44  3.598        226.0            5.0   \n",
       "2                 2415.44  3.598        226.0            5.0   \n",
       "3                 2415.44  3.598        226.0            5.0   \n",
       "4                 2415.44  3.598        226.0            5.0   \n",
       "5                 2415.44  3.598        226.0            5.0   \n",
       "6                 2415.44  3.598        226.0            5.0   \n",
       "7                 2415.44  3.598        226.0            5.0   \n",
       "8                 2415.44  3.598        226.0            5.0   \n",
       "9                 2415.44  3.598        226.0            5.0   \n",
       "10                2415.44  3.598        226.0            5.0   \n",
       "11                2415.44  3.598        226.0            5.0   \n",
       "12                2415.44  3.598        226.0            5.0   \n",
       "13                2415.44  3.598        226.0            5.0   \n",
       "14                2415.44  3.598        226.0            5.0   \n",
       "15                2415.44  3.598        226.0            5.0   \n",
       "16                2415.44  3.598        226.0            5.0   \n",
       "17                2415.44  3.598        226.0            5.0   \n",
       "18                2415.44  3.598        226.0            5.0   \n",
       "19                2415.44  3.598        226.0            5.0   \n",
       "20                2415.44  3.598        226.0            5.0   \n",
       "21                2415.44  3.598        226.0            5.0   \n",
       "22                2415.44  3.598        226.0            5.0   \n",
       "\n",
       "    MOT/Re_Attn_final_V  ...  CamBiasVoltage  VerticalBiasVoltage  piezoX  \\\n",
       "0                   4.0  ...           0.322               0.3770     5.0   \n",
       "1                   4.0  ...           0.322               0.3770     5.0   \n",
       "2                   4.0  ...           0.322               0.4675     5.0   \n",
       "3                   4.0  ...           0.322               0.5580     5.0   \n",
       "4                   4.0  ...           0.322               0.6485     5.0   \n",
       "5                   4.0  ...           0.322               0.7390     5.0   \n",
       "6                   4.0  ...           0.322               0.8295     5.0   \n",
       "7                   4.0  ...           0.322               0.9200     5.0   \n",
       "8                   4.0  ...           0.322               0.3770     5.0   \n",
       "9                   4.0  ...           0.322               0.3770     5.0   \n",
       "10                  4.0  ...           0.322               0.3770     5.0   \n",
       "11                  4.0  ...           0.322               0.3770     5.0   \n",
       "12                  4.0  ...           0.322               0.3770     5.0   \n",
       "13                  4.0  ...           0.322               0.3770     5.0   \n",
       "14                  4.0  ...           0.322               0.3770     5.0   \n",
       "15                  4.0  ...           0.322               0.3770     5.0   \n",
       "16                  4.0  ...           0.322               0.3770     5.0   \n",
       "17                  4.0  ...           0.322               0.3770     5.0   \n",
       "18                  4.0  ...           0.322               0.3770     5.0   \n",
       "19                  4.0  ...           0.322               0.3770     5.0   \n",
       "20                  4.0  ...           0.322               0.3770     5.0   \n",
       "21                  4.0  ...           0.322               0.3770     5.0   \n",
       "22                  4.0  ...           0.322               0.3770     5.0   \n",
       "\n",
       "    piezoY  D1Time_ms  High_PD_1  High_PD_2  Evap_Time  Evap_Time_2  \\\n",
       "0      5.0        1.5       1.75       0.25      100.0         50.0   \n",
       "1      5.0        1.5       1.75       0.25      100.0         50.0   \n",
       "2      5.0        1.5       1.75       0.25      100.0         50.0   \n",
       "3      5.0        1.5       1.75       0.25      100.0         50.0   \n",
       "4      5.0        1.5       1.75       0.25      100.0         50.0   \n",
       "5      5.0        1.5       1.75       0.25      100.0         50.0   \n",
       "6      5.0        1.5       1.75       0.25      100.0         50.0   \n",
       "7      5.0        1.5       1.75       0.25      100.0         50.0   \n",
       "8      5.0        1.5       1.75       0.25      100.0         50.0   \n",
       "9      5.0        1.5       1.75       0.25      100.0         50.0   \n",
       "10     5.0        1.5       1.75       0.25      100.0         50.0   \n",
       "11     5.0        1.5       1.75       0.25      100.0         50.0   \n",
       "12     5.0        1.5       1.75       0.25      100.0         50.0   \n",
       "13     5.0        1.5       1.75       0.25      100.0         50.0   \n",
       "14     5.0        1.5       1.75       0.25      100.0         50.0   \n",
       "15     5.0        1.5       1.75       0.25      100.0         50.0   \n",
       "16     5.0        1.5       1.75       0.25      100.0         50.0   \n",
       "17     5.0        1.5       1.75       0.25      100.0         50.0   \n",
       "18     5.0        1.5       1.75       0.25      100.0         50.0   \n",
       "19     5.0        1.5       1.75       0.25      100.0         50.0   \n",
       "20     5.0        1.5       1.75       0.25      100.0         50.0   \n",
       "21     5.0        1.5       1.75       0.25      100.0         50.0   \n",
       "22     5.0        1.5       1.75       0.25      100.0         50.0   \n",
       "\n",
       "    FLIR_Pulse  \n",
       "0          NaN  \n",
       "1          NaN  \n",
       "2          NaN  \n",
       "3          NaN  \n",
       "4          NaN  \n",
       "5          NaN  \n",
       "6          NaN  \n",
       "7          NaN  \n",
       "8          NaN  \n",
       "9          NaN  \n",
       "10         NaN  \n",
       "11         NaN  \n",
       "12         NaN  \n",
       "13         NaN  \n",
       "14         NaN  \n",
       "15         NaN  \n",
       "16         NaN  \n",
       "17         NaN  \n",
       "18         NaN  \n",
       "19         NaN  \n",
       "20         NaN  \n",
       "21         NaN  \n",
       "22         NaN  \n",
       "\n",
       "[23 rows x 30 columns]"
      ]
     },
     "execution_count": 39,
     "metadata": {},
     "output_type": "execute_result"
    }
   ],
   "source": [
    "parameter_Frame.query('time <= datetime.datetime(2023, 9, 15, 16, 50, 46)')"
   ]
  },
  {
   "cell_type": "code",
   "execution_count": 191,
   "id": "fb380631",
   "metadata": {
    "scrolled": true
   },
   "outputs": [
    {
     "data": {
      "text/plain": [
       "0      True\n",
       "1      True\n",
       "2      True\n",
       "3      True\n",
       "4     False\n",
       "5     False\n",
       "6     False\n",
       "7     False\n",
       "8     False\n",
       "9     False\n",
       "10    False\n",
       "11    False\n",
       "12    False\n",
       "13    False\n",
       "14    False\n",
       "15    False\n",
       "16    False\n",
       "17    False\n",
       "18    False\n",
       "19    False\n",
       "20    False\n",
       "21    False\n",
       "22    False\n",
       "23    False\n",
       "24    False\n",
       "25    False\n",
       "26    False\n",
       "27    False\n",
       "28    False\n",
       "29    False\n",
       "30    False\n",
       "31    False\n",
       "32    False\n",
       "33    False\n",
       "34    False\n",
       "35    False\n",
       "36    False\n",
       "37    False\n",
       "38    False\n",
       "39    False\n",
       "40    False\n",
       "Name: time, dtype: bool"
      ]
     },
     "execution_count": 191,
     "metadata": {},
     "output_type": "execute_result"
    }
   ],
   "source": [
    "parameter_Frame.time <= datetime.datetime(2023, 9, 8, 16, 50, 46)"
   ]
  },
  {
   "cell_type": "code",
   "execution_count": 65,
   "id": "1c57262d",
   "metadata": {},
   "outputs": [],
   "source": [
    "def extractParameter(parameterName):\n",
    "    return [ii[parameterName] for ii in parameter_list]"
   ]
  },
  {
   "cell_type": "code",
   "execution_count": 70,
   "id": "918a3302",
   "metadata": {},
   "outputs": [],
   "source": [
    "cMOTCoil = extractParameter('cMOT coil')\n",
    "cMOTDwell_ms = extractParameter('cMOT dwell_ms')\n",
    "ZSBiasI = extractParameter('ZSBiasCurrent')\n",
    "CamBiasI = extractParameter('CamBiasCurrent')\n",
    "VerticalBiasI = extractParameter('VerticalBiasCurrent')\n",
    "ZSBiasV = extractParameter('ZSBiasVoltage')\n",
    "CamBiasV = extractParameter('CamBiasVoltage')\n",
    "VerticalBiasV = extractParameter('VerticalBiasVoltage')"
   ]
  },
  {
   "cell_type": "code",
   "execution_count": 77,
   "id": "f10046da",
   "metadata": {},
   "outputs": [
    {
     "data": {
      "text/plain": [
       "[<matplotlib.lines.Line2D at 0x2196e97e198>]"
      ]
     },
     "execution_count": 77,
     "metadata": {},
     "output_type": "execute_result"
    },
    {
     "data": {
      "image/png": "[encoded data removed]",
      "text/plain": [
       "<Figure size 360x1080 with 5 Axes>"
      ]
     },
     "metadata": {
      "needs_background": "light"
     },
     "output_type": "display_data"
    }
   ],
   "source": [
    "fig, axes = plt.subplots(5, 1, figsize=(5,15))\n",
    "\n",
    "axes[0].plot(cMOTCoil)\n",
    "axes[1].plot(cMOTDwell_ms)\n",
    "axes[2].plot(ZSBiasI)\n",
    "axes[3].plot(CamBiasI)\n",
    "axes[4].plot(VerticalBiasI)\n",
    "# axes[5].plot(ZSBiasV)\n",
    "# axes[6].plot(CamBiasV)\n",
    "# axes[7].plot(VerticalBiasV)"
   ]
  },
  {
   "cell_type": "code",
   "execution_count": 45,
   "id": "934199c3",
   "metadata": {},
   "outputs": [],
   "source": [
    "d = {}\n",
    "with open(\"Variables_2023_09_12_13_58_15_0.txt\") as f:\n",
    "    next(f)\n",
    "    for line in f:\n",
    "        key, val = line.strip().split(' = ')\n",
    "        d[key] = float(val)"
   ]
  },
  {
   "cell_type": "code",
   "execution_count": 79,
   "id": "939be28b",
   "metadata": {
    "scrolled": true
   },
   "outputs": [
    {
     "data": {
      "text/plain": [
       "{'IterationNum': 0.0,\n",
       " 'IterationCount': 1.0,\n",
       " 'wait': 0.0,\n",
       " 'AndorROIheight': 512.0,\n",
       " 'AndorShortExpDelay_us': 2415.44,\n",
       " 'LFImg': 3.598,\n",
       " 'LF_AOM_freq': 226.0,\n",
       " 'time compress': 5.0,\n",
       " 'MOT/Re Attn final V': 4.0,\n",
       " 'TOF': 0.0,\n",
       " 'IR_1': 0.0,\n",
       " 'tmod_ms': 0.0,\n",
       " 'fmod_kHz': 0.0,\n",
       " 'cMOT coil': 0.2,\n",
       " 'cMOT dwell_ms': 2.0,\n",
       " 'ZSBiasCurrent': 6.0,\n",
       " 'CamBiasCurrent': 0.0,\n",
       " 'VerticalBiasCurrent': 5.0,\n",
       " 'ZSBiasVoltage': 1.44,\n",
       " 'CamBiasVoltage': 0.322,\n",
       " 'VerticalBiasVoltage': 1.282,\n",
       " 'piezoX': 5.0,\n",
       " 'piezoY': 5.0,\n",
       " 'D1Time_ms': 1.5,\n",
       " 'High PD 1': 1.75,\n",
       " 'High PD 2': 0.25,\n",
       " 'Evap Time': 100.0,\n",
       " 'Evap Time 2': 50.0}"
      ]
     },
     "execution_count": 79,
     "metadata": {},
     "output_type": "execute_result"
    }
   ],
   "source": [
    "d"
   ]
  },
  {
   "cell_type": "code",
   "execution_count": null,
   "id": "84b9a95b",
   "metadata": {},
   "outputs": [],
   "source": []
  },
  {
   "cell_type": "code",
   "execution_count": 83,
   "id": "b222635e",
   "metadata": {},
   "outputs": [
    {
     "data": {
      "text/plain": [
       "pandas.core.frame.DataFrame"
      ]
     },
     "execution_count": 83,
     "metadata": {},
     "output_type": "execute_result"
    }
   ],
   "source": [
    "type(parameter_Frame)"
   ]
  },
  {
   "cell_type": "code",
   "execution_count": 91,
   "id": "22cf368e",
   "metadata": {},
   "outputs": [
    {
     "data": {
      "text/plain": [
       "<AxesSubplot:>"
      ]
     },
     "execution_count": 91,
     "metadata": {},
     "output_type": "execute_result"
    },
    {
     "data": {
      "image/png": "[encoded data removed]",
      "text/plain": [
       "<Figure size 432x288 with 1 Axes>"
      ]
     },
     "metadata": {
      "needs_background": "light"
     },
     "output_type": "display_data"
    }
   ],
   "source": [
    "parameter_Frame.VerticalBiasCurrent.plot(legend=1)"
   ]
  },
  {
   "cell_type": "code",
   "execution_count": 204,
   "id": "802481f7",
   "metadata": {},
   "outputs": [
    {
     "data": {
      "text/plain": [
       "<AxesSubplot:xlabel='time'>"
      ]
     },
     "execution_count": 204,
     "metadata": {},
     "output_type": "execute_result"
    },
    {
     "data": {
      "image/png": "[encoded data removed]",
      "text/plain": [
       "<Figure size 432x288 with 1 Axes>"
      ]
     },
     "metadata": {
      "needs_background": "light"
     },
     "output_type": "display_data"
    }
   ],
   "source": [
    "parameter_Frame.plot('time', ['VerticalBiasCurrent', 'cMOT coil'])"
   ]
  },
  {
   "cell_type": "code",
   "execution_count": null,
   "id": "53ad3334",
   "metadata": {},
   "outputs": [],
   "source": []
  },
  {
   "cell_type": "code",
   "execution_count": 206,
   "id": "ff474a84",
   "metadata": {},
   "outputs": [
    {
     "data": {
      "text/plain": [
       "0     0.0\n",
       "1     0.0\n",
       "2     0.0\n",
       "3     0.0\n",
       "4     0.0\n",
       "5     0.0\n",
       "6     0.0\n",
       "7     0.0\n",
       "8     0.0\n",
       "9     0.0\n",
       "10    0.0\n",
       "11    0.0\n",
       "12    0.0\n",
       "13    0.0\n",
       "14    0.0\n",
       "15    0.0\n",
       "16    0.0\n",
       "17    0.0\n",
       "18    0.0\n",
       "19    0.0\n",
       "20    0.0\n",
       "21    0.0\n",
       "22    0.0\n",
       "23    0.0\n",
       "24    0.0\n",
       "25    0.0\n",
       "26    0.0\n",
       "27    0.0\n",
       "28    0.0\n",
       "29    0.0\n",
       "30    0.0\n",
       "31    0.0\n",
       "32    0.0\n",
       "33    1.0\n",
       "34    2.0\n",
       "35    0.0\n",
       "36    0.0\n",
       "37    0.0\n",
       "38    0.0\n",
       "39    1.0\n",
       "40    5.0\n",
       "Name: VerticalBiasCurrent, dtype: float64"
      ]
     },
     "execution_count": 206,
     "metadata": {},
     "output_type": "execute_result"
    }
   ],
   "source": [
    "parameter_Frame.VerticalBiasCurrent"
   ]
  },
  {
   "cell_type": "code",
   "execution_count": null,
   "id": "dba948f5",
   "metadata": {},
   "outputs": [],
   "source": []
  },
  {
   "cell_type": "code",
   "execution_count": 198,
   "id": "3d66995e",
   "metadata": {
    "scrolled": true
   },
   "outputs": [
    {
     "data": {
      "text/plain": [
       "<AxesSubplot:>"
      ]
     },
     "execution_count": 198,
     "metadata": {},
     "output_type": "execute_result"
    },
    {
     "data": {
      "image/png": "[encoded data removed]",
      "text/plain": [
       "<Figure size 432x288 with 1 Axes>"
      ]
     },
     "metadata": {
      "needs_background": "light"
     },
     "output_type": "display_data"
    }
   ],
   "source": [
    "parameter_Frame['cMOT coil'].plot()"
   ]
  },
  {
   "cell_type": "code",
   "execution_count": 93,
   "id": "06ab168d",
   "metadata": {},
   "outputs": [
    {
     "data": {
      "text/html": [
       "<div>\n",
       "<style scoped>\n",
       "    .dataframe tbody tr th:only-of-type {\n",
       "        vertical-align: middle;\n",
       "    }\n",
       "\n",
       "    .dataframe tbody tr th {\n",
       "        vertical-align: top;\n",
       "    }\n",
       "\n",
       "    .dataframe thead th {\n",
       "        text-align: right;\n",
       "    }\n",
       "</style>\n",
       "<table border=\"1\" class=\"dataframe\">\n",
       "  <thead>\n",
       "    <tr style=\"text-align: right;\">\n",
       "      <th></th>\n",
       "      <th>col1</th>\n",
       "      <th>col2</th>\n",
       "    </tr>\n",
       "  </thead>\n",
       "  <tbody>\n",
       "    <tr>\n",
       "      <th>0</th>\n",
       "      <td>1</td>\n",
       "      <td>3</td>\n",
       "    </tr>\n",
       "    <tr>\n",
       "      <th>1</th>\n",
       "      <td>2</td>\n",
       "      <td>4</td>\n",
       "    </tr>\n",
       "  </tbody>\n",
       "</table>\n",
       "</div>"
      ],
      "text/plain": [
       "   col1  col2\n",
       "0     1     3\n",
       "1     2     4"
      ]
     },
     "execution_count": 93,
     "metadata": {},
     "output_type": "execute_result"
    }
   ],
   "source": [
    "d = {'col1': [1, 2], 'col2': [3, 4]}\n",
    "df = pd.DataFrame(data=d)\n",
    "df"
   ]
  },
  {
   "cell_type": "code",
   "execution_count": null,
   "id": "f12ae5fe",
   "metadata": {},
   "outputs": [],
   "source": []
  },
  {
   "cell_type": "code",
   "execution_count": 19,
   "id": "95c93b72",
   "metadata": {},
   "outputs": [],
   "source": [
    "mydict = {1:1, 2:3, 5:65}"
   ]
  },
  {
   "cell_type": "code",
   "execution_count": 23,
   "id": "f2702a5b",
   "metadata": {},
   "outputs": [
    {
     "data": {
      "text/plain": [
       "65"
      ]
     },
     "execution_count": 23,
     "metadata": {},
     "output_type": "execute_result"
    }
   ],
   "source": [
    "mydict[5]"
   ]
  },
  {
   "cell_type": "code",
   "execution_count": 24,
   "id": "bbe8e517",
   "metadata": {},
   "outputs": [],
   "source": [
    "with open('myfile.txt', 'w') as f:\n",
    "    print(mydict, file=f)\n"
   ]
  },
  {
   "cell_type": "code",
   "execution_count": null,
   "id": "1d06668f",
   "metadata": {},
   "outputs": [],
   "source": []
  },
  {
   "cell_type": "code",
   "execution_count": null,
   "id": "cc1f6218",
   "metadata": {},
   "outputs": [],
   "source": []
  },
  {
   "cell_type": "code",
   "execution_count": 207,
   "id": "92910d06",
   "metadata": {},
   "outputs": [
    {
     "data": {
      "text/plain": [
       "1694211248.7640698"
      ]
     },
     "execution_count": 207,
     "metadata": {},
     "output_type": "execute_result"
    }
   ],
   "source": [
    "time.tim(os.path.getctime(r'Z:\\ats317group\\Data\\2023\\09-2023\\08 Sep 2023\\Andor\\move cMOT\\5000000000spool.dat'))"
   ]
  },
  {
   "cell_type": "code",
   "execution_count": 214,
   "id": "b484b0e3",
   "metadata": {},
   "outputs": [
    {
     "data": {
      "text/plain": [
       "datetime.datetime(2023, 9, 8, 18, 14, 8, 764070)"
      ]
     },
     "execution_count": 214,
     "metadata": {},
     "output_type": "execute_result"
    }
   ],
   "source": [
    "datetime.datetime.fromtimestamp(1694211248.7640698)"
   ]
  },
  {
   "cell_type": "code",
   "execution_count": 376,
   "id": "05cc7f7c",
   "metadata": {},
   "outputs": [
    {
     "data": {
      "text/plain": [
       "Timestamp('2023-09-08 22:14:08.764069796')"
      ]
     },
     "execution_count": 376,
     "metadata": {},
     "output_type": "execute_result"
    }
   ],
   "source": [
    "pd.Timestamp(1694211248.7640698, unit='s')"
   ]
  },
  {
   "cell_type": "code",
   "execution_count": null,
   "id": "78324b12",
   "metadata": {},
   "outputs": [],
   "source": []
  },
  {
   "cell_type": "code",
   "execution_count": null,
   "id": "7c9306e8",
   "metadata": {},
   "outputs": [],
   "source": []
  },
  {
   "cell_type": "markdown",
   "id": "2600a4aa-218b-4ec5-8834-a45812ca3b61",
   "metadata": {
    "jp-MarkdownHeadingCollapsed": true,
    "tags": []
   },
   "source": [
    "### Class"
   ]
  },
  {
   "cell_type": "code",
   "execution_count": 86,
   "id": "6153617f-0bf1-493e-a855-b279abfde126",
   "metadata": {
    "execution": {
     "iopub.execute_input": "2025-01-20T00:26:49.787582Z",
     "iopub.status.busy": "2025-01-20T00:26:49.786958Z",
     "iopub.status.idle": "2025-01-20T00:26:49.847529Z",
     "shell.execute_reply": "2025-01-20T00:26:49.845819Z",
     "shell.execute_reply.started": "2025-01-20T00:26:49.787534Z"
    },
    "tags": []
   },
   "outputs": [],
   "source": [
    "class Complex():\n",
    "    def __init__(self, realpart=1, imagpart=3):\n",
    "        # self = a\n",
    "        self.r = realpart\n",
    "        self.i = imagpart"
   ]
  },
  {
   "cell_type": "code",
   "execution_count": 87,
   "id": "19d169e7-fa83-4549-a77e-3c53c08ec06f",
   "metadata": {
    "execution": {
     "iopub.execute_input": "2025-01-20T00:26:50.016535Z",
     "iopub.status.busy": "2025-01-20T00:26:50.015997Z",
     "iopub.status.idle": "2025-01-20T00:26:50.075463Z",
     "shell.execute_reply": "2025-01-20T00:26:50.073492Z",
     "shell.execute_reply.started": "2025-01-20T00:26:50.016489Z"
    },
    "tags": []
   },
   "outputs": [
    {
     "name": "stdout",
     "output_type": "stream",
     "text": [
      "3.0 -4.5\n"
     ]
    }
   ],
   "source": [
    "x = Complex(3.0, -4.5)\n",
    "print(x.r, x.i)   # 输出结果：3.0 -4.5"
   ]
  },
  {
   "cell_type": "code",
   "execution_count": 83,
   "id": "cf5dda68-b783-48b9-b3e8-d921c8190581",
   "metadata": {
    "execution": {
     "iopub.execute_input": "2025-01-20T00:21:33.077422Z",
     "iopub.status.busy": "2025-01-20T00:21:33.076776Z",
     "iopub.status.idle": "2025-01-20T00:21:33.140442Z",
     "shell.execute_reply": "2025-01-20T00:21:33.138247Z",
     "shell.execute_reply.started": "2025-01-20T00:21:33.077372Z"
    },
    "tags": []
   },
   "outputs": [
    {
     "name": "stdout",
     "output_type": "stream",
     "text": [
      "1 3\n"
     ]
    }
   ],
   "source": [
    "x = Complex()\n",
    "print(x.r, x.i)   # 输出结果：3.0 -4.5"
   ]
  },
  {
   "cell_type": "code",
   "execution_count": null,
   "id": "2193bc10-83b5-42b0-b198-b0f5237ef1c9",
   "metadata": {},
   "outputs": [],
   "source": []
  },
  {
   "cell_type": "code",
   "execution_count": null,
   "id": "3558f3d6-839c-4a50-83ed-68e1d7bb882c",
   "metadata": {},
   "outputs": [],
   "source": [
    "class CodeRunningParameters():\n",
    "    \n",
    "    def __init__(self, \n",
    "                 subtract_burntin=0, skip_first_img='auto',\n",
    "                 rotate_angle, \n",
    "    \n",
    "    "
   ]
  },
  {
   "cell_type": "code",
   "execution_count": 1,
   "id": "18cd844d-798b-4db1-a18f-417aaa40ed72",
   "metadata": {
    "execution": {
     "iopub.execute_input": "2025-01-17T17:03:49.156973Z",
     "iopub.status.busy": "2025-01-17T17:03:49.156227Z",
     "iopub.status.idle": "2025-01-17T17:03:49.175122Z",
     "shell.execute_reply": "2025-01-17T17:03:49.173497Z",
     "shell.execute_reply.started": "2025-01-17T17:03:49.156826Z"
    }
   },
   "outputs": [],
   "source": [
    "runParams = {\n",
    "    'subtract_burntin': [0, 0],\n",
    "    'skip_first_img': ['auto', 0],\n",
    "    'rotate_angle': [0, 0], #rotates ccw\n",
    "    'ROI': [ [10, -10, 10, -10],\n",
    "             [10, -10, 10, -10] ], # rowStart, rowEnd, colStart, colEnd\n",
    "    \n",
    "    'subtract_bg': [0, 0], \n",
    "    'signal_feature': ['wide', 'wide'], \n",
    "    'signal_width': [10, 10], # The narrower the signal, the bigger the number.\n",
    "    'fitbgDeg': [5, 5],\n",
    "    \n",
    "    'optical_path': ['side', 'top']\n",
    "}"
   ]
  },
  {
   "cell_type": "code",
   "execution_count": null,
   "id": "65f72f34-9e18-473c-a97c-d63aca3df6c1",
   "metadata": {},
   "outputs": [],
   "source": []
  },
  {
   "cell_type": "code",
   "execution_count": 67,
   "id": "f6080c44-b506-4ab1-97cc-7af94ce0e35c",
   "metadata": {
    "execution": {
     "iopub.execute_input": "2025-01-19T18:18:46.314161Z",
     "iopub.status.busy": "2025-01-19T18:18:46.313108Z",
     "iopub.status.idle": "2025-01-19T18:18:46.385255Z",
     "shell.execute_reply": "2025-01-19T18:18:46.383277Z",
     "shell.execute_reply.started": "2025-01-19T18:18:46.314094Z"
    },
    "tags": []
   },
   "outputs": [],
   "source": [
    "class people:\n",
    "    #定义基本属性\n",
    "    name = b''\n",
    "    age = 0\n",
    "    #定义私有属性,私有属性在类外部无法直接进行访问\n",
    "    __weight = 0\n",
    "    #定义构造方法\n",
    "    def __init__(self,n,a,w):\n",
    "        self.name = n\n",
    "        self.age = a\n",
    "        self.__weight = w\n",
    "    def speak(self):\n",
    "        print(\"%s 说: 我 %d 岁。\" %(self.name,self.age))"
   ]
  },
  {
   "cell_type": "code",
   "execution_count": 68,
   "id": "5dc9d33d-5455-47d8-a6cf-30912ac38b95",
   "metadata": {
    "execution": {
     "iopub.execute_input": "2025-01-19T18:18:50.006208Z",
     "iopub.status.busy": "2025-01-19T18:18:50.005544Z",
     "iopub.status.idle": "2025-01-19T18:18:50.066127Z",
     "shell.execute_reply": "2025-01-19T18:18:50.064420Z",
     "shell.execute_reply.started": "2025-01-19T18:18:50.006160Z"
    },
    "tags": []
   },
   "outputs": [],
   "source": [
    "p = people(b'runoob',10,30)"
   ]
  },
  {
   "cell_type": "code",
   "execution_count": 69,
   "id": "6a85ca6f-1f6d-4b5a-a103-f8d4d02aba85",
   "metadata": {
    "execution": {
     "iopub.execute_input": "2025-01-19T18:18:51.541754Z",
     "iopub.status.busy": "2025-01-19T18:18:51.541091Z",
     "iopub.status.idle": "2025-01-19T18:18:51.610716Z",
     "shell.execute_reply": "2025-01-19T18:18:51.608704Z",
     "shell.execute_reply.started": "2025-01-19T18:18:51.541704Z"
    },
    "tags": []
   },
   "outputs": [
    {
     "data": {
      "text/plain": [
       "b'runoob'"
      ]
     },
     "execution_count": 69,
     "metadata": {},
     "output_type": "execute_result"
    }
   ],
   "source": [
    "p.name"
   ]
  },
  {
   "cell_type": "code",
   "execution_count": 70,
   "id": "3954de0a-1655-4e45-81a9-ed909b8e2ec2",
   "metadata": {
    "execution": {
     "iopub.execute_input": "2025-01-19T18:18:56.122269Z",
     "iopub.status.busy": "2025-01-19T18:18:56.121543Z",
     "iopub.status.idle": "2025-01-19T18:18:56.180581Z",
     "shell.execute_reply": "2025-01-19T18:18:56.179030Z",
     "shell.execute_reply.started": "2025-01-19T18:18:56.122220Z"
    },
    "tags": []
   },
   "outputs": [],
   "source": [
    "pp = people(b'asdf',10,30)"
   ]
  },
  {
   "cell_type": "code",
   "execution_count": 71,
   "id": "609abadf-fd49-45a2-be3c-d9e06108c480",
   "metadata": {
    "execution": {
     "iopub.execute_input": "2025-01-19T18:18:56.705387Z",
     "iopub.status.busy": "2025-01-19T18:18:56.704735Z",
     "iopub.status.idle": "2025-01-19T18:18:56.769663Z",
     "shell.execute_reply": "2025-01-19T18:18:56.767901Z",
     "shell.execute_reply.started": "2025-01-19T18:18:56.705339Z"
    },
    "tags": []
   },
   "outputs": [
    {
     "data": {
      "text/plain": [
       "b'asdf'"
      ]
     },
     "execution_count": 71,
     "metadata": {},
     "output_type": "execute_result"
    }
   ],
   "source": [
    "pp.name"
   ]
  },
  {
   "cell_type": "code",
   "execution_count": 66,
   "id": "98a125c3-3c29-4b70-ae04-e4feb0f91504",
   "metadata": {
    "execution": {
     "iopub.execute_input": "2025-01-19T18:15:43.129820Z",
     "iopub.status.busy": "2025-01-19T18:15:43.129048Z",
     "iopub.status.idle": "2025-01-19T18:15:43.191743Z",
     "shell.execute_reply": "2025-01-19T18:15:43.190033Z",
     "shell.execute_reply.started": "2025-01-19T18:15:43.129773Z"
    }
   },
   "outputs": [
    {
     "data": {
      "text/plain": [
       "'runoob'"
      ]
     },
     "execution_count": 66,
     "metadata": {},
     "output_type": "execute_result"
    }
   ],
   "source": [
    "p.name"
   ]
  },
  {
   "cell_type": "code",
   "execution_count": null,
   "id": "1f62ddfd-e8aa-484c-93c5-450705d5d285",
   "metadata": {},
   "outputs": [],
   "source": []
  },
  {
   "cell_type": "code",
   "execution_count": null,
   "id": "cc4b6572-66a5-46b6-9b92-026cc36a64db",
   "metadata": {},
   "outputs": [],
   "source": []
  },
  {
   "cell_type": "markdown",
   "id": "2165160d-cc0e-4e90-9760-f6acfedb2a76",
   "metadata": {
    "tags": []
   },
   "source": [
    "### Dict and df for params"
   ]
  },
  {
   "cell_type": "code",
   "execution_count": 24,
   "id": "db5a95a0-6c4a-49da-b09a-62e7584e7776",
   "metadata": {
    "execution": {
     "iopub.execute_input": "2025-02-14T00:50:27.471699Z",
     "iopub.status.busy": "2025-02-14T00:50:27.470899Z",
     "iopub.status.idle": "2025-02-14T00:50:27.557763Z",
     "shell.execute_reply": "2025-02-14T00:50:27.555370Z",
     "shell.execute_reply.started": "2025-02-14T00:50:27.471598Z"
    },
    "tags": []
   },
   "outputs": [],
   "source": [
    "runParams = {\n",
    "    'subtract_burntin': [0, 0],\n",
    "    'skip_first_img': ['auto', 0],\n",
    "    'rotate_angle': [0, 0], #rotates ccw\n",
    "    'ROI': [\n",
    "        # [10, -10, 10, -10],\n",
    "        [300, 430, 650, 1000],\n",
    "        [10, -10, 10, -10]\n",
    "    ], # rowStart, rowEnd, colStart, colEnd\n",
    "    \n",
    "    'subtract_bg': [1, 0], \n",
    "    'y_feature': ['narrow', 'narrow'], \n",
    "    'x_feature': ['wide', 'wide'], \n",
    "    'y_peak_width': [10, 10], # The narrower the signal, the bigger the number.\n",
    "    'x_peak_width': [10, 10], # The narrower the signal, the bigger the number.\n",
    "    'fitbgDeg': [5, 5],\n",
    "    \n",
    "    'optical_path': ['side', 'top']\n",
    "}"
   ]
  },
  {
   "cell_type": "code",
   "execution_count": 25,
   "id": "31e95677-bbd6-45ef-869b-482a2976cf23",
   "metadata": {
    "execution": {
     "iopub.execute_input": "2025-02-14T00:50:29.096235Z",
     "iopub.status.busy": "2025-02-14T00:50:29.095385Z",
     "iopub.status.idle": "2025-02-14T00:50:29.187965Z",
     "shell.execute_reply": "2025-02-14T00:50:29.186026Z",
     "shell.execute_reply.started": "2025-02-14T00:50:29.096175Z"
    },
    "tags": []
   },
   "outputs": [],
   "source": [
    "date = '11/7/2024'\n",
    "\n",
    "params_zyl = ImageAnalysisCode.ExperimentParams(date, axis=runParams['optical_path'][0], cam_type = \"zyla\")\n",
    "params_cha = ImageAnalysisCode.ExperimentParams(date, axis=runParams['optical_path'][1], cam_type = \"chameleon\")\n",
    "runParams['expmntParams'] = [params_zyl, params_cha]\n",
    "runParams['dx_micron'] = np.vectorize( lambda a : a.camera.pixelsize_microns / a.magnification)(runParams['expmntParams'])"
   ]
  },
  {
   "cell_type": "code",
   "execution_count": null,
   "id": "332eef54-4858-435f-a19a-8bd65e7ca306",
   "metadata": {},
   "outputs": [],
   "source": []
  },
  {
   "cell_type": "code",
   "execution_count": 26,
   "id": "cef4df49-5a18-4ea1-9ecc-0f8944d18121",
   "metadata": {
    "execution": {
     "iopub.execute_input": "2025-02-14T00:50:31.471707Z",
     "iopub.status.busy": "2025-02-14T00:50:31.470874Z",
     "iopub.status.idle": "2025-02-14T00:50:31.557070Z",
     "shell.execute_reply": "2025-02-14T00:50:31.554735Z",
     "shell.execute_reply.started": "2025-02-14T00:50:31.471592Z"
    },
    "tags": []
   },
   "outputs": [],
   "source": [
    "runParams = pd.DataFrame.from_dict(runParams, orient='index', columns=['zyl', 'cha'])"
   ]
  },
  {
   "cell_type": "code",
   "execution_count": 27,
   "id": "45cda808-a0ea-4f05-8b0a-c667619ba090",
   "metadata": {
    "execution": {
     "iopub.execute_input": "2025-02-14T00:50:31.904959Z",
     "iopub.status.busy": "2025-02-14T00:50:31.904196Z",
     "iopub.status.idle": "2025-02-14T00:50:32.006123Z",
     "shell.execute_reply": "2025-02-14T00:50:32.003753Z",
     "shell.execute_reply.started": "2025-02-14T00:50:31.904900Z"
    },
    "tags": []
   },
   "outputs": [
    {
     "data": {
      "text/html": [
       "<div>\n",
       "<style scoped>\n",
       "    .dataframe tbody tr th:only-of-type {\n",
       "        vertical-align: middle;\n",
       "    }\n",
       "\n",
       "    .dataframe tbody tr th {\n",
       "        vertical-align: top;\n",
       "    }\n",
       "\n",
       "    .dataframe thead th {\n",
       "        text-align: right;\n",
       "    }\n",
       "</style>\n",
       "<table border=\"1\" class=\"dataframe\">\n",
       "  <thead>\n",
       "    <tr style=\"text-align: right;\">\n",
       "      <th></th>\n",
       "      <th>zyl</th>\n",
       "      <th>cha</th>\n",
       "    </tr>\n",
       "  </thead>\n",
       "  <tbody>\n",
       "    <tr>\n",
       "      <th>subtract_burntin</th>\n",
       "      <td>0</td>\n",
       "      <td>0</td>\n",
       "    </tr>\n",
       "    <tr>\n",
       "      <th>skip_first_img</th>\n",
       "      <td>auto</td>\n",
       "      <td>0</td>\n",
       "    </tr>\n",
       "    <tr>\n",
       "      <th>rotate_angle</th>\n",
       "      <td>0</td>\n",
       "      <td>0</td>\n",
       "    </tr>\n",
       "    <tr>\n",
       "      <th>ROI</th>\n",
       "      <td>[300, 430, 650, 1000]</td>\n",
       "      <td>[10, -10, 10, -10]</td>\n",
       "    </tr>\n",
       "    <tr>\n",
       "      <th>subtract_bg</th>\n",
       "      <td>1</td>\n",
       "      <td>0</td>\n",
       "    </tr>\n",
       "    <tr>\n",
       "      <th>y_feature</th>\n",
       "      <td>narrow</td>\n",
       "      <td>narrow</td>\n",
       "    </tr>\n",
       "    <tr>\n",
       "      <th>x_feature</th>\n",
       "      <td>wide</td>\n",
       "      <td>wide</td>\n",
       "    </tr>\n",
       "    <tr>\n",
       "      <th>y_peak_width</th>\n",
       "      <td>10</td>\n",
       "      <td>10</td>\n",
       "    </tr>\n",
       "    <tr>\n",
       "      <th>x_peak_width</th>\n",
       "      <td>10</td>\n",
       "      <td>10</td>\n",
       "    </tr>\n",
       "    <tr>\n",
       "      <th>fitbgDeg</th>\n",
       "      <td>5</td>\n",
       "      <td>5</td>\n",
       "    </tr>\n",
       "    <tr>\n",
       "      <th>optical_path</th>\n",
       "      <td>side</td>\n",
       "      <td>top</td>\n",
       "    </tr>\n",
       "    <tr>\n",
       "      <th>expmntParams</th>\n",
       "      <td>&lt;ImageAnalysis.ExperimentParameters.Experiment...</td>\n",
       "      <td>&lt;ImageAnalysis.ExperimentParameters.Experiment...</td>\n",
       "    </tr>\n",
       "    <tr>\n",
       "      <th>dx_micron</th>\n",
       "      <td>3.846154</td>\n",
       "      <td>6.25</td>\n",
       "    </tr>\n",
       "  </tbody>\n",
       "</table>\n",
       "</div>"
      ],
      "text/plain": [
       "                                                                zyl  \\\n",
       "subtract_burntin                                                  0   \n",
       "skip_first_img                                                 auto   \n",
       "rotate_angle                                                      0   \n",
       "ROI                                           [300, 430, 650, 1000]   \n",
       "subtract_bg                                                       1   \n",
       "y_feature                                                    narrow   \n",
       "x_feature                                                      wide   \n",
       "y_peak_width                                                     10   \n",
       "x_peak_width                                                     10   \n",
       "fitbgDeg                                                          5   \n",
       "optical_path                                                   side   \n",
       "expmntParams      <ImageAnalysis.ExperimentParameters.Experiment...   \n",
       "dx_micron                                                  3.846154   \n",
       "\n",
       "                                                                cha  \n",
       "subtract_burntin                                                  0  \n",
       "skip_first_img                                                    0  \n",
       "rotate_angle                                                      0  \n",
       "ROI                                              [10, -10, 10, -10]  \n",
       "subtract_bg                                                       0  \n",
       "y_feature                                                    narrow  \n",
       "x_feature                                                      wide  \n",
       "y_peak_width                                                     10  \n",
       "x_peak_width                                                     10  \n",
       "fitbgDeg                                                          5  \n",
       "optical_path                                                    top  \n",
       "expmntParams      <ImageAnalysis.ExperimentParameters.Experiment...  \n",
       "dx_micron                                                      6.25  "
      ]
     },
     "execution_count": 27,
     "metadata": {},
     "output_type": "execute_result"
    }
   ],
   "source": [
    "runParams"
   ]
  },
  {
   "cell_type": "code",
   "execution_count": 19,
   "id": "40177829-1c53-41aa-afa7-15768ec9651d",
   "metadata": {
    "execution": {
     "iopub.execute_input": "2025-02-14T00:03:48.461590Z",
     "iopub.status.busy": "2025-02-14T00:03:48.460924Z",
     "iopub.status.idle": "2025-02-14T00:03:48.568601Z",
     "shell.execute_reply": "2025-02-14T00:03:48.565888Z",
     "shell.execute_reply.started": "2025-02-14T00:03:48.461531Z"
    },
    "tags": []
   },
   "outputs": [
    {
     "data": {
      "text/plain": [
       "3.8461538461538463"
      ]
     },
     "execution_count": 19,
     "metadata": {},
     "output_type": "execute_result"
    }
   ],
   "source": [
    "runParams['zyl'].dx_micron"
   ]
  },
  {
   "cell_type": "code",
   "execution_count": null,
   "id": "16b1a1b4-121b-43fa-ad45-69591cd2545c",
   "metadata": {},
   "outputs": [],
   "source": []
  },
  {
   "cell_type": "code",
   "execution_count": 53,
   "id": "6e3dbbdd-f9d0-4cb5-8ec6-455901fc281a",
   "metadata": {
    "execution": {
     "iopub.execute_input": "2025-01-31T21:37:17.362273Z",
     "iopub.status.busy": "2025-01-31T21:37:17.361409Z",
     "iopub.status.idle": "2025-01-31T21:37:17.477561Z",
     "shell.execute_reply": "2025-01-31T21:37:17.475448Z",
     "shell.execute_reply.started": "2025-01-31T21:37:17.362201Z"
    }
   },
   "outputs": [
    {
     "data": {
      "text/plain": [
       "zyl    3.846154\n",
       "cha    6.250000\n",
       "Name: expmntParams, dtype: float64"
      ]
     },
     "execution_count": 53,
     "metadata": {},
     "output_type": "execute_result"
    }
   ],
   "source": [
    "# runParams.loc['dx_micron'] = \n",
    "runParams.loc['expmntParams'].apply( \n",
    "    lambda a : a.camera.pixelsize_microns / a.magnification)\n"
   ]
  },
  {
   "cell_type": "code",
   "execution_count": 60,
   "id": "ad106add-065e-448d-969c-45f52af6507a",
   "metadata": {
    "execution": {
     "iopub.execute_input": "2025-01-31T21:58:35.890540Z",
     "iopub.status.busy": "2025-01-31T21:58:35.889659Z",
     "iopub.status.idle": "2025-01-31T21:58:35.988547Z",
     "shell.execute_reply": "2025-01-31T21:58:35.985011Z",
     "shell.execute_reply.started": "2025-01-31T21:58:35.890477Z"
    }
   },
   "outputs": [
    {
     "data": {
      "text/plain": [
       "array([3.84615385, 6.25      ])"
      ]
     },
     "execution_count": 60,
     "metadata": {},
     "output_type": "execute_result"
    }
   ],
   "source": [
    "np.vectorize( lambda a : a.camera.pixelsize_microns / a.magnification)(runParams['expmntParams'])"
   ]
  },
  {
   "cell_type": "code",
   "execution_count": null,
   "id": "a9a0f6ab-3168-48f2-ace5-04017c2caa86",
   "metadata": {},
   "outputs": [],
   "source": []
  },
  {
   "cell_type": "code",
   "execution_count": 40,
   "id": "c0c8d3f1-f545-495c-be5f-412532b6c14e",
   "metadata": {
    "execution": {
     "iopub.execute_input": "2025-01-31T19:47:26.267898Z",
     "iopub.status.busy": "2025-01-31T19:47:26.267072Z",
     "iopub.status.idle": "2025-01-31T19:47:26.358199Z",
     "shell.execute_reply": "2025-01-31T19:47:26.356138Z",
     "shell.execute_reply.started": "2025-01-31T19:47:26.267838Z"
    },
    "tags": []
   },
   "outputs": [
    {
     "data": {
      "text/plain": [
       "3.8461538461538463"
      ]
     },
     "execution_count": 40,
     "metadata": {},
     "output_type": "execute_result"
    }
   ],
   "source": [
    "params_zyl.camera.pixelsize_microns / params_zyl.magnification"
   ]
  },
  {
   "cell_type": "code",
   "execution_count": 41,
   "id": "a4d77c0a-5735-48ab-a312-3f7afcb894db",
   "metadata": {
    "execution": {
     "iopub.execute_input": "2025-01-31T19:47:49.164121Z",
     "iopub.status.busy": "2025-01-31T19:47:49.163314Z",
     "iopub.status.idle": "2025-01-31T19:47:49.257405Z",
     "shell.execute_reply": "2025-01-31T19:47:49.255331Z",
     "shell.execute_reply.started": "2025-01-31T19:47:49.164061Z"
    }
   },
   "outputs": [
    {
     "data": {
      "text/plain": [
       "6.25"
      ]
     },
     "execution_count": 41,
     "metadata": {},
     "output_type": "execute_result"
    }
   ],
   "source": [
    "params_cha.camera.pixelsize_microns / params_cha.magnification"
   ]
  },
  {
   "cell_type": "code",
   "execution_count": 42,
   "id": "aae18f20-95f0-4bf2-b22b-34a73387dc0d",
   "metadata": {
    "execution": {
     "iopub.execute_input": "2025-01-31T19:48:12.798297Z",
     "iopub.status.busy": "2025-01-31T19:48:12.797457Z",
     "iopub.status.idle": "2025-01-31T19:48:12.880152Z",
     "shell.execute_reply": "2025-01-31T19:48:12.877807Z",
     "shell.execute_reply.started": "2025-01-31T19:48:12.798237Z"
    },
    "tags": []
   },
   "outputs": [],
   "source": [
    "x = lambda a : a.camera.pixelsize_microns / a.magnification\n"
   ]
  },
  {
   "cell_type": "code",
   "execution_count": 43,
   "id": "24c7baa6-7da4-4f3f-ac12-ba1581937058",
   "metadata": {
    "execution": {
     "iopub.execute_input": "2025-01-31T19:49:02.692997Z",
     "iopub.status.busy": "2025-01-31T19:49:02.692051Z",
     "iopub.status.idle": "2025-01-31T19:49:02.787835Z",
     "shell.execute_reply": "2025-01-31T19:49:02.786011Z",
     "shell.execute_reply.started": "2025-01-31T19:49:02.692927Z"
    },
    "tags": []
   },
   "outputs": [
    {
     "data": {
      "text/plain": [
       "3.8461538461538463"
      ]
     },
     "execution_count": 43,
     "metadata": {},
     "output_type": "execute_result"
    }
   ],
   "source": [
    "x(runParams.zyl.expmntParams)"
   ]
  },
  {
   "cell_type": "code",
   "execution_count": 44,
   "id": "77a4f1bb-0eb4-4ebb-a1de-81b4a815f707",
   "metadata": {
    "execution": {
     "iopub.execute_input": "2025-01-31T19:54:12.768875Z",
     "iopub.status.busy": "2025-01-31T19:54:12.767883Z",
     "iopub.status.idle": "2025-01-31T19:54:12.861434Z",
     "shell.execute_reply": "2025-01-31T19:54:12.857494Z",
     "shell.execute_reply.started": "2025-01-31T19:54:12.768804Z"
    }
   },
   "outputs": [],
   "source": [
    "def func(a):\n",
    "    return a.camera.pixelsize_microns / a.magnification"
   ]
  },
  {
   "cell_type": "code",
   "execution_count": 45,
   "id": "f3f42e3b-1765-4649-9c12-c9c0f3d311a1",
   "metadata": {
    "execution": {
     "iopub.execute_input": "2025-01-31T19:54:23.283164Z",
     "iopub.status.busy": "2025-01-31T19:54:23.282377Z",
     "iopub.status.idle": "2025-01-31T19:54:23.367106Z",
     "shell.execute_reply": "2025-01-31T19:54:23.364806Z",
     "shell.execute_reply.started": "2025-01-31T19:54:23.283105Z"
    },
    "tags": []
   },
   "outputs": [
    {
     "data": {
      "text/plain": [
       "3.8461538461538463"
      ]
     },
     "execution_count": 45,
     "metadata": {},
     "output_type": "execute_result"
    }
   ],
   "source": [
    "func(runParams.zyl.expmntParams)"
   ]
  },
  {
   "cell_type": "code",
   "execution_count": null,
   "id": "cbdb86a2-4c80-47e0-b626-d137443b38ae",
   "metadata": {},
   "outputs": [],
   "source": []
  },
  {
   "cell_type": "code",
   "execution_count": 48,
   "id": "ecf5487e-5c95-4f01-9c3b-a8720411c7db",
   "metadata": {
    "execution": {
     "iopub.execute_input": "2025-01-31T20:50:14.973040Z",
     "iopub.status.busy": "2025-01-31T20:50:14.972236Z",
     "iopub.status.idle": "2025-01-31T20:50:15.064751Z",
     "shell.execute_reply": "2025-01-31T20:50:15.062223Z",
     "shell.execute_reply.started": "2025-01-31T20:50:14.972982Z"
    },
    "tags": []
   },
   "outputs": [
    {
     "data": {
      "text/plain": [
       "9"
      ]
     },
     "execution_count": 48,
     "metadata": {},
     "output_type": "execute_result"
    }
   ],
   "source": [
    "( lambda a : a**2)(3)"
   ]
  },
  {
   "cell_type": "code",
   "execution_count": null,
   "id": "f8c75b1b-c954-43a1-85c6-37e57d47f797",
   "metadata": {},
   "outputs": [],
   "source": []
  },
  {
   "cell_type": "code",
   "execution_count": 3,
   "id": "5ce60d49",
   "metadata": {
    "execution": {
     "iopub.execute_input": "2025-01-17T17:04:14.694196Z",
     "iopub.status.busy": "2025-01-17T17:04:14.693503Z",
     "iopub.status.idle": "2025-01-17T17:04:15.003282Z",
     "shell.execute_reply": "2025-01-17T17:04:15.001017Z",
     "shell.execute_reply.started": "2025-01-17T17:04:14.694148Z"
    }
   },
   "outputs": [
    {
     "ename": "AttributeError",
     "evalue": "'dict' object has no attribute 'fitbgDeg'",
     "output_type": "error",
     "traceback": [
      "\u001b[0;31m---------------------------------------------------------------------------\u001b[0m",
      "\u001b[0;31mAttributeError\u001b[0m                            Traceback (most recent call last)",
      "Cell \u001b[0;32mIn [3], line 1\u001b[0m\n\u001b[0;32m----> 1\u001b[0m \u001b[43mrunParams\u001b[49m\u001b[38;5;241;43m.\u001b[39;49m\u001b[43mfitbgDeg\u001b[49m\n",
      "\u001b[0;31mAttributeError\u001b[0m: 'dict' object has no attribute 'fitbgDeg'"
     ]
    }
   ],
   "source": [
    "runParams.fitbgDeg"
   ]
  },
  {
   "cell_type": "code",
   "execution_count": 11,
   "id": "9ea6d0a2-1d8a-4df3-a118-e6abf0a23f69",
   "metadata": {
    "execution": {
     "iopub.execute_input": "2025-01-31T19:18:14.425679Z",
     "iopub.status.busy": "2025-01-31T19:18:14.424871Z",
     "iopub.status.idle": "2025-01-31T19:18:14.544844Z",
     "shell.execute_reply": "2025-01-31T19:18:14.542791Z",
     "shell.execute_reply.started": "2025-01-31T19:18:14.425583Z"
    },
    "tags": []
   },
   "outputs": [
    {
     "data": {
      "text/html": [
       "<div>\n",
       "<style scoped>\n",
       "    .dataframe tbody tr th:only-of-type {\n",
       "        vertical-align: middle;\n",
       "    }\n",
       "\n",
       "    .dataframe tbody tr th {\n",
       "        vertical-align: top;\n",
       "    }\n",
       "\n",
       "    .dataframe thead th {\n",
       "        text-align: right;\n",
       "    }\n",
       "</style>\n",
       "<table border=\"1\" class=\"dataframe\">\n",
       "  <thead>\n",
       "    <tr style=\"text-align: right;\">\n",
       "      <th></th>\n",
       "      <th>zyl</th>\n",
       "      <th>cha</th>\n",
       "    </tr>\n",
       "  </thead>\n",
       "  <tbody>\n",
       "    <tr>\n",
       "      <th>subtract_burntin</th>\n",
       "      <td>0</td>\n",
       "      <td>0</td>\n",
       "    </tr>\n",
       "    <tr>\n",
       "      <th>skip_first_img</th>\n",
       "      <td>auto</td>\n",
       "      <td>0</td>\n",
       "    </tr>\n",
       "    <tr>\n",
       "      <th>rotate_angle</th>\n",
       "      <td>0</td>\n",
       "      <td>0</td>\n",
       "    </tr>\n",
       "    <tr>\n",
       "      <th>ROI</th>\n",
       "      <td>[10, -10, 10, -10]</td>\n",
       "      <td>[10, -10, 10, -10]</td>\n",
       "    </tr>\n",
       "    <tr>\n",
       "      <th>subtract_bg</th>\n",
       "      <td>0</td>\n",
       "      <td>0</td>\n",
       "    </tr>\n",
       "    <tr>\n",
       "      <th>signal_feature</th>\n",
       "      <td>wide</td>\n",
       "      <td>wide</td>\n",
       "    </tr>\n",
       "    <tr>\n",
       "      <th>signal_width</th>\n",
       "      <td>10</td>\n",
       "      <td>10</td>\n",
       "    </tr>\n",
       "    <tr>\n",
       "      <th>fitbgDeg</th>\n",
       "      <td>5</td>\n",
       "      <td>5</td>\n",
       "    </tr>\n",
       "    <tr>\n",
       "      <th>optical_path</th>\n",
       "      <td>side</td>\n",
       "      <td>top</td>\n",
       "    </tr>\n",
       "  </tbody>\n",
       "</table>\n",
       "</div>"
      ],
      "text/plain": [
       "                                 zyl                 cha\n",
       "subtract_burntin                   0                   0\n",
       "skip_first_img                  auto                   0\n",
       "rotate_angle                       0                   0\n",
       "ROI               [10, -10, 10, -10]  [10, -10, 10, -10]\n",
       "subtract_bg                        0                   0\n",
       "signal_feature                  wide                wide\n",
       "signal_width                      10                  10\n",
       "fitbgDeg                           5                   5\n",
       "optical_path                    side                 top"
      ]
     },
     "execution_count": 11,
     "metadata": {},
     "output_type": "execute_result"
    }
   ],
   "source": [
    "df = pd.DataFrame.from_dict(runParams, orient='index', columns=['zyl', 'cha'])\n",
    "df"
   ]
  },
  {
   "cell_type": "code",
   "execution_count": 12,
   "id": "cbad1edb-2581-4ecf-8c12-184842974f0c",
   "metadata": {
    "execution": {
     "iopub.execute_input": "2025-01-31T19:18:16.155188Z",
     "iopub.status.busy": "2025-01-31T19:18:16.154377Z",
     "iopub.status.idle": "2025-01-31T19:18:16.258010Z",
     "shell.execute_reply": "2025-01-31T19:18:16.255823Z",
     "shell.execute_reply.started": "2025-01-31T19:18:16.155129Z"
    },
    "tags": []
   },
   "outputs": [
    {
     "data": {
      "text/plain": [
       "zyl    [10, -10, 10, -10]\n",
       "cha    [10, -10, 10, -10]\n",
       "Name: ROI, dtype: object"
      ]
     },
     "execution_count": 12,
     "metadata": {},
     "output_type": "execute_result"
    }
   ],
   "source": [
    "df.loc['ROI']"
   ]
  },
  {
   "cell_type": "code",
   "execution_count": 15,
   "id": "f3bbc7e2-a654-4830-a9e7-acd00bca877b",
   "metadata": {
    "execution": {
     "iopub.execute_input": "2025-01-31T19:18:51.074198Z",
     "iopub.status.busy": "2025-01-31T19:18:51.073405Z",
     "iopub.status.idle": "2025-01-31T19:18:51.154073Z",
     "shell.execute_reply": "2025-01-31T19:18:51.152125Z",
     "shell.execute_reply.started": "2025-01-31T19:18:51.074139Z"
    },
    "tags": []
   },
   "outputs": [],
   "source": [
    "df.loc['asdf'] = [11,33]"
   ]
  },
  {
   "cell_type": "code",
   "execution_count": 16,
   "id": "2754ae68-be5a-4d00-a116-8b276eee96f9",
   "metadata": {
    "execution": {
     "iopub.execute_input": "2025-01-31T19:18:51.297524Z",
     "iopub.status.busy": "2025-01-31T19:18:51.296770Z",
     "iopub.status.idle": "2025-01-31T19:18:51.389939Z",
     "shell.execute_reply": "2025-01-31T19:18:51.387720Z",
     "shell.execute_reply.started": "2025-01-31T19:18:51.297464Z"
    },
    "tags": []
   },
   "outputs": [
    {
     "data": {
      "text/html": [
       "<div>\n",
       "<style scoped>\n",
       "    .dataframe tbody tr th:only-of-type {\n",
       "        vertical-align: middle;\n",
       "    }\n",
       "\n",
       "    .dataframe tbody tr th {\n",
       "        vertical-align: top;\n",
       "    }\n",
       "\n",
       "    .dataframe thead th {\n",
       "        text-align: right;\n",
       "    }\n",
       "</style>\n",
       "<table border=\"1\" class=\"dataframe\">\n",
       "  <thead>\n",
       "    <tr style=\"text-align: right;\">\n",
       "      <th></th>\n",
       "      <th>zyl</th>\n",
       "      <th>cha</th>\n",
       "    </tr>\n",
       "  </thead>\n",
       "  <tbody>\n",
       "    <tr>\n",
       "      <th>subtract_burntin</th>\n",
       "      <td>0</td>\n",
       "      <td>0</td>\n",
       "    </tr>\n",
       "    <tr>\n",
       "      <th>skip_first_img</th>\n",
       "      <td>auto</td>\n",
       "      <td>0</td>\n",
       "    </tr>\n",
       "    <tr>\n",
       "      <th>rotate_angle</th>\n",
       "      <td>0</td>\n",
       "      <td>0</td>\n",
       "    </tr>\n",
       "    <tr>\n",
       "      <th>ROI</th>\n",
       "      <td>[10, -10, 10, -10]</td>\n",
       "      <td>[10, -10, 10, -10]</td>\n",
       "    </tr>\n",
       "    <tr>\n",
       "      <th>subtract_bg</th>\n",
       "      <td>0</td>\n",
       "      <td>0</td>\n",
       "    </tr>\n",
       "    <tr>\n",
       "      <th>signal_feature</th>\n",
       "      <td>wide</td>\n",
       "      <td>wide</td>\n",
       "    </tr>\n",
       "    <tr>\n",
       "      <th>signal_width</th>\n",
       "      <td>10</td>\n",
       "      <td>10</td>\n",
       "    </tr>\n",
       "    <tr>\n",
       "      <th>fitbgDeg</th>\n",
       "      <td>5</td>\n",
       "      <td>5</td>\n",
       "    </tr>\n",
       "    <tr>\n",
       "      <th>optical_path</th>\n",
       "      <td>side</td>\n",
       "      <td>top</td>\n",
       "    </tr>\n",
       "    <tr>\n",
       "      <th>asdf</th>\n",
       "      <td>11</td>\n",
       "      <td>33</td>\n",
       "    </tr>\n",
       "  </tbody>\n",
       "</table>\n",
       "</div>"
      ],
      "text/plain": [
       "                                 zyl                 cha\n",
       "subtract_burntin                   0                   0\n",
       "skip_first_img                  auto                   0\n",
       "rotate_angle                       0                   0\n",
       "ROI               [10, -10, 10, -10]  [10, -10, 10, -10]\n",
       "subtract_bg                        0                   0\n",
       "signal_feature                  wide                wide\n",
       "signal_width                      10                  10\n",
       "fitbgDeg                           5                   5\n",
       "optical_path                    side                 top\n",
       "asdf                              11                  33"
      ]
     },
     "execution_count": 16,
     "metadata": {},
     "output_type": "execute_result"
    }
   ],
   "source": [
    "df"
   ]
  },
  {
   "cell_type": "code",
   "execution_count": 18,
   "id": "76ba21af-a1fa-453e-813e-0f4c2b500eaa",
   "metadata": {
    "execution": {
     "iopub.execute_input": "2025-01-31T19:19:36.383394Z",
     "iopub.status.busy": "2025-01-31T19:19:36.382570Z",
     "iopub.status.idle": "2025-01-31T19:19:38.446011Z",
     "shell.execute_reply": "2025-01-31T19:19:38.443190Z",
     "shell.execute_reply.started": "2025-01-31T19:19:36.383316Z"
    },
    "tags": []
   },
   "outputs": [
    {
     "ename": "KeyError",
     "evalue": "'asdf'",
     "output_type": "error",
     "traceback": [
      "\u001b[0;31m---------------------------------------------------------------------------\u001b[0m",
      "\u001b[0;31mKeyError\u001b[0m                                  Traceback (most recent call last)",
      "File \u001b[0;32m~/mambaforge/envs/py39/lib/python3.9/site-packages/pandas/core/indexes/base.py:3803\u001b[0m, in \u001b[0;36mIndex.get_loc\u001b[0;34m(self, key, method, tolerance)\u001b[0m\n\u001b[1;32m   3802\u001b[0m \u001b[38;5;28;01mtry\u001b[39;00m:\n\u001b[0;32m-> 3803\u001b[0m     \u001b[38;5;28;01mreturn\u001b[39;00m \u001b[38;5;28;43mself\u001b[39;49m\u001b[38;5;241;43m.\u001b[39;49m\u001b[43m_engine\u001b[49m\u001b[38;5;241;43m.\u001b[39;49m\u001b[43mget_loc\u001b[49m\u001b[43m(\u001b[49m\u001b[43mcasted_key\u001b[49m\u001b[43m)\u001b[49m\n\u001b[1;32m   3804\u001b[0m \u001b[38;5;28;01mexcept\u001b[39;00m \u001b[38;5;167;01mKeyError\u001b[39;00m \u001b[38;5;28;01mas\u001b[39;00m err:\n",
      "File \u001b[0;32m~/mambaforge/envs/py39/lib/python3.9/site-packages/pandas/_libs/index.pyx:138\u001b[0m, in \u001b[0;36mpandas._libs.index.IndexEngine.get_loc\u001b[0;34m()\u001b[0m\n",
      "File \u001b[0;32m~/mambaforge/envs/py39/lib/python3.9/site-packages/pandas/_libs/index.pyx:165\u001b[0m, in \u001b[0;36mpandas._libs.index.IndexEngine.get_loc\u001b[0;34m()\u001b[0m\n",
      "File \u001b[0;32mpandas/_libs/hashtable_class_helper.pxi:5745\u001b[0m, in \u001b[0;36mpandas._libs.hashtable.PyObjectHashTable.get_item\u001b[0;34m()\u001b[0m\n",
      "File \u001b[0;32mpandas/_libs/hashtable_class_helper.pxi:5753\u001b[0m, in \u001b[0;36mpandas._libs.hashtable.PyObjectHashTable.get_item\u001b[0;34m()\u001b[0m\n",
      "\u001b[0;31mKeyError\u001b[0m: 'asdf'",
      "\nThe above exception was the direct cause of the following exception:\n",
      "\u001b[0;31mKeyError\u001b[0m                                  Traceback (most recent call last)",
      "Cell \u001b[0;32mIn [18], line 1\u001b[0m\n\u001b[0;32m----> 1\u001b[0m \u001b[43mdf\u001b[49m\u001b[43m[\u001b[49m\u001b[38;5;124;43m'\u001b[39;49m\u001b[38;5;124;43masdf\u001b[39;49m\u001b[38;5;124;43m'\u001b[39;49m\u001b[43m]\u001b[49m\n",
      "File \u001b[0;32m~/mambaforge/envs/py39/lib/python3.9/site-packages/pandas/core/frame.py:3804\u001b[0m, in \u001b[0;36mDataFrame.__getitem__\u001b[0;34m(self, key)\u001b[0m\n\u001b[1;32m   3802\u001b[0m \u001b[38;5;28;01mif\u001b[39;00m \u001b[38;5;28mself\u001b[39m\u001b[38;5;241m.\u001b[39mcolumns\u001b[38;5;241m.\u001b[39mnlevels \u001b[38;5;241m>\u001b[39m \u001b[38;5;241m1\u001b[39m:\n\u001b[1;32m   3803\u001b[0m     \u001b[38;5;28;01mreturn\u001b[39;00m \u001b[38;5;28mself\u001b[39m\u001b[38;5;241m.\u001b[39m_getitem_multilevel(key)\n\u001b[0;32m-> 3804\u001b[0m indexer \u001b[38;5;241m=\u001b[39m \u001b[38;5;28;43mself\u001b[39;49m\u001b[38;5;241;43m.\u001b[39;49m\u001b[43mcolumns\u001b[49m\u001b[38;5;241;43m.\u001b[39;49m\u001b[43mget_loc\u001b[49m\u001b[43m(\u001b[49m\u001b[43mkey\u001b[49m\u001b[43m)\u001b[49m\n\u001b[1;32m   3805\u001b[0m \u001b[38;5;28;01mif\u001b[39;00m is_integer(indexer):\n\u001b[1;32m   3806\u001b[0m     indexer \u001b[38;5;241m=\u001b[39m [indexer]\n",
      "File \u001b[0;32m~/mambaforge/envs/py39/lib/python3.9/site-packages/pandas/core/indexes/base.py:3805\u001b[0m, in \u001b[0;36mIndex.get_loc\u001b[0;34m(self, key, method, tolerance)\u001b[0m\n\u001b[1;32m   3803\u001b[0m     \u001b[38;5;28;01mreturn\u001b[39;00m \u001b[38;5;28mself\u001b[39m\u001b[38;5;241m.\u001b[39m_engine\u001b[38;5;241m.\u001b[39mget_loc(casted_key)\n\u001b[1;32m   3804\u001b[0m \u001b[38;5;28;01mexcept\u001b[39;00m \u001b[38;5;167;01mKeyError\u001b[39;00m \u001b[38;5;28;01mas\u001b[39;00m err:\n\u001b[0;32m-> 3805\u001b[0m     \u001b[38;5;28;01mraise\u001b[39;00m \u001b[38;5;167;01mKeyError\u001b[39;00m(key) \u001b[38;5;28;01mfrom\u001b[39;00m \u001b[38;5;21;01merr\u001b[39;00m\n\u001b[1;32m   3806\u001b[0m \u001b[38;5;28;01mexcept\u001b[39;00m \u001b[38;5;167;01mTypeError\u001b[39;00m:\n\u001b[1;32m   3807\u001b[0m     \u001b[38;5;66;03m# If we have a listlike key, _check_indexing_error will raise\u001b[39;00m\n\u001b[1;32m   3808\u001b[0m     \u001b[38;5;66;03m#  InvalidIndexError. Otherwise we fall through and re-raise\u001b[39;00m\n\u001b[1;32m   3809\u001b[0m     \u001b[38;5;66;03m#  the TypeError.\u001b[39;00m\n\u001b[1;32m   3810\u001b[0m     \u001b[38;5;28mself\u001b[39m\u001b[38;5;241m.\u001b[39m_check_indexing_error(key)\n",
      "\u001b[0;31mKeyError\u001b[0m: 'asdf'"
     ]
    }
   ],
   "source": [
    "df"
   ]
  },
  {
   "cell_type": "code",
   "execution_count": null,
   "id": "6f4c5a02-4575-4fdc-8cd0-182818a1751a",
   "metadata": {},
   "outputs": [],
   "source": []
  },
  {
   "cell_type": "code",
   "execution_count": null,
   "id": "fd18b8aa-4e62-4c46-aeb9-e15a0403eea4",
   "metadata": {},
   "outputs": [],
   "source": []
  },
  {
   "cell_type": "code",
   "execution_count": 14,
   "id": "d3f82fed-5498-4213-8366-a9c0dba00fc8",
   "metadata": {
    "execution": {
     "iopub.execute_input": "2025-01-17T17:08:20.963118Z",
     "iopub.status.busy": "2025-01-17T17:08:20.962426Z",
     "iopub.status.idle": "2025-01-17T17:08:21.028773Z",
     "shell.execute_reply": "2025-01-17T17:08:21.026940Z",
     "shell.execute_reply.started": "2025-01-17T17:08:20.963069Z"
    },
    "tags": []
   },
   "outputs": [
    {
     "data": {
      "text/plain": [
       "0"
      ]
     },
     "execution_count": 14,
     "metadata": {},
     "output_type": "execute_result"
    }
   ],
   "source": [
    "df.zyl.subtract_bg"
   ]
  },
  {
   "cell_type": "code",
   "execution_count": 15,
   "id": "2fe9ac90-544a-4775-b735-d70cd7808b7a",
   "metadata": {
    "execution": {
     "iopub.execute_input": "2025-01-17T19:47:37.844563Z",
     "iopub.status.busy": "2025-01-17T19:47:37.844034Z",
     "iopub.status.idle": "2025-01-17T19:47:37.914388Z",
     "shell.execute_reply": "2025-01-17T19:47:37.913058Z",
     "shell.execute_reply.started": "2025-01-17T19:47:37.844513Z"
    }
   },
   "outputs": [
    {
     "data": {
      "text/plain": [
       "0"
      ]
     },
     "execution_count": 15,
     "metadata": {},
     "output_type": "execute_result"
    }
   ],
   "source": [
    "df['zyl'].subtract_bg"
   ]
  },
  {
   "cell_type": "code",
   "execution_count": 16,
   "id": "1855fd04-65f5-4c38-b6e9-f1f3a96c06e1",
   "metadata": {
    "execution": {
     "iopub.execute_input": "2025-01-17T19:47:49.780736Z",
     "iopub.status.busy": "2025-01-17T19:47:49.780065Z",
     "iopub.status.idle": "2025-01-17T19:47:49.844830Z",
     "shell.execute_reply": "2025-01-17T19:47:49.843008Z",
     "shell.execute_reply.started": "2025-01-17T19:47:49.780687Z"
    }
   },
   "outputs": [
    {
     "data": {
      "text/plain": [
       "0"
      ]
     },
     "execution_count": 16,
     "metadata": {},
     "output_type": "execute_result"
    }
   ],
   "source": [
    "df['zyl']['subtract_bg']"
   ]
  },
  {
   "cell_type": "code",
   "execution_count": 30,
   "id": "595090ab-18fb-4ee4-b51c-9587debef3ab",
   "metadata": {
    "execution": {
     "iopub.execute_input": "2025-01-18T05:25:58.195013Z",
     "iopub.status.busy": "2025-01-18T05:25:58.193417Z",
     "iopub.status.idle": "2025-01-18T05:25:58.335414Z",
     "shell.execute_reply": "2025-01-18T05:25:58.333382Z",
     "shell.execute_reply.started": "2025-01-18T05:25:58.194963Z"
    },
    "tags": []
   },
   "outputs": [
    {
     "data": {
      "text/plain": [
       "'asdf/qwer/zxcv'"
      ]
     },
     "execution_count": 30,
     "metadata": {},
     "output_type": "execute_result"
    }
   ],
   "source": [
    "os.path.join('asdf','qwer', 'zxcv')"
   ]
  },
  {
   "cell_type": "code",
   "execution_count": 23,
   "id": "c7147fb5-5d61-4059-a853-b7156e121269",
   "metadata": {
    "execution": {
     "iopub.execute_input": "2025-01-17T20:34:36.612685Z",
     "iopub.status.busy": "2025-01-17T20:34:36.612021Z",
     "iopub.status.idle": "2025-01-17T20:34:36.675160Z",
     "shell.execute_reply": "2025-01-17T20:34:36.673609Z",
     "shell.execute_reply.started": "2025-01-17T20:34:36.612607Z"
    },
    "tags": []
   },
   "outputs": [
    {
     "data": {
      "text/plain": [
       "'asdf/../qwer'"
      ]
     },
     "execution_count": 23,
     "metadata": {},
     "output_type": "execute_result"
    }
   ],
   "source": [
    "os.path.join('asdf','../qwer')"
   ]
  },
  {
   "cell_type": "code",
   "execution_count": 24,
   "id": "e02ea99d-9f78-4711-8274-b48c01e350a1",
   "metadata": {
    "execution": {
     "iopub.execute_input": "2025-01-18T04:38:02.428958Z",
     "iopub.status.busy": "2025-01-18T04:38:02.428192Z",
     "iopub.status.idle": "2025-01-18T04:38:02.506866Z",
     "shell.execute_reply": "2025-01-18T04:38:02.505235Z",
     "shell.execute_reply.started": "2025-01-18T04:38:02.428909Z"
    }
   },
   "outputs": [
    {
     "data": {
      "text/html": [
       "<div>\n",
       "<style scoped>\n",
       "    .dataframe tbody tr th:only-of-type {\n",
       "        vertical-align: middle;\n",
       "    }\n",
       "\n",
       "    .dataframe tbody tr th {\n",
       "        vertical-align: top;\n",
       "    }\n",
       "\n",
       "    .dataframe thead th {\n",
       "        text-align: right;\n",
       "    }\n",
       "</style>\n",
       "<table border=\"1\" class=\"dataframe\">\n",
       "  <thead>\n",
       "    <tr style=\"text-align: right;\">\n",
       "      <th></th>\n",
       "      <th>zyl</th>\n",
       "      <th>cha</th>\n",
       "    </tr>\n",
       "  </thead>\n",
       "  <tbody>\n",
       "    <tr>\n",
       "      <th>subtract_burntin</th>\n",
       "      <td>0</td>\n",
       "      <td>0</td>\n",
       "    </tr>\n",
       "    <tr>\n",
       "      <th>skip_first_img</th>\n",
       "      <td>auto</td>\n",
       "      <td>0</td>\n",
       "    </tr>\n",
       "    <tr>\n",
       "      <th>rotate_angle</th>\n",
       "      <td>0</td>\n",
       "      <td>0</td>\n",
       "    </tr>\n",
       "    <tr>\n",
       "      <th>ROI</th>\n",
       "      <td>[10, -10, 10, -10]</td>\n",
       "      <td>[10, -10, 10, -10]</td>\n",
       "    </tr>\n",
       "    <tr>\n",
       "      <th>subtract_bg</th>\n",
       "      <td>0</td>\n",
       "      <td>0</td>\n",
       "    </tr>\n",
       "    <tr>\n",
       "      <th>signal_feature</th>\n",
       "      <td>wide</td>\n",
       "      <td>wide</td>\n",
       "    </tr>\n",
       "    <tr>\n",
       "      <th>signal_width</th>\n",
       "      <td>10</td>\n",
       "      <td>10</td>\n",
       "    </tr>\n",
       "    <tr>\n",
       "      <th>fitbgDeg</th>\n",
       "      <td>5</td>\n",
       "      <td>5</td>\n",
       "    </tr>\n",
       "    <tr>\n",
       "      <th>optical_path</th>\n",
       "      <td>side</td>\n",
       "      <td>top</td>\n",
       "    </tr>\n",
       "  </tbody>\n",
       "</table>\n",
       "</div>"
      ],
      "text/plain": [
       "                                 zyl                 cha\n",
       "subtract_burntin                   0                   0\n",
       "skip_first_img                  auto                   0\n",
       "rotate_angle                       0                   0\n",
       "ROI               [10, -10, 10, -10]  [10, -10, 10, -10]\n",
       "subtract_bg                        0                   0\n",
       "signal_feature                  wide                wide\n",
       "signal_width                      10                  10\n",
       "fitbgDeg                           5                   5\n",
       "optical_path                    side                 top"
      ]
     },
     "execution_count": 24,
     "metadata": {},
     "output_type": "execute_result"
    }
   ],
   "source": [
    "df"
   ]
  },
  {
   "cell_type": "code",
   "execution_count": 25,
   "id": "4417fcd7-72c5-42d1-a3a4-d3e5689f7ff4",
   "metadata": {
    "execution": {
     "iopub.execute_input": "2025-01-18T04:38:21.467686Z",
     "iopub.status.busy": "2025-01-18T04:38:21.466972Z",
     "iopub.status.idle": "2025-01-18T04:38:21.533233Z",
     "shell.execute_reply": "2025-01-18T04:38:21.531464Z",
     "shell.execute_reply.started": "2025-01-18T04:38:21.467603Z"
    }
   },
   "outputs": [
    {
     "data": {
      "text/plain": [
       "zyl    side\n",
       "cha     top\n",
       "Name: optical_path, dtype: object"
      ]
     },
     "execution_count": 25,
     "metadata": {},
     "output_type": "execute_result"
    }
   ],
   "source": [
    "df.loc['optical_path']"
   ]
  },
  {
   "cell_type": "code",
   "execution_count": 26,
   "id": "b3ff8d14-e397-40b8-8434-cd2f278f5034",
   "metadata": {
    "execution": {
     "iopub.execute_input": "2025-01-18T04:38:41.477827Z",
     "iopub.status.busy": "2025-01-18T04:38:41.477160Z",
     "iopub.status.idle": "2025-01-18T04:38:41.540418Z",
     "shell.execute_reply": "2025-01-18T04:38:41.538718Z",
     "shell.execute_reply.started": "2025-01-18T04:38:41.477779Z"
    }
   },
   "outputs": [
    {
     "data": {
      "text/plain": [
       "pandas.core.series.Series"
      ]
     },
     "execution_count": 26,
     "metadata": {},
     "output_type": "execute_result"
    }
   ],
   "source": [
    "type(df.loc['optical_path'])"
   ]
  },
  {
   "cell_type": "code",
   "execution_count": 28,
   "id": "e8a06514-3cdc-4daa-9287-ea005c3677c5",
   "metadata": {
    "execution": {
     "iopub.execute_input": "2025-01-18T04:39:31.742399Z",
     "iopub.status.busy": "2025-01-18T04:39:31.741728Z",
     "iopub.status.idle": "2025-01-18T04:39:31.827418Z",
     "shell.execute_reply": "2025-01-18T04:39:31.824875Z",
     "shell.execute_reply.started": "2025-01-18T04:39:31.742349Z"
    },
    "tags": []
   },
   "outputs": [],
   "source": [
    "df.loc['add'] = ['asdf','qwer']"
   ]
  },
  {
   "cell_type": "code",
   "execution_count": 29,
   "id": "39309f1a-eedd-4904-95b0-e0555b9afc8e",
   "metadata": {
    "execution": {
     "iopub.execute_input": "2025-01-18T04:39:45.087706Z",
     "iopub.status.busy": "2025-01-18T04:39:45.084933Z",
     "iopub.status.idle": "2025-01-18T04:39:45.183693Z",
     "shell.execute_reply": "2025-01-18T04:39:45.181788Z",
     "shell.execute_reply.started": "2025-01-18T04:39:45.087541Z"
    }
   },
   "outputs": [
    {
     "data": {
      "text/html": [
       "<div>\n",
       "<style scoped>\n",
       "    .dataframe tbody tr th:only-of-type {\n",
       "        vertical-align: middle;\n",
       "    }\n",
       "\n",
       "    .dataframe tbody tr th {\n",
       "        vertical-align: top;\n",
       "    }\n",
       "\n",
       "    .dataframe thead th {\n",
       "        text-align: right;\n",
       "    }\n",
       "</style>\n",
       "<table border=\"1\" class=\"dataframe\">\n",
       "  <thead>\n",
       "    <tr style=\"text-align: right;\">\n",
       "      <th></th>\n",
       "      <th>zyl</th>\n",
       "      <th>cha</th>\n",
       "    </tr>\n",
       "  </thead>\n",
       "  <tbody>\n",
       "    <tr>\n",
       "      <th>subtract_burntin</th>\n",
       "      <td>0</td>\n",
       "      <td>0</td>\n",
       "    </tr>\n",
       "    <tr>\n",
       "      <th>skip_first_img</th>\n",
       "      <td>auto</td>\n",
       "      <td>0</td>\n",
       "    </tr>\n",
       "    <tr>\n",
       "      <th>rotate_angle</th>\n",
       "      <td>0</td>\n",
       "      <td>0</td>\n",
       "    </tr>\n",
       "    <tr>\n",
       "      <th>ROI</th>\n",
       "      <td>[10, -10, 10, -10]</td>\n",
       "      <td>[10, -10, 10, -10]</td>\n",
       "    </tr>\n",
       "    <tr>\n",
       "      <th>subtract_bg</th>\n",
       "      <td>0</td>\n",
       "      <td>0</td>\n",
       "    </tr>\n",
       "    <tr>\n",
       "      <th>signal_feature</th>\n",
       "      <td>wide</td>\n",
       "      <td>wide</td>\n",
       "    </tr>\n",
       "    <tr>\n",
       "      <th>signal_width</th>\n",
       "      <td>10</td>\n",
       "      <td>10</td>\n",
       "    </tr>\n",
       "    <tr>\n",
       "      <th>fitbgDeg</th>\n",
       "      <td>5</td>\n",
       "      <td>5</td>\n",
       "    </tr>\n",
       "    <tr>\n",
       "      <th>optical_path</th>\n",
       "      <td>side</td>\n",
       "      <td>top</td>\n",
       "    </tr>\n",
       "    <tr>\n",
       "      <th>add</th>\n",
       "      <td>asdf</td>\n",
       "      <td>qwer</td>\n",
       "    </tr>\n",
       "  </tbody>\n",
       "</table>\n",
       "</div>"
      ],
      "text/plain": [
       "                                 zyl                 cha\n",
       "subtract_burntin                   0                   0\n",
       "skip_first_img                  auto                   0\n",
       "rotate_angle                       0                   0\n",
       "ROI               [10, -10, 10, -10]  [10, -10, 10, -10]\n",
       "subtract_bg                        0                   0\n",
       "signal_feature                  wide                wide\n",
       "signal_width                      10                  10\n",
       "fitbgDeg                           5                   5\n",
       "optical_path                    side                 top\n",
       "add                             asdf                qwer"
      ]
     },
     "execution_count": 29,
     "metadata": {},
     "output_type": "execute_result"
    }
   ],
   "source": [
    "df"
   ]
  },
  {
   "cell_type": "code",
   "execution_count": null,
   "id": "1171cf7f-ebfa-4e69-81fb-deb005f10252",
   "metadata": {},
   "outputs": [],
   "source": []
  },
  {
   "cell_type": "markdown",
   "id": "e06d8565-d068-4fe8-afd5-b81938f7322f",
   "metadata": {
    "tags": []
   },
   "source": [
    "### Vectorize"
   ]
  },
  {
   "cell_type": "code",
   "execution_count": 131,
   "id": "146c87f1-1284-402f-b797-80d9be7e166c",
   "metadata": {
    "execution": {
     "iopub.execute_input": "2025-02-01T01:22:08.800230Z",
     "iopub.status.busy": "2025-02-01T01:22:08.799359Z",
     "iopub.status.idle": "2025-02-01T01:22:08.972455Z",
     "shell.execute_reply": "2025-02-01T01:22:08.970232Z",
     "shell.execute_reply.started": "2025-02-01T01:22:08.800141Z"
    },
    "tags": []
   },
   "outputs": [],
   "source": [
    "cameras = [\n",
    "    'zyla',\n",
    "    'chameleon'\n",
    "]\n",
    "\n",
    "date = '11/7/2024'\n",
    "\n",
    "data_folder = [\n",
    "    r'Andor/D1 temp',\n",
    "    ]\n"
   ]
  },
  {
   "cell_type": "code",
   "execution_count": 132,
   "id": "8affdc75-8d91-42a6-a205-d4c8b19c3c1e",
   "metadata": {
    "execution": {
     "iopub.execute_input": "2025-02-01T01:22:09.106327Z",
     "iopub.status.busy": "2025-02-01T01:22:09.105757Z",
     "iopub.status.idle": "2025-02-01T01:22:09.190725Z",
     "shell.execute_reply": "2025-02-01T01:22:09.188613Z",
     "shell.execute_reply.started": "2025-02-01T01:22:09.106272Z"
    },
    "tags": []
   },
   "outputs": [
    {
     "data": {
      "text/plain": [
       "{'subtract_burntin': [0, 0],\n",
       " 'skip_first_img': ['auto', 0],\n",
       " 'rotate_angle': [0, 0],\n",
       " 'ROI': [[10, -10, 10, -10], [10, -10, 10, -10]],\n",
       " 'subtract_bg': [0, 0],\n",
       " 'signal_feature': ['wide', 'wide'],\n",
       " 'signal_width': [10, 10],\n",
       " 'fitbgDeg': [5, 5],\n",
       " 'optical_path': ['side', 'top']}"
      ]
     },
     "execution_count": 132,
     "metadata": {},
     "output_type": "execute_result"
    }
   ],
   "source": [
    "runParams = {\n",
    "    'subtract_burntin': [0, 0],\n",
    "    'skip_first_img': ['auto', 0],\n",
    "    'rotate_angle': [0, 0], #rotates ccw\n",
    "    'ROI': [ [10, -10, 10, -10],\n",
    "             [10, -10, 10, -10] ], # rowStart, rowEnd, colStart, colEnd\n",
    "    \n",
    "    'subtract_bg': [0, 0], \n",
    "    'signal_feature': ['wide', 'wide'], \n",
    "    'signal_width': [10, 10], # The narrower the signal, the bigger the number.\n",
    "    'fitbgDeg': [5, 5],\n",
    "    \n",
    "    'optical_path': ['side', 'top']\n",
    "}\n",
    "runParams"
   ]
  },
  {
   "cell_type": "code",
   "execution_count": 134,
   "id": "ef52ce7e-4faa-4b34-a996-5449efc35db0",
   "metadata": {
    "execution": {
     "iopub.execute_input": "2025-02-01T01:22:16.316278Z",
     "iopub.status.busy": "2025-02-01T01:22:16.315385Z",
     "iopub.status.idle": "2025-02-01T01:22:16.403368Z",
     "shell.execute_reply": "2025-02-01T01:22:16.401049Z",
     "shell.execute_reply.started": "2025-02-01T01:22:16.316217Z"
    },
    "tags": []
   },
   "outputs": [],
   "source": [
    "runParams['expmntParams'] = np.vectorize(\n",
    "    ImageAnalysisCode.ExperimentParams\n",
    ")(\n",
    "    date, axis=runParams['optical_path'], cam_type = cameras\n",
    ")"
   ]
  },
  {
   "cell_type": "code",
   "execution_count": 135,
   "id": "7828f87b-18e6-4061-a2d8-98dd41cd1051",
   "metadata": {
    "execution": {
     "iopub.execute_input": "2025-02-01T01:22:17.115823Z",
     "iopub.status.busy": "2025-02-01T01:22:17.114930Z",
     "iopub.status.idle": "2025-02-01T01:22:17.206350Z",
     "shell.execute_reply": "2025-02-01T01:22:17.204100Z",
     "shell.execute_reply.started": "2025-02-01T01:22:17.115760Z"
    },
    "tags": []
   },
   "outputs": [],
   "source": [
    "runParams['dx_micron'] = np.vectorize(lambda a: a.camera.pixelsize_microns / a.magnification)(runParams['expmntParams'])\n",
    "\n",
    "runParams = pd.DataFrame.from_dict(runParams, orient='index', columns=cameras)\n"
   ]
  },
  {
   "cell_type": "code",
   "execution_count": 120,
   "id": "65b4c9a3-8386-4bcf-8f4c-c3d7b5b7d032",
   "metadata": {
    "execution": {
     "iopub.execute_input": "2025-01-31T23:12:24.371934Z",
     "iopub.status.busy": "2025-01-31T23:12:24.370091Z",
     "iopub.status.idle": "2025-01-31T23:12:24.467431Z",
     "shell.execute_reply": "2025-01-31T23:12:24.465436Z",
     "shell.execute_reply.started": "2025-01-31T23:12:24.371859Z"
    },
    "tags": []
   },
   "outputs": [
    {
     "data": {
      "text/html": [
       "<div>\n",
       "<style scoped>\n",
       "    .dataframe tbody tr th:only-of-type {\n",
       "        vertical-align: middle;\n",
       "    }\n",
       "\n",
       "    .dataframe tbody tr th {\n",
       "        vertical-align: top;\n",
       "    }\n",
       "\n",
       "    .dataframe thead th {\n",
       "        text-align: right;\n",
       "    }\n",
       "</style>\n",
       "<table border=\"1\" class=\"dataframe\">\n",
       "  <thead>\n",
       "    <tr style=\"text-align: right;\">\n",
       "      <th></th>\n",
       "      <th>zyla</th>\n",
       "      <th>chameleon</th>\n",
       "    </tr>\n",
       "  </thead>\n",
       "  <tbody>\n",
       "    <tr>\n",
       "      <th>subtract_burntin</th>\n",
       "      <td>0</td>\n",
       "      <td>0</td>\n",
       "    </tr>\n",
       "    <tr>\n",
       "      <th>skip_first_img</th>\n",
       "      <td>auto</td>\n",
       "      <td>0</td>\n",
       "    </tr>\n",
       "    <tr>\n",
       "      <th>rotate_angle</th>\n",
       "      <td>0</td>\n",
       "      <td>0</td>\n",
       "    </tr>\n",
       "    <tr>\n",
       "      <th>ROI</th>\n",
       "      <td>[10, -10, 10, -10]</td>\n",
       "      <td>[10, -10, 10, -10]</td>\n",
       "    </tr>\n",
       "    <tr>\n",
       "      <th>subtract_bg</th>\n",
       "      <td>0</td>\n",
       "      <td>0</td>\n",
       "    </tr>\n",
       "    <tr>\n",
       "      <th>signal_feature</th>\n",
       "      <td>wide</td>\n",
       "      <td>wide</td>\n",
       "    </tr>\n",
       "    <tr>\n",
       "      <th>signal_width</th>\n",
       "      <td>10</td>\n",
       "      <td>10</td>\n",
       "    </tr>\n",
       "    <tr>\n",
       "      <th>fitbgDeg</th>\n",
       "      <td>5</td>\n",
       "      <td>5</td>\n",
       "    </tr>\n",
       "    <tr>\n",
       "      <th>optical_path</th>\n",
       "      <td>side</td>\n",
       "      <td>top</td>\n",
       "    </tr>\n",
       "    <tr>\n",
       "      <th>expmntParams</th>\n",
       "      <td>&lt;ImageAnalysis.ExperimentParameters.Experiment...</td>\n",
       "      <td>&lt;ImageAnalysis.ExperimentParameters.Experiment...</td>\n",
       "    </tr>\n",
       "    <tr>\n",
       "      <th>dx_micron</th>\n",
       "      <td>3.846154</td>\n",
       "      <td>6.25</td>\n",
       "    </tr>\n",
       "  </tbody>\n",
       "</table>\n",
       "</div>"
      ],
      "text/plain": [
       "                                                               zyla  \\\n",
       "subtract_burntin                                                  0   \n",
       "skip_first_img                                                 auto   \n",
       "rotate_angle                                                      0   \n",
       "ROI                                              [10, -10, 10, -10]   \n",
       "subtract_bg                                                       0   \n",
       "signal_feature                                                 wide   \n",
       "signal_width                                                     10   \n",
       "fitbgDeg                                                          5   \n",
       "optical_path                                                   side   \n",
       "expmntParams      <ImageAnalysis.ExperimentParameters.Experiment...   \n",
       "dx_micron                                                  3.846154   \n",
       "\n",
       "                                                          chameleon  \n",
       "subtract_burntin                                                  0  \n",
       "skip_first_img                                                    0  \n",
       "rotate_angle                                                      0  \n",
       "ROI                                              [10, -10, 10, -10]  \n",
       "subtract_bg                                                       0  \n",
       "signal_feature                                                 wide  \n",
       "signal_width                                                     10  \n",
       "fitbgDeg                                                          5  \n",
       "optical_path                                                    top  \n",
       "expmntParams      <ImageAnalysis.ExperimentParameters.Experiment...  \n",
       "dx_micron                                                      6.25  "
      ]
     },
     "execution_count": 120,
     "metadata": {},
     "output_type": "execute_result"
    }
   ],
   "source": [
    "runParams"
   ]
  },
  {
   "cell_type": "code",
   "execution_count": 137,
   "id": "b654edc7-c390-4f18-96c1-0d57f5e17e1d",
   "metadata": {
    "execution": {
     "iopub.execute_input": "2025-02-01T01:23:06.660269Z",
     "iopub.status.busy": "2025-02-01T01:23:06.659418Z",
     "iopub.status.idle": "2025-02-01T01:23:06.746993Z",
     "shell.execute_reply": "2025-02-01T01:23:06.744576Z",
     "shell.execute_reply.started": "2025-02-01T01:23:06.660210Z"
    },
    "tags": []
   },
   "outputs": [
    {
     "data": {
      "text/plain": [
       "subtract_burntin                                                    0\n",
       "skip_first_img                                                   auto\n",
       "rotate_angle                                                        0\n",
       "ROI                                                [10, -10, 10, -10]\n",
       "subtract_bg                                                         0\n",
       "signal_feature                                                   wide\n",
       "signal_width                                                       10\n",
       "fitbgDeg                                                            5\n",
       "optical_path                                                     side\n",
       "expmntParams        <ImageAnalysis.ExperimentParameters.Experiment...\n",
       "dx_micron                                                    3.846154\n",
       "Name: zyla, dtype: object"
      ]
     },
     "execution_count": 137,
     "metadata": {},
     "output_type": "execute_result"
    }
   ],
   "source": [
    "runParams[cameras[0]]"
   ]
  },
  {
   "cell_type": "code",
   "execution_count": 138,
   "id": "7b5ea3c9-f113-40a7-b26a-ac0e3de73fee",
   "metadata": {
    "execution": {
     "iopub.execute_input": "2025-02-01T01:28:00.658089Z",
     "iopub.status.busy": "2025-02-01T01:28:00.657411Z",
     "iopub.status.idle": "2025-02-01T01:28:00.829617Z",
     "shell.execute_reply": "2025-02-01T01:28:00.826993Z",
     "shell.execute_reply.started": "2025-02-01T01:28:00.658029Z"
    }
   },
   "outputs": [
    {
     "data": {
      "text/plain": [
       "3.8461538461538463"
      ]
     },
     "execution_count": 138,
     "metadata": {},
     "output_type": "execute_result"
    }
   ],
   "source": [
    "runParams[cameras[0]].fit"
   ]
  },
  {
   "cell_type": "code",
   "execution_count": 139,
   "id": "1b7cfae4-061c-4722-88da-f0c17676aa36",
   "metadata": {
    "execution": {
     "iopub.execute_input": "2025-02-01T02:14:32.220093Z",
     "iopub.status.busy": "2025-02-01T02:14:32.218529Z",
     "iopub.status.idle": "2025-02-01T02:14:33.932525Z",
     "shell.execute_reply": "2025-02-01T02:14:33.929794Z",
     "shell.execute_reply.started": "2025-02-01T02:14:32.220001Z"
    }
   },
   "outputs": [
    {
     "data": {
      "text/plain": [
       "(<Figure size 640x480 with 6 Axes>,\n",
       " array([[<AxesSubplot: >, <AxesSubplot: >],\n",
       "        [<AxesSubplot: >, <AxesSubplot: >],\n",
       "        [<AxesSubplot: >, <AxesSubplot: >]], dtype=object))"
      ]
     },
     "execution_count": 139,
     "metadata": {},
     "output_type": "execute_result"
    },
    {
     "data": {
      "image/png": "[encoded data removed]",
      "text/plain": [
       "<Figure size 640x480 with 6 Axes>"
      ]
     },
     "metadata": {},
     "output_type": "display_data"
    }
   ],
   "source": [
    "plt.subplots(3,2)"
   ]
  },
  {
   "cell_type": "code",
   "execution_count": null,
   "id": "07f3b645-72ee-41d2-95e9-7a5a04751614",
   "metadata": {},
   "outputs": [],
   "source": []
  },
  {
   "cell_type": "code",
   "execution_count": 34,
   "id": "bea74a6a-523a-491a-b8c7-c268c0b18429",
   "metadata": {
    "execution": {
     "iopub.execute_input": "2025-02-14T20:10:42.347134Z",
     "iopub.status.busy": "2025-02-14T20:10:42.346117Z",
     "iopub.status.idle": "2025-02-14T20:10:42.447606Z",
     "shell.execute_reply": "2025-02-14T20:10:42.445276Z",
     "shell.execute_reply.started": "2025-02-14T20:10:42.347057Z"
    },
    "tags": []
   },
   "outputs": [],
   "source": [
    "Dict1 = {\n",
    "    'subtract_burntin': [0, 0],\n",
    "    'skip_first_img': ['auto', 0],\n",
    "    'rotate_angle': [0, 0], #rotates ccw\n",
    "    'subtract_bg': 1}\n",
    "Dict2 = {\n",
    "    'skip_first_img': 99,\n",
    "    'asdf':'qwer'}\n",
    "    "
   ]
  },
  {
   "cell_type": "code",
   "execution_count": 37,
   "id": "e852541b-d062-4b71-9766-5b878878d2d5",
   "metadata": {
    "execution": {
     "iopub.execute_input": "2025-02-14T20:10:59.153137Z",
     "iopub.status.busy": "2025-02-14T20:10:59.152341Z",
     "iopub.status.idle": "2025-02-14T20:10:59.240261Z",
     "shell.execute_reply": "2025-02-14T20:10:59.238113Z",
     "shell.execute_reply.started": "2025-02-14T20:10:59.153076Z"
    },
    "tags": []
   },
   "outputs": [
    {
     "data": {
      "text/plain": [
       "{'subtract_burntin': [0, 0],\n",
       " 'skip_first_img': ['auto', 0],\n",
       " 'rotate_angle': [0, 0],\n",
       " 'subtract_bg': 1}"
      ]
     },
     "execution_count": 37,
     "metadata": {},
     "output_type": "execute_result"
    }
   ],
   "source": [
    "Dict1"
   ]
  },
  {
   "cell_type": "code",
   "execution_count": 35,
   "id": "014012ce-f43e-4bbd-8428-66f3009ef855",
   "metadata": {
    "execution": {
     "iopub.execute_input": "2025-02-14T20:10:42.974265Z",
     "iopub.status.busy": "2025-02-14T20:10:42.971891Z",
     "iopub.status.idle": "2025-02-14T20:10:43.066085Z",
     "shell.execute_reply": "2025-02-14T20:10:43.063181Z",
     "shell.execute_reply.started": "2025-02-14T20:10:42.974187Z"
    },
    "tags": []
   },
   "outputs": [
    {
     "data": {
      "text/plain": [
       "{'subtract_burntin': [0, 0],\n",
       " 'skip_first_img': 99,\n",
       " 'rotate_angle': [0, 0],\n",
       " 'subtract_bg': 1,\n",
       " 'asdf': 'qwer'}"
      ]
     },
     "execution_count": 35,
     "metadata": {},
     "output_type": "execute_result"
    }
   ],
   "source": [
    "Dict1 | Dict2"
   ]
  },
  {
   "cell_type": "code",
   "execution_count": 38,
   "id": "e6169c1e-27ec-4c2f-a51a-2f1d3c0b7098",
   "metadata": {
    "execution": {
     "iopub.execute_input": "2025-02-14T20:11:15.962316Z",
     "iopub.status.busy": "2025-02-14T20:11:15.961462Z",
     "iopub.status.idle": "2025-02-14T20:11:16.057315Z",
     "shell.execute_reply": "2025-02-14T20:11:16.055062Z",
     "shell.execute_reply.started": "2025-02-14T20:11:15.962252Z"
    }
   },
   "outputs": [],
   "source": [
    "Dict1.update(Dict2)"
   ]
  },
  {
   "cell_type": "code",
   "execution_count": 39,
   "id": "a1df427d-d622-4fa3-8f0d-505dce365234",
   "metadata": {
    "execution": {
     "iopub.execute_input": "2025-02-14T20:11:20.072790Z",
     "iopub.status.busy": "2025-02-14T20:11:20.071962Z",
     "iopub.status.idle": "2025-02-14T20:11:20.163254Z",
     "shell.execute_reply": "2025-02-14T20:11:20.160536Z",
     "shell.execute_reply.started": "2025-02-14T20:11:20.072729Z"
    }
   },
   "outputs": [
    {
     "data": {
      "text/plain": [
       "{'subtract_burntin': [0, 0],\n",
       " 'skip_first_img': 99,\n",
       " 'rotate_angle': [0, 0],\n",
       " 'subtract_bg': 1,\n",
       " 'asdf': 'qwer'}"
      ]
     },
     "execution_count": 39,
     "metadata": {},
     "output_type": "execute_result"
    }
   ],
   "source": [
    "Dict1"
   ]
  },
  {
   "cell_type": "code",
   "execution_count": null,
   "id": "bd844a02-2ab1-4d14-b995-0cd09d89602d",
   "metadata": {},
   "outputs": [],
   "source": []
  },
  {
   "cell_type": "markdown",
   "id": "25911a3a-3682-498f-8c39-0d459eeb72fc",
   "metadata": {
    "jp-MarkdownHeadingCollapsed": true,
    "tags": []
   },
   "source": [
    "### Plots"
   ]
  },
  {
   "cell_type": "code",
   "execution_count": 44,
   "id": "5d5b9140",
   "metadata": {
    "scrolled": true
   },
   "outputs": [
    {
     "data": {
      "image/png": "[encoded data removed]",
      "text/plain": [
       "<Figure size 432x288 with 3 Axes>"
      ]
     },
     "metadata": {
      "needs_background": "light"
     },
     "output_type": "display_data"
    }
   ],
   "source": [
    "fig, axs = plt.subplots(3,1)\n",
    "\n",
    "for ii in range(len(axs)):\n",
    "    axs[ii].imshow(AA[ii])\n",
    "#     plt.colorbar()\n",
    "    \n",
    "# plt.colorbar()"
   ]
  },
  {
   "cell_type": "code",
   "execution_count": 113,
   "id": "39ccfb7f",
   "metadata": {},
   "outputs": [
    {
     "data": {
      "text/plain": [
       "<matplotlib.collections.PolyCollection at 0x17fe337b978>"
      ]
     },
     "execution_count": 113,
     "metadata": {},
     "output_type": "execute_result"
    },
    {
     "data": {
      "image/png": "[encoded data removed]",
      "text/plain": [
       "<Figure size 432x288 with 1 Axes>"
      ]
     },
     "metadata": {
      "needs_background": "light"
     },
     "output_type": "display_data"
    }
   ],
   "source": [
    "plt.subplot(3,1,1)\n",
    "plt.pcolor(AA[0])\n",
    "\n",
    "# plt.subplot(1,3,1)\n",
    "# plt.pcolor(AA[1])\n",
    "\n",
    "# plt.subplot(3,1,3)\n",
    "# plt.pcolor(AA[2])"
   ]
  },
  {
   "cell_type": "code",
   "execution_count": 15,
   "id": "da4cd7c0",
   "metadata": {},
   "outputs": [
    {
     "data": {
      "text/plain": [
       "<matplotlib.colorbar.Colorbar at 0x29f204c6dd8>"
      ]
     },
     "execution_count": 15,
     "metadata": {},
     "output_type": "execute_result"
    },
    {
     "data": {
      "image/png": "[encoded data removed]",
      "text/plain": [
       "<Figure size 432x288 with 2 Axes>"
      ]
     },
     "metadata": {
      "needs_background": "light"
     },
     "output_type": "display_data"
    }
   ],
   "source": [
    "plt.imshow(AA[2])\n",
    "plt.colorbar()"
   ]
  },
  {
   "cell_type": "code",
   "execution_count": 8,
   "id": "f2e3f091",
   "metadata": {},
   "outputs": [
    {
     "data": {
      "text/plain": [
       "<matplotlib.colorbar.Colorbar at 0x217c962be48>"
      ]
     },
     "execution_count": 8,
     "metadata": {},
     "output_type": "execute_result"
    },
    {
     "data": {
      "image/png": "[encoded data removed]",
      "text/plain": [
       "<Figure size 432x288 with 5 Axes>"
      ]
     },
     "metadata": {
      "needs_background": "light"
     },
     "output_type": "display_data"
    }
   ],
   "source": [
    "fig, axes = plt.subplots(nrows=2, ncols=2, sharex=True, sharey=True)\n",
    "  \n",
    "for ax in axes.flat:\n",
    "    im = ax.imshow(np.random.random((10, 10)), vmin=0, vmax=1)\n",
    "    \n",
    "plt.colorbar(im, ax=axes.ravel().tolist())"
   ]
  },
  {
   "cell_type": "code",
   "execution_count": 23,
   "id": "8919ceb5",
   "metadata": {},
   "outputs": [
    {
     "data": {
      "text/plain": [
       "(4,)"
      ]
     },
     "execution_count": 23,
     "metadata": {},
     "output_type": "execute_result"
    }
   ],
   "source": [
    "axes.ravel().shape"
   ]
  },
  {
   "cell_type": "code",
   "execution_count": 24,
   "id": "98e67608",
   "metadata": {},
   "outputs": [
    {
     "data": {
      "text/plain": [
       "(4,)"
      ]
     },
     "execution_count": 24,
     "metadata": {},
     "output_type": "execute_result"
    }
   ],
   "source": [
    "axes.flatten().shape"
   ]
  },
  {
   "cell_type": "code",
   "execution_count": 26,
   "id": "0a6400ad",
   "metadata": {},
   "outputs": [],
   "source": [
    "ax=axes.ravel().tolist()"
   ]
  },
  {
   "cell_type": "code",
   "execution_count": 27,
   "id": "dd4f5a16",
   "metadata": {},
   "outputs": [
    {
     "data": {
      "text/plain": [
       "[<AxesSubplot:>, <AxesSubplot:>, <AxesSubplot:>, <AxesSubplot:>]"
      ]
     },
     "execution_count": 27,
     "metadata": {},
     "output_type": "execute_result"
    }
   ],
   "source": [
    "ax"
   ]
  },
  {
   "cell_type": "code",
   "execution_count": 29,
   "id": "e5d326bd",
   "metadata": {},
   "outputs": [
    {
     "data": {
      "text/plain": [
       "array([[0.97169886, 0.65668476, 0.02688219],\n",
       "       [0.64657241, 0.02991465, 0.72120143]])"
      ]
     },
     "execution_count": 29,
     "metadata": {},
     "output_type": "execute_result"
    }
   ],
   "source": [
    "AA = np.random.rand(2,3)\n",
    "AA"
   ]
  },
  {
   "cell_type": "code",
   "execution_count": 32,
   "id": "bfd55de5",
   "metadata": {},
   "outputs": [
    {
     "data": {
      "text/plain": [
       "numpy.flatiter"
      ]
     },
     "execution_count": 32,
     "metadata": {},
     "output_type": "execute_result"
    }
   ],
   "source": [
    "type(AA.flat)"
   ]
  },
  {
   "cell_type": "code",
   "execution_count": 36,
   "id": "8de04caa",
   "metadata": {},
   "outputs": [
    {
     "data": {
      "text/plain": [
       "(6,)"
      ]
     },
     "execution_count": 36,
     "metadata": {},
     "output_type": "execute_result"
    }
   ],
   "source": [
    "AA.flatten().shape"
   ]
  },
  {
   "cell_type": "code",
   "execution_count": 37,
   "id": "03341cb1",
   "metadata": {},
   "outputs": [
    {
     "data": {
      "text/plain": [
       "(6,)"
      ]
     },
     "execution_count": 37,
     "metadata": {},
     "output_type": "execute_result"
    }
   ],
   "source": [
    "AA.ravel().shape"
   ]
  },
  {
   "cell_type": "code",
   "execution_count": 16,
   "id": "964da3f5",
   "metadata": {},
   "outputs": [],
   "source": [
    "np.random.randint?"
   ]
  },
  {
   "cell_type": "code",
   "execution_count": 5,
   "id": "404a9fd2",
   "metadata": {},
   "outputs": [],
   "source": [
    "aa = np.random.randint(1,50,10)\n",
    "bb = np.random.randint(1,50,10)"
   ]
  },
  {
   "cell_type": "code",
   "execution_count": 6,
   "id": "330a1eb7",
   "metadata": {},
   "outputs": [
    {
     "data": {
      "text/plain": [
       "array([39,  3,  2, 41, 46, 28,  1,  9, 20, 11])"
      ]
     },
     "execution_count": 6,
     "metadata": {},
     "output_type": "execute_result"
    }
   ],
   "source": [
    "aa"
   ]
  },
  {
   "cell_type": "code",
   "execution_count": 11,
   "id": "747cc4d5",
   "metadata": {},
   "outputs": [
    {
     "ename": "AttributeError",
     "evalue": "'numpy.ndarray' object has no attribute 'median'",
     "output_type": "error",
     "traceback": [
      "\u001b[1;31m---------------------------------------------------------------------------\u001b[0m",
      "\u001b[1;31mAttributeError\u001b[0m                            Traceback (most recent call last)",
      "\u001b[1;32mC:\\Users\\SOMMER~1\\AppData\\Local\\Temp/ipykernel_9304/415783020.py\u001b[0m in \u001b[0;36m<module>\u001b[1;34m\u001b[0m\n\u001b[1;32m----> 1\u001b[1;33m \u001b[0maa\u001b[0m\u001b[1;33m.\u001b[0m\u001b[0mmedian\u001b[0m\u001b[1;33m(\u001b[0m\u001b[1;33m)\u001b[0m\u001b[1;33m\u001b[0m\u001b[1;33m\u001b[0m\u001b[0m\n\u001b[0m",
      "\u001b[1;31mAttributeError\u001b[0m: 'numpy.ndarray' object has no attribute 'median'"
     ]
    }
   ],
   "source": [
    "aa.median()"
   ]
  },
  {
   "cell_type": "code",
   "execution_count": 7,
   "id": "f4156ce6",
   "metadata": {},
   "outputs": [
    {
     "data": {
      "text/plain": [
       "array([ 7, 35, 49,  8, 26,  9, 14, 25, 26,  4])"
      ]
     },
     "execution_count": 7,
     "metadata": {},
     "output_type": "execute_result"
    }
   ],
   "source": [
    "bb"
   ]
  },
  {
   "cell_type": "code",
   "execution_count": 22,
   "id": "3913d9b1",
   "metadata": {},
   "outputs": [],
   "source": [
    "grid = np.meshgrid(aa, bb)"
   ]
  },
  {
   "cell_type": "code",
   "execution_count": 23,
   "id": "bea1d9eb",
   "metadata": {},
   "outputs": [
    {
     "data": {
      "text/plain": [
       "[array([[44,  8, 16, 15],\n",
       "        [44,  8, 16, 15],\n",
       "        [44,  8, 16, 15],\n",
       "        [44,  8, 16, 15]]),\n",
       " array([[22, 22, 22, 22],\n",
       "        [36, 36, 36, 36],\n",
       "        [43, 43, 43, 43],\n",
       "        [30, 30, 30, 30]])]"
      ]
     },
     "execution_count": 23,
     "metadata": {},
     "output_type": "execute_result"
    }
   ],
   "source": [
    "grid"
   ]
  },
  {
   "cell_type": "code",
   "execution_count": 24,
   "id": "4bf47bb0",
   "metadata": {},
   "outputs": [
    {
     "data": {
      "text/plain": [
       "array([44,  8, 16, 15, 44,  8, 16, 15, 44,  8, 16, 15, 44,  8, 16, 15])"
      ]
     },
     "execution_count": 24,
     "metadata": {},
     "output_type": "execute_result"
    }
   ],
   "source": [
    "grid[0].ravel()"
   ]
  },
  {
   "cell_type": "code",
   "execution_count": 26,
   "id": "d513be7d",
   "metadata": {},
   "outputs": [
    {
     "data": {
      "text/plain": [
       "array([[44,  8, 16, 15, 44,  8, 16, 15, 44,  8, 16, 15, 44,  8, 16, 15],\n",
       "       [22, 22, 22, 22, 36, 36, 36, 36, 43, 43, 43, 43, 30, 30, 30, 30]])"
      ]
     },
     "execution_count": 26,
     "metadata": {},
     "output_type": "execute_result"
    }
   ],
   "source": [
    "np.vstack( (grid[0].ravel(), grid[1].ravel()) )"
   ]
  },
  {
   "cell_type": "code",
   "execution_count": 34,
   "id": "7d235095",
   "metadata": {},
   "outputs": [
    {
     "data": {
      "text/plain": [
       "array([[ True,  True,  True,  True],\n",
       "       [ True,  True,  True,  True],\n",
       "       [ True,  True,  True,  True],\n",
       "       [ True,  True,  True,  True]])"
      ]
     },
     "execution_count": 34,
     "metadata": {},
     "output_type": "execute_result"
    }
   ],
   "source": [
    "np.ones_like(grid[0], dtype=bool)"
   ]
  },
  {
   "cell_type": "code",
   "execution_count": 42,
   "id": "fbbcb777",
   "metadata": {},
   "outputs": [
    {
     "data": {
      "text/plain": [
       "array([ True,  True,  True,  True,  True,  True,  True,  True,  True,\n",
       "        True])"
      ]
     },
     "execution_count": 42,
     "metadata": {},
     "output_type": "execute_result"
    }
   ],
   "source": [
    "mask = np.full(aa.shape, True)\n",
    "mask"
   ]
  },
  {
   "cell_type": "code",
   "execution_count": 43,
   "id": "469713d4",
   "metadata": {},
   "outputs": [],
   "source": [
    "mask[3:-3] = False"
   ]
  },
  {
   "cell_type": "code",
   "execution_count": 44,
   "id": "0d537aca",
   "metadata": {},
   "outputs": [
    {
     "data": {
      "text/plain": [
       "array([ True,  True,  True, False, False, False, False,  True,  True,\n",
       "        True])"
      ]
     },
     "execution_count": 44,
     "metadata": {},
     "output_type": "execute_result"
    }
   ],
   "source": [
    "mask"
   ]
  },
  {
   "cell_type": "code",
   "execution_count": 52,
   "id": "6b65e41c",
   "metadata": {},
   "outputs": [
    {
     "data": {
      "text/plain": [
       "array([-4.22144870e-04,  2.38517060e-02,  1.27482701e-01,  1.12902784e+01])"
      ]
     },
     "execution_count": 52,
     "metadata": {},
     "output_type": "execute_result"
    }
   ],
   "source": [
    "pp = np.polyfit(aa, bb, 3)\n",
    "pp"
   ]
  },
  {
   "cell_type": "code",
   "execution_count": 53,
   "id": "d1614371",
   "metadata": {},
   "outputs": [],
   "source": [
    "xx = np.arange(aa.min(), aa.max(), 0.1)\n",
    "yy = pp[0] * xx**3 + pp[1] * xx**2 + pp[2] * xx + pp[3]"
   ]
  },
  {
   "cell_type": "code",
   "execution_count": 54,
   "id": "0c804bf9",
   "metadata": {},
   "outputs": [
    {
     "data": {
      "text/plain": [
       "[<matplotlib.lines.Line2D at 0x17c5d1bafd0>,\n",
       " <matplotlib.lines.Line2D at 0x17c5d0a16a0>]"
      ]
     },
     "execution_count": 54,
     "metadata": {},
     "output_type": "execute_result"
    },
    {
     "data": {
      "image/png": "[encoded data removed]",
      "text/plain": [
       "<Figure size 432x288 with 1 Axes>"
      ]
     },
     "metadata": {
      "needs_background": "light"
     },
     "output_type": "display_data"
    }
   ],
   "source": [
    "plt.plot(xx, yy, aa, bb, 'x')"
   ]
  },
  {
   "cell_type": "code",
   "execution_count": null,
   "id": "bb84d45c-c27f-487c-8c0e-39e846bace8f",
   "metadata": {},
   "outputs": [],
   "source": []
  },
  {
   "cell_type": "markdown",
   "id": "a225d478-51c5-4b3e-b3eb-6f5777e57306",
   "metadata": {
    "jp-MarkdownHeadingCollapsed": true,
    "tags": []
   },
   "source": [
    "### Variable Logs"
   ]
  },
  {
   "cell_type": "code",
   "execution_count": 284,
   "id": "77410882",
   "metadata": {},
   "outputs": [],
   "source": [
    "def LoadVariableLog(path):\n",
    "    filenames = os.listdir(path)\n",
    "    filenames.sort()\n",
    "    \n",
    "    variable_list = []\n",
    "    \n",
    "    for filename in filenames:\n",
    "        variable_dict = {}\n",
    "        variable_dict['time'] = datetime.datetime.strptime(filename, 'Variables_%Y_%m_%d_%H_%M_%S_0.txt')\n",
    "        # print(parameter_dict['time'])\n",
    "        with open( path + '/' + filename) as f:\n",
    "            next(f)\n",
    "            for line in f:\n",
    "                key, val = line.strip().split(' = ')\n",
    "                variable_dict[key] = float(val)\n",
    "                \n",
    "        variable_list.append(variable_dict)\n",
    "        \n",
    "        return pd.DataFrame(variable_list)"
   ]
  },
  {
   "cell_type": "code",
   "execution_count": 285,
   "id": "ce2aaab3",
   "metadata": {},
   "outputs": [
    {
     "data": {
      "text/html": [
       "<div>\n",
       "<style scoped>\n",
       "    .dataframe tbody tr th:only-of-type {\n",
       "        vertical-align: middle;\n",
       "    }\n",
       "\n",
       "    .dataframe tbody tr th {\n",
       "        vertical-align: top;\n",
       "    }\n",
       "\n",
       "    .dataframe thead th {\n",
       "        text-align: right;\n",
       "    }\n",
       "</style>\n",
       "<table border=\"1\" class=\"dataframe\">\n",
       "  <thead>\n",
       "    <tr style=\"text-align: right;\">\n",
       "      <th></th>\n",
       "      <th>time</th>\n",
       "      <th>IterationNum</th>\n",
       "      <th>IterationCount</th>\n",
       "      <th>wait</th>\n",
       "      <th>AndorROIheight</th>\n",
       "      <th>AndorShortExpDelay_us</th>\n",
       "      <th>LFImg</th>\n",
       "      <th>LF_AOM_freq</th>\n",
       "      <th>time compress</th>\n",
       "      <th>MOT/Re Attn final V</th>\n",
       "      <th>...</th>\n",
       "      <th>ZSBiasVoltage</th>\n",
       "      <th>CamBiasVoltage</th>\n",
       "      <th>VerticalBiasVoltage</th>\n",
       "      <th>piezoX</th>\n",
       "      <th>piezoY</th>\n",
       "      <th>D1Time_ms</th>\n",
       "      <th>High PD 1</th>\n",
       "      <th>High PD 2</th>\n",
       "      <th>Evap Time</th>\n",
       "      <th>Evap Time 2</th>\n",
       "    </tr>\n",
       "  </thead>\n",
       "  <tbody>\n",
       "    <tr>\n",
       "      <th>0</th>\n",
       "      <td>2023-09-08 16:43:47</td>\n",
       "      <td>0.0</td>\n",
       "      <td>1.0</td>\n",
       "      <td>5.0</td>\n",
       "      <td>512.0</td>\n",
       "      <td>2415.44</td>\n",
       "      <td>3.598</td>\n",
       "      <td>226.0</td>\n",
       "      <td>5.0</td>\n",
       "      <td>4.0</td>\n",
       "      <td>...</td>\n",
       "      <td>1.44</td>\n",
       "      <td>0.322</td>\n",
       "      <td>0.377</td>\n",
       "      <td>5.0</td>\n",
       "      <td>5.0</td>\n",
       "      <td>1.5</td>\n",
       "      <td>2.45</td>\n",
       "      <td>0.25</td>\n",
       "      <td>100.0</td>\n",
       "      <td>50.0</td>\n",
       "    </tr>\n",
       "  </tbody>\n",
       "</table>\n",
       "<p>1 rows × 29 columns</p>\n",
       "</div>"
      ],
      "text/plain": [
       "                 time  IterationNum  IterationCount  wait  AndorROIheight  \\\n",
       "0 2023-09-08 16:43:47           0.0             1.0   5.0           512.0   \n",
       "\n",
       "   AndorShortExpDelay_us  LFImg  LF_AOM_freq  time compress  \\\n",
       "0                2415.44  3.598        226.0            5.0   \n",
       "\n",
       "   MOT/Re Attn final V  ...  ZSBiasVoltage  CamBiasVoltage  \\\n",
       "0                  4.0  ...           1.44           0.322   \n",
       "\n",
       "   VerticalBiasVoltage  piezoX  piezoY  D1Time_ms  High PD 1  High PD 2  \\\n",
       "0                0.377     5.0     5.0        1.5       2.45       0.25   \n",
       "\n",
       "   Evap Time  Evap Time 2  \n",
       "0      100.0         50.0  \n",
       "\n",
       "[1 rows x 29 columns]"
      ]
     },
     "execution_count": 285,
     "metadata": {},
     "output_type": "execute_result"
    }
   ],
   "source": [
    "LoadVariableLog(data_folder+'/Variable Logs')"
   ]
  },
  {
   "cell_type": "code",
   "execution_count": 269,
   "id": "0a22b4f9",
   "metadata": {},
   "outputs": [],
   "source": [
    "aa = data_folder+'/Variable Logs'\n"
   ]
  },
  {
   "cell_type": "code",
   "execution_count": 272,
   "id": "55a0bd03",
   "metadata": {},
   "outputs": [],
   "source": [
    "bb = os.listdir(aa)"
   ]
  },
  {
   "cell_type": "code",
   "execution_count": 274,
   "id": "34da1e3c",
   "metadata": {},
   "outputs": [],
   "source": [
    "bb.sort()"
   ]
  },
  {
   "cell_type": "code",
   "execution_count": 275,
   "id": "fa744ded",
   "metadata": {},
   "outputs": [
    {
     "data": {
      "text/plain": [
       "['Variables_2023_09_08_16_43_47_0.txt',\n",
       " 'Variables_2023_09_08_16_45_48_0.txt',\n",
       " 'Variables_2023_09_08_16_49_16_0.txt',\n",
       " 'Variables_2023_09_08_16_50_46_0.txt',\n",
       " 'Variables_2023_09_08_16_51_52_0.txt',\n",
       " 'Variables_2023_09_08_17_05_57_0.txt',\n",
       " 'Variables_2023_09_08_17_08_28_0.txt',\n",
       " 'Variables_2023_09_08_17_09_58_0.txt',\n",
       " 'Variables_2023_09_08_17_11_58_0.txt',\n",
       " 'Variables_2023_09_08_17_13_10_0.txt',\n",
       " 'Variables_2023_09_08_17_14_12_0.txt',\n",
       " 'Variables_2023_09_08_17_15_05_0.txt',\n",
       " 'Variables_2023_09_08_17_24_44_0.txt',\n",
       " 'Variables_2023_09_08_17_24_51_0.txt',\n",
       " 'Variables_2023_09_08_17_25_15_0.txt',\n",
       " 'Variables_2023_09_08_17_25_22_0.txt',\n",
       " 'Variables_2023_09_08_17_41_43_0.txt',\n",
       " 'Variables_2023_09_08_17_42_45_0.txt',\n",
       " 'Variables_2023_09_08_17_46_04_0.txt',\n",
       " 'Variables_2023_09_08_17_46_11_0.txt',\n",
       " 'Variables_2023_09_08_17_49_56_0.txt',\n",
       " 'Variables_2023_09_08_17_50_03_0.txt',\n",
       " 'Variables_2023_09_08_17_53_23_0.txt',\n",
       " 'Variables_2023_09_08_17_53_30_0.txt',\n",
       " 'Variables_2023_09_08_17_56_25_0.txt',\n",
       " 'Variables_2023_09_08_17_56_31_0.txt',\n",
       " 'Variables_2023_09_08_17_58_52_0.txt',\n",
       " 'Variables_2023_09_08_18_01_08_0.txt',\n",
       " 'Variables_2023_09_08_18_07_27_0.txt',\n",
       " 'Variables_2023_09_08_18_07_45_0.txt',\n",
       " 'Variables_2023_09_08_18_08_26_0.txt',\n",
       " 'Variables_2023_09_08_18_10_34_0.txt',\n",
       " 'Variables_2023_09_08_18_13_22_0.txt',\n",
       " 'Variables_2023_09_08_18_14_02_0.txt',\n",
       " 'Variables_2023_09_08_18_16_27_0.txt',\n",
       " 'Variables_2023_09_08_19_05_19_0.txt',\n",
       " 'Variables_2023_09_08_19_05_46_0.txt',\n",
       " 'Variables_2023_09_08_19_06_19_0.txt',\n",
       " 'Variables_2023_09_08_19_07_58_0.txt',\n",
       " 'Variables_2023_09_08_19_09_11_0.txt',\n",
       " 'Variables_2023_09_08_19_10_00_0.txt']"
      ]
     },
     "execution_count": 275,
     "metadata": {},
     "output_type": "execute_result"
    }
   ],
   "source": [
    "bb"
   ]
  },
  {
   "cell_type": "code",
   "execution_count": 286,
   "id": "45aea292",
   "metadata": {},
   "outputs": [],
   "source": [
    "def LoadVariableLog(path):\n",
    "    filenames = os.listdir(path)\n",
    "    \n",
    "    parameter_list = []\n",
    "\n",
    "    for filename in filenames:\n",
    "        parameter_dict = {}\n",
    "        parameter_dict['time'] = datetime.datetime.strptime(filename,'Variables_%Y_%m_%d_%H_%M_%S_0.txt')\n",
    "    #     print(parameter_dict['time'])\n",
    "        with open( data_folder + '/Variable Logs/' + filename) as f:\n",
    "            next(f)\n",
    "            for line in f:\n",
    "                key, val = line.strip().split(' = ')\n",
    "                parameter_dict[key] = float(val)\n",
    "\n",
    "        parameter_list.append(parameter_dict)\n",
    "        \n",
    "    return"
   ]
  },
  {
   "cell_type": "code",
   "execution_count": 288,
   "id": "bcf693df",
   "metadata": {},
   "outputs": [],
   "source": [
    "LoadVariableLog(data_folder+'/Variable Logs')"
   ]
  },
  {
   "cell_type": "code",
   "execution_count": 293,
   "id": "b2f4f8b9",
   "metadata": {},
   "outputs": [
    {
     "ename": "TypeError",
     "evalue": "join() argument must be str or bytes, not 'NoneType'",
     "output_type": "error",
     "traceback": [
      "\u001b[1;31m---------------------------------------------------------------------------\u001b[0m",
      "\u001b[1;31mTypeError\u001b[0m                                 Traceback (most recent call last)",
      "\u001b[1;32mC:\\Users\\SOMMER~1\\AppData\\Local\\Temp/ipykernel_7468/3676790873.py\u001b[0m in \u001b[0;36m<module>\u001b[1;34m\u001b[0m\n\u001b[1;32m----> 1\u001b[1;33m \u001b[0mos\u001b[0m\u001b[1;33m.\u001b[0m\u001b[0mpath\u001b[0m\u001b[1;33m.\u001b[0m\u001b[0mjoin\u001b[0m\u001b[1;33m(\u001b[0m\u001b[1;34m'a'\u001b[0m\u001b[1;33m,\u001b[0m\u001b[1;34m'b'\u001b[0m\u001b[1;33m,\u001b[0m\u001b[1;32mNone\u001b[0m\u001b[1;33m)\u001b[0m\u001b[1;33m\u001b[0m\u001b[1;33m\u001b[0m\u001b[0m\n\u001b[0m",
      "\u001b[1;32mC:\\ProgramData\\Anaconda3\\lib\\ntpath.py\u001b[0m in \u001b[0;36mjoin\u001b[1;34m(path, *paths)\u001b[0m\n\u001b[0;32m    113\u001b[0m         \u001b[1;32mreturn\u001b[0m \u001b[0mresult_drive\u001b[0m \u001b[1;33m+\u001b[0m \u001b[0mresult_path\u001b[0m\u001b[1;33m\u001b[0m\u001b[1;33m\u001b[0m\u001b[0m\n\u001b[0;32m    114\u001b[0m     \u001b[1;32mexcept\u001b[0m \u001b[1;33m(\u001b[0m\u001b[0mTypeError\u001b[0m\u001b[1;33m,\u001b[0m \u001b[0mAttributeError\u001b[0m\u001b[1;33m,\u001b[0m \u001b[0mBytesWarning\u001b[0m\u001b[1;33m)\u001b[0m\u001b[1;33m:\u001b[0m\u001b[1;33m\u001b[0m\u001b[1;33m\u001b[0m\u001b[0m\n\u001b[1;32m--> 115\u001b[1;33m         \u001b[0mgenericpath\u001b[0m\u001b[1;33m.\u001b[0m\u001b[0m_check_arg_types\u001b[0m\u001b[1;33m(\u001b[0m\u001b[1;34m'join'\u001b[0m\u001b[1;33m,\u001b[0m \u001b[0mpath\u001b[0m\u001b[1;33m,\u001b[0m \u001b[1;33m*\u001b[0m\u001b[0mpaths\u001b[0m\u001b[1;33m)\u001b[0m\u001b[1;33m\u001b[0m\u001b[1;33m\u001b[0m\u001b[0m\n\u001b[0m\u001b[0;32m    116\u001b[0m         \u001b[1;32mraise\u001b[0m\u001b[1;33m\u001b[0m\u001b[1;33m\u001b[0m\u001b[0m\n\u001b[0;32m    117\u001b[0m \u001b[1;33m\u001b[0m\u001b[0m\n",
      "\u001b[1;32mC:\\ProgramData\\Anaconda3\\lib\\genericpath.py\u001b[0m in \u001b[0;36m_check_arg_types\u001b[1;34m(funcname, *args)\u001b[0m\n\u001b[0;32m    147\u001b[0m         \u001b[1;32melse\u001b[0m\u001b[1;33m:\u001b[0m\u001b[1;33m\u001b[0m\u001b[1;33m\u001b[0m\u001b[0m\n\u001b[0;32m    148\u001b[0m             raise TypeError('%s() argument must be str or bytes, not %r' %\n\u001b[1;32m--> 149\u001b[1;33m                             (funcname, s.__class__.__name__)) from None\n\u001b[0m\u001b[0;32m    150\u001b[0m     \u001b[1;32mif\u001b[0m \u001b[0mhasstr\u001b[0m \u001b[1;32mand\u001b[0m \u001b[0mhasbytes\u001b[0m\u001b[1;33m:\u001b[0m\u001b[1;33m\u001b[0m\u001b[1;33m\u001b[0m\u001b[0m\n\u001b[0;32m    151\u001b[0m         \u001b[1;32mraise\u001b[0m \u001b[0mTypeError\u001b[0m\u001b[1;33m(\u001b[0m\u001b[1;34m\"Can't mix strings and bytes in path components\"\u001b[0m\u001b[1;33m)\u001b[0m \u001b[1;32mfrom\u001b[0m \u001b[1;32mNone\u001b[0m\u001b[1;33m\u001b[0m\u001b[1;33m\u001b[0m\u001b[0m\n",
      "\u001b[1;31mTypeError\u001b[0m: join() argument must be str or bytes, not 'NoneType'"
     ]
    }
   ],
   "source": [
    "os.path.join('a','b',None)"
   ]
  },
  {
   "cell_type": "code",
   "execution_count": 265,
   "id": "6bc7ca05",
   "metadata": {},
   "outputs": [
    {
     "data": {
      "text/html": [
       "<div>\n",
       "<style scoped>\n",
       "    .dataframe tbody tr th:only-of-type {\n",
       "        vertical-align: middle;\n",
       "    }\n",
       "\n",
       "    .dataframe tbody tr th {\n",
       "        vertical-align: top;\n",
       "    }\n",
       "\n",
       "    .dataframe thead th {\n",
       "        text-align: right;\n",
       "    }\n",
       "</style>\n",
       "<table border=\"1\" class=\"dataframe\">\n",
       "  <thead>\n",
       "    <tr style=\"text-align: right;\">\n",
       "      <th></th>\n",
       "      <th>IterationNum</th>\n",
       "      <th>IterationCount</th>\n",
       "      <th>wait</th>\n",
       "      <th>AndorROIheight</th>\n",
       "      <th>AndorShortExpDelay_us</th>\n",
       "      <th>LFImg</th>\n",
       "      <th>LF_AOM_freq</th>\n",
       "      <th>time_compress</th>\n",
       "      <th>MOT/Re_Attn_final_V</th>\n",
       "      <th>TOF</th>\n",
       "      <th>...</th>\n",
       "      <th>CamBiasVoltage</th>\n",
       "      <th>VerticalBiasVoltage</th>\n",
       "      <th>piezoX</th>\n",
       "      <th>piezoY</th>\n",
       "      <th>D1Time_ms</th>\n",
       "      <th>High_PD_1</th>\n",
       "      <th>High_PD_2</th>\n",
       "      <th>Evap_Time</th>\n",
       "      <th>Evap_Time_2</th>\n",
       "      <th>FLIR_Pulse</th>\n",
       "    </tr>\n",
       "    <tr>\n",
       "      <th>time</th>\n",
       "      <th></th>\n",
       "      <th></th>\n",
       "      <th></th>\n",
       "      <th></th>\n",
       "      <th></th>\n",
       "      <th></th>\n",
       "      <th></th>\n",
       "      <th></th>\n",
       "      <th></th>\n",
       "      <th></th>\n",
       "      <th></th>\n",
       "      <th></th>\n",
       "      <th></th>\n",
       "      <th></th>\n",
       "      <th></th>\n",
       "      <th></th>\n",
       "      <th></th>\n",
       "      <th></th>\n",
       "      <th></th>\n",
       "      <th></th>\n",
       "      <th></th>\n",
       "    </tr>\n",
       "  </thead>\n",
       "  <tbody>\n",
       "    <tr>\n",
       "      <th>2023-09-15 14:24:20</th>\n",
       "      <td>3.14</td>\n",
       "      <td>7.0</td>\n",
       "      <td>0.0</td>\n",
       "      <td>512.0</td>\n",
       "      <td>2415.44</td>\n",
       "      <td>3.598</td>\n",
       "      <td>226.0</td>\n",
       "      <td>5.0</td>\n",
       "      <td>4.0</td>\n",
       "      <td>0.0</td>\n",
       "      <td>...</td>\n",
       "      <td>0.322</td>\n",
       "      <td>0.3770</td>\n",
       "      <td>5.0</td>\n",
       "      <td>5.0</td>\n",
       "      <td>1.5</td>\n",
       "      <td>1.75</td>\n",
       "      <td>0.25</td>\n",
       "      <td>100.0</td>\n",
       "      <td>50.0</td>\n",
       "      <td>NaN</td>\n",
       "    </tr>\n",
       "    <tr>\n",
       "      <th>2023-09-15 14:25:41</th>\n",
       "      <td>0.00</td>\n",
       "      <td>7.0</td>\n",
       "      <td>0.0</td>\n",
       "      <td>512.0</td>\n",
       "      <td>2415.44</td>\n",
       "      <td>3.598</td>\n",
       "      <td>226.0</td>\n",
       "      <td>5.0</td>\n",
       "      <td>4.0</td>\n",
       "      <td>0.0</td>\n",
       "      <td>...</td>\n",
       "      <td>0.322</td>\n",
       "      <td>0.3770</td>\n",
       "      <td>5.0</td>\n",
       "      <td>5.0</td>\n",
       "      <td>1.5</td>\n",
       "      <td>1.75</td>\n",
       "      <td>0.25</td>\n",
       "      <td>100.0</td>\n",
       "      <td>50.0</td>\n",
       "      <td>NaN</td>\n",
       "    </tr>\n",
       "    <tr>\n",
       "      <th>2023-09-15 14:25:48</th>\n",
       "      <td>1.00</td>\n",
       "      <td>7.0</td>\n",
       "      <td>0.0</td>\n",
       "      <td>512.0</td>\n",
       "      <td>2415.44</td>\n",
       "      <td>3.598</td>\n",
       "      <td>226.0</td>\n",
       "      <td>5.0</td>\n",
       "      <td>4.0</td>\n",
       "      <td>0.0</td>\n",
       "      <td>...</td>\n",
       "      <td>0.322</td>\n",
       "      <td>0.4675</td>\n",
       "      <td>5.0</td>\n",
       "      <td>5.0</td>\n",
       "      <td>1.5</td>\n",
       "      <td>1.75</td>\n",
       "      <td>0.25</td>\n",
       "      <td>100.0</td>\n",
       "      <td>50.0</td>\n",
       "      <td>NaN</td>\n",
       "    </tr>\n",
       "    <tr>\n",
       "      <th>2023-09-15 14:25:55</th>\n",
       "      <td>2.00</td>\n",
       "      <td>7.0</td>\n",
       "      <td>0.0</td>\n",
       "      <td>512.0</td>\n",
       "      <td>2415.44</td>\n",
       "      <td>3.598</td>\n",
       "      <td>226.0</td>\n",
       "      <td>5.0</td>\n",
       "      <td>4.0</td>\n",
       "      <td>0.0</td>\n",
       "      <td>...</td>\n",
       "      <td>0.322</td>\n",
       "      <td>0.5580</td>\n",
       "      <td>5.0</td>\n",
       "      <td>5.0</td>\n",
       "      <td>1.5</td>\n",
       "      <td>1.75</td>\n",
       "      <td>0.25</td>\n",
       "      <td>100.0</td>\n",
       "      <td>50.0</td>\n",
       "      <td>NaN</td>\n",
       "    </tr>\n",
       "    <tr>\n",
       "      <th>2023-09-15 14:26:01</th>\n",
       "      <td>3.00</td>\n",
       "      <td>7.0</td>\n",
       "      <td>0.0</td>\n",
       "      <td>512.0</td>\n",
       "      <td>2415.44</td>\n",
       "      <td>3.598</td>\n",
       "      <td>226.0</td>\n",
       "      <td>5.0</td>\n",
       "      <td>4.0</td>\n",
       "      <td>0.0</td>\n",
       "      <td>...</td>\n",
       "      <td>0.322</td>\n",
       "      <td>0.6485</td>\n",
       "      <td>5.0</td>\n",
       "      <td>5.0</td>\n",
       "      <td>1.5</td>\n",
       "      <td>1.75</td>\n",
       "      <td>0.25</td>\n",
       "      <td>100.0</td>\n",
       "      <td>50.0</td>\n",
       "      <td>NaN</td>\n",
       "    </tr>\n",
       "  </tbody>\n",
       "</table>\n",
       "<p>5 rows × 29 columns</p>\n",
       "</div>"
      ],
      "text/plain": [
       "                     IterationNum  IterationCount  wait  AndorROIheight  \\\n",
       "time                                                                      \n",
       "2023-09-15 14:24:20          3.14             7.0   0.0           512.0   \n",
       "2023-09-15 14:25:41          0.00             7.0   0.0           512.0   \n",
       "2023-09-15 14:25:48          1.00             7.0   0.0           512.0   \n",
       "2023-09-15 14:25:55          2.00             7.0   0.0           512.0   \n",
       "2023-09-15 14:26:01          3.00             7.0   0.0           512.0   \n",
       "\n",
       "                     AndorShortExpDelay_us  LFImg  LF_AOM_freq  time_compress  \\\n",
       "time                                                                            \n",
       "2023-09-15 14:24:20                2415.44  3.598        226.0            5.0   \n",
       "2023-09-15 14:25:41                2415.44  3.598        226.0            5.0   \n",
       "2023-09-15 14:25:48                2415.44  3.598        226.0            5.0   \n",
       "2023-09-15 14:25:55                2415.44  3.598        226.0            5.0   \n",
       "2023-09-15 14:26:01                2415.44  3.598        226.0            5.0   \n",
       "\n",
       "                     MOT/Re_Attn_final_V  TOF  ...  CamBiasVoltage  \\\n",
       "time                                           ...                   \n",
       "2023-09-15 14:24:20                  4.0  0.0  ...           0.322   \n",
       "2023-09-15 14:25:41                  4.0  0.0  ...           0.322   \n",
       "2023-09-15 14:25:48                  4.0  0.0  ...           0.322   \n",
       "2023-09-15 14:25:55                  4.0  0.0  ...           0.322   \n",
       "2023-09-15 14:26:01                  4.0  0.0  ...           0.322   \n",
       "\n",
       "                     VerticalBiasVoltage  piezoX  piezoY  D1Time_ms  \\\n",
       "time                                                                  \n",
       "2023-09-15 14:24:20               0.3770     5.0     5.0        1.5   \n",
       "2023-09-15 14:25:41               0.3770     5.0     5.0        1.5   \n",
       "2023-09-15 14:25:48               0.4675     5.0     5.0        1.5   \n",
       "2023-09-15 14:25:55               0.5580     5.0     5.0        1.5   \n",
       "2023-09-15 14:26:01               0.6485     5.0     5.0        1.5   \n",
       "\n",
       "                     High_PD_1  High_PD_2  Evap_Time  Evap_Time_2  FLIR_Pulse  \n",
       "time                                                                           \n",
       "2023-09-15 14:24:20       1.75       0.25      100.0         50.0         NaN  \n",
       "2023-09-15 14:25:41       1.75       0.25      100.0         50.0         NaN  \n",
       "2023-09-15 14:25:48       1.75       0.25      100.0         50.0         NaN  \n",
       "2023-09-15 14:25:55       1.75       0.25      100.0         50.0         NaN  \n",
       "2023-09-15 14:26:01       1.75       0.25      100.0         50.0         NaN  \n",
       "\n",
       "[5 rows x 29 columns]"
      ]
     },
     "execution_count": 265,
     "metadata": {},
     "output_type": "execute_result"
    }
   ],
   "source": [
    "aa = parameter_Frame.head()\n",
    "aa"
   ]
  },
  {
   "cell_type": "code",
   "execution_count": 266,
   "id": "12b86ce4",
   "metadata": {},
   "outputs": [
    {
     "ename": "KeyError",
     "evalue": "\"None of ['time'] are in the columns\"",
     "output_type": "error",
     "traceback": [
      "\u001b[1;31m---------------------------------------------------------------------------\u001b[0m",
      "\u001b[1;31mKeyError\u001b[0m                                  Traceback (most recent call last)",
      "\u001b[1;32mC:\\Users\\SOMMER~1\\AppData\\Local\\Temp/ipykernel_20132/386306937.py\u001b[0m in \u001b[0;36m<module>\u001b[1;34m\u001b[0m\n\u001b[1;32m----> 1\u001b[1;33m \u001b[0mbb\u001b[0m \u001b[1;33m=\u001b[0m \u001b[0maa\u001b[0m\u001b[1;33m.\u001b[0m\u001b[0mset_index\u001b[0m\u001b[1;33m(\u001b[0m\u001b[1;34m'time'\u001b[0m\u001b[1;33m)\u001b[0m\u001b[1;33m\u001b[0m\u001b[1;33m\u001b[0m\u001b[0m\n\u001b[0m\u001b[0;32m      2\u001b[0m \u001b[0mbb\u001b[0m\u001b[1;33m\u001b[0m\u001b[1;33m\u001b[0m\u001b[0m\n",
      "\u001b[1;32mC:\\ProgramData\\Anaconda3\\lib\\site-packages\\pandas\\util\\_decorators.py\u001b[0m in \u001b[0;36mwrapper\u001b[1;34m(*args, **kwargs)\u001b[0m\n\u001b[0;32m    309\u001b[0m                     \u001b[0mstacklevel\u001b[0m\u001b[1;33m=\u001b[0m\u001b[0mstacklevel\u001b[0m\u001b[1;33m,\u001b[0m\u001b[1;33m\u001b[0m\u001b[1;33m\u001b[0m\u001b[0m\n\u001b[0;32m    310\u001b[0m                 )\n\u001b[1;32m--> 311\u001b[1;33m             \u001b[1;32mreturn\u001b[0m \u001b[0mfunc\u001b[0m\u001b[1;33m(\u001b[0m\u001b[1;33m*\u001b[0m\u001b[0margs\u001b[0m\u001b[1;33m,\u001b[0m \u001b[1;33m**\u001b[0m\u001b[0mkwargs\u001b[0m\u001b[1;33m)\u001b[0m\u001b[1;33m\u001b[0m\u001b[1;33m\u001b[0m\u001b[0m\n\u001b[0m\u001b[0;32m    312\u001b[0m \u001b[1;33m\u001b[0m\u001b[0m\n\u001b[0;32m    313\u001b[0m         \u001b[1;32mreturn\u001b[0m \u001b[0mwrapper\u001b[0m\u001b[1;33m\u001b[0m\u001b[1;33m\u001b[0m\u001b[0m\n",
      "\u001b[1;32mC:\\ProgramData\\Anaconda3\\lib\\site-packages\\pandas\\core\\frame.py\u001b[0m in \u001b[0;36mset_index\u001b[1;34m(self, keys, drop, append, inplace, verify_integrity)\u001b[0m\n\u001b[0;32m   5449\u001b[0m \u001b[1;33m\u001b[0m\u001b[0m\n\u001b[0;32m   5450\u001b[0m         \u001b[1;32mif\u001b[0m \u001b[0mmissing\u001b[0m\u001b[1;33m:\u001b[0m\u001b[1;33m\u001b[0m\u001b[1;33m\u001b[0m\u001b[0m\n\u001b[1;32m-> 5451\u001b[1;33m             \u001b[1;32mraise\u001b[0m \u001b[0mKeyError\u001b[0m\u001b[1;33m(\u001b[0m\u001b[1;34mf\"None of {missing} are in the columns\"\u001b[0m\u001b[1;33m)\u001b[0m\u001b[1;33m\u001b[0m\u001b[1;33m\u001b[0m\u001b[0m\n\u001b[0m\u001b[0;32m   5452\u001b[0m \u001b[1;33m\u001b[0m\u001b[0m\n\u001b[0;32m   5453\u001b[0m         \u001b[1;32mif\u001b[0m \u001b[0minplace\u001b[0m\u001b[1;33m:\u001b[0m\u001b[1;33m\u001b[0m\u001b[1;33m\u001b[0m\u001b[0m\n",
      "\u001b[1;31mKeyError\u001b[0m: \"None of ['time'] are in the columns\""
     ]
    }
   ],
   "source": [
    "bb = aa.set_index('time')\n",
    "bb"
   ]
  },
  {
   "cell_type": "code",
   "execution_count": 320,
   "id": "7922c154",
   "metadata": {},
   "outputs": [
    {
     "data": {
      "text/plain": [
       "pandas._libs.tslibs.timestamps.Timestamp"
      ]
     },
     "execution_count": 320,
     "metadata": {},
     "output_type": "execute_result"
    }
   ],
   "source": [
    "type(aa.iloc[0].time)"
   ]
  },
  {
   "cell_type": "code",
   "execution_count": 42,
   "id": "077c0f38",
   "metadata": {},
   "outputs": [
    {
     "data": {
      "text/plain": [
       "Timestamp('2023-09-15 14:24:20')"
      ]
     },
     "execution_count": 42,
     "metadata": {},
     "output_type": "execute_result"
    }
   ],
   "source": [
    "bb.index[0]"
   ]
  },
  {
   "cell_type": "code",
   "execution_count": 43,
   "id": "e6466f60",
   "metadata": {},
   "outputs": [
    {
     "data": {
      "text/plain": [
       "IterationNum                0.000\n",
       "IterationCount              7.000\n",
       "wait                        0.000\n",
       "AndorROIheight            512.000\n",
       "AndorShortExpDelay_us    2415.440\n",
       "LFImg                       3.598\n",
       "LF_AOM_freq               226.000\n",
       "time_compress               5.000\n",
       "MOT/Re_Attn_final_V         4.000\n",
       "TOF                         0.000\n",
       "IR_1                        0.000\n",
       "tmod_ms                     0.000\n",
       "fmod_kHz                    0.000\n",
       "cMOT_coil                   0.200\n",
       "cMOT_dwell_ms               2.000\n",
       "ZSBiasCurrent               6.000\n",
       "CamBiasCurrent              0.000\n",
       "VerticalBiasCurrent         0.000\n",
       "ZSBiasVoltage               1.440\n",
       "CamBiasVoltage              0.322\n",
       "VerticalBiasVoltage         0.377\n",
       "piezoX                      5.000\n",
       "piezoY                      5.000\n",
       "D1Time_ms                   1.500\n",
       "High_PD_1                   1.750\n",
       "High_PD_2                   0.250\n",
       "Evap_Time                 100.000\n",
       "Evap_Time_2                50.000\n",
       "FLIR_Pulse                    NaN\n",
       "Name: 2023-09-15 14:24:20, dtype: float64"
      ]
     },
     "execution_count": 43,
     "metadata": {},
     "output_type": "execute_result"
    }
   ],
   "source": [
    "bb.iloc[0]"
   ]
  },
  {
   "cell_type": "code",
   "execution_count": 50,
   "id": "4b53fd85",
   "metadata": {},
   "outputs": [
    {
     "data": {
      "text/plain": [
       "IterationNum                0.000\n",
       "IterationCount              7.000\n",
       "wait                        0.000\n",
       "AndorROIheight            512.000\n",
       "AndorShortExpDelay_us    2415.440\n",
       "LFImg                       3.598\n",
       "LF_AOM_freq               226.000\n",
       "time_compress               5.000\n",
       "MOT/Re_Attn_final_V         4.000\n",
       "TOF                         0.000\n",
       "IR_1                        0.000\n",
       "tmod_ms                     0.000\n",
       "fmod_kHz                    0.000\n",
       "cMOT_coil                   0.200\n",
       "cMOT_dwell_ms               2.000\n",
       "ZSBiasCurrent               6.000\n",
       "CamBiasCurrent              0.000\n",
       "VerticalBiasCurrent         0.000\n",
       "ZSBiasVoltage               1.440\n",
       "CamBiasVoltage              0.322\n",
       "VerticalBiasVoltage         0.377\n",
       "piezoX                      5.000\n",
       "piezoY                      5.000\n",
       "D1Time_ms                   1.500\n",
       "High_PD_1                   1.750\n",
       "High_PD_2                   0.250\n",
       "Evap_Time                 100.000\n",
       "Evap_Time_2                50.000\n",
       "FLIR_Pulse                    NaN\n",
       "Name: 2023-09-15 14:24:20, dtype: float64"
      ]
     },
     "execution_count": 50,
     "metadata": {},
     "output_type": "execute_result"
    }
   ],
   "source": [
    "bbb = bb.loc[datetime.datetime(2023, 9, 15, 14, 24, 20)]\n",
    "bbb"
   ]
  },
  {
   "cell_type": "markdown",
   "id": "08e602cb-d135-4c7b-a0b2-90208a5315f1",
   "metadata": {
    "jp-MarkdownHeadingCollapsed": true,
    "tags": []
   },
   "source": [
    "### Timestamp"
   ]
  },
  {
   "cell_type": "code",
   "execution_count": 59,
   "id": "d72d5602",
   "metadata": {},
   "outputs": [
    {
     "data": {
      "text/plain": [
       "Timedelta('-1 days +23:59:52')"
      ]
     },
     "execution_count": 59,
     "metadata": {},
     "output_type": "execute_result"
    }
   ],
   "source": [
    "bbb.name - pd.Timestamp('2023-09-15 14:24:28')"
   ]
  },
  {
   "cell_type": "code",
   "execution_count": 64,
   "id": "f02ed7dc",
   "metadata": {},
   "outputs": [
    {
     "data": {
      "text/plain": [
       "Timedelta('-1 days +23:59:52')"
      ]
     },
     "execution_count": 64,
     "metadata": {},
     "output_type": "execute_result"
    }
   ],
   "source": [
    "bbb.name - datetime.datetime(2023, 9, 15, 14, 24, 28)"
   ]
  },
  {
   "cell_type": "code",
   "execution_count": 65,
   "id": "4394e82d",
   "metadata": {},
   "outputs": [
    {
     "data": {
      "text/plain": [
       "pandas._libs.tslibs.timedeltas.Timedelta"
      ]
     },
     "execution_count": 65,
     "metadata": {},
     "output_type": "execute_result"
    }
   ],
   "source": [
    "type(bbb.name - datetime.datetime(2023, 9, 15, 14, 24, 28))"
   ]
  },
  {
   "cell_type": "code",
   "execution_count": 69,
   "id": "a43731fe",
   "metadata": {},
   "outputs": [
    {
     "data": {
      "text/plain": [
       "2.0"
      ]
     },
     "execution_count": 69,
     "metadata": {},
     "output_type": "execute_result"
    }
   ],
   "source": [
    "(bbb.name - datetime.datetime(2023, 9, 15, 14, 24, 18)).total_seconds()"
   ]
  },
  {
   "cell_type": "code",
   "execution_count": 298,
   "id": "ffae8d92",
   "metadata": {},
   "outputs": [
    {
     "data": {
      "text/plain": [
       "time                     2023-09-08 16:45:48\n",
       "IterationNum                             0.0\n",
       "IterationCount                           1.0\n",
       "wait                                     5.0\n",
       "AndorROIheight                         512.0\n",
       "AndorShortExpDelay_us                2415.44\n",
       "LFImg                                  3.598\n",
       "LF_AOM_freq                            226.0\n",
       "time compress                            5.0\n",
       "MOT/Re Attn final V                      4.0\n",
       "TOF                                      0.0\n",
       "IR_1                                     0.0\n",
       "tmod_ms                                  0.0\n",
       "fmod_kHz                                 0.0\n",
       "cMOT coil                               0.45\n",
       "cMOT dwell_ms                            2.0\n",
       "ZSBiasCurrent                            6.0\n",
       "CamBiasCurrent                           0.0\n",
       "VerticalBiasCurrent                      0.0\n",
       "ZSBiasVoltage                           1.44\n",
       "CamBiasVoltage                         0.322\n",
       "VerticalBiasVoltage                    0.377\n",
       "piezoX                                   5.0\n",
       "piezoY                                   5.0\n",
       "D1Time_ms                                1.5\n",
       "High PD 1                               2.45\n",
       "High PD 2                               0.25\n",
       "Evap Time                              100.0\n",
       "Evap Time 2                             50.0\n",
       "Name: 1, dtype: object"
      ]
     },
     "execution_count": 298,
     "metadata": {},
     "output_type": "execute_result"
    }
   ],
   "source": [
    "parameter_Frame.iloc[1]"
   ]
  },
  {
   "cell_type": "code",
   "execution_count": 326,
   "id": "be8addb2",
   "metadata": {},
   "outputs": [
    {
     "data": {
      "text/plain": [
       "'Variables_2023_09_08_19_10_00_0.txt'"
      ]
     },
     "execution_count": 326,
     "metadata": {},
     "output_type": "execute_result"
    }
   ],
   "source": [
    "filename"
   ]
  },
  {
   "cell_type": "code",
   "execution_count": 328,
   "id": "58cdc7ba",
   "metadata": {},
   "outputs": [
    {
     "data": {
      "text/plain": [
       "1694214600.6749604"
      ]
     },
     "execution_count": 328,
     "metadata": {},
     "output_type": "execute_result"
    }
   ],
   "source": [
    "os.path.getctime(data_folder + '/Variable Logs/' + filename)"
   ]
  },
  {
   "cell_type": "code",
   "execution_count": 352,
   "id": "22203d6f",
   "metadata": {},
   "outputs": [
    {
     "data": {
      "text/plain": [
       "datetime.datetime(2023, 9, 8, 12, 43, 47)"
      ]
     },
     "execution_count": 352,
     "metadata": {},
     "output_type": "execute_result"
    }
   ],
   "source": [
    "datetime.datetime.fromtimestamp(1694191427)"
   ]
  },
  {
   "cell_type": "code",
   "execution_count": 353,
   "id": "0a753cad",
   "metadata": {},
   "outputs": [
    {
     "data": {
      "text/plain": [
       "Timestamp('2023-09-08 16:43:47')"
      ]
     },
     "execution_count": 353,
     "metadata": {},
     "output_type": "execute_result"
    }
   ],
   "source": [
    "pd.Timestamp(1694191427, unit='s')"
   ]
  },
  {
   "cell_type": "code",
   "execution_count": 346,
   "id": "918d806b",
   "metadata": {},
   "outputs": [
    {
     "data": {
      "text/plain": [
       "False"
      ]
     },
     "execution_count": 346,
     "metadata": {},
     "output_type": "execute_result"
    }
   ],
   "source": [
    "datetime.datetime.fromtimestamp(1694214600) == pd.Timestamp(1694214600, unit='s')"
   ]
  },
  {
   "cell_type": "code",
   "execution_count": 338,
   "id": "4edba9cc",
   "metadata": {},
   "outputs": [
    {
     "data": {
      "text/plain": [
       "False"
      ]
     },
     "execution_count": 338,
     "metadata": {},
     "output_type": "execute_result"
    }
   ],
   "source": [
    "pd.Timestamp(os.path.getctime(data_folder + '/Variable Logs/' + filename), unit='s') == datetime.datetime(2023, 9, 8, 19, 10, 0, 674960)"
   ]
  },
  {
   "cell_type": "code",
   "execution_count": 350,
   "id": "058de4dd",
   "metadata": {},
   "outputs": [
    {
     "data": {
      "text/plain": [
       "IterationNum                0.000\n",
       "IterationCount              1.000\n",
       "wait                        5.000\n",
       "AndorROIheight            512.000\n",
       "AndorShortExpDelay_us    2415.440\n",
       "LFImg                       3.598\n",
       "LF_AOM_freq               226.000\n",
       "time compress               5.000\n",
       "MOT/Re Attn final V         4.000\n",
       "TOF                         0.000\n",
       "IR_1                        0.000\n",
       "tmod_ms                     0.000\n",
       "fmod_kHz                    0.000\n",
       "cMOT coil                   0.450\n",
       "cMOT dwell_ms               2.000\n",
       "ZSBiasCurrent               6.000\n",
       "CamBiasCurrent              0.000\n",
       "VerticalBiasCurrent         0.000\n",
       "ZSBiasVoltage               1.440\n",
       "CamBiasVoltage              0.322\n",
       "VerticalBiasVoltage         0.377\n",
       "piezoX                      5.000\n",
       "piezoY                      5.000\n",
       "D1Time_ms                   1.500\n",
       "High PD 1                   2.450\n",
       "High PD 2                   0.250\n",
       "Evap Time                 100.000\n",
       "Evap Time 2                50.000\n",
       "Name: 2023-09-08 16:43:47, dtype: float64"
      ]
     },
     "execution_count": 350,
     "metadata": {},
     "output_type": "execute_result"
    }
   ],
   "source": [
    "bb.loc[pd.Timestamp('2023-09-08 16:43:47')]"
   ]
  },
  {
   "cell_type": "code",
   "execution_count": 351,
   "id": "ffe94a4d",
   "metadata": {},
   "outputs": [
    {
     "data": {
      "text/plain": [
       "IterationNum                0.000\n",
       "IterationCount              1.000\n",
       "wait                        5.000\n",
       "AndorROIheight            512.000\n",
       "AndorShortExpDelay_us    2415.440\n",
       "LFImg                       3.598\n",
       "LF_AOM_freq               226.000\n",
       "time compress               5.000\n",
       "MOT/Re Attn final V         4.000\n",
       "TOF                         0.000\n",
       "IR_1                        0.000\n",
       "tmod_ms                     0.000\n",
       "fmod_kHz                    0.000\n",
       "cMOT coil                   0.450\n",
       "cMOT dwell_ms               2.000\n",
       "ZSBiasCurrent               6.000\n",
       "CamBiasCurrent              0.000\n",
       "VerticalBiasCurrent         0.000\n",
       "ZSBiasVoltage               1.440\n",
       "CamBiasVoltage              0.322\n",
       "VerticalBiasVoltage         0.377\n",
       "piezoX                      5.000\n",
       "piezoY                      5.000\n",
       "D1Time_ms                   1.500\n",
       "High PD 1                   2.450\n",
       "High PD 2                   0.250\n",
       "Evap Time                 100.000\n",
       "Evap Time 2                50.000\n",
       "Name: 2023-09-08 16:43:47, dtype: float64"
      ]
     },
     "execution_count": 351,
     "metadata": {},
     "output_type": "execute_result"
    }
   ],
   "source": [
    "bb.loc[pd.Timestamp(1694191427, unit='s')]"
   ]
  },
  {
   "cell_type": "code",
   "execution_count": 355,
   "id": "270eec8b",
   "metadata": {},
   "outputs": [
    {
     "data": {
      "text/plain": [
       "Timestamp('2023-09-08 16:43:47')"
      ]
     },
     "execution_count": 355,
     "metadata": {},
     "output_type": "execute_result"
    }
   ],
   "source": [
    "aa.time[0]"
   ]
  },
  {
   "cell_type": "code",
   "execution_count": null,
   "id": "02aaf580",
   "metadata": {},
   "outputs": [],
   "source": []
  },
  {
   "cell_type": "code",
   "execution_count": null,
   "id": "bfc968d1",
   "metadata": {},
   "outputs": [],
   "source": [
    "1694205827 1694191427"
   ]
  },
  {
   "cell_type": "code",
   "execution_count": 364,
   "id": "2d8964e7",
   "metadata": {},
   "outputs": [
    {
     "data": {
      "text/plain": [
       "True"
      ]
     },
     "execution_count": 364,
     "metadata": {},
     "output_type": "execute_result"
    }
   ],
   "source": [
    "aa.time[0] > datetime.datetime.fromtimestamp(1694191427)"
   ]
  },
  {
   "cell_type": "code",
   "execution_count": 358,
   "id": "b276a24b",
   "metadata": {},
   "outputs": [
    {
     "data": {
      "text/plain": [
       "Timestamp('2023-09-08 16:43:47')"
      ]
     },
     "execution_count": 358,
     "metadata": {},
     "output_type": "execute_result"
    }
   ],
   "source": [
    "aa.time[0]"
   ]
  },
  {
   "cell_type": "code",
   "execution_count": 375,
   "id": "f6ad3123",
   "metadata": {},
   "outputs": [
    {
     "data": {
      "text/plain": [
       "datetime.datetime(2023, 9, 8, 12, 43, 47)"
      ]
     },
     "execution_count": 375,
     "metadata": {},
     "output_type": "execute_result"
    }
   ],
   "source": [
    "datetime.datetime.fromtimestamp(1694191427)"
   ]
  },
  {
   "cell_type": "code",
   "execution_count": 374,
   "id": "f1dc4222",
   "metadata": {},
   "outputs": [
    {
     "data": {
      "text/plain": [
       "Timestamp('2023-09-08 16:43:47')"
      ]
     },
     "execution_count": 374,
     "metadata": {},
     "output_type": "execute_result"
    }
   ],
   "source": [
    "aa.time[0]"
   ]
  },
  {
   "cell_type": "code",
   "execution_count": 371,
   "id": "94214bc7",
   "metadata": {},
   "outputs": [
    {
     "data": {
      "text/plain": [
       "Timestamp('2023-09-08 16:43:47')"
      ]
     },
     "execution_count": 371,
     "metadata": {},
     "output_type": "execute_result"
    }
   ],
   "source": [
    "pd.Timestamp(1694191427, unit='s')"
   ]
  },
  {
   "cell_type": "code",
   "execution_count": 384,
   "id": "13580387",
   "metadata": {},
   "outputs": [
    {
     "data": {
      "text/plain": [
       "Timestamp('2023-09-08 16:43:47')"
      ]
     },
     "execution_count": 384,
     "metadata": {},
     "output_type": "execute_result"
    }
   ],
   "source": [
    "pd.Timestamp(1694191427, unit='s') "
   ]
  },
  {
   "cell_type": "code",
   "execution_count": 389,
   "id": "2feee270",
   "metadata": {},
   "outputs": [
    {
     "data": {
      "text/plain": [
       "datetime.datetime"
      ]
     },
     "execution_count": 389,
     "metadata": {},
     "output_type": "execute_result"
    }
   ],
   "source": [
    "time(datetime.datetime.fromtimestamp(1694205827))"
   ]
  },
  {
   "cell_type": "code",
   "execution_count": 388,
   "id": "3a3b5379",
   "metadata": {},
   "outputs": [
    {
     "data": {
      "text/plain": [
       "IterationNum                0.000\n",
       "IterationCount              1.000\n",
       "wait                        5.000\n",
       "AndorROIheight            512.000\n",
       "AndorShortExpDelay_us    2415.440\n",
       "LFImg                       3.598\n",
       "LF_AOM_freq               226.000\n",
       "time compress               5.000\n",
       "MOT/Re Attn final V         4.000\n",
       "TOF                         0.000\n",
       "IR_1                        0.000\n",
       "tmod_ms                     0.000\n",
       "fmod_kHz                    0.000\n",
       "cMOT coil                   0.450\n",
       "cMOT dwell_ms               2.000\n",
       "ZSBiasCurrent               6.000\n",
       "CamBiasCurrent              0.000\n",
       "VerticalBiasCurrent         0.000\n",
       "ZSBiasVoltage               1.440\n",
       "CamBiasVoltage              0.322\n",
       "VerticalBiasVoltage         0.377\n",
       "piezoX                      5.000\n",
       "piezoY                      5.000\n",
       "D1Time_ms                   1.500\n",
       "High PD 1                   2.450\n",
       "High PD 2                   0.250\n",
       "Evap Time                 100.000\n",
       "Evap Time 2                50.000\n",
       "Name: 2023-09-08 16:43:47, dtype: float64"
      ]
     },
     "execution_count": 388,
     "metadata": {},
     "output_type": "execute_result"
    }
   ],
   "source": [
    "bb.loc[datetime.datetime.fromtimestamp(1694205827)]"
   ]
  },
  {
   "cell_type": "code",
   "execution_count": 397,
   "id": "d3667f40",
   "metadata": {},
   "outputs": [
    {
     "data": {
      "text/plain": [
       "Timestamp('2023-09-08 16:49:16')"
      ]
     },
     "execution_count": 397,
     "metadata": {},
     "output_type": "execute_result"
    }
   ],
   "source": [
    "pd.Timestamp('2023-09-08 16:49:16')"
   ]
  },
  {
   "cell_type": "code",
   "execution_count": 396,
   "id": "fe22687c",
   "metadata": {},
   "outputs": [
    {
     "data": {
      "text/plain": [
       "DatetimeIndex(['2023-09-08 16:43:47', '2023-09-08 16:45:48',\n",
       "               '2023-09-08 16:49:16', '2023-09-08 16:50:46',\n",
       "               '2023-09-08 16:51:52'],\n",
       "              dtype='datetime64[ns]', name='time', freq=None)"
      ]
     },
     "execution_count": 396,
     "metadata": {},
     "output_type": "execute_result"
    }
   ],
   "source": [
    "bb.index"
   ]
  },
  {
   "cell_type": "code",
   "execution_count": 398,
   "id": "489f232d",
   "metadata": {},
   "outputs": [
    {
     "data": {
      "text/plain": [
       "array([ True,  True, False, False, False])"
      ]
     },
     "execution_count": 398,
     "metadata": {},
     "output_type": "execute_result"
    }
   ],
   "source": [
    "bb.index < pd.Timestamp('2023-09-08 16:49:16')"
   ]
  },
  {
   "cell_type": "code",
   "execution_count": 401,
   "id": "119a6645",
   "metadata": {},
   "outputs": [
    {
     "ename": "AttributeError",
     "evalue": "'function' object has no attribute 'wait'",
     "output_type": "error",
     "traceback": [
      "\u001b[1;31m---------------------------------------------------------------------------\u001b[0m",
      "\u001b[1;31mAttributeError\u001b[0m                            Traceback (most recent call last)",
      "\u001b[1;32mC:\\Users\\SOMMER~1\\AppData\\Local\\Temp/ipykernel_7468/2272381173.py\u001b[0m in \u001b[0;36m<module>\u001b[1;34m\u001b[0m\n\u001b[1;32m----> 1\u001b[1;33m \u001b[0mbb\u001b[0m\u001b[1;33m.\u001b[0m\u001b[0mfilter\u001b[0m\u001b[1;33m.\u001b[0m\u001b[0mwait\u001b[0m\u001b[1;33m\u001b[0m\u001b[1;33m\u001b[0m\u001b[0m\n\u001b[0m",
      "\u001b[1;31mAttributeError\u001b[0m: 'function' object has no attribute 'wait'"
     ]
    }
   ],
   "source": [
    "bb.filter.wait"
   ]
  },
  {
   "cell_type": "code",
   "execution_count": null,
   "id": "08df1116",
   "metadata": {},
   "outputs": [],
   "source": []
  },
  {
   "cell_type": "code",
   "execution_count": 121,
   "id": "5190b965",
   "metadata": {},
   "outputs": [
    {
     "data": {
      "text/plain": [
       "1695745361.3811476"
      ]
     },
     "execution_count": 121,
     "metadata": {},
     "output_type": "execute_result"
    }
   ],
   "source": [
    "os.path.getctime(r'C:\\Users\\Sommer Lab\\Documents\\Data\\2023\\09-2023\\26 Sep 2023\\Variable Logs\\Variables_2023_09_26_12_22_41_0.txt')"
   ]
  },
  {
   "cell_type": "code",
   "execution_count": 136,
   "id": "f34a4e6b",
   "metadata": {},
   "outputs": [
    {
     "data": {
      "text/plain": [
       "datetime.datetime(2023, 9, 26, 12, 22, 41, 380000)"
      ]
     },
     "execution_count": 136,
     "metadata": {},
     "output_type": "execute_result"
    }
   ],
   "source": [
    "datetime.datetime.fromtimestamp( round(\n",
    "os.path.getctime(r'C:\\Users\\Sommer Lab\\Documents\\Data\\2023\\09-2023\\26 Sep 2023\\Variable Logs\\Variables_2023_09_26_12_22_41_0.txt'), 2))"
   ]
  },
  {
   "cell_type": "code",
   "execution_count": 124,
   "id": "9ea00a47",
   "metadata": {},
   "outputs": [
    {
     "data": {
      "text/plain": [
       "Timestamp('2023-09-26 12:22:41.381148')"
      ]
     },
     "execution_count": 124,
     "metadata": {},
     "output_type": "execute_result"
    }
   ],
   "source": [
    "pd.Timestamp(datetime.datetime(2023, 9, 26, 12, 22, 41, 381148))"
   ]
  },
  {
   "cell_type": "code",
   "execution_count": 160,
   "id": "0d2d3736",
   "metadata": {},
   "outputs": [
    {
     "data": {
      "text/plain": [
       "Timestamp('2023-09-26 16:22:41')"
      ]
     },
     "execution_count": 160,
     "metadata": {},
     "output_type": "execute_result"
    }
   ],
   "source": [
    "t1 = pd.to_datetime(round(1695745361.3711476), unit='s')\n",
    "t1"
   ]
  },
  {
   "cell_type": "code",
   "execution_count": 161,
   "id": "43eb4c5a",
   "metadata": {},
   "outputs": [
    {
     "data": {
      "text/plain": [
       "Timestamp('2023-09-26 16:22:41')"
      ]
     },
     "execution_count": 161,
     "metadata": {},
     "output_type": "execute_result"
    }
   ],
   "source": [
    "t2 = pd.to_datetime(round(1695745361.4911499), unit='s')\n",
    "t2"
   ]
  },
  {
   "cell_type": "code",
   "execution_count": 162,
   "id": "25f62074",
   "metadata": {},
   "outputs": [
    {
     "data": {
      "text/plain": [
       "True"
      ]
     },
     "execution_count": 162,
     "metadata": {},
     "output_type": "execute_result"
    }
   ],
   "source": [
    "t1==t2"
   ]
  },
  {
   "cell_type": "code",
   "execution_count": null,
   "id": "5d3c6893-fcf8-46e6-9a41-ea036256f125",
   "metadata": {},
   "outputs": [],
   "source": []
  },
  {
   "cell_type": "code",
   "execution_count": null,
   "id": "3891f3e6-b625-412e-bb02-ed0f9a51b633",
   "metadata": {},
   "outputs": [],
   "source": []
  },
  {
   "cell_type": "code",
   "execution_count": 80,
   "id": "c9023637-9341-483a-9a73-c78af2f1bc7a",
   "metadata": {},
   "outputs": [],
   "source": [
    "catalogue = ImageAnalysisCode.BuildCatalogue(r'D:\\Dropbox (Lehigh University)\\Sommer Lab Shared\\Data\\2024\\03-2024\\09 Mar 2024\\Andor\\Test',\n",
    "                                             picturesPerIteration=3, skipFirstImg=0, writetodrive=0)\n",
    "catalogue = catalogue[0]"
   ]
  },
  {
   "cell_type": "code",
   "execution_count": 68,
   "id": "980ae8ee-f01b-45b9-81eb-907b55fab9e2",
   "metadata": {},
   "outputs": [
    {
     "data": {
      "text/plain": [
       "Timestamp('2024-03-09 13:52:07.378784')"
      ]
     },
     "execution_count": 68,
     "metadata": {},
     "output_type": "execute_result"
    }
   ],
   "source": [
    "filetime = catalogue.index[0]\n",
    "filetime"
   ]
  },
  {
   "cell_type": "code",
   "execution_count": 69,
   "id": "112f61ba-a2e7-47f4-af89-bf511dbd603a",
   "metadata": {},
   "outputs": [
    {
     "data": {
      "text/plain": [
       "datetime.datetime(2024, 5, 24, 13, 18, 29, 832941)"
      ]
     },
     "execution_count": 69,
     "metadata": {},
     "output_type": "execute_result"
    }
   ],
   "source": [
    "currenttime = datetime.datetime.now()\n",
    "currenttime"
   ]
  },
  {
   "cell_type": "code",
   "execution_count": 71,
   "id": "dc694c56-cbcb-497f-a048-45f51c87fc31",
   "metadata": {},
   "outputs": [
    {
     "data": {
      "text/plain": [
       "Timedelta('75 days 23:26:22.454157')"
      ]
     },
     "execution_count": 71,
     "metadata": {},
     "output_type": "execute_result"
    }
   ],
   "source": [
    "dt = currenttime - filetime\n",
    "dt"
   ]
  },
  {
   "cell_type": "code",
   "execution_count": 72,
   "id": "596d7273-b749-4596-b09b-861096d2db92",
   "metadata": {},
   "outputs": [
    {
     "data": {
      "text/plain": [
       "pandas._libs.tslibs.timedeltas.Timedelta"
      ]
     },
     "execution_count": 72,
     "metadata": {},
     "output_type": "execute_result"
    }
   ],
   "source": [
    "type(dt)"
   ]
  },
  {
   "cell_type": "code",
   "execution_count": 73,
   "id": "464df38c-917f-4d70-8d2e-269dc198205c",
   "metadata": {},
   "outputs": [
    {
     "data": {
      "text/plain": [
       "6564382.454157"
      ]
     },
     "execution_count": 73,
     "metadata": {},
     "output_type": "execute_result"
    }
   ],
   "source": [
    "dt.total_seconds()"
   ]
  },
  {
   "cell_type": "code",
   "execution_count": 79,
   "id": "8d883509-dc37-4f4f-9ae8-c15d9b84ae08",
   "metadata": {},
   "outputs": [
    {
     "data": {
      "text/plain": [
       "Timedelta('0 days 12:00:00')"
      ]
     },
     "execution_count": 79,
     "metadata": {},
     "output_type": "execute_result"
    }
   ],
   "source": [
    "td = pd.Timedelta(0.5, \"d\")\n",
    "td"
   ]
  },
  {
   "cell_type": "code",
   "execution_count": 78,
   "id": "20814d96-5c58-40b0-bc35-48d6a053f813",
   "metadata": {},
   "outputs": [
    {
     "ename": "TypeError",
     "evalue": "'>' not supported between instances of 'Timedelta' and 'int'",
     "output_type": "error",
     "traceback": [
      "\u001b[1;31m---------------------------------------------------------------------------\u001b[0m",
      "\u001b[1;31mTypeError\u001b[0m                                 Traceback (most recent call last)",
      "\u001b[1;32mC:\\Users\\SOMMER~1\\AppData\\Local\\Temp/ipykernel_16644/2499090854.py\u001b[0m in \u001b[0;36m<module>\u001b[1;34m\u001b[0m\n\u001b[1;32m----> 1\u001b[1;33m \u001b[0mdt\u001b[0m \u001b[1;33m>\u001b[0m \u001b[1;36m1\u001b[0m\u001b[1;33m\u001b[0m\u001b[1;33m\u001b[0m\u001b[0m\n\u001b[0m",
      "\u001b[1;31mTypeError\u001b[0m: '>' not supported between instances of 'Timedelta' and 'int'"
     ]
    }
   ],
   "source": [
    "dt > 1"
   ]
  },
  {
   "cell_type": "markdown",
   "id": "eff5fe2e-40a4-4eeb-8b49-e8137583e329",
   "metadata": {
    "jp-MarkdownHeadingCollapsed": true,
    "tags": []
   },
   "source": [
    "### Pandas"
   ]
  },
  {
   "cell_type": "code",
   "execution_count": 2,
   "id": "ed6aff3a",
   "metadata": {},
   "outputs": [],
   "source": [
    "record = {\n",
    "  \n",
    " 'Name': ['Ankit', 'Amit', 'Aishwarya', 'Priyanka', 'Priya', 'Shaurya' ],\n",
    " 'Age': [21, 19, 20, 18, 17, 21],\n",
    " 'Stream': ['Math', 'Commerce', 'Science', 'Math', 'Math', 'Science'],\n",
    " 'Percentage': [88, 92, 95, 70, 65, 78] }"
   ]
  },
  {
   "cell_type": "code",
   "execution_count": 3,
   "id": "17709f71",
   "metadata": {},
   "outputs": [
    {
     "data": {
      "text/plain": [
       "{'Name': ['Ankit', 'Amit', 'Aishwarya', 'Priyanka', 'Priya', 'Shaurya'],\n",
       " 'Age': [21, 19, 20, 18, 17, 21],\n",
       " 'Stream': ['Math', 'Commerce', 'Science', 'Math', 'Math', 'Science'],\n",
       " 'Percentage': [88, 92, 95, 70, 65, 78]}"
      ]
     },
     "execution_count": 3,
     "metadata": {},
     "output_type": "execute_result"
    }
   ],
   "source": [
    "record"
   ]
  },
  {
   "cell_type": "code",
   "execution_count": 7,
   "id": "01b487f7",
   "metadata": {},
   "outputs": [
    {
     "data": {
      "text/html": [
       "<div>\n",
       "<style scoped>\n",
       "    .dataframe tbody tr th:only-of-type {\n",
       "        vertical-align: middle;\n",
       "    }\n",
       "\n",
       "    .dataframe tbody tr th {\n",
       "        vertical-align: top;\n",
       "    }\n",
       "\n",
       "    .dataframe thead th {\n",
       "        text-align: right;\n",
       "    }\n",
       "</style>\n",
       "<table border=\"1\" class=\"dataframe\">\n",
       "  <thead>\n",
       "    <tr style=\"text-align: right;\">\n",
       "      <th></th>\n",
       "      <th>Name</th>\n",
       "      <th>Age</th>\n",
       "      <th>Stream</th>\n",
       "      <th>Percentage</th>\n",
       "    </tr>\n",
       "  </thead>\n",
       "  <tbody>\n",
       "    <tr>\n",
       "      <th>0</th>\n",
       "      <td>Ankit</td>\n",
       "      <td>21</td>\n",
       "      <td>Math</td>\n",
       "      <td>88</td>\n",
       "    </tr>\n",
       "    <tr>\n",
       "      <th>1</th>\n",
       "      <td>Amit</td>\n",
       "      <td>19</td>\n",
       "      <td>Commerce</td>\n",
       "      <td>92</td>\n",
       "    </tr>\n",
       "    <tr>\n",
       "      <th>2</th>\n",
       "      <td>Aishwarya</td>\n",
       "      <td>20</td>\n",
       "      <td>Science</td>\n",
       "      <td>95</td>\n",
       "    </tr>\n",
       "    <tr>\n",
       "      <th>3</th>\n",
       "      <td>Priyanka</td>\n",
       "      <td>18</td>\n",
       "      <td>Math</td>\n",
       "      <td>70</td>\n",
       "    </tr>\n",
       "    <tr>\n",
       "      <th>4</th>\n",
       "      <td>Priya</td>\n",
       "      <td>17</td>\n",
       "      <td>Math</td>\n",
       "      <td>65</td>\n",
       "    </tr>\n",
       "    <tr>\n",
       "      <th>5</th>\n",
       "      <td>Shaurya</td>\n",
       "      <td>21</td>\n",
       "      <td>Science</td>\n",
       "      <td>78</td>\n",
       "    </tr>\n",
       "  </tbody>\n",
       "</table>\n",
       "</div>"
      ],
      "text/plain": [
       "        Name  Age    Stream  Percentage\n",
       "0      Ankit   21      Math          88\n",
       "1       Amit   19  Commerce          92\n",
       "2  Aishwarya   20   Science          95\n",
       "3   Priyanka   18      Math          70\n",
       "4      Priya   17      Math          65\n",
       "5    Shaurya   21   Science          78"
      ]
     },
     "execution_count": 7,
     "metadata": {},
     "output_type": "execute_result"
    }
   ],
   "source": [
    "pd.DataFrame(record)"
   ]
  },
  {
   "cell_type": "code",
   "execution_count": 14,
   "id": "57313574",
   "metadata": {
    "scrolled": true
   },
   "outputs": [
    {
     "data": {
      "text/html": [
       "<div>\n",
       "<style scoped>\n",
       "    .dataframe tbody tr th:only-of-type {\n",
       "        vertical-align: middle;\n",
       "    }\n",
       "\n",
       "    .dataframe tbody tr th {\n",
       "        vertical-align: top;\n",
       "    }\n",
       "\n",
       "    .dataframe thead th {\n",
       "        text-align: right;\n",
       "    }\n",
       "</style>\n",
       "<table border=\"1\" class=\"dataframe\">\n",
       "  <thead>\n",
       "    <tr style=\"text-align: right;\">\n",
       "      <th></th>\n",
       "      <th>Age</th>\n",
       "      <th>Stream</th>\n",
       "      <th>Percentage</th>\n",
       "    </tr>\n",
       "  </thead>\n",
       "  <tbody>\n",
       "    <tr>\n",
       "      <th>Ankit</th>\n",
       "      <td>21</td>\n",
       "      <td>Math</td>\n",
       "      <td>88</td>\n",
       "    </tr>\n",
       "    <tr>\n",
       "      <th>Amit</th>\n",
       "      <td>19</td>\n",
       "      <td>Commerce</td>\n",
       "      <td>92</td>\n",
       "    </tr>\n",
       "    <tr>\n",
       "      <th>Aishwarya</th>\n",
       "      <td>20</td>\n",
       "      <td>Science</td>\n",
       "      <td>95</td>\n",
       "    </tr>\n",
       "    <tr>\n",
       "      <th>Priyanka</th>\n",
       "      <td>18</td>\n",
       "      <td>Math</td>\n",
       "      <td>70</td>\n",
       "    </tr>\n",
       "    <tr>\n",
       "      <th>Priya</th>\n",
       "      <td>17</td>\n",
       "      <td>Math</td>\n",
       "      <td>65</td>\n",
       "    </tr>\n",
       "    <tr>\n",
       "      <th>Shaurya</th>\n",
       "      <td>21</td>\n",
       "      <td>Science</td>\n",
       "      <td>78</td>\n",
       "    </tr>\n",
       "  </tbody>\n",
       "</table>\n",
       "</div>"
      ],
      "text/plain": [
       "           Age    Stream  Percentage\n",
       "Ankit       21      Math          88\n",
       "Amit        19  Commerce          92\n",
       "Aishwarya   20   Science          95\n",
       "Priyanka    18      Math          70\n",
       "Priya       17      Math          65\n",
       "Shaurya     21   Science          78"
      ]
     },
     "execution_count": 14,
     "metadata": {},
     "output_type": "execute_result"
    }
   ],
   "source": [
    "cc = pd.DataFrame(record, index=record['Name'], columns = ['Age', 'Stream', 'Percentage']) \n",
    "cc"
   ]
  },
  {
   "cell_type": "code",
   "execution_count": 16,
   "id": "081dc0a0-8dc8-4940-b5f8-f96bea493f9b",
   "metadata": {},
   "outputs": [
    {
     "data": {
      "text/html": [
       "<div>\n",
       "<style scoped>\n",
       "    .dataframe tbody tr th:only-of-type {\n",
       "        vertical-align: middle;\n",
       "    }\n",
       "\n",
       "    .dataframe tbody tr th {\n",
       "        vertical-align: top;\n",
       "    }\n",
       "\n",
       "    .dataframe thead th {\n",
       "        text-align: right;\n",
       "    }\n",
       "</style>\n",
       "<table border=\"1\" class=\"dataframe\">\n",
       "  <thead>\n",
       "    <tr style=\"text-align: right;\">\n",
       "      <th></th>\n",
       "      <th>Age</th>\n",
       "      <th>Stream</th>\n",
       "      <th>Percentage</th>\n",
       "    </tr>\n",
       "  </thead>\n",
       "  <tbody>\n",
       "    <tr>\n",
       "      <th>Priyanka</th>\n",
       "      <td>18</td>\n",
       "      <td>Math</td>\n",
       "      <td>70</td>\n",
       "    </tr>\n",
       "    <tr>\n",
       "      <th>Priya</th>\n",
       "      <td>17</td>\n",
       "      <td>Math</td>\n",
       "      <td>65</td>\n",
       "    </tr>\n",
       "    <tr>\n",
       "      <th>Shaurya</th>\n",
       "      <td>21</td>\n",
       "      <td>Science</td>\n",
       "      <td>78</td>\n",
       "    </tr>\n",
       "  </tbody>\n",
       "</table>\n",
       "</div>"
      ],
      "text/plain": [
       "          Age   Stream  Percentage\n",
       "Priyanka   18     Math          70\n",
       "Priya      17     Math          65\n",
       "Shaurya    21  Science          78"
      ]
     },
     "execution_count": 16,
     "metadata": {},
     "output_type": "execute_result"
    }
   ],
   "source": [
    "cc[cc.Percentage<80]"
   ]
  },
  {
   "cell_type": "code",
   "execution_count": 20,
   "id": "5a83a01b-a509-4c4e-8847-1aa03e5f5420",
   "metadata": {},
   "outputs": [
    {
     "ename": "KeyError",
     "evalue": "None",
     "output_type": "error",
     "traceback": [
      "\u001b[1;31m---------------------------------------------------------------------------\u001b[0m",
      "\u001b[1;31mKeyError\u001b[0m                                  Traceback (most recent call last)",
      "\u001b[1;32mC:\\ProgramData\\Anaconda3\\lib\\site-packages\\pandas\\core\\indexes\\base.py\u001b[0m in \u001b[0;36mget_loc\u001b[1;34m(self, key, method, tolerance)\u001b[0m\n\u001b[0;32m   3360\u001b[0m             \u001b[1;32mtry\u001b[0m\u001b[1;33m:\u001b[0m\u001b[1;33m\u001b[0m\u001b[1;33m\u001b[0m\u001b[0m\n\u001b[1;32m-> 3361\u001b[1;33m                 \u001b[1;32mreturn\u001b[0m \u001b[0mself\u001b[0m\u001b[1;33m.\u001b[0m\u001b[0m_engine\u001b[0m\u001b[1;33m.\u001b[0m\u001b[0mget_loc\u001b[0m\u001b[1;33m(\u001b[0m\u001b[0mcasted_key\u001b[0m\u001b[1;33m)\u001b[0m\u001b[1;33m\u001b[0m\u001b[1;33m\u001b[0m\u001b[0m\n\u001b[0m\u001b[0;32m   3362\u001b[0m             \u001b[1;32mexcept\u001b[0m \u001b[0mKeyError\u001b[0m \u001b[1;32mas\u001b[0m \u001b[0merr\u001b[0m\u001b[1;33m:\u001b[0m\u001b[1;33m\u001b[0m\u001b[1;33m\u001b[0m\u001b[0m\n",
      "\u001b[1;32mC:\\ProgramData\\Anaconda3\\lib\\site-packages\\pandas\\_libs\\index.pyx\u001b[0m in \u001b[0;36mpandas._libs.index.IndexEngine.get_loc\u001b[1;34m()\u001b[0m\n",
      "\u001b[1;32mC:\\ProgramData\\Anaconda3\\lib\\site-packages\\pandas\\_libs\\index.pyx\u001b[0m in \u001b[0;36mpandas._libs.index.IndexEngine.get_loc\u001b[1;34m()\u001b[0m\n",
      "\u001b[1;32mpandas\\_libs\\hashtable_class_helper.pxi\u001b[0m in \u001b[0;36mpandas._libs.hashtable.PyObjectHashTable.get_item\u001b[1;34m()\u001b[0m\n",
      "\u001b[1;32mpandas\\_libs\\hashtable_class_helper.pxi\u001b[0m in \u001b[0;36mpandas._libs.hashtable.PyObjectHashTable.get_item\u001b[1;34m()\u001b[0m\n",
      "\u001b[1;31mKeyError\u001b[0m: None",
      "\nThe above exception was the direct cause of the following exception:\n",
      "\u001b[1;31mKeyError\u001b[0m                                  Traceback (most recent call last)",
      "\u001b[1;32mC:\\Users\\SOMMER~1\\AppData\\Local\\Temp/ipykernel_18524/3693539089.py\u001b[0m in \u001b[0;36m<module>\u001b[1;34m\u001b[0m\n\u001b[1;32m----> 1\u001b[1;33m \u001b[0mcc\u001b[0m\u001b[1;33m[\u001b[0m\u001b[1;32mNone\u001b[0m\u001b[1;33m]\u001b[0m\u001b[1;33m\u001b[0m\u001b[1;33m\u001b[0m\u001b[0m\n\u001b[0m",
      "\u001b[1;32mC:\\ProgramData\\Anaconda3\\lib\\site-packages\\pandas\\core\\frame.py\u001b[0m in \u001b[0;36m__getitem__\u001b[1;34m(self, key)\u001b[0m\n\u001b[0;32m   3456\u001b[0m             \u001b[1;32mif\u001b[0m \u001b[0mself\u001b[0m\u001b[1;33m.\u001b[0m\u001b[0mcolumns\u001b[0m\u001b[1;33m.\u001b[0m\u001b[0mnlevels\u001b[0m \u001b[1;33m>\u001b[0m \u001b[1;36m1\u001b[0m\u001b[1;33m:\u001b[0m\u001b[1;33m\u001b[0m\u001b[1;33m\u001b[0m\u001b[0m\n\u001b[0;32m   3457\u001b[0m                 \u001b[1;32mreturn\u001b[0m \u001b[0mself\u001b[0m\u001b[1;33m.\u001b[0m\u001b[0m_getitem_multilevel\u001b[0m\u001b[1;33m(\u001b[0m\u001b[0mkey\u001b[0m\u001b[1;33m)\u001b[0m\u001b[1;33m\u001b[0m\u001b[1;33m\u001b[0m\u001b[0m\n\u001b[1;32m-> 3458\u001b[1;33m             \u001b[0mindexer\u001b[0m \u001b[1;33m=\u001b[0m \u001b[0mself\u001b[0m\u001b[1;33m.\u001b[0m\u001b[0mcolumns\u001b[0m\u001b[1;33m.\u001b[0m\u001b[0mget_loc\u001b[0m\u001b[1;33m(\u001b[0m\u001b[0mkey\u001b[0m\u001b[1;33m)\u001b[0m\u001b[1;33m\u001b[0m\u001b[1;33m\u001b[0m\u001b[0m\n\u001b[0m\u001b[0;32m   3459\u001b[0m             \u001b[1;32mif\u001b[0m \u001b[0mis_integer\u001b[0m\u001b[1;33m(\u001b[0m\u001b[0mindexer\u001b[0m\u001b[1;33m)\u001b[0m\u001b[1;33m:\u001b[0m\u001b[1;33m\u001b[0m\u001b[1;33m\u001b[0m\u001b[0m\n\u001b[0;32m   3460\u001b[0m                 \u001b[0mindexer\u001b[0m \u001b[1;33m=\u001b[0m \u001b[1;33m[\u001b[0m\u001b[0mindexer\u001b[0m\u001b[1;33m]\u001b[0m\u001b[1;33m\u001b[0m\u001b[1;33m\u001b[0m\u001b[0m\n",
      "\u001b[1;32mC:\\ProgramData\\Anaconda3\\lib\\site-packages\\pandas\\core\\indexes\\base.py\u001b[0m in \u001b[0;36mget_loc\u001b[1;34m(self, key, method, tolerance)\u001b[0m\n\u001b[0;32m   3361\u001b[0m                 \u001b[1;32mreturn\u001b[0m \u001b[0mself\u001b[0m\u001b[1;33m.\u001b[0m\u001b[0m_engine\u001b[0m\u001b[1;33m.\u001b[0m\u001b[0mget_loc\u001b[0m\u001b[1;33m(\u001b[0m\u001b[0mcasted_key\u001b[0m\u001b[1;33m)\u001b[0m\u001b[1;33m\u001b[0m\u001b[1;33m\u001b[0m\u001b[0m\n\u001b[0;32m   3362\u001b[0m             \u001b[1;32mexcept\u001b[0m \u001b[0mKeyError\u001b[0m \u001b[1;32mas\u001b[0m \u001b[0merr\u001b[0m\u001b[1;33m:\u001b[0m\u001b[1;33m\u001b[0m\u001b[1;33m\u001b[0m\u001b[0m\n\u001b[1;32m-> 3363\u001b[1;33m                 \u001b[1;32mraise\u001b[0m \u001b[0mKeyError\u001b[0m\u001b[1;33m(\u001b[0m\u001b[0mkey\u001b[0m\u001b[1;33m)\u001b[0m \u001b[1;32mfrom\u001b[0m \u001b[0merr\u001b[0m\u001b[1;33m\u001b[0m\u001b[1;33m\u001b[0m\u001b[0m\n\u001b[0m\u001b[0;32m   3364\u001b[0m \u001b[1;33m\u001b[0m\u001b[0m\n\u001b[0;32m   3365\u001b[0m         \u001b[1;32mif\u001b[0m \u001b[0mis_scalar\u001b[0m\u001b[1;33m(\u001b[0m\u001b[0mkey\u001b[0m\u001b[1;33m)\u001b[0m \u001b[1;32mand\u001b[0m \u001b[0misna\u001b[0m\u001b[1;33m(\u001b[0m\u001b[0mkey\u001b[0m\u001b[1;33m)\u001b[0m \u001b[1;32mand\u001b[0m \u001b[1;32mnot\u001b[0m \u001b[0mself\u001b[0m\u001b[1;33m.\u001b[0m\u001b[0mhasnans\u001b[0m\u001b[1;33m:\u001b[0m\u001b[1;33m\u001b[0m\u001b[1;33m\u001b[0m\u001b[0m\n",
      "\u001b[1;31mKeyError\u001b[0m: None"
     ]
    }
   ],
   "source": [
    "cc]"
   ]
  },
  {
   "cell_type": "code",
   "execution_count": null,
   "id": "ddaef34e-e6f8-49c0-8e3d-f2dacde8d2cb",
   "metadata": {},
   "outputs": [],
   "source": []
  },
  {
   "cell_type": "code",
   "execution_count": 15,
   "id": "ce3cfceb",
   "metadata": {},
   "outputs": [],
   "source": [
    "cc.index.name = None"
   ]
  },
  {
   "cell_type": "code",
   "execution_count": 432,
   "id": "c1769473",
   "metadata": {},
   "outputs": [
    {
     "data": {
      "text/html": [
       "<div>\n",
       "<style scoped>\n",
       "    .dataframe tbody tr th:only-of-type {\n",
       "        vertical-align: middle;\n",
       "    }\n",
       "\n",
       "    .dataframe tbody tr th {\n",
       "        vertical-align: top;\n",
       "    }\n",
       "\n",
       "    .dataframe thead th {\n",
       "        text-align: right;\n",
       "    }\n",
       "</style>\n",
       "<table border=\"1\" class=\"dataframe\">\n",
       "  <thead>\n",
       "    <tr style=\"text-align: right;\">\n",
       "      <th></th>\n",
       "      <th>Age</th>\n",
       "      <th>Stream</th>\n",
       "      <th>Percentage</th>\n",
       "    </tr>\n",
       "  </thead>\n",
       "  <tbody>\n",
       "    <tr>\n",
       "      <th>Ankit</th>\n",
       "      <td>21</td>\n",
       "      <td>Math</td>\n",
       "      <td>88</td>\n",
       "    </tr>\n",
       "    <tr>\n",
       "      <th>Amit</th>\n",
       "      <td>19</td>\n",
       "      <td>Commerce</td>\n",
       "      <td>92</td>\n",
       "    </tr>\n",
       "    <tr>\n",
       "      <th>Aishwarya</th>\n",
       "      <td>20</td>\n",
       "      <td>Science</td>\n",
       "      <td>95</td>\n",
       "    </tr>\n",
       "    <tr>\n",
       "      <th>Priyanka</th>\n",
       "      <td>18</td>\n",
       "      <td>Math</td>\n",
       "      <td>70</td>\n",
       "    </tr>\n",
       "    <tr>\n",
       "      <th>Priya</th>\n",
       "      <td>17</td>\n",
       "      <td>Math</td>\n",
       "      <td>65</td>\n",
       "    </tr>\n",
       "    <tr>\n",
       "      <th>Shaurya</th>\n",
       "      <td>21</td>\n",
       "      <td>Science</td>\n",
       "      <td>78</td>\n",
       "    </tr>\n",
       "  </tbody>\n",
       "</table>\n",
       "</div>"
      ],
      "text/plain": [
       "           Age    Stream  Percentage\n",
       "Ankit       21      Math          88\n",
       "Amit        19  Commerce          92\n",
       "Aishwarya   20   Science          95\n",
       "Priyanka    18      Math          70\n",
       "Priya       17      Math          65\n",
       "Shaurya     21   Science          78"
      ]
     },
     "execution_count": 432,
     "metadata": {},
     "output_type": "execute_result"
    }
   ],
   "source": [
    "cc"
   ]
  },
  {
   "cell_type": "code",
   "execution_count": 445,
   "id": "7647c538",
   "metadata": {},
   "outputs": [
    {
     "data": {
      "text/html": [
       "<div>\n",
       "<style scoped>\n",
       "    .dataframe tbody tr th:only-of-type {\n",
       "        vertical-align: middle;\n",
       "    }\n",
       "\n",
       "    .dataframe tbody tr th {\n",
       "        vertical-align: top;\n",
       "    }\n",
       "\n",
       "    .dataframe thead th {\n",
       "        text-align: right;\n",
       "    }\n",
       "</style>\n",
       "<table border=\"1\" class=\"dataframe\">\n",
       "  <thead>\n",
       "    <tr style=\"text-align: right;\">\n",
       "      <th></th>\n",
       "      <th>Age</th>\n",
       "      <th>Stream</th>\n",
       "      <th>Percentage</th>\n",
       "    </tr>\n",
       "    <tr>\n",
       "      <th>qwer</th>\n",
       "      <th></th>\n",
       "      <th></th>\n",
       "      <th></th>\n",
       "    </tr>\n",
       "  </thead>\n",
       "  <tbody>\n",
       "    <tr>\n",
       "      <th>Ankit</th>\n",
       "      <td>21</td>\n",
       "      <td>Math</td>\n",
       "      <td>88</td>\n",
       "    </tr>\n",
       "    <tr>\n",
       "      <th>Amit</th>\n",
       "      <td>19</td>\n",
       "      <td>Commerce</td>\n",
       "      <td>92</td>\n",
       "    </tr>\n",
       "    <tr>\n",
       "      <th>Aishwarya</th>\n",
       "      <td>20</td>\n",
       "      <td>Science</td>\n",
       "      <td>95</td>\n",
       "    </tr>\n",
       "    <tr>\n",
       "      <th>Priyanka</th>\n",
       "      <td>18</td>\n",
       "      <td>Math</td>\n",
       "      <td>70</td>\n",
       "    </tr>\n",
       "    <tr>\n",
       "      <th>Priya</th>\n",
       "      <td>17</td>\n",
       "      <td>Math</td>\n",
       "      <td>65</td>\n",
       "    </tr>\n",
       "    <tr>\n",
       "      <th>Shaurya</th>\n",
       "      <td>21</td>\n",
       "      <td>Science</td>\n",
       "      <td>78</td>\n",
       "    </tr>\n",
       "  </tbody>\n",
       "</table>\n",
       "</div>"
      ],
      "text/plain": [
       "           Age    Stream  Percentage\n",
       "qwer                                \n",
       "Ankit       21      Math          88\n",
       "Amit        19  Commerce          92\n",
       "Aishwarya   20   Science          95\n",
       "Priyanka    18      Math          70\n",
       "Priya       17      Math          65\n",
       "Shaurya     21   Science          78"
      ]
     },
     "execution_count": 445,
     "metadata": {},
     "output_type": "execute_result"
    }
   ],
   "source": [
    "cc.rename_axis('qwer', inplace=True)\n",
    "cc"
   ]
  },
  {
   "cell_type": "code",
   "execution_count": 443,
   "id": "b70c4ab4",
   "metadata": {},
   "outputs": [
    {
     "data": {
      "text/html": [
       "<div>\n",
       "<style scoped>\n",
       "    .dataframe tbody tr th:only-of-type {\n",
       "        vertical-align: middle;\n",
       "    }\n",
       "\n",
       "    .dataframe tbody tr th {\n",
       "        vertical-align: top;\n",
       "    }\n",
       "\n",
       "    .dataframe thead th {\n",
       "        text-align: right;\n",
       "    }\n",
       "</style>\n",
       "<table border=\"1\" class=\"dataframe\">\n",
       "  <thead>\n",
       "    <tr style=\"text-align: right;\">\n",
       "      <th></th>\n",
       "      <th>Age</th>\n",
       "      <th>Stream</th>\n",
       "      <th>Percentage</th>\n",
       "    </tr>\n",
       "    <tr>\n",
       "      <th>asdf</th>\n",
       "      <th></th>\n",
       "      <th></th>\n",
       "      <th></th>\n",
       "    </tr>\n",
       "  </thead>\n",
       "  <tbody>\n",
       "    <tr>\n",
       "      <th>Ankit</th>\n",
       "      <td>21</td>\n",
       "      <td>Math</td>\n",
       "      <td>88</td>\n",
       "    </tr>\n",
       "    <tr>\n",
       "      <th>Amit</th>\n",
       "      <td>19</td>\n",
       "      <td>Commerce</td>\n",
       "      <td>92</td>\n",
       "    </tr>\n",
       "    <tr>\n",
       "      <th>Aishwarya</th>\n",
       "      <td>20</td>\n",
       "      <td>Science</td>\n",
       "      <td>95</td>\n",
       "    </tr>\n",
       "    <tr>\n",
       "      <th>Priyanka</th>\n",
       "      <td>18</td>\n",
       "      <td>Math</td>\n",
       "      <td>70</td>\n",
       "    </tr>\n",
       "    <tr>\n",
       "      <th>Priya</th>\n",
       "      <td>17</td>\n",
       "      <td>Math</td>\n",
       "      <td>65</td>\n",
       "    </tr>\n",
       "    <tr>\n",
       "      <th>Shaurya</th>\n",
       "      <td>21</td>\n",
       "      <td>Science</td>\n",
       "      <td>78</td>\n",
       "    </tr>\n",
       "  </tbody>\n",
       "</table>\n",
       "</div>"
      ],
      "text/plain": [
       "           Age    Stream  Percentage\n",
       "asdf                                \n",
       "Ankit       21      Math          88\n",
       "Amit        19  Commerce          92\n",
       "Aishwarya   20   Science          95\n",
       "Priyanka    18      Math          70\n",
       "Priya       17      Math          65\n",
       "Shaurya     21   Science          78"
      ]
     },
     "execution_count": 443,
     "metadata": {},
     "output_type": "execute_result"
    }
   ],
   "source": [
    "cc"
   ]
  },
  {
   "cell_type": "code",
   "execution_count": 437,
   "id": "9cb00d38",
   "metadata": {},
   "outputs": [],
   "source": [
    "cc.rename_axis?"
   ]
  },
  {
   "cell_type": "code",
   "execution_count": 573,
   "id": "0b10ff50",
   "metadata": {},
   "outputs": [
    {
     "data": {
      "text/html": [
       "<div>\n",
       "<style scoped>\n",
       "    .dataframe tbody tr th:only-of-type {\n",
       "        vertical-align: middle;\n",
       "    }\n",
       "\n",
       "    .dataframe tbody tr th {\n",
       "        vertical-align: top;\n",
       "    }\n",
       "\n",
       "    .dataframe thead th {\n",
       "        text-align: right;\n",
       "    }\n",
       "</style>\n",
       "<table border=\"1\" class=\"dataframe\">\n",
       "  <thead>\n",
       "    <tr style=\"text-align: right;\">\n",
       "      <th></th>\n",
       "      <th>IterationNum</th>\n",
       "      <th>IterationCount</th>\n",
       "      <th>wait</th>\n",
       "      <th>AndorROIheight</th>\n",
       "      <th>AndorShortExpDelay_us</th>\n",
       "      <th>LFImg</th>\n",
       "      <th>LF_AOM_freq</th>\n",
       "      <th>time compress</th>\n",
       "      <th>MOT/Re Attn final V</th>\n",
       "      <th>TOF</th>\n",
       "      <th>...</th>\n",
       "      <th>ZSBiasVoltage</th>\n",
       "      <th>CamBiasVoltage</th>\n",
       "      <th>VerticalBiasVoltage</th>\n",
       "      <th>piezoX</th>\n",
       "      <th>piezoY</th>\n",
       "      <th>D1Time_ms</th>\n",
       "      <th>High PD 1</th>\n",
       "      <th>High PD 2</th>\n",
       "      <th>Evap Time</th>\n",
       "      <th>Evap Time 2</th>\n",
       "    </tr>\n",
       "    <tr>\n",
       "      <th>time</th>\n",
       "      <th></th>\n",
       "      <th></th>\n",
       "      <th></th>\n",
       "      <th></th>\n",
       "      <th></th>\n",
       "      <th></th>\n",
       "      <th></th>\n",
       "      <th></th>\n",
       "      <th></th>\n",
       "      <th></th>\n",
       "      <th></th>\n",
       "      <th></th>\n",
       "      <th></th>\n",
       "      <th></th>\n",
       "      <th></th>\n",
       "      <th></th>\n",
       "      <th></th>\n",
       "      <th></th>\n",
       "      <th></th>\n",
       "      <th></th>\n",
       "      <th></th>\n",
       "    </tr>\n",
       "  </thead>\n",
       "  <tbody>\n",
       "    <tr>\n",
       "      <th>2023-09-08 16:43:47</th>\n",
       "      <td>0.0</td>\n",
       "      <td>1.0</td>\n",
       "      <td>5.0</td>\n",
       "      <td>512.0</td>\n",
       "      <td>2415.44</td>\n",
       "      <td>3.598</td>\n",
       "      <td>226.0</td>\n",
       "      <td>5.0</td>\n",
       "      <td>4.0</td>\n",
       "      <td>0.00</td>\n",
       "      <td>...</td>\n",
       "      <td>1.44</td>\n",
       "      <td>0.322</td>\n",
       "      <td>0.377</td>\n",
       "      <td>5.0</td>\n",
       "      <td>5.0</td>\n",
       "      <td>1.5</td>\n",
       "      <td>2.45</td>\n",
       "      <td>0.25</td>\n",
       "      <td>100.0</td>\n",
       "      <td>50.0</td>\n",
       "    </tr>\n",
       "    <tr>\n",
       "      <th>2023-09-08 16:45:48</th>\n",
       "      <td>0.0</td>\n",
       "      <td>1.0</td>\n",
       "      <td>5.0</td>\n",
       "      <td>512.0</td>\n",
       "      <td>2415.44</td>\n",
       "      <td>3.598</td>\n",
       "      <td>226.0</td>\n",
       "      <td>5.0</td>\n",
       "      <td>4.0</td>\n",
       "      <td>0.00</td>\n",
       "      <td>...</td>\n",
       "      <td>1.44</td>\n",
       "      <td>0.322</td>\n",
       "      <td>0.377</td>\n",
       "      <td>5.0</td>\n",
       "      <td>5.0</td>\n",
       "      <td>1.5</td>\n",
       "      <td>2.45</td>\n",
       "      <td>0.25</td>\n",
       "      <td>100.0</td>\n",
       "      <td>50.0</td>\n",
       "    </tr>\n",
       "    <tr>\n",
       "      <th>2023-09-08 16:49:16</th>\n",
       "      <td>0.0</td>\n",
       "      <td>1.0</td>\n",
       "      <td>5.0</td>\n",
       "      <td>512.0</td>\n",
       "      <td>2415.44</td>\n",
       "      <td>3.598</td>\n",
       "      <td>226.0</td>\n",
       "      <td>5.0</td>\n",
       "      <td>4.0</td>\n",
       "      <td>0.00</td>\n",
       "      <td>...</td>\n",
       "      <td>1.44</td>\n",
       "      <td>0.322</td>\n",
       "      <td>0.377</td>\n",
       "      <td>5.0</td>\n",
       "      <td>5.0</td>\n",
       "      <td>1.5</td>\n",
       "      <td>2.45</td>\n",
       "      <td>0.25</td>\n",
       "      <td>100.0</td>\n",
       "      <td>50.0</td>\n",
       "    </tr>\n",
       "    <tr>\n",
       "      <th>2023-09-08 16:50:46</th>\n",
       "      <td>0.0</td>\n",
       "      <td>1.0</td>\n",
       "      <td>3.0</td>\n",
       "      <td>512.0</td>\n",
       "      <td>2415.44</td>\n",
       "      <td>3.598</td>\n",
       "      <td>226.0</td>\n",
       "      <td>5.0</td>\n",
       "      <td>4.0</td>\n",
       "      <td>1.23</td>\n",
       "      <td>...</td>\n",
       "      <td>1.44</td>\n",
       "      <td>0.322</td>\n",
       "      <td>0.377</td>\n",
       "      <td>5.0</td>\n",
       "      <td>5.0</td>\n",
       "      <td>1.5</td>\n",
       "      <td>2.45</td>\n",
       "      <td>0.25</td>\n",
       "      <td>100.0</td>\n",
       "      <td>50.0</td>\n",
       "    </tr>\n",
       "    <tr>\n",
       "      <th>2023-09-08 16:51:52</th>\n",
       "      <td>0.0</td>\n",
       "      <td>1.0</td>\n",
       "      <td>5.0</td>\n",
       "      <td>512.0</td>\n",
       "      <td>2415.44</td>\n",
       "      <td>3.598</td>\n",
       "      <td>226.0</td>\n",
       "      <td>5.0</td>\n",
       "      <td>4.0</td>\n",
       "      <td>0.00</td>\n",
       "      <td>...</td>\n",
       "      <td>1.44</td>\n",
       "      <td>0.322</td>\n",
       "      <td>0.377</td>\n",
       "      <td>5.0</td>\n",
       "      <td>5.0</td>\n",
       "      <td>1.5</td>\n",
       "      <td>2.45</td>\n",
       "      <td>0.25</td>\n",
       "      <td>100.0</td>\n",
       "      <td>50.0</td>\n",
       "    </tr>\n",
       "  </tbody>\n",
       "</table>\n",
       "<p>5 rows × 28 columns</p>\n",
       "</div>"
      ],
      "text/plain": [
       "                     IterationNum  IterationCount  wait  AndorROIheight  \\\n",
       "time                                                                      \n",
       "2023-09-08 16:43:47           0.0             1.0   5.0           512.0   \n",
       "2023-09-08 16:45:48           0.0             1.0   5.0           512.0   \n",
       "2023-09-08 16:49:16           0.0             1.0   5.0           512.0   \n",
       "2023-09-08 16:50:46           0.0             1.0   3.0           512.0   \n",
       "2023-09-08 16:51:52           0.0             1.0   5.0           512.0   \n",
       "\n",
       "                     AndorShortExpDelay_us  LFImg  LF_AOM_freq  time compress  \\\n",
       "time                                                                            \n",
       "2023-09-08 16:43:47                2415.44  3.598        226.0            5.0   \n",
       "2023-09-08 16:45:48                2415.44  3.598        226.0            5.0   \n",
       "2023-09-08 16:49:16                2415.44  3.598        226.0            5.0   \n",
       "2023-09-08 16:50:46                2415.44  3.598        226.0            5.0   \n",
       "2023-09-08 16:51:52                2415.44  3.598        226.0            5.0   \n",
       "\n",
       "                     MOT/Re Attn final V   TOF  ...  ZSBiasVoltage  \\\n",
       "time                                            ...                  \n",
       "2023-09-08 16:43:47                  4.0  0.00  ...           1.44   \n",
       "2023-09-08 16:45:48                  4.0  0.00  ...           1.44   \n",
       "2023-09-08 16:49:16                  4.0  0.00  ...           1.44   \n",
       "2023-09-08 16:50:46                  4.0  1.23  ...           1.44   \n",
       "2023-09-08 16:51:52                  4.0  0.00  ...           1.44   \n",
       "\n",
       "                     CamBiasVoltage  VerticalBiasVoltage  piezoX  piezoY  \\\n",
       "time                                                                       \n",
       "2023-09-08 16:43:47           0.322                0.377     5.0     5.0   \n",
       "2023-09-08 16:45:48           0.322                0.377     5.0     5.0   \n",
       "2023-09-08 16:49:16           0.322                0.377     5.0     5.0   \n",
       "2023-09-08 16:50:46           0.322                0.377     5.0     5.0   \n",
       "2023-09-08 16:51:52           0.322                0.377     5.0     5.0   \n",
       "\n",
       "                     D1Time_ms  High PD 1  High PD 2  Evap Time  Evap Time 2  \n",
       "time                                                                          \n",
       "2023-09-08 16:43:47        1.5       2.45       0.25      100.0         50.0  \n",
       "2023-09-08 16:45:48        1.5       2.45       0.25      100.0         50.0  \n",
       "2023-09-08 16:49:16        1.5       2.45       0.25      100.0         50.0  \n",
       "2023-09-08 16:50:46        1.5       2.45       0.25      100.0         50.0  \n",
       "2023-09-08 16:51:52        1.5       2.45       0.25      100.0         50.0  \n",
       "\n",
       "[5 rows x 28 columns]"
      ]
     },
     "execution_count": 573,
     "metadata": {},
     "output_type": "execute_result"
    }
   ],
   "source": [
    "bb"
   ]
  },
  {
   "cell_type": "code",
   "execution_count": null,
   "id": "47da4587-0877-4630-bef7-30ffcf466522",
   "metadata": {},
   "outputs": [],
   "source": []
  },
  {
   "cell_type": "code",
   "execution_count": null,
   "id": "412d0f5e",
   "metadata": {},
   "outputs": [],
   "source": []
  },
  {
   "cell_type": "code",
   "execution_count": 269,
   "id": "bb164c8c",
   "metadata": {},
   "outputs": [],
   "source": [
    "readLog = pd.read_csv('C:\\\\Users\\\\Sommer Lab\\\\Documents\\\\Data\\\\2023/09-2023/26 Sep 2023\\\\asdfasdf.csv')"
   ]
  },
  {
   "cell_type": "code",
   "execution_count": 270,
   "id": "c6cd5b84",
   "metadata": {},
   "outputs": [
    {
     "data": {
      "text/html": [
       "<div>\n",
       "<style scoped>\n",
       "    .dataframe tbody tr th:only-of-type {\n",
       "        vertical-align: middle;\n",
       "    }\n",
       "\n",
       "    .dataframe tbody tr th {\n",
       "        vertical-align: top;\n",
       "    }\n",
       "\n",
       "    .dataframe thead th {\n",
       "        text-align: right;\n",
       "    }\n",
       "</style>\n",
       "<table border=\"1\" class=\"dataframe\">\n",
       "  <thead>\n",
       "    <tr style=\"text-align: right;\">\n",
       "      <th></th>\n",
       "      <th>time</th>\n",
       "      <th>IterationNum</th>\n",
       "      <th>IterationCount</th>\n",
       "      <th>wait</th>\n",
       "      <th>AndorROIheight</th>\n",
       "      <th>AndorShortExpDelay_us</th>\n",
       "      <th>LFImg</th>\n",
       "      <th>LF_AOM_freq</th>\n",
       "      <th>time_compress</th>\n",
       "      <th>MOT/Re_Attn_final_V</th>\n",
       "      <th>...</th>\n",
       "      <th>CamBiasVoltage</th>\n",
       "      <th>VerticalBiasVoltage</th>\n",
       "      <th>piezoX</th>\n",
       "      <th>piezoY</th>\n",
       "      <th>D1Time_ms</th>\n",
       "      <th>High_PD_1</th>\n",
       "      <th>High_PD_2</th>\n",
       "      <th>Evap_Time</th>\n",
       "      <th>Evap_Time_2</th>\n",
       "      <th>FLIR_Pulse</th>\n",
       "    </tr>\n",
       "  </thead>\n",
       "  <tbody>\n",
       "    <tr>\n",
       "      <th>0</th>\n",
       "      <td>2023-09-26 12:07:23.520</td>\n",
       "      <td>0.0</td>\n",
       "      <td>1.0</td>\n",
       "      <td>0.0</td>\n",
       "      <td>512.0</td>\n",
       "      <td>2415.44</td>\n",
       "      <td>3.598</td>\n",
       "      <td>226.0</td>\n",
       "      <td>5.0</td>\n",
       "      <td>4.0</td>\n",
       "      <td>...</td>\n",
       "      <td>0.322</td>\n",
       "      <td>0.377</td>\n",
       "      <td>5.0</td>\n",
       "      <td>5.0</td>\n",
       "      <td>1.5</td>\n",
       "      <td>1.75</td>\n",
       "      <td>0.25</td>\n",
       "      <td>97.0</td>\n",
       "      <td>50.0</td>\n",
       "      <td>20.0</td>\n",
       "    </tr>\n",
       "    <tr>\n",
       "      <th>1</th>\n",
       "      <td>2023-09-26 12:14:23.510</td>\n",
       "      <td>0.0</td>\n",
       "      <td>1.0</td>\n",
       "      <td>0.0</td>\n",
       "      <td>512.0</td>\n",
       "      <td>2415.44</td>\n",
       "      <td>3.598</td>\n",
       "      <td>226.0</td>\n",
       "      <td>5.0</td>\n",
       "      <td>4.0</td>\n",
       "      <td>...</td>\n",
       "      <td>0.322</td>\n",
       "      <td>0.377</td>\n",
       "      <td>5.0</td>\n",
       "      <td>5.0</td>\n",
       "      <td>1.5</td>\n",
       "      <td>1.75</td>\n",
       "      <td>0.25</td>\n",
       "      <td>97.0</td>\n",
       "      <td>50.0</td>\n",
       "      <td>20.0</td>\n",
       "    </tr>\n",
       "    <tr>\n",
       "      <th>2</th>\n",
       "      <td>2023-09-26 12:22:41.380</td>\n",
       "      <td>0.0</td>\n",
       "      <td>1.0</td>\n",
       "      <td>0.0</td>\n",
       "      <td>512.0</td>\n",
       "      <td>2415.44</td>\n",
       "      <td>3.598</td>\n",
       "      <td>226.0</td>\n",
       "      <td>5.0</td>\n",
       "      <td>4.0</td>\n",
       "      <td>...</td>\n",
       "      <td>0.322</td>\n",
       "      <td>0.377</td>\n",
       "      <td>5.0</td>\n",
       "      <td>5.0</td>\n",
       "      <td>1.5</td>\n",
       "      <td>1.75</td>\n",
       "      <td>0.25</td>\n",
       "      <td>97.0</td>\n",
       "      <td>50.0</td>\n",
       "      <td>20.0</td>\n",
       "    </tr>\n",
       "    <tr>\n",
       "      <th>3</th>\n",
       "      <td>2023-09-26 12:27:51.560</td>\n",
       "      <td>0.0</td>\n",
       "      <td>1.0</td>\n",
       "      <td>0.5</td>\n",
       "      <td>512.0</td>\n",
       "      <td>2415.44</td>\n",
       "      <td>3.598</td>\n",
       "      <td>226.0</td>\n",
       "      <td>5.0</td>\n",
       "      <td>4.0</td>\n",
       "      <td>...</td>\n",
       "      <td>0.322</td>\n",
       "      <td>0.377</td>\n",
       "      <td>5.0</td>\n",
       "      <td>5.0</td>\n",
       "      <td>1.5</td>\n",
       "      <td>NaN</td>\n",
       "      <td>NaN</td>\n",
       "      <td>NaN</td>\n",
       "      <td>NaN</td>\n",
       "      <td>NaN</td>\n",
       "    </tr>\n",
       "    <tr>\n",
       "      <th>4</th>\n",
       "      <td>2023-09-26 12:28:05.740</td>\n",
       "      <td>0.0</td>\n",
       "      <td>1.0</td>\n",
       "      <td>0.5</td>\n",
       "      <td>512.0</td>\n",
       "      <td>2415.44</td>\n",
       "      <td>3.598</td>\n",
       "      <td>226.0</td>\n",
       "      <td>5.0</td>\n",
       "      <td>4.0</td>\n",
       "      <td>...</td>\n",
       "      <td>0.322</td>\n",
       "      <td>0.377</td>\n",
       "      <td>5.0</td>\n",
       "      <td>5.0</td>\n",
       "      <td>1.5</td>\n",
       "      <td>NaN</td>\n",
       "      <td>NaN</td>\n",
       "      <td>NaN</td>\n",
       "      <td>NaN</td>\n",
       "      <td>NaN</td>\n",
       "    </tr>\n",
       "    <tr>\n",
       "      <th>...</th>\n",
       "      <td>...</td>\n",
       "      <td>...</td>\n",
       "      <td>...</td>\n",
       "      <td>...</td>\n",
       "      <td>...</td>\n",
       "      <td>...</td>\n",
       "      <td>...</td>\n",
       "      <td>...</td>\n",
       "      <td>...</td>\n",
       "      <td>...</td>\n",
       "      <td>...</td>\n",
       "      <td>...</td>\n",
       "      <td>...</td>\n",
       "      <td>...</td>\n",
       "      <td>...</td>\n",
       "      <td>...</td>\n",
       "      <td>...</td>\n",
       "      <td>...</td>\n",
       "      <td>...</td>\n",
       "      <td>...</td>\n",
       "      <td>...</td>\n",
       "    </tr>\n",
       "    <tr>\n",
       "      <th>163</th>\n",
       "      <td>2023-09-26 18:40:22.210</td>\n",
       "      <td>0.0</td>\n",
       "      <td>1.0</td>\n",
       "      <td>0.5</td>\n",
       "      <td>512.0</td>\n",
       "      <td>2415.44</td>\n",
       "      <td>3.598</td>\n",
       "      <td>226.0</td>\n",
       "      <td>5.0</td>\n",
       "      <td>4.0</td>\n",
       "      <td>...</td>\n",
       "      <td>0.322</td>\n",
       "      <td>0.739</td>\n",
       "      <td>5.0</td>\n",
       "      <td>5.0</td>\n",
       "      <td>1.5</td>\n",
       "      <td>NaN</td>\n",
       "      <td>NaN</td>\n",
       "      <td>NaN</td>\n",
       "      <td>NaN</td>\n",
       "      <td>20.0</td>\n",
       "    </tr>\n",
       "    <tr>\n",
       "      <th>164</th>\n",
       "      <td>2023-09-26 18:40:53.360</td>\n",
       "      <td>0.0</td>\n",
       "      <td>1.0</td>\n",
       "      <td>0.5</td>\n",
       "      <td>512.0</td>\n",
       "      <td>2415.44</td>\n",
       "      <td>3.598</td>\n",
       "      <td>226.0</td>\n",
       "      <td>5.0</td>\n",
       "      <td>4.0</td>\n",
       "      <td>...</td>\n",
       "      <td>0.322</td>\n",
       "      <td>0.739</td>\n",
       "      <td>5.0</td>\n",
       "      <td>5.0</td>\n",
       "      <td>1.5</td>\n",
       "      <td>NaN</td>\n",
       "      <td>NaN</td>\n",
       "      <td>NaN</td>\n",
       "      <td>NaN</td>\n",
       "      <td>20.0</td>\n",
       "    </tr>\n",
       "    <tr>\n",
       "      <th>165</th>\n",
       "      <td>2023-09-26 18:41:19.480</td>\n",
       "      <td>0.0</td>\n",
       "      <td>1.0</td>\n",
       "      <td>0.5</td>\n",
       "      <td>512.0</td>\n",
       "      <td>2415.44</td>\n",
       "      <td>3.598</td>\n",
       "      <td>226.0</td>\n",
       "      <td>5.0</td>\n",
       "      <td>4.0</td>\n",
       "      <td>...</td>\n",
       "      <td>0.322</td>\n",
       "      <td>0.739</td>\n",
       "      <td>5.0</td>\n",
       "      <td>5.0</td>\n",
       "      <td>1.5</td>\n",
       "      <td>NaN</td>\n",
       "      <td>NaN</td>\n",
       "      <td>NaN</td>\n",
       "      <td>NaN</td>\n",
       "      <td>20.0</td>\n",
       "    </tr>\n",
       "    <tr>\n",
       "      <th>166</th>\n",
       "      <td>2023-09-26 18:41:42.780</td>\n",
       "      <td>0.0</td>\n",
       "      <td>1.0</td>\n",
       "      <td>0.5</td>\n",
       "      <td>512.0</td>\n",
       "      <td>2415.44</td>\n",
       "      <td>3.598</td>\n",
       "      <td>226.0</td>\n",
       "      <td>5.0</td>\n",
       "      <td>4.0</td>\n",
       "      <td>...</td>\n",
       "      <td>0.322</td>\n",
       "      <td>0.739</td>\n",
       "      <td>5.0</td>\n",
       "      <td>5.0</td>\n",
       "      <td>1.5</td>\n",
       "      <td>NaN</td>\n",
       "      <td>NaN</td>\n",
       "      <td>NaN</td>\n",
       "      <td>NaN</td>\n",
       "      <td>20.0</td>\n",
       "    </tr>\n",
       "    <tr>\n",
       "      <th>167</th>\n",
       "      <td>2023-09-26 18:42:10.560</td>\n",
       "      <td>0.0</td>\n",
       "      <td>1.0</td>\n",
       "      <td>0.5</td>\n",
       "      <td>512.0</td>\n",
       "      <td>2415.44</td>\n",
       "      <td>3.598</td>\n",
       "      <td>226.0</td>\n",
       "      <td>5.0</td>\n",
       "      <td>4.0</td>\n",
       "      <td>...</td>\n",
       "      <td>0.322</td>\n",
       "      <td>0.739</td>\n",
       "      <td>5.0</td>\n",
       "      <td>5.0</td>\n",
       "      <td>1.5</td>\n",
       "      <td>NaN</td>\n",
       "      <td>NaN</td>\n",
       "      <td>NaN</td>\n",
       "      <td>NaN</td>\n",
       "      <td>20.0</td>\n",
       "    </tr>\n",
       "  </tbody>\n",
       "</table>\n",
       "<p>168 rows × 30 columns</p>\n",
       "</div>"
      ],
      "text/plain": [
       "                        time  IterationNum  IterationCount  wait  \\\n",
       "0    2023-09-26 12:07:23.520           0.0             1.0   0.0   \n",
       "1    2023-09-26 12:14:23.510           0.0             1.0   0.0   \n",
       "2    2023-09-26 12:22:41.380           0.0             1.0   0.0   \n",
       "3    2023-09-26 12:27:51.560           0.0             1.0   0.5   \n",
       "4    2023-09-26 12:28:05.740           0.0             1.0   0.5   \n",
       "..                       ...           ...             ...   ...   \n",
       "163  2023-09-26 18:40:22.210           0.0             1.0   0.5   \n",
       "164  2023-09-26 18:40:53.360           0.0             1.0   0.5   \n",
       "165  2023-09-26 18:41:19.480           0.0             1.0   0.5   \n",
       "166  2023-09-26 18:41:42.780           0.0             1.0   0.5   \n",
       "167  2023-09-26 18:42:10.560           0.0             1.0   0.5   \n",
       "\n",
       "     AndorROIheight  AndorShortExpDelay_us  LFImg  LF_AOM_freq  time_compress  \\\n",
       "0             512.0                2415.44  3.598        226.0            5.0   \n",
       "1             512.0                2415.44  3.598        226.0            5.0   \n",
       "2             512.0                2415.44  3.598        226.0            5.0   \n",
       "3             512.0                2415.44  3.598        226.0            5.0   \n",
       "4             512.0                2415.44  3.598        226.0            5.0   \n",
       "..              ...                    ...    ...          ...            ...   \n",
       "163           512.0                2415.44  3.598        226.0            5.0   \n",
       "164           512.0                2415.44  3.598        226.0            5.0   \n",
       "165           512.0                2415.44  3.598        226.0            5.0   \n",
       "166           512.0                2415.44  3.598        226.0            5.0   \n",
       "167           512.0                2415.44  3.598        226.0            5.0   \n",
       "\n",
       "     MOT/Re_Attn_final_V  ...  CamBiasVoltage  VerticalBiasVoltage  piezoX  \\\n",
       "0                    4.0  ...           0.322                0.377     5.0   \n",
       "1                    4.0  ...           0.322                0.377     5.0   \n",
       "2                    4.0  ...           0.322                0.377     5.0   \n",
       "3                    4.0  ...           0.322                0.377     5.0   \n",
       "4                    4.0  ...           0.322                0.377     5.0   \n",
       "..                   ...  ...             ...                  ...     ...   \n",
       "163                  4.0  ...           0.322                0.739     5.0   \n",
       "164                  4.0  ...           0.322                0.739     5.0   \n",
       "165                  4.0  ...           0.322                0.739     5.0   \n",
       "166                  4.0  ...           0.322                0.739     5.0   \n",
       "167                  4.0  ...           0.322                0.739     5.0   \n",
       "\n",
       "     piezoY  D1Time_ms  High_PD_1  High_PD_2  Evap_Time  Evap_Time_2  \\\n",
       "0       5.0        1.5       1.75       0.25       97.0         50.0   \n",
       "1       5.0        1.5       1.75       0.25       97.0         50.0   \n",
       "2       5.0        1.5       1.75       0.25       97.0         50.0   \n",
       "3       5.0        1.5        NaN        NaN        NaN          NaN   \n",
       "4       5.0        1.5        NaN        NaN        NaN          NaN   \n",
       "..      ...        ...        ...        ...        ...          ...   \n",
       "163     5.0        1.5        NaN        NaN        NaN          NaN   \n",
       "164     5.0        1.5        NaN        NaN        NaN          NaN   \n",
       "165     5.0        1.5        NaN        NaN        NaN          NaN   \n",
       "166     5.0        1.5        NaN        NaN        NaN          NaN   \n",
       "167     5.0        1.5        NaN        NaN        NaN          NaN   \n",
       "\n",
       "     FLIR_Pulse  \n",
       "0          20.0  \n",
       "1          20.0  \n",
       "2          20.0  \n",
       "3           NaN  \n",
       "4           NaN  \n",
       "..          ...  \n",
       "163        20.0  \n",
       "164        20.0  \n",
       "165        20.0  \n",
       "166        20.0  \n",
       "167        20.0  \n",
       "\n",
       "[168 rows x 30 columns]"
      ]
     },
     "execution_count": 270,
     "metadata": {},
     "output_type": "execute_result"
    }
   ],
   "source": [
    "readLog"
   ]
  },
  {
   "cell_type": "code",
   "execution_count": 275,
   "id": "d2215b42",
   "metadata": {},
   "outputs": [],
   "source": [
    "readLog.time = pd.to_datetime(readLog.time)"
   ]
  },
  {
   "cell_type": "code",
   "execution_count": 276,
   "id": "4882b451",
   "metadata": {},
   "outputs": [
    {
     "data": {
      "text/html": [
       "<div>\n",
       "<style scoped>\n",
       "    .dataframe tbody tr th:only-of-type {\n",
       "        vertical-align: middle;\n",
       "    }\n",
       "\n",
       "    .dataframe tbody tr th {\n",
       "        vertical-align: top;\n",
       "    }\n",
       "\n",
       "    .dataframe thead th {\n",
       "        text-align: right;\n",
       "    }\n",
       "</style>\n",
       "<table border=\"1\" class=\"dataframe\">\n",
       "  <thead>\n",
       "    <tr style=\"text-align: right;\">\n",
       "      <th></th>\n",
       "      <th>time</th>\n",
       "      <th>IterationNum</th>\n",
       "      <th>IterationCount</th>\n",
       "      <th>wait</th>\n",
       "      <th>AndorROIheight</th>\n",
       "      <th>AndorShortExpDelay_us</th>\n",
       "      <th>LFImg</th>\n",
       "      <th>LF_AOM_freq</th>\n",
       "      <th>time_compress</th>\n",
       "      <th>MOT/Re_Attn_final_V</th>\n",
       "      <th>...</th>\n",
       "      <th>CamBiasVoltage</th>\n",
       "      <th>VerticalBiasVoltage</th>\n",
       "      <th>piezoX</th>\n",
       "      <th>piezoY</th>\n",
       "      <th>D1Time_ms</th>\n",
       "      <th>High_PD_1</th>\n",
       "      <th>High_PD_2</th>\n",
       "      <th>Evap_Time</th>\n",
       "      <th>Evap_Time_2</th>\n",
       "      <th>FLIR_Pulse</th>\n",
       "    </tr>\n",
       "  </thead>\n",
       "  <tbody>\n",
       "    <tr>\n",
       "      <th>0</th>\n",
       "      <td>2023-09-26 12:07:23.520</td>\n",
       "      <td>0.0</td>\n",
       "      <td>1.0</td>\n",
       "      <td>0.0</td>\n",
       "      <td>512.0</td>\n",
       "      <td>2415.44</td>\n",
       "      <td>3.598</td>\n",
       "      <td>226.0</td>\n",
       "      <td>5.0</td>\n",
       "      <td>4.0</td>\n",
       "      <td>...</td>\n",
       "      <td>0.322</td>\n",
       "      <td>0.377</td>\n",
       "      <td>5.0</td>\n",
       "      <td>5.0</td>\n",
       "      <td>1.5</td>\n",
       "      <td>1.75</td>\n",
       "      <td>0.25</td>\n",
       "      <td>97.0</td>\n",
       "      <td>50.0</td>\n",
       "      <td>20.0</td>\n",
       "    </tr>\n",
       "    <tr>\n",
       "      <th>1</th>\n",
       "      <td>2023-09-26 12:14:23.510</td>\n",
       "      <td>0.0</td>\n",
       "      <td>1.0</td>\n",
       "      <td>0.0</td>\n",
       "      <td>512.0</td>\n",
       "      <td>2415.44</td>\n",
       "      <td>3.598</td>\n",
       "      <td>226.0</td>\n",
       "      <td>5.0</td>\n",
       "      <td>4.0</td>\n",
       "      <td>...</td>\n",
       "      <td>0.322</td>\n",
       "      <td>0.377</td>\n",
       "      <td>5.0</td>\n",
       "      <td>5.0</td>\n",
       "      <td>1.5</td>\n",
       "      <td>1.75</td>\n",
       "      <td>0.25</td>\n",
       "      <td>97.0</td>\n",
       "      <td>50.0</td>\n",
       "      <td>20.0</td>\n",
       "    </tr>\n",
       "    <tr>\n",
       "      <th>2</th>\n",
       "      <td>2023-09-26 12:22:41.380</td>\n",
       "      <td>0.0</td>\n",
       "      <td>1.0</td>\n",
       "      <td>0.0</td>\n",
       "      <td>512.0</td>\n",
       "      <td>2415.44</td>\n",
       "      <td>3.598</td>\n",
       "      <td>226.0</td>\n",
       "      <td>5.0</td>\n",
       "      <td>4.0</td>\n",
       "      <td>...</td>\n",
       "      <td>0.322</td>\n",
       "      <td>0.377</td>\n",
       "      <td>5.0</td>\n",
       "      <td>5.0</td>\n",
       "      <td>1.5</td>\n",
       "      <td>1.75</td>\n",
       "      <td>0.25</td>\n",
       "      <td>97.0</td>\n",
       "      <td>50.0</td>\n",
       "      <td>20.0</td>\n",
       "    </tr>\n",
       "    <tr>\n",
       "      <th>3</th>\n",
       "      <td>2023-09-26 12:27:51.560</td>\n",
       "      <td>0.0</td>\n",
       "      <td>1.0</td>\n",
       "      <td>0.5</td>\n",
       "      <td>512.0</td>\n",
       "      <td>2415.44</td>\n",
       "      <td>3.598</td>\n",
       "      <td>226.0</td>\n",
       "      <td>5.0</td>\n",
       "      <td>4.0</td>\n",
       "      <td>...</td>\n",
       "      <td>0.322</td>\n",
       "      <td>0.377</td>\n",
       "      <td>5.0</td>\n",
       "      <td>5.0</td>\n",
       "      <td>1.5</td>\n",
       "      <td>NaN</td>\n",
       "      <td>NaN</td>\n",
       "      <td>NaN</td>\n",
       "      <td>NaN</td>\n",
       "      <td>NaN</td>\n",
       "    </tr>\n",
       "    <tr>\n",
       "      <th>4</th>\n",
       "      <td>2023-09-26 12:28:05.740</td>\n",
       "      <td>0.0</td>\n",
       "      <td>1.0</td>\n",
       "      <td>0.5</td>\n",
       "      <td>512.0</td>\n",
       "      <td>2415.44</td>\n",
       "      <td>3.598</td>\n",
       "      <td>226.0</td>\n",
       "      <td>5.0</td>\n",
       "      <td>4.0</td>\n",
       "      <td>...</td>\n",
       "      <td>0.322</td>\n",
       "      <td>0.377</td>\n",
       "      <td>5.0</td>\n",
       "      <td>5.0</td>\n",
       "      <td>1.5</td>\n",
       "      <td>NaN</td>\n",
       "      <td>NaN</td>\n",
       "      <td>NaN</td>\n",
       "      <td>NaN</td>\n",
       "      <td>NaN</td>\n",
       "    </tr>\n",
       "    <tr>\n",
       "      <th>...</th>\n",
       "      <td>...</td>\n",
       "      <td>...</td>\n",
       "      <td>...</td>\n",
       "      <td>...</td>\n",
       "      <td>...</td>\n",
       "      <td>...</td>\n",
       "      <td>...</td>\n",
       "      <td>...</td>\n",
       "      <td>...</td>\n",
       "      <td>...</td>\n",
       "      <td>...</td>\n",
       "      <td>...</td>\n",
       "      <td>...</td>\n",
       "      <td>...</td>\n",
       "      <td>...</td>\n",
       "      <td>...</td>\n",
       "      <td>...</td>\n",
       "      <td>...</td>\n",
       "      <td>...</td>\n",
       "      <td>...</td>\n",
       "      <td>...</td>\n",
       "    </tr>\n",
       "    <tr>\n",
       "      <th>163</th>\n",
       "      <td>2023-09-26 18:40:22.210</td>\n",
       "      <td>0.0</td>\n",
       "      <td>1.0</td>\n",
       "      <td>0.5</td>\n",
       "      <td>512.0</td>\n",
       "      <td>2415.44</td>\n",
       "      <td>3.598</td>\n",
       "      <td>226.0</td>\n",
       "      <td>5.0</td>\n",
       "      <td>4.0</td>\n",
       "      <td>...</td>\n",
       "      <td>0.322</td>\n",
       "      <td>0.739</td>\n",
       "      <td>5.0</td>\n",
       "      <td>5.0</td>\n",
       "      <td>1.5</td>\n",
       "      <td>NaN</td>\n",
       "      <td>NaN</td>\n",
       "      <td>NaN</td>\n",
       "      <td>NaN</td>\n",
       "      <td>20.0</td>\n",
       "    </tr>\n",
       "    <tr>\n",
       "      <th>164</th>\n",
       "      <td>2023-09-26 18:40:53.360</td>\n",
       "      <td>0.0</td>\n",
       "      <td>1.0</td>\n",
       "      <td>0.5</td>\n",
       "      <td>512.0</td>\n",
       "      <td>2415.44</td>\n",
       "      <td>3.598</td>\n",
       "      <td>226.0</td>\n",
       "      <td>5.0</td>\n",
       "      <td>4.0</td>\n",
       "      <td>...</td>\n",
       "      <td>0.322</td>\n",
       "      <td>0.739</td>\n",
       "      <td>5.0</td>\n",
       "      <td>5.0</td>\n",
       "      <td>1.5</td>\n",
       "      <td>NaN</td>\n",
       "      <td>NaN</td>\n",
       "      <td>NaN</td>\n",
       "      <td>NaN</td>\n",
       "      <td>20.0</td>\n",
       "    </tr>\n",
       "    <tr>\n",
       "      <th>165</th>\n",
       "      <td>2023-09-26 18:41:19.480</td>\n",
       "      <td>0.0</td>\n",
       "      <td>1.0</td>\n",
       "      <td>0.5</td>\n",
       "      <td>512.0</td>\n",
       "      <td>2415.44</td>\n",
       "      <td>3.598</td>\n",
       "      <td>226.0</td>\n",
       "      <td>5.0</td>\n",
       "      <td>4.0</td>\n",
       "      <td>...</td>\n",
       "      <td>0.322</td>\n",
       "      <td>0.739</td>\n",
       "      <td>5.0</td>\n",
       "      <td>5.0</td>\n",
       "      <td>1.5</td>\n",
       "      <td>NaN</td>\n",
       "      <td>NaN</td>\n",
       "      <td>NaN</td>\n",
       "      <td>NaN</td>\n",
       "      <td>20.0</td>\n",
       "    </tr>\n",
       "    <tr>\n",
       "      <th>166</th>\n",
       "      <td>2023-09-26 18:41:42.780</td>\n",
       "      <td>0.0</td>\n",
       "      <td>1.0</td>\n",
       "      <td>0.5</td>\n",
       "      <td>512.0</td>\n",
       "      <td>2415.44</td>\n",
       "      <td>3.598</td>\n",
       "      <td>226.0</td>\n",
       "      <td>5.0</td>\n",
       "      <td>4.0</td>\n",
       "      <td>...</td>\n",
       "      <td>0.322</td>\n",
       "      <td>0.739</td>\n",
       "      <td>5.0</td>\n",
       "      <td>5.0</td>\n",
       "      <td>1.5</td>\n",
       "      <td>NaN</td>\n",
       "      <td>NaN</td>\n",
       "      <td>NaN</td>\n",
       "      <td>NaN</td>\n",
       "      <td>20.0</td>\n",
       "    </tr>\n",
       "    <tr>\n",
       "      <th>167</th>\n",
       "      <td>2023-09-26 18:42:10.560</td>\n",
       "      <td>0.0</td>\n",
       "      <td>1.0</td>\n",
       "      <td>0.5</td>\n",
       "      <td>512.0</td>\n",
       "      <td>2415.44</td>\n",
       "      <td>3.598</td>\n",
       "      <td>226.0</td>\n",
       "      <td>5.0</td>\n",
       "      <td>4.0</td>\n",
       "      <td>...</td>\n",
       "      <td>0.322</td>\n",
       "      <td>0.739</td>\n",
       "      <td>5.0</td>\n",
       "      <td>5.0</td>\n",
       "      <td>1.5</td>\n",
       "      <td>NaN</td>\n",
       "      <td>NaN</td>\n",
       "      <td>NaN</td>\n",
       "      <td>NaN</td>\n",
       "      <td>20.0</td>\n",
       "    </tr>\n",
       "  </tbody>\n",
       "</table>\n",
       "<p>168 rows × 30 columns</p>\n",
       "</div>"
      ],
      "text/plain": [
       "                       time  IterationNum  IterationCount  wait  \\\n",
       "0   2023-09-26 12:07:23.520           0.0             1.0   0.0   \n",
       "1   2023-09-26 12:14:23.510           0.0             1.0   0.0   \n",
       "2   2023-09-26 12:22:41.380           0.0             1.0   0.0   \n",
       "3   2023-09-26 12:27:51.560           0.0             1.0   0.5   \n",
       "4   2023-09-26 12:28:05.740           0.0             1.0   0.5   \n",
       "..                      ...           ...             ...   ...   \n",
       "163 2023-09-26 18:40:22.210           0.0             1.0   0.5   \n",
       "164 2023-09-26 18:40:53.360           0.0             1.0   0.5   \n",
       "165 2023-09-26 18:41:19.480           0.0             1.0   0.5   \n",
       "166 2023-09-26 18:41:42.780           0.0             1.0   0.5   \n",
       "167 2023-09-26 18:42:10.560           0.0             1.0   0.5   \n",
       "\n",
       "     AndorROIheight  AndorShortExpDelay_us  LFImg  LF_AOM_freq  time_compress  \\\n",
       "0             512.0                2415.44  3.598        226.0            5.0   \n",
       "1             512.0                2415.44  3.598        226.0            5.0   \n",
       "2             512.0                2415.44  3.598        226.0            5.0   \n",
       "3             512.0                2415.44  3.598        226.0            5.0   \n",
       "4             512.0                2415.44  3.598        226.0            5.0   \n",
       "..              ...                    ...    ...          ...            ...   \n",
       "163           512.0                2415.44  3.598        226.0            5.0   \n",
       "164           512.0                2415.44  3.598        226.0            5.0   \n",
       "165           512.0                2415.44  3.598        226.0            5.0   \n",
       "166           512.0                2415.44  3.598        226.0            5.0   \n",
       "167           512.0                2415.44  3.598        226.0            5.0   \n",
       "\n",
       "     MOT/Re_Attn_final_V  ...  CamBiasVoltage  VerticalBiasVoltage  piezoX  \\\n",
       "0                    4.0  ...           0.322                0.377     5.0   \n",
       "1                    4.0  ...           0.322                0.377     5.0   \n",
       "2                    4.0  ...           0.322                0.377     5.0   \n",
       "3                    4.0  ...           0.322                0.377     5.0   \n",
       "4                    4.0  ...           0.322                0.377     5.0   \n",
       "..                   ...  ...             ...                  ...     ...   \n",
       "163                  4.0  ...           0.322                0.739     5.0   \n",
       "164                  4.0  ...           0.322                0.739     5.0   \n",
       "165                  4.0  ...           0.322                0.739     5.0   \n",
       "166                  4.0  ...           0.322                0.739     5.0   \n",
       "167                  4.0  ...           0.322                0.739     5.0   \n",
       "\n",
       "     piezoY  D1Time_ms  High_PD_1  High_PD_2  Evap_Time  Evap_Time_2  \\\n",
       "0       5.0        1.5       1.75       0.25       97.0         50.0   \n",
       "1       5.0        1.5       1.75       0.25       97.0         50.0   \n",
       "2       5.0        1.5       1.75       0.25       97.0         50.0   \n",
       "3       5.0        1.5        NaN        NaN        NaN          NaN   \n",
       "4       5.0        1.5        NaN        NaN        NaN          NaN   \n",
       "..      ...        ...        ...        ...        ...          ...   \n",
       "163     5.0        1.5        NaN        NaN        NaN          NaN   \n",
       "164     5.0        1.5        NaN        NaN        NaN          NaN   \n",
       "165     5.0        1.5        NaN        NaN        NaN          NaN   \n",
       "166     5.0        1.5        NaN        NaN        NaN          NaN   \n",
       "167     5.0        1.5        NaN        NaN        NaN          NaN   \n",
       "\n",
       "     FLIR_Pulse  \n",
       "0          20.0  \n",
       "1          20.0  \n",
       "2          20.0  \n",
       "3           NaN  \n",
       "4           NaN  \n",
       "..          ...  \n",
       "163        20.0  \n",
       "164        20.0  \n",
       "165        20.0  \n",
       "166        20.0  \n",
       "167        20.0  \n",
       "\n",
       "[168 rows x 30 columns]"
      ]
     },
     "execution_count": 276,
     "metadata": {},
     "output_type": "execute_result"
    }
   ],
   "source": [
    "readLog"
   ]
  },
  {
   "cell_type": "code",
   "execution_count": null,
   "id": "6802ced6",
   "metadata": {},
   "outputs": [],
   "source": []
  },
  {
   "cell_type": "code",
   "execution_count": 184,
   "id": "187c3944",
   "metadata": {},
   "outputs": [
    {
     "data": {
      "text/plain": [
       "[[Timestamp('2023-09-15 14:24:20'), 1, 3, 5],\n",
       " [Timestamp('2023-09-15 14:25:55'), 7, 1, 9]]"
      ]
     },
     "execution_count": 184,
     "metadata": {},
     "output_type": "execute_result"
    }
   ],
   "source": [
    "data = [[aa.index[0], 1, 3, 5], [aa.index[3], 7, 1, 9]]\n",
    "data"
   ]
  },
  {
   "cell_type": "code",
   "execution_count": 185,
   "id": "ab942f1c",
   "metadata": {},
   "outputs": [
    {
     "data": {
      "text/html": [
       "<div>\n",
       "<style scoped>\n",
       "    .dataframe tbody tr th:only-of-type {\n",
       "        vertical-align: middle;\n",
       "    }\n",
       "\n",
       "    .dataframe tbody tr th {\n",
       "        vertical-align: top;\n",
       "    }\n",
       "\n",
       "    .dataframe thead th {\n",
       "        text-align: right;\n",
       "    }\n",
       "</style>\n",
       "<table border=\"1\" class=\"dataframe\">\n",
       "  <thead>\n",
       "    <tr style=\"text-align: right;\">\n",
       "      <th></th>\n",
       "      <th>0</th>\n",
       "      <th>1</th>\n",
       "      <th>2</th>\n",
       "      <th>3</th>\n",
       "    </tr>\n",
       "  </thead>\n",
       "  <tbody>\n",
       "    <tr>\n",
       "      <th>0</th>\n",
       "      <td>2023-09-15 14:24:20</td>\n",
       "      <td>1</td>\n",
       "      <td>3</td>\n",
       "      <td>5</td>\n",
       "    </tr>\n",
       "    <tr>\n",
       "      <th>1</th>\n",
       "      <td>2023-09-15 14:25:55</td>\n",
       "      <td>7</td>\n",
       "      <td>1</td>\n",
       "      <td>9</td>\n",
       "    </tr>\n",
       "  </tbody>\n",
       "</table>\n",
       "</div>"
      ],
      "text/plain": [
       "                    0  1  2  3\n",
       "0 2023-09-15 14:24:20  1  3  5\n",
       "1 2023-09-15 14:25:55  7  1  9"
      ]
     },
     "execution_count": 185,
     "metadata": {},
     "output_type": "execute_result"
    }
   ],
   "source": [
    "pd.DataFrame(data)"
   ]
  },
  {
   "cell_type": "code",
   "execution_count": 193,
   "id": "6bd77361",
   "metadata": {},
   "outputs": [
    {
     "data": {
      "text/html": [
       "<div>\n",
       "<style scoped>\n",
       "    .dataframe tbody tr th:only-of-type {\n",
       "        vertical-align: middle;\n",
       "    }\n",
       "\n",
       "    .dataframe tbody tr th {\n",
       "        vertical-align: top;\n",
       "    }\n",
       "\n",
       "    .dataframe thead th {\n",
       "        text-align: right;\n",
       "    }\n",
       "</style>\n",
       "<table border=\"1\" class=\"dataframe\">\n",
       "  <thead>\n",
       "    <tr style=\"text-align: right;\">\n",
       "      <th></th>\n",
       "      <th>time</th>\n",
       "      <th>x</th>\n",
       "      <th>y</th>\n",
       "      <th>z</th>\n",
       "    </tr>\n",
       "  </thead>\n",
       "  <tbody>\n",
       "    <tr>\n",
       "      <th>0</th>\n",
       "      <td>2023-09-15 14:24:20</td>\n",
       "      <td>1</td>\n",
       "      <td>3</td>\n",
       "      <td>5</td>\n",
       "    </tr>\n",
       "    <tr>\n",
       "      <th>1</th>\n",
       "      <td>2023-09-15 14:25:55</td>\n",
       "      <td>7</td>\n",
       "      <td>1</td>\n",
       "      <td>9</td>\n",
       "    </tr>\n",
       "  </tbody>\n",
       "</table>\n",
       "</div>"
      ],
      "text/plain": [
       "                 time  x  y  z\n",
       "0 2023-09-15 14:24:20  1  3  5\n",
       "1 2023-09-15 14:25:55  7  1  9"
      ]
     },
     "execution_count": 193,
     "metadata": {},
     "output_type": "execute_result"
    }
   ],
   "source": [
    "df = pd.DataFrame(data, columns=['time', 'x', 'y', 'z'])\n",
    "df"
   ]
  },
  {
   "cell_type": "code",
   "execution_count": null,
   "id": "dabcdf4b-dc17-4155-93a5-6cbf149f60c5",
   "metadata": {},
   "outputs": [],
   "source": []
  },
  {
   "cell_type": "code",
   "execution_count": null,
   "id": "2614eee2-7bfd-40d4-b800-cbb488c295a6",
   "metadata": {},
   "outputs": [],
   "source": []
  },
  {
   "cell_type": "code",
   "execution_count": 8,
   "id": "19727eac",
   "metadata": {
    "scrolled": true
   },
   "outputs": [
    {
     "data": {
      "text/plain": [
       "array([[ 0,  1,  2,  3,  4],\n",
       "       [ 5,  6,  7,  8,  9],\n",
       "       [10, 11, 12, 13, 14],\n",
       "       [15, 16, 17, 18, 19],\n",
       "       [20, 21, 22, 23, 24],\n",
       "       [25, 26, 27, 28, 29]])"
      ]
     },
     "execution_count": 8,
     "metadata": {},
     "output_type": "execute_result"
    }
   ],
   "source": [
    "array = np.arange(30).reshape(6,5)\n",
    "array"
   ]
  },
  {
   "cell_type": "code",
   "execution_count": 9,
   "id": "76f38c9a",
   "metadata": {
    "scrolled": true
   },
   "outputs": [
    {
     "data": {
      "text/html": [
       "<div>\n",
       "<style scoped>\n",
       "    .dataframe tbody tr th:only-of-type {\n",
       "        vertical-align: middle;\n",
       "    }\n",
       "\n",
       "    .dataframe tbody tr th {\n",
       "        vertical-align: top;\n",
       "    }\n",
       "\n",
       "    .dataframe thead th {\n",
       "        text-align: right;\n",
       "    }\n",
       "</style>\n",
       "<table border=\"1\" class=\"dataframe\">\n",
       "  <thead>\n",
       "    <tr style=\"text-align: right;\">\n",
       "      <th></th>\n",
       "      <th>A</th>\n",
       "      <th>B</th>\n",
       "      <th>C</th>\n",
       "      <th>D</th>\n",
       "      <th>E</th>\n",
       "    </tr>\n",
       "    <tr>\n",
       "      <th>ind</th>\n",
       "      <th></th>\n",
       "      <th></th>\n",
       "      <th></th>\n",
       "      <th></th>\n",
       "      <th></th>\n",
       "    </tr>\n",
       "  </thead>\n",
       "  <tbody>\n",
       "    <tr>\n",
       "      <th>a</th>\n",
       "      <td>0</td>\n",
       "      <td>1</td>\n",
       "      <td>2</td>\n",
       "      <td>3</td>\n",
       "      <td>4</td>\n",
       "    </tr>\n",
       "    <tr>\n",
       "      <th>b</th>\n",
       "      <td>5</td>\n",
       "      <td>6</td>\n",
       "      <td>7</td>\n",
       "      <td>8</td>\n",
       "      <td>9</td>\n",
       "    </tr>\n",
       "    <tr>\n",
       "      <th>c</th>\n",
       "      <td>10</td>\n",
       "      <td>11</td>\n",
       "      <td>12</td>\n",
       "      <td>13</td>\n",
       "      <td>14</td>\n",
       "    </tr>\n",
       "    <tr>\n",
       "      <th>d</th>\n",
       "      <td>15</td>\n",
       "      <td>16</td>\n",
       "      <td>17</td>\n",
       "      <td>18</td>\n",
       "      <td>19</td>\n",
       "    </tr>\n",
       "    <tr>\n",
       "      <th>e</th>\n",
       "      <td>20</td>\n",
       "      <td>21</td>\n",
       "      <td>22</td>\n",
       "      <td>23</td>\n",
       "      <td>24</td>\n",
       "    </tr>\n",
       "    <tr>\n",
       "      <th>f</th>\n",
       "      <td>25</td>\n",
       "      <td>26</td>\n",
       "      <td>27</td>\n",
       "      <td>28</td>\n",
       "      <td>29</td>\n",
       "    </tr>\n",
       "  </tbody>\n",
       "</table>\n",
       "</div>"
      ],
      "text/plain": [
       "      A   B   C   D   E\n",
       "ind                    \n",
       "a     0   1   2   3   4\n",
       "b     5   6   7   8   9\n",
       "c    10  11  12  13  14\n",
       "d    15  16  17  18  19\n",
       "e    20  21  22  23  24\n",
       "f    25  26  27  28  29"
      ]
     },
     "execution_count": 9,
     "metadata": {},
     "output_type": "execute_result"
    }
   ],
   "source": [
    "df = pd.DataFrame(array, columns = ['A', 'B', 'C', 'D', 'E'], index = ['a', 'b','c','d','e','f']).rename_axis('ind')\n",
    "df"
   ]
  },
  {
   "cell_type": "code",
   "execution_count": 11,
   "id": "a14f31f7",
   "metadata": {},
   "outputs": [
    {
     "data": {
      "text/plain": [
       "ind\n",
       "a    E\n",
       "b    E\n",
       "c    E\n",
       "d    E\n",
       "e    E\n",
       "f    E\n",
       "dtype: object"
      ]
     },
     "execution_count": 11,
     "metadata": {},
     "output_type": "execute_result"
    }
   ],
   "source": [
    "df.idxmax(axis=1)"
   ]
  },
  {
   "cell_type": "code",
   "execution_count": 11,
   "id": "3938c521",
   "metadata": {},
   "outputs": [
    {
     "data": {
      "text/html": [
       "<div>\n",
       "<style scoped>\n",
       "    .dataframe tbody tr th:only-of-type {\n",
       "        vertical-align: middle;\n",
       "    }\n",
       "\n",
       "    .dataframe tbody tr th {\n",
       "        vertical-align: top;\n",
       "    }\n",
       "\n",
       "    .dataframe thead th {\n",
       "        text-align: right;\n",
       "    }\n",
       "</style>\n",
       "<table border=\"1\" class=\"dataframe\">\n",
       "  <thead>\n",
       "    <tr style=\"text-align: right;\">\n",
       "      <th></th>\n",
       "      <th>A</th>\n",
       "      <th>B</th>\n",
       "    </tr>\n",
       "    <tr>\n",
       "      <th>ind</th>\n",
       "      <th></th>\n",
       "      <th></th>\n",
       "    </tr>\n",
       "  </thead>\n",
       "  <tbody>\n",
       "    <tr>\n",
       "      <th>a</th>\n",
       "      <td>0</td>\n",
       "      <td>1</td>\n",
       "    </tr>\n",
       "    <tr>\n",
       "      <th>b</th>\n",
       "      <td>5</td>\n",
       "      <td>6</td>\n",
       "    </tr>\n",
       "    <tr>\n",
       "      <th>c</th>\n",
       "      <td>10</td>\n",
       "      <td>11</td>\n",
       "    </tr>\n",
       "    <tr>\n",
       "      <th>d</th>\n",
       "      <td>15</td>\n",
       "      <td>16</td>\n",
       "    </tr>\n",
       "  </tbody>\n",
       "</table>\n",
       "</div>"
      ],
      "text/plain": [
       "      A   B\n",
       "ind        \n",
       "a     0   1\n",
       "b     5   6\n",
       "c    10  11\n",
       "d    15  16"
      ]
     },
     "execution_count": 11,
     "metadata": {},
     "output_type": "execute_result"
    }
   ],
   "source": [
    "df[['A','B']][df.B<20]"
   ]
  },
  {
   "cell_type": "code",
   "execution_count": null,
   "id": "8d6ac114",
   "metadata": {},
   "outputs": [],
   "source": []
  },
  {
   "cell_type": "code",
   "execution_count": 12,
   "id": "47899e7e-a203-4c40-a96e-04f95d2fb6dd",
   "metadata": {},
   "outputs": [
    {
     "data": {
      "text/plain": [
       "array([[[ 0,  1],\n",
       "        [ 2,  3]],\n",
       "\n",
       "       [[ 4,  5],\n",
       "        [ 6,  7]],\n",
       "\n",
       "       [[ 8,  9],\n",
       "        [10, 11]],\n",
       "\n",
       "       [[12, 13],\n",
       "        [14, 15]],\n",
       "\n",
       "       [[16, 17],\n",
       "        [18, 19]],\n",
       "\n",
       "       [[20, 21],\n",
       "        [22, 23]]])"
      ]
     },
     "execution_count": 12,
     "metadata": {},
     "output_type": "execute_result"
    }
   ],
   "source": [
    "aa = np.arange(24).reshape(6,2,2)\n",
    "aa"
   ]
  },
  {
   "cell_type": "code",
   "execution_count": 13,
   "id": "c8a41a40-89fe-4f65-a9c5-c7bbdba40d99",
   "metadata": {},
   "outputs": [],
   "source": [
    "df.A = list(aa)"
   ]
  },
  {
   "cell_type": "code",
   "execution_count": 14,
   "id": "073ba821-912a-47ea-8fea-1d92c1ff6b45",
   "metadata": {},
   "outputs": [
    {
     "data": {
      "text/html": [
       "<div>\n",
       "<style scoped>\n",
       "    .dataframe tbody tr th:only-of-type {\n",
       "        vertical-align: middle;\n",
       "    }\n",
       "\n",
       "    .dataframe tbody tr th {\n",
       "        vertical-align: top;\n",
       "    }\n",
       "\n",
       "    .dataframe thead th {\n",
       "        text-align: right;\n",
       "    }\n",
       "</style>\n",
       "<table border=\"1\" class=\"dataframe\">\n",
       "  <thead>\n",
       "    <tr style=\"text-align: right;\">\n",
       "      <th></th>\n",
       "      <th>A</th>\n",
       "      <th>B</th>\n",
       "      <th>C</th>\n",
       "      <th>D</th>\n",
       "      <th>E</th>\n",
       "    </tr>\n",
       "    <tr>\n",
       "      <th>ind</th>\n",
       "      <th></th>\n",
       "      <th></th>\n",
       "      <th></th>\n",
       "      <th></th>\n",
       "      <th></th>\n",
       "    </tr>\n",
       "  </thead>\n",
       "  <tbody>\n",
       "    <tr>\n",
       "      <th>a</th>\n",
       "      <td>[[0, 1], [2, 3]]</td>\n",
       "      <td>1</td>\n",
       "      <td>2</td>\n",
       "      <td>3</td>\n",
       "      <td>4</td>\n",
       "    </tr>\n",
       "    <tr>\n",
       "      <th>b</th>\n",
       "      <td>[[4, 5], [6, 7]]</td>\n",
       "      <td>6</td>\n",
       "      <td>7</td>\n",
       "      <td>8</td>\n",
       "      <td>9</td>\n",
       "    </tr>\n",
       "    <tr>\n",
       "      <th>c</th>\n",
       "      <td>[[8, 9], [10, 11]]</td>\n",
       "      <td>11</td>\n",
       "      <td>12</td>\n",
       "      <td>13</td>\n",
       "      <td>14</td>\n",
       "    </tr>\n",
       "    <tr>\n",
       "      <th>d</th>\n",
       "      <td>[[12, 13], [14, 15]]</td>\n",
       "      <td>16</td>\n",
       "      <td>17</td>\n",
       "      <td>18</td>\n",
       "      <td>19</td>\n",
       "    </tr>\n",
       "    <tr>\n",
       "      <th>e</th>\n",
       "      <td>[[16, 17], [18, 19]]</td>\n",
       "      <td>21</td>\n",
       "      <td>22</td>\n",
       "      <td>23</td>\n",
       "      <td>24</td>\n",
       "    </tr>\n",
       "    <tr>\n",
       "      <th>f</th>\n",
       "      <td>[[20, 21], [22, 23]]</td>\n",
       "      <td>26</td>\n",
       "      <td>27</td>\n",
       "      <td>28</td>\n",
       "      <td>29</td>\n",
       "    </tr>\n",
       "  </tbody>\n",
       "</table>\n",
       "</div>"
      ],
      "text/plain": [
       "                        A   B   C   D   E\n",
       "ind                                      \n",
       "a        [[0, 1], [2, 3]]   1   2   3   4\n",
       "b        [[4, 5], [6, 7]]   6   7   8   9\n",
       "c      [[8, 9], [10, 11]]  11  12  13  14\n",
       "d    [[12, 13], [14, 15]]  16  17  18  19\n",
       "e    [[16, 17], [18, 19]]  21  22  23  24\n",
       "f    [[20, 21], [22, 23]]  26  27  28  29"
      ]
     },
     "execution_count": 14,
     "metadata": {},
     "output_type": "execute_result"
    }
   ],
   "source": [
    "df"
   ]
  },
  {
   "cell_type": "code",
   "execution_count": null,
   "id": "6b11205d-800f-4220-aa8e-9f3fc0c596ce",
   "metadata": {},
   "outputs": [],
   "source": []
  },
  {
   "cell_type": "code",
   "execution_count": 66,
   "id": "1fdef624-20ee-46ea-af22-6bccc8b21468",
   "metadata": {},
   "outputs": [
    {
     "data": {
      "text/html": [
       "<div>\n",
       "<style scoped>\n",
       "    .dataframe tbody tr th:only-of-type {\n",
       "        vertical-align: middle;\n",
       "    }\n",
       "\n",
       "    .dataframe tbody tr th {\n",
       "        vertical-align: top;\n",
       "    }\n",
       "\n",
       "    .dataframe thead th {\n",
       "        text-align: right;\n",
       "    }\n",
       "</style>\n",
       "<table border=\"1\" class=\"dataframe\">\n",
       "  <thead>\n",
       "    <tr style=\"text-align: right;\">\n",
       "      <th></th>\n",
       "      <th>A</th>\n",
       "      <th>B</th>\n",
       "      <th>C</th>\n",
       "      <th>D</th>\n",
       "      <th>E</th>\n",
       "    </tr>\n",
       "    <tr>\n",
       "      <th>ind</th>\n",
       "      <th></th>\n",
       "      <th></th>\n",
       "      <th></th>\n",
       "      <th></th>\n",
       "      <th></th>\n",
       "    </tr>\n",
       "  </thead>\n",
       "  <tbody>\n",
       "    <tr>\n",
       "      <th>b</th>\n",
       "      <td>[[4, 5], [6, 7]]</td>\n",
       "      <td>6</td>\n",
       "      <td>7</td>\n",
       "      <td>8</td>\n",
       "      <td>9</td>\n",
       "    </tr>\n",
       "    <tr>\n",
       "      <th>c</th>\n",
       "      <td>[[8, 9], [10, 11]]</td>\n",
       "      <td>11</td>\n",
       "      <td>12</td>\n",
       "      <td>13</td>\n",
       "      <td>14</td>\n",
       "    </tr>\n",
       "    <tr>\n",
       "      <th>d</th>\n",
       "      <td>[[12, 13], [14, 15]]</td>\n",
       "      <td>16</td>\n",
       "      <td>17</td>\n",
       "      <td>18</td>\n",
       "      <td>19</td>\n",
       "    </tr>\n",
       "    <tr>\n",
       "      <th>e</th>\n",
       "      <td>[[16, 17], [18, 19]]</td>\n",
       "      <td>21</td>\n",
       "      <td>22</td>\n",
       "      <td>23</td>\n",
       "      <td>24</td>\n",
       "    </tr>\n",
       "    <tr>\n",
       "      <th>f</th>\n",
       "      <td>[[20, 21], [22, 23]]</td>\n",
       "      <td>26</td>\n",
       "      <td>27</td>\n",
       "      <td>28</td>\n",
       "      <td>29</td>\n",
       "    </tr>\n",
       "  </tbody>\n",
       "</table>\n",
       "</div>"
      ],
      "text/plain": [
       "                        A   B   C   D   E\n",
       "ind                                      \n",
       "b        [[4, 5], [6, 7]]   6   7   8   9\n",
       "c      [[8, 9], [10, 11]]  11  12  13  14\n",
       "d    [[12, 13], [14, 15]]  16  17  18  19\n",
       "e    [[16, 17], [18, 19]]  21  22  23  24\n",
       "f    [[20, 21], [22, 23]]  26  27  28  29"
      ]
     },
     "execution_count": 66,
     "metadata": {},
     "output_type": "execute_result"
    }
   ],
   "source": [
    "df.drop('a')"
   ]
  },
  {
   "cell_type": "code",
   "execution_count": 15,
   "id": "6d484008-d88e-4e24-aff1-4e63abf124de",
   "metadata": {},
   "outputs": [
    {
     "data": {
      "text/html": [
       "<div>\n",
       "<style scoped>\n",
       "    .dataframe tbody tr th:only-of-type {\n",
       "        vertical-align: middle;\n",
       "    }\n",
       "\n",
       "    .dataframe tbody tr th {\n",
       "        vertical-align: top;\n",
       "    }\n",
       "\n",
       "    .dataframe thead th {\n",
       "        text-align: right;\n",
       "    }\n",
       "</style>\n",
       "<table border=\"1\" class=\"dataframe\">\n",
       "  <thead>\n",
       "    <tr style=\"text-align: right;\">\n",
       "      <th></th>\n",
       "      <th>A</th>\n",
       "      <th>B</th>\n",
       "      <th>C</th>\n",
       "      <th>D</th>\n",
       "      <th>E</th>\n",
       "    </tr>\n",
       "    <tr>\n",
       "      <th>ind</th>\n",
       "      <th></th>\n",
       "      <th></th>\n",
       "      <th></th>\n",
       "      <th></th>\n",
       "      <th></th>\n",
       "    </tr>\n",
       "  </thead>\n",
       "  <tbody>\n",
       "    <tr>\n",
       "      <th>a</th>\n",
       "      <td>[[0, 1], [2, 3]]</td>\n",
       "      <td>1</td>\n",
       "      <td>2</td>\n",
       "      <td>3</td>\n",
       "      <td>4</td>\n",
       "    </tr>\n",
       "    <tr>\n",
       "      <th>b</th>\n",
       "      <td>[[4, 5], [6, 7]]</td>\n",
       "      <td>6</td>\n",
       "      <td>7</td>\n",
       "      <td>8</td>\n",
       "      <td>9</td>\n",
       "    </tr>\n",
       "    <tr>\n",
       "      <th>c</th>\n",
       "      <td>[[8, 9], [10, 11]]</td>\n",
       "      <td>11</td>\n",
       "      <td>12</td>\n",
       "      <td>13</td>\n",
       "      <td>14</td>\n",
       "    </tr>\n",
       "    <tr>\n",
       "      <th>d</th>\n",
       "      <td>[[12, 13], [14, 15]]</td>\n",
       "      <td>16</td>\n",
       "      <td>17</td>\n",
       "      <td>18</td>\n",
       "      <td>19</td>\n",
       "    </tr>\n",
       "    <tr>\n",
       "      <th>e</th>\n",
       "      <td>[[16, 17], [18, 19]]</td>\n",
       "      <td>21</td>\n",
       "      <td>22</td>\n",
       "      <td>23</td>\n",
       "      <td>24</td>\n",
       "    </tr>\n",
       "    <tr>\n",
       "      <th>f</th>\n",
       "      <td>[[20, 21], [22, 23]]</td>\n",
       "      <td>26</td>\n",
       "      <td>27</td>\n",
       "      <td>28</td>\n",
       "      <td>29</td>\n",
       "    </tr>\n",
       "  </tbody>\n",
       "</table>\n",
       "</div>"
      ],
      "text/plain": [
       "                        A   B   C   D   E\n",
       "ind                                      \n",
       "a        [[0, 1], [2, 3]]   1   2   3   4\n",
       "b        [[4, 5], [6, 7]]   6   7   8   9\n",
       "c      [[8, 9], [10, 11]]  11  12  13  14\n",
       "d    [[12, 13], [14, 15]]  16  17  18  19\n",
       "e    [[16, 17], [18, 19]]  21  22  23  24\n",
       "f    [[20, 21], [22, 23]]  26  27  28  29"
      ]
     },
     "execution_count": 15,
     "metadata": {},
     "output_type": "execute_result"
    }
   ],
   "source": [
    "df"
   ]
  },
  {
   "cell_type": "code",
   "execution_count": 18,
   "id": "22d07524-4377-4105-b665-fd6dcc091a31",
   "metadata": {},
   "outputs": [
    {
     "data": {
      "text/html": [
       "<div>\n",
       "<style scoped>\n",
       "    .dataframe tbody tr th:only-of-type {\n",
       "        vertical-align: middle;\n",
       "    }\n",
       "\n",
       "    .dataframe tbody tr th {\n",
       "        vertical-align: top;\n",
       "    }\n",
       "\n",
       "    .dataframe thead th {\n",
       "        text-align: right;\n",
       "    }\n",
       "</style>\n",
       "<table border=\"1\" class=\"dataframe\">\n",
       "  <thead>\n",
       "    <tr style=\"text-align: right;\">\n",
       "      <th></th>\n",
       "      <th>A</th>\n",
       "      <th>B</th>\n",
       "      <th>C</th>\n",
       "      <th>D</th>\n",
       "      <th>E</th>\n",
       "    </tr>\n",
       "    <tr>\n",
       "      <th>ind</th>\n",
       "      <th></th>\n",
       "      <th></th>\n",
       "      <th></th>\n",
       "      <th></th>\n",
       "      <th></th>\n",
       "    </tr>\n",
       "  </thead>\n",
       "  <tbody>\n",
       "    <tr>\n",
       "      <th>a</th>\n",
       "      <td>[[0, 1], [2, 3]]</td>\n",
       "      <td>1</td>\n",
       "      <td>2</td>\n",
       "      <td>3</td>\n",
       "      <td>4</td>\n",
       "    </tr>\n",
       "    <tr>\n",
       "      <th>b</th>\n",
       "      <td>[[4, 5], [6, 7]]</td>\n",
       "      <td>6</td>\n",
       "      <td>7</td>\n",
       "      <td>8</td>\n",
       "      <td>9</td>\n",
       "    </tr>\n",
       "    <tr>\n",
       "      <th>c</th>\n",
       "      <td>[[8, 9], [10, 11]]</td>\n",
       "      <td>11</td>\n",
       "      <td>12</td>\n",
       "      <td>13</td>\n",
       "      <td>14</td>\n",
       "    </tr>\n",
       "    <tr>\n",
       "      <th>d</th>\n",
       "      <td>[[12, 13], [14, 15]]</td>\n",
       "      <td>16</td>\n",
       "      <td>17</td>\n",
       "      <td>18</td>\n",
       "      <td>19</td>\n",
       "    </tr>\n",
       "    <tr>\n",
       "      <th>e</th>\n",
       "      <td>[[16, 17], [18, 19]]</td>\n",
       "      <td>21</td>\n",
       "      <td>22</td>\n",
       "      <td>23</td>\n",
       "      <td>24</td>\n",
       "    </tr>\n",
       "    <tr>\n",
       "      <th>f</th>\n",
       "      <td>[[20, 21], [22, 23]]</td>\n",
       "      <td>26</td>\n",
       "      <td>27</td>\n",
       "      <td>28</td>\n",
       "      <td>29</td>\n",
       "    </tr>\n",
       "  </tbody>\n",
       "</table>\n",
       "</div>"
      ],
      "text/plain": [
       "                        A   B   C   D   E\n",
       "ind                                      \n",
       "a        [[0, 1], [2, 3]]   1   2   3   4\n",
       "b        [[4, 5], [6, 7]]   6   7   8   9\n",
       "c      [[8, 9], [10, 11]]  11  12  13  14\n",
       "d    [[12, 13], [14, 15]]  16  17  18  19\n",
       "e    [[16, 17], [18, 19]]  21  22  23  24\n",
       "f    [[20, 21], [22, 23]]  26  27  28  29"
      ]
     },
     "execution_count": 18,
     "metadata": {},
     "output_type": "execute_result"
    }
   ],
   "source": [
    "df"
   ]
  },
  {
   "cell_type": "code",
   "execution_count": null,
   "id": "77607b6b-2519-4d8f-86e9-b88e29ee2d53",
   "metadata": {},
   "outputs": [],
   "source": []
  },
  {
   "cell_type": "code",
   "execution_count": 19,
   "id": "29861160",
   "metadata": {},
   "outputs": [
    {
     "data": {
      "text/html": [
       "<div>\n",
       "<style scoped>\n",
       "    .dataframe tbody tr th:only-of-type {\n",
       "        vertical-align: middle;\n",
       "    }\n",
       "\n",
       "    .dataframe tbody tr th {\n",
       "        vertical-align: top;\n",
       "    }\n",
       "\n",
       "    .dataframe thead th {\n",
       "        text-align: right;\n",
       "    }\n",
       "</style>\n",
       "<table border=\"1\" class=\"dataframe\">\n",
       "  <thead>\n",
       "    <tr style=\"text-align: right;\">\n",
       "      <th></th>\n",
       "      <th>A</th>\n",
       "      <th>B</th>\n",
       "      <th>C</th>\n",
       "      <th>D</th>\n",
       "    </tr>\n",
       "    <tr>\n",
       "      <th>ind</th>\n",
       "      <th></th>\n",
       "      <th></th>\n",
       "      <th></th>\n",
       "      <th></th>\n",
       "    </tr>\n",
       "  </thead>\n",
       "  <tbody>\n",
       "    <tr>\n",
       "      <th>a</th>\n",
       "      <td>[[0, 1], [2, 3]]</td>\n",
       "      <td>1</td>\n",
       "      <td>2</td>\n",
       "      <td>3</td>\n",
       "    </tr>\n",
       "    <tr>\n",
       "      <th>b</th>\n",
       "      <td>[[4, 5], [6, 7]]</td>\n",
       "      <td>6</td>\n",
       "      <td>7</td>\n",
       "      <td>8</td>\n",
       "    </tr>\n",
       "    <tr>\n",
       "      <th>c</th>\n",
       "      <td>[[8, 9], [10, 11]]</td>\n",
       "      <td>11</td>\n",
       "      <td>12</td>\n",
       "      <td>13</td>\n",
       "    </tr>\n",
       "    <tr>\n",
       "      <th>d</th>\n",
       "      <td>[[12, 13], [14, 15]]</td>\n",
       "      <td>16</td>\n",
       "      <td>17</td>\n",
       "      <td>18</td>\n",
       "    </tr>\n",
       "    <tr>\n",
       "      <th>e</th>\n",
       "      <td>[[16, 17], [18, 19]]</td>\n",
       "      <td>21</td>\n",
       "      <td>22</td>\n",
       "      <td>23</td>\n",
       "    </tr>\n",
       "  </tbody>\n",
       "</table>\n",
       "</div>"
      ],
      "text/plain": [
       "                        A   B   C   D\n",
       "ind                                  \n",
       "a        [[0, 1], [2, 3]]   1   2   3\n",
       "b        [[4, 5], [6, 7]]   6   7   8\n",
       "c      [[8, 9], [10, 11]]  11  12  13\n",
       "d    [[12, 13], [14, 15]]  16  17  18\n",
       "e    [[16, 17], [18, 19]]  21  22  23"
      ]
     },
     "execution_count": 19,
     "metadata": {},
     "output_type": "execute_result"
    }
   ],
   "source": [
    "df1 = df.iloc[0:-1, 0:-1].copy()\n",
    "df2 = df.iloc[1:, 1:].copy()\n",
    "df3 = df2.copy()\n",
    "# df3.B[0]=99\n",
    "df1"
   ]
  },
  {
   "cell_type": "code",
   "execution_count": 20,
   "id": "de5a1b50",
   "metadata": {},
   "outputs": [
    {
     "data": {
      "text/html": [
       "<div>\n",
       "<style scoped>\n",
       "    .dataframe tbody tr th:only-of-type {\n",
       "        vertical-align: middle;\n",
       "    }\n",
       "\n",
       "    .dataframe tbody tr th {\n",
       "        vertical-align: top;\n",
       "    }\n",
       "\n",
       "    .dataframe thead th {\n",
       "        text-align: right;\n",
       "    }\n",
       "</style>\n",
       "<table border=\"1\" class=\"dataframe\">\n",
       "  <thead>\n",
       "    <tr style=\"text-align: right;\">\n",
       "      <th></th>\n",
       "      <th>B</th>\n",
       "      <th>C</th>\n",
       "      <th>D</th>\n",
       "      <th>E</th>\n",
       "    </tr>\n",
       "    <tr>\n",
       "      <th>ind</th>\n",
       "      <th></th>\n",
       "      <th></th>\n",
       "      <th></th>\n",
       "      <th></th>\n",
       "    </tr>\n",
       "  </thead>\n",
       "  <tbody>\n",
       "    <tr>\n",
       "      <th>b</th>\n",
       "      <td>6</td>\n",
       "      <td>7</td>\n",
       "      <td>8</td>\n",
       "      <td>9</td>\n",
       "    </tr>\n",
       "    <tr>\n",
       "      <th>c</th>\n",
       "      <td>11</td>\n",
       "      <td>12</td>\n",
       "      <td>13</td>\n",
       "      <td>14</td>\n",
       "    </tr>\n",
       "    <tr>\n",
       "      <th>d</th>\n",
       "      <td>16</td>\n",
       "      <td>17</td>\n",
       "      <td>18</td>\n",
       "      <td>19</td>\n",
       "    </tr>\n",
       "    <tr>\n",
       "      <th>e</th>\n",
       "      <td>21</td>\n",
       "      <td>22</td>\n",
       "      <td>23</td>\n",
       "      <td>24</td>\n",
       "    </tr>\n",
       "    <tr>\n",
       "      <th>f</th>\n",
       "      <td>26</td>\n",
       "      <td>27</td>\n",
       "      <td>28</td>\n",
       "      <td>29</td>\n",
       "    </tr>\n",
       "  </tbody>\n",
       "</table>\n",
       "</div>"
      ],
      "text/plain": [
       "      B   C   D   E\n",
       "ind                \n",
       "b     6   7   8   9\n",
       "c    11  12  13  14\n",
       "d    16  17  18  19\n",
       "e    21  22  23  24\n",
       "f    26  27  28  29"
      ]
     },
     "execution_count": 20,
     "metadata": {},
     "output_type": "execute_result"
    }
   ],
   "source": [
    "df2"
   ]
  },
  {
   "cell_type": "code",
   "execution_count": 27,
   "id": "63cce893-6384-48c1-9eca-49864dea11a4",
   "metadata": {},
   "outputs": [
    {
     "data": {
      "text/html": [
       "<div>\n",
       "<style scoped>\n",
       "    .dataframe tbody tr th:only-of-type {\n",
       "        vertical-align: middle;\n",
       "    }\n",
       "\n",
       "    .dataframe tbody tr th {\n",
       "        vertical-align: top;\n",
       "    }\n",
       "\n",
       "    .dataframe thead th {\n",
       "        text-align: right;\n",
       "    }\n",
       "</style>\n",
       "<table border=\"1\" class=\"dataframe\">\n",
       "  <thead>\n",
       "    <tr style=\"text-align: right;\">\n",
       "      <th></th>\n",
       "      <th>A</th>\n",
       "      <th>B</th>\n",
       "      <th>C</th>\n",
       "      <th>D</th>\n",
       "      <th>BR</th>\n",
       "      <th>CR</th>\n",
       "      <th>DR</th>\n",
       "      <th>E</th>\n",
       "    </tr>\n",
       "    <tr>\n",
       "      <th>ind</th>\n",
       "      <th></th>\n",
       "      <th></th>\n",
       "      <th></th>\n",
       "      <th></th>\n",
       "      <th></th>\n",
       "      <th></th>\n",
       "      <th></th>\n",
       "      <th></th>\n",
       "    </tr>\n",
       "  </thead>\n",
       "  <tbody>\n",
       "    <tr>\n",
       "      <th>a</th>\n",
       "      <td>[[0, 1], [2, 3]]</td>\n",
       "      <td>1.0</td>\n",
       "      <td>2.0</td>\n",
       "      <td>3.0</td>\n",
       "      <td>NaN</td>\n",
       "      <td>NaN</td>\n",
       "      <td>NaN</td>\n",
       "      <td>NaN</td>\n",
       "    </tr>\n",
       "    <tr>\n",
       "      <th>b</th>\n",
       "      <td>[[4, 5], [6, 7]]</td>\n",
       "      <td>6.0</td>\n",
       "      <td>7.0</td>\n",
       "      <td>8.0</td>\n",
       "      <td>6.0</td>\n",
       "      <td>7.0</td>\n",
       "      <td>8.0</td>\n",
       "      <td>9.0</td>\n",
       "    </tr>\n",
       "    <tr>\n",
       "      <th>c</th>\n",
       "      <td>[[8, 9], [10, 11]]</td>\n",
       "      <td>11.0</td>\n",
       "      <td>12.0</td>\n",
       "      <td>13.0</td>\n",
       "      <td>11.0</td>\n",
       "      <td>12.0</td>\n",
       "      <td>13.0</td>\n",
       "      <td>14.0</td>\n",
       "    </tr>\n",
       "    <tr>\n",
       "      <th>d</th>\n",
       "      <td>[[12, 13], [14, 15]]</td>\n",
       "      <td>16.0</td>\n",
       "      <td>17.0</td>\n",
       "      <td>18.0</td>\n",
       "      <td>16.0</td>\n",
       "      <td>17.0</td>\n",
       "      <td>18.0</td>\n",
       "      <td>19.0</td>\n",
       "    </tr>\n",
       "    <tr>\n",
       "      <th>e</th>\n",
       "      <td>[[16, 17], [18, 19]]</td>\n",
       "      <td>21.0</td>\n",
       "      <td>22.0</td>\n",
       "      <td>23.0</td>\n",
       "      <td>21.0</td>\n",
       "      <td>22.0</td>\n",
       "      <td>23.0</td>\n",
       "      <td>24.0</td>\n",
       "    </tr>\n",
       "    <tr>\n",
       "      <th>f</th>\n",
       "      <td>NaN</td>\n",
       "      <td>NaN</td>\n",
       "      <td>NaN</td>\n",
       "      <td>NaN</td>\n",
       "      <td>26.0</td>\n",
       "      <td>27.0</td>\n",
       "      <td>28.0</td>\n",
       "      <td>29.0</td>\n",
       "    </tr>\n",
       "  </tbody>\n",
       "</table>\n",
       "</div>"
      ],
      "text/plain": [
       "                        A     B     C     D    BR    CR    DR     E\n",
       "ind                                                                \n",
       "a        [[0, 1], [2, 3]]   1.0   2.0   3.0   NaN   NaN   NaN   NaN\n",
       "b        [[4, 5], [6, 7]]   6.0   7.0   8.0   6.0   7.0   8.0   9.0\n",
       "c      [[8, 9], [10, 11]]  11.0  12.0  13.0  11.0  12.0  13.0  14.0\n",
       "d    [[12, 13], [14, 15]]  16.0  17.0  18.0  16.0  17.0  18.0  19.0\n",
       "e    [[16, 17], [18, 19]]  21.0  22.0  23.0  21.0  22.0  23.0  24.0\n",
       "f                     NaN   NaN   NaN   NaN  26.0  27.0  28.0  29.0"
      ]
     },
     "execution_count": 27,
     "metadata": {},
     "output_type": "execute_result"
    }
   ],
   "source": [
    "df1.join(df2, rsuffix='R', how='outer')"
   ]
  },
  {
   "cell_type": "code",
   "execution_count": 22,
   "id": "94658ae8-8e3d-4b37-9a80-fcc49675797f",
   "metadata": {},
   "outputs": [
    {
     "data": {
      "text/html": [
       "<div>\n",
       "<style scoped>\n",
       "    .dataframe tbody tr th:only-of-type {\n",
       "        vertical-align: middle;\n",
       "    }\n",
       "\n",
       "    .dataframe tbody tr th {\n",
       "        vertical-align: top;\n",
       "    }\n",
       "\n",
       "    .dataframe thead th {\n",
       "        text-align: right;\n",
       "    }\n",
       "</style>\n",
       "<table border=\"1\" class=\"dataframe\">\n",
       "  <thead>\n",
       "    <tr style=\"text-align: right;\">\n",
       "      <th></th>\n",
       "      <th>A</th>\n",
       "      <th>B</th>\n",
       "      <th>C</th>\n",
       "      <th>D</th>\n",
       "      <th>B</th>\n",
       "      <th>C</th>\n",
       "      <th>D</th>\n",
       "      <th>E</th>\n",
       "    </tr>\n",
       "    <tr>\n",
       "      <th>ind</th>\n",
       "      <th></th>\n",
       "      <th></th>\n",
       "      <th></th>\n",
       "      <th></th>\n",
       "      <th></th>\n",
       "      <th></th>\n",
       "      <th></th>\n",
       "      <th></th>\n",
       "    </tr>\n",
       "  </thead>\n",
       "  <tbody>\n",
       "    <tr>\n",
       "      <th>a</th>\n",
       "      <td>[[0, 1], [2, 3]]</td>\n",
       "      <td>1.0</td>\n",
       "      <td>2.0</td>\n",
       "      <td>3.0</td>\n",
       "      <td>NaN</td>\n",
       "      <td>NaN</td>\n",
       "      <td>NaN</td>\n",
       "      <td>NaN</td>\n",
       "    </tr>\n",
       "    <tr>\n",
       "      <th>b</th>\n",
       "      <td>[[4, 5], [6, 7]]</td>\n",
       "      <td>6.0</td>\n",
       "      <td>7.0</td>\n",
       "      <td>8.0</td>\n",
       "      <td>6.0</td>\n",
       "      <td>7.0</td>\n",
       "      <td>8.0</td>\n",
       "      <td>9.0</td>\n",
       "    </tr>\n",
       "    <tr>\n",
       "      <th>c</th>\n",
       "      <td>[[8, 9], [10, 11]]</td>\n",
       "      <td>11.0</td>\n",
       "      <td>12.0</td>\n",
       "      <td>13.0</td>\n",
       "      <td>11.0</td>\n",
       "      <td>12.0</td>\n",
       "      <td>13.0</td>\n",
       "      <td>14.0</td>\n",
       "    </tr>\n",
       "    <tr>\n",
       "      <th>d</th>\n",
       "      <td>[[12, 13], [14, 15]]</td>\n",
       "      <td>16.0</td>\n",
       "      <td>17.0</td>\n",
       "      <td>18.0</td>\n",
       "      <td>16.0</td>\n",
       "      <td>17.0</td>\n",
       "      <td>18.0</td>\n",
       "      <td>19.0</td>\n",
       "    </tr>\n",
       "    <tr>\n",
       "      <th>e</th>\n",
       "      <td>[[16, 17], [18, 19]]</td>\n",
       "      <td>21.0</td>\n",
       "      <td>22.0</td>\n",
       "      <td>23.0</td>\n",
       "      <td>21.0</td>\n",
       "      <td>22.0</td>\n",
       "      <td>23.0</td>\n",
       "      <td>24.0</td>\n",
       "    </tr>\n",
       "    <tr>\n",
       "      <th>f</th>\n",
       "      <td>NaN</td>\n",
       "      <td>NaN</td>\n",
       "      <td>NaN</td>\n",
       "      <td>NaN</td>\n",
       "      <td>26.0</td>\n",
       "      <td>27.0</td>\n",
       "      <td>28.0</td>\n",
       "      <td>29.0</td>\n",
       "    </tr>\n",
       "  </tbody>\n",
       "</table>\n",
       "</div>"
      ],
      "text/plain": [
       "                        A     B     C     D     B     C     D     E\n",
       "ind                                                                \n",
       "a        [[0, 1], [2, 3]]   1.0   2.0   3.0   NaN   NaN   NaN   NaN\n",
       "b        [[4, 5], [6, 7]]   6.0   7.0   8.0   6.0   7.0   8.0   9.0\n",
       "c      [[8, 9], [10, 11]]  11.0  12.0  13.0  11.0  12.0  13.0  14.0\n",
       "d    [[12, 13], [14, 15]]  16.0  17.0  18.0  16.0  17.0  18.0  19.0\n",
       "e    [[16, 17], [18, 19]]  21.0  22.0  23.0  21.0  22.0  23.0  24.0\n",
       "f                     NaN   NaN   NaN   NaN  26.0  27.0  28.0  29.0"
      ]
     },
     "execution_count": 22,
     "metadata": {},
     "output_type": "execute_result"
    }
   ],
   "source": [
    "pd.concat([df1, df2], axis=1)"
   ]
  },
  {
   "cell_type": "code",
   "execution_count": 124,
   "id": "23a4de39",
   "metadata": {},
   "outputs": [
    {
     "data": {
      "text/html": [
       "<div>\n",
       "<style scoped>\n",
       "    .dataframe tbody tr th:only-of-type {\n",
       "        vertical-align: middle;\n",
       "    }\n",
       "\n",
       "    .dataframe tbody tr th {\n",
       "        vertical-align: top;\n",
       "    }\n",
       "\n",
       "    .dataframe thead th {\n",
       "        text-align: right;\n",
       "    }\n",
       "</style>\n",
       "<table border=\"1\" class=\"dataframe\">\n",
       "  <thead>\n",
       "    <tr style=\"text-align: right;\">\n",
       "      <th></th>\n",
       "      <th>A</th>\n",
       "      <th>B</th>\n",
       "      <th>C</th>\n",
       "      <th>D</th>\n",
       "    </tr>\n",
       "    <tr>\n",
       "      <th>ind</th>\n",
       "      <th></th>\n",
       "      <th></th>\n",
       "      <th></th>\n",
       "      <th></th>\n",
       "    </tr>\n",
       "  </thead>\n",
       "  <tbody>\n",
       "    <tr>\n",
       "      <th>a</th>\n",
       "      <td>0</td>\n",
       "      <td>1</td>\n",
       "      <td>2</td>\n",
       "      <td>3</td>\n",
       "    </tr>\n",
       "    <tr>\n",
       "      <th>b</th>\n",
       "      <td>5</td>\n",
       "      <td>6</td>\n",
       "      <td>7</td>\n",
       "      <td>8</td>\n",
       "    </tr>\n",
       "    <tr>\n",
       "      <th>c</th>\n",
       "      <td>10</td>\n",
       "      <td>11</td>\n",
       "      <td>12</td>\n",
       "      <td>13</td>\n",
       "    </tr>\n",
       "    <tr>\n",
       "      <th>d</th>\n",
       "      <td>15</td>\n",
       "      <td>16</td>\n",
       "      <td>17</td>\n",
       "      <td>18</td>\n",
       "    </tr>\n",
       "    <tr>\n",
       "      <th>e</th>\n",
       "      <td>20</td>\n",
       "      <td>21</td>\n",
       "      <td>22</td>\n",
       "      <td>23</td>\n",
       "    </tr>\n",
       "  </tbody>\n",
       "</table>\n",
       "</div>"
      ],
      "text/plain": [
       "      A   B   C   D\n",
       "ind                \n",
       "a     0   1   2   3\n",
       "b     5   6   7   8\n",
       "c    10  11  12  13\n",
       "d    15  16  17  18\n",
       "e    20  21  22  23"
      ]
     },
     "execution_count": 124,
     "metadata": {},
     "output_type": "execute_result"
    }
   ],
   "source": [
    "df1"
   ]
  },
  {
   "cell_type": "code",
   "execution_count": 134,
   "id": "259b393b-6b64-4eb5-913f-765841cf1568",
   "metadata": {},
   "outputs": [
    {
     "data": {
      "text/html": [
       "<div>\n",
       "<style scoped>\n",
       "    .dataframe tbody tr th:only-of-type {\n",
       "        vertical-align: middle;\n",
       "    }\n",
       "\n",
       "    .dataframe tbody tr th {\n",
       "        vertical-align: top;\n",
       "    }\n",
       "\n",
       "    .dataframe thead th {\n",
       "        text-align: right;\n",
       "    }\n",
       "</style>\n",
       "<table border=\"1\" class=\"dataframe\">\n",
       "  <thead>\n",
       "    <tr style=\"text-align: right;\">\n",
       "      <th></th>\n",
       "      <th>A</th>\n",
       "      <th>B</th>\n",
       "      <th>C</th>\n",
       "      <th>D</th>\n",
       "    </tr>\n",
       "    <tr>\n",
       "      <th>ind</th>\n",
       "      <th></th>\n",
       "      <th></th>\n",
       "      <th></th>\n",
       "      <th></th>\n",
       "    </tr>\n",
       "  </thead>\n",
       "  <tbody>\n",
       "    <tr>\n",
       "      <th>a</th>\n",
       "      <td>0</td>\n",
       "      <td>1</td>\n",
       "      <td>2</td>\n",
       "      <td>3</td>\n",
       "    </tr>\n",
       "    <tr>\n",
       "      <th>b</th>\n",
       "      <td>5</td>\n",
       "      <td>6</td>\n",
       "      <td>7</td>\n",
       "      <td>8</td>\n",
       "    </tr>\n",
       "  </tbody>\n",
       "</table>\n",
       "</div>"
      ],
      "text/plain": [
       "     A  B  C  D\n",
       "ind            \n",
       "a    0  1  2  3\n",
       "b    5  6  7  8"
      ]
     },
     "execution_count": 134,
     "metadata": {},
     "output_type": "execute_result"
    }
   ],
   "source": [
    "df11 = df1.loc[['a', 'b']]\n",
    "df11"
   ]
  },
  {
   "cell_type": "code",
   "execution_count": 135,
   "id": "56b80033-f490-4f99-a9ad-3b79f5fa85e0",
   "metadata": {},
   "outputs": [
    {
     "data": {
      "text/html": [
       "<div>\n",
       "<style scoped>\n",
       "    .dataframe tbody tr th:only-of-type {\n",
       "        vertical-align: middle;\n",
       "    }\n",
       "\n",
       "    .dataframe tbody tr th {\n",
       "        vertical-align: top;\n",
       "    }\n",
       "\n",
       "    .dataframe thead th {\n",
       "        text-align: right;\n",
       "    }\n",
       "</style>\n",
       "<table border=\"1\" class=\"dataframe\">\n",
       "  <thead>\n",
       "    <tr style=\"text-align: right;\">\n",
       "      <th></th>\n",
       "      <th>A</th>\n",
       "      <th>B</th>\n",
       "      <th>C</th>\n",
       "      <th>D</th>\n",
       "      <th>in</th>\n",
       "    </tr>\n",
       "    <tr>\n",
       "      <th>ind</th>\n",
       "      <th></th>\n",
       "      <th></th>\n",
       "      <th></th>\n",
       "      <th></th>\n",
       "      <th></th>\n",
       "    </tr>\n",
       "  </thead>\n",
       "  <tbody>\n",
       "    <tr>\n",
       "      <th>a</th>\n",
       "      <td>0</td>\n",
       "      <td>1</td>\n",
       "      <td>2</td>\n",
       "      <td>3</td>\n",
       "      <td>33</td>\n",
       "    </tr>\n",
       "    <tr>\n",
       "      <th>b</th>\n",
       "      <td>5</td>\n",
       "      <td>6</td>\n",
       "      <td>7</td>\n",
       "      <td>8</td>\n",
       "      <td>44</td>\n",
       "    </tr>\n",
       "  </tbody>\n",
       "</table>\n",
       "</div>"
      ],
      "text/plain": [
       "     A  B  C  D  in\n",
       "ind                \n",
       "a    0  1  2  3  33\n",
       "b    5  6  7  8  44"
      ]
     },
     "execution_count": 135,
     "metadata": {},
     "output_type": "execute_result"
    }
   ],
   "source": [
    "df11['in'] = [33,44]\n",
    "df11"
   ]
  },
  {
   "cell_type": "code",
   "execution_count": 133,
   "id": "9a31bcfa-7bc3-477a-a21d-2476455ef1b0",
   "metadata": {},
   "outputs": [
    {
     "ename": "ValueError",
     "evalue": "unbounded slice",
     "output_type": "error",
     "traceback": [
      "\u001b[1;31m---------------------------------------------------------------------------\u001b[0m",
      "\u001b[1;31mValueError\u001b[0m                                Traceback (most recent call last)",
      "\u001b[1;32mC:\\Users\\SOMMER~1\\AppData\\Local\\Temp/ipykernel_6624/3238697951.py\u001b[0m in \u001b[0;36m<module>\u001b[1;34m\u001b[0m\n\u001b[1;32m----> 1\u001b[1;33m \u001b[0mdf11\u001b[0m\u001b[1;33m.\u001b[0m\u001b[0minsert\u001b[0m\u001b[1;33m(\u001b[0m\u001b[1;33m-\u001b[0m\u001b[1;36m1\u001b[0m\u001b[1;33m,\u001b[0m \u001b[1;34m'in'\u001b[0m\u001b[1;33m,\u001b[0m \u001b[1;33m[\u001b[0m\u001b[1;36m33\u001b[0m\u001b[1;33m,\u001b[0m\u001b[1;36m44\u001b[0m\u001b[1;33m]\u001b[0m\u001b[1;33m)\u001b[0m\u001b[1;33m\u001b[0m\u001b[1;33m\u001b[0m\u001b[0m\n\u001b[0m\u001b[0;32m      2\u001b[0m \u001b[0mdf11\u001b[0m\u001b[1;33m\u001b[0m\u001b[1;33m\u001b[0m\u001b[0m\n",
      "\u001b[1;32mC:\\ProgramData\\Anaconda3\\lib\\site-packages\\pandas\\core\\frame.py\u001b[0m in \u001b[0;36minsert\u001b[1;34m(self, loc, column, value, allow_duplicates)\u001b[0m\n\u001b[0;32m   4417\u001b[0m \u001b[1;33m\u001b[0m\u001b[0m\n\u001b[0;32m   4418\u001b[0m         \u001b[0mvalue\u001b[0m \u001b[1;33m=\u001b[0m \u001b[0mself\u001b[0m\u001b[1;33m.\u001b[0m\u001b[0m_sanitize_column\u001b[0m\u001b[1;33m(\u001b[0m\u001b[0mvalue\u001b[0m\u001b[1;33m)\u001b[0m\u001b[1;33m\u001b[0m\u001b[1;33m\u001b[0m\u001b[0m\n\u001b[1;32m-> 4419\u001b[1;33m         \u001b[0mself\u001b[0m\u001b[1;33m.\u001b[0m\u001b[0m_mgr\u001b[0m\u001b[1;33m.\u001b[0m\u001b[0minsert\u001b[0m\u001b[1;33m(\u001b[0m\u001b[0mloc\u001b[0m\u001b[1;33m,\u001b[0m \u001b[0mcolumn\u001b[0m\u001b[1;33m,\u001b[0m \u001b[0mvalue\u001b[0m\u001b[1;33m)\u001b[0m\u001b[1;33m\u001b[0m\u001b[1;33m\u001b[0m\u001b[0m\n\u001b[0m\u001b[0;32m   4420\u001b[0m \u001b[1;33m\u001b[0m\u001b[0m\n\u001b[0;32m   4421\u001b[0m     \u001b[1;32mdef\u001b[0m \u001b[0massign\u001b[0m\u001b[1;33m(\u001b[0m\u001b[0mself\u001b[0m\u001b[1;33m,\u001b[0m \u001b[1;33m**\u001b[0m\u001b[0mkwargs\u001b[0m\u001b[1;33m)\u001b[0m \u001b[1;33m->\u001b[0m \u001b[0mDataFrame\u001b[0m\u001b[1;33m:\u001b[0m\u001b[1;33m\u001b[0m\u001b[1;33m\u001b[0m\u001b[0m\n",
      "\u001b[1;32mC:\\ProgramData\\Anaconda3\\lib\\site-packages\\pandas\\core\\internals\\managers.py\u001b[0m in \u001b[0;36minsert\u001b[1;34m(self, loc, item, value)\u001b[0m\n\u001b[0;32m   1160\u001b[0m             \u001b[0mvalue\u001b[0m \u001b[1;33m=\u001b[0m \u001b[0mensure_block_shape\u001b[0m\u001b[1;33m(\u001b[0m\u001b[0mvalue\u001b[0m\u001b[1;33m,\u001b[0m \u001b[0mndim\u001b[0m\u001b[1;33m=\u001b[0m\u001b[0mself\u001b[0m\u001b[1;33m.\u001b[0m\u001b[0mndim\u001b[0m\u001b[1;33m)\u001b[0m\u001b[1;33m\u001b[0m\u001b[1;33m\u001b[0m\u001b[0m\n\u001b[0;32m   1161\u001b[0m \u001b[1;33m\u001b[0m\u001b[0m\n\u001b[1;32m-> 1162\u001b[1;33m         \u001b[0mblock\u001b[0m \u001b[1;33m=\u001b[0m \u001b[0mnew_block\u001b[0m\u001b[1;33m(\u001b[0m\u001b[0mvalues\u001b[0m\u001b[1;33m=\u001b[0m\u001b[0mvalue\u001b[0m\u001b[1;33m,\u001b[0m \u001b[0mndim\u001b[0m\u001b[1;33m=\u001b[0m\u001b[0mself\u001b[0m\u001b[1;33m.\u001b[0m\u001b[0mndim\u001b[0m\u001b[1;33m,\u001b[0m \u001b[0mplacement\u001b[0m\u001b[1;33m=\u001b[0m\u001b[0mslice\u001b[0m\u001b[1;33m(\u001b[0m\u001b[0mloc\u001b[0m\u001b[1;33m,\u001b[0m \u001b[0mloc\u001b[0m \u001b[1;33m+\u001b[0m \u001b[1;36m1\u001b[0m\u001b[1;33m)\u001b[0m\u001b[1;33m)\u001b[0m\u001b[1;33m\u001b[0m\u001b[1;33m\u001b[0m\u001b[0m\n\u001b[0m\u001b[0;32m   1163\u001b[0m \u001b[1;33m\u001b[0m\u001b[0m\n\u001b[0;32m   1164\u001b[0m         \u001b[1;32mfor\u001b[0m \u001b[0mblkno\u001b[0m\u001b[1;33m,\u001b[0m \u001b[0mcount\u001b[0m \u001b[1;32min\u001b[0m \u001b[0m_fast_count_smallints\u001b[0m\u001b[1;33m(\u001b[0m\u001b[0mself\u001b[0m\u001b[1;33m.\u001b[0m\u001b[0mblknos\u001b[0m\u001b[1;33m[\u001b[0m\u001b[0mloc\u001b[0m\u001b[1;33m:\u001b[0m\u001b[1;33m]\u001b[0m\u001b[1;33m)\u001b[0m\u001b[1;33m:\u001b[0m\u001b[1;33m\u001b[0m\u001b[1;33m\u001b[0m\u001b[0m\n",
      "\u001b[1;32mC:\\ProgramData\\Anaconda3\\lib\\site-packages\\pandas\\core\\internals\\blocks.py\u001b[0m in \u001b[0;36mnew_block\u001b[1;34m(values, placement, ndim, klass)\u001b[0m\n\u001b[0;32m   1932\u001b[0m \u001b[1;33m\u001b[0m\u001b[0m\n\u001b[0;32m   1933\u001b[0m     \u001b[1;32mif\u001b[0m \u001b[1;32mnot\u001b[0m \u001b[0misinstance\u001b[0m\u001b[1;33m(\u001b[0m\u001b[0mplacement\u001b[0m\u001b[1;33m,\u001b[0m \u001b[0mBlockPlacement\u001b[0m\u001b[1;33m)\u001b[0m\u001b[1;33m:\u001b[0m\u001b[1;33m\u001b[0m\u001b[1;33m\u001b[0m\u001b[0m\n\u001b[1;32m-> 1934\u001b[1;33m         \u001b[0mplacement\u001b[0m \u001b[1;33m=\u001b[0m \u001b[0mBlockPlacement\u001b[0m\u001b[1;33m(\u001b[0m\u001b[0mplacement\u001b[0m\u001b[1;33m)\u001b[0m\u001b[1;33m\u001b[0m\u001b[1;33m\u001b[0m\u001b[0m\n\u001b[0m\u001b[0;32m   1935\u001b[0m \u001b[1;33m\u001b[0m\u001b[0m\n\u001b[0;32m   1936\u001b[0m     \u001b[0mvalues\u001b[0m\u001b[1;33m,\u001b[0m \u001b[0m_\u001b[0m \u001b[1;33m=\u001b[0m \u001b[0mextract_pandas_array\u001b[0m\u001b[1;33m(\u001b[0m\u001b[0mvalues\u001b[0m\u001b[1;33m,\u001b[0m \u001b[1;32mNone\u001b[0m\u001b[1;33m,\u001b[0m \u001b[0mndim\u001b[0m\u001b[1;33m)\u001b[0m\u001b[1;33m\u001b[0m\u001b[1;33m\u001b[0m\u001b[0m\n",
      "\u001b[1;32mC:\\ProgramData\\Anaconda3\\lib\\site-packages\\pandas\\_libs\\internals.pyx\u001b[0m in \u001b[0;36mpandas._libs.internals.BlockPlacement.__cinit__\u001b[1;34m()\u001b[0m\n",
      "\u001b[1;32mC:\\ProgramData\\Anaconda3\\lib\\site-packages\\pandas\\_libs\\internals.pyx\u001b[0m in \u001b[0;36mpandas._libs.internals.slice_canonize\u001b[1;34m()\u001b[0m\n",
      "\u001b[1;31mValueError\u001b[0m: unbounded slice"
     ]
    }
   ],
   "source": [
    "df11.insert(-1, 'in', [33,44])\n",
    "df11"
   ]
  },
  {
   "cell_type": "code",
   "execution_count": 129,
   "id": "713f7d40-e91a-46fc-a8a0-2cb9452dda51",
   "metadata": {},
   "outputs": [
    {
     "data": {
      "text/html": [
       "<div>\n",
       "<style scoped>\n",
       "    .dataframe tbody tr th:only-of-type {\n",
       "        vertical-align: middle;\n",
       "    }\n",
       "\n",
       "    .dataframe tbody tr th {\n",
       "        vertical-align: top;\n",
       "    }\n",
       "\n",
       "    .dataframe thead th {\n",
       "        text-align: right;\n",
       "    }\n",
       "</style>\n",
       "<table border=\"1\" class=\"dataframe\">\n",
       "  <thead>\n",
       "    <tr style=\"text-align: right;\">\n",
       "      <th></th>\n",
       "      <th>in</th>\n",
       "      <th>A</th>\n",
       "      <th>B</th>\n",
       "      <th>C</th>\n",
       "      <th>D</th>\n",
       "    </tr>\n",
       "    <tr>\n",
       "      <th>ind</th>\n",
       "      <th></th>\n",
       "      <th></th>\n",
       "      <th></th>\n",
       "      <th></th>\n",
       "      <th></th>\n",
       "    </tr>\n",
       "  </thead>\n",
       "  <tbody>\n",
       "    <tr>\n",
       "      <th>a</th>\n",
       "      <td>1</td>\n",
       "      <td>0</td>\n",
       "      <td>1</td>\n",
       "      <td>2</td>\n",
       "      <td>3</td>\n",
       "    </tr>\n",
       "    <tr>\n",
       "      <th>b</th>\n",
       "      <td>2</td>\n",
       "      <td>5</td>\n",
       "      <td>6</td>\n",
       "      <td>7</td>\n",
       "      <td>8</td>\n",
       "    </tr>\n",
       "  </tbody>\n",
       "</table>\n",
       "</div>"
      ],
      "text/plain": [
       "     in  A  B  C  D\n",
       "ind                \n",
       "a     1  0  1  2  3\n",
       "b     2  5  6  7  8"
      ]
     },
     "execution_count": 129,
     "metadata": {},
     "output_type": "execute_result"
    }
   ],
   "source": [
    "df11"
   ]
  },
  {
   "cell_type": "code",
   "execution_count": null,
   "id": "2bb33aa9-8678-47ce-b49e-798713227222",
   "metadata": {},
   "outputs": [],
   "source": []
  },
  {
   "cell_type": "code",
   "execution_count": 93,
   "id": "bc0fa423",
   "metadata": {},
   "outputs": [
    {
     "data": {
      "text/html": [
       "<div>\n",
       "<style scoped>\n",
       "    .dataframe tbody tr th:only-of-type {\n",
       "        vertical-align: middle;\n",
       "    }\n",
       "\n",
       "    .dataframe tbody tr th {\n",
       "        vertical-align: top;\n",
       "    }\n",
       "\n",
       "    .dataframe thead th {\n",
       "        text-align: right;\n",
       "    }\n",
       "</style>\n",
       "<table border=\"1\" class=\"dataframe\">\n",
       "  <thead>\n",
       "    <tr style=\"text-align: right;\">\n",
       "      <th></th>\n",
       "      <th>A</th>\n",
       "      <th>B</th>\n",
       "      <th>C</th>\n",
       "      <th>D</th>\n",
       "    </tr>\n",
       "    <tr>\n",
       "      <th>ind</th>\n",
       "      <th></th>\n",
       "      <th></th>\n",
       "      <th></th>\n",
       "      <th></th>\n",
       "    </tr>\n",
       "  </thead>\n",
       "  <tbody>\n",
       "    <tr>\n",
       "      <th>f</th>\n",
       "      <td>0.0</td>\n",
       "      <td>0.0</td>\n",
       "      <td>0.0</td>\n",
       "      <td>0.0</td>\n",
       "    </tr>\n",
       "    <tr>\n",
       "      <th>g</th>\n",
       "      <td>0.0</td>\n",
       "      <td>0.0</td>\n",
       "      <td>0.0</td>\n",
       "      <td>0.0</td>\n",
       "    </tr>\n",
       "  </tbody>\n",
       "</table>\n",
       "</div>"
      ],
      "text/plain": [
       "       A    B    C    D\n",
       "ind                    \n",
       "f    0.0  0.0  0.0  0.0\n",
       "g    0.0  0.0  0.0  0.0"
      ]
     },
     "execution_count": 93,
     "metadata": {},
     "output_type": "execute_result"
    }
   ],
   "source": [
    "ind = ['f', 'g']\n",
    "\n",
    "dfa = pd.DataFrame( np.zeros([len(ind), len(df1.columns)]), index=ind, columns=(df1.columns) ).rename_axis('ind')\n",
    "dfa"
   ]
  },
  {
   "cell_type": "code",
   "execution_count": 94,
   "id": "3bfd6a15",
   "metadata": {},
   "outputs": [
    {
     "data": {
      "text/html": [
       "<div>\n",
       "<style scoped>\n",
       "    .dataframe tbody tr th:only-of-type {\n",
       "        vertical-align: middle;\n",
       "    }\n",
       "\n",
       "    .dataframe tbody tr th {\n",
       "        vertical-align: top;\n",
       "    }\n",
       "\n",
       "    .dataframe thead th {\n",
       "        text-align: right;\n",
       "    }\n",
       "</style>\n",
       "<table border=\"1\" class=\"dataframe\">\n",
       "  <thead>\n",
       "    <tr style=\"text-align: right;\">\n",
       "      <th></th>\n",
       "      <th>A</th>\n",
       "      <th>B</th>\n",
       "      <th>C</th>\n",
       "      <th>D</th>\n",
       "    </tr>\n",
       "    <tr>\n",
       "      <th>ind</th>\n",
       "      <th></th>\n",
       "      <th></th>\n",
       "      <th></th>\n",
       "      <th></th>\n",
       "    </tr>\n",
       "  </thead>\n",
       "  <tbody>\n",
       "    <tr>\n",
       "      <th>a</th>\n",
       "      <td>0.0</td>\n",
       "      <td>1.0</td>\n",
       "      <td>2.0</td>\n",
       "      <td>3.0</td>\n",
       "    </tr>\n",
       "    <tr>\n",
       "      <th>b</th>\n",
       "      <td>5.0</td>\n",
       "      <td>6.0</td>\n",
       "      <td>7.0</td>\n",
       "      <td>8.0</td>\n",
       "    </tr>\n",
       "    <tr>\n",
       "      <th>c</th>\n",
       "      <td>10.0</td>\n",
       "      <td>11.0</td>\n",
       "      <td>12.0</td>\n",
       "      <td>13.0</td>\n",
       "    </tr>\n",
       "    <tr>\n",
       "      <th>d</th>\n",
       "      <td>15.0</td>\n",
       "      <td>16.0</td>\n",
       "      <td>17.0</td>\n",
       "      <td>18.0</td>\n",
       "    </tr>\n",
       "    <tr>\n",
       "      <th>e</th>\n",
       "      <td>20.0</td>\n",
       "      <td>21.0</td>\n",
       "      <td>22.0</td>\n",
       "      <td>23.0</td>\n",
       "    </tr>\n",
       "    <tr>\n",
       "      <th>f</th>\n",
       "      <td>0.0</td>\n",
       "      <td>0.0</td>\n",
       "      <td>0.0</td>\n",
       "      <td>0.0</td>\n",
       "    </tr>\n",
       "    <tr>\n",
       "      <th>g</th>\n",
       "      <td>0.0</td>\n",
       "      <td>0.0</td>\n",
       "      <td>0.0</td>\n",
       "      <td>0.0</td>\n",
       "    </tr>\n",
       "  </tbody>\n",
       "</table>\n",
       "</div>"
      ],
      "text/plain": [
       "        A     B     C     D\n",
       "ind                        \n",
       "a     0.0   1.0   2.0   3.0\n",
       "b     5.0   6.0   7.0   8.0\n",
       "c    10.0  11.0  12.0  13.0\n",
       "d    15.0  16.0  17.0  18.0\n",
       "e    20.0  21.0  22.0  23.0\n",
       "f     0.0   0.0   0.0   0.0\n",
       "g     0.0   0.0   0.0   0.0"
      ]
     },
     "execution_count": 94,
     "metadata": {},
     "output_type": "execute_result"
    }
   ],
   "source": [
    "pd.concat([df1,dfa])"
   ]
  },
  {
   "cell_type": "code",
   "execution_count": null,
   "id": "58216b21",
   "metadata": {},
   "outputs": [],
   "source": []
  },
  {
   "cell_type": "code",
   "execution_count": null,
   "id": "f64fd77d",
   "metadata": {},
   "outputs": [],
   "source": []
  },
  {
   "cell_type": "code",
   "execution_count": 77,
   "id": "b9364fd5",
   "metadata": {},
   "outputs": [
    {
     "ename": "ValueError",
     "evalue": "Must have equal len keys and value when setting with an ndarray",
     "output_type": "error",
     "traceback": [
      "\u001b[1;31m---------------------------------------------------------------------------\u001b[0m",
      "\u001b[1;31mValueError\u001b[0m                                Traceback (most recent call last)",
      "\u001b[1;32mC:\\Users\\SOMMER~1\\AppData\\Local\\Temp/ipykernel_16652/3209733308.py\u001b[0m in \u001b[0;36m<module>\u001b[1;34m\u001b[0m\n\u001b[1;32m----> 1\u001b[1;33m \u001b[0mdf1\u001b[0m\u001b[1;33m.\u001b[0m\u001b[0mloc\u001b[0m\u001b[1;33m[\u001b[0m\u001b[1;36m8\u001b[0m\u001b[1;33m,\u001b[0m\u001b[1;36m10\u001b[0m\u001b[1;33m]\u001b[0m \u001b[1;33m=\u001b[0m \u001b[1;33m[\u001b[0m\u001b[1;33m[\u001b[0m\u001b[1;36m1\u001b[0m\u001b[1;33m,\u001b[0m\u001b[1;36m2\u001b[0m\u001b[1;33m,\u001b[0m\u001b[1;36m3\u001b[0m\u001b[1;33m,\u001b[0m\u001b[1;36m4\u001b[0m\u001b[1;33m,\u001b[0m\u001b[1;36m45\u001b[0m\u001b[1;33m,\u001b[0m\u001b[1;36m5\u001b[0m\u001b[1;33m]\u001b[0m\u001b[1;33m,\u001b[0m \u001b[1;33m[\u001b[0m\u001b[1;36m1\u001b[0m\u001b[1;33m,\u001b[0m\u001b[1;36m2\u001b[0m\u001b[1;33m,\u001b[0m\u001b[1;36m3\u001b[0m\u001b[1;33m,\u001b[0m\u001b[1;36m4\u001b[0m\u001b[1;33m,\u001b[0m\u001b[1;36m45\u001b[0m\u001b[1;33m,\u001b[0m\u001b[1;36m5\u001b[0m\u001b[1;33m]\u001b[0m\u001b[1;33m]\u001b[0m\u001b[1;33m\u001b[0m\u001b[1;33m\u001b[0m\u001b[0m\n\u001b[0m",
      "\u001b[1;32mC:\\ProgramData\\Anaconda3\\lib\\site-packages\\pandas\\core\\indexing.py\u001b[0m in \u001b[0;36m__setitem__\u001b[1;34m(self, key, value)\u001b[0m\n\u001b[0;32m    721\u001b[0m \u001b[1;33m\u001b[0m\u001b[0m\n\u001b[0;32m    722\u001b[0m         \u001b[0miloc\u001b[0m \u001b[1;33m=\u001b[0m \u001b[0mself\u001b[0m \u001b[1;32mif\u001b[0m \u001b[0mself\u001b[0m\u001b[1;33m.\u001b[0m\u001b[0mname\u001b[0m \u001b[1;33m==\u001b[0m \u001b[1;34m\"iloc\"\u001b[0m \u001b[1;32melse\u001b[0m \u001b[0mself\u001b[0m\u001b[1;33m.\u001b[0m\u001b[0mobj\u001b[0m\u001b[1;33m.\u001b[0m\u001b[0miloc\u001b[0m\u001b[1;33m\u001b[0m\u001b[1;33m\u001b[0m\u001b[0m\n\u001b[1;32m--> 723\u001b[1;33m         \u001b[0miloc\u001b[0m\u001b[1;33m.\u001b[0m\u001b[0m_setitem_with_indexer\u001b[0m\u001b[1;33m(\u001b[0m\u001b[0mindexer\u001b[0m\u001b[1;33m,\u001b[0m \u001b[0mvalue\u001b[0m\u001b[1;33m,\u001b[0m \u001b[0mself\u001b[0m\u001b[1;33m.\u001b[0m\u001b[0mname\u001b[0m\u001b[1;33m)\u001b[0m\u001b[1;33m\u001b[0m\u001b[1;33m\u001b[0m\u001b[0m\n\u001b[0m\u001b[0;32m    724\u001b[0m \u001b[1;33m\u001b[0m\u001b[0m\n\u001b[0;32m    725\u001b[0m     \u001b[1;32mdef\u001b[0m \u001b[0m_validate_key\u001b[0m\u001b[1;33m(\u001b[0m\u001b[0mself\u001b[0m\u001b[1;33m,\u001b[0m \u001b[0mkey\u001b[0m\u001b[1;33m,\u001b[0m \u001b[0maxis\u001b[0m\u001b[1;33m:\u001b[0m \u001b[0mint\u001b[0m\u001b[1;33m)\u001b[0m\u001b[1;33m:\u001b[0m\u001b[1;33m\u001b[0m\u001b[1;33m\u001b[0m\u001b[0m\n",
      "\u001b[1;32mC:\\ProgramData\\Anaconda3\\lib\\site-packages\\pandas\\core\\indexing.py\u001b[0m in \u001b[0;36m_setitem_with_indexer\u001b[1;34m(self, indexer, value, name)\u001b[0m\n\u001b[0;32m   1687\u001b[0m                             \u001b[0mindexer\u001b[0m\u001b[1;33m,\u001b[0m \u001b[0mself\u001b[0m\u001b[1;33m.\u001b[0m\u001b[0mobj\u001b[0m\u001b[1;33m.\u001b[0m\u001b[0maxes\u001b[0m\u001b[1;33m\u001b[0m\u001b[1;33m\u001b[0m\u001b[0m\n\u001b[0;32m   1688\u001b[0m                         )\n\u001b[1;32m-> 1689\u001b[1;33m                         \u001b[0mself\u001b[0m\u001b[1;33m.\u001b[0m\u001b[0m_setitem_with_indexer\u001b[0m\u001b[1;33m(\u001b[0m\u001b[0mnew_indexer\u001b[0m\u001b[1;33m,\u001b[0m \u001b[0mvalue\u001b[0m\u001b[1;33m,\u001b[0m \u001b[0mname\u001b[0m\u001b[1;33m)\u001b[0m\u001b[1;33m\u001b[0m\u001b[1;33m\u001b[0m\u001b[0m\n\u001b[0m\u001b[0;32m   1690\u001b[0m \u001b[1;33m\u001b[0m\u001b[0m\n\u001b[0;32m   1691\u001b[0m                         \u001b[1;32mreturn\u001b[0m\u001b[1;33m\u001b[0m\u001b[1;33m\u001b[0m\u001b[0m\n",
      "\u001b[1;32mC:\\ProgramData\\Anaconda3\\lib\\site-packages\\pandas\\core\\indexing.py\u001b[0m in \u001b[0;36m_setitem_with_indexer\u001b[1;34m(self, indexer, value, name)\u001b[0m\n\u001b[0;32m   1728\u001b[0m         \u001b[1;32mif\u001b[0m \u001b[0mtake_split_path\u001b[0m\u001b[1;33m:\u001b[0m\u001b[1;33m\u001b[0m\u001b[1;33m\u001b[0m\u001b[0m\n\u001b[0;32m   1729\u001b[0m             \u001b[1;31m# We have to operate column-wise\u001b[0m\u001b[1;33m\u001b[0m\u001b[1;33m\u001b[0m\u001b[1;33m\u001b[0m\u001b[0m\n\u001b[1;32m-> 1730\u001b[1;33m             \u001b[0mself\u001b[0m\u001b[1;33m.\u001b[0m\u001b[0m_setitem_with_indexer_split_path\u001b[0m\u001b[1;33m(\u001b[0m\u001b[0mindexer\u001b[0m\u001b[1;33m,\u001b[0m \u001b[0mvalue\u001b[0m\u001b[1;33m,\u001b[0m \u001b[0mname\u001b[0m\u001b[1;33m)\u001b[0m\u001b[1;33m\u001b[0m\u001b[1;33m\u001b[0m\u001b[0m\n\u001b[0m\u001b[0;32m   1731\u001b[0m         \u001b[1;32melse\u001b[0m\u001b[1;33m:\u001b[0m\u001b[1;33m\u001b[0m\u001b[1;33m\u001b[0m\u001b[0m\n\u001b[0;32m   1732\u001b[0m             \u001b[0mself\u001b[0m\u001b[1;33m.\u001b[0m\u001b[0m_setitem_single_block\u001b[0m\u001b[1;33m(\u001b[0m\u001b[0mindexer\u001b[0m\u001b[1;33m,\u001b[0m \u001b[0mvalue\u001b[0m\u001b[1;33m,\u001b[0m \u001b[0mname\u001b[0m\u001b[1;33m)\u001b[0m\u001b[1;33m\u001b[0m\u001b[1;33m\u001b[0m\u001b[0m\n",
      "\u001b[1;32mC:\\ProgramData\\Anaconda3\\lib\\site-packages\\pandas\\core\\indexing.py\u001b[0m in \u001b[0;36m_setitem_with_indexer_split_path\u001b[1;34m(self, indexer, value, name)\u001b[0m\n\u001b[0;32m   1767\u001b[0m \u001b[1;33m\u001b[0m\u001b[0m\n\u001b[0;32m   1768\u001b[0m             \u001b[1;32melif\u001b[0m \u001b[0mnp\u001b[0m\u001b[1;33m.\u001b[0m\u001b[0mndim\u001b[0m\u001b[1;33m(\u001b[0m\u001b[0mvalue\u001b[0m\u001b[1;33m)\u001b[0m \u001b[1;33m==\u001b[0m \u001b[1;36m2\u001b[0m\u001b[1;33m:\u001b[0m\u001b[1;33m\u001b[0m\u001b[1;33m\u001b[0m\u001b[0m\n\u001b[1;32m-> 1769\u001b[1;33m                 \u001b[0mself\u001b[0m\u001b[1;33m.\u001b[0m\u001b[0m_setitem_with_indexer_2d_value\u001b[0m\u001b[1;33m(\u001b[0m\u001b[0mindexer\u001b[0m\u001b[1;33m,\u001b[0m \u001b[0mvalue\u001b[0m\u001b[1;33m)\u001b[0m\u001b[1;33m\u001b[0m\u001b[1;33m\u001b[0m\u001b[0m\n\u001b[0m\u001b[0;32m   1770\u001b[0m \u001b[1;33m\u001b[0m\u001b[0m\n\u001b[0;32m   1771\u001b[0m             \u001b[1;32melif\u001b[0m \u001b[0mlen\u001b[0m\u001b[1;33m(\u001b[0m\u001b[0milocs\u001b[0m\u001b[1;33m)\u001b[0m \u001b[1;33m==\u001b[0m \u001b[1;36m1\u001b[0m \u001b[1;32mand\u001b[0m \u001b[0mlplane_indexer\u001b[0m \u001b[1;33m==\u001b[0m \u001b[0mlen\u001b[0m\u001b[1;33m(\u001b[0m\u001b[0mvalue\u001b[0m\u001b[1;33m)\u001b[0m \u001b[1;32mand\u001b[0m \u001b[1;32mnot\u001b[0m \u001b[0mis_scalar\u001b[0m\u001b[1;33m(\u001b[0m\u001b[0mpi\u001b[0m\u001b[1;33m)\u001b[0m\u001b[1;33m:\u001b[0m\u001b[1;33m\u001b[0m\u001b[1;33m\u001b[0m\u001b[0m\n",
      "\u001b[1;32mC:\\ProgramData\\Anaconda3\\lib\\site-packages\\pandas\\core\\indexing.py\u001b[0m in \u001b[0;36m_setitem_with_indexer_2d_value\u001b[1;34m(self, indexer, value)\u001b[0m\n\u001b[0;32m   1828\u001b[0m         \u001b[1;32mif\u001b[0m \u001b[0mlen\u001b[0m\u001b[1;33m(\u001b[0m\u001b[0milocs\u001b[0m\u001b[1;33m)\u001b[0m \u001b[1;33m!=\u001b[0m \u001b[0mvalue\u001b[0m\u001b[1;33m.\u001b[0m\u001b[0mshape\u001b[0m\u001b[1;33m[\u001b[0m\u001b[1;36m1\u001b[0m\u001b[1;33m]\u001b[0m\u001b[1;33m:\u001b[0m\u001b[1;33m\u001b[0m\u001b[1;33m\u001b[0m\u001b[0m\n\u001b[0;32m   1829\u001b[0m             raise ValueError(\n\u001b[1;32m-> 1830\u001b[1;33m                 \u001b[1;34m\"Must have equal len keys and value when setting with an ndarray\"\u001b[0m\u001b[1;33m\u001b[0m\u001b[1;33m\u001b[0m\u001b[0m\n\u001b[0m\u001b[0;32m   1831\u001b[0m             )\n\u001b[0;32m   1832\u001b[0m \u001b[1;33m\u001b[0m\u001b[0m\n",
      "\u001b[1;31mValueError\u001b[0m: Must have equal len keys and value when setting with an ndarray"
     ]
    }
   ],
   "source": [
    "df1.loc[8,10] = [[1,2,3,4,45,5], [1,2,3,4,45,5]]"
   ]
  },
  {
   "cell_type": "code",
   "execution_count": 74,
   "id": "3d67b3a4",
   "metadata": {},
   "outputs": [
    {
     "data": {
      "text/html": [
       "<div>\n",
       "<style scoped>\n",
       "    .dataframe tbody tr th:only-of-type {\n",
       "        vertical-align: middle;\n",
       "    }\n",
       "\n",
       "    .dataframe tbody tr th {\n",
       "        vertical-align: top;\n",
       "    }\n",
       "\n",
       "    .dataframe thead th {\n",
       "        text-align: right;\n",
       "    }\n",
       "</style>\n",
       "<table border=\"1\" class=\"dataframe\">\n",
       "  <thead>\n",
       "    <tr style=\"text-align: right;\">\n",
       "      <th></th>\n",
       "      <th>A</th>\n",
       "      <th>B</th>\n",
       "      <th>C</th>\n",
       "      <th>D</th>\n",
       "      <th>4</th>\n",
       "      <th>7</th>\n",
       "    </tr>\n",
       "    <tr>\n",
       "      <th>ind</th>\n",
       "      <th></th>\n",
       "      <th></th>\n",
       "      <th></th>\n",
       "      <th></th>\n",
       "      <th></th>\n",
       "      <th></th>\n",
       "    </tr>\n",
       "  </thead>\n",
       "  <tbody>\n",
       "    <tr>\n",
       "      <th>a</th>\n",
       "      <td>0.0</td>\n",
       "      <td>1.0</td>\n",
       "      <td>2.0</td>\n",
       "      <td>3.0</td>\n",
       "      <td>NaN</td>\n",
       "      <td>1</td>\n",
       "    </tr>\n",
       "    <tr>\n",
       "      <th>b</th>\n",
       "      <td>5.0</td>\n",
       "      <td>6.0</td>\n",
       "      <td>7.0</td>\n",
       "      <td>8.0</td>\n",
       "      <td>NaN</td>\n",
       "      <td>2</td>\n",
       "    </tr>\n",
       "    <tr>\n",
       "      <th>c</th>\n",
       "      <td>10.0</td>\n",
       "      <td>11.0</td>\n",
       "      <td>12.0</td>\n",
       "      <td>13.0</td>\n",
       "      <td>NaN</td>\n",
       "      <td>3</td>\n",
       "    </tr>\n",
       "    <tr>\n",
       "      <th>d</th>\n",
       "      <td>15.0</td>\n",
       "      <td>16.0</td>\n",
       "      <td>17.0</td>\n",
       "      <td>18.0</td>\n",
       "      <td>NaN</td>\n",
       "      <td>4</td>\n",
       "    </tr>\n",
       "    <tr>\n",
       "      <th>e</th>\n",
       "      <td>20.0</td>\n",
       "      <td>21.0</td>\n",
       "      <td>22.0</td>\n",
       "      <td>23.0</td>\n",
       "      <td>NaN</td>\n",
       "      <td>5</td>\n",
       "    </tr>\n",
       "    <tr>\n",
       "      <th>5</th>\n",
       "      <td>NaN</td>\n",
       "      <td>NaN</td>\n",
       "      <td>NaN</td>\n",
       "      <td>NaN</td>\n",
       "      <td>123.0</td>\n",
       "      <td>6</td>\n",
       "    </tr>\n",
       "    <tr>\n",
       "      <th>6</th>\n",
       "      <td>1.0</td>\n",
       "      <td>2.0</td>\n",
       "      <td>3.0</td>\n",
       "      <td>4.0</td>\n",
       "      <td>5.0</td>\n",
       "      <td>7</td>\n",
       "    </tr>\n",
       "  </tbody>\n",
       "</table>\n",
       "</div>"
      ],
      "text/plain": [
       "        A     B     C     D      4  7\n",
       "ind                                  \n",
       "a     0.0   1.0   2.0   3.0    NaN  1\n",
       "b     5.0   6.0   7.0   8.0    NaN  2\n",
       "c    10.0  11.0  12.0  13.0    NaN  3\n",
       "d    15.0  16.0  17.0  18.0    NaN  4\n",
       "e    20.0  21.0  22.0  23.0    NaN  5\n",
       "5     NaN   NaN   NaN   NaN  123.0  6\n",
       "6     1.0   2.0   3.0   4.0    5.0  7"
      ]
     },
     "execution_count": 74,
     "metadata": {},
     "output_type": "execute_result"
    }
   ],
   "source": [
    "df1"
   ]
  },
  {
   "cell_type": "code",
   "execution_count": null,
   "id": "af2fd6ad",
   "metadata": {},
   "outputs": [],
   "source": []
  },
  {
   "cell_type": "code",
   "execution_count": null,
   "id": "e4470b22",
   "metadata": {},
   "outputs": [],
   "source": []
  },
  {
   "cell_type": "code",
   "execution_count": null,
   "id": "a984b337",
   "metadata": {},
   "outputs": [],
   "source": []
  },
  {
   "cell_type": "code",
   "execution_count": 63,
   "id": "9dbbfeb7",
   "metadata": {},
   "outputs": [],
   "source": [
    "indinter = df1.index.intersection(df2.index)\n",
    "colinter = df1.columns.intersection(df2.columns)"
   ]
  },
  {
   "cell_type": "code",
   "execution_count": 64,
   "id": "506a563a",
   "metadata": {
    "scrolled": true
   },
   "outputs": [
    {
     "data": {
      "text/html": [
       "<div>\n",
       "<style scoped>\n",
       "    .dataframe tbody tr th:only-of-type {\n",
       "        vertical-align: middle;\n",
       "    }\n",
       "\n",
       "    .dataframe tbody tr th {\n",
       "        vertical-align: top;\n",
       "    }\n",
       "\n",
       "    .dataframe thead th {\n",
       "        text-align: right;\n",
       "    }\n",
       "</style>\n",
       "<table border=\"1\" class=\"dataframe\">\n",
       "  <thead>\n",
       "    <tr style=\"text-align: right;\">\n",
       "      <th></th>\n",
       "      <th>B</th>\n",
       "      <th>C</th>\n",
       "      <th>D</th>\n",
       "    </tr>\n",
       "    <tr>\n",
       "      <th>ind</th>\n",
       "      <th></th>\n",
       "      <th></th>\n",
       "      <th></th>\n",
       "    </tr>\n",
       "  </thead>\n",
       "  <tbody>\n",
       "    <tr>\n",
       "      <th>b</th>\n",
       "      <td>6</td>\n",
       "      <td>7</td>\n",
       "      <td>8</td>\n",
       "    </tr>\n",
       "    <tr>\n",
       "      <th>c</th>\n",
       "      <td>11</td>\n",
       "      <td>12</td>\n",
       "      <td>13</td>\n",
       "    </tr>\n",
       "    <tr>\n",
       "      <th>d</th>\n",
       "      <td>16</td>\n",
       "      <td>17</td>\n",
       "      <td>18</td>\n",
       "    </tr>\n",
       "    <tr>\n",
       "      <th>e</th>\n",
       "      <td>21</td>\n",
       "      <td>22</td>\n",
       "      <td>23</td>\n",
       "    </tr>\n",
       "  </tbody>\n",
       "</table>\n",
       "</div>"
      ],
      "text/plain": [
       "      B   C   D\n",
       "ind            \n",
       "b     6   7   8\n",
       "c    11  12  13\n",
       "d    16  17  18\n",
       "e    21  22  23"
      ]
     },
     "execution_count": 64,
     "metadata": {},
     "output_type": "execute_result"
    }
   ],
   "source": [
    "df1.loc[indinter, colinter]"
   ]
  },
  {
   "cell_type": "code",
   "execution_count": 70,
   "id": "279be78a",
   "metadata": {},
   "outputs": [
    {
     "data": {
      "text/html": [
       "<div>\n",
       "<style scoped>\n",
       "    .dataframe tbody tr th:only-of-type {\n",
       "        vertical-align: middle;\n",
       "    }\n",
       "\n",
       "    .dataframe tbody tr th {\n",
       "        vertical-align: top;\n",
       "    }\n",
       "\n",
       "    .dataframe thead th {\n",
       "        text-align: right;\n",
       "    }\n",
       "</style>\n",
       "<table border=\"1\" class=\"dataframe\">\n",
       "  <thead>\n",
       "    <tr style=\"text-align: right;\">\n",
       "      <th></th>\n",
       "      <th>A</th>\n",
       "      <th>B</th>\n",
       "      <th>C</th>\n",
       "      <th>D</th>\n",
       "      <th>E</th>\n",
       "    </tr>\n",
       "    <tr>\n",
       "      <th>ind</th>\n",
       "      <th></th>\n",
       "      <th></th>\n",
       "      <th></th>\n",
       "      <th></th>\n",
       "      <th></th>\n",
       "    </tr>\n",
       "  </thead>\n",
       "  <tbody>\n",
       "    <tr>\n",
       "      <th>a</th>\n",
       "      <td>0</td>\n",
       "      <td>1</td>\n",
       "      <td>2</td>\n",
       "      <td>3</td>\n",
       "      <td>4</td>\n",
       "    </tr>\n",
       "    <tr>\n",
       "      <th>b</th>\n",
       "      <td>5</td>\n",
       "      <td>6</td>\n",
       "      <td>7</td>\n",
       "      <td>8</td>\n",
       "      <td>9</td>\n",
       "    </tr>\n",
       "    <tr>\n",
       "      <th>c</th>\n",
       "      <td>10</td>\n",
       "      <td>11</td>\n",
       "      <td>12</td>\n",
       "      <td>13</td>\n",
       "      <td>14</td>\n",
       "    </tr>\n",
       "    <tr>\n",
       "      <th>d</th>\n",
       "      <td>15</td>\n",
       "      <td>16</td>\n",
       "      <td>17</td>\n",
       "      <td>18</td>\n",
       "      <td>19</td>\n",
       "    </tr>\n",
       "    <tr>\n",
       "      <th>e</th>\n",
       "      <td>20</td>\n",
       "      <td>21</td>\n",
       "      <td>22</td>\n",
       "      <td>23</td>\n",
       "      <td>24</td>\n",
       "    </tr>\n",
       "    <tr>\n",
       "      <th>f</th>\n",
       "      <td>25</td>\n",
       "      <td>26</td>\n",
       "      <td>27</td>\n",
       "      <td>28</td>\n",
       "      <td>29</td>\n",
       "    </tr>\n",
       "  </tbody>\n",
       "</table>\n",
       "</div>"
      ],
      "text/plain": [
       "      A   B   C   D   E\n",
       "ind                    \n",
       "a     0   1   2   3   4\n",
       "b     5   6   7   8   9\n",
       "c    10  11  12  13  14\n",
       "d    15  16  17  18  19\n",
       "e    20  21  22  23  24\n",
       "f    25  26  27  28  29"
      ]
     },
     "execution_count": 70,
     "metadata": {},
     "output_type": "execute_result"
    }
   ],
   "source": [
    "df1.join(df2, inpla)"
   ]
  },
  {
   "cell_type": "code",
   "execution_count": 15,
   "id": "989b2167",
   "metadata": {},
   "outputs": [
    {
     "data": {
      "text/html": [
       "<div>\n",
       "<style scoped>\n",
       "    .dataframe tbody tr th:only-of-type {\n",
       "        vertical-align: middle;\n",
       "    }\n",
       "\n",
       "    .dataframe tbody tr th {\n",
       "        vertical-align: top;\n",
       "    }\n",
       "\n",
       "    .dataframe thead th {\n",
       "        text-align: right;\n",
       "    }\n",
       "</style>\n",
       "<table border=\"1\" class=\"dataframe\">\n",
       "  <thead>\n",
       "    <tr style=\"text-align: right;\">\n",
       "      <th></th>\n",
       "      <th>B</th>\n",
       "      <th>C</th>\n",
       "      <th>D</th>\n",
       "      <th>E</th>\n",
       "    </tr>\n",
       "    <tr>\n",
       "      <th>ind</th>\n",
       "      <th></th>\n",
       "      <th></th>\n",
       "      <th></th>\n",
       "      <th></th>\n",
       "    </tr>\n",
       "  </thead>\n",
       "  <tbody>\n",
       "    <tr>\n",
       "      <th>b</th>\n",
       "      <td>6</td>\n",
       "      <td>7</td>\n",
       "      <td>8</td>\n",
       "      <td>9</td>\n",
       "    </tr>\n",
       "    <tr>\n",
       "      <th>c</th>\n",
       "      <td>11</td>\n",
       "      <td>12</td>\n",
       "      <td>13</td>\n",
       "      <td>14</td>\n",
       "    </tr>\n",
       "    <tr>\n",
       "      <th>d</th>\n",
       "      <td>16</td>\n",
       "      <td>17</td>\n",
       "      <td>18</td>\n",
       "      <td>19</td>\n",
       "    </tr>\n",
       "    <tr>\n",
       "      <th>e</th>\n",
       "      <td>21</td>\n",
       "      <td>22</td>\n",
       "      <td>23</td>\n",
       "      <td>24</td>\n",
       "    </tr>\n",
       "    <tr>\n",
       "      <th>f</th>\n",
       "      <td>26</td>\n",
       "      <td>27</td>\n",
       "      <td>28</td>\n",
       "      <td>29</td>\n",
       "    </tr>\n",
       "  </tbody>\n",
       "</table>\n",
       "</div>"
      ],
      "text/plain": [
       "      B   C   D   E\n",
       "ind                \n",
       "b     6   7   8   9\n",
       "c    11  12  13  14\n",
       "d    16  17  18  19\n",
       "e    21  22  23  24\n",
       "f    26  27  28  29"
      ]
     },
     "execution_count": 15,
     "metadata": {},
     "output_type": "execute_result"
    }
   ],
   "source": [
    "# df3.C[1]=7\n",
    "df3"
   ]
  },
  {
   "cell_type": "code",
   "execution_count": 18,
   "id": "25496f6b",
   "metadata": {},
   "outputs": [
    {
     "data": {
      "text/html": [
       "<div>\n",
       "<style scoped>\n",
       "    .dataframe tbody tr th:only-of-type {\n",
       "        vertical-align: middle;\n",
       "    }\n",
       "\n",
       "    .dataframe tbody tr th {\n",
       "        vertical-align: top;\n",
       "    }\n",
       "\n",
       "    .dataframe thead th {\n",
       "        text-align: right;\n",
       "    }\n",
       "</style>\n",
       "<table border=\"1\" class=\"dataframe\">\n",
       "  <thead>\n",
       "    <tr style=\"text-align: right;\">\n",
       "      <th></th>\n",
       "      <th>A</th>\n",
       "      <th>B</th>\n",
       "      <th>C</th>\n",
       "      <th>D</th>\n",
       "      <th>E</th>\n",
       "    </tr>\n",
       "  </thead>\n",
       "  <tbody>\n",
       "    <tr>\n",
       "      <th>0</th>\n",
       "      <td>0.0</td>\n",
       "      <td>1</td>\n",
       "      <td>2</td>\n",
       "      <td>3</td>\n",
       "      <td>NaN</td>\n",
       "    </tr>\n",
       "    <tr>\n",
       "      <th>1</th>\n",
       "      <td>5.0</td>\n",
       "      <td>6</td>\n",
       "      <td>7</td>\n",
       "      <td>8</td>\n",
       "      <td>9.0</td>\n",
       "    </tr>\n",
       "    <tr>\n",
       "      <th>2</th>\n",
       "      <td>10.0</td>\n",
       "      <td>11</td>\n",
       "      <td>12</td>\n",
       "      <td>13</td>\n",
       "      <td>14.0</td>\n",
       "    </tr>\n",
       "    <tr>\n",
       "      <th>3</th>\n",
       "      <td>15.0</td>\n",
       "      <td>16</td>\n",
       "      <td>17</td>\n",
       "      <td>18</td>\n",
       "      <td>19.0</td>\n",
       "    </tr>\n",
       "    <tr>\n",
       "      <th>4</th>\n",
       "      <td>20.0</td>\n",
       "      <td>21</td>\n",
       "      <td>22</td>\n",
       "      <td>23</td>\n",
       "      <td>24.0</td>\n",
       "    </tr>\n",
       "    <tr>\n",
       "      <th>5</th>\n",
       "      <td>NaN</td>\n",
       "      <td>26</td>\n",
       "      <td>27</td>\n",
       "      <td>28</td>\n",
       "      <td>29.0</td>\n",
       "    </tr>\n",
       "  </tbody>\n",
       "</table>\n",
       "</div>"
      ],
      "text/plain": [
       "      A   B   C   D     E\n",
       "0   0.0   1   2   3   NaN\n",
       "1   5.0   6   7   8   9.0\n",
       "2  10.0  11  12  13  14.0\n",
       "3  15.0  16  17  18  19.0\n",
       "4  20.0  21  22  23  24.0\n",
       "5   NaN  26  27  28  29.0"
      ]
     },
     "execution_count": 18,
     "metadata": {},
     "output_type": "execute_result"
    }
   ],
   "source": [
    "df1.merge(df2, how='outer')"
   ]
  },
  {
   "cell_type": "code",
   "execution_count": 46,
   "id": "6d97f149",
   "metadata": {},
   "outputs": [],
   "source": [
    "df1 = df.iloc[:4].copy()\n",
    "df2 = df.iloc[3:].copy()"
   ]
  },
  {
   "cell_type": "code",
   "execution_count": 47,
   "id": "a5c57026",
   "metadata": {},
   "outputs": [
    {
     "data": {
      "text/html": [
       "<div>\n",
       "<style scoped>\n",
       "    .dataframe tbody tr th:only-of-type {\n",
       "        vertical-align: middle;\n",
       "    }\n",
       "\n",
       "    .dataframe tbody tr th {\n",
       "        vertical-align: top;\n",
       "    }\n",
       "\n",
       "    .dataframe thead th {\n",
       "        text-align: right;\n",
       "    }\n",
       "</style>\n",
       "<table border=\"1\" class=\"dataframe\">\n",
       "  <thead>\n",
       "    <tr style=\"text-align: right;\">\n",
       "      <th></th>\n",
       "      <th>A</th>\n",
       "      <th>B</th>\n",
       "      <th>C</th>\n",
       "      <th>D</th>\n",
       "      <th>E</th>\n",
       "    </tr>\n",
       "    <tr>\n",
       "      <th>ind</th>\n",
       "      <th></th>\n",
       "      <th></th>\n",
       "      <th></th>\n",
       "      <th></th>\n",
       "      <th></th>\n",
       "    </tr>\n",
       "  </thead>\n",
       "  <tbody>\n",
       "    <tr>\n",
       "      <th>a</th>\n",
       "      <td>0</td>\n",
       "      <td>1</td>\n",
       "      <td>2</td>\n",
       "      <td>3</td>\n",
       "      <td>4</td>\n",
       "    </tr>\n",
       "    <tr>\n",
       "      <th>b</th>\n",
       "      <td>5</td>\n",
       "      <td>6</td>\n",
       "      <td>7</td>\n",
       "      <td>8</td>\n",
       "      <td>9</td>\n",
       "    </tr>\n",
       "    <tr>\n",
       "      <th>c</th>\n",
       "      <td>10</td>\n",
       "      <td>11</td>\n",
       "      <td>12</td>\n",
       "      <td>13</td>\n",
       "      <td>14</td>\n",
       "    </tr>\n",
       "    <tr>\n",
       "      <th>d</th>\n",
       "      <td>15</td>\n",
       "      <td>16</td>\n",
       "      <td>17</td>\n",
       "      <td>18</td>\n",
       "      <td>19</td>\n",
       "    </tr>\n",
       "  </tbody>\n",
       "</table>\n",
       "</div>"
      ],
      "text/plain": [
       "      A   B   C   D   E\n",
       "ind                    \n",
       "a     0   1   2   3   4\n",
       "b     5   6   7   8   9\n",
       "c    10  11  12  13  14\n",
       "d    15  16  17  18  19"
      ]
     },
     "execution_count": 47,
     "metadata": {},
     "output_type": "execute_result"
    }
   ],
   "source": [
    "df1"
   ]
  },
  {
   "cell_type": "code",
   "execution_count": 61,
   "id": "ff99d656",
   "metadata": {},
   "outputs": [
    {
     "data": {
      "text/html": [
       "<div>\n",
       "<style scoped>\n",
       "    .dataframe tbody tr th:only-of-type {\n",
       "        vertical-align: middle;\n",
       "    }\n",
       "\n",
       "    .dataframe tbody tr th {\n",
       "        vertical-align: top;\n",
       "    }\n",
       "\n",
       "    .dataframe thead th {\n",
       "        text-align: right;\n",
       "    }\n",
       "</style>\n",
       "<table border=\"1\" class=\"dataframe\">\n",
       "  <thead>\n",
       "    <tr style=\"text-align: right;\">\n",
       "      <th></th>\n",
       "      <th>A</th>\n",
       "      <th>B</th>\n",
       "      <th>C</th>\n",
       "      <th>D</th>\n",
       "      <th>E</th>\n",
       "    </tr>\n",
       "    <tr>\n",
       "      <th>ind</th>\n",
       "      <th></th>\n",
       "      <th></th>\n",
       "      <th></th>\n",
       "      <th></th>\n",
       "      <th></th>\n",
       "    </tr>\n",
       "  </thead>\n",
       "  <tbody>\n",
       "    <tr>\n",
       "      <th>d</th>\n",
       "      <td>15</td>\n",
       "      <td>16</td>\n",
       "      <td>17</td>\n",
       "      <td>18</td>\n",
       "      <td>19</td>\n",
       "    </tr>\n",
       "    <tr>\n",
       "      <th>e</th>\n",
       "      <td>20</td>\n",
       "      <td>21</td>\n",
       "      <td>22</td>\n",
       "      <td>23</td>\n",
       "      <td>24</td>\n",
       "    </tr>\n",
       "    <tr>\n",
       "      <th>f</th>\n",
       "      <td>25</td>\n",
       "      <td>26</td>\n",
       "      <td>27</td>\n",
       "      <td>28</td>\n",
       "      <td>29</td>\n",
       "    </tr>\n",
       "  </tbody>\n",
       "</table>\n",
       "</div>"
      ],
      "text/plain": [
       "      A   B   C   D   E\n",
       "ind                    \n",
       "d    15  16  17  18  19\n",
       "e    20  21  22  23  24\n",
       "f    25  26  27  28  29"
      ]
     },
     "execution_count": 61,
     "metadata": {},
     "output_type": "execute_result"
    }
   ],
   "source": [
    "df2"
   ]
  },
  {
   "cell_type": "code",
   "execution_count": 60,
   "id": "000a6a77",
   "metadata": {
    "scrolled": true
   },
   "outputs": [
    {
     "data": {
      "text/html": [
       "<div>\n",
       "<style scoped>\n",
       "    .dataframe tbody tr th:only-of-type {\n",
       "        vertical-align: middle;\n",
       "    }\n",
       "\n",
       "    .dataframe tbody tr th {\n",
       "        vertical-align: top;\n",
       "    }\n",
       "\n",
       "    .dataframe thead th {\n",
       "        text-align: right;\n",
       "    }\n",
       "</style>\n",
       "<table border=\"1\" class=\"dataframe\">\n",
       "  <thead>\n",
       "    <tr style=\"text-align: right;\">\n",
       "      <th></th>\n",
       "      <th>A</th>\n",
       "      <th>B</th>\n",
       "      <th>C</th>\n",
       "      <th>D</th>\n",
       "      <th>E</th>\n",
       "    </tr>\n",
       "    <tr>\n",
       "      <th>ind</th>\n",
       "      <th></th>\n",
       "      <th></th>\n",
       "      <th></th>\n",
       "      <th></th>\n",
       "      <th></th>\n",
       "    </tr>\n",
       "  </thead>\n",
       "  <tbody>\n",
       "    <tr>\n",
       "      <th>a</th>\n",
       "      <td>0</td>\n",
       "      <td>1</td>\n",
       "      <td>2</td>\n",
       "      <td>3</td>\n",
       "      <td>4</td>\n",
       "    </tr>\n",
       "    <tr>\n",
       "      <th>b</th>\n",
       "      <td>5</td>\n",
       "      <td>6</td>\n",
       "      <td>7</td>\n",
       "      <td>8</td>\n",
       "      <td>9</td>\n",
       "    </tr>\n",
       "    <tr>\n",
       "      <th>c</th>\n",
       "      <td>10</td>\n",
       "      <td>11</td>\n",
       "      <td>12</td>\n",
       "      <td>13</td>\n",
       "      <td>14</td>\n",
       "    </tr>\n",
       "    <tr>\n",
       "      <th>d</th>\n",
       "      <td>15</td>\n",
       "      <td>16</td>\n",
       "      <td>17</td>\n",
       "      <td>18</td>\n",
       "      <td>19</td>\n",
       "    </tr>\n",
       "    <tr>\n",
       "      <th>e</th>\n",
       "      <td>20</td>\n",
       "      <td>21</td>\n",
       "      <td>22</td>\n",
       "      <td>23</td>\n",
       "      <td>24</td>\n",
       "    </tr>\n",
       "    <tr>\n",
       "      <th>f</th>\n",
       "      <td>25</td>\n",
       "      <td>26</td>\n",
       "      <td>27</td>\n",
       "      <td>28</td>\n",
       "      <td>29</td>\n",
       "    </tr>\n",
       "  </tbody>\n",
       "</table>\n",
       "</div>"
      ],
      "text/plain": [
       "      A   B   C   D   E\n",
       "ind                    \n",
       "a     0   1   2   3   4\n",
       "b     5   6   7   8   9\n",
       "c    10  11  12  13  14\n",
       "d    15  16  17  18  19\n",
       "e    20  21  22  23  24\n",
       "f    25  26  27  28  29"
      ]
     },
     "execution_count": 60,
     "metadata": {},
     "output_type": "execute_result"
    }
   ],
   "source": [
    "df"
   ]
  },
  {
   "cell_type": "code",
   "execution_count": 62,
   "id": "7e80fd67",
   "metadata": {},
   "outputs": [
    {
     "data": {
      "text/html": [
       "<div>\n",
       "<style scoped>\n",
       "    .dataframe tbody tr th:only-of-type {\n",
       "        vertical-align: middle;\n",
       "    }\n",
       "\n",
       "    .dataframe tbody tr th {\n",
       "        vertical-align: top;\n",
       "    }\n",
       "\n",
       "    .dataframe thead th {\n",
       "        text-align: right;\n",
       "    }\n",
       "</style>\n",
       "<table border=\"1\" class=\"dataframe\">\n",
       "  <thead>\n",
       "    <tr style=\"text-align: right;\">\n",
       "      <th></th>\n",
       "      <th>A</th>\n",
       "      <th>B</th>\n",
       "      <th>C</th>\n",
       "      <th>D</th>\n",
       "      <th>E</th>\n",
       "    </tr>\n",
       "    <tr>\n",
       "      <th>ind</th>\n",
       "      <th></th>\n",
       "      <th></th>\n",
       "      <th></th>\n",
       "      <th></th>\n",
       "      <th></th>\n",
       "    </tr>\n",
       "  </thead>\n",
       "  <tbody>\n",
       "    <tr>\n",
       "      <th>a</th>\n",
       "      <td>0</td>\n",
       "      <td>1</td>\n",
       "      <td>2</td>\n",
       "      <td>3</td>\n",
       "      <td>4</td>\n",
       "    </tr>\n",
       "    <tr>\n",
       "      <th>b</th>\n",
       "      <td>5</td>\n",
       "      <td>6</td>\n",
       "      <td>7</td>\n",
       "      <td>8</td>\n",
       "      <td>9</td>\n",
       "    </tr>\n",
       "    <tr>\n",
       "      <th>c</th>\n",
       "      <td>10</td>\n",
       "      <td>11</td>\n",
       "      <td>12</td>\n",
       "      <td>13</td>\n",
       "      <td>14</td>\n",
       "    </tr>\n",
       "  </tbody>\n",
       "</table>\n",
       "</div>"
      ],
      "text/plain": [
       "      A   B   C   D   E\n",
       "ind                    \n",
       "a     0   1   2   3   4\n",
       "b     5   6   7   8   9\n",
       "c    10  11  12  13  14"
      ]
     },
     "execution_count": 62,
     "metadata": {},
     "output_type": "execute_result"
    }
   ],
   "source": [
    "df.drop(df2.index)"
   ]
  },
  {
   "cell_type": "code",
   "execution_count": 59,
   "id": "43c727e0",
   "metadata": {},
   "outputs": [
    {
     "data": {
      "text/html": [
       "<div>\n",
       "<style scoped>\n",
       "    .dataframe tbody tr th:only-of-type {\n",
       "        vertical-align: middle;\n",
       "    }\n",
       "\n",
       "    .dataframe tbody tr th {\n",
       "        vertical-align: top;\n",
       "    }\n",
       "\n",
       "    .dataframe thead th {\n",
       "        text-align: right;\n",
       "    }\n",
       "</style>\n",
       "<table border=\"1\" class=\"dataframe\">\n",
       "  <thead>\n",
       "    <tr style=\"text-align: right;\">\n",
       "      <th></th>\n",
       "      <th>A</th>\n",
       "      <th>B</th>\n",
       "      <th>C</th>\n",
       "      <th>D</th>\n",
       "      <th>E</th>\n",
       "    </tr>\n",
       "    <tr>\n",
       "      <th>ind</th>\n",
       "      <th></th>\n",
       "      <th></th>\n",
       "      <th></th>\n",
       "      <th></th>\n",
       "      <th></th>\n",
       "    </tr>\n",
       "  </thead>\n",
       "  <tbody>\n",
       "    <tr>\n",
       "      <th>a</th>\n",
       "      <td>0</td>\n",
       "      <td>1</td>\n",
       "      <td>2</td>\n",
       "      <td>3</td>\n",
       "      <td>4</td>\n",
       "    </tr>\n",
       "    <tr>\n",
       "      <th>b</th>\n",
       "      <td>5</td>\n",
       "      <td>6</td>\n",
       "      <td>7</td>\n",
       "      <td>8</td>\n",
       "      <td>9</td>\n",
       "    </tr>\n",
       "    <tr>\n",
       "      <th>c</th>\n",
       "      <td>10</td>\n",
       "      <td>11</td>\n",
       "      <td>12</td>\n",
       "      <td>13</td>\n",
       "      <td>14</td>\n",
       "    </tr>\n",
       "    <tr>\n",
       "      <th>e</th>\n",
       "      <td>20</td>\n",
       "      <td>21</td>\n",
       "      <td>22</td>\n",
       "      <td>23</td>\n",
       "      <td>24</td>\n",
       "    </tr>\n",
       "    <tr>\n",
       "      <th>f</th>\n",
       "      <td>25</td>\n",
       "      <td>26</td>\n",
       "      <td>27</td>\n",
       "      <td>28</td>\n",
       "      <td>29</td>\n",
       "    </tr>\n",
       "  </tbody>\n",
       "</table>\n",
       "</div>"
      ],
      "text/plain": [
       "      A   B   C   D   E\n",
       "ind                    \n",
       "a     0   1   2   3   4\n",
       "b     5   6   7   8   9\n",
       "c    10  11  12  13  14\n",
       "e    20  21  22  23  24\n",
       "f    25  26  27  28  29"
      ]
     },
     "execution_count": 59,
     "metadata": {},
     "output_type": "execute_result"
    }
   ],
   "source": [
    "df4.drop('d')"
   ]
  },
  {
   "cell_type": "code",
   "execution_count": 164,
   "id": "4bde15b6",
   "metadata": {
    "scrolled": true
   },
   "outputs": [
    {
     "data": {
      "text/html": [
       "<div>\n",
       "<style scoped>\n",
       "    .dataframe tbody tr th:only-of-type {\n",
       "        vertical-align: middle;\n",
       "    }\n",
       "\n",
       "    .dataframe tbody tr th {\n",
       "        vertical-align: top;\n",
       "    }\n",
       "\n",
       "    .dataframe thead th {\n",
       "        text-align: right;\n",
       "    }\n",
       "</style>\n",
       "<table border=\"1\" class=\"dataframe\">\n",
       "  <thead>\n",
       "    <tr style=\"text-align: right;\">\n",
       "      <th></th>\n",
       "      <th>A</th>\n",
       "      <th>B_x</th>\n",
       "      <th>C</th>\n",
       "      <th>D_x</th>\n",
       "      <th>B_y</th>\n",
       "      <th>D_y</th>\n",
       "      <th>E</th>\n",
       "    </tr>\n",
       "  </thead>\n",
       "  <tbody>\n",
       "    <tr>\n",
       "      <th>0</th>\n",
       "      <td>0.0</td>\n",
       "      <td>1.0</td>\n",
       "      <td>2</td>\n",
       "      <td>3.0</td>\n",
       "      <td>NaN</td>\n",
       "      <td>NaN</td>\n",
       "      <td>NaN</td>\n",
       "    </tr>\n",
       "    <tr>\n",
       "      <th>1</th>\n",
       "      <td>5.0</td>\n",
       "      <td>6.0</td>\n",
       "      <td>7</td>\n",
       "      <td>8.0</td>\n",
       "      <td>99.0</td>\n",
       "      <td>8.0</td>\n",
       "      <td>9.0</td>\n",
       "    </tr>\n",
       "    <tr>\n",
       "      <th>2</th>\n",
       "      <td>5.0</td>\n",
       "      <td>6.0</td>\n",
       "      <td>7</td>\n",
       "      <td>8.0</td>\n",
       "      <td>11.0</td>\n",
       "      <td>13.0</td>\n",
       "      <td>14.0</td>\n",
       "    </tr>\n",
       "    <tr>\n",
       "      <th>3</th>\n",
       "      <td>10.0</td>\n",
       "      <td>11.0</td>\n",
       "      <td>12</td>\n",
       "      <td>13.0</td>\n",
       "      <td>NaN</td>\n",
       "      <td>NaN</td>\n",
       "      <td>NaN</td>\n",
       "    </tr>\n",
       "    <tr>\n",
       "      <th>4</th>\n",
       "      <td>15.0</td>\n",
       "      <td>16.0</td>\n",
       "      <td>17</td>\n",
       "      <td>18.0</td>\n",
       "      <td>16.0</td>\n",
       "      <td>18.0</td>\n",
       "      <td>19.0</td>\n",
       "    </tr>\n",
       "    <tr>\n",
       "      <th>5</th>\n",
       "      <td>20.0</td>\n",
       "      <td>21.0</td>\n",
       "      <td>22</td>\n",
       "      <td>23.0</td>\n",
       "      <td>21.0</td>\n",
       "      <td>23.0</td>\n",
       "      <td>24.0</td>\n",
       "    </tr>\n",
       "    <tr>\n",
       "      <th>6</th>\n",
       "      <td>NaN</td>\n",
       "      <td>NaN</td>\n",
       "      <td>27</td>\n",
       "      <td>NaN</td>\n",
       "      <td>26.0</td>\n",
       "      <td>28.0</td>\n",
       "      <td>29.0</td>\n",
       "    </tr>\n",
       "  </tbody>\n",
       "</table>\n",
       "</div>"
      ],
      "text/plain": [
       "      A   B_x   C   D_x   B_y   D_y     E\n",
       "0   0.0   1.0   2   3.0   NaN   NaN   NaN\n",
       "1   5.0   6.0   7   8.0  99.0   8.0   9.0\n",
       "2   5.0   6.0   7   8.0  11.0  13.0  14.0\n",
       "3  10.0  11.0  12  13.0   NaN   NaN   NaN\n",
       "4  15.0  16.0  17  18.0  16.0  18.0  19.0\n",
       "5  20.0  21.0  22  23.0  21.0  23.0  24.0\n",
       "6   NaN   NaN  27   NaN  26.0  28.0  29.0"
      ]
     },
     "execution_count": 164,
     "metadata": {},
     "output_type": "execute_result"
    }
   ],
   "source": [
    "df1.merge(df3, how='outer', on='C')"
   ]
  },
  {
   "cell_type": "code",
   "execution_count": 132,
   "id": "f6f47174",
   "metadata": {},
   "outputs": [
    {
     "data": {
      "text/html": [
       "<div>\n",
       "<style scoped>\n",
       "    .dataframe tbody tr th:only-of-type {\n",
       "        vertical-align: middle;\n",
       "    }\n",
       "\n",
       "    .dataframe tbody tr th {\n",
       "        vertical-align: top;\n",
       "    }\n",
       "\n",
       "    .dataframe thead th {\n",
       "        text-align: right;\n",
       "    }\n",
       "</style>\n",
       "<table border=\"1\" class=\"dataframe\">\n",
       "  <thead>\n",
       "    <tr style=\"text-align: right;\">\n",
       "      <th></th>\n",
       "      <th>A</th>\n",
       "      <th>B</th>\n",
       "      <th>C</th>\n",
       "      <th>D</th>\n",
       "      <th>E</th>\n",
       "    </tr>\n",
       "  </thead>\n",
       "  <tbody>\n",
       "    <tr>\n",
       "      <th>a</th>\n",
       "      <td>0</td>\n",
       "      <td>1</td>\n",
       "      <td>2</td>\n",
       "      <td>3</td>\n",
       "      <td>4</td>\n",
       "    </tr>\n",
       "    <tr>\n",
       "      <th>b</th>\n",
       "      <td>5</td>\n",
       "      <td>6</td>\n",
       "      <td>7</td>\n",
       "      <td>8</td>\n",
       "      <td>9</td>\n",
       "    </tr>\n",
       "    <tr>\n",
       "      <th>c</th>\n",
       "      <td>10</td>\n",
       "      <td>11</td>\n",
       "      <td>12</td>\n",
       "      <td>13</td>\n",
       "      <td>14</td>\n",
       "    </tr>\n",
       "    <tr>\n",
       "      <th>d</th>\n",
       "      <td>15</td>\n",
       "      <td>16</td>\n",
       "      <td>17</td>\n",
       "      <td>18</td>\n",
       "      <td>19</td>\n",
       "    </tr>\n",
       "    <tr>\n",
       "      <th>e</th>\n",
       "      <td>20</td>\n",
       "      <td>21</td>\n",
       "      <td>22</td>\n",
       "      <td>23</td>\n",
       "      <td>24</td>\n",
       "    </tr>\n",
       "    <tr>\n",
       "      <th>f</th>\n",
       "      <td>25</td>\n",
       "      <td>26</td>\n",
       "      <td>27</td>\n",
       "      <td>28</td>\n",
       "      <td>29</td>\n",
       "    </tr>\n",
       "  </tbody>\n",
       "</table>\n",
       "</div>"
      ],
      "text/plain": [
       "    A   B   C   D   E\n",
       "a   0   1   2   3   4\n",
       "b   5   6   7   8   9\n",
       "c  10  11  12  13  14\n",
       "d  15  16  17  18  19\n",
       "e  20  21  22  23  24\n",
       "f  25  26  27  28  29"
      ]
     },
     "execution_count": 132,
     "metadata": {},
     "output_type": "execute_result"
    }
   ],
   "source": [
    "df2"
   ]
  },
  {
   "cell_type": "code",
   "execution_count": null,
   "id": "85e4f466",
   "metadata": {},
   "outputs": [],
   "source": []
  },
  {
   "cell_type": "code",
   "execution_count": 97,
   "id": "79cef87a",
   "metadata": {},
   "outputs": [],
   "source": [
    "df.insert(2, \"Age\", [21, 23, 24, 21, 34,11])"
   ]
  },
  {
   "cell_type": "code",
   "execution_count": 91,
   "id": "ae42c134",
   "metadata": {},
   "outputs": [
    {
     "data": {
      "text/html": [
       "<div>\n",
       "<style scoped>\n",
       "    .dataframe tbody tr th:only-of-type {\n",
       "        vertical-align: middle;\n",
       "    }\n",
       "\n",
       "    .dataframe tbody tr th {\n",
       "        vertical-align: top;\n",
       "    }\n",
       "\n",
       "    .dataframe thead th {\n",
       "        text-align: right;\n",
       "    }\n",
       "</style>\n",
       "<table border=\"1\" class=\"dataframe\">\n",
       "  <thead>\n",
       "    <tr style=\"text-align: right;\">\n",
       "      <th></th>\n",
       "      <th>A</th>\n",
       "      <th>B</th>\n",
       "      <th>Age</th>\n",
       "      <th>C</th>\n",
       "      <th>D</th>\n",
       "      <th>E</th>\n",
       "    </tr>\n",
       "  </thead>\n",
       "  <tbody>\n",
       "    <tr>\n",
       "      <th>a</th>\n",
       "      <td>0</td>\n",
       "      <td>1</td>\n",
       "      <td>21</td>\n",
       "      <td>2</td>\n",
       "      <td>3</td>\n",
       "      <td>4</td>\n",
       "    </tr>\n",
       "    <tr>\n",
       "      <th>b</th>\n",
       "      <td>5</td>\n",
       "      <td>6</td>\n",
       "      <td>23</td>\n",
       "      <td>7</td>\n",
       "      <td>8</td>\n",
       "      <td>9</td>\n",
       "    </tr>\n",
       "    <tr>\n",
       "      <th>c</th>\n",
       "      <td>10</td>\n",
       "      <td>11</td>\n",
       "      <td>24</td>\n",
       "      <td>12</td>\n",
       "      <td>13</td>\n",
       "      <td>14</td>\n",
       "    </tr>\n",
       "    <tr>\n",
       "      <th>d</th>\n",
       "      <td>15</td>\n",
       "      <td>16</td>\n",
       "      <td>21</td>\n",
       "      <td>17</td>\n",
       "      <td>18</td>\n",
       "      <td>19</td>\n",
       "    </tr>\n",
       "    <tr>\n",
       "      <th>e</th>\n",
       "      <td>20</td>\n",
       "      <td>21</td>\n",
       "      <td>34</td>\n",
       "      <td>22</td>\n",
       "      <td>23</td>\n",
       "      <td>24</td>\n",
       "    </tr>\n",
       "    <tr>\n",
       "      <th>f</th>\n",
       "      <td>25</td>\n",
       "      <td>26</td>\n",
       "      <td>11</td>\n",
       "      <td>27</td>\n",
       "      <td>28</td>\n",
       "      <td>29</td>\n",
       "    </tr>\n",
       "  </tbody>\n",
       "</table>\n",
       "</div>"
      ],
      "text/plain": [
       "    A   B  Age   C   D   E\n",
       "a   0   1   21   2   3   4\n",
       "b   5   6   23   7   8   9\n",
       "c  10  11   24  12  13  14\n",
       "d  15  16   21  17  18  19\n",
       "e  20  21   34  22  23  24\n",
       "f  25  26   11  27  28  29"
      ]
     },
     "execution_count": 91,
     "metadata": {},
     "output_type": "execute_result"
    }
   ],
   "source": [
    "df"
   ]
  },
  {
   "cell_type": "code",
   "execution_count": 67,
   "id": "c162951c",
   "metadata": {},
   "outputs": [
    {
     "data": {
      "text/html": [
       "<div>\n",
       "<style scoped>\n",
       "    .dataframe tbody tr th:only-of-type {\n",
       "        vertical-align: middle;\n",
       "    }\n",
       "\n",
       "    .dataframe tbody tr th {\n",
       "        vertical-align: top;\n",
       "    }\n",
       "\n",
       "    .dataframe thead th {\n",
       "        text-align: right;\n",
       "    }\n",
       "</style>\n",
       "<table border=\"1\" class=\"dataframe\">\n",
       "  <thead>\n",
       "    <tr style=\"text-align: right;\">\n",
       "      <th></th>\n",
       "      <th>B</th>\n",
       "      <th>C</th>\n",
       "      <th>D</th>\n",
       "      <th>E</th>\n",
       "    </tr>\n",
       "    <tr>\n",
       "      <th>A</th>\n",
       "      <th></th>\n",
       "      <th></th>\n",
       "      <th></th>\n",
       "      <th></th>\n",
       "    </tr>\n",
       "  </thead>\n",
       "  <tbody>\n",
       "    <tr>\n",
       "      <th>0</th>\n",
       "      <td>1</td>\n",
       "      <td>2</td>\n",
       "      <td>3</td>\n",
       "      <td>4</td>\n",
       "    </tr>\n",
       "    <tr>\n",
       "      <th>5</th>\n",
       "      <td>6</td>\n",
       "      <td>7</td>\n",
       "      <td>8</td>\n",
       "      <td>9</td>\n",
       "    </tr>\n",
       "    <tr>\n",
       "      <th>10</th>\n",
       "      <td>11</td>\n",
       "      <td>12</td>\n",
       "      <td>13</td>\n",
       "      <td>14</td>\n",
       "    </tr>\n",
       "    <tr>\n",
       "      <th>15</th>\n",
       "      <td>16</td>\n",
       "      <td>17</td>\n",
       "      <td>18</td>\n",
       "      <td>19</td>\n",
       "    </tr>\n",
       "    <tr>\n",
       "      <th>20</th>\n",
       "      <td>21</td>\n",
       "      <td>22</td>\n",
       "      <td>23</td>\n",
       "      <td>24</td>\n",
       "    </tr>\n",
       "    <tr>\n",
       "      <th>25</th>\n",
       "      <td>26</td>\n",
       "      <td>27</td>\n",
       "      <td>28</td>\n",
       "      <td>29</td>\n",
       "    </tr>\n",
       "  </tbody>\n",
       "</table>\n",
       "</div>"
      ],
      "text/plain": [
       "     B   C   D   E\n",
       "A                 \n",
       "0    1   2   3   4\n",
       "5    6   7   8   9\n",
       "10  11  12  13  14\n",
       "15  16  17  18  19\n",
       "20  21  22  23  24\n",
       "25  26  27  28  29"
      ]
     },
     "execution_count": 67,
     "metadata": {},
     "output_type": "execute_result"
    }
   ],
   "source": [
    "df.drop('Age', axis=1)"
   ]
  },
  {
   "cell_type": "code",
   "execution_count": 167,
   "id": "51be1a60",
   "metadata": {},
   "outputs": [
    {
     "data": {
      "text/html": [
       "<div>\n",
       "<style scoped>\n",
       "    .dataframe tbody tr th:only-of-type {\n",
       "        vertical-align: middle;\n",
       "    }\n",
       "\n",
       "    .dataframe tbody tr th {\n",
       "        vertical-align: top;\n",
       "    }\n",
       "\n",
       "    .dataframe thead th {\n",
       "        text-align: right;\n",
       "    }\n",
       "</style>\n",
       "<table border=\"1\" class=\"dataframe\">\n",
       "  <thead>\n",
       "    <tr style=\"text-align: right;\">\n",
       "      <th></th>\n",
       "      <th>A</th>\n",
       "      <th>B</th>\n",
       "      <th>C</th>\n",
       "      <th>D</th>\n",
       "      <th>E</th>\n",
       "    </tr>\n",
       "    <tr>\n",
       "      <th>ind</th>\n",
       "      <th></th>\n",
       "      <th></th>\n",
       "      <th></th>\n",
       "      <th></th>\n",
       "      <th></th>\n",
       "    </tr>\n",
       "  </thead>\n",
       "  <tbody>\n",
       "    <tr>\n",
       "      <th>a</th>\n",
       "      <td>0</td>\n",
       "      <td>1</td>\n",
       "      <td>2</td>\n",
       "      <td>3</td>\n",
       "      <td>4</td>\n",
       "    </tr>\n",
       "    <tr>\n",
       "      <th>b</th>\n",
       "      <td>5</td>\n",
       "      <td>6</td>\n",
       "      <td>7</td>\n",
       "      <td>8</td>\n",
       "      <td>9</td>\n",
       "    </tr>\n",
       "    <tr>\n",
       "      <th>c</th>\n",
       "      <td>10</td>\n",
       "      <td>11</td>\n",
       "      <td>12</td>\n",
       "      <td>13</td>\n",
       "      <td>14</td>\n",
       "    </tr>\n",
       "    <tr>\n",
       "      <th>d</th>\n",
       "      <td>15</td>\n",
       "      <td>16</td>\n",
       "      <td>17</td>\n",
       "      <td>18</td>\n",
       "      <td>19</td>\n",
       "    </tr>\n",
       "    <tr>\n",
       "      <th>e</th>\n",
       "      <td>20</td>\n",
       "      <td>21</td>\n",
       "      <td>22</td>\n",
       "      <td>23</td>\n",
       "      <td>24</td>\n",
       "    </tr>\n",
       "    <tr>\n",
       "      <th>f</th>\n",
       "      <td>25</td>\n",
       "      <td>26</td>\n",
       "      <td>27</td>\n",
       "      <td>28</td>\n",
       "      <td>29</td>\n",
       "    </tr>\n",
       "  </tbody>\n",
       "</table>\n",
       "</div>"
      ],
      "text/plain": [
       "      A   B   C   D   E\n",
       "ind                    \n",
       "a     0   1   2   3   4\n",
       "b     5   6   7   8   9\n",
       "c    10  11  12  13  14\n",
       "d    15  16  17  18  19\n",
       "e    20  21  22  23  24\n",
       "f    25  26  27  28  29"
      ]
     },
     "execution_count": 167,
     "metadata": {},
     "output_type": "execute_result"
    }
   ],
   "source": [
    "df"
   ]
  },
  {
   "cell_type": "code",
   "execution_count": 170,
   "id": "7ad5947b",
   "metadata": {},
   "outputs": [
    {
     "data": {
      "text/html": [
       "<div>\n",
       "<style scoped>\n",
       "    .dataframe tbody tr th:only-of-type {\n",
       "        vertical-align: middle;\n",
       "    }\n",
       "\n",
       "    .dataframe tbody tr th {\n",
       "        vertical-align: top;\n",
       "    }\n",
       "\n",
       "    .dataframe thead th {\n",
       "        text-align: right;\n",
       "    }\n",
       "</style>\n",
       "<table border=\"1\" class=\"dataframe\">\n",
       "  <thead>\n",
       "    <tr style=\"text-align: right;\">\n",
       "      <th></th>\n",
       "      <th>C</th>\n",
       "      <th>D</th>\n",
       "      <th>E</th>\n",
       "    </tr>\n",
       "    <tr>\n",
       "      <th>ind</th>\n",
       "      <th></th>\n",
       "      <th></th>\n",
       "      <th></th>\n",
       "    </tr>\n",
       "  </thead>\n",
       "  <tbody>\n",
       "    <tr>\n",
       "      <th>a</th>\n",
       "      <td>2</td>\n",
       "      <td>3</td>\n",
       "      <td>4</td>\n",
       "    </tr>\n",
       "    <tr>\n",
       "      <th>b</th>\n",
       "      <td>7</td>\n",
       "      <td>8</td>\n",
       "      <td>9</td>\n",
       "    </tr>\n",
       "    <tr>\n",
       "      <th>c</th>\n",
       "      <td>12</td>\n",
       "      <td>13</td>\n",
       "      <td>14</td>\n",
       "    </tr>\n",
       "    <tr>\n",
       "      <th>d</th>\n",
       "      <td>17</td>\n",
       "      <td>18</td>\n",
       "      <td>19</td>\n",
       "    </tr>\n",
       "    <tr>\n",
       "      <th>e</th>\n",
       "      <td>22</td>\n",
       "      <td>23</td>\n",
       "      <td>24</td>\n",
       "    </tr>\n",
       "    <tr>\n",
       "      <th>f</th>\n",
       "      <td>27</td>\n",
       "      <td>28</td>\n",
       "      <td>29</td>\n",
       "    </tr>\n",
       "  </tbody>\n",
       "</table>\n",
       "</div>"
      ],
      "text/plain": [
       "      C   D   E\n",
       "ind            \n",
       "a     2   3   4\n",
       "b     7   8   9\n",
       "c    12  13  14\n",
       "d    17  18  19\n",
       "e    22  23  24\n",
       "f    27  28  29"
      ]
     },
     "execution_count": 170,
     "metadata": {},
     "output_type": "execute_result"
    }
   ],
   "source": [
    "df.drop(['A','B'], axis=1)"
   ]
  },
  {
   "cell_type": "code",
   "execution_count": 192,
   "id": "b68302c9",
   "metadata": {},
   "outputs": [
    {
     "data": {
      "text/html": [
       "<div>\n",
       "<style scoped>\n",
       "    .dataframe tbody tr th:only-of-type {\n",
       "        vertical-align: middle;\n",
       "    }\n",
       "\n",
       "    .dataframe tbody tr th {\n",
       "        vertical-align: top;\n",
       "    }\n",
       "\n",
       "    .dataframe thead th {\n",
       "        text-align: right;\n",
       "    }\n",
       "</style>\n",
       "<table border=\"1\" class=\"dataframe\">\n",
       "  <thead>\n",
       "    <tr style=\"text-align: right;\">\n",
       "      <th></th>\n",
       "      <th>A</th>\n",
       "      <th>B</th>\n",
       "      <th>C</th>\n",
       "      <th>D</th>\n",
       "      <th>E</th>\n",
       "    </tr>\n",
       "    <tr>\n",
       "      <th>ind</th>\n",
       "      <th></th>\n",
       "      <th></th>\n",
       "      <th></th>\n",
       "      <th></th>\n",
       "      <th></th>\n",
       "    </tr>\n",
       "  </thead>\n",
       "  <tbody>\n",
       "    <tr>\n",
       "      <th>a</th>\n",
       "      <td>0</td>\n",
       "      <td>1</td>\n",
       "      <td>2</td>\n",
       "      <td>3</td>\n",
       "      <td>4</td>\n",
       "    </tr>\n",
       "    <tr>\n",
       "      <th>b</th>\n",
       "      <td>5</td>\n",
       "      <td>6</td>\n",
       "      <td>7</td>\n",
       "      <td>8</td>\n",
       "      <td>9</td>\n",
       "    </tr>\n",
       "    <tr>\n",
       "      <th>c</th>\n",
       "      <td>10</td>\n",
       "      <td>11</td>\n",
       "      <td>12</td>\n",
       "      <td>13</td>\n",
       "      <td>14</td>\n",
       "    </tr>\n",
       "    <tr>\n",
       "      <th>d</th>\n",
       "      <td>15</td>\n",
       "      <td>16</td>\n",
       "      <td>17</td>\n",
       "      <td>18</td>\n",
       "      <td>19</td>\n",
       "    </tr>\n",
       "    <tr>\n",
       "      <th>e</th>\n",
       "      <td>20</td>\n",
       "      <td>21</td>\n",
       "      <td>22</td>\n",
       "      <td>23</td>\n",
       "      <td>24</td>\n",
       "    </tr>\n",
       "    <tr>\n",
       "      <th>f</th>\n",
       "      <td>25</td>\n",
       "      <td>26</td>\n",
       "      <td>27</td>\n",
       "      <td>28</td>\n",
       "      <td>29</td>\n",
       "    </tr>\n",
       "  </tbody>\n",
       "</table>\n",
       "</div>"
      ],
      "text/plain": [
       "      A   B   C   D   E\n",
       "ind                    \n",
       "a     0   1   2   3   4\n",
       "b     5   6   7   8   9\n",
       "c    10  11  12  13  14\n",
       "d    15  16  17  18  19\n",
       "e    20  21  22  23  24\n",
       "f    25  26  27  28  29"
      ]
     },
     "execution_count": 192,
     "metadata": {},
     "output_type": "execute_result"
    }
   ],
   "source": [
    "df"
   ]
  },
  {
   "cell_type": "code",
   "execution_count": 193,
   "id": "f96cd9d4",
   "metadata": {},
   "outputs": [
    {
     "data": {
      "text/html": [
       "<div>\n",
       "<style scoped>\n",
       "    .dataframe tbody tr th:only-of-type {\n",
       "        vertical-align: middle;\n",
       "    }\n",
       "\n",
       "    .dataframe tbody tr th {\n",
       "        vertical-align: top;\n",
       "    }\n",
       "\n",
       "    .dataframe thead th {\n",
       "        text-align: right;\n",
       "    }\n",
       "</style>\n",
       "<table border=\"1\" class=\"dataframe\">\n",
       "  <thead>\n",
       "    <tr style=\"text-align: right;\">\n",
       "      <th></th>\n",
       "      <th>A</th>\n",
       "      <th>B</th>\n",
       "      <th>C</th>\n",
       "      <th>D</th>\n",
       "    </tr>\n",
       "    <tr>\n",
       "      <th>ind</th>\n",
       "      <th></th>\n",
       "      <th></th>\n",
       "      <th></th>\n",
       "      <th></th>\n",
       "    </tr>\n",
       "  </thead>\n",
       "  <tbody>\n",
       "    <tr>\n",
       "      <th>a</th>\n",
       "      <td>0</td>\n",
       "      <td>1</td>\n",
       "      <td>2</td>\n",
       "      <td>3</td>\n",
       "    </tr>\n",
       "    <tr>\n",
       "      <th>b</th>\n",
       "      <td>5</td>\n",
       "      <td>6</td>\n",
       "      <td>7</td>\n",
       "      <td>8</td>\n",
       "    </tr>\n",
       "    <tr>\n",
       "      <th>c</th>\n",
       "      <td>10</td>\n",
       "      <td>11</td>\n",
       "      <td>12</td>\n",
       "      <td>13</td>\n",
       "    </tr>\n",
       "    <tr>\n",
       "      <th>d</th>\n",
       "      <td>15</td>\n",
       "      <td>16</td>\n",
       "      <td>17</td>\n",
       "      <td>18</td>\n",
       "    </tr>\n",
       "    <tr>\n",
       "      <th>e</th>\n",
       "      <td>20</td>\n",
       "      <td>21</td>\n",
       "      <td>22</td>\n",
       "      <td>23</td>\n",
       "    </tr>\n",
       "  </tbody>\n",
       "</table>\n",
       "</div>"
      ],
      "text/plain": [
       "      A   B   C   D\n",
       "ind                \n",
       "a     0   1   2   3\n",
       "b     5   6   7   8\n",
       "c    10  11  12  13\n",
       "d    15  16  17  18\n",
       "e    20  21  22  23"
      ]
     },
     "execution_count": 193,
     "metadata": {},
     "output_type": "execute_result"
    }
   ],
   "source": [
    "df1"
   ]
  },
  {
   "cell_type": "code",
   "execution_count": 198,
   "id": "7854f5e5",
   "metadata": {},
   "outputs": [
    {
     "data": {
      "text/html": [
       "<div>\n",
       "<style scoped>\n",
       "    .dataframe tbody tr th:only-of-type {\n",
       "        vertical-align: middle;\n",
       "    }\n",
       "\n",
       "    .dataframe tbody tr th {\n",
       "        vertical-align: top;\n",
       "    }\n",
       "\n",
       "    .dataframe thead th {\n",
       "        text-align: right;\n",
       "    }\n",
       "</style>\n",
       "<table border=\"1\" class=\"dataframe\">\n",
       "  <thead>\n",
       "    <tr style=\"text-align: right;\">\n",
       "      <th></th>\n",
       "      <th>B</th>\n",
       "      <th>C</th>\n",
       "      <th>D</th>\n",
       "      <th>E</th>\n",
       "    </tr>\n",
       "    <tr>\n",
       "      <th>ind</th>\n",
       "      <th></th>\n",
       "      <th></th>\n",
       "      <th></th>\n",
       "      <th></th>\n",
       "    </tr>\n",
       "  </thead>\n",
       "  <tbody>\n",
       "    <tr>\n",
       "      <th>b</th>\n",
       "      <td>6</td>\n",
       "      <td>7</td>\n",
       "      <td>8</td>\n",
       "      <td>9</td>\n",
       "    </tr>\n",
       "    <tr>\n",
       "      <th>c</th>\n",
       "      <td>11</td>\n",
       "      <td>12</td>\n",
       "      <td>13</td>\n",
       "      <td>14</td>\n",
       "    </tr>\n",
       "    <tr>\n",
       "      <th>d</th>\n",
       "      <td>16</td>\n",
       "      <td>17</td>\n",
       "      <td>18</td>\n",
       "      <td>19</td>\n",
       "    </tr>\n",
       "    <tr>\n",
       "      <th>e</th>\n",
       "      <td>21</td>\n",
       "      <td>22</td>\n",
       "      <td>23</td>\n",
       "      <td>24</td>\n",
       "    </tr>\n",
       "    <tr>\n",
       "      <th>f</th>\n",
       "      <td>26</td>\n",
       "      <td>27</td>\n",
       "      <td>28</td>\n",
       "      <td>29</td>\n",
       "    </tr>\n",
       "  </tbody>\n",
       "</table>\n",
       "</div>"
      ],
      "text/plain": [
       "      B   C   D   E\n",
       "ind                \n",
       "b     6   7   8   9\n",
       "c    11  12  13  14\n",
       "d    16  17  18  19\n",
       "e    21  22  23  24\n",
       "f    26  27  28  29"
      ]
     },
     "execution_count": 198,
     "metadata": {},
     "output_type": "execute_result"
    }
   ],
   "source": [
    "df2"
   ]
  },
  {
   "cell_type": "code",
   "execution_count": 174,
   "id": "d579fd60",
   "metadata": {},
   "outputs": [
    {
     "data": {
      "text/html": [
       "<div>\n",
       "<style scoped>\n",
       "    .dataframe tbody tr th:only-of-type {\n",
       "        vertical-align: middle;\n",
       "    }\n",
       "\n",
       "    .dataframe tbody tr th {\n",
       "        vertical-align: top;\n",
       "    }\n",
       "\n",
       "    .dataframe thead th {\n",
       "        text-align: right;\n",
       "    }\n",
       "</style>\n",
       "<table border=\"1\" class=\"dataframe\">\n",
       "  <thead>\n",
       "    <tr style=\"text-align: right;\">\n",
       "      <th></th>\n",
       "      <th>A</th>\n",
       "      <th>B_x</th>\n",
       "      <th>C_x</th>\n",
       "      <th>D_x</th>\n",
       "      <th>B_y</th>\n",
       "      <th>C_y</th>\n",
       "      <th>D_y</th>\n",
       "      <th>E</th>\n",
       "    </tr>\n",
       "    <tr>\n",
       "      <th>ind</th>\n",
       "      <th></th>\n",
       "      <th></th>\n",
       "      <th></th>\n",
       "      <th></th>\n",
       "      <th></th>\n",
       "      <th></th>\n",
       "      <th></th>\n",
       "      <th></th>\n",
       "    </tr>\n",
       "  </thead>\n",
       "  <tbody>\n",
       "    <tr>\n",
       "      <th>a</th>\n",
       "      <td>0.0</td>\n",
       "      <td>1.0</td>\n",
       "      <td>2.0</td>\n",
       "      <td>3.0</td>\n",
       "      <td>NaN</td>\n",
       "      <td>NaN</td>\n",
       "      <td>NaN</td>\n",
       "      <td>NaN</td>\n",
       "    </tr>\n",
       "    <tr>\n",
       "      <th>b</th>\n",
       "      <td>5.0</td>\n",
       "      <td>6.0</td>\n",
       "      <td>7.0</td>\n",
       "      <td>8.0</td>\n",
       "      <td>6.0</td>\n",
       "      <td>7.0</td>\n",
       "      <td>8.0</td>\n",
       "      <td>9.0</td>\n",
       "    </tr>\n",
       "    <tr>\n",
       "      <th>c</th>\n",
       "      <td>10.0</td>\n",
       "      <td>11.0</td>\n",
       "      <td>12.0</td>\n",
       "      <td>13.0</td>\n",
       "      <td>11.0</td>\n",
       "      <td>12.0</td>\n",
       "      <td>13.0</td>\n",
       "      <td>14.0</td>\n",
       "    </tr>\n",
       "    <tr>\n",
       "      <th>d</th>\n",
       "      <td>15.0</td>\n",
       "      <td>16.0</td>\n",
       "      <td>17.0</td>\n",
       "      <td>18.0</td>\n",
       "      <td>16.0</td>\n",
       "      <td>17.0</td>\n",
       "      <td>18.0</td>\n",
       "      <td>19.0</td>\n",
       "    </tr>\n",
       "    <tr>\n",
       "      <th>e</th>\n",
       "      <td>20.0</td>\n",
       "      <td>21.0</td>\n",
       "      <td>22.0</td>\n",
       "      <td>23.0</td>\n",
       "      <td>21.0</td>\n",
       "      <td>22.0</td>\n",
       "      <td>23.0</td>\n",
       "      <td>24.0</td>\n",
       "    </tr>\n",
       "    <tr>\n",
       "      <th>f</th>\n",
       "      <td>NaN</td>\n",
       "      <td>NaN</td>\n",
       "      <td>NaN</td>\n",
       "      <td>NaN</td>\n",
       "      <td>26.0</td>\n",
       "      <td>27.0</td>\n",
       "      <td>28.0</td>\n",
       "      <td>29.0</td>\n",
       "    </tr>\n",
       "  </tbody>\n",
       "</table>\n",
       "</div>"
      ],
      "text/plain": [
       "        A   B_x   C_x   D_x   B_y   C_y   D_y     E\n",
       "ind                                                \n",
       "a     0.0   1.0   2.0   3.0   NaN   NaN   NaN   NaN\n",
       "b     5.0   6.0   7.0   8.0   6.0   7.0   8.0   9.0\n",
       "c    10.0  11.0  12.0  13.0  11.0  12.0  13.0  14.0\n",
       "d    15.0  16.0  17.0  18.0  16.0  17.0  18.0  19.0\n",
       "e    20.0  21.0  22.0  23.0  21.0  22.0  23.0  24.0\n",
       "f     NaN   NaN   NaN   NaN  26.0  27.0  28.0  29.0"
      ]
     },
     "execution_count": 174,
     "metadata": {},
     "output_type": "execute_result"
    }
   ],
   "source": [
    "df1.merge(df2, how='outer', left_index=True, right_index=True)\n"
   ]
  },
  {
   "cell_type": "code",
   "execution_count": 175,
   "id": "dfce39aa",
   "metadata": {},
   "outputs": [
    {
     "data": {
      "text/html": [
       "<div>\n",
       "<style scoped>\n",
       "    .dataframe tbody tr th:only-of-type {\n",
       "        vertical-align: middle;\n",
       "    }\n",
       "\n",
       "    .dataframe tbody tr th {\n",
       "        vertical-align: top;\n",
       "    }\n",
       "\n",
       "    .dataframe thead th {\n",
       "        text-align: right;\n",
       "    }\n",
       "</style>\n",
       "<table border=\"1\" class=\"dataframe\">\n",
       "  <thead>\n",
       "    <tr style=\"text-align: right;\">\n",
       "      <th></th>\n",
       "      <th>A</th>\n",
       "      <th>B_x</th>\n",
       "      <th>C_x</th>\n",
       "      <th>D_x</th>\n",
       "      <th>B_y</th>\n",
       "      <th>C_y</th>\n",
       "      <th>D_y</th>\n",
       "      <th>E</th>\n",
       "    </tr>\n",
       "    <tr>\n",
       "      <th>ind</th>\n",
       "      <th></th>\n",
       "      <th></th>\n",
       "      <th></th>\n",
       "      <th></th>\n",
       "      <th></th>\n",
       "      <th></th>\n",
       "      <th></th>\n",
       "      <th></th>\n",
       "    </tr>\n",
       "  </thead>\n",
       "  <tbody>\n",
       "    <tr>\n",
       "      <th>a</th>\n",
       "      <td>0.0</td>\n",
       "      <td>1.0</td>\n",
       "      <td>2.0</td>\n",
       "      <td>3.0</td>\n",
       "      <td>NaN</td>\n",
       "      <td>NaN</td>\n",
       "      <td>NaN</td>\n",
       "      <td>NaN</td>\n",
       "    </tr>\n",
       "    <tr>\n",
       "      <th>b</th>\n",
       "      <td>5.0</td>\n",
       "      <td>6.0</td>\n",
       "      <td>7.0</td>\n",
       "      <td>8.0</td>\n",
       "      <td>6.0</td>\n",
       "      <td>7.0</td>\n",
       "      <td>8.0</td>\n",
       "      <td>9.0</td>\n",
       "    </tr>\n",
       "    <tr>\n",
       "      <th>c</th>\n",
       "      <td>10.0</td>\n",
       "      <td>11.0</td>\n",
       "      <td>12.0</td>\n",
       "      <td>13.0</td>\n",
       "      <td>11.0</td>\n",
       "      <td>12.0</td>\n",
       "      <td>13.0</td>\n",
       "      <td>14.0</td>\n",
       "    </tr>\n",
       "    <tr>\n",
       "      <th>d</th>\n",
       "      <td>15.0</td>\n",
       "      <td>16.0</td>\n",
       "      <td>17.0</td>\n",
       "      <td>18.0</td>\n",
       "      <td>16.0</td>\n",
       "      <td>17.0</td>\n",
       "      <td>18.0</td>\n",
       "      <td>19.0</td>\n",
       "    </tr>\n",
       "    <tr>\n",
       "      <th>e</th>\n",
       "      <td>20.0</td>\n",
       "      <td>21.0</td>\n",
       "      <td>22.0</td>\n",
       "      <td>23.0</td>\n",
       "      <td>21.0</td>\n",
       "      <td>22.0</td>\n",
       "      <td>23.0</td>\n",
       "      <td>24.0</td>\n",
       "    </tr>\n",
       "    <tr>\n",
       "      <th>f</th>\n",
       "      <td>NaN</td>\n",
       "      <td>NaN</td>\n",
       "      <td>NaN</td>\n",
       "      <td>NaN</td>\n",
       "      <td>26.0</td>\n",
       "      <td>27.0</td>\n",
       "      <td>28.0</td>\n",
       "      <td>29.0</td>\n",
       "    </tr>\n",
       "  </tbody>\n",
       "</table>\n",
       "</div>"
      ],
      "text/plain": [
       "        A   B_x   C_x   D_x   B_y   C_y   D_y     E\n",
       "ind                                                \n",
       "a     0.0   1.0   2.0   3.0   NaN   NaN   NaN   NaN\n",
       "b     5.0   6.0   7.0   8.0   6.0   7.0   8.0   9.0\n",
       "c    10.0  11.0  12.0  13.0  11.0  12.0  13.0  14.0\n",
       "d    15.0  16.0  17.0  18.0  16.0  17.0  18.0  19.0\n",
       "e    20.0  21.0  22.0  23.0  21.0  22.0  23.0  24.0\n",
       "f     NaN   NaN   NaN   NaN  26.0  27.0  28.0  29.0"
      ]
     },
     "execution_count": 175,
     "metadata": {},
     "output_type": "execute_result"
    }
   ],
   "source": [
    "df1.merge(df2, how='outer', on='ind')\n"
   ]
  },
  {
   "cell_type": "code",
   "execution_count": 179,
   "id": "ccd0aaf6",
   "metadata": {},
   "outputs": [
    {
     "data": {
      "text/html": [
       "<div>\n",
       "<style scoped>\n",
       "    .dataframe tbody tr th:only-of-type {\n",
       "        vertical-align: middle;\n",
       "    }\n",
       "\n",
       "    .dataframe tbody tr th {\n",
       "        vertical-align: top;\n",
       "    }\n",
       "\n",
       "    .dataframe thead th {\n",
       "        text-align: right;\n",
       "    }\n",
       "</style>\n",
       "<table border=\"1\" class=\"dataframe\">\n",
       "  <thead>\n",
       "    <tr style=\"text-align: right;\">\n",
       "      <th></th>\n",
       "      <th>A</th>\n",
       "      <th>B_L</th>\n",
       "      <th>C_L</th>\n",
       "      <th>D_L</th>\n",
       "      <th>B</th>\n",
       "      <th>C</th>\n",
       "      <th>D</th>\n",
       "      <th>E</th>\n",
       "    </tr>\n",
       "    <tr>\n",
       "      <th>ind</th>\n",
       "      <th></th>\n",
       "      <th></th>\n",
       "      <th></th>\n",
       "      <th></th>\n",
       "      <th></th>\n",
       "      <th></th>\n",
       "      <th></th>\n",
       "      <th></th>\n",
       "    </tr>\n",
       "  </thead>\n",
       "  <tbody>\n",
       "    <tr>\n",
       "      <th>a</th>\n",
       "      <td>0.0</td>\n",
       "      <td>1.0</td>\n",
       "      <td>2.0</td>\n",
       "      <td>3.0</td>\n",
       "      <td>NaN</td>\n",
       "      <td>NaN</td>\n",
       "      <td>NaN</td>\n",
       "      <td>NaN</td>\n",
       "    </tr>\n",
       "    <tr>\n",
       "      <th>b</th>\n",
       "      <td>5.0</td>\n",
       "      <td>6.0</td>\n",
       "      <td>7.0</td>\n",
       "      <td>8.0</td>\n",
       "      <td>6.0</td>\n",
       "      <td>7.0</td>\n",
       "      <td>8.0</td>\n",
       "      <td>9.0</td>\n",
       "    </tr>\n",
       "    <tr>\n",
       "      <th>c</th>\n",
       "      <td>10.0</td>\n",
       "      <td>11.0</td>\n",
       "      <td>12.0</td>\n",
       "      <td>13.0</td>\n",
       "      <td>11.0</td>\n",
       "      <td>12.0</td>\n",
       "      <td>13.0</td>\n",
       "      <td>14.0</td>\n",
       "    </tr>\n",
       "    <tr>\n",
       "      <th>d</th>\n",
       "      <td>15.0</td>\n",
       "      <td>16.0</td>\n",
       "      <td>17.0</td>\n",
       "      <td>18.0</td>\n",
       "      <td>16.0</td>\n",
       "      <td>17.0</td>\n",
       "      <td>18.0</td>\n",
       "      <td>19.0</td>\n",
       "    </tr>\n",
       "    <tr>\n",
       "      <th>e</th>\n",
       "      <td>20.0</td>\n",
       "      <td>21.0</td>\n",
       "      <td>22.0</td>\n",
       "      <td>23.0</td>\n",
       "      <td>21.0</td>\n",
       "      <td>22.0</td>\n",
       "      <td>23.0</td>\n",
       "      <td>24.0</td>\n",
       "    </tr>\n",
       "    <tr>\n",
       "      <th>f</th>\n",
       "      <td>NaN</td>\n",
       "      <td>NaN</td>\n",
       "      <td>NaN</td>\n",
       "      <td>NaN</td>\n",
       "      <td>26.0</td>\n",
       "      <td>27.0</td>\n",
       "      <td>28.0</td>\n",
       "      <td>29.0</td>\n",
       "    </tr>\n",
       "  </tbody>\n",
       "</table>\n",
       "</div>"
      ],
      "text/plain": [
       "        A   B_L   C_L   D_L     B     C     D     E\n",
       "ind                                                \n",
       "a     0.0   1.0   2.0   3.0   NaN   NaN   NaN   NaN\n",
       "b     5.0   6.0   7.0   8.0   6.0   7.0   8.0   9.0\n",
       "c    10.0  11.0  12.0  13.0  11.0  12.0  13.0  14.0\n",
       "d    15.0  16.0  17.0  18.0  16.0  17.0  18.0  19.0\n",
       "e    20.0  21.0  22.0  23.0  21.0  22.0  23.0  24.0\n",
       "f     NaN   NaN   NaN   NaN  26.0  27.0  28.0  29.0"
      ]
     },
     "execution_count": 179,
     "metadata": {},
     "output_type": "execute_result"
    }
   ],
   "source": [
    "df1.join(df2, how='outer', lsuffix='_L')"
   ]
  },
  {
   "cell_type": "code",
   "execution_count": 183,
   "id": "4d497af4",
   "metadata": {},
   "outputs": [
    {
     "data": {
      "text/html": [
       "<div>\n",
       "<style scoped>\n",
       "    .dataframe tbody tr th:only-of-type {\n",
       "        vertical-align: middle;\n",
       "    }\n",
       "\n",
       "    .dataframe tbody tr th {\n",
       "        vertical-align: top;\n",
       "    }\n",
       "\n",
       "    .dataframe thead th {\n",
       "        text-align: right;\n",
       "    }\n",
       "</style>\n",
       "<table border=\"1\" class=\"dataframe\">\n",
       "  <thead>\n",
       "    <tr style=\"text-align: right;\">\n",
       "      <th></th>\n",
       "      <th>A</th>\n",
       "      <th>B</th>\n",
       "      <th>C</th>\n",
       "      <th>D</th>\n",
       "    </tr>\n",
       "    <tr>\n",
       "      <th>ind</th>\n",
       "      <th></th>\n",
       "      <th></th>\n",
       "      <th></th>\n",
       "      <th></th>\n",
       "    </tr>\n",
       "  </thead>\n",
       "  <tbody>\n",
       "    <tr>\n",
       "      <th>a</th>\n",
       "      <td>0</td>\n",
       "      <td>1</td>\n",
       "      <td>2</td>\n",
       "      <td>3</td>\n",
       "    </tr>\n",
       "    <tr>\n",
       "      <th>b</th>\n",
       "      <td>5</td>\n",
       "      <td>6</td>\n",
       "      <td>7</td>\n",
       "      <td>8</td>\n",
       "    </tr>\n",
       "    <tr>\n",
       "      <th>c</th>\n",
       "      <td>10</td>\n",
       "      <td>11</td>\n",
       "      <td>12</td>\n",
       "      <td>13</td>\n",
       "    </tr>\n",
       "    <tr>\n",
       "      <th>d</th>\n",
       "      <td>15</td>\n",
       "      <td>16</td>\n",
       "      <td>17</td>\n",
       "      <td>18</td>\n",
       "    </tr>\n",
       "    <tr>\n",
       "      <th>e</th>\n",
       "      <td>20</td>\n",
       "      <td>21</td>\n",
       "      <td>22</td>\n",
       "      <td>23</td>\n",
       "    </tr>\n",
       "  </tbody>\n",
       "</table>\n",
       "</div>"
      ],
      "text/plain": [
       "      A   B   C   D\n",
       "ind                \n",
       "a     0   1   2   3\n",
       "b     5   6   7   8\n",
       "c    10  11  12  13\n",
       "d    15  16  17  18\n",
       "e    20  21  22  23"
      ]
     },
     "execution_count": 183,
     "metadata": {},
     "output_type": "execute_result"
    }
   ],
   "source": [
    "df1"
   ]
  },
  {
   "cell_type": "code",
   "execution_count": 184,
   "id": "1d3d1096",
   "metadata": {},
   "outputs": [
    {
     "data": {
      "text/html": [
       "<div>\n",
       "<style scoped>\n",
       "    .dataframe tbody tr th:only-of-type {\n",
       "        vertical-align: middle;\n",
       "    }\n",
       "\n",
       "    .dataframe tbody tr th {\n",
       "        vertical-align: top;\n",
       "    }\n",
       "\n",
       "    .dataframe thead th {\n",
       "        text-align: right;\n",
       "    }\n",
       "</style>\n",
       "<table border=\"1\" class=\"dataframe\">\n",
       "  <thead>\n",
       "    <tr style=\"text-align: right;\">\n",
       "      <th></th>\n",
       "      <th>B</th>\n",
       "      <th>C</th>\n",
       "      <th>D</th>\n",
       "      <th>E</th>\n",
       "    </tr>\n",
       "    <tr>\n",
       "      <th>ind</th>\n",
       "      <th></th>\n",
       "      <th></th>\n",
       "      <th></th>\n",
       "      <th></th>\n",
       "    </tr>\n",
       "  </thead>\n",
       "  <tbody>\n",
       "    <tr>\n",
       "      <th>b</th>\n",
       "      <td>6</td>\n",
       "      <td>7</td>\n",
       "      <td>8</td>\n",
       "      <td>9</td>\n",
       "    </tr>\n",
       "    <tr>\n",
       "      <th>c</th>\n",
       "      <td>11</td>\n",
       "      <td>12</td>\n",
       "      <td>13</td>\n",
       "      <td>14</td>\n",
       "    </tr>\n",
       "    <tr>\n",
       "      <th>d</th>\n",
       "      <td>16</td>\n",
       "      <td>17</td>\n",
       "      <td>18</td>\n",
       "      <td>19</td>\n",
       "    </tr>\n",
       "    <tr>\n",
       "      <th>e</th>\n",
       "      <td>21</td>\n",
       "      <td>22</td>\n",
       "      <td>23</td>\n",
       "      <td>24</td>\n",
       "    </tr>\n",
       "    <tr>\n",
       "      <th>f</th>\n",
       "      <td>26</td>\n",
       "      <td>27</td>\n",
       "      <td>28</td>\n",
       "      <td>29</td>\n",
       "    </tr>\n",
       "  </tbody>\n",
       "</table>\n",
       "</div>"
      ],
      "text/plain": [
       "      B   C   D   E\n",
       "ind                \n",
       "b     6   7   8   9\n",
       "c    11  12  13  14\n",
       "d    16  17  18  19\n",
       "e    21  22  23  24\n",
       "f    26  27  28  29"
      ]
     },
     "execution_count": 184,
     "metadata": {},
     "output_type": "execute_result"
    }
   ],
   "source": [
    "df2"
   ]
  },
  {
   "cell_type": "code",
   "execution_count": 200,
   "id": "217b3f0c",
   "metadata": {},
   "outputs": [
    {
     "data": {
      "text/html": [
       "<div>\n",
       "<style scoped>\n",
       "    .dataframe tbody tr th:only-of-type {\n",
       "        vertical-align: middle;\n",
       "    }\n",
       "\n",
       "    .dataframe tbody tr th {\n",
       "        vertical-align: top;\n",
       "    }\n",
       "\n",
       "    .dataframe thead th {\n",
       "        text-align: right;\n",
       "    }\n",
       "</style>\n",
       "<table border=\"1\" class=\"dataframe\">\n",
       "  <thead>\n",
       "    <tr style=\"text-align: right;\">\n",
       "      <th></th>\n",
       "      <th>A</th>\n",
       "      <th>B_L</th>\n",
       "      <th>C_L</th>\n",
       "      <th>D_L</th>\n",
       "      <th>B</th>\n",
       "      <th>C</th>\n",
       "      <th>D</th>\n",
       "      <th>E</th>\n",
       "    </tr>\n",
       "    <tr>\n",
       "      <th>ind</th>\n",
       "      <th></th>\n",
       "      <th></th>\n",
       "      <th></th>\n",
       "      <th></th>\n",
       "      <th></th>\n",
       "      <th></th>\n",
       "      <th></th>\n",
       "      <th></th>\n",
       "    </tr>\n",
       "  </thead>\n",
       "  <tbody>\n",
       "    <tr>\n",
       "      <th>a</th>\n",
       "      <td>0.0</td>\n",
       "      <td>1.0</td>\n",
       "      <td>2.0</td>\n",
       "      <td>3.0</td>\n",
       "      <td>NaN</td>\n",
       "      <td>NaN</td>\n",
       "      <td>NaN</td>\n",
       "      <td>NaN</td>\n",
       "    </tr>\n",
       "    <tr>\n",
       "      <th>b</th>\n",
       "      <td>5.0</td>\n",
       "      <td>6.0</td>\n",
       "      <td>7.0</td>\n",
       "      <td>8.0</td>\n",
       "      <td>6.0</td>\n",
       "      <td>7.0</td>\n",
       "      <td>8.0</td>\n",
       "      <td>9.0</td>\n",
       "    </tr>\n",
       "    <tr>\n",
       "      <th>c</th>\n",
       "      <td>10.0</td>\n",
       "      <td>11.0</td>\n",
       "      <td>12.0</td>\n",
       "      <td>13.0</td>\n",
       "      <td>11.0</td>\n",
       "      <td>12.0</td>\n",
       "      <td>13.0</td>\n",
       "      <td>14.0</td>\n",
       "    </tr>\n",
       "    <tr>\n",
       "      <th>d</th>\n",
       "      <td>15.0</td>\n",
       "      <td>16.0</td>\n",
       "      <td>17.0</td>\n",
       "      <td>18.0</td>\n",
       "      <td>16.0</td>\n",
       "      <td>17.0</td>\n",
       "      <td>18.0</td>\n",
       "      <td>19.0</td>\n",
       "    </tr>\n",
       "    <tr>\n",
       "      <th>e</th>\n",
       "      <td>20.0</td>\n",
       "      <td>21.0</td>\n",
       "      <td>22.0</td>\n",
       "      <td>23.0</td>\n",
       "      <td>21.0</td>\n",
       "      <td>22.0</td>\n",
       "      <td>23.0</td>\n",
       "      <td>24.0</td>\n",
       "    </tr>\n",
       "    <tr>\n",
       "      <th>f</th>\n",
       "      <td>NaN</td>\n",
       "      <td>NaN</td>\n",
       "      <td>NaN</td>\n",
       "      <td>NaN</td>\n",
       "      <td>26.0</td>\n",
       "      <td>27.0</td>\n",
       "      <td>28.0</td>\n",
       "      <td>29.0</td>\n",
       "    </tr>\n",
       "  </tbody>\n",
       "</table>\n",
       "</div>"
      ],
      "text/plain": [
       "        A   B_L   C_L   D_L     B     C     D     E\n",
       "ind                                                \n",
       "a     0.0   1.0   2.0   3.0   NaN   NaN   NaN   NaN\n",
       "b     5.0   6.0   7.0   8.0   6.0   7.0   8.0   9.0\n",
       "c    10.0  11.0  12.0  13.0  11.0  12.0  13.0  14.0\n",
       "d    15.0  16.0  17.0  18.0  16.0  17.0  18.0  19.0\n",
       "e    20.0  21.0  22.0  23.0  21.0  22.0  23.0  24.0\n",
       "f     NaN   NaN   NaN   NaN  26.0  27.0  28.0  29.0"
      ]
     },
     "execution_count": 200,
     "metadata": {},
     "output_type": "execute_result"
    }
   ],
   "source": [
    "df1.join(df2, how='outer', lsuffix='_L')"
   ]
  },
  {
   "cell_type": "code",
   "execution_count": 201,
   "id": "8c1b6054",
   "metadata": {},
   "outputs": [
    {
     "data": {
      "text/html": [
       "<div>\n",
       "<style scoped>\n",
       "    .dataframe tbody tr th:only-of-type {\n",
       "        vertical-align: middle;\n",
       "    }\n",
       "\n",
       "    .dataframe tbody tr th {\n",
       "        vertical-align: top;\n",
       "    }\n",
       "\n",
       "    .dataframe thead th {\n",
       "        text-align: right;\n",
       "    }\n",
       "</style>\n",
       "<table border=\"1\" class=\"dataframe\">\n",
       "  <thead>\n",
       "    <tr style=\"text-align: right;\">\n",
       "      <th></th>\n",
       "      <th>A</th>\n",
       "      <th>B_L</th>\n",
       "      <th>C_L</th>\n",
       "      <th>D_L</th>\n",
       "      <th>B</th>\n",
       "      <th>C</th>\n",
       "      <th>D</th>\n",
       "      <th>E</th>\n",
       "    </tr>\n",
       "    <tr>\n",
       "      <th>ind</th>\n",
       "      <th></th>\n",
       "      <th></th>\n",
       "      <th></th>\n",
       "      <th></th>\n",
       "      <th></th>\n",
       "      <th></th>\n",
       "      <th></th>\n",
       "      <th></th>\n",
       "    </tr>\n",
       "  </thead>\n",
       "  <tbody>\n",
       "    <tr>\n",
       "      <th>a</th>\n",
       "      <td>0.0</td>\n",
       "      <td>1.0</td>\n",
       "      <td>2.0</td>\n",
       "      <td>3.0</td>\n",
       "      <td>NaN</td>\n",
       "      <td>NaN</td>\n",
       "      <td>NaN</td>\n",
       "      <td>NaN</td>\n",
       "    </tr>\n",
       "    <tr>\n",
       "      <th>b</th>\n",
       "      <td>5.0</td>\n",
       "      <td>6.0</td>\n",
       "      <td>7.0</td>\n",
       "      <td>8.0</td>\n",
       "      <td>6.0</td>\n",
       "      <td>7.0</td>\n",
       "      <td>8.0</td>\n",
       "      <td>9.0</td>\n",
       "    </tr>\n",
       "    <tr>\n",
       "      <th>c</th>\n",
       "      <td>10.0</td>\n",
       "      <td>11.0</td>\n",
       "      <td>12.0</td>\n",
       "      <td>13.0</td>\n",
       "      <td>11.0</td>\n",
       "      <td>12.0</td>\n",
       "      <td>13.0</td>\n",
       "      <td>14.0</td>\n",
       "    </tr>\n",
       "    <tr>\n",
       "      <th>d</th>\n",
       "      <td>15.0</td>\n",
       "      <td>16.0</td>\n",
       "      <td>17.0</td>\n",
       "      <td>18.0</td>\n",
       "      <td>16.0</td>\n",
       "      <td>17.0</td>\n",
       "      <td>18.0</td>\n",
       "      <td>19.0</td>\n",
       "    </tr>\n",
       "    <tr>\n",
       "      <th>e</th>\n",
       "      <td>20.0</td>\n",
       "      <td>21.0</td>\n",
       "      <td>22.0</td>\n",
       "      <td>23.0</td>\n",
       "      <td>21.0</td>\n",
       "      <td>22.0</td>\n",
       "      <td>23.0</td>\n",
       "      <td>24.0</td>\n",
       "    </tr>\n",
       "    <tr>\n",
       "      <th>f</th>\n",
       "      <td>NaN</td>\n",
       "      <td>NaN</td>\n",
       "      <td>NaN</td>\n",
       "      <td>NaN</td>\n",
       "      <td>26.0</td>\n",
       "      <td>27.0</td>\n",
       "      <td>28.0</td>\n",
       "      <td>29.0</td>\n",
       "    </tr>\n",
       "  </tbody>\n",
       "</table>\n",
       "</div>"
      ],
      "text/plain": [
       "        A   B_L   C_L   D_L     B     C     D     E\n",
       "ind                                                \n",
       "a     0.0   1.0   2.0   3.0   NaN   NaN   NaN   NaN\n",
       "b     5.0   6.0   7.0   8.0   6.0   7.0   8.0   9.0\n",
       "c    10.0  11.0  12.0  13.0  11.0  12.0  13.0  14.0\n",
       "d    15.0  16.0  17.0  18.0  16.0  17.0  18.0  19.0\n",
       "e    20.0  21.0  22.0  23.0  21.0  22.0  23.0  24.0\n",
       "f     NaN   NaN   NaN   NaN  26.0  27.0  28.0  29.0"
      ]
     },
     "execution_count": 201,
     "metadata": {},
     "output_type": "execute_result"
    }
   ],
   "source": [
    "df2 = df1.join(df2, how='outer', lsuffix='_L')\n",
    "df2"
   ]
  },
  {
   "cell_type": "code",
   "execution_count": 188,
   "id": "1030f22e",
   "metadata": {},
   "outputs": [
    {
     "data": {
      "text/html": [
       "<div>\n",
       "<style scoped>\n",
       "    .dataframe tbody tr th:only-of-type {\n",
       "        vertical-align: middle;\n",
       "    }\n",
       "\n",
       "    .dataframe tbody tr th {\n",
       "        vertical-align: top;\n",
       "    }\n",
       "\n",
       "    .dataframe thead th {\n",
       "        text-align: right;\n",
       "    }\n",
       "</style>\n",
       "<table border=\"1\" class=\"dataframe\">\n",
       "  <thead>\n",
       "    <tr style=\"text-align: right;\">\n",
       "      <th></th>\n",
       "      <th>A</th>\n",
       "      <th>B</th>\n",
       "      <th>C</th>\n",
       "      <th>D</th>\n",
       "    </tr>\n",
       "    <tr>\n",
       "      <th>ind</th>\n",
       "      <th></th>\n",
       "      <th></th>\n",
       "      <th></th>\n",
       "      <th></th>\n",
       "    </tr>\n",
       "  </thead>\n",
       "  <tbody>\n",
       "    <tr>\n",
       "      <th>a</th>\n",
       "      <td>0</td>\n",
       "      <td>1</td>\n",
       "      <td>2</td>\n",
       "      <td>3</td>\n",
       "    </tr>\n",
       "    <tr>\n",
       "      <th>b</th>\n",
       "      <td>5</td>\n",
       "      <td>6</td>\n",
       "      <td>7</td>\n",
       "      <td>8</td>\n",
       "    </tr>\n",
       "    <tr>\n",
       "      <th>c</th>\n",
       "      <td>10</td>\n",
       "      <td>11</td>\n",
       "      <td>12</td>\n",
       "      <td>13</td>\n",
       "    </tr>\n",
       "    <tr>\n",
       "      <th>d</th>\n",
       "      <td>15</td>\n",
       "      <td>16</td>\n",
       "      <td>17</td>\n",
       "      <td>18</td>\n",
       "    </tr>\n",
       "    <tr>\n",
       "      <th>e</th>\n",
       "      <td>20</td>\n",
       "      <td>21</td>\n",
       "      <td>22</td>\n",
       "      <td>23</td>\n",
       "    </tr>\n",
       "  </tbody>\n",
       "</table>\n",
       "</div>"
      ],
      "text/plain": [
       "      A   B   C   D\n",
       "ind                \n",
       "a     0   1   2   3\n",
       "b     5   6   7   8\n",
       "c    10  11  12  13\n",
       "d    15  16  17  18\n",
       "e    20  21  22  23"
      ]
     },
     "execution_count": 188,
     "metadata": {},
     "output_type": "execute_result"
    }
   ],
   "source": [
    "df1"
   ]
  },
  {
   "cell_type": "code",
   "execution_count": 199,
   "id": "7e663421",
   "metadata": {},
   "outputs": [
    {
     "data": {
      "text/html": [
       "<div>\n",
       "<style scoped>\n",
       "    .dataframe tbody tr th:only-of-type {\n",
       "        vertical-align: middle;\n",
       "    }\n",
       "\n",
       "    .dataframe tbody tr th {\n",
       "        vertical-align: top;\n",
       "    }\n",
       "\n",
       "    .dataframe thead th {\n",
       "        text-align: right;\n",
       "    }\n",
       "</style>\n",
       "<table border=\"1\" class=\"dataframe\">\n",
       "  <thead>\n",
       "    <tr style=\"text-align: right;\">\n",
       "      <th></th>\n",
       "      <th>B</th>\n",
       "      <th>C</th>\n",
       "      <th>D</th>\n",
       "      <th>E</th>\n",
       "    </tr>\n",
       "    <tr>\n",
       "      <th>ind</th>\n",
       "      <th></th>\n",
       "      <th></th>\n",
       "      <th></th>\n",
       "      <th></th>\n",
       "    </tr>\n",
       "  </thead>\n",
       "  <tbody>\n",
       "    <tr>\n",
       "      <th>b</th>\n",
       "      <td>6</td>\n",
       "      <td>7</td>\n",
       "      <td>8</td>\n",
       "      <td>9</td>\n",
       "    </tr>\n",
       "    <tr>\n",
       "      <th>c</th>\n",
       "      <td>11</td>\n",
       "      <td>12</td>\n",
       "      <td>13</td>\n",
       "      <td>14</td>\n",
       "    </tr>\n",
       "    <tr>\n",
       "      <th>d</th>\n",
       "      <td>16</td>\n",
       "      <td>17</td>\n",
       "      <td>18</td>\n",
       "      <td>19</td>\n",
       "    </tr>\n",
       "    <tr>\n",
       "      <th>e</th>\n",
       "      <td>21</td>\n",
       "      <td>22</td>\n",
       "      <td>23</td>\n",
       "      <td>24</td>\n",
       "    </tr>\n",
       "    <tr>\n",
       "      <th>f</th>\n",
       "      <td>26</td>\n",
       "      <td>27</td>\n",
       "      <td>28</td>\n",
       "      <td>29</td>\n",
       "    </tr>\n",
       "  </tbody>\n",
       "</table>\n",
       "</div>"
      ],
      "text/plain": [
       "      B   C   D   E\n",
       "ind                \n",
       "b     6   7   8   9\n",
       "c    11  12  13  14\n",
       "d    16  17  18  19\n",
       "e    21  22  23  24\n",
       "f    26  27  28  29"
      ]
     },
     "execution_count": 199,
     "metadata": {},
     "output_type": "execute_result"
    }
   ],
   "source": [
    "df2"
   ]
  },
  {
   "cell_type": "code",
   "execution_count": 202,
   "id": "ce5d2bd1",
   "metadata": {},
   "outputs": [
    {
     "ename": "Exception",
     "evalue": "Sorry, no numbers below zero",
     "output_type": "error",
     "traceback": [
      "\u001b[1;31m---------------------------------------------------------------------------\u001b[0m",
      "\u001b[1;31mException\u001b[0m                                 Traceback (most recent call last)",
      "Cell \u001b[1;32mIn[202], line 4\u001b[0m\n\u001b[0;32m      1\u001b[0m x \u001b[38;5;241m=\u001b[39m \u001b[38;5;241m-\u001b[39m\u001b[38;5;241m1\u001b[39m\n\u001b[0;32m      3\u001b[0m \u001b[38;5;28;01mif\u001b[39;00m x \u001b[38;5;241m<\u001b[39m \u001b[38;5;241m0\u001b[39m:\n\u001b[1;32m----> 4\u001b[0m   \u001b[38;5;28;01mraise\u001b[39;00m \u001b[38;5;167;01mException\u001b[39;00m(\u001b[38;5;124m\"\u001b[39m\u001b[38;5;124mSorry, no numbers below zero\u001b[39m\u001b[38;5;124m\"\u001b[39m)\n",
      "\u001b[1;31mException\u001b[0m: Sorry, no numbers below zero"
     ]
    }
   ],
   "source": [
    "x = -1\n",
    "\n",
    "if x < 0:\n",
    "  raise Exception(\"Sorry, no numbers below zero\")"
   ]
  },
  {
   "cell_type": "code",
   "execution_count": 203,
   "id": "09f8a33d",
   "metadata": {},
   "outputs": [
    {
     "ename": "TypeError",
     "evalue": "Only integers are allowed",
     "output_type": "error",
     "traceback": [
      "\u001b[1;31m---------------------------------------------------------------------------\u001b[0m",
      "\u001b[1;31mTypeError\u001b[0m                                 Traceback (most recent call last)",
      "Cell \u001b[1;32mIn[203], line 4\u001b[0m\n\u001b[0;32m      1\u001b[0m x \u001b[38;5;241m=\u001b[39m \u001b[38;5;124m\"\u001b[39m\u001b[38;5;124mhello\u001b[39m\u001b[38;5;124m\"\u001b[39m\n\u001b[0;32m      3\u001b[0m \u001b[38;5;28;01mif\u001b[39;00m \u001b[38;5;129;01mnot\u001b[39;00m \u001b[38;5;28mtype\u001b[39m(x) \u001b[38;5;129;01mis\u001b[39;00m \u001b[38;5;28mint\u001b[39m:\n\u001b[1;32m----> 4\u001b[0m   \u001b[38;5;28;01mraise\u001b[39;00m \u001b[38;5;167;01mTypeError\u001b[39;00m(\u001b[38;5;124m\"\u001b[39m\u001b[38;5;124mOnly integers are allowed\u001b[39m\u001b[38;5;124m\"\u001b[39m)\n",
      "\u001b[1;31mTypeError\u001b[0m: Only integers are allowed"
     ]
    }
   ],
   "source": [
    "x = \"hello\"\n",
    "\n",
    "if not type(x) is int:\n",
    "  raise TypeError(\"Only integers are allowed\")"
   ]
  },
  {
   "cell_type": "code",
   "execution_count": 204,
   "id": "96bd6a93",
   "metadata": {},
   "outputs": [],
   "source": [
    "lista = [1,3,0]\n",
    "listb = [0,1 ,0]"
   ]
  },
  {
   "cell_type": "code",
   "execution_count": 207,
   "id": "877dfa6e",
   "metadata": {},
   "outputs": [
    {
     "data": {
      "text/plain": [
       "[1, 3, 0]"
      ]
     },
     "execution_count": 207,
     "metadata": {},
     "output_type": "execute_result"
    }
   ],
   "source": [
    "lista or listb"
   ]
  },
  {
   "cell_type": "code",
   "execution_count": 208,
   "id": "35fa94cf",
   "metadata": {},
   "outputs": [
    {
     "data": {
      "text/html": [
       "<div>\n",
       "<style scoped>\n",
       "    .dataframe tbody tr th:only-of-type {\n",
       "        vertical-align: middle;\n",
       "    }\n",
       "\n",
       "    .dataframe tbody tr th {\n",
       "        vertical-align: top;\n",
       "    }\n",
       "\n",
       "    .dataframe thead th {\n",
       "        text-align: right;\n",
       "    }\n",
       "</style>\n",
       "<table border=\"1\" class=\"dataframe\">\n",
       "  <thead>\n",
       "    <tr style=\"text-align: right;\">\n",
       "      <th></th>\n",
       "      <th>A</th>\n",
       "      <th>B</th>\n",
       "      <th>C</th>\n",
       "      <th>D</th>\n",
       "      <th>E</th>\n",
       "    </tr>\n",
       "    <tr>\n",
       "      <th>ind</th>\n",
       "      <th></th>\n",
       "      <th></th>\n",
       "      <th></th>\n",
       "      <th></th>\n",
       "      <th></th>\n",
       "    </tr>\n",
       "  </thead>\n",
       "  <tbody>\n",
       "    <tr>\n",
       "      <th>a</th>\n",
       "      <td>0</td>\n",
       "      <td>1</td>\n",
       "      <td>2</td>\n",
       "      <td>3</td>\n",
       "      <td>4</td>\n",
       "    </tr>\n",
       "    <tr>\n",
       "      <th>b</th>\n",
       "      <td>5</td>\n",
       "      <td>6</td>\n",
       "      <td>7</td>\n",
       "      <td>8</td>\n",
       "      <td>9</td>\n",
       "    </tr>\n",
       "    <tr>\n",
       "      <th>c</th>\n",
       "      <td>10</td>\n",
       "      <td>11</td>\n",
       "      <td>12</td>\n",
       "      <td>13</td>\n",
       "      <td>14</td>\n",
       "    </tr>\n",
       "    <tr>\n",
       "      <th>d</th>\n",
       "      <td>15</td>\n",
       "      <td>16</td>\n",
       "      <td>17</td>\n",
       "      <td>18</td>\n",
       "      <td>19</td>\n",
       "    </tr>\n",
       "    <tr>\n",
       "      <th>e</th>\n",
       "      <td>20</td>\n",
       "      <td>21</td>\n",
       "      <td>22</td>\n",
       "      <td>23</td>\n",
       "      <td>24</td>\n",
       "    </tr>\n",
       "    <tr>\n",
       "      <th>f</th>\n",
       "      <td>25</td>\n",
       "      <td>26</td>\n",
       "      <td>27</td>\n",
       "      <td>28</td>\n",
       "      <td>29</td>\n",
       "    </tr>\n",
       "  </tbody>\n",
       "</table>\n",
       "</div>"
      ],
      "text/plain": [
       "      A   B   C   D   E\n",
       "ind                    \n",
       "a     0   1   2   3   4\n",
       "b     5   6   7   8   9\n",
       "c    10  11  12  13  14\n",
       "d    15  16  17  18  19\n",
       "e    20  21  22  23  24\n",
       "f    25  26  27  28  29"
      ]
     },
     "execution_count": 208,
     "metadata": {},
     "output_type": "execute_result"
    }
   ],
   "source": [
    "df"
   ]
  },
  {
   "cell_type": "code",
   "execution_count": 239,
   "id": "3b794e6d",
   "metadata": {},
   "outputs": [],
   "source": [
    "maska = df.C>5\n",
    "maskb = df.A<15\n",
    "maskc = df.E<25"
   ]
  },
  {
   "cell_type": "code",
   "execution_count": 240,
   "id": "4099a3da",
   "metadata": {},
   "outputs": [
    {
     "data": {
      "text/html": [
       "<div>\n",
       "<style scoped>\n",
       "    .dataframe tbody tr th:only-of-type {\n",
       "        vertical-align: middle;\n",
       "    }\n",
       "\n",
       "    .dataframe tbody tr th {\n",
       "        vertical-align: top;\n",
       "    }\n",
       "\n",
       "    .dataframe thead th {\n",
       "        text-align: right;\n",
       "    }\n",
       "</style>\n",
       "<table border=\"1\" class=\"dataframe\">\n",
       "  <thead>\n",
       "    <tr style=\"text-align: right;\">\n",
       "      <th></th>\n",
       "      <th>A</th>\n",
       "      <th>B</th>\n",
       "      <th>C</th>\n",
       "      <th>D</th>\n",
       "      <th>E</th>\n",
       "    </tr>\n",
       "    <tr>\n",
       "      <th>ind</th>\n",
       "      <th></th>\n",
       "      <th></th>\n",
       "      <th></th>\n",
       "      <th></th>\n",
       "      <th></th>\n",
       "    </tr>\n",
       "  </thead>\n",
       "  <tbody>\n",
       "    <tr>\n",
       "      <th>b</th>\n",
       "      <td>5</td>\n",
       "      <td>6</td>\n",
       "      <td>7</td>\n",
       "      <td>8</td>\n",
       "      <td>9</td>\n",
       "    </tr>\n",
       "    <tr>\n",
       "      <th>c</th>\n",
       "      <td>10</td>\n",
       "      <td>11</td>\n",
       "      <td>12</td>\n",
       "      <td>13</td>\n",
       "      <td>14</td>\n",
       "    </tr>\n",
       "  </tbody>\n",
       "</table>\n",
       "</div>"
      ],
      "text/plain": [
       "      A   B   C   D   E\n",
       "ind                    \n",
       "b     5   6   7   8   9\n",
       "c    10  11  12  13  14"
      ]
     },
     "execution_count": 240,
     "metadata": {},
     "output_type": "execute_result"
    }
   ],
   "source": [
    "df[maska & maskb]"
   ]
  },
  {
   "cell_type": "code",
   "execution_count": 241,
   "id": "90aed2f6",
   "metadata": {},
   "outputs": [
    {
     "ename": "ValueError",
     "evalue": "empty separator",
     "output_type": "error",
     "traceback": [
      "\u001b[1;31m---------------------------------------------------------------------------\u001b[0m",
      "\u001b[1;31mValueError\u001b[0m                                Traceback (most recent call last)",
      "Cell \u001b[1;32mIn[241], line 1\u001b[0m\n\u001b[1;32m----> 1\u001b[0m \u001b[38;5;124;43m'\u001b[39;49m\u001b[38;5;124;43ma_b*c+d\u001b[39;49m\u001b[38;5;124;43m'\u001b[39;49m\u001b[38;5;241;43m.\u001b[39;49m\u001b[43msplit\u001b[49m\u001b[43m(\u001b[49m\u001b[38;5;124;43m'\u001b[39;49m\u001b[38;5;124;43m'\u001b[39;49m\u001b[43m)\u001b[49m\n",
      "\u001b[1;31mValueError\u001b[0m: empty separator"
     ]
    }
   ],
   "source": [
    "'a_b*c+d'.split('')"
   ]
  },
  {
   "cell_type": "code",
   "execution_count": 242,
   "id": "f933015e",
   "metadata": {},
   "outputs": [
    {
     "data": {
      "text/plain": [
       "[ind\n",
       " a    False\n",
       " b     True\n",
       " c     True\n",
       " d     True\n",
       " e     True\n",
       " f     True\n",
       " Name: C, dtype: bool,\n",
       " ind\n",
       " a     True\n",
       " b     True\n",
       " c     True\n",
       " d    False\n",
       " e    False\n",
       " f    False\n",
       " Name: A, dtype: bool,\n",
       " ind\n",
       " a     True\n",
       " b     True\n",
       " c     True\n",
       " d     True\n",
       " e     True\n",
       " f    False\n",
       " Name: E, dtype: bool]"
      ]
     },
     "execution_count": 242,
     "metadata": {},
     "output_type": "execute_result"
    }
   ],
   "source": [
    "masklist = [maska, maskb, maskc]\n",
    "masklist\n"
   ]
  },
  {
   "cell_type": "code",
   "execution_count": 243,
   "id": "80e440db",
   "metadata": {},
   "outputs": [],
   "source": [
    "for mask in masklist[1:]:\n",
    "    masklist[0] |= mask"
   ]
  },
  {
   "cell_type": "code",
   "execution_count": 244,
   "id": "99d9a126",
   "metadata": {},
   "outputs": [
    {
     "data": {
      "text/plain": [
       "ind\n",
       "a    True\n",
       "b    True\n",
       "c    True\n",
       "d    True\n",
       "e    True\n",
       "f    True\n",
       "Name: C, dtype: bool"
      ]
     },
     "execution_count": 244,
     "metadata": {},
     "output_type": "execute_result"
    }
   ],
   "source": [
    "masklist[0]"
   ]
  },
  {
   "cell_type": "code",
   "execution_count": 230,
   "id": "9c65b2fa",
   "metadata": {},
   "outputs": [
    {
     "data": {
      "text/plain": [
       "ind\n",
       "a    False\n",
       "b     True\n",
       "c     True\n",
       "d     True\n",
       "e     True\n",
       "f     True\n",
       "Name: C, dtype: bool"
      ]
     },
     "execution_count": 230,
     "metadata": {},
     "output_type": "execute_result"
    }
   ],
   "source": [
    "masklist[0]"
   ]
  },
  {
   "cell_type": "code",
   "execution_count": 245,
   "id": "dd964ca1",
   "metadata": {},
   "outputs": [],
   "source": [
    "def BandInNo(Band):\n",
    "    Bands = ['u', 'g', 'r', 'i', 'z', 'Y']\n",
    "    \n",
    "    try:\n",
    "        Ind = Bands.index(Band)\n",
    "        return Ind\n",
    "    \n",
    "    except ValueError:\n",
    "        print('Wrong bands input! The available bands are:\\n{}'.format(Bands))"
   ]
  },
  {
   "cell_type": "code",
   "execution_count": 253,
   "id": "1866bd9f",
   "metadata": {},
   "outputs": [
    {
     "name": "stdout",
     "output_type": "stream",
     "text": [
      "'x' is not in list\n"
     ]
    }
   ],
   "source": [
    "BandInNo('x')"
   ]
  },
  {
   "cell_type": "code",
   "execution_count": 252,
   "id": "f3ceb5cc",
   "metadata": {},
   "outputs": [],
   "source": [
    "def BandInNo(Band):\n",
    "    Bands = ['u', 'g', 'r', 'i', 'z', 'Y']\n",
    "    \n",
    "    try:\n",
    "        Ind = Bands.index(Band)\n",
    "        return Ind\n",
    "    \n",
    "    except Exception as e:\n",
    "        print( e)"
   ]
  },
  {
   "cell_type": "code",
   "execution_count": 3,
   "id": "b230b1b1",
   "metadata": {},
   "outputs": [
    {
     "data": {
      "text/html": [
       "<div>\n",
       "<style scoped>\n",
       "    .dataframe tbody tr th:only-of-type {\n",
       "        vertical-align: middle;\n",
       "    }\n",
       "\n",
       "    .dataframe tbody tr th {\n",
       "        vertical-align: top;\n",
       "    }\n",
       "\n",
       "    .dataframe thead th {\n",
       "        text-align: right;\n",
       "    }\n",
       "</style>\n",
       "<table border=\"1\" class=\"dataframe\">\n",
       "  <thead>\n",
       "    <tr style=\"text-align: right;\">\n",
       "      <th></th>\n",
       "      <th>IterationNum</th>\n",
       "      <th>IterationCount</th>\n",
       "      <th>wait</th>\n",
       "      <th>AndorROIheight</th>\n",
       "      <th>AndorShortExpDelay_us</th>\n",
       "      <th>LFImg</th>\n",
       "      <th>LF_AOM_freq</th>\n",
       "      <th>time_compress</th>\n",
       "      <th>MOT_Re_Attn_final_V</th>\n",
       "      <th>TOF</th>\n",
       "      <th>...</th>\n",
       "      <th>HighServo2</th>\n",
       "      <th>HighServo3</th>\n",
       "      <th>HighServo0</th>\n",
       "      <th>Coil_medB</th>\n",
       "      <th>MedB_time</th>\n",
       "      <th>IR_AOM_freq</th>\n",
       "      <th>IR_AOM_VCO_V</th>\n",
       "      <th>IRmodulate_ms</th>\n",
       "      <th>modulate_freq</th>\n",
       "      <th>Burnt_In</th>\n",
       "    </tr>\n",
       "    <tr>\n",
       "      <th>time</th>\n",
       "      <th></th>\n",
       "      <th></th>\n",
       "      <th></th>\n",
       "      <th></th>\n",
       "      <th></th>\n",
       "      <th></th>\n",
       "      <th></th>\n",
       "      <th></th>\n",
       "      <th></th>\n",
       "      <th></th>\n",
       "      <th></th>\n",
       "      <th></th>\n",
       "      <th></th>\n",
       "      <th></th>\n",
       "      <th></th>\n",
       "      <th></th>\n",
       "      <th></th>\n",
       "      <th></th>\n",
       "      <th></th>\n",
       "      <th></th>\n",
       "      <th></th>\n",
       "    </tr>\n",
       "  </thead>\n",
       "  <tbody>\n",
       "    <tr>\n",
       "      <th>2023-11-30 11:33:19.318278</th>\n",
       "      <td>0.0</td>\n",
       "      <td>20.0</td>\n",
       "      <td>30.0</td>\n",
       "      <td>512.0</td>\n",
       "      <td>2415.44</td>\n",
       "      <td>3.598</td>\n",
       "      <td>226.0</td>\n",
       "      <td>5.0</td>\n",
       "      <td>2.5</td>\n",
       "      <td>0.0</td>\n",
       "      <td>...</td>\n",
       "      <td>2.3</td>\n",
       "      <td>2.3</td>\n",
       "      <td>-0.1</td>\n",
       "      <td>-0.1</td>\n",
       "      <td>20.0</td>\n",
       "      <td>110.0</td>\n",
       "      <td>7.800687</td>\n",
       "      <td>7.0</td>\n",
       "      <td>20.0</td>\n",
       "      <td>NaN</td>\n",
       "    </tr>\n",
       "    <tr>\n",
       "      <th>2023-11-30 15:17:33.917003</th>\n",
       "      <td>0.0</td>\n",
       "      <td>20.0</td>\n",
       "      <td>30.0</td>\n",
       "      <td>512.0</td>\n",
       "      <td>2415.44</td>\n",
       "      <td>3.598</td>\n",
       "      <td>226.0</td>\n",
       "      <td>5.0</td>\n",
       "      <td>2.5</td>\n",
       "      <td>0.0</td>\n",
       "      <td>...</td>\n",
       "      <td>2.3</td>\n",
       "      <td>2.3</td>\n",
       "      <td>-0.1</td>\n",
       "      <td>-0.1</td>\n",
       "      <td>20.0</td>\n",
       "      <td>110.0</td>\n",
       "      <td>7.800687</td>\n",
       "      <td>7.0</td>\n",
       "      <td>30.0</td>\n",
       "      <td>NaN</td>\n",
       "    </tr>\n",
       "    <tr>\n",
       "      <th>2023-11-30 15:18:58.121056</th>\n",
       "      <td>0.0</td>\n",
       "      <td>1.0</td>\n",
       "      <td>30.0</td>\n",
       "      <td>512.0</td>\n",
       "      <td>2415.44</td>\n",
       "      <td>3.598</td>\n",
       "      <td>226.0</td>\n",
       "      <td>5.0</td>\n",
       "      <td>2.5</td>\n",
       "      <td>0.0</td>\n",
       "      <td>...</td>\n",
       "      <td>2.3</td>\n",
       "      <td>2.3</td>\n",
       "      <td>-0.1</td>\n",
       "      <td>-0.1</td>\n",
       "      <td>20.0</td>\n",
       "      <td>110.0</td>\n",
       "      <td>7.800687</td>\n",
       "      <td>7.0</td>\n",
       "      <td>30.0</td>\n",
       "      <td>NaN</td>\n",
       "    </tr>\n",
       "    <tr>\n",
       "      <th>2023-11-30 15:19:52.565298</th>\n",
       "      <td>0.0</td>\n",
       "      <td>1.0</td>\n",
       "      <td>30.0</td>\n",
       "      <td>512.0</td>\n",
       "      <td>2415.44</td>\n",
       "      <td>3.598</td>\n",
       "      <td>226.0</td>\n",
       "      <td>5.0</td>\n",
       "      <td>2.5</td>\n",
       "      <td>0.0</td>\n",
       "      <td>...</td>\n",
       "      <td>2.3</td>\n",
       "      <td>2.3</td>\n",
       "      <td>-0.1</td>\n",
       "      <td>-0.1</td>\n",
       "      <td>20.0</td>\n",
       "      <td>110.0</td>\n",
       "      <td>7.800687</td>\n",
       "      <td>7.0</td>\n",
       "      <td>30.0</td>\n",
       "      <td>NaN</td>\n",
       "    </tr>\n",
       "    <tr>\n",
       "      <th>2023-11-30 15:31:09.465206</th>\n",
       "      <td>0.0</td>\n",
       "      <td>25.0</td>\n",
       "      <td>30.0</td>\n",
       "      <td>512.0</td>\n",
       "      <td>2415.44</td>\n",
       "      <td>3.598</td>\n",
       "      <td>226.0</td>\n",
       "      <td>5.0</td>\n",
       "      <td>2.5</td>\n",
       "      <td>0.0</td>\n",
       "      <td>...</td>\n",
       "      <td>2.3</td>\n",
       "      <td>2.3</td>\n",
       "      <td>-0.1</td>\n",
       "      <td>-0.1</td>\n",
       "      <td>20.0</td>\n",
       "      <td>110.0</td>\n",
       "      <td>7.800687</td>\n",
       "      <td>7.0</td>\n",
       "      <td>30.0</td>\n",
       "      <td>0.0</td>\n",
       "    </tr>\n",
       "    <tr>\n",
       "      <th>...</th>\n",
       "      <td>...</td>\n",
       "      <td>...</td>\n",
       "      <td>...</td>\n",
       "      <td>...</td>\n",
       "      <td>...</td>\n",
       "      <td>...</td>\n",
       "      <td>...</td>\n",
       "      <td>...</td>\n",
       "      <td>...</td>\n",
       "      <td>...</td>\n",
       "      <td>...</td>\n",
       "      <td>...</td>\n",
       "      <td>...</td>\n",
       "      <td>...</td>\n",
       "      <td>...</td>\n",
       "      <td>...</td>\n",
       "      <td>...</td>\n",
       "      <td>...</td>\n",
       "      <td>...</td>\n",
       "      <td>...</td>\n",
       "      <td>...</td>\n",
       "    </tr>\n",
       "    <tr>\n",
       "      <th>2023-11-30 18:57:00.354204</th>\n",
       "      <td>41.0</td>\n",
       "      <td>45.0</td>\n",
       "      <td>2.0</td>\n",
       "      <td>512.0</td>\n",
       "      <td>2415.44</td>\n",
       "      <td>3.598</td>\n",
       "      <td>226.0</td>\n",
       "      <td>5.0</td>\n",
       "      <td>2.5</td>\n",
       "      <td>0.0</td>\n",
       "      <td>...</td>\n",
       "      <td>2.3</td>\n",
       "      <td>2.3</td>\n",
       "      <td>-0.1</td>\n",
       "      <td>-0.1</td>\n",
       "      <td>20.0</td>\n",
       "      <td>110.0</td>\n",
       "      <td>7.800687</td>\n",
       "      <td>7.0</td>\n",
       "      <td>30.0</td>\n",
       "      <td>1.0</td>\n",
       "    </tr>\n",
       "    <tr>\n",
       "      <th>2023-11-30 18:57:12.180419</th>\n",
       "      <td>42.0</td>\n",
       "      <td>45.0</td>\n",
       "      <td>2.0</td>\n",
       "      <td>512.0</td>\n",
       "      <td>2415.44</td>\n",
       "      <td>3.598</td>\n",
       "      <td>226.0</td>\n",
       "      <td>5.0</td>\n",
       "      <td>2.5</td>\n",
       "      <td>0.0</td>\n",
       "      <td>...</td>\n",
       "      <td>2.3</td>\n",
       "      <td>2.3</td>\n",
       "      <td>-0.1</td>\n",
       "      <td>-0.1</td>\n",
       "      <td>20.0</td>\n",
       "      <td>110.0</td>\n",
       "      <td>7.800687</td>\n",
       "      <td>7.0</td>\n",
       "      <td>30.0</td>\n",
       "      <td>1.0</td>\n",
       "    </tr>\n",
       "    <tr>\n",
       "      <th>2023-11-30 18:57:24.092842</th>\n",
       "      <td>43.0</td>\n",
       "      <td>45.0</td>\n",
       "      <td>2.0</td>\n",
       "      <td>512.0</td>\n",
       "      <td>2415.44</td>\n",
       "      <td>3.598</td>\n",
       "      <td>226.0</td>\n",
       "      <td>5.0</td>\n",
       "      <td>2.5</td>\n",
       "      <td>0.0</td>\n",
       "      <td>...</td>\n",
       "      <td>2.3</td>\n",
       "      <td>2.3</td>\n",
       "      <td>-0.1</td>\n",
       "      <td>-0.1</td>\n",
       "      <td>20.0</td>\n",
       "      <td>110.0</td>\n",
       "      <td>7.800687</td>\n",
       "      <td>7.0</td>\n",
       "      <td>30.0</td>\n",
       "      <td>1.0</td>\n",
       "    </tr>\n",
       "    <tr>\n",
       "      <th>2023-11-30 18:57:35.953918</th>\n",
       "      <td>44.0</td>\n",
       "      <td>45.0</td>\n",
       "      <td>2.0</td>\n",
       "      <td>512.0</td>\n",
       "      <td>2415.44</td>\n",
       "      <td>3.598</td>\n",
       "      <td>226.0</td>\n",
       "      <td>5.0</td>\n",
       "      <td>2.5</td>\n",
       "      <td>0.0</td>\n",
       "      <td>...</td>\n",
       "      <td>2.3</td>\n",
       "      <td>2.3</td>\n",
       "      <td>-0.1</td>\n",
       "      <td>-0.1</td>\n",
       "      <td>20.0</td>\n",
       "      <td>110.0</td>\n",
       "      <td>7.800687</td>\n",
       "      <td>7.0</td>\n",
       "      <td>30.0</td>\n",
       "      <td>1.0</td>\n",
       "    </tr>\n",
       "    <tr>\n",
       "      <th>2023-12-01 11:47:57.987475</th>\n",
       "      <td>0.0</td>\n",
       "      <td>45.0</td>\n",
       "      <td>2.0</td>\n",
       "      <td>512.0</td>\n",
       "      <td>2415.44</td>\n",
       "      <td>3.598</td>\n",
       "      <td>226.0</td>\n",
       "      <td>5.0</td>\n",
       "      <td>2.5</td>\n",
       "      <td>0.0</td>\n",
       "      <td>...</td>\n",
       "      <td>2.3</td>\n",
       "      <td>2.3</td>\n",
       "      <td>-0.1</td>\n",
       "      <td>-0.1</td>\n",
       "      <td>20.0</td>\n",
       "      <td>110.0</td>\n",
       "      <td>7.800687</td>\n",
       "      <td>7.0</td>\n",
       "      <td>30.0</td>\n",
       "      <td>1.0</td>\n",
       "    </tr>\n",
       "  </tbody>\n",
       "</table>\n",
       "<p>420 rows × 42 columns</p>\n",
       "</div>"
      ],
      "text/plain": [
       "                            IterationNum  IterationCount  wait  \\\n",
       "time                                                             \n",
       "2023-11-30 11:33:19.318278           0.0            20.0  30.0   \n",
       "2023-11-30 15:17:33.917003           0.0            20.0  30.0   \n",
       "2023-11-30 15:18:58.121056           0.0             1.0  30.0   \n",
       "2023-11-30 15:19:52.565298           0.0             1.0  30.0   \n",
       "2023-11-30 15:31:09.465206           0.0            25.0  30.0   \n",
       "...                                  ...             ...   ...   \n",
       "2023-11-30 18:57:00.354204          41.0            45.0   2.0   \n",
       "2023-11-30 18:57:12.180419          42.0            45.0   2.0   \n",
       "2023-11-30 18:57:24.092842          43.0            45.0   2.0   \n",
       "2023-11-30 18:57:35.953918          44.0            45.0   2.0   \n",
       "2023-12-01 11:47:57.987475           0.0            45.0   2.0   \n",
       "\n",
       "                            AndorROIheight  AndorShortExpDelay_us  LFImg  \\\n",
       "time                                                                       \n",
       "2023-11-30 11:33:19.318278           512.0                2415.44  3.598   \n",
       "2023-11-30 15:17:33.917003           512.0                2415.44  3.598   \n",
       "2023-11-30 15:18:58.121056           512.0                2415.44  3.598   \n",
       "2023-11-30 15:19:52.565298           512.0                2415.44  3.598   \n",
       "2023-11-30 15:31:09.465206           512.0                2415.44  3.598   \n",
       "...                                    ...                    ...    ...   \n",
       "2023-11-30 18:57:00.354204           512.0                2415.44  3.598   \n",
       "2023-11-30 18:57:12.180419           512.0                2415.44  3.598   \n",
       "2023-11-30 18:57:24.092842           512.0                2415.44  3.598   \n",
       "2023-11-30 18:57:35.953918           512.0                2415.44  3.598   \n",
       "2023-12-01 11:47:57.987475           512.0                2415.44  3.598   \n",
       "\n",
       "                            LF_AOM_freq  time_compress  MOT_Re_Attn_final_V  \\\n",
       "time                                                                          \n",
       "2023-11-30 11:33:19.318278        226.0            5.0                  2.5   \n",
       "2023-11-30 15:17:33.917003        226.0            5.0                  2.5   \n",
       "2023-11-30 15:18:58.121056        226.0            5.0                  2.5   \n",
       "2023-11-30 15:19:52.565298        226.0            5.0                  2.5   \n",
       "2023-11-30 15:31:09.465206        226.0            5.0                  2.5   \n",
       "...                                 ...            ...                  ...   \n",
       "2023-11-30 18:57:00.354204        226.0            5.0                  2.5   \n",
       "2023-11-30 18:57:12.180419        226.0            5.0                  2.5   \n",
       "2023-11-30 18:57:24.092842        226.0            5.0                  2.5   \n",
       "2023-11-30 18:57:35.953918        226.0            5.0                  2.5   \n",
       "2023-12-01 11:47:57.987475        226.0            5.0                  2.5   \n",
       "\n",
       "                            TOF  ...  HighServo2  HighServo3  HighServo0  \\\n",
       "time                             ...                                       \n",
       "2023-11-30 11:33:19.318278  0.0  ...         2.3         2.3        -0.1   \n",
       "2023-11-30 15:17:33.917003  0.0  ...         2.3         2.3        -0.1   \n",
       "2023-11-30 15:18:58.121056  0.0  ...         2.3         2.3        -0.1   \n",
       "2023-11-30 15:19:52.565298  0.0  ...         2.3         2.3        -0.1   \n",
       "2023-11-30 15:31:09.465206  0.0  ...         2.3         2.3        -0.1   \n",
       "...                         ...  ...         ...         ...         ...   \n",
       "2023-11-30 18:57:00.354204  0.0  ...         2.3         2.3        -0.1   \n",
       "2023-11-30 18:57:12.180419  0.0  ...         2.3         2.3        -0.1   \n",
       "2023-11-30 18:57:24.092842  0.0  ...         2.3         2.3        -0.1   \n",
       "2023-11-30 18:57:35.953918  0.0  ...         2.3         2.3        -0.1   \n",
       "2023-12-01 11:47:57.987475  0.0  ...         2.3         2.3        -0.1   \n",
       "\n",
       "                            Coil_medB  MedB_time  IR_AOM_freq  IR_AOM_VCO_V  \\\n",
       "time                                                                          \n",
       "2023-11-30 11:33:19.318278       -0.1       20.0        110.0      7.800687   \n",
       "2023-11-30 15:17:33.917003       -0.1       20.0        110.0      7.800687   \n",
       "2023-11-30 15:18:58.121056       -0.1       20.0        110.0      7.800687   \n",
       "2023-11-30 15:19:52.565298       -0.1       20.0        110.0      7.800687   \n",
       "2023-11-30 15:31:09.465206       -0.1       20.0        110.0      7.800687   \n",
       "...                               ...        ...          ...           ...   \n",
       "2023-11-30 18:57:00.354204       -0.1       20.0        110.0      7.800687   \n",
       "2023-11-30 18:57:12.180419       -0.1       20.0        110.0      7.800687   \n",
       "2023-11-30 18:57:24.092842       -0.1       20.0        110.0      7.800687   \n",
       "2023-11-30 18:57:35.953918       -0.1       20.0        110.0      7.800687   \n",
       "2023-12-01 11:47:57.987475       -0.1       20.0        110.0      7.800687   \n",
       "\n",
       "                            IRmodulate_ms  modulate_freq  Burnt_In  \n",
       "time                                                                \n",
       "2023-11-30 11:33:19.318278            7.0           20.0       NaN  \n",
       "2023-11-30 15:17:33.917003            7.0           30.0       NaN  \n",
       "2023-11-30 15:18:58.121056            7.0           30.0       NaN  \n",
       "2023-11-30 15:19:52.565298            7.0           30.0       NaN  \n",
       "2023-11-30 15:31:09.465206            7.0           30.0       0.0  \n",
       "...                                   ...            ...       ...  \n",
       "2023-11-30 18:57:00.354204            7.0           30.0       1.0  \n",
       "2023-11-30 18:57:12.180419            7.0           30.0       1.0  \n",
       "2023-11-30 18:57:24.092842            7.0           30.0       1.0  \n",
       "2023-11-30 18:57:35.953918            7.0           30.0       1.0  \n",
       "2023-12-01 11:47:57.987475            7.0           30.0       1.0  \n",
       "\n",
       "[420 rows x 42 columns]"
      ]
     },
     "execution_count": 3,
     "metadata": {},
     "output_type": "execute_result"
    }
   ],
   "source": [
    "ImageAnalysisCode.LoadVariableLog(r'Z:\\ats317group\\Data\\2023\\11-2023\\30 Nov 2023\\Variable Logs')"
   ]
  },
  {
   "cell_type": "code",
   "execution_count": null,
   "id": "0a49fb39",
   "metadata": {},
   "outputs": [],
   "source": []
  },
  {
   "cell_type": "markdown",
   "id": "a6338810",
   "metadata": {
    "jp-MarkdownHeadingCollapsed": true,
    "tags": []
   },
   "source": [
    "### Get filenames for Zyla files"
   ]
  },
  {
   "cell_type": "code",
   "execution_count": 5,
   "id": "8e0c8ff3",
   "metadata": {},
   "outputs": [],
   "source": [
    "data_folder = r'Z:\\ats317group\\Data\\2023\\12-2023\\08 Dec 2023\\Andor\\ODT high B thermometry_2'"
   ]
  },
  {
   "cell_type": "code",
   "execution_count": 9,
   "id": "6b4308dd",
   "metadata": {},
   "outputs": [
    {
     "data": {
      "text/plain": [
       "['0000000000spool.dat',\n",
       " '1000000000spool.dat',\n",
       " '2000000000spool.dat',\n",
       " '3000000000spool.dat',\n",
       " '4000000000spool.dat',\n",
       " '5000000000spool.dat',\n",
       " '6000000000spool.dat',\n",
       " '7000000000spool.dat',\n",
       " '8000000000spool.dat',\n",
       " '9000000000spool.dat',\n",
       " '0100000000spool.dat',\n",
       " '1100000000spool.dat',\n",
       " '2100000000spool.dat',\n",
       " '3100000000spool.dat',\n",
       " '4100000000spool.dat',\n",
       " '5100000000spool.dat',\n",
       " '6100000000spool.dat',\n",
       " '7100000000spool.dat',\n",
       " '8100000000spool.dat',\n",
       " '9100000000spool.dat',\n",
       " '0200000000spool.dat',\n",
       " '1200000000spool.dat',\n",
       " '2200000000spool.dat',\n",
       " '3200000000spool.dat',\n",
       " '4200000000spool.dat',\n",
       " '5200000000spool.dat',\n",
       " '6200000000spool.dat',\n",
       " '7200000000spool.dat',\n",
       " '8200000000spool.dat',\n",
       " '9200000000spool.dat']"
      ]
     },
     "execution_count": 9,
     "metadata": {},
     "output_type": "execute_result"
    }
   ],
   "source": [
    "ImageAnalysisCode.GetFileNames(data_folder,)"
   ]
  },
  {
   "cell_type": "code",
   "execution_count": 12,
   "id": "6d959996",
   "metadata": {},
   "outputs": [
    {
     "data": {
      "text/plain": [
       "['1200000000spool.dat',\n",
       " '2200000000spool.dat',\n",
       " '3200000000spool.dat',\n",
       " '4200000000spool.dat',\n",
       " '5200000000spool.dat',\n",
       " '6200000000spool.dat']"
      ]
     },
     "execution_count": 12,
     "metadata": {},
     "output_type": "execute_result"
    }
   ],
   "source": [
    "ImageAnalysisCode.GetFileNames(data_folder, 3, examFrom=-3, examUntil=-1)"
   ]
  },
  {
   "cell_type": "code",
   "execution_count": null,
   "id": "93b46c78-dd3e-4f42-ab18-ee72d89d4914",
   "metadata": {},
   "outputs": [],
   "source": []
  },
  {
   "cell_type": "code",
   "execution_count": 44,
   "id": "bb09372f-9daa-4ec5-8d19-4971998ead86",
   "metadata": {},
   "outputs": [],
   "source": [
    "LL = np.array(['D:/Dropbox (Lehigh University)/Sommer Lab Shared/Data/2024/04-2024/17 Apr 2024/Andor/ODTs\\\\0000000000spool.dat',\n",
    "       'D:/Dropbox (Lehigh University)/Sommer Lab Shared/Data/2024/04-2024/17 Apr 2024/Andor/ODTs\\\\4000000000spool.dat',\n",
    "       'D:/Dropbox (Lehigh University)/Sommer Lab Shared/Data/2024/04-2024/17 Apr 2024/Andor/ODTs\\\\8000000000spool.dat',\n",
    "       'D:/Dropbox (Lehigh University)/Sommer Lab Shared/Data/2024/04-2024/17 Apr 2024/Andor/ODTs\\\\2100000000spool.dat',\n",
    "       'D:/Dropbox (Lehigh University)/Sommer Lab Shared/Data/2024/04-2024/17 Apr 2024/Andor/ODTs\\\\6100000000spool.dat'])"
   ]
  },
  {
   "cell_type": "code",
   "execution_count": 45,
   "id": "f90deba9-7612-4bc6-9240-183bc0405d9f",
   "metadata": {},
   "outputs": [
    {
     "data": {
      "text/plain": [
       "array(['D:/Dropbox (Lehigh University)/Sommer Lab Shared/Data/2024/04-2024/17 Apr 2024/Andor/ODTs\\\\0000000000spool.dat',\n",
       "       'D:/Dropbox (Lehigh University)/Sommer Lab Shared/Data/2024/04-2024/17 Apr 2024/Andor/ODTs\\\\4000000000spool.dat',\n",
       "       'D:/Dropbox (Lehigh University)/Sommer Lab Shared/Data/2024/04-2024/17 Apr 2024/Andor/ODTs\\\\8000000000spool.dat',\n",
       "       'D:/Dropbox (Lehigh University)/Sommer Lab Shared/Data/2024/04-2024/17 Apr 2024/Andor/ODTs\\\\2100000000spool.dat',\n",
       "       'D:/Dropbox (Lehigh University)/Sommer Lab Shared/Data/2024/04-2024/17 Apr 2024/Andor/ODTs\\\\6100000000spool.dat'],\n",
       "      dtype='<U109')"
      ]
     },
     "execution_count": 45,
     "metadata": {},
     "output_type": "execute_result"
    }
   ],
   "source": [
    "LL"
   ]
  },
  {
   "cell_type": "code",
   "execution_count": 41,
   "id": "17ac6d1a-55cf-4ba7-a614-24592977a8bf",
   "metadata": {},
   "outputs": [
    {
     "data": {
      "text/plain": [
       "['D:/Dropbox (Lehigh University)/Sommer Lab Shared/Data/2024/04-2024/17 Apr 2024/Andor/ODTs/0000000000spool.dat',\n",
       " 'D:/Dropbox (Lehigh University)/Sommer Lab Shared/Data/2024/04-2024/17 Apr 2024/Andor/ODTs/1000000000spool.dat',\n",
       " 'D:/Dropbox (Lehigh University)/Sommer Lab Shared/Data/2024/04-2024/17 Apr 2024/Andor/ODTs/2000000000spool.dat',\n",
       " 'D:/Dropbox (Lehigh University)/Sommer Lab Shared/Data/2024/04-2024/17 Apr 2024/Andor/ODTs/3000000000spool.dat',\n",
       " 'D:/Dropbox (Lehigh University)/Sommer Lab Shared/Data/2024/04-2024/17 Apr 2024/Andor/ODTs/4000000000spool.dat',\n",
       " 'D:/Dropbox (Lehigh University)/Sommer Lab Shared/Data/2024/04-2024/17 Apr 2024/Andor/ODTs/5000000000spool.dat',\n",
       " 'D:/Dropbox (Lehigh University)/Sommer Lab Shared/Data/2024/04-2024/17 Apr 2024/Andor/ODTs/6000000000spool.dat',\n",
       " 'D:/Dropbox (Lehigh University)/Sommer Lab Shared/Data/2024/04-2024/17 Apr 2024/Andor/ODTs/7000000000spool.dat',\n",
       " 'D:/Dropbox (Lehigh University)/Sommer Lab Shared/Data/2024/04-2024/17 Apr 2024/Andor/ODTs/8000000000spool.dat',\n",
       " 'D:/Dropbox (Lehigh University)/Sommer Lab Shared/Data/2024/04-2024/17 Apr 2024/Andor/ODTs/9000000000spool.dat',\n",
       " 'D:/Dropbox (Lehigh University)/Sommer Lab Shared/Data/2024/04-2024/17 Apr 2024/Andor/ODTs/0100000000spool.dat',\n",
       " 'D:/Dropbox (Lehigh University)/Sommer Lab Shared/Data/2024/04-2024/17 Apr 2024/Andor/ODTs/1100000000spool.dat',\n",
       " 'D:/Dropbox (Lehigh University)/Sommer Lab Shared/Data/2024/04-2024/17 Apr 2024/Andor/ODTs/2100000000spool.dat',\n",
       " 'D:/Dropbox (Lehigh University)/Sommer Lab Shared/Data/2024/04-2024/17 Apr 2024/Andor/ODTs/3100000000spool.dat',\n",
       " 'D:/Dropbox (Lehigh University)/Sommer Lab Shared/Data/2024/04-2024/17 Apr 2024/Andor/ODTs/4100000000spool.dat',\n",
       " 'D:/Dropbox (Lehigh University)/Sommer Lab Shared/Data/2024/04-2024/17 Apr 2024/Andor/ODTs/5100000000spool.dat',\n",
       " 'D:/Dropbox (Lehigh University)/Sommer Lab Shared/Data/2024/04-2024/17 Apr 2024/Andor/ODTs/6100000000spool.dat',\n",
       " 'D:/Dropbox (Lehigh University)/Sommer Lab Shared/Data/2024/04-2024/17 Apr 2024/Andor/ODTs/7100000000spool.dat',\n",
       " 'D:/Dropbox (Lehigh University)/Sommer Lab Shared/Data/2024/04-2024/17 Apr 2024/Andor/ODTs/8100000000spool.dat',\n",
       " 'D:/Dropbox (Lehigh University)/Sommer Lab Shared/Data/2024/04-2024/17 Apr 2024/Andor/ODTs/9100000000spool.dat']"
      ]
     },
     "execution_count": 41,
     "metadata": {},
     "output_type": "execute_result"
    }
   ],
   "source": [
    "ImageAnalysisCode.FillFilePathList(LL)"
   ]
  },
  {
   "cell_type": "code",
   "execution_count": 46,
   "id": "deca1ea4-bd68-4af0-ac45-ab054ffa2f1b",
   "metadata": {},
   "outputs": [
    {
     "ename": "TypeError",
     "evalue": "LoadSpooledSeriesV2() missing 2 required positional arguments: 'picturesPerIteration' and 'metadata'",
     "output_type": "error",
     "traceback": [
      "\u001b[1;31m---------------------------------------------------------------------------\u001b[0m",
      "\u001b[1;31mTypeError\u001b[0m                                 Traceback (most recent call last)",
      "\u001b[1;32mC:\\Users\\SOMMER~1\\AppData\\Local\\Temp/ipykernel_21328/3510892626.py\u001b[0m in \u001b[0;36m<module>\u001b[1;34m\u001b[0m\n\u001b[1;32m----> 1\u001b[1;33m \u001b[0mImageAnalysisCode\u001b[0m\u001b[1;33m.\u001b[0m\u001b[0mLoadSpooledSeriesV2\u001b[0m\u001b[1;33m(\u001b[0m\u001b[0mLL\u001b[0m\u001b[1;33m)\u001b[0m\u001b[1;33m\u001b[0m\u001b[1;33m\u001b[0m\u001b[0m\n\u001b[0m",
      "\u001b[1;31mTypeError\u001b[0m: LoadSpooledSeriesV2() missing 2 required positional arguments: 'picturesPerIteration' and 'metadata'"
     ]
    }
   ],
   "source": [
    "ImageAnalysisCode.LoadSpooledSeriesV2(LL)"
   ]
  },
  {
   "cell_type": "code",
   "execution_count": null,
   "id": "3b203ba7-f4c3-4ec0-ad65-339ee0f59111",
   "metadata": {},
   "outputs": [],
   "source": []
  },
  {
   "cell_type": "code",
   "execution_count": null,
   "id": "92636b38-b80f-4f8b-a805-cd80e254df1a",
   "metadata": {},
   "outputs": [],
   "source": []
  },
  {
   "cell_type": "code",
   "execution_count": null,
   "id": "c5c0529e-18d6-4d27-b28b-7edfddce5229",
   "metadata": {},
   "outputs": [],
   "source": []
  },
  {
   "cell_type": "code",
   "execution_count": null,
   "id": "43e9f087-028f-43c5-84ae-9b5e7a2a7a89",
   "metadata": {},
   "outputs": [],
   "source": []
  },
  {
   "cell_type": "code",
   "execution_count": null,
   "id": "49a270a7-f635-4fae-b0c0-13050fbd955b",
   "metadata": {},
   "outputs": [],
   "source": []
  },
  {
   "cell_type": "code",
   "execution_count": null,
   "id": "e5f4106e-a55b-43a0-b5dc-7b8ef5ed2c47",
   "metadata": {},
   "outputs": [],
   "source": []
  },
  {
   "cell_type": "markdown",
   "id": "83cc1fb9-755f-460d-a7b8-d0230cf6a4f0",
   "metadata": {
    "jp-MarkdownHeadingCollapsed": true,
    "tags": []
   },
   "source": [
    "### Functions"
   ]
  },
  {
   "cell_type": "code",
   "execution_count": 139,
   "id": "026db65e",
   "metadata": {},
   "outputs": [],
   "source": [
    "def func(a,b,c,d):\n",
    "    return a+b+c+d\n",
    "\n",
    "    "
   ]
  },
  {
   "cell_type": "code",
   "execution_count": 143,
   "id": "3d199695",
   "metadata": {},
   "outputs": [
    {
     "data": {
      "text/plain": [
       "10"
      ]
     },
     "execution_count": 143,
     "metadata": {},
     "output_type": "execute_result"
    }
   ],
   "source": [
    "func(*[*a[:2], *a[-2:]])"
   ]
  },
  {
   "cell_type": "code",
   "execution_count": 5,
   "id": "41d16d4f",
   "metadata": {},
   "outputs": [],
   "source": [
    "def func(x, *params, y=0):\n",
    "    print(x)\n",
    "    print(params)\n",
    "    print(y)"
   ]
  },
  {
   "cell_type": "code",
   "execution_count": 10,
   "id": "b2c5e7a9-93b1-4bdf-9e0b-a09a28b5b3f7",
   "metadata": {},
   "outputs": [
    {
     "name": "stdout",
     "output_type": "stream",
     "text": [
      "1\n",
      "(2, 3, 5)\n",
      "123\n"
     ]
    }
   ],
   "source": [
    "func(1, 2, 3, 5, y=123)"
   ]
  },
  {
   "cell_type": "code",
   "execution_count": 15,
   "id": "10c590f6-3ea6-4f2d-a0de-93f5f986d9f7",
   "metadata": {},
   "outputs": [
    {
     "data": {
      "text/plain": [
       "array([1.13327347, 0.58459233, 1.111599  , 2.52652977, 2.08245359])"
      ]
     },
     "execution_count": 15,
     "metadata": {},
     "output_type": "execute_result"
    }
   ],
   "source": [
    "np.random.random((3,5)).sum(axis=0)"
   ]
  },
  {
   "cell_type": "code",
   "execution_count": 5,
   "id": "e3e00b58-3209-45a4-b0dc-2e111ebeb2d2",
   "metadata": {},
   "outputs": [],
   "source": [
    "def func(a, func1=np.array):\n",
    "    return func1(a)"
   ]
  },
  {
   "cell_type": "code",
   "execution_count": 6,
   "id": "275e8907-719c-407f-b53c-f076f4eb73cd",
   "metadata": {},
   "outputs": [
    {
     "data": {
      "text/plain": [
       "array([1, 2, 3])"
      ]
     },
     "execution_count": 6,
     "metadata": {},
     "output_type": "execute_result"
    }
   ],
   "source": [
    "func([1,2,3])"
   ]
  },
  {
   "cell_type": "code",
   "execution_count": 9,
   "id": "868fcc4d-ac23-4c95-8131-08b3f1d5f549",
   "metadata": {},
   "outputs": [
    {
     "data": {
      "text/plain": [
       "array([1, 2, 3])"
      ]
     },
     "execution_count": 9,
     "metadata": {},
     "output_type": "execute_result"
    }
   ],
   "source": [
    "np.array([1,2,3])"
   ]
  },
  {
   "cell_type": "code",
   "execution_count": 8,
   "id": "c207c6c9-2d8a-4563-aaee-418dee9a8cd2",
   "metadata": {},
   "outputs": [
    {
     "data": {
      "text/plain": [
       "array([1, 3, 3])"
      ]
     },
     "execution_count": 8,
     "metadata": {},
     "output_type": "execute_result"
    }
   ],
   "source": [
    "func(a=[1,3,3])"
   ]
  },
  {
   "cell_type": "code",
   "execution_count": null,
   "id": "d5094e6e-07d1-4975-89ea-82c64b659e52",
   "metadata": {},
   "outputs": [],
   "source": []
  },
  {
   "cell_type": "code",
   "execution_count": null,
   "id": "94bcf9f4-5c8a-40ec-b591-27d59630e0e7",
   "metadata": {},
   "outputs": [],
   "source": []
  },
  {
   "cell_type": "markdown",
   "id": "cef66f39-3962-4722-818e-223febd27b2c",
   "metadata": {
    "jp-MarkdownHeadingCollapsed": true,
    "tags": []
   },
   "source": [
    "### df plot"
   ]
  },
  {
   "cell_type": "code",
   "execution_count": 14,
   "id": "3811d44b-3f3c-42a1-954a-2d55834c2fb5",
   "metadata": {
    "tags": []
   },
   "outputs": [
    {
     "data": {
      "text/html": [
       "<div>\n",
       "<style scoped>\n",
       "    .dataframe tbody tr th:only-of-type {\n",
       "        vertical-align: middle;\n",
       "    }\n",
       "\n",
       "    .dataframe tbody tr th {\n",
       "        vertical-align: top;\n",
       "    }\n",
       "\n",
       "    .dataframe thead th {\n",
       "        text-align: right;\n",
       "    }\n",
       "</style>\n",
       "<table border=\"1\" class=\"dataframe\">\n",
       "  <thead>\n",
       "    <tr style=\"text-align: right;\">\n",
       "      <th></th>\n",
       "      <th>one</th>\n",
       "      <th>two</th>\n",
       "    </tr>\n",
       "    <tr>\n",
       "      <th>three</th>\n",
       "      <th></th>\n",
       "      <th></th>\n",
       "    </tr>\n",
       "  </thead>\n",
       "  <tbody>\n",
       "    <tr>\n",
       "      <th>3</th>\n",
       "      <td>0.913269</td>\n",
       "      <td>0.898082</td>\n",
       "    </tr>\n",
       "    <tr>\n",
       "      <th>2</th>\n",
       "      <td>0.911178</td>\n",
       "      <td>0.238735</td>\n",
       "    </tr>\n",
       "    <tr>\n",
       "      <th>3</th>\n",
       "      <td>0.527395</td>\n",
       "      <td>0.660684</td>\n",
       "    </tr>\n",
       "    <tr>\n",
       "      <th>1</th>\n",
       "      <td>0.460130</td>\n",
       "      <td>0.105484</td>\n",
       "    </tr>\n",
       "    <tr>\n",
       "      <th>1</th>\n",
       "      <td>0.756318</td>\n",
       "      <td>0.307081</td>\n",
       "    </tr>\n",
       "    <tr>\n",
       "      <th>3</th>\n",
       "      <td>0.515245</td>\n",
       "      <td>0.845360</td>\n",
       "    </tr>\n",
       "    <tr>\n",
       "      <th>0</th>\n",
       "      <td>0.288470</td>\n",
       "      <td>0.047118</td>\n",
       "    </tr>\n",
       "    <tr>\n",
       "      <th>4</th>\n",
       "      <td>0.362584</td>\n",
       "      <td>0.840739</td>\n",
       "    </tr>\n",
       "    <tr>\n",
       "      <th>3</th>\n",
       "      <td>0.562707</td>\n",
       "      <td>0.046621</td>\n",
       "    </tr>\n",
       "    <tr>\n",
       "      <th>3</th>\n",
       "      <td>0.401766</td>\n",
       "      <td>0.381209</td>\n",
       "    </tr>\n",
       "  </tbody>\n",
       "</table>\n",
       "</div>"
      ],
      "text/plain": [
       "            one       two\n",
       "three                    \n",
       "3      0.913269  0.898082\n",
       "2      0.911178  0.238735\n",
       "3      0.527395  0.660684\n",
       "1      0.460130  0.105484\n",
       "1      0.756318  0.307081\n",
       "3      0.515245  0.845360\n",
       "0      0.288470  0.047118\n",
       "4      0.362584  0.840739\n",
       "3      0.562707  0.046621\n",
       "3      0.401766  0.381209"
      ]
     },
     "execution_count": 14,
     "metadata": {},
     "output_type": "execute_result"
    },
    {
     "data": {
      "image/png": "[encoded data removed]",
      "text/plain": [
       "<Figure size 432x288 with 1 Axes>"
      ]
     },
     "metadata": {
      "needs_background": "light"
     },
     "output_type": "display_data"
    }
   ],
   "source": [
    "d = {'one' : np.random.rand(10),\n",
    "     'two' : np.random.rand(10),\n",
    "    'three': np.random.randint(0, high=5, size=10)}\n",
    "\n",
    "df = pd.DataFrame(d).set_index('three')\n",
    "df.plot(style=['o','rx'])\n",
    "df"
   ]
  },
  {
   "cell_type": "code",
   "execution_count": 28,
   "id": "357a4f64-5456-412a-b3ee-326198c37c20",
   "metadata": {},
   "outputs": [
    {
     "data": {
      "text/html": [
       "<div>\n",
       "<style scoped>\n",
       "    .dataframe tbody tr th:only-of-type {\n",
       "        vertical-align: middle;\n",
       "    }\n",
       "\n",
       "    .dataframe tbody tr th {\n",
       "        vertical-align: top;\n",
       "    }\n",
       "\n",
       "    .dataframe thead th {\n",
       "        text-align: right;\n",
       "    }\n",
       "</style>\n",
       "<table border=\"1\" class=\"dataframe\">\n",
       "  <thead>\n",
       "    <tr style=\"text-align: right;\">\n",
       "      <th></th>\n",
       "      <th>one</th>\n",
       "      <th>two</th>\n",
       "      <th>a1</th>\n",
       "    </tr>\n",
       "    <tr>\n",
       "      <th>three</th>\n",
       "      <th></th>\n",
       "      <th></th>\n",
       "      <th></th>\n",
       "    </tr>\n",
       "  </thead>\n",
       "  <tbody>\n",
       "    <tr>\n",
       "      <th>3</th>\n",
       "      <td>0.913269</td>\n",
       "      <td>0.898082</td>\n",
       "      <td>0</td>\n",
       "    </tr>\n",
       "    <tr>\n",
       "      <th>2</th>\n",
       "      <td>0.911178</td>\n",
       "      <td>0.238735</td>\n",
       "      <td>1</td>\n",
       "    </tr>\n",
       "    <tr>\n",
       "      <th>3</th>\n",
       "      <td>0.527395</td>\n",
       "      <td>0.660684</td>\n",
       "      <td>2</td>\n",
       "    </tr>\n",
       "    <tr>\n",
       "      <th>1</th>\n",
       "      <td>0.460130</td>\n",
       "      <td>0.105484</td>\n",
       "      <td>3</td>\n",
       "    </tr>\n",
       "    <tr>\n",
       "      <th>1</th>\n",
       "      <td>0.756318</td>\n",
       "      <td>0.307081</td>\n",
       "      <td>4</td>\n",
       "    </tr>\n",
       "    <tr>\n",
       "      <th>3</th>\n",
       "      <td>0.515245</td>\n",
       "      <td>0.845360</td>\n",
       "      <td>5</td>\n",
       "    </tr>\n",
       "    <tr>\n",
       "      <th>0</th>\n",
       "      <td>0.288470</td>\n",
       "      <td>0.047118</td>\n",
       "      <td>6</td>\n",
       "    </tr>\n",
       "    <tr>\n",
       "      <th>4</th>\n",
       "      <td>0.362584</td>\n",
       "      <td>0.840739</td>\n",
       "      <td>7</td>\n",
       "    </tr>\n",
       "    <tr>\n",
       "      <th>3</th>\n",
       "      <td>0.562707</td>\n",
       "      <td>0.046621</td>\n",
       "      <td>8</td>\n",
       "    </tr>\n",
       "    <tr>\n",
       "      <th>3</th>\n",
       "      <td>0.401766</td>\n",
       "      <td>0.381209</td>\n",
       "      <td>9</td>\n",
       "    </tr>\n",
       "  </tbody>\n",
       "</table>\n",
       "</div>"
      ],
      "text/plain": [
       "            one       two  a1\n",
       "three                        \n",
       "3      0.913269  0.898082   0\n",
       "2      0.911178  0.238735   1\n",
       "3      0.527395  0.660684   2\n",
       "1      0.460130  0.105484   3\n",
       "1      0.756318  0.307081   4\n",
       "3      0.515245  0.845360   5\n",
       "0      0.288470  0.047118   6\n",
       "4      0.362584  0.840739   7\n",
       "3      0.562707  0.046621   8\n",
       "3      0.401766  0.381209   9"
      ]
     },
     "execution_count": 28,
     "metadata": {},
     "output_type": "execute_result"
    }
   ],
   "source": [
    "df['a1'] = list(range(10))\n",
    "df"
   ]
  },
  {
   "cell_type": "code",
   "execution_count": 31,
   "id": "12a30ccd-93c8-4f8b-a6cb-27f0f0a79f2f",
   "metadata": {},
   "outputs": [],
   "source": [
    "df['a2'] = np.arange(10)"
   ]
  },
  {
   "cell_type": "code",
   "execution_count": 33,
   "id": "e928834a-165a-4532-ab23-e017c3b53a58",
   "metadata": {},
   "outputs": [
    {
     "data": {
      "text/plain": [
       "three\n",
       "3    0\n",
       "2    1\n",
       "3    2\n",
       "1    3\n",
       "1    4\n",
       "3    5\n",
       "0    6\n",
       "4    7\n",
       "3    8\n",
       "3    9\n",
       "Name: a1, dtype: int32"
      ]
     },
     "execution_count": 33,
     "metadata": {},
     "output_type": "execute_result"
    }
   ],
   "source": [
    "df['a1']"
   ]
  },
  {
   "cell_type": "code",
   "execution_count": 40,
   "id": "eac4914c-f994-4221-af00-59488fe654de",
   "metadata": {},
   "outputs": [
    {
     "data": {
      "text/html": [
       "<div>\n",
       "<style scoped>\n",
       "    .dataframe tbody tr th:only-of-type {\n",
       "        vertical-align: middle;\n",
       "    }\n",
       "\n",
       "    .dataframe tbody tr th {\n",
       "        vertical-align: top;\n",
       "    }\n",
       "\n",
       "    .dataframe thead th {\n",
       "        text-align: right;\n",
       "    }\n",
       "</style>\n",
       "<table border=\"1\" class=\"dataframe\">\n",
       "  <thead>\n",
       "    <tr style=\"text-align: right;\">\n",
       "      <th></th>\n",
       "      <th>one</th>\n",
       "      <th>two</th>\n",
       "      <th>a1</th>\n",
       "      <th>a2</th>\n",
       "    </tr>\n",
       "    <tr>\n",
       "      <th>three</th>\n",
       "      <th></th>\n",
       "      <th></th>\n",
       "      <th></th>\n",
       "      <th></th>\n",
       "    </tr>\n",
       "  </thead>\n",
       "  <tbody>\n",
       "    <tr>\n",
       "      <th>3</th>\n",
       "      <td>0.562707</td>\n",
       "      <td>0.046621</td>\n",
       "      <td>8</td>\n",
       "      <td>8</td>\n",
       "    </tr>\n",
       "    <tr>\n",
       "      <th>0</th>\n",
       "      <td>0.288470</td>\n",
       "      <td>0.047118</td>\n",
       "      <td>6</td>\n",
       "      <td>6</td>\n",
       "    </tr>\n",
       "    <tr>\n",
       "      <th>1</th>\n",
       "      <td>0.460130</td>\n",
       "      <td>0.105484</td>\n",
       "      <td>3</td>\n",
       "      <td>3</td>\n",
       "    </tr>\n",
       "    <tr>\n",
       "      <th>2</th>\n",
       "      <td>0.911178</td>\n",
       "      <td>0.238735</td>\n",
       "      <td>1</td>\n",
       "      <td>1</td>\n",
       "    </tr>\n",
       "    <tr>\n",
       "      <th>1</th>\n",
       "      <td>0.756318</td>\n",
       "      <td>0.307081</td>\n",
       "      <td>4</td>\n",
       "      <td>4</td>\n",
       "    </tr>\n",
       "    <tr>\n",
       "      <th>3</th>\n",
       "      <td>0.401766</td>\n",
       "      <td>0.381209</td>\n",
       "      <td>9</td>\n",
       "      <td>9</td>\n",
       "    </tr>\n",
       "    <tr>\n",
       "      <th>3</th>\n",
       "      <td>0.527395</td>\n",
       "      <td>0.660684</td>\n",
       "      <td>2</td>\n",
       "      <td>2</td>\n",
       "    </tr>\n",
       "    <tr>\n",
       "      <th>4</th>\n",
       "      <td>0.362584</td>\n",
       "      <td>0.840739</td>\n",
       "      <td>7</td>\n",
       "      <td>7</td>\n",
       "    </tr>\n",
       "    <tr>\n",
       "      <th>3</th>\n",
       "      <td>0.515245</td>\n",
       "      <td>0.845360</td>\n",
       "      <td>5</td>\n",
       "      <td>5</td>\n",
       "    </tr>\n",
       "    <tr>\n",
       "      <th>3</th>\n",
       "      <td>0.913269</td>\n",
       "      <td>0.898082</td>\n",
       "      <td>0</td>\n",
       "      <td>0</td>\n",
       "    </tr>\n",
       "  </tbody>\n",
       "</table>\n",
       "</div>"
      ],
      "text/plain": [
       "            one       two  a1  a2\n",
       "three                            \n",
       "3      0.562707  0.046621   8   8\n",
       "0      0.288470  0.047118   6   6\n",
       "1      0.460130  0.105484   3   3\n",
       "2      0.911178  0.238735   1   1\n",
       "1      0.756318  0.307081   4   4\n",
       "3      0.401766  0.381209   9   9\n",
       "3      0.527395  0.660684   2   2\n",
       "4      0.362584  0.840739   7   7\n",
       "3      0.515245  0.845360   5   5\n",
       "3      0.913269  0.898082   0   0"
      ]
     },
     "execution_count": 40,
     "metadata": {},
     "output_type": "execute_result"
    }
   ],
   "source": [
    "df.sort_values(by='two')"
   ]
  },
  {
   "cell_type": "code",
   "execution_count": 70,
   "id": "00d4daa8-8c31-4ae8-bb47-d97abb93f2b2",
   "metadata": {},
   "outputs": [
    {
     "data": {
      "text/plain": [
       "three\n",
       "3    0\n",
       "2    1\n",
       "3    2\n",
       "1    3\n",
       "1    4\n",
       "3    5\n",
       "0    6\n",
       "4    7\n",
       "3    8\n",
       "3    9\n",
       "Name: a1, dtype: int32"
      ]
     },
     "execution_count": 70,
     "metadata": {},
     "output_type": "execute_result"
    }
   ],
   "source": [
    "df.a1//1"
   ]
  },
  {
   "cell_type": "code",
   "execution_count": 67,
   "id": "710ca556-3abb-4231-ac66-17d62d1d7e2c",
   "metadata": {},
   "outputs": [
    {
     "data": {
      "text/html": [
       "<div>\n",
       "<style scoped>\n",
       "    .dataframe tbody tr th:only-of-type {\n",
       "        vertical-align: middle;\n",
       "    }\n",
       "\n",
       "    .dataframe tbody tr th {\n",
       "        vertical-align: top;\n",
       "    }\n",
       "\n",
       "    .dataframe thead th {\n",
       "        text-align: right;\n",
       "    }\n",
       "</style>\n",
       "<table border=\"1\" class=\"dataframe\">\n",
       "  <thead>\n",
       "    <tr style=\"text-align: right;\">\n",
       "      <th></th>\n",
       "      <th>one</th>\n",
       "      <th>two</th>\n",
       "      <th>a1</th>\n",
       "      <th>a2</th>\n",
       "    </tr>\n",
       "    <tr>\n",
       "      <th>a1</th>\n",
       "      <th></th>\n",
       "      <th></th>\n",
       "      <th></th>\n",
       "      <th></th>\n",
       "    </tr>\n",
       "  </thead>\n",
       "  <tbody>\n",
       "    <tr>\n",
       "      <th>0</th>\n",
       "      <td>0.783947</td>\n",
       "      <td>0.599167</td>\n",
       "      <td>1.0</td>\n",
       "      <td>1.0</td>\n",
       "    </tr>\n",
       "    <tr>\n",
       "      <th>1</th>\n",
       "      <td>0.577231</td>\n",
       "      <td>0.419308</td>\n",
       "      <td>4.0</td>\n",
       "      <td>4.0</td>\n",
       "    </tr>\n",
       "    <tr>\n",
       "      <th>2</th>\n",
       "      <td>0.404587</td>\n",
       "      <td>0.311492</td>\n",
       "      <td>7.0</td>\n",
       "      <td>7.0</td>\n",
       "    </tr>\n",
       "    <tr>\n",
       "      <th>3</th>\n",
       "      <td>0.401766</td>\n",
       "      <td>0.381209</td>\n",
       "      <td>9.0</td>\n",
       "      <td>9.0</td>\n",
       "    </tr>\n",
       "  </tbody>\n",
       "</table>\n",
       "</div>"
      ],
      "text/plain": [
       "         one       two   a1   a2\n",
       "a1                              \n",
       "0   0.783947  0.599167  1.0  1.0\n",
       "1   0.577231  0.419308  4.0  4.0\n",
       "2   0.404587  0.311492  7.0  7.0\n",
       "3   0.401766  0.381209  9.0  9.0"
      ]
     },
     "execution_count": 67,
     "metadata": {},
     "output_type": "execute_result"
    }
   ],
   "source": [
    "dfMean = df.groupby(df.index).mean()\n",
    "dfStd = df.groupby(df.index).std(ddof=0)"
   ]
  },
  {
   "cell_type": "code",
   "execution_count": null,
   "id": "89869f78-cd42-4b74-990e-dea4f7285dcf",
   "metadata": {},
   "outputs": [],
   "source": []
  },
  {
   "cell_type": "code",
   "execution_count": null,
   "id": "50a0dd70-cc18-4b3a-97d0-e5dd394edb28",
   "metadata": {},
   "outputs": [],
   "source": []
  },
  {
   "cell_type": "code",
   "execution_count": null,
   "id": "8e4a036e-ab97-48c1-b52d-947a89a1c31b",
   "metadata": {},
   "outputs": [],
   "source": []
  },
  {
   "cell_type": "code",
   "execution_count": null,
   "id": "be21f057-6b9d-4ee1-a6b5-26551b71e261",
   "metadata": {},
   "outputs": [],
   "source": []
  },
  {
   "cell_type": "code",
   "execution_count": null,
   "id": "1a3e0e97-7b73-4185-ad6b-149a588990d0",
   "metadata": {},
   "outputs": [],
   "source": []
  },
  {
   "cell_type": "code",
   "execution_count": null,
   "id": "1567c7d0-f235-4807-b33c-83e36ed434ce",
   "metadata": {},
   "outputs": [],
   "source": []
  },
  {
   "cell_type": "code",
   "execution_count": null,
   "id": "e611660d-25bd-4e24-896e-83f60248d92e",
   "metadata": {},
   "outputs": [],
   "source": []
  },
  {
   "cell_type": "code",
   "execution_count": null,
   "id": "0f02d328-8aa0-49aa-be7c-186dfa55b3a5",
   "metadata": {},
   "outputs": [],
   "source": []
  },
  {
   "cell_type": "markdown",
   "id": "6abfd8aa-f4df-4517-8549-1fccc6174296",
   "metadata": {
    "jp-MarkdownHeadingCollapsed": true,
    "tags": []
   },
   "source": [
    "### Strings & File Paths"
   ]
  },
  {
   "cell_type": "code",
   "execution_count": 18,
   "id": "ad2ce208-1a62-4420-a34c-b071ef37e1b2",
   "metadata": {},
   "outputs": [],
   "source": [
    "fname = r'D:\\Dropbox (Lehigh University)\\Sommer Lab Shared\\Data\\2024\\04-2024\\19 Apr 2024\\Andor\\Varied Evap t1 and Tau\\0100000000spool.dat'"
   ]
  },
  {
   "cell_type": "code",
   "execution_count": 19,
   "id": "27662eb5-e756-49b7-8bb6-c916a1b048f7",
   "metadata": {},
   "outputs": [
    {
     "data": {
      "text/plain": [
       "'D:\\\\Dropbox (Lehigh University)\\\\Sommer Lab Shared\\\\Data\\\\2024\\\\04-2024\\\\19 Apr 2024\\\\Andor\\\\Varied Evap t1 and Tau\\\\0100000000spool.dat'"
      ]
     },
     "execution_count": 19,
     "metadata": {},
     "output_type": "execute_result"
    }
   ],
   "source": [
    "fname"
   ]
  },
  {
   "cell_type": "code",
   "execution_count": 40,
   "id": "a230c9f4-c16b-4070-af32-0c7896a9c328",
   "metadata": {},
   "outputs": [
    {
     "data": {
      "text/plain": [
       "'19 Apr 2024'"
      ]
     },
     "execution_count": 40,
     "metadata": {},
     "output_type": "execute_result"
    }
   ],
   "source": [
    "fname.replace('\\\\', '/').split('/Andor')[0].rsplit('/',1)[-1]"
   ]
  },
  {
   "cell_type": "code",
   "execution_count": 41,
   "id": "16c1acab-ebfc-4cc7-94d3-21038748aae6",
   "metadata": {},
   "outputs": [
    {
     "data": {
      "text/plain": [
       "datetime.datetime(2024, 4, 19, 0, 0)"
      ]
     },
     "execution_count": 41,
     "metadata": {},
     "output_type": "execute_result"
    }
   ],
   "source": [
    " datetime.datetime.strptime( fname.replace('\\\\', '/').split('/Andor')[0].rsplit('/',1)[-1], '%d %b %Y' )"
   ]
  },
  {
   "cell_type": "code",
   "execution_count": 44,
   "id": "fee55aaa-7a4c-4a2e-96ed-b4c95f30f615",
   "metadata": {},
   "outputs": [
    {
     "data": {
      "text/plain": [
       "'04/19/2024'"
      ]
     },
     "execution_count": 44,
     "metadata": {},
     "output_type": "execute_result"
    }
   ],
   "source": [
    " datetime.datetime.strptime( fname.replace('\\\\', '/').split('/Andor')[0].rsplit('/',1)[-1], '%d %b %Y' ).strftime('%m/%d/%Y')"
   ]
  },
  {
   "cell_type": "code",
   "execution_count": null,
   "id": "9f977c03-3f8e-48e3-88af-9cfbc0be6b85",
   "metadata": {},
   "outputs": [],
   "source": []
  },
  {
   "cell_type": "code",
   "execution_count": 21,
   "id": "55aed31d-090a-4b0e-86a6-6add4bc3ae52",
   "metadata": {},
   "outputs": [
    {
     "data": {
      "text/plain": [
       "'Varied Evap t1 and Tau/0100000000spool.dat'"
      ]
     },
     "execution_count": 21,
     "metadata": {},
     "output_type": "execute_result"
    }
   ],
   "source": [
    "'/'.join(fname.replace('\\\\', '/').rsplit('/', 2)[1:])"
   ]
  },
  {
   "cell_type": "code",
   "execution_count": 8,
   "id": "7e712662-08d5-4d97-be57-af926f3ef8e0",
   "metadata": {},
   "outputs": [
    {
     "data": {
      "text/plain": [
       "['D:/Dropbox (Lehigh University)/Sommer Lab Shared/Data/2024/04-2024',\n",
       " '19 Apr 2024',\n",
       " 'Andor',\n",
       " 'Varied Evap t1 and Tau',\n",
       " '0100000000spool.dat']"
      ]
     },
     "execution_count": 8,
     "metadata": {},
     "output_type": "execute_result"
    }
   ],
   "source": [
    "fname.replace('\\\\', '/').rsplit('/', 4)\n"
   ]
  },
  {
   "cell_type": "code",
   "execution_count": null,
   "id": "ac045f17-4dbd-4c93-81f6-4cf321c794ab",
   "metadata": {},
   "outputs": [],
   "source": []
  },
  {
   "cell_type": "code",
   "execution_count": null,
   "id": "7c4486a5-9f19-416c-9cb8-5a18bdf4f36c",
   "metadata": {},
   "outputs": [],
   "source": []
  },
  {
   "cell_type": "code",
   "execution_count": 83,
   "id": "f4ec0371-564c-4d9b-a267-4ce504ce0750",
   "metadata": {},
   "outputs": [],
   "source": [
    "folder1 = r'D:\\Dropbox (Lehigh University)\\Sommer Lab Shared\\Data\\2024/03-2024/09 Mar 2024\\Andor/ODT 400 Misalign\\7200000000spool.dat'"
   ]
  },
  {
   "cell_type": "code",
   "execution_count": 84,
   "id": "84099830-c867-43c0-8b01-81c5d2c3876d",
   "metadata": {},
   "outputs": [
    {
     "data": {
      "text/plain": [
       "'D:\\\\Dropbox (Lehigh University)\\\\Sommer Lab Shared\\\\Data\\\\2024/03-2024/09 Mar 2024\\\\Andor/ODT 400 Misalign\\\\7200000000spool.dat'"
      ]
     },
     "execution_count": 84,
     "metadata": {},
     "output_type": "execute_result"
    }
   ],
   "source": [
    "folder1"
   ]
  },
  {
   "cell_type": "code",
   "execution_count": 85,
   "id": "e7758796-6ee3-402a-9029-7785acbe39ed",
   "metadata": {},
   "outputs": [
    {
     "data": {
      "text/plain": [
       "['D:',\n",
       " 'Dropbox (Lehigh University)',\n",
       " 'Sommer Lab Shared',\n",
       " 'Data',\n",
       " '2024/03-2024/09 Mar 2024',\n",
       " 'Andor/ODT 400 Misalign',\n",
       " '7200000000spool.dat']"
      ]
     },
     "execution_count": 85,
     "metadata": {},
     "output_type": "execute_result"
    }
   ],
   "source": [
    "folder1.split('\\\\')"
   ]
  },
  {
   "cell_type": "code",
   "execution_count": 86,
   "id": "0f9d288e-6c5d-48b9-bd68-f8795185b446",
   "metadata": {},
   "outputs": [
    {
     "data": {
      "text/plain": [
       "[['D:'],\n",
       " ['Dropbox (Lehigh University)'],\n",
       " ['Sommer Lab Shared'],\n",
       " ['Data'],\n",
       " ['2024', '03-2024', '09 Mar 2024'],\n",
       " ['Andor', 'ODT 400 Misalign'],\n",
       " ['7200000000spool.dat']]"
      ]
     },
     "execution_count": 86,
     "metadata": {},
     "output_type": "execute_result"
    }
   ],
   "source": [
    "[ii.split('/') for ii in folder1.split('\\\\')]"
   ]
  },
  {
   "cell_type": "code",
   "execution_count": 88,
   "id": "ab6ab0b0-ffdd-4c88-8ed4-b293d99f603e",
   "metadata": {},
   "outputs": [
    {
     "data": {
      "text/plain": [
       "['D:/Dropbox (Lehigh University)/Sommer Lab Shared/Data/2024/03-2024',\n",
       " '09 Mar 2024',\n",
       " 'Andor',\n",
       " 'ODT 400 Misalign',\n",
       " '7200000000spool.dat']"
      ]
     },
     "execution_count": 88,
     "metadata": {},
     "output_type": "execute_result"
    }
   ],
   "source": [
    "folder1.replace('\\\\', '/').rsplit('/',4)"
   ]
  },
  {
   "cell_type": "code",
   "execution_count": 91,
   "id": "a13f1572-eb1e-4504-9a7c-477cf7ab0001",
   "metadata": {},
   "outputs": [
    {
     "data": {
      "text/plain": [
       "'D:/Dropbox (Lehigh University)/Sommer Lab Shared/Data/2024/03-2024/09 Mar 2024/Andor/ODT 400 Misalign/7200000000spool.dat'"
      ]
     },
     "execution_count": 91,
     "metadata": {},
     "output_type": "execute_result"
    }
   ],
   "source": [
    "folder1.replace('\\\\', '/')"
   ]
  },
  {
   "cell_type": "code",
   "execution_count": 103,
   "id": "44597afa-6a1f-443b-a791-841132a970cf",
   "metadata": {},
   "outputs": [
    {
     "data": {
      "text/plain": [
       "'D:\\\\Dropbox (Lehigh University)\\\\Sommer Lab Shared\\\\Data\\\\2024/03-2024/09 Mar 2024\\\\Andor/ODT 400 Misalign\\\\7200000000spool.dat'"
      ]
     },
     "execution_count": 103,
     "metadata": {},
     "output_type": "execute_result"
    }
   ],
   "source": [
    "folder1"
   ]
  },
  {
   "cell_type": "code",
   "execution_count": 106,
   "id": "437c20f9-2047-4cd8-a6f5-6c3aa9f57100",
   "metadata": {},
   "outputs": [],
   "source": [
    "paths = ('D:/Dropbox (Lehigh University)/Sommer Lab Shared\\\\Data/2024/03-2024/09 Mar 2024/Andor/ODT 400 Misalign/',\n",
    "         'D:/Dropbox (Lehigh University)/Sommer Lab Shared/Data/2024/03-2024/09 Mar 2024/Andor/ODT 1900 Misalign/',\n",
    "         'D:/Dropbox (Lehigh University)/Sommer Lab Shared/Data/2024/03-2024/10 Mar 2024/Andor/ODT 400 Misalign/')"
   ]
  },
  {
   "cell_type": "code",
   "execution_count": 108,
   "id": "403e004e-71b4-4283-8965-b6319fc43b82",
   "metadata": {},
   "outputs": [
    {
     "data": {
      "text/plain": [
       "['D:/Dropbox (Lehigh University)/Sommer Lab Shared/Data/2024/03-2024/09 Mar 2024',\n",
       " 'D:/Dropbox (Lehigh University)/Sommer Lab Shared/Data/2024/03-2024/09 Mar 2024',\n",
       " 'D:/Dropbox (Lehigh University)/Sommer Lab Shared/Data/2024/03-2024/10 Mar 2024']"
      ]
     },
     "execution_count": 108,
     "metadata": {},
     "output_type": "execute_result"
    }
   ],
   "source": [
    "dayfolders = [ ii.replace('\\\\', '/').rstrip('/').rsplit('/', 2)[0] for ii in paths]\n",
    "dayfolders"
   ]
  },
  {
   "cell_type": "code",
   "execution_count": 109,
   "id": "90ecba83-9281-4f93-9fe5-e748b085dfc9",
   "metadata": {},
   "outputs": [],
   "source": [
    "dayfolders = np.unique(dayfolders)"
   ]
  },
  {
   "cell_type": "code",
   "execution_count": 110,
   "id": "55325555-487d-4f91-8f7c-cb52f702267d",
   "metadata": {},
   "outputs": [
    {
     "data": {
      "text/plain": [
       "['D:/Dropbox (Lehigh University)/Sommer Lab Shared/Data/2024/03-2024/09 Mar 2024\\\\Variable Logs',\n",
       " 'D:/Dropbox (Lehigh University)/Sommer Lab Shared/Data/2024/03-2024/10 Mar 2024\\\\Variable Logs']"
      ]
     },
     "execution_count": 110,
     "metadata": {},
     "output_type": "execute_result"
    }
   ],
   "source": [
    "variablelogfolders = [ os.path.join(ii, 'Variable Logs') for ii in dayfolders]\n",
    "variablelogfolders"
   ]
  },
  {
   "cell_type": "code",
   "execution_count": null,
   "id": "7d3bfd92-d61b-4563-a82d-08a53229827d",
   "metadata": {},
   "outputs": [],
   "source": []
  },
  {
   "cell_type": "code",
   "execution_count": null,
   "id": "003e8a73-e99d-4d6c-8783-4e6bdf625c5a",
   "metadata": {},
   "outputs": [],
   "source": []
  },
  {
   "cell_type": "code",
   "execution_count": null,
   "id": "9ff234c6-4e8e-4ddb-9add-ba4be3fa8cd5",
   "metadata": {},
   "outputs": [
    {
     "data": {
      "text/html": [
       "<div>\n",
       "<style scoped>\n",
       "    .dataframe tbody tr th:only-of-type {\n",
       "        vertical-align: middle;\n",
       "    }\n",
       "\n",
       "    .dataframe tbody tr th {\n",
       "        vertical-align: top;\n",
       "    }\n",
       "\n",
       "    .dataframe thead th {\n",
       "        text-align: right;\n",
       "    }\n",
       "</style>\n",
       "<table border=\"1\" class=\"dataframe\">\n",
       "  <thead>\n",
       "    <tr style=\"text-align: right;\">\n",
       "      <th></th>\n",
       "      <th>A</th>\n",
       "      <th>B</th>\n",
       "      <th>C</th>\n",
       "      <th>D</th>\n",
       "      <th>E</th>\n",
       "    </tr>\n",
       "    <tr>\n",
       "      <th>ind</th>\n",
       "      <th></th>\n",
       "      <th></th>\n",
       "      <th></th>\n",
       "      <th></th>\n",
       "      <th></th>\n",
       "    </tr>\n",
       "  </thead>\n",
       "  <tbody>\n",
       "    <tr>\n",
       "      <th>a</th>\n",
       "      <td>[[0, 1], [2, 3]]</td>\n",
       "      <td>1</td>\n",
       "      <td>2</td>\n",
       "      <td>3</td>\n",
       "      <td>4</td>\n",
       "    </tr>\n",
       "    <tr>\n",
       "      <th>b</th>\n",
       "      <td>[[4, 5], [6, 7]]</td>\n",
       "      <td>6</td>\n",
       "      <td>7</td>\n",
       "      <td>8</td>\n",
       "      <td>9</td>\n",
       "    </tr>\n",
       "    <tr>\n",
       "      <th>c</th>\n",
       "      <td>[[8, 9], [10, 11]]</td>\n",
       "      <td>11</td>\n",
       "      <td>12</td>\n",
       "      <td>13</td>\n",
       "      <td>14</td>\n",
       "    </tr>\n",
       "    <tr>\n",
       "      <th>d</th>\n",
       "      <td>[[12, 13], [14, 15]]</td>\n",
       "      <td>16</td>\n",
       "      <td>17</td>\n",
       "      <td>18</td>\n",
       "      <td>19</td>\n",
       "    </tr>\n",
       "    <tr>\n",
       "      <th>e</th>\n",
       "      <td>[[16, 17], [18, 19]]</td>\n",
       "      <td>21</td>\n",
       "      <td>22</td>\n",
       "      <td>23</td>\n",
       "      <td>24</td>\n",
       "    </tr>\n",
       "    <tr>\n",
       "      <th>f</th>\n",
       "      <td>[[20, 21], [22, 23]]</td>\n",
       "      <td>26</td>\n",
       "      <td>27</td>\n",
       "      <td>28</td>\n",
       "      <td>29</td>\n",
       "    </tr>\n",
       "  </tbody>\n",
       "</table>\n",
       "</div>"
      ],
      "text/plain": [
       "                        A   B   C   D   E\n",
       "ind                                      \n",
       "a        [[0, 1], [2, 3]]   1   2   3   4\n",
       "b        [[4, 5], [6, 7]]   6   7   8   9\n",
       "c      [[8, 9], [10, 11]]  11  12  13  14\n",
       "d    [[12, 13], [14, 15]]  16  17  18  19\n",
       "e    [[16, 17], [18, 19]]  21  22  23  24\n",
       "f    [[20, 21], [22, 23]]  26  27  28  29"
      ]
     },
     "execution_count": 28,
     "metadata": {},
     "output_type": "execute_result"
    }
   ],
   "source": [
    "df"
   ]
  },
  {
   "cell_type": "code",
   "execution_count": null,
   "id": "2a95d512-4dec-418c-9e41-21ae59cd4d54",
   "metadata": {},
   "outputs": [],
   "source": [
    "df.insert(0, 'insert2', 'asdf')"
   ]
  },
  {
   "cell_type": "code",
   "execution_count": null,
   "id": "006e9ebc-3e23-43bd-8f89-d1afa2abad72",
   "metadata": {},
   "outputs": [
    {
     "data": {
      "text/html": [
       "<div>\n",
       "<style scoped>\n",
       "    .dataframe tbody tr th:only-of-type {\n",
       "        vertical-align: middle;\n",
       "    }\n",
       "\n",
       "    .dataframe tbody tr th {\n",
       "        vertical-align: top;\n",
       "    }\n",
       "\n",
       "    .dataframe thead th {\n",
       "        text-align: right;\n",
       "    }\n",
       "</style>\n",
       "<table border=\"1\" class=\"dataframe\">\n",
       "  <thead>\n",
       "    <tr style=\"text-align: right;\">\n",
       "      <th></th>\n",
       "      <th>insert1</th>\n",
       "      <th>insert</th>\n",
       "      <th>A</th>\n",
       "      <th>B</th>\n",
       "      <th>C</th>\n",
       "      <th>D</th>\n",
       "      <th>E</th>\n",
       "    </tr>\n",
       "    <tr>\n",
       "      <th>ind</th>\n",
       "      <th></th>\n",
       "      <th></th>\n",
       "      <th></th>\n",
       "      <th></th>\n",
       "      <th></th>\n",
       "      <th></th>\n",
       "      <th></th>\n",
       "    </tr>\n",
       "  </thead>\n",
       "  <tbody>\n",
       "    <tr>\n",
       "      <th>a</th>\n",
       "      <td>qwer</td>\n",
       "      <td>asdf</td>\n",
       "      <td>[[0, 1], [2, 3]]</td>\n",
       "      <td>1</td>\n",
       "      <td>2</td>\n",
       "      <td>3</td>\n",
       "      <td>4</td>\n",
       "    </tr>\n",
       "    <tr>\n",
       "      <th>b</th>\n",
       "      <td>qwer</td>\n",
       "      <td>asdf</td>\n",
       "      <td>[[4, 5], [6, 7]]</td>\n",
       "      <td>6</td>\n",
       "      <td>7</td>\n",
       "      <td>8</td>\n",
       "      <td>9</td>\n",
       "    </tr>\n",
       "    <tr>\n",
       "      <th>c</th>\n",
       "      <td>qwer</td>\n",
       "      <td>asdf</td>\n",
       "      <td>[[8, 9], [10, 11]]</td>\n",
       "      <td>11</td>\n",
       "      <td>12</td>\n",
       "      <td>13</td>\n",
       "      <td>14</td>\n",
       "    </tr>\n",
       "    <tr>\n",
       "      <th>d</th>\n",
       "      <td>qwer</td>\n",
       "      <td>asdf</td>\n",
       "      <td>[[12, 13], [14, 15]]</td>\n",
       "      <td>16</td>\n",
       "      <td>17</td>\n",
       "      <td>18</td>\n",
       "      <td>19</td>\n",
       "    </tr>\n",
       "    <tr>\n",
       "      <th>e</th>\n",
       "      <td>qwer</td>\n",
       "      <td>asdf</td>\n",
       "      <td>[[16, 17], [18, 19]]</td>\n",
       "      <td>21</td>\n",
       "      <td>22</td>\n",
       "      <td>23</td>\n",
       "      <td>24</td>\n",
       "    </tr>\n",
       "    <tr>\n",
       "      <th>f</th>\n",
       "      <td>qwer</td>\n",
       "      <td>asdf</td>\n",
       "      <td>[[20, 21], [22, 23]]</td>\n",
       "      <td>26</td>\n",
       "      <td>27</td>\n",
       "      <td>28</td>\n",
       "      <td>29</td>\n",
       "    </tr>\n",
       "  </tbody>\n",
       "</table>\n",
       "</div>"
      ],
      "text/plain": [
       "    insert1 insert                     A   B   C   D   E\n",
       "ind                                                     \n",
       "a      qwer   asdf      [[0, 1], [2, 3]]   1   2   3   4\n",
       "b      qwer   asdf      [[4, 5], [6, 7]]   6   7   8   9\n",
       "c      qwer   asdf    [[8, 9], [10, 11]]  11  12  13  14\n",
       "d      qwer   asdf  [[12, 13], [14, 15]]  16  17  18  19\n",
       "e      qwer   asdf  [[16, 17], [18, 19]]  21  22  23  24\n",
       "f      qwer   asdf  [[20, 21], [22, 23]]  26  27  28  29"
      ]
     },
     "execution_count": 43,
     "metadata": {},
     "output_type": "execute_result"
    }
   ],
   "source": [
    "df"
   ]
  },
  {
   "cell_type": "code",
   "execution_count": null,
   "id": "6946664e-f73b-43a8-b0f1-a5cc3aa95ddc",
   "metadata": {},
   "outputs": [
    {
     "data": {
      "text/plain": [
       "array(['qwer\\\\asdf', 'qwer\\\\asdf', 'qwer\\\\asdf', 'qwer\\\\asdf',\n",
       "       'qwer\\\\asdf', 'qwer\\\\asdf'], dtype=object)"
      ]
     },
     "execution_count": 57,
     "metadata": {},
     "output_type": "execute_result"
    }
   ],
   "source": [
    "aa = df[['insert1', 'insert2']].apply(lambda row: os.path.join(*row), axis=1)\n",
    "aa.values"
   ]
  },
  {
   "cell_type": "code",
   "execution_count": 81,
   "id": "a4f7da9b-20a4-4a61-bb0c-c8f8dabb00fe",
   "metadata": {},
   "outputs": [
    {
     "ename": "SyntaxError",
     "evalue": "invalid syntax (Temp/ipykernel_15460/3592707975.py, line 1)",
     "output_type": "error",
     "traceback": [
      "\u001b[1;36m  File \u001b[1;32m\"C:\\Users\\SOMMER~1\\AppData\\Local\\Temp/ipykernel_15460/3592707975.py\"\u001b[1;36m, line \u001b[1;32m1\u001b[0m\n\u001b[1;33m    aa = df[['path']].apply(lambda row: *row.split('\\\\') , axis=1)\u001b[0m\n\u001b[1;37m                                        ^\u001b[0m\n\u001b[1;31mSyntaxError\u001b[0m\u001b[1;31m:\u001b[0m invalid syntax\n"
     ]
    }
   ],
   "source": [
    "aa = df[['path']].apply(lambda row: *row.split('\\\\') , axis=1)\n"
   ]
  },
  {
   "cell_type": "code",
   "execution_count": 82,
   "id": "81c1baa2-aee6-41e4-87d9-f2fbbc3267be",
   "metadata": {},
   "outputs": [
    {
     "data": {
      "text/html": [
       "<div>\n",
       "<style scoped>\n",
       "    .dataframe tbody tr th:only-of-type {\n",
       "        vertical-align: middle;\n",
       "    }\n",
       "\n",
       "    .dataframe tbody tr th {\n",
       "        vertical-align: top;\n",
       "    }\n",
       "\n",
       "    .dataframe thead th {\n",
       "        text-align: right;\n",
       "    }\n",
       "</style>\n",
       "<table border=\"1\" class=\"dataframe\">\n",
       "  <thead>\n",
       "    <tr style=\"text-align: right;\">\n",
       "      <th></th>\n",
       "      <th>0</th>\n",
       "      <th>1</th>\n",
       "    </tr>\n",
       "    <tr>\n",
       "      <th>ind</th>\n",
       "      <th></th>\n",
       "      <th></th>\n",
       "    </tr>\n",
       "  </thead>\n",
       "  <tbody>\n",
       "    <tr>\n",
       "      <th>a</th>\n",
       "      <td>qwer</td>\n",
       "      <td>asdf</td>\n",
       "    </tr>\n",
       "    <tr>\n",
       "      <th>b</th>\n",
       "      <td>qwer</td>\n",
       "      <td>asdf</td>\n",
       "    </tr>\n",
       "    <tr>\n",
       "      <th>c</th>\n",
       "      <td>qwer</td>\n",
       "      <td>asdf</td>\n",
       "    </tr>\n",
       "    <tr>\n",
       "      <th>d</th>\n",
       "      <td>qwer</td>\n",
       "      <td>asdf</td>\n",
       "    </tr>\n",
       "    <tr>\n",
       "      <th>e</th>\n",
       "      <td>qwer</td>\n",
       "      <td>asdf</td>\n",
       "    </tr>\n",
       "    <tr>\n",
       "      <th>f</th>\n",
       "      <td>qwer</td>\n",
       "      <td>asdf</td>\n",
       "    </tr>\n",
       "  </tbody>\n",
       "</table>\n",
       "</div>"
      ],
      "text/plain": [
       "        0     1\n",
       "ind            \n",
       "a    qwer  asdf\n",
       "b    qwer  asdf\n",
       "c    qwer  asdf\n",
       "d    qwer  asdf\n",
       "e    qwer  asdf\n",
       "f    qwer  asdf"
      ]
     },
     "execution_count": 82,
     "metadata": {},
     "output_type": "execute_result"
    }
   ],
   "source": [
    "df['path'].str.split('\\\\', n=1, expand=True)\n"
   ]
  },
  {
   "cell_type": "code",
   "execution_count": null,
   "id": "0686204d-38dc-4e2b-8695-3a5b467bb204",
   "metadata": {},
   "outputs": [],
   "source": []
  },
  {
   "cell_type": "code",
   "execution_count": null,
   "id": "4d0dd038-fba4-42ed-840c-ac08fdf3f2cb",
   "metadata": {},
   "outputs": [],
   "source": []
  },
  {
   "cell_type": "code",
   "execution_count": null,
   "id": "5cc7b00a-bb19-4a19-9224-661bda9af213",
   "metadata": {},
   "outputs": [],
   "source": []
  },
  {
   "cell_type": "code",
   "execution_count": null,
   "id": "cc422a05-6408-4523-ac4a-de52395c1e7e",
   "metadata": {},
   "outputs": [],
   "source": [
    "folder = r'D:\\Dropbox (Lehigh University)\\Sommer Lab Shared\\Data\\2024\\03-2024\\09 Mar 2024\\Andor\\ODT 1900 Misalign'"
   ]
  },
  {
   "cell_type": "code",
   "execution_count": null,
   "id": "2f00b702-abc3-4fae-9eb7-235b34780226",
   "metadata": {},
   "outputs": [],
   "source": [
    "files = os.listdir(folder)"
   ]
  },
  {
   "cell_type": "code",
   "execution_count": null,
   "id": "b7b26baa-2654-4eb0-9f6d-f7f1514aecf5",
   "metadata": {},
   "outputs": [],
   "source": [
    "ctime = []\n",
    "mtime = []\n",
    "for file in files:\n",
    "    path = os.path.join(folder, file)\n",
    "    ctime.append(os.path.getctime(path))\n",
    "    mtime.append(os.path.getmtime(path))\n",
    "\n",
    "    "
   ]
  },
  {
   "cell_type": "code",
   "execution_count": null,
   "id": "a8c92bf3-b7a4-4bd3-b308-6c5320e67e69",
   "metadata": {},
   "outputs": [
    {
     "data": {
      "text/plain": [
       "'asdf\\\\qwer/adf'"
      ]
     },
     "execution_count": 32,
     "metadata": {},
     "output_type": "execute_result"
    }
   ],
   "source": [
    "os.path.join('asdf','qwer/adf')"
   ]
  },
  {
   "cell_type": "code",
   "execution_count": null,
   "id": "7acad803-c388-4cb2-a839-7f69adc2da5f",
   "metadata": {},
   "outputs": [
    {
     "name": "stdout",
     "output_type": "stream",
     "text": [
      "D:\\Dropbox (Lehigh University)\\Sommer Lab Shared\\Data\\2024\\03-2024\\09 Mar 2024\\Andor\\ODT 1900 Misalign\n",
      "['ModifiedData']\n",
      "['0000000000spool.dat', '0010000000spool.dat', '0100000000spool.dat', '0110000000spool.dat', '0200000000spool.dat', '0210000000spool.dat', '0300000000spool.dat', '0310000000spool.dat', '0400000000spool.dat', '0410000000spool.dat', '0500000000spool.dat', '0600000000spool.dat', '0700000000spool.dat', '0800000000spool.dat', '0900000000spool.dat', '1000000000spool.dat', '1010000000spool.dat', '1100000000spool.dat', '1110000000spool.dat', '1200000000spool.dat', '1210000000spool.dat', '1300000000spool.dat', '1310000000spool.dat', '1400000000spool.dat', '1410000000spool.dat', '1500000000spool.dat', '1600000000spool.dat', '1700000000spool.dat', '1800000000spool.dat', '1900000000spool.dat', '2000000000spool.dat', '2010000000spool.dat', '2100000000spool.dat', '2110000000spool.dat', '2200000000spool.dat', '2210000000spool.dat', '2300000000spool.dat', '2310000000spool.dat', '2400000000spool.dat', '2410000000spool.dat', '2500000000spool.dat', '2600000000spool.dat', '2700000000spool.dat', '2800000000spool.dat', '2900000000spool.dat', '3000000000spool.dat', '3010000000spool.dat', '3100000000spool.dat', '3110000000spool.dat', '3200000000spool.dat', '3210000000spool.dat', '3300000000spool.dat', '3310000000spool.dat', '3400000000spool.dat', '3410000000spool.dat', '3500000000spool.dat', '3600000000spool.dat', '3700000000spool.dat', '3800000000spool.dat', '3900000000spool.dat', '4000000000spool.dat', '4010000000spool.dat', '4100000000spool.dat', '4110000000spool.dat', '4200000000spool.dat', '4210000000spool.dat', '4300000000spool.dat', '4310000000spool.dat', '4400000000spool.dat', '4410000000spool.dat', '4500000000spool.dat', '4600000000spool.dat', '4700000000spool.dat', '4800000000spool.dat', '4900000000spool.dat', '5000000000spool.dat', '5010000000spool.dat', '5100000000spool.dat', '5110000000spool.dat', '5200000000spool.dat', '5210000000spool.dat', '5300000000spool.dat', '5310000000spool.dat', '5400000000spool.dat', '5410000000spool.dat', '5500000000spool.dat', '5600000000spool.dat', '5700000000spool.dat', '5800000000spool.dat', '5900000000spool.dat', '6000000000spool.dat', '6010000000spool.dat', '6100000000spool.dat', '6110000000spool.dat', '6200000000spool.dat', '6210000000spool.dat', '6300000000spool.dat', '6310000000spool.dat', '6400000000spool.dat', '6410000000spool.dat', '6500000000spool.dat', '6600000000spool.dat', '6700000000spool.dat', '6800000000spool.dat', '6900000000spool.dat', '7000000000spool.dat', '7010000000spool.dat', '7100000000spool.dat', '7110000000spool.dat', '7200000000spool.dat', '7210000000spool.dat', '7300000000spool.dat', '7310000000spool.dat', '7400000000spool.dat', '7410000000spool.dat', '7500000000spool.dat', '7600000000spool.dat', '7700000000spool.dat', '7800000000spool.dat', '7900000000spool.dat', '8000000000spool.dat', '8010000000spool.dat', '8100000000spool.dat', '8110000000spool.dat', '8200000000spool.dat', '8210000000spool.dat', '8300000000spool.dat', '8310000000spool.dat', '8400000000spool.dat', '8410000000spool.dat', '8500000000spool.dat', '8600000000spool.dat', '8700000000spool.dat', '8800000000spool.dat', '8900000000spool.dat', '9000000000spool.dat', '9010000000spool.dat', '9100000000spool.dat', '9110000000spool.dat', '9200000000spool.dat', '9210000000spool.dat', '9300000000spool.dat', '9310000000spool.dat', '9400000000spool.dat', '9410000000spool.dat', '9500000000spool.dat', '9600000000spool.dat', '9700000000spool.dat', '9800000000spool.dat', '9900000000spool.dat', 'acquisitionmetadata.ini', 'Spooled files.sifx']\n",
      "D:\\Dropbox (Lehigh University)\\Sommer Lab Shared\\Data\\2024\\03-2024\\09 Mar 2024\\Andor\\ODT 1900 Misalign\\ModifiedData\n",
      "[]\n",
      "['ODT 1900 Misalignlocations.dat']\n"
     ]
    }
   ],
   "source": [
    "for ii, jj, kk in os.walk(folder):\n",
    "    print(ii)\n",
    "    print(jj)\n",
    "    print(kk)"
   ]
  },
  {
   "cell_type": "code",
   "execution_count": null,
   "id": "ca0764c2-5bc9-43a9-8194-f49c0776e696",
   "metadata": {},
   "outputs": [
    {
     "data": {
      "text/plain": [
       "'D:\\\\Dropbox (Lehigh University)\\\\Sommer Lab Shared\\\\Data\\\\2024\\\\03-2024\\\\09 Mar 2024\\\\Andor\\\\ODT 1900 Misalign'"
      ]
     },
     "execution_count": 34,
     "metadata": {},
     "output_type": "execute_result"
    }
   ],
   "source": [
    "folder"
   ]
  },
  {
   "cell_type": "code",
   "execution_count": null,
   "id": "ec91be02-604d-425f-bd3b-16e2f3617c5f",
   "metadata": {},
   "outputs": [
    {
     "ename": "TypeError",
     "evalue": "split() takes 1 positional argument but 2 were given",
     "output_type": "error",
     "traceback": [
      "\u001b[1;31m---------------------------------------------------------------------------\u001b[0m",
      "\u001b[1;31mTypeError\u001b[0m                                 Traceback (most recent call last)",
      "\u001b[1;32mC:\\Users\\SOMMER~1\\AppData\\Local\\Temp/ipykernel_6624/813045667.py\u001b[0m in \u001b[0;36m<module>\u001b[1;34m\u001b[0m\n\u001b[1;32m----> 1\u001b[1;33m \u001b[0mos\u001b[0m\u001b[1;33m.\u001b[0m\u001b[0mpath\u001b[0m\u001b[1;33m.\u001b[0m\u001b[0msplit\u001b[0m\u001b[1;33m(\u001b[0m\u001b[0mfolder\u001b[0m\u001b[1;33m,\u001b[0m \u001b[1;36m3\u001b[0m\u001b[1;33m)\u001b[0m\u001b[1;33m\u001b[0m\u001b[1;33m\u001b[0m\u001b[0m\n\u001b[0m",
      "\u001b[1;31mTypeError\u001b[0m: split() takes 1 positional argument but 2 were given"
     ]
    }
   ],
   "source": [
    "os.path.split(folder, 3)"
   ]
  },
  {
   "cell_type": "code",
   "execution_count": null,
   "id": "8f8f340c-8943-43e3-8fd5-c324c590e532",
   "metadata": {},
   "outputs": [
    {
     "data": {
      "text/plain": [
       "['D:\\\\Dropbox (Lehigh University)\\\\Sommer Lab Shared\\\\Data\\\\2024\\\\03-2024',\n",
       " '09 Mar 2024',\n",
       " 'Andor',\n",
       " 'ODT 1900 Misalign']"
      ]
     },
     "execution_count": 45,
     "metadata": {},
     "output_type": "execute_result"
    }
   ],
   "source": [
    "folder.rsplit('\\\\', 3)"
   ]
  },
  {
   "cell_type": "code",
   "execution_count": null,
   "id": "c0caf6db-60ff-4257-9b7f-8850703bebad",
   "metadata": {},
   "outputs": [
    {
     "data": {
      "text/plain": [
       "\u001b[1;31mSignature:\u001b[0m \u001b[0mos\u001b[0m\u001b[1;33m.\u001b[0m\u001b[0mpath\u001b[0m\u001b[1;33m.\u001b[0m\u001b[0msplit\u001b[0m\u001b[1;33m(\u001b[0m\u001b[0mp\u001b[0m\u001b[1;33m)\u001b[0m\u001b[1;33m\u001b[0m\u001b[1;33m\u001b[0m\u001b[0m\n",
       "\u001b[1;31mDocstring:\u001b[0m\n",
       "Split a pathname.\n",
       "\n",
       "Return tuple (head, tail) where tail is everything after the final slash.\n",
       "Either part may be empty.\n",
       "\u001b[1;31mFile:\u001b[0m      c:\\programdata\\anaconda3\\lib\\ntpath.py\n",
       "\u001b[1;31mType:\u001b[0m      function\n"
      ]
     },
     "metadata": {},
     "output_type": "display_data"
    }
   ],
   "source": [
    "os.path.split?"
   ]
  },
  {
   "cell_type": "code",
   "execution_count": null,
   "id": "b0d4432d-3777-42e2-8bdf-01836daee415",
   "metadata": {},
   "outputs": [
    {
     "data": {
      "text/plain": [
       "'\\\\'"
      ]
     },
     "execution_count": 54,
     "metadata": {},
     "output_type": "execute_result"
    }
   ],
   "source": [
    "os.sep"
   ]
  },
  {
   "cell_type": "code",
   "execution_count": null,
   "id": "0f40325d-0c2b-464d-b5be-56154646b99c",
   "metadata": {},
   "outputs": [
    {
     "data": {
      "text/plain": [
       "['D:\\\\Dropbox (Lehigh University)\\\\Sommer Lab Shared\\\\Data\\\\2024\\\\03-2024',\n",
       " '09 Mar 2024',\n",
       " 'Andor',\n",
       " 'ODT 1900 Misalign']"
      ]
     },
     "execution_count": 80,
     "metadata": {},
     "output_type": "execute_result"
    }
   ],
   "source": [
    "folder.rsplit(os.sep, 3)"
   ]
  },
  {
   "cell_type": "code",
   "execution_count": null,
   "id": "a3619f6d-8f5d-44d1-a86c-d4ca8927165a",
   "metadata": {},
   "outputs": [
    {
     "data": {
      "text/plain": [
       "'09 Mar 2024/Andor'"
      ]
     },
     "execution_count": 57,
     "metadata": {},
     "output_type": "execute_result"
    }
   ],
   "source": [
    "'/'.join(folder.rsplit('\\\\', 3)[-3:-1])"
   ]
  },
  {
   "cell_type": "code",
   "execution_count": null,
   "id": "5c17e48b-ce52-4b8a-9ff8-c1d1cedb7120",
   "metadata": {},
   "outputs": [],
   "source": []
  },
  {
   "cell_type": "markdown",
   "id": "0679abdf-b0b3-4dcd-af0d-4b67f63dbd78",
   "metadata": {
    "jp-MarkdownHeadingCollapsed": true,
    "tags": []
   },
   "source": [
    "### Others"
   ]
  },
  {
   "cell_type": "code",
   "execution_count": 133,
   "id": "10e79b9d-dccf-450a-b7ce-07035bb033e1",
   "metadata": {},
   "outputs": [],
   "source": [
    "aa = np.arange(81).reshape(3,3,3,3)"
   ]
  },
  {
   "cell_type": "code",
   "execution_count": 134,
   "id": "307704aa-c171-4c98-853e-28bd40c6d802",
   "metadata": {},
   "outputs": [
    {
     "data": {
      "text/plain": [
       "array([[[[ 0,  1,  2],\n",
       "         [ 3,  4,  5],\n",
       "         [ 6,  7,  8]],\n",
       "\n",
       "        [[ 9, 10, 11],\n",
       "         [12, 13, 14],\n",
       "         [15, 16, 17]],\n",
       "\n",
       "        [[18, 19, 20],\n",
       "         [21, 22, 23],\n",
       "         [24, 25, 26]]],\n",
       "\n",
       "\n",
       "       [[[27, 28, 29],\n",
       "         [30, 31, 32],\n",
       "         [33, 34, 35]],\n",
       "\n",
       "        [[36, 37, 38],\n",
       "         [39, 40, 41],\n",
       "         [42, 43, 44]],\n",
       "\n",
       "        [[45, 46, 47],\n",
       "         [48, 49, 50],\n",
       "         [51, 52, 53]]],\n",
       "\n",
       "\n",
       "       [[[54, 55, 56],\n",
       "         [57, 58, 59],\n",
       "         [60, 61, 62]],\n",
       "\n",
       "        [[63, 64, 65],\n",
       "         [66, 67, 68],\n",
       "         [69, 70, 71]],\n",
       "\n",
       "        [[72, 73, 74],\n",
       "         [75, 76, 77],\n",
       "         [78, 79, 80]]]])"
      ]
     },
     "execution_count": 134,
     "metadata": {},
     "output_type": "execute_result"
    }
   ],
   "source": [
    "aa"
   ]
  },
  {
   "cell_type": "code",
   "execution_count": 135,
   "id": "2a213b97-9b8e-4102-b314-35c3360be5e2",
   "metadata": {},
   "outputs": [
    {
     "data": {
      "text/plain": [
       "array([[36, 37, 38],\n",
       "       [39, 40, 41],\n",
       "       [42, 43, 44]])"
      ]
     },
     "execution_count": 135,
     "metadata": {},
     "output_type": "execute_result"
    }
   ],
   "source": [
    "aa[1,1,:,:]"
   ]
  },
  {
   "cell_type": "code",
   "execution_count": 138,
   "id": "b9018033-82c2-4ff4-93f3-67b0a85bf9b4",
   "metadata": {},
   "outputs": [
    {
     "data": {
      "text/plain": [
       "array([[[ 9, 10, 11],\n",
       "        [12, 13, 14],\n",
       "        [15, 16, 17]],\n",
       "\n",
       "       [[36, 37, 38],\n",
       "        [39, 40, 41],\n",
       "        [42, 43, 44]],\n",
       "\n",
       "       [[63, 64, 65],\n",
       "        [66, 67, 68],\n",
       "        [69, 70, 71]]])"
      ]
     },
     "execution_count": 138,
     "metadata": {},
     "output_type": "execute_result"
    }
   ],
   "source": [
    "aa[:,1,:,:]"
   ]
  },
  {
   "cell_type": "code",
   "execution_count": 168,
   "id": "d53d55ba-ebb9-4acd-92a0-247d36a35800",
   "metadata": {},
   "outputs": [
    {
     "data": {
      "text/plain": [
       "array([[[ 9, 10, 11],\n",
       "        [12, 13, 14],\n",
       "        [15, 16, 17]],\n",
       "\n",
       "       [[36, 37, 38],\n",
       "        [39, 40, 41],\n",
       "        [42, 43, 44]],\n",
       "\n",
       "       [[63, 64, 65],\n",
       "        [66, 67, 68],\n",
       "        [69, 70, 71]]])"
      ]
     },
     "execution_count": 168,
     "metadata": {},
     "output_type": "execute_result"
    }
   ],
   "source": [
    "aa[:,1]"
   ]
  },
  {
   "cell_type": "code",
   "execution_count": 144,
   "id": "3d1aa5b7-ed54-4f01-b854-8dc4f1e57561",
   "metadata": {},
   "outputs": [
    {
     "data": {
      "text/plain": [
       "array([117, 360, 603])"
      ]
     },
     "execution_count": 144,
     "metadata": {},
     "output_type": "execute_result"
    }
   ],
   "source": [
    "aa[:,1,:,:].sum(axis = (1,2))"
   ]
  },
  {
   "cell_type": "code",
   "execution_count": 145,
   "id": "a09b1b9f-d3e2-4b14-8905-f096680cc1ac",
   "metadata": {},
   "outputs": [
    {
     "data": {
      "text/plain": [
       "array([117, 360, 603])"
      ]
     },
     "execution_count": 145,
     "metadata": {},
     "output_type": "execute_result"
    }
   ],
   "source": [
    "np.sum(aa[:,1,:,:], axis=(1,2))"
   ]
  },
  {
   "cell_type": "code",
   "execution_count": null,
   "id": "95c74ee6-8cbb-442e-9cc5-bdbd1ca26f08",
   "metadata": {},
   "outputs": [],
   "source": []
  },
  {
   "cell_type": "code",
   "execution_count": 127,
   "id": "ea10cd8d-65d9-40db-89a8-1741df07d26d",
   "metadata": {},
   "outputs": [
    {
     "data": {
      "text/plain": [
       "array([ True,  True])"
      ]
     },
     "execution_count": 127,
     "metadata": {},
     "output_type": "execute_result"
    }
   ],
   "source": [
    "aa | bb"
   ]
  },
  {
   "cell_type": "code",
   "execution_count": 128,
   "id": "54b37dca-c9da-424a-b932-1de7df833c10",
   "metadata": {},
   "outputs": [
    {
     "ename": "ValueError",
     "evalue": "The truth value of an array with more than one element is ambiguous. Use a.any() or a.all()",
     "output_type": "error",
     "traceback": [
      "\u001b[1;31m---------------------------------------------------------------------------\u001b[0m",
      "\u001b[1;31mValueError\u001b[0m                                Traceback (most recent call last)",
      "\u001b[1;32mC:\\Users\\SOMMER~1\\AppData\\Local\\Temp/ipykernel_16644/3006260098.py\u001b[0m in \u001b[0;36m<module>\u001b[1;34m\u001b[0m\n\u001b[1;32m----> 1\u001b[1;33m \u001b[0maa\u001b[0m \u001b[1;32mor\u001b[0m \u001b[0mbb\u001b[0m\u001b[1;33m\u001b[0m\u001b[1;33m\u001b[0m\u001b[0m\n\u001b[0m",
      "\u001b[1;31mValueError\u001b[0m: The truth value of an array with more than one element is ambiguous. Use a.any() or a.all()"
     ]
    }
   ],
   "source": [
    "aa or bb"
   ]
  },
  {
   "cell_type": "code",
   "execution_count": 148,
   "id": "8f3e3dac-d3bc-4adf-9fd0-9707582b89d1",
   "metadata": {},
   "outputs": [
    {
     "data": {
      "text/plain": [
       "array([[[ True,  True,  True],\n",
       "        [ True,  True,  True],\n",
       "        [ True,  True,  True]],\n",
       "\n",
       "       [[ True,  True,  True],\n",
       "        [ True,  True,  True],\n",
       "        [ True,  True,  True]],\n",
       "\n",
       "       [[ True,  True,  True],\n",
       "        [ True,  True,  True],\n",
       "        [ True,  True,  True]]])"
      ]
     },
     "execution_count": 148,
     "metadata": {},
     "output_type": "execute_result"
    }
   ],
   "source": [
    "aa[:,1,:,:] == aa[:,1,:,:]"
   ]
  },
  {
   "cell_type": "code",
   "execution_count": 151,
   "id": "7d6a9aab-2c5b-4ec0-b968-4b4ee49e1450",
   "metadata": {},
   "outputs": [
    {
     "data": {
      "text/plain": [
       "True"
      ]
     },
     "execution_count": 151,
     "metadata": {},
     "output_type": "execute_result"
    }
   ],
   "source": [
    "(aa[:,1,:,:] == aa[:,1,:,:]).all()"
   ]
  },
  {
   "cell_type": "code",
   "execution_count": 156,
   "id": "63139c58-0a4c-40ef-a93e-6e1548125433",
   "metadata": {},
   "outputs": [
    {
     "data": {
      "text/plain": [
       "array([39, 40, 41])"
      ]
     },
     "execution_count": 156,
     "metadata": {},
     "output_type": "execute_result"
    }
   ],
   "source": [
    "aa[1,1,1,:]"
   ]
  },
  {
   "cell_type": "code",
   "execution_count": 167,
   "id": "8d5f843c-5b3f-4cba-ae84-e8127d061df2",
   "metadata": {},
   "outputs": [
    {
     "data": {
      "text/plain": [
       "array([40, 39, 41])"
      ]
     },
     "execution_count": 167,
     "metadata": {},
     "output_type": "execute_result"
    }
   ],
   "source": [
    "aa[1,1,1,:][ (np.array([4,5,6]) - np.array([6,5,4])) ]\n"
   ]
  },
  {
   "cell_type": "code",
   "execution_count": null,
   "id": "a25bdad0-9174-4534-854e-5a5fbf55325c",
   "metadata": {},
   "outputs": [],
   "source": []
  },
  {
   "cell_type": "code",
   "execution_count": 154,
   "id": "da64770b-261f-4d34-981a-5055824c6d29",
   "metadata": {},
   "outputs": [
    {
     "data": {
      "text/plain": [
       "array([[[[ 0,  1,  2],\n",
       "         [ 3,  4,  5],\n",
       "         [ 6,  7,  8]],\n",
       "\n",
       "        [[ 9, 10, 11],\n",
       "         [12, 13, 14],\n",
       "         [15, 16, 17]],\n",
       "\n",
       "        [[18, 19, 20],\n",
       "         [21, 22, 23],\n",
       "         [24, 25, 26]]],\n",
       "\n",
       "\n",
       "       [[[27, 28, 29],\n",
       "         [30, 31, 32],\n",
       "         [33, 34, 35]],\n",
       "\n",
       "        [[36, 37, 38],\n",
       "         [39, 40, 41],\n",
       "         [42, 43, 44]],\n",
       "\n",
       "        [[45, 46, 47],\n",
       "         [48, 49, 50],\n",
       "         [51, 52, 53]]],\n",
       "\n",
       "\n",
       "       [[[54, 55, 56],\n",
       "         [57, 58, 59],\n",
       "         [60, 61, 62]],\n",
       "\n",
       "        [[63, 64, 65],\n",
       "         [66, 67, 68],\n",
       "         [69, 70, 71]],\n",
       "\n",
       "        [[72, 73, 74],\n",
       "         [75, 76, 77],\n",
       "         [78, 79, 80]]]])"
      ]
     },
     "execution_count": 154,
     "metadata": {},
     "output_type": "execute_result"
    }
   ],
   "source": [
    "np.absolute(aa)"
   ]
  },
  {
   "cell_type": "code",
   "execution_count": null,
   "id": "7bf31151-3f28-4be8-978b-3bff8b8f1fc6",
   "metadata": {},
   "outputs": [],
   "source": []
  },
  {
   "cell_type": "code",
   "execution_count": 6,
   "id": "6b00c086-9590-45fa-9634-958d96b44ff4",
   "metadata": {},
   "outputs": [
    {
     "data": {
      "text/plain": [
       "RcParams({'_internal.classic_mode': False,\n",
       "          'agg.path.chunksize': 0,\n",
       "          'animation.bitrate': -1,\n",
       "          'animation.codec': 'h264',\n",
       "          'animation.convert_args': [],\n",
       "          'animation.convert_path': 'convert',\n",
       "          'animation.embed_limit': 20.0,\n",
       "          'animation.ffmpeg_args': [],\n",
       "          'animation.ffmpeg_path': 'ffmpeg',\n",
       "          'animation.frame_format': 'png',\n",
       "          'animation.html': 'none',\n",
       "          'animation.writer': 'ffmpeg',\n",
       "          'axes.autolimit_mode': 'data',\n",
       "          'axes.axisbelow': 'line',\n",
       "          'axes.edgecolor': 'black',\n",
       "          'axes.facecolor': 'white',\n",
       "          'axes.formatter.limits': [-5, 6],\n",
       "          'axes.formatter.min_exponent': 0,\n",
       "          'axes.formatter.offset_threshold': 4,\n",
       "          'axes.formatter.use_locale': False,\n",
       "          'axes.formatter.use_mathtext': False,\n",
       "          'axes.formatter.useoffset': True,\n",
       "          'axes.grid': False,\n",
       "          'axes.grid.axis': 'both',\n",
       "          'axes.grid.which': 'major',\n",
       "          'axes.labelcolor': 'black',\n",
       "          'axes.labelpad': 4.0,\n",
       "          'axes.labelsize': 'medium',\n",
       "          'axes.labelweight': 'normal',\n",
       "          'axes.linewidth': 0.8,\n",
       "          'axes.prop_cycle': cycler('color', ['#1f77b4', '#ff7f0e', '#2ca02c', '#d62728', '#9467bd', '#8c564b', '#e377c2', '#7f7f7f', '#bcbd22', '#17becf']),\n",
       "          'axes.spines.bottom': True,\n",
       "          'axes.spines.left': True,\n",
       "          'axes.spines.right': True,\n",
       "          'axes.spines.top': True,\n",
       "          'axes.titlecolor': 'auto',\n",
       "          'axes.titlelocation': 'center',\n",
       "          'axes.titlepad': 6.0,\n",
       "          'axes.titlesize': 'large',\n",
       "          'axes.titleweight': 'normal',\n",
       "          'axes.titley': None,\n",
       "          'axes.unicode_minus': True,\n",
       "          'axes.xmargin': 0.05,\n",
       "          'axes.ymargin': 0.05,\n",
       "          'axes.zmargin': 0.05,\n",
       "          'axes3d.grid': True,\n",
       "          'backend': 'module://matplotlib_inline.backend_inline',\n",
       "          'backend_fallback': True,\n",
       "          'boxplot.bootstrap': None,\n",
       "          'boxplot.boxprops.color': 'black',\n",
       "          'boxplot.boxprops.linestyle': '-',\n",
       "          'boxplot.boxprops.linewidth': 1.0,\n",
       "          'boxplot.capprops.color': 'black',\n",
       "          'boxplot.capprops.linestyle': '-',\n",
       "          'boxplot.capprops.linewidth': 1.0,\n",
       "          'boxplot.flierprops.color': 'black',\n",
       "          'boxplot.flierprops.linestyle': 'none',\n",
       "          'boxplot.flierprops.linewidth': 1.0,\n",
       "          'boxplot.flierprops.marker': 'o',\n",
       "          'boxplot.flierprops.markeredgecolor': 'black',\n",
       "          'boxplot.flierprops.markeredgewidth': 1.0,\n",
       "          'boxplot.flierprops.markerfacecolor': 'none',\n",
       "          'boxplot.flierprops.markersize': 6.0,\n",
       "          'boxplot.meanline': False,\n",
       "          'boxplot.meanprops.color': 'C2',\n",
       "          'boxplot.meanprops.linestyle': '--',\n",
       "          'boxplot.meanprops.linewidth': 1.0,\n",
       "          'boxplot.meanprops.marker': '^',\n",
       "          'boxplot.meanprops.markeredgecolor': 'C2',\n",
       "          'boxplot.meanprops.markerfacecolor': 'C2',\n",
       "          'boxplot.meanprops.markersize': 6.0,\n",
       "          'boxplot.medianprops.color': 'C1',\n",
       "          'boxplot.medianprops.linestyle': '-',\n",
       "          'boxplot.medianprops.linewidth': 1.0,\n",
       "          'boxplot.notch': False,\n",
       "          'boxplot.patchartist': False,\n",
       "          'boxplot.showbox': True,\n",
       "          'boxplot.showcaps': True,\n",
       "          'boxplot.showfliers': True,\n",
       "          'boxplot.showmeans': False,\n",
       "          'boxplot.vertical': True,\n",
       "          'boxplot.whiskerprops.color': 'black',\n",
       "          'boxplot.whiskerprops.linestyle': '-',\n",
       "          'boxplot.whiskerprops.linewidth': 1.0,\n",
       "          'boxplot.whiskers': 1.5,\n",
       "          'contour.corner_mask': True,\n",
       "          'contour.linewidth': None,\n",
       "          'contour.negative_linestyle': 'dashed',\n",
       "          'date.autoformatter.day': '%Y-%m-%d',\n",
       "          'date.autoformatter.hour': '%m-%d %H',\n",
       "          'date.autoformatter.microsecond': '%M:%S.%f',\n",
       "          'date.autoformatter.minute': '%d %H:%M',\n",
       "          'date.autoformatter.month': '%Y-%m',\n",
       "          'date.autoformatter.second': '%H:%M:%S',\n",
       "          'date.autoformatter.year': '%Y',\n",
       "          'date.converter': 'auto',\n",
       "          'date.epoch': '1970-01-01T00:00:00',\n",
       "          'date.interval_multiples': True,\n",
       "          'docstring.hardcopy': False,\n",
       "          'errorbar.capsize': 0.0,\n",
       "          'figure.autolayout': False,\n",
       "          'figure.constrained_layout.h_pad': 0.04167,\n",
       "          'figure.constrained_layout.hspace': 0.02,\n",
       "          'figure.constrained_layout.use': False,\n",
       "          'figure.constrained_layout.w_pad': 0.04167,\n",
       "          'figure.constrained_layout.wspace': 0.02,\n",
       "          'figure.dpi': 72.0,\n",
       "          'figure.edgecolor': (1, 1, 1, 0),\n",
       "          'figure.facecolor': (1, 1, 1, 0),\n",
       "          'figure.figsize': [6.0, 4.0],\n",
       "          'figure.frameon': True,\n",
       "          'figure.max_open_warning': 20,\n",
       "          'figure.raise_window': True,\n",
       "          'figure.subplot.bottom': 0.125,\n",
       "          'figure.subplot.hspace': 0.2,\n",
       "          'figure.subplot.left': 0.125,\n",
       "          'figure.subplot.right': 0.9,\n",
       "          'figure.subplot.top': 0.88,\n",
       "          'figure.subplot.wspace': 0.2,\n",
       "          'figure.titlesize': 'large',\n",
       "          'figure.titleweight': 'normal',\n",
       "          'font.cursive': ['Apple Chancery',\n",
       "                           'Textile',\n",
       "                           'Zapf Chancery',\n",
       "                           'Sand',\n",
       "                           'Script MT',\n",
       "                           'Felipa',\n",
       "                           'Comic Neue',\n",
       "                           'Comic Sans MS',\n",
       "                           'cursive'],\n",
       "          'font.family': ['sans-serif'],\n",
       "          'font.fantasy': ['Chicago',\n",
       "                           'Charcoal',\n",
       "                           'Impact',\n",
       "                           'Western',\n",
       "                           'Humor Sans',\n",
       "                           'xkcd',\n",
       "                           'fantasy'],\n",
       "          'font.monospace': ['DejaVu Sans Mono',\n",
       "                             'Bitstream Vera Sans Mono',\n",
       "                             'Computer Modern Typewriter',\n",
       "                             'Andale Mono',\n",
       "                             'Nimbus Mono L',\n",
       "                             'Courier New',\n",
       "                             'Courier',\n",
       "                             'Fixed',\n",
       "                             'Terminal',\n",
       "                             'monospace'],\n",
       "          'font.sans-serif': ['DejaVu Sans',\n",
       "                              'Bitstream Vera Sans',\n",
       "                              'Computer Modern Sans Serif',\n",
       "                              'Lucida Grande',\n",
       "                              'Verdana',\n",
       "                              'Geneva',\n",
       "                              'Lucid',\n",
       "                              'Arial',\n",
       "                              'Helvetica',\n",
       "                              'Avant Garde',\n",
       "                              'sans-serif'],\n",
       "          'font.serif': ['DejaVu Serif',\n",
       "                         'Bitstream Vera Serif',\n",
       "                         'Computer Modern Roman',\n",
       "                         'New Century Schoolbook',\n",
       "                         'Century Schoolbook L',\n",
       "                         'Utopia',\n",
       "                         'ITC Bookman',\n",
       "                         'Bookman',\n",
       "                         'Nimbus Roman No9 L',\n",
       "                         'Times New Roman',\n",
       "                         'Times',\n",
       "                         'Palatino',\n",
       "                         'Charter',\n",
       "                         'serif'],\n",
       "          'font.size': 10.0,\n",
       "          'font.stretch': 'normal',\n",
       "          'font.style': 'normal',\n",
       "          'font.variant': 'normal',\n",
       "          'font.weight': 'normal',\n",
       "          'grid.alpha': 1.0,\n",
       "          'grid.color': '#b0b0b0',\n",
       "          'grid.linestyle': '-',\n",
       "          'grid.linewidth': 0.8,\n",
       "          'hatch.color': 'black',\n",
       "          'hatch.linewidth': 1.0,\n",
       "          'hist.bins': 10,\n",
       "          'image.aspect': 'equal',\n",
       "          'image.cmap': 'viridis',\n",
       "          'image.composite_image': True,\n",
       "          'image.interpolation': 'antialiased',\n",
       "          'image.lut': 256,\n",
       "          'image.origin': 'upper',\n",
       "          'image.resample': True,\n",
       "          'interactive': True,\n",
       "          'keymap.back': ['left', 'c', 'backspace', 'MouseButton.BACK'],\n",
       "          'keymap.copy': ['ctrl+c', 'cmd+c'],\n",
       "          'keymap.forward': ['right', 'v', 'MouseButton.FORWARD'],\n",
       "          'keymap.fullscreen': ['f', 'ctrl+f'],\n",
       "          'keymap.grid': ['g'],\n",
       "          'keymap.grid_minor': ['G'],\n",
       "          'keymap.help': ['f1'],\n",
       "          'keymap.home': ['h', 'r', 'home'],\n",
       "          'keymap.pan': ['p'],\n",
       "          'keymap.quit': ['ctrl+w', 'cmd+w', 'q'],\n",
       "          'keymap.quit_all': [],\n",
       "          'keymap.save': ['s', 'ctrl+s'],\n",
       "          'keymap.xscale': ['k', 'L'],\n",
       "          'keymap.yscale': ['l'],\n",
       "          'keymap.zoom': ['o'],\n",
       "          'legend.borderaxespad': 0.5,\n",
       "          'legend.borderpad': 0.4,\n",
       "          'legend.columnspacing': 2.0,\n",
       "          'legend.edgecolor': '0.8',\n",
       "          'legend.facecolor': 'inherit',\n",
       "          'legend.fancybox': True,\n",
       "          'legend.fontsize': 'medium',\n",
       "          'legend.framealpha': 0.8,\n",
       "          'legend.frameon': True,\n",
       "          'legend.handleheight': 0.7,\n",
       "          'legend.handlelength': 2.0,\n",
       "          'legend.handletextpad': 0.8,\n",
       "          'legend.labelcolor': 'None',\n",
       "          'legend.labelspacing': 0.5,\n",
       "          'legend.loc': 'best',\n",
       "          'legend.markerscale': 1.0,\n",
       "          'legend.numpoints': 1,\n",
       "          'legend.scatterpoints': 1,\n",
       "          'legend.shadow': False,\n",
       "          'legend.title_fontsize': None,\n",
       "          'lines.antialiased': True,\n",
       "          'lines.color': 'C0',\n",
       "          'lines.dash_capstyle': <CapStyle.butt: 'butt'>,\n",
       "          'lines.dash_joinstyle': <JoinStyle.round: 'round'>,\n",
       "          'lines.dashdot_pattern': [6.4, 1.6, 1.0, 1.6],\n",
       "          'lines.dashed_pattern': [3.7, 1.6],\n",
       "          'lines.dotted_pattern': [1.0, 1.65],\n",
       "          'lines.linestyle': '-',\n",
       "          'lines.linewidth': 1.5,\n",
       "          'lines.marker': 'None',\n",
       "          'lines.markeredgecolor': 'auto',\n",
       "          'lines.markeredgewidth': 1.0,\n",
       "          'lines.markerfacecolor': 'auto',\n",
       "          'lines.markersize': 6.0,\n",
       "          'lines.scale_dashes': True,\n",
       "          'lines.solid_capstyle': <CapStyle.projecting: 'projecting'>,\n",
       "          'lines.solid_joinstyle': <JoinStyle.round: 'round'>,\n",
       "          'markers.fillstyle': 'full',\n",
       "          'mathtext.bf': 'sans:bold',\n",
       "          'mathtext.cal': 'cursive',\n",
       "          'mathtext.default': 'it',\n",
       "          'mathtext.fallback': 'cm',\n",
       "          'mathtext.fontset': 'dejavusans',\n",
       "          'mathtext.it': 'sans:italic',\n",
       "          'mathtext.rm': 'sans',\n",
       "          'mathtext.sf': 'sans',\n",
       "          'mathtext.tt': 'monospace',\n",
       "          'patch.antialiased': True,\n",
       "          'patch.edgecolor': 'black',\n",
       "          'patch.facecolor': 'C0',\n",
       "          'patch.force_edgecolor': False,\n",
       "          'patch.linewidth': 1.0,\n",
       "          'path.effects': [],\n",
       "          'path.simplify': True,\n",
       "          'path.simplify_threshold': 0.111111111111,\n",
       "          'path.sketch': None,\n",
       "          'path.snap': True,\n",
       "          'pcolor.shading': 'auto',\n",
       "          'pcolormesh.snap': True,\n",
       "          'pdf.compression': 6,\n",
       "          'pdf.fonttype': 3,\n",
       "          'pdf.inheritcolor': False,\n",
       "          'pdf.use14corefonts': False,\n",
       "          'pgf.preamble': '',\n",
       "          'pgf.rcfonts': True,\n",
       "          'pgf.texsystem': 'xelatex',\n",
       "          'polaraxes.grid': True,\n",
       "          'ps.distiller.res': 6000,\n",
       "          'ps.fonttype': 3,\n",
       "          'ps.papersize': 'letter',\n",
       "          'ps.useafm': False,\n",
       "          'ps.usedistiller': None,\n",
       "          'savefig.bbox': None,\n",
       "          'savefig.directory': '~',\n",
       "          'savefig.dpi': 'figure',\n",
       "          'savefig.edgecolor': 'auto',\n",
       "          'savefig.facecolor': 'auto',\n",
       "          'savefig.format': 'png',\n",
       "          'savefig.orientation': 'portrait',\n",
       "          'savefig.pad_inches': 0.1,\n",
       "          'savefig.transparent': False,\n",
       "          'scatter.edgecolors': 'face',\n",
       "          'scatter.marker': 'o',\n",
       "          'svg.fonttype': 'path',\n",
       "          'svg.hashsalt': None,\n",
       "          'svg.image_inline': True,\n",
       "          'text.antialiased': True,\n",
       "          'text.color': 'black',\n",
       "          'text.hinting': 'force_autohint',\n",
       "          'text.hinting_factor': 8,\n",
       "          'text.kerning_factor': 0,\n",
       "          'text.latex.preamble': '',\n",
       "          'text.usetex': False,\n",
       "          'timezone': 'UTC',\n",
       "          'tk.window_focus': False,\n",
       "          'toolbar': 'toolbar2',\n",
       "          'webagg.address': '127.0.0.1',\n",
       "          'webagg.open_in_browser': True,\n",
       "          'webagg.port': 8988,\n",
       "          'webagg.port_retries': 50,\n",
       "          'xaxis.labellocation': 'center',\n",
       "          'xtick.alignment': 'center',\n",
       "          'xtick.bottom': True,\n",
       "          'xtick.color': 'black',\n",
       "          'xtick.direction': 'out',\n",
       "          'xtick.labelbottom': True,\n",
       "          'xtick.labelcolor': 'inherit',\n",
       "          'xtick.labelsize': 'medium',\n",
       "          'xtick.labeltop': False,\n",
       "          'xtick.major.bottom': True,\n",
       "          'xtick.major.pad': 3.5,\n",
       "          'xtick.major.size': 3.5,\n",
       "          'xtick.major.top': True,\n",
       "          'xtick.major.width': 0.8,\n",
       "          'xtick.minor.bottom': True,\n",
       "          'xtick.minor.pad': 3.4,\n",
       "          'xtick.minor.size': 2.0,\n",
       "          'xtick.minor.top': True,\n",
       "          'xtick.minor.visible': False,\n",
       "          'xtick.minor.width': 0.6,\n",
       "          'xtick.top': False,\n",
       "          'yaxis.labellocation': 'center',\n",
       "          'ytick.alignment': 'center_baseline',\n",
       "          'ytick.color': 'black',\n",
       "          'ytick.direction': 'out',\n",
       "          'ytick.labelcolor': 'inherit',\n",
       "          'ytick.labelleft': True,\n",
       "          'ytick.labelright': False,\n",
       "          'ytick.labelsize': 'medium',\n",
       "          'ytick.left': True,\n",
       "          'ytick.major.left': True,\n",
       "          'ytick.major.pad': 3.5,\n",
       "          'ytick.major.right': True,\n",
       "          'ytick.major.size': 3.5,\n",
       "          'ytick.major.width': 0.8,\n",
       "          'ytick.minor.left': True,\n",
       "          'ytick.minor.pad': 3.4,\n",
       "          'ytick.minor.right': True,\n",
       "          'ytick.minor.size': 2.0,\n",
       "          'ytick.minor.visible': False,\n",
       "          'ytick.minor.width': 0.6,\n",
       "          'ytick.right': False})"
      ]
     },
     "execution_count": 6,
     "metadata": {},
     "output_type": "execute_result"
    }
   ],
   "source": [
    "plt.rcParams"
   ]
  },
  {
   "cell_type": "markdown",
   "id": "7192f84f-d609-40eb-87fc-10527662479b",
   "metadata": {
    "jp-MarkdownHeadingCollapsed": true,
    "tags": []
   },
   "source": [
    "### Creat Catalogue"
   ]
  },
  {
   "cell_type": "code",
   "execution_count": 106,
   "id": "fc51bfbd-5779-43de-accd-80a3cc9eca96",
   "metadata": {},
   "outputs": [
    {
     "data": {
      "text/plain": [
       "['D:\\\\Dropbox (Lehigh University)\\\\Sommer Lab Shared\\\\Data\\\\2024\\\\05-2024\\\\06 May 2024\\\\Andor\\\\Potential Modulation',\n",
       " 'D:\\\\Dropbox (Lehigh University)\\\\Sommer Lab Shared\\\\Data\\\\2024\\\\05-2024\\\\06 May 2024\\\\Andor\\\\Potential Modulation_1',\n",
       " 'D:\\\\Dropbox (Lehigh University)\\\\Sommer Lab Shared\\\\Data\\\\2024\\\\05-2024\\\\06 May 2024\\\\Andor\\\\Test',\n",
       " 'D:\\\\Dropbox (Lehigh University)\\\\Sommer Lab Shared\\\\Data\\\\2024\\\\05-2024\\\\07 May 2024\\\\Andor\\\\ODT 1900 Align',\n",
       " 'D:\\\\Dropbox (Lehigh University)\\\\Sommer Lab Shared\\\\Data\\\\2024\\\\05-2024\\\\07 May 2024\\\\Andor\\\\ODT 1900 Misalign',\n",
       " 'D:\\\\Dropbox (Lehigh University)\\\\Sommer Lab Shared\\\\Data\\\\2024\\\\05-2024\\\\07 May 2024\\\\Andor\\\\Potential Modulation',\n",
       " 'D:\\\\Dropbox (Lehigh University)\\\\Sommer Lab Shared\\\\Data\\\\2024\\\\05-2024\\\\07 May 2024\\\\Andor\\\\Potential Modulation ODT 1150',\n",
       " 'D:\\\\Dropbox (Lehigh University)\\\\Sommer Lab Shared\\\\Data\\\\2024\\\\05-2024\\\\07 May 2024\\\\Andor\\\\Potential Modulation ODT 400',\n",
       " 'D:\\\\Dropbox (Lehigh University)\\\\Sommer Lab Shared\\\\Data\\\\2024\\\\05-2024\\\\07 May 2024\\\\Andor\\\\Potential Modulation ODT 400 Low Frequency',\n",
       " 'D:\\\\Dropbox (Lehigh University)\\\\Sommer Lab Shared\\\\Data\\\\2024\\\\05-2024\\\\07 May 2024\\\\Andor\\\\Potential Modulation ODT 400 Low Frequency 1000 ms',\n",
       " 'D:\\\\Dropbox (Lehigh University)\\\\Sommer Lab Shared\\\\Data\\\\2024\\\\05-2024\\\\07 May 2024\\\\Andor\\\\Potential Modulation ODT 400 Low Frequency 200 ms',\n",
       " 'D:\\\\Dropbox (Lehigh University)\\\\Sommer Lab Shared\\\\Data\\\\2024\\\\05-2024\\\\07 May 2024\\\\Andor\\\\Potential Modulation ODT 400 Low Frequency 300 ms',\n",
       " 'D:\\\\Dropbox (Lehigh University)\\\\Sommer Lab Shared\\\\Data\\\\2024\\\\05-2024\\\\07 May 2024\\\\Andor\\\\Potential Modulation ODT 400 Low Frequency 500 ms',\n",
       " 'D:\\\\Dropbox (Lehigh University)\\\\Sommer Lab Shared\\\\Data\\\\2024\\\\05-2024\\\\07 May 2024\\\\Andor\\\\Potential Modulation_1',\n",
       " 'D:\\\\Dropbox (Lehigh University)\\\\Sommer Lab Shared\\\\Data\\\\2024\\\\05-2024\\\\07 May 2024\\\\Andor\\\\Potential Modulation_2',\n",
       " 'D:\\\\Dropbox (Lehigh University)\\\\Sommer Lab Shared\\\\Data\\\\2024\\\\05-2024\\\\07 May 2024\\\\Andor\\\\Potential Modulation_3',\n",
       " 'D:\\\\Dropbox (Lehigh University)\\\\Sommer Lab Shared\\\\Data\\\\2024\\\\05-2024\\\\07 May 2024\\\\Andor\\\\Potential Modulation_4',\n",
       " 'D:\\\\Dropbox (Lehigh University)\\\\Sommer Lab Shared\\\\Data\\\\2024\\\\05-2024\\\\07 May 2024\\\\Andor\\\\Potential Modulation_5',\n",
       " 'D:\\\\Dropbox (Lehigh University)\\\\Sommer Lab Shared\\\\Data\\\\2024\\\\05-2024\\\\07 May 2024\\\\Andor\\\\Test',\n",
       " 'D:\\\\Dropbox (Lehigh University)\\\\Sommer Lab Shared\\\\Data\\\\2024\\\\05-2024\\\\07 May 2024\\\\Andor\\\\Test_1',\n",
       " 'D:\\\\Dropbox (Lehigh University)\\\\Sommer Lab Shared\\\\Data\\\\2024\\\\05-2024\\\\08 May 2024\\\\Andor\\\\Potential Modulation ODT 400 5-15 kHz 100 ms 0.3 V',\n",
       " 'D:\\\\Dropbox (Lehigh University)\\\\Sommer Lab Shared\\\\Data\\\\2024\\\\05-2024\\\\08 May 2024\\\\Andor\\\\Potential Modulation ODT 400 5-15 kHz 100 ms 0.3 V_1',\n",
       " 'D:\\\\Dropbox (Lehigh University)\\\\Sommer Lab Shared\\\\Data\\\\2024\\\\05-2024\\\\08 May 2024\\\\Andor\\\\Potential Modulation ODT 400 5-15 kHz 100 ms 0.5 V',\n",
       " 'D:\\\\Dropbox (Lehigh University)\\\\Sommer Lab Shared\\\\Data\\\\2024\\\\05-2024\\\\08 May 2024\\\\Andor\\\\Potential Modulation ODT 400 5-15 kHz 1000 ms_3',\n",
       " 'D:\\\\Dropbox (Lehigh University)\\\\Sommer Lab Shared\\\\Data\\\\2024\\\\05-2024\\\\08 May 2024\\\\Andor\\\\Potential Modulation ODT 400 5-15 kHz 200 ms',\n",
       " 'D:\\\\Dropbox (Lehigh University)\\\\Sommer Lab Shared\\\\Data\\\\2024\\\\05-2024\\\\08 May 2024\\\\Andor\\\\Potential Modulation ODT 400 5-15 kHz 200 ms 0.3 V',\n",
       " 'D:\\\\Dropbox (Lehigh University)\\\\Sommer Lab Shared\\\\Data\\\\2024\\\\05-2024\\\\08 May 2024\\\\Andor\\\\Potential Modulation ODT 400 5-15 kHz 50 ms 0.3 V',\n",
       " 'D:\\\\Dropbox (Lehigh University)\\\\Sommer Lab Shared\\\\Data\\\\2024\\\\05-2024\\\\08 May 2024\\\\Andor\\\\Potential Modulation ODT 400 5-15 kHz 500 ms',\n",
       " 'D:\\\\Dropbox (Lehigh University)\\\\Sommer Lab Shared\\\\Data\\\\2024\\\\05-2024\\\\08 May 2024\\\\Andor\\\\Test',\n",
       " 'D:\\\\Dropbox (Lehigh University)\\\\Sommer Lab Shared\\\\Data\\\\2024\\\\05-2024\\\\08 May 2024\\\\Andor\\\\Test_1',\n",
       " 'D:\\\\Dropbox (Lehigh University)\\\\Sommer Lab Shared\\\\Data\\\\2024\\\\05-2024\\\\14 May 2024\\\\Andor\\\\ODT 400 Modulation 100 ms 0.3 V',\n",
       " 'D:\\\\Dropbox (Lehigh University)\\\\Sommer Lab Shared\\\\Data\\\\2024\\\\05-2024\\\\14 May 2024\\\\Andor\\\\ODT 400 Modulation 100 ms 0.3 V_1',\n",
       " 'D:\\\\Dropbox (Lehigh University)\\\\Sommer Lab Shared\\\\Data\\\\2024\\\\05-2024\\\\14 May 2024\\\\Andor\\\\ODT 400 Modulation 100 ms 0.3 V_2',\n",
       " 'D:\\\\Dropbox (Lehigh University)\\\\Sommer Lab Shared\\\\Data\\\\2024\\\\05-2024\\\\14 May 2024\\\\Andor\\\\ODT 400 Modulation 100 ms 0.3 V_3',\n",
       " 'D:\\\\Dropbox (Lehigh University)\\\\Sommer Lab Shared\\\\Data\\\\2024\\\\05-2024\\\\14 May 2024\\\\Andor\\\\ODT 400 Modulation 200 ms 0.3 V',\n",
       " 'D:\\\\Dropbox (Lehigh University)\\\\Sommer Lab Shared\\\\Data\\\\2024\\\\05-2024\\\\14 May 2024\\\\Andor\\\\ODT 400 Modulation 200 ms Offset 8.5 V',\n",
       " 'D:\\\\Dropbox (Lehigh University)\\\\Sommer Lab Shared\\\\Data\\\\2024\\\\05-2024\\\\14 May 2024\\\\Andor\\\\Test',\n",
       " 'D:\\\\Dropbox (Lehigh University)\\\\Sommer Lab Shared\\\\Data\\\\2024\\\\05-2024\\\\14 May 2024\\\\Andor\\\\Test_1',\n",
       " 'D:\\\\Dropbox (Lehigh University)\\\\Sommer Lab Shared\\\\Data\\\\2024\\\\05-2024\\\\15 May 2024\\\\Andor\\\\ODT 1150 Modulation 0.1 V 10-50 kHz Variable tmod',\n",
       " 'D:\\\\Dropbox (Lehigh University)\\\\Sommer Lab Shared\\\\Data\\\\2024\\\\05-2024\\\\15 May 2024\\\\Andor\\\\ODT 1150 Modulation 0.3 V 4-16 kHz Variable tmod',\n",
       " 'D:\\\\Dropbox (Lehigh University)\\\\Sommer Lab Shared\\\\Data\\\\2024\\\\05-2024\\\\15 May 2024\\\\Andor\\\\ODT 1900 Modulation 0.1 V 10-50 kHz Variable tmod',\n",
       " 'D:\\\\Dropbox (Lehigh University)\\\\Sommer Lab Shared\\\\Data\\\\2024\\\\05-2024\\\\15 May 2024\\\\Andor\\\\ODT 1900 Modulation 0.3 V 0.5-16 kHz Variable tmod',\n",
       " 'D:\\\\Dropbox (Lehigh University)\\\\Sommer Lab Shared\\\\Data\\\\2024\\\\05-2024\\\\15 May 2024\\\\Andor\\\\ODT 2650 Modulation 0.1 V 10-50 kHz Variable tmod',\n",
       " 'D:\\\\Dropbox (Lehigh University)\\\\Sommer Lab Shared\\\\Data\\\\2024\\\\05-2024\\\\15 May 2024\\\\Andor\\\\ODT 2650 Modulation 0.3 V 0.5-18 kHz Variable tmod',\n",
       " 'D:\\\\Dropbox (Lehigh University)\\\\Sommer Lab Shared\\\\Data\\\\2024\\\\05-2024\\\\15 May 2024\\\\Andor\\\\ODT 3400 Modulation 0.1 V 10-50 kHz Variable tmod',\n",
       " 'D:\\\\Dropbox (Lehigh University)\\\\Sommer Lab Shared\\\\Data\\\\2024\\\\05-2024\\\\15 May 2024\\\\Andor\\\\ODT 3400 Modulation 0.1 V 10-50 kHz Variable tmod_1',\n",
       " 'D:\\\\Dropbox (Lehigh University)\\\\Sommer Lab Shared\\\\Data\\\\2024\\\\05-2024\\\\15 May 2024\\\\Andor\\\\ODT 3400 Modulation 0.3 V 0.5-18 kHz Variable tmod',\n",
       " 'D:\\\\Dropbox (Lehigh University)\\\\Sommer Lab Shared\\\\Data\\\\2024\\\\05-2024\\\\15 May 2024\\\\Andor\\\\ODT 400 Modulation 0.1 V 10-50 kHz Variable tmod',\n",
       " 'D:\\\\Dropbox (Lehigh University)\\\\Sommer Lab Shared\\\\Data\\\\2024\\\\05-2024\\\\15 May 2024\\\\Andor\\\\ODT 400 Modulation 0.1 V 15-32 kHz Variable tmod',\n",
       " 'D:\\\\Dropbox (Lehigh University)\\\\Sommer Lab Shared\\\\Data\\\\2024\\\\05-2024\\\\15 May 2024\\\\Andor\\\\ODT 400 Modulation 0.1 V 22-28 kHz Variable tmod',\n",
       " 'D:\\\\Dropbox (Lehigh University)\\\\Sommer Lab Shared\\\\Data\\\\2024\\\\05-2024\\\\15 May 2024\\\\Andor\\\\ODT 400 Modulation 0.1 V 9-31 kHz Variable tmod',\n",
       " 'D:\\\\Dropbox (Lehigh University)\\\\Sommer Lab Shared\\\\Data\\\\2024\\\\05-2024\\\\15 May 2024\\\\Andor\\\\ODT 400 Modulation 0.3 V 10-15 kHz Variable tmod',\n",
       " 'D:\\\\Dropbox (Lehigh University)\\\\Sommer Lab Shared\\\\Data\\\\2024\\\\05-2024\\\\15 May 2024\\\\Andor\\\\ODT 400 Modulation 0.3 V 10-15 kHz Variable tmod_1',\n",
       " 'D:\\\\Dropbox (Lehigh University)\\\\Sommer Lab Shared\\\\Data\\\\2024\\\\05-2024\\\\15 May 2024\\\\Andor\\\\ODT 400 Modulation 0.4 V 10-15 kHz Variable tmod',\n",
       " 'D:\\\\Dropbox (Lehigh University)\\\\Sommer Lab Shared\\\\Data\\\\2024\\\\05-2024\\\\15 May 2024\\\\Andor\\\\ODT 400 Modulation 0.4 V 22-28 kHz Variable tmod',\n",
       " 'D:\\\\Dropbox (Lehigh University)\\\\Sommer Lab Shared\\\\Data\\\\2024\\\\05-2024\\\\15 May 2024\\\\Andor\\\\ODT 400 Modulation 0.4 V 22-28 kHz Variable tmod_1',\n",
       " 'D:\\\\Dropbox (Lehigh University)\\\\Sommer Lab Shared\\\\Data\\\\2024\\\\05-2024\\\\15 May 2024\\\\Andor\\\\ODT 400 Modulation 0.5 V 10-15 kHz Variable tmod',\n",
       " 'D:\\\\Dropbox (Lehigh University)\\\\Sommer Lab Shared\\\\Data\\\\2024\\\\05-2024\\\\15 May 2024\\\\Andor\\\\ODT 400 Modulation 0.5 V 10-15 kHz Variable tmod_1',\n",
       " 'D:\\\\Dropbox (Lehigh University)\\\\Sommer Lab Shared\\\\Data\\\\2024\\\\05-2024\\\\15 May 2024\\\\Andor\\\\ODT 400 Modulation 300 ms 0.5 V 3-10 kHz',\n",
       " 'D:\\\\Dropbox (Lehigh University)\\\\Sommer Lab Shared\\\\Data\\\\2024\\\\05-2024\\\\15 May 2024\\\\Andor\\\\ODT 400 Modulation 300 ms 0.5 V 3-10 kHz_1',\n",
       " 'D:\\\\Dropbox (Lehigh University)\\\\Sommer Lab Shared\\\\Data\\\\2024\\\\05-2024\\\\15 May 2024\\\\Andor\\\\ODT 400 Modulation 300 ms 0.5 V 3-10 kHz_2',\n",
       " 'D:\\\\Dropbox (Lehigh University)\\\\Sommer Lab Shared\\\\Data\\\\2024\\\\05-2024\\\\15 May 2024\\\\Andor\\\\Test',\n",
       " 'D:\\\\Dropbox (Lehigh University)\\\\Sommer Lab Shared\\\\Data\\\\2024\\\\05-2024\\\\15 May 2024\\\\Andor\\\\Test_1',\n",
       " 'D:\\\\Dropbox (Lehigh University)\\\\Sommer Lab Shared\\\\Data\\\\2024\\\\05-2024\\\\15 May 2024\\\\Andor\\\\Test_2',\n",
       " 'D:\\\\Dropbox (Lehigh University)\\\\Sommer Lab Shared\\\\Data\\\\2024\\\\05-2024\\\\16 May 2024\\\\Andor\\\\D1 4150 Atom Number',\n",
       " 'D:\\\\Dropbox (Lehigh University)\\\\Sommer Lab Shared\\\\Data\\\\2024\\\\05-2024\\\\16 May 2024\\\\Andor\\\\D1 4900 Atom Number',\n",
       " 'D:\\\\Dropbox (Lehigh University)\\\\Sommer Lab Shared\\\\Data\\\\2024\\\\05-2024\\\\16 May 2024\\\\Andor\\\\ODT 4150 Atom Number',\n",
       " 'D:\\\\Dropbox (Lehigh University)\\\\Sommer Lab Shared\\\\Data\\\\2024\\\\05-2024\\\\16 May 2024\\\\Andor\\\\ODT 4150 Bias Scan',\n",
       " 'D:\\\\Dropbox (Lehigh University)\\\\Sommer Lab Shared\\\\Data\\\\2024\\\\05-2024\\\\16 May 2024\\\\Andor\\\\ODT 4150 Bias Scan_1',\n",
       " 'D:\\\\Dropbox (Lehigh University)\\\\Sommer Lab Shared\\\\Data\\\\2024\\\\05-2024\\\\16 May 2024\\\\Andor\\\\ODT 4150 Bias Scan_2',\n",
       " 'D:\\\\Dropbox (Lehigh University)\\\\Sommer Lab Shared\\\\Data\\\\2024\\\\05-2024\\\\16 May 2024\\\\Andor\\\\ODT 4150 Bias Scan_3',\n",
       " 'D:\\\\Dropbox (Lehigh University)\\\\Sommer Lab Shared\\\\Data\\\\2024\\\\05-2024\\\\16 May 2024\\\\Andor\\\\ODT 4150 Modulation 0.1 V 10-50 kHz Variable tmod',\n",
       " 'D:\\\\Dropbox (Lehigh University)\\\\Sommer Lab Shared\\\\Data\\\\2024\\\\05-2024\\\\16 May 2024\\\\Andor\\\\ODT 4150 Modulation 0.1 V 20-50 kHz Variable tmod',\n",
       " 'D:\\\\Dropbox (Lehigh University)\\\\Sommer Lab Shared\\\\Data\\\\2024\\\\05-2024\\\\16 May 2024\\\\Andor\\\\ODT 4150 Modulation 0.3 V 0.5-18 kHz Variable tmod',\n",
       " 'D:\\\\Dropbox (Lehigh University)\\\\Sommer Lab Shared\\\\Data\\\\2024\\\\05-2024\\\\16 May 2024\\\\Andor\\\\ODT 4900 Atom Number',\n",
       " 'D:\\\\Dropbox (Lehigh University)\\\\Sommer Lab Shared\\\\Data\\\\2024\\\\05-2024\\\\16 May 2024\\\\Andor\\\\ODT 4900 Bias Scan',\n",
       " 'D:\\\\Dropbox (Lehigh University)\\\\Sommer Lab Shared\\\\Data\\\\2024\\\\05-2024\\\\16 May 2024\\\\Andor\\\\Test',\n",
       " 'D:\\\\Dropbox (Lehigh University)\\\\Sommer Lab Shared\\\\Data\\\\2024\\\\05-2024\\\\16 May 2024\\\\Andor\\\\Test D1 4900',\n",
       " 'D:\\\\Dropbox (Lehigh University)\\\\Sommer Lab Shared\\\\Data\\\\2024\\\\05-2024\\\\16 May 2024\\\\Andor\\\\Test ODT 4900',\n",
       " 'D:\\\\Dropbox (Lehigh University)\\\\Sommer Lab Shared\\\\Data\\\\2024\\\\05-2024\\\\16 May 2024\\\\Andor\\\\Test ODT 4900_1',\n",
       " 'D:\\\\Dropbox (Lehigh University)\\\\Sommer Lab Shared\\\\Data\\\\2024\\\\05-2024\\\\16 May 2024\\\\Andor\\\\Test_1',\n",
       " 'D:\\\\Dropbox (Lehigh University)\\\\Sommer Lab Shared\\\\Data\\\\2024\\\\05-2024\\\\17 May 2024\\\\Andor\\\\ODT 4900 Modulation 0.1 V 10-50 kHz Variable tmod TOF 0.025',\n",
       " 'D:\\\\Dropbox (Lehigh University)\\\\Sommer Lab Shared\\\\Data\\\\2024\\\\05-2024\\\\17 May 2024\\\\Andor\\\\ODT 4900 Modulation 0.1 V 20-50 kHz Variable tmod',\n",
       " 'D:\\\\Dropbox (Lehigh University)\\\\Sommer Lab Shared\\\\Data\\\\2024\\\\05-2024\\\\17 May 2024\\\\Andor\\\\ODT 4900 Modulation 0.3 V 0.5-18 kHz Variable tmod',\n",
       " 'D:\\\\Dropbox (Lehigh University)\\\\Sommer Lab Shared\\\\Data\\\\2024\\\\05-2024\\\\17 May 2024\\\\Andor\\\\ODT 4900 Modulation Test',\n",
       " 'D:\\\\Dropbox (Lehigh University)\\\\Sommer Lab Shared\\\\Data\\\\2024\\\\05-2024\\\\17 May 2024\\\\Andor\\\\ODT 4900 Modulation Test_1',\n",
       " 'D:\\\\Dropbox (Lehigh University)\\\\Sommer Lab Shared\\\\Data\\\\2024\\\\05-2024\\\\17 May 2024\\\\Andor\\\\ODT 4900 Modulation Test_2',\n",
       " 'D:\\\\Dropbox (Lehigh University)\\\\Sommer Lab Shared\\\\Data\\\\2024\\\\05-2024\\\\17 May 2024\\\\Andor\\\\ODT 4900 Modulation Test_3',\n",
       " 'D:\\\\Dropbox (Lehigh University)\\\\Sommer Lab Shared\\\\Data\\\\2024\\\\05-2024\\\\17 May 2024\\\\Andor\\\\ODT 4900 Modulation Test_4',\n",
       " 'D:\\\\Dropbox (Lehigh University)\\\\Sommer Lab Shared\\\\Data\\\\2024\\\\05-2024\\\\17 May 2024\\\\Andor\\\\ODT 4900 Width vs TOF',\n",
       " 'D:\\\\Dropbox (Lehigh University)\\\\Sommer Lab Shared\\\\Data\\\\2024\\\\05-2024\\\\17 May 2024\\\\Andor\\\\Test',\n",
       " 'D:\\\\Dropbox (Lehigh University)\\\\Sommer Lab Shared\\\\Data\\\\2024\\\\05-2024\\\\20 May 2024\\\\Andor\\\\ODT 1150 Modulation 0.1 V 10-50 kHz Variable tmod',\n",
       " 'D:\\\\Dropbox (Lehigh University)\\\\Sommer Lab Shared\\\\Data\\\\2024\\\\05-2024\\\\20 May 2024\\\\Andor\\\\ODT 1900 Modulation 0.1 V 10-50 kHz Variable tmod',\n",
       " 'D:\\\\Dropbox (Lehigh University)\\\\Sommer Lab Shared\\\\Data\\\\2024\\\\05-2024\\\\20 May 2024\\\\Andor\\\\ODT 2650 Modulation 0.1 V 10-50 kHz Variable tmod',\n",
       " 'D:\\\\Dropbox (Lehigh University)\\\\Sommer Lab Shared\\\\Data\\\\2024\\\\05-2024\\\\20 May 2024\\\\Andor\\\\ODT 3400 Modulation 0.1 V 10-50 kHz Variable tmod',\n",
       " 'D:\\\\Dropbox (Lehigh University)\\\\Sommer Lab Shared\\\\Data\\\\2024\\\\05-2024\\\\20 May 2024\\\\Andor\\\\ODT 400 Modulation 0.1 V 10-50 kHz Variable tmod',\n",
       " 'D:\\\\Dropbox (Lehigh University)\\\\Sommer Lab Shared\\\\Data\\\\2024\\\\05-2024\\\\20 May 2024\\\\Andor\\\\ODT 4150 Modulation 0.1 V 10-50 kHz Variable tmod',\n",
       " 'D:\\\\Dropbox (Lehigh University)\\\\Sommer Lab Shared\\\\Data\\\\2024\\\\05-2024\\\\20 May 2024\\\\Andor\\\\ODT 4150 Modulation 0.1 V 10-50 kHz Variable tmod_1',\n",
       " 'D:\\\\Dropbox (Lehigh University)\\\\Sommer Lab Shared\\\\Data\\\\2024\\\\05-2024\\\\20 May 2024\\\\Andor\\\\Test',\n",
       " 'D:\\\\Dropbox (Lehigh University)\\\\Sommer Lab Shared\\\\Data\\\\2024\\\\05-2024\\\\20 May 2024\\\\Andor\\\\Test_1',\n",
       " 'D:\\\\Dropbox (Lehigh University)\\\\Sommer Lab Shared\\\\Data\\\\2024\\\\05-2024\\\\20 May 2024\\\\Andor\\\\Test_2',\n",
       " 'D:\\\\Dropbox (Lehigh University)\\\\Sommer Lab Shared\\\\Data\\\\2024\\\\05-2024\\\\20 May 2024\\\\Andor\\\\Test_3',\n",
       " 'D:\\\\Dropbox (Lehigh University)\\\\Sommer Lab Shared\\\\Data\\\\2024\\\\05-2024\\\\21 May 2024\\\\Andor\\\\Misaligned ODT vs wait',\n",
       " 'D:\\\\Dropbox (Lehigh University)\\\\Sommer Lab Shared\\\\Data\\\\2024\\\\05-2024\\\\21 May 2024\\\\Andor\\\\Misaligned ODT vs wait 3 PPI',\n",
       " 'D:\\\\Dropbox (Lehigh University)\\\\Sommer Lab Shared\\\\Data\\\\2024\\\\05-2024\\\\21 May 2024\\\\Andor\\\\ODT 1900 Align',\n",
       " 'D:\\\\Dropbox (Lehigh University)\\\\Sommer Lab Shared\\\\Data\\\\2024\\\\05-2024\\\\21 May 2024\\\\Andor\\\\ODT 1900 Misalign',\n",
       " 'D:\\\\Dropbox (Lehigh University)\\\\Sommer Lab Shared\\\\Data\\\\2024\\\\05-2024\\\\21 May 2024\\\\Andor\\\\Test',\n",
       " 'D:\\\\Dropbox (Lehigh University)\\\\Sommer Lab Shared\\\\Data\\\\2024\\\\05-2024\\\\21 May 2024\\\\Andor\\\\Test for Align',\n",
       " 'D:\\\\Dropbox (Lehigh University)\\\\Sommer Lab Shared\\\\Data\\\\2024\\\\05-2024\\\\21 May 2024\\\\Andor\\\\Test_1',\n",
       " 'D:\\\\Dropbox (Lehigh University)\\\\Sommer Lab Shared\\\\Data\\\\2024\\\\05-2024\\\\21 May 2024\\\\Andor\\\\Test_2',\n",
       " 'D:\\\\Dropbox (Lehigh University)\\\\Sommer Lab Shared\\\\Data\\\\2024\\\\05-2024\\\\21 May 2024\\\\Andor\\\\Test_3',\n",
       " 'D:\\\\Dropbox (Lehigh University)\\\\Sommer Lab Shared\\\\Data\\\\2024\\\\05-2024\\\\21 May 2024\\\\Andor\\\\Test_4',\n",
       " 'D:\\\\Dropbox (Lehigh University)\\\\Sommer Lab Shared\\\\Data\\\\2024\\\\05-2024\\\\22 May 2024\\\\Andor\\\\ODT 1900 Align',\n",
       " 'D:\\\\Dropbox (Lehigh University)\\\\Sommer Lab Shared\\\\Data\\\\2024\\\\05-2024\\\\22 May 2024\\\\Andor\\\\Test 3 PPI',\n",
       " 'D:\\\\Dropbox (Lehigh University)\\\\Sommer Lab Shared\\\\Data\\\\2024\\\\05-2024\\\\22 May 2024\\\\Andor\\\\Test 3 PPI_1',\n",
       " 'D:\\\\Dropbox (Lehigh University)\\\\Sommer Lab Shared\\\\Data\\\\2024\\\\05-2024\\\\22 May 2024\\\\Andor\\\\Test 3 PPI_3',\n",
       " 'D:\\\\Dropbox (Lehigh University)\\\\Sommer Lab Shared\\\\Data\\\\2024\\\\05-2024\\\\22 May 2024\\\\Andor\\\\Test_2',\n",
       " 'D:\\\\Dropbox (Lehigh University)\\\\Sommer Lab Shared\\\\Data\\\\2024\\\\05-2024\\\\23 May 2024\\\\Andor\\\\Misaligned ODT vs wait',\n",
       " 'D:\\\\Dropbox (Lehigh University)\\\\Sommer Lab Shared\\\\Data\\\\2024\\\\05-2024\\\\23 May 2024\\\\Andor\\\\Move Lenses',\n",
       " 'D:\\\\Dropbox (Lehigh University)\\\\Sommer Lab Shared\\\\Data\\\\2024\\\\05-2024\\\\23 May 2024\\\\Andor\\\\ODT 1900 Align',\n",
       " 'D:\\\\Dropbox (Lehigh University)\\\\Sommer Lab Shared\\\\Data\\\\2024\\\\05-2024\\\\23 May 2024\\\\Andor\\\\ODT 1900 Misalign',\n",
       " 'D:\\\\Dropbox (Lehigh University)\\\\Sommer Lab Shared\\\\Data\\\\2024\\\\05-2024\\\\23 May 2024\\\\Andor\\\\Test',\n",
       " 'D:\\\\Dropbox (Lehigh University)\\\\Sommer Lab Shared\\\\Data\\\\2024\\\\05-2024\\\\23 May 2024\\\\Andor\\\\Test_1',\n",
       " 'D:\\\\Dropbox (Lehigh University)\\\\Sommer Lab Shared\\\\Data\\\\2024\\\\05-2024\\\\24 May 2024\\\\Andor\\\\ODT 400 Align',\n",
       " 'D:\\\\Dropbox (Lehigh University)\\\\Sommer Lab Shared\\\\Data\\\\2024\\\\05-2024\\\\24 May 2024\\\\Andor\\\\ODT 400 Misalign',\n",
       " 'D:\\\\Dropbox (Lehigh University)\\\\Sommer Lab Shared\\\\Data\\\\2024\\\\05-2024\\\\24 May 2024\\\\Andor\\\\Test',\n",
       " 'D:\\\\Dropbox (Lehigh University)\\\\Sommer Lab Shared\\\\Data\\\\2024\\\\05-2024\\\\24 May 2024\\\\Andor\\\\Test ODT 400']"
      ]
     },
     "execution_count": 106,
     "metadata": {},
     "output_type": "execute_result"
    }
   ],
   "source": [
    "Folders = []\n",
    "for root, dirs, files in os.walk(r'D:\\Dropbox (Lehigh University)\\Sommer Lab Shared\\Data\\2024\\05-2024'):\n",
    "    # for name in files:\n",
    "    #     print(os.path.join(root, name))\n",
    "    for name in dirs:\n",
    "        Folders.append(os.path.join(root, name))\n",
    "        \n",
    "Folders = [ii for ii in Folders if ('Andor\\\\' in ii) and ('ModifiedData' not in ii) ]\n",
    "Folders"
   ]
  },
  {
   "cell_type": "code",
   "execution_count": 107,
   "id": "31b7be05-8e1d-470b-a313-d3f410e3dc4c",
   "metadata": {},
   "outputs": [
    {
     "data": {
      "text/plain": [
       "['D:\\\\Dropbox (Lehigh University)\\\\Sommer Lab Shared\\\\Data\\\\2024\\\\05-2024\\\\06 May 2024\\\\Andor\\\\Potential Modulation',\n",
       " 'D:\\\\Dropbox (Lehigh University)\\\\Sommer Lab Shared\\\\Data\\\\2024\\\\05-2024\\\\06 May 2024\\\\Andor\\\\Potential Modulation_1',\n",
       " 'D:\\\\Dropbox (Lehigh University)\\\\Sommer Lab Shared\\\\Data\\\\2024\\\\05-2024\\\\06 May 2024\\\\Andor\\\\Test',\n",
       " 'D:\\\\Dropbox (Lehigh University)\\\\Sommer Lab Shared\\\\Data\\\\2024\\\\05-2024\\\\07 May 2024\\\\Andor\\\\ODT 1900 Align',\n",
       " 'D:\\\\Dropbox (Lehigh University)\\\\Sommer Lab Shared\\\\Data\\\\2024\\\\05-2024\\\\07 May 2024\\\\Andor\\\\ODT 1900 Misalign',\n",
       " 'D:\\\\Dropbox (Lehigh University)\\\\Sommer Lab Shared\\\\Data\\\\2024\\\\05-2024\\\\07 May 2024\\\\Andor\\\\Potential Modulation',\n",
       " 'D:\\\\Dropbox (Lehigh University)\\\\Sommer Lab Shared\\\\Data\\\\2024\\\\05-2024\\\\07 May 2024\\\\Andor\\\\Potential Modulation ODT 1150',\n",
       " 'D:\\\\Dropbox (Lehigh University)\\\\Sommer Lab Shared\\\\Data\\\\2024\\\\05-2024\\\\07 May 2024\\\\Andor\\\\Potential Modulation ODT 400',\n",
       " 'D:\\\\Dropbox (Lehigh University)\\\\Sommer Lab Shared\\\\Data\\\\2024\\\\05-2024\\\\07 May 2024\\\\Andor\\\\Potential Modulation ODT 400 Low Frequency',\n",
       " 'D:\\\\Dropbox (Lehigh University)\\\\Sommer Lab Shared\\\\Data\\\\2024\\\\05-2024\\\\07 May 2024\\\\Andor\\\\Potential Modulation ODT 400 Low Frequency 1000 ms',\n",
       " 'D:\\\\Dropbox (Lehigh University)\\\\Sommer Lab Shared\\\\Data\\\\2024\\\\05-2024\\\\07 May 2024\\\\Andor\\\\Potential Modulation ODT 400 Low Frequency 200 ms',\n",
       " 'D:\\\\Dropbox (Lehigh University)\\\\Sommer Lab Shared\\\\Data\\\\2024\\\\05-2024\\\\07 May 2024\\\\Andor\\\\Potential Modulation ODT 400 Low Frequency 300 ms',\n",
       " 'D:\\\\Dropbox (Lehigh University)\\\\Sommer Lab Shared\\\\Data\\\\2024\\\\05-2024\\\\07 May 2024\\\\Andor\\\\Potential Modulation ODT 400 Low Frequency 500 ms',\n",
       " 'D:\\\\Dropbox (Lehigh University)\\\\Sommer Lab Shared\\\\Data\\\\2024\\\\05-2024\\\\07 May 2024\\\\Andor\\\\Potential Modulation_1',\n",
       " 'D:\\\\Dropbox (Lehigh University)\\\\Sommer Lab Shared\\\\Data\\\\2024\\\\05-2024\\\\07 May 2024\\\\Andor\\\\Potential Modulation_2',\n",
       " 'D:\\\\Dropbox (Lehigh University)\\\\Sommer Lab Shared\\\\Data\\\\2024\\\\05-2024\\\\07 May 2024\\\\Andor\\\\Potential Modulation_3',\n",
       " 'D:\\\\Dropbox (Lehigh University)\\\\Sommer Lab Shared\\\\Data\\\\2024\\\\05-2024\\\\07 May 2024\\\\Andor\\\\Potential Modulation_4',\n",
       " 'D:\\\\Dropbox (Lehigh University)\\\\Sommer Lab Shared\\\\Data\\\\2024\\\\05-2024\\\\07 May 2024\\\\Andor\\\\Potential Modulation_5',\n",
       " 'D:\\\\Dropbox (Lehigh University)\\\\Sommer Lab Shared\\\\Data\\\\2024\\\\05-2024\\\\07 May 2024\\\\Andor\\\\Test',\n",
       " 'D:\\\\Dropbox (Lehigh University)\\\\Sommer Lab Shared\\\\Data\\\\2024\\\\05-2024\\\\07 May 2024\\\\Andor\\\\Test_1',\n",
       " 'D:\\\\Dropbox (Lehigh University)\\\\Sommer Lab Shared\\\\Data\\\\2024\\\\05-2024\\\\08 May 2024\\\\Andor\\\\Potential Modulation ODT 400 5-15 kHz 100 ms 0.3 V',\n",
       " 'D:\\\\Dropbox (Lehigh University)\\\\Sommer Lab Shared\\\\Data\\\\2024\\\\05-2024\\\\08 May 2024\\\\Andor\\\\Potential Modulation ODT 400 5-15 kHz 100 ms 0.3 V_1',\n",
       " 'D:\\\\Dropbox (Lehigh University)\\\\Sommer Lab Shared\\\\Data\\\\2024\\\\05-2024\\\\08 May 2024\\\\Andor\\\\Potential Modulation ODT 400 5-15 kHz 100 ms 0.5 V',\n",
       " 'D:\\\\Dropbox (Lehigh University)\\\\Sommer Lab Shared\\\\Data\\\\2024\\\\05-2024\\\\08 May 2024\\\\Andor\\\\Potential Modulation ODT 400 5-15 kHz 1000 ms_3',\n",
       " 'D:\\\\Dropbox (Lehigh University)\\\\Sommer Lab Shared\\\\Data\\\\2024\\\\05-2024\\\\08 May 2024\\\\Andor\\\\Potential Modulation ODT 400 5-15 kHz 200 ms',\n",
       " 'D:\\\\Dropbox (Lehigh University)\\\\Sommer Lab Shared\\\\Data\\\\2024\\\\05-2024\\\\08 May 2024\\\\Andor\\\\Potential Modulation ODT 400 5-15 kHz 200 ms 0.3 V',\n",
       " 'D:\\\\Dropbox (Lehigh University)\\\\Sommer Lab Shared\\\\Data\\\\2024\\\\05-2024\\\\08 May 2024\\\\Andor\\\\Potential Modulation ODT 400 5-15 kHz 50 ms 0.3 V',\n",
       " 'D:\\\\Dropbox (Lehigh University)\\\\Sommer Lab Shared\\\\Data\\\\2024\\\\05-2024\\\\08 May 2024\\\\Andor\\\\Potential Modulation ODT 400 5-15 kHz 500 ms',\n",
       " 'D:\\\\Dropbox (Lehigh University)\\\\Sommer Lab Shared\\\\Data\\\\2024\\\\05-2024\\\\08 May 2024\\\\Andor\\\\Test',\n",
       " 'D:\\\\Dropbox (Lehigh University)\\\\Sommer Lab Shared\\\\Data\\\\2024\\\\05-2024\\\\08 May 2024\\\\Andor\\\\Test_1',\n",
       " 'D:\\\\Dropbox (Lehigh University)\\\\Sommer Lab Shared\\\\Data\\\\2024\\\\05-2024\\\\14 May 2024\\\\Andor\\\\ODT 400 Modulation 100 ms 0.3 V',\n",
       " 'D:\\\\Dropbox (Lehigh University)\\\\Sommer Lab Shared\\\\Data\\\\2024\\\\05-2024\\\\14 May 2024\\\\Andor\\\\ODT 400 Modulation 100 ms 0.3 V_1',\n",
       " 'D:\\\\Dropbox (Lehigh University)\\\\Sommer Lab Shared\\\\Data\\\\2024\\\\05-2024\\\\14 May 2024\\\\Andor\\\\ODT 400 Modulation 100 ms 0.3 V_2',\n",
       " 'D:\\\\Dropbox (Lehigh University)\\\\Sommer Lab Shared\\\\Data\\\\2024\\\\05-2024\\\\14 May 2024\\\\Andor\\\\ODT 400 Modulation 100 ms 0.3 V_3',\n",
       " 'D:\\\\Dropbox (Lehigh University)\\\\Sommer Lab Shared\\\\Data\\\\2024\\\\05-2024\\\\14 May 2024\\\\Andor\\\\ODT 400 Modulation 200 ms 0.3 V',\n",
       " 'D:\\\\Dropbox (Lehigh University)\\\\Sommer Lab Shared\\\\Data\\\\2024\\\\05-2024\\\\14 May 2024\\\\Andor\\\\ODT 400 Modulation 200 ms Offset 8.5 V',\n",
       " 'D:\\\\Dropbox (Lehigh University)\\\\Sommer Lab Shared\\\\Data\\\\2024\\\\05-2024\\\\14 May 2024\\\\Andor\\\\Test',\n",
       " 'D:\\\\Dropbox (Lehigh University)\\\\Sommer Lab Shared\\\\Data\\\\2024\\\\05-2024\\\\14 May 2024\\\\Andor\\\\Test_1',\n",
       " 'D:\\\\Dropbox (Lehigh University)\\\\Sommer Lab Shared\\\\Data\\\\2024\\\\05-2024\\\\15 May 2024\\\\Andor\\\\ODT 1150 Modulation 0.1 V 10-50 kHz Variable tmod',\n",
       " 'D:\\\\Dropbox (Lehigh University)\\\\Sommer Lab Shared\\\\Data\\\\2024\\\\05-2024\\\\15 May 2024\\\\Andor\\\\ODT 1150 Modulation 0.3 V 4-16 kHz Variable tmod',\n",
       " 'D:\\\\Dropbox (Lehigh University)\\\\Sommer Lab Shared\\\\Data\\\\2024\\\\05-2024\\\\15 May 2024\\\\Andor\\\\ODT 1900 Modulation 0.1 V 10-50 kHz Variable tmod',\n",
       " 'D:\\\\Dropbox (Lehigh University)\\\\Sommer Lab Shared\\\\Data\\\\2024\\\\05-2024\\\\15 May 2024\\\\Andor\\\\ODT 1900 Modulation 0.3 V 0.5-16 kHz Variable tmod',\n",
       " 'D:\\\\Dropbox (Lehigh University)\\\\Sommer Lab Shared\\\\Data\\\\2024\\\\05-2024\\\\15 May 2024\\\\Andor\\\\ODT 2650 Modulation 0.1 V 10-50 kHz Variable tmod',\n",
       " 'D:\\\\Dropbox (Lehigh University)\\\\Sommer Lab Shared\\\\Data\\\\2024\\\\05-2024\\\\15 May 2024\\\\Andor\\\\ODT 2650 Modulation 0.3 V 0.5-18 kHz Variable tmod',\n",
       " 'D:\\\\Dropbox (Lehigh University)\\\\Sommer Lab Shared\\\\Data\\\\2024\\\\05-2024\\\\15 May 2024\\\\Andor\\\\ODT 3400 Modulation 0.1 V 10-50 kHz Variable tmod',\n",
       " 'D:\\\\Dropbox (Lehigh University)\\\\Sommer Lab Shared\\\\Data\\\\2024\\\\05-2024\\\\15 May 2024\\\\Andor\\\\ODT 3400 Modulation 0.1 V 10-50 kHz Variable tmod_1',\n",
       " 'D:\\\\Dropbox (Lehigh University)\\\\Sommer Lab Shared\\\\Data\\\\2024\\\\05-2024\\\\15 May 2024\\\\Andor\\\\ODT 3400 Modulation 0.3 V 0.5-18 kHz Variable tmod',\n",
       " 'D:\\\\Dropbox (Lehigh University)\\\\Sommer Lab Shared\\\\Data\\\\2024\\\\05-2024\\\\15 May 2024\\\\Andor\\\\ODT 400 Modulation 0.1 V 10-50 kHz Variable tmod',\n",
       " 'D:\\\\Dropbox (Lehigh University)\\\\Sommer Lab Shared\\\\Data\\\\2024\\\\05-2024\\\\15 May 2024\\\\Andor\\\\ODT 400 Modulation 0.1 V 15-32 kHz Variable tmod',\n",
       " 'D:\\\\Dropbox (Lehigh University)\\\\Sommer Lab Shared\\\\Data\\\\2024\\\\05-2024\\\\15 May 2024\\\\Andor\\\\ODT 400 Modulation 0.1 V 22-28 kHz Variable tmod',\n",
       " 'D:\\\\Dropbox (Lehigh University)\\\\Sommer Lab Shared\\\\Data\\\\2024\\\\05-2024\\\\15 May 2024\\\\Andor\\\\ODT 400 Modulation 0.1 V 9-31 kHz Variable tmod',\n",
       " 'D:\\\\Dropbox (Lehigh University)\\\\Sommer Lab Shared\\\\Data\\\\2024\\\\05-2024\\\\15 May 2024\\\\Andor\\\\ODT 400 Modulation 0.3 V 10-15 kHz Variable tmod',\n",
       " 'D:\\\\Dropbox (Lehigh University)\\\\Sommer Lab Shared\\\\Data\\\\2024\\\\05-2024\\\\15 May 2024\\\\Andor\\\\ODT 400 Modulation 0.3 V 10-15 kHz Variable tmod_1',\n",
       " 'D:\\\\Dropbox (Lehigh University)\\\\Sommer Lab Shared\\\\Data\\\\2024\\\\05-2024\\\\15 May 2024\\\\Andor\\\\ODT 400 Modulation 0.4 V 10-15 kHz Variable tmod',\n",
       " 'D:\\\\Dropbox (Lehigh University)\\\\Sommer Lab Shared\\\\Data\\\\2024\\\\05-2024\\\\15 May 2024\\\\Andor\\\\ODT 400 Modulation 0.4 V 22-28 kHz Variable tmod',\n",
       " 'D:\\\\Dropbox (Lehigh University)\\\\Sommer Lab Shared\\\\Data\\\\2024\\\\05-2024\\\\15 May 2024\\\\Andor\\\\ODT 400 Modulation 0.4 V 22-28 kHz Variable tmod_1',\n",
       " 'D:\\\\Dropbox (Lehigh University)\\\\Sommer Lab Shared\\\\Data\\\\2024\\\\05-2024\\\\15 May 2024\\\\Andor\\\\ODT 400 Modulation 0.5 V 10-15 kHz Variable tmod',\n",
       " 'D:\\\\Dropbox (Lehigh University)\\\\Sommer Lab Shared\\\\Data\\\\2024\\\\05-2024\\\\15 May 2024\\\\Andor\\\\ODT 400 Modulation 0.5 V 10-15 kHz Variable tmod_1',\n",
       " 'D:\\\\Dropbox (Lehigh University)\\\\Sommer Lab Shared\\\\Data\\\\2024\\\\05-2024\\\\15 May 2024\\\\Andor\\\\ODT 400 Modulation 300 ms 0.5 V 3-10 kHz',\n",
       " 'D:\\\\Dropbox (Lehigh University)\\\\Sommer Lab Shared\\\\Data\\\\2024\\\\05-2024\\\\15 May 2024\\\\Andor\\\\ODT 400 Modulation 300 ms 0.5 V 3-10 kHz_1',\n",
       " 'D:\\\\Dropbox (Lehigh University)\\\\Sommer Lab Shared\\\\Data\\\\2024\\\\05-2024\\\\15 May 2024\\\\Andor\\\\ODT 400 Modulation 300 ms 0.5 V 3-10 kHz_2',\n",
       " 'D:\\\\Dropbox (Lehigh University)\\\\Sommer Lab Shared\\\\Data\\\\2024\\\\05-2024\\\\15 May 2024\\\\Andor\\\\Test',\n",
       " 'D:\\\\Dropbox (Lehigh University)\\\\Sommer Lab Shared\\\\Data\\\\2024\\\\05-2024\\\\15 May 2024\\\\Andor\\\\Test_1',\n",
       " 'D:\\\\Dropbox (Lehigh University)\\\\Sommer Lab Shared\\\\Data\\\\2024\\\\05-2024\\\\15 May 2024\\\\Andor\\\\Test_2',\n",
       " 'D:\\\\Dropbox (Lehigh University)\\\\Sommer Lab Shared\\\\Data\\\\2024\\\\05-2024\\\\16 May 2024\\\\Andor\\\\D1 4150 Atom Number',\n",
       " 'D:\\\\Dropbox (Lehigh University)\\\\Sommer Lab Shared\\\\Data\\\\2024\\\\05-2024\\\\16 May 2024\\\\Andor\\\\D1 4900 Atom Number',\n",
       " 'D:\\\\Dropbox (Lehigh University)\\\\Sommer Lab Shared\\\\Data\\\\2024\\\\05-2024\\\\16 May 2024\\\\Andor\\\\ODT 4150 Atom Number',\n",
       " 'D:\\\\Dropbox (Lehigh University)\\\\Sommer Lab Shared\\\\Data\\\\2024\\\\05-2024\\\\16 May 2024\\\\Andor\\\\ODT 4150 Bias Scan',\n",
       " 'D:\\\\Dropbox (Lehigh University)\\\\Sommer Lab Shared\\\\Data\\\\2024\\\\05-2024\\\\16 May 2024\\\\Andor\\\\ODT 4150 Bias Scan_1',\n",
       " 'D:\\\\Dropbox (Lehigh University)\\\\Sommer Lab Shared\\\\Data\\\\2024\\\\05-2024\\\\16 May 2024\\\\Andor\\\\ODT 4150 Bias Scan_2',\n",
       " 'D:\\\\Dropbox (Lehigh University)\\\\Sommer Lab Shared\\\\Data\\\\2024\\\\05-2024\\\\16 May 2024\\\\Andor\\\\ODT 4150 Bias Scan_3',\n",
       " 'D:\\\\Dropbox (Lehigh University)\\\\Sommer Lab Shared\\\\Data\\\\2024\\\\05-2024\\\\16 May 2024\\\\Andor\\\\ODT 4150 Modulation 0.1 V 10-50 kHz Variable tmod',\n",
       " 'D:\\\\Dropbox (Lehigh University)\\\\Sommer Lab Shared\\\\Data\\\\2024\\\\05-2024\\\\16 May 2024\\\\Andor\\\\ODT 4150 Modulation 0.1 V 20-50 kHz Variable tmod',\n",
       " 'D:\\\\Dropbox (Lehigh University)\\\\Sommer Lab Shared\\\\Data\\\\2024\\\\05-2024\\\\16 May 2024\\\\Andor\\\\ODT 4150 Modulation 0.3 V 0.5-18 kHz Variable tmod',\n",
       " 'D:\\\\Dropbox (Lehigh University)\\\\Sommer Lab Shared\\\\Data\\\\2024\\\\05-2024\\\\16 May 2024\\\\Andor\\\\ODT 4900 Atom Number',\n",
       " 'D:\\\\Dropbox (Lehigh University)\\\\Sommer Lab Shared\\\\Data\\\\2024\\\\05-2024\\\\16 May 2024\\\\Andor\\\\ODT 4900 Bias Scan',\n",
       " 'D:\\\\Dropbox (Lehigh University)\\\\Sommer Lab Shared\\\\Data\\\\2024\\\\05-2024\\\\16 May 2024\\\\Andor\\\\Test',\n",
       " 'D:\\\\Dropbox (Lehigh University)\\\\Sommer Lab Shared\\\\Data\\\\2024\\\\05-2024\\\\16 May 2024\\\\Andor\\\\Test D1 4900',\n",
       " 'D:\\\\Dropbox (Lehigh University)\\\\Sommer Lab Shared\\\\Data\\\\2024\\\\05-2024\\\\16 May 2024\\\\Andor\\\\Test ODT 4900',\n",
       " 'D:\\\\Dropbox (Lehigh University)\\\\Sommer Lab Shared\\\\Data\\\\2024\\\\05-2024\\\\16 May 2024\\\\Andor\\\\Test ODT 4900_1',\n",
       " 'D:\\\\Dropbox (Lehigh University)\\\\Sommer Lab Shared\\\\Data\\\\2024\\\\05-2024\\\\16 May 2024\\\\Andor\\\\Test_1',\n",
       " 'D:\\\\Dropbox (Lehigh University)\\\\Sommer Lab Shared\\\\Data\\\\2024\\\\05-2024\\\\17 May 2024\\\\Andor\\\\ODT 4900 Modulation 0.1 V 10-50 kHz Variable tmod TOF 0.025',\n",
       " 'D:\\\\Dropbox (Lehigh University)\\\\Sommer Lab Shared\\\\Data\\\\2024\\\\05-2024\\\\17 May 2024\\\\Andor\\\\ODT 4900 Modulation 0.1 V 20-50 kHz Variable tmod',\n",
       " 'D:\\\\Dropbox (Lehigh University)\\\\Sommer Lab Shared\\\\Data\\\\2024\\\\05-2024\\\\17 May 2024\\\\Andor\\\\ODT 4900 Modulation 0.3 V 0.5-18 kHz Variable tmod',\n",
       " 'D:\\\\Dropbox (Lehigh University)\\\\Sommer Lab Shared\\\\Data\\\\2024\\\\05-2024\\\\17 May 2024\\\\Andor\\\\ODT 4900 Modulation Test',\n",
       " 'D:\\\\Dropbox (Lehigh University)\\\\Sommer Lab Shared\\\\Data\\\\2024\\\\05-2024\\\\17 May 2024\\\\Andor\\\\ODT 4900 Modulation Test_1',\n",
       " 'D:\\\\Dropbox (Lehigh University)\\\\Sommer Lab Shared\\\\Data\\\\2024\\\\05-2024\\\\17 May 2024\\\\Andor\\\\ODT 4900 Modulation Test_2',\n",
       " 'D:\\\\Dropbox (Lehigh University)\\\\Sommer Lab Shared\\\\Data\\\\2024\\\\05-2024\\\\17 May 2024\\\\Andor\\\\ODT 4900 Modulation Test_3',\n",
       " 'D:\\\\Dropbox (Lehigh University)\\\\Sommer Lab Shared\\\\Data\\\\2024\\\\05-2024\\\\17 May 2024\\\\Andor\\\\ODT 4900 Modulation Test_4',\n",
       " 'D:\\\\Dropbox (Lehigh University)\\\\Sommer Lab Shared\\\\Data\\\\2024\\\\05-2024\\\\17 May 2024\\\\Andor\\\\ODT 4900 Width vs TOF',\n",
       " 'D:\\\\Dropbox (Lehigh University)\\\\Sommer Lab Shared\\\\Data\\\\2024\\\\05-2024\\\\17 May 2024\\\\Andor\\\\Test',\n",
       " 'D:\\\\Dropbox (Lehigh University)\\\\Sommer Lab Shared\\\\Data\\\\2024\\\\05-2024\\\\20 May 2024\\\\Andor\\\\ODT 1150 Modulation 0.1 V 10-50 kHz Variable tmod',\n",
       " 'D:\\\\Dropbox (Lehigh University)\\\\Sommer Lab Shared\\\\Data\\\\2024\\\\05-2024\\\\20 May 2024\\\\Andor\\\\ODT 1900 Modulation 0.1 V 10-50 kHz Variable tmod',\n",
       " 'D:\\\\Dropbox (Lehigh University)\\\\Sommer Lab Shared\\\\Data\\\\2024\\\\05-2024\\\\20 May 2024\\\\Andor\\\\ODT 2650 Modulation 0.1 V 10-50 kHz Variable tmod',\n",
       " 'D:\\\\Dropbox (Lehigh University)\\\\Sommer Lab Shared\\\\Data\\\\2024\\\\05-2024\\\\20 May 2024\\\\Andor\\\\ODT 3400 Modulation 0.1 V 10-50 kHz Variable tmod',\n",
       " 'D:\\\\Dropbox (Lehigh University)\\\\Sommer Lab Shared\\\\Data\\\\2024\\\\05-2024\\\\20 May 2024\\\\Andor\\\\ODT 400 Modulation 0.1 V 10-50 kHz Variable tmod',\n",
       " 'D:\\\\Dropbox (Lehigh University)\\\\Sommer Lab Shared\\\\Data\\\\2024\\\\05-2024\\\\20 May 2024\\\\Andor\\\\ODT 4150 Modulation 0.1 V 10-50 kHz Variable tmod',\n",
       " 'D:\\\\Dropbox (Lehigh University)\\\\Sommer Lab Shared\\\\Data\\\\2024\\\\05-2024\\\\20 May 2024\\\\Andor\\\\ODT 4150 Modulation 0.1 V 10-50 kHz Variable tmod_1',\n",
       " 'D:\\\\Dropbox (Lehigh University)\\\\Sommer Lab Shared\\\\Data\\\\2024\\\\05-2024\\\\20 May 2024\\\\Andor\\\\Test',\n",
       " 'D:\\\\Dropbox (Lehigh University)\\\\Sommer Lab Shared\\\\Data\\\\2024\\\\05-2024\\\\20 May 2024\\\\Andor\\\\Test_1',\n",
       " 'D:\\\\Dropbox (Lehigh University)\\\\Sommer Lab Shared\\\\Data\\\\2024\\\\05-2024\\\\20 May 2024\\\\Andor\\\\Test_2',\n",
       " 'D:\\\\Dropbox (Lehigh University)\\\\Sommer Lab Shared\\\\Data\\\\2024\\\\05-2024\\\\20 May 2024\\\\Andor\\\\Test_3',\n",
       " 'D:\\\\Dropbox (Lehigh University)\\\\Sommer Lab Shared\\\\Data\\\\2024\\\\05-2024\\\\21 May 2024\\\\Andor\\\\Misaligned ODT vs wait',\n",
       " 'D:\\\\Dropbox (Lehigh University)\\\\Sommer Lab Shared\\\\Data\\\\2024\\\\05-2024\\\\21 May 2024\\\\Andor\\\\ODT 1900 Align',\n",
       " 'D:\\\\Dropbox (Lehigh University)\\\\Sommer Lab Shared\\\\Data\\\\2024\\\\05-2024\\\\21 May 2024\\\\Andor\\\\ODT 1900 Misalign',\n",
       " 'D:\\\\Dropbox (Lehigh University)\\\\Sommer Lab Shared\\\\Data\\\\2024\\\\05-2024\\\\21 May 2024\\\\Andor\\\\Test',\n",
       " 'D:\\\\Dropbox (Lehigh University)\\\\Sommer Lab Shared\\\\Data\\\\2024\\\\05-2024\\\\21 May 2024\\\\Andor\\\\Test for Align',\n",
       " 'D:\\\\Dropbox (Lehigh University)\\\\Sommer Lab Shared\\\\Data\\\\2024\\\\05-2024\\\\21 May 2024\\\\Andor\\\\Test_1',\n",
       " 'D:\\\\Dropbox (Lehigh University)\\\\Sommer Lab Shared\\\\Data\\\\2024\\\\05-2024\\\\21 May 2024\\\\Andor\\\\Test_2',\n",
       " 'D:\\\\Dropbox (Lehigh University)\\\\Sommer Lab Shared\\\\Data\\\\2024\\\\05-2024\\\\21 May 2024\\\\Andor\\\\Test_3',\n",
       " 'D:\\\\Dropbox (Lehigh University)\\\\Sommer Lab Shared\\\\Data\\\\2024\\\\05-2024\\\\21 May 2024\\\\Andor\\\\Test_4',\n",
       " 'D:\\\\Dropbox (Lehigh University)\\\\Sommer Lab Shared\\\\Data\\\\2024\\\\05-2024\\\\22 May 2024\\\\Andor\\\\ODT 1900 Align',\n",
       " 'D:\\\\Dropbox (Lehigh University)\\\\Sommer Lab Shared\\\\Data\\\\2024\\\\05-2024\\\\22 May 2024\\\\Andor\\\\Test_2',\n",
       " 'D:\\\\Dropbox (Lehigh University)\\\\Sommer Lab Shared\\\\Data\\\\2024\\\\05-2024\\\\23 May 2024\\\\Andor\\\\Misaligned ODT vs wait',\n",
       " 'D:\\\\Dropbox (Lehigh University)\\\\Sommer Lab Shared\\\\Data\\\\2024\\\\05-2024\\\\23 May 2024\\\\Andor\\\\Move Lenses',\n",
       " 'D:\\\\Dropbox (Lehigh University)\\\\Sommer Lab Shared\\\\Data\\\\2024\\\\05-2024\\\\23 May 2024\\\\Andor\\\\ODT 1900 Align',\n",
       " 'D:\\\\Dropbox (Lehigh University)\\\\Sommer Lab Shared\\\\Data\\\\2024\\\\05-2024\\\\23 May 2024\\\\Andor\\\\ODT 1900 Misalign',\n",
       " 'D:\\\\Dropbox (Lehigh University)\\\\Sommer Lab Shared\\\\Data\\\\2024\\\\05-2024\\\\23 May 2024\\\\Andor\\\\Test',\n",
       " 'D:\\\\Dropbox (Lehigh University)\\\\Sommer Lab Shared\\\\Data\\\\2024\\\\05-2024\\\\23 May 2024\\\\Andor\\\\Test_1',\n",
       " 'D:\\\\Dropbox (Lehigh University)\\\\Sommer Lab Shared\\\\Data\\\\2024\\\\05-2024\\\\24 May 2024\\\\Andor\\\\ODT 400 Align',\n",
       " 'D:\\\\Dropbox (Lehigh University)\\\\Sommer Lab Shared\\\\Data\\\\2024\\\\05-2024\\\\24 May 2024\\\\Andor\\\\ODT 400 Misalign',\n",
       " 'D:\\\\Dropbox (Lehigh University)\\\\Sommer Lab Shared\\\\Data\\\\2024\\\\05-2024\\\\24 May 2024\\\\Andor\\\\Test',\n",
       " 'D:\\\\Dropbox (Lehigh University)\\\\Sommer Lab Shared\\\\Data\\\\2024\\\\05-2024\\\\24 May 2024\\\\Andor\\\\Test ODT 400']"
      ]
     },
     "execution_count": 107,
     "metadata": {},
     "output_type": "execute_result"
    }
   ],
   "source": [
    "Folders4PPI = [ii for ii in Folders if 'PPI' not in ii]\n",
    "Folders4PPI"
   ]
  },
  {
   "cell_type": "code",
   "execution_count": 108,
   "id": "655a40ab-b131-4b74-8a15-7b020cc52cad",
   "metadata": {},
   "outputs": [
    {
     "data": {
      "text/plain": [
       "['D:\\\\Dropbox (Lehigh University)\\\\Sommer Lab Shared\\\\Data\\\\2024\\\\05-2024\\\\16 May 2024\\\\Andor\\\\D1 4150 Atom Number',\n",
       " 'D:\\\\Dropbox (Lehigh University)\\\\Sommer Lab Shared\\\\Data\\\\2024\\\\05-2024\\\\16 May 2024\\\\Andor\\\\D1 4900 Atom Number',\n",
       " 'D:\\\\Dropbox (Lehigh University)\\\\Sommer Lab Shared\\\\Data\\\\2024\\\\05-2024\\\\16 May 2024\\\\Andor\\\\Test D1 4900']"
      ]
     },
     "execution_count": 108,
     "metadata": {},
     "output_type": "execute_result"
    }
   ],
   "source": [
    "D1Folder = [ii for ii in Folders if 'D1' in ii]\n",
    "D1Folder"
   ]
  },
  {
   "cell_type": "code",
   "execution_count": 115,
   "id": "71b62c15-a015-4350-9c1f-d8b138dc223b",
   "metadata": {},
   "outputs": [],
   "source": [
    "# ImageAnalysisCode.BuildCatalogue(*D1Folder, picturesPerIteration=4, skipFirstImg=0);"
   ]
  },
  {
   "cell_type": "code",
   "execution_count": null,
   "id": "bcef38ba-c946-4366-aae3-295bf06f07d7",
   "metadata": {},
   "outputs": [],
   "source": []
  },
  {
   "cell_type": "code",
   "execution_count": 114,
   "id": "cae0b6f9-d856-4437-91f0-d4ac8cd25b63",
   "metadata": {},
   "outputs": [],
   "source": [
    "# ImageAnalysisCode.BuildCatalogue(*Folders4PPI, picturesPerIteration=4, skipFirstImg=1);"
   ]
  },
  {
   "cell_type": "code",
   "execution_count": 1,
   "id": "2e04a696-49c2-4fe3-893d-a88e02866a4c",
   "metadata": {},
   "outputs": [],
   "source": [
    "import matplotlib.pyplot as plt"
   ]
  },
  {
   "cell_type": "code",
   "execution_count": 3,
   "id": "bad707f7-aab2-461a-994a-a0501876c65c",
   "metadata": {},
   "outputs": [
    {
     "data": {
      "text/plain": [
       "Text(0.5, 0, 'x')"
      ]
     },
     "execution_count": 3,
     "metadata": {},
     "output_type": "execute_result"
    },
    {
     "data": {
      "image/png": "[encoded data removed]",
      "text/plain": [
       "<Figure size 432x288 with 1 Axes>"
      ]
     },
     "metadata": {
      "needs_background": "light"
     },
     "output_type": "display_data"
    }
   ],
   "source": [
    "fig, ax = plt.subplots(subplot_kw={'projection':'3d'}, layout='constrained')\n",
    "ax.set_xlabel('x')\n",
    "ax.set_ylabel('x')\n",
    "ax.set_zlabel('x')"
   ]
  },
  {
   "cell_type": "code",
   "execution_count": 28,
   "id": "193e5a8a-3974-48df-b876-ebb9fe84b80e",
   "metadata": {
    "execution": {
     "iopub.execute_input": "2025-02-14T19:40:43.523172Z",
     "iopub.status.busy": "2025-02-14T19:40:43.522202Z",
     "iopub.status.idle": "2025-02-14T19:40:43.924933Z",
     "shell.execute_reply": "2025-02-14T19:40:43.915418Z",
     "shell.execute_reply.started": "2025-02-14T19:40:43.523081Z"
    },
    "tags": []
   },
   "outputs": [],
   "source": [
    "import sys"
   ]
  },
  {
   "cell_type": "code",
   "execution_count": 30,
   "id": "d03c1717-74e5-44a9-948a-13ef6792093a",
   "metadata": {
    "execution": {
     "iopub.execute_input": "2025-02-14T19:40:50.744376Z",
     "iopub.status.busy": "2025-02-14T19:40:50.742977Z",
     "iopub.status.idle": "2025-02-14T19:40:50.859803Z",
     "shell.execute_reply": "2025-02-14T19:40:50.856767Z",
     "shell.execute_reply.started": "2025-02-14T19:40:50.744196Z"
    },
    "tags": []
   },
   "outputs": [
    {
     "data": {
      "text/plain": [
       "'3.9.13 | packaged by conda-forge | (main, May 27 2022, 16:58:50) \\n[GCC 10.3.0]'"
      ]
     },
     "execution_count": 30,
     "metadata": {},
     "output_type": "execute_result"
    }
   ],
   "source": [
    "sys.version"
   ]
  },
  {
   "cell_type": "code",
   "execution_count": null,
   "id": "0b0fcbd9-4ee5-478d-b207-a8aa315f8b63",
   "metadata": {},
   "outputs": [],
   "source": [
    "del"
   ]
  }
 ],
 "metadata": {
  "kernelspec": {
   "display_name": "Python 3.9 (py39)",
   "language": "python",
   "name": "py39"
  },
  "language_info": {
   "codemirror_mode": {
    "name": "ipython",
    "version": 3
   },
   "file_extension": ".py",
   "mimetype": "text/x-python",
   "name": "python",
   "nbconvert_exporter": "python",
   "pygments_lexer": "ipython3",
   "version": "3.9.13"
  }
 },
 "nbformat": 4,
 "nbformat_minor": 5
}
