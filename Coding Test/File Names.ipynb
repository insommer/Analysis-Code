{
 "cells": [
  {
   "cell_type": "code",
   "execution_count": 48,
   "id": "fdb30ccd",
   "metadata": {},
   "outputs": [
    {
     "name": "stdout",
     "output_type": "stream",
     "text": [
      "C:\\Users\\Sommer Lab\\Documents\\Analysis Code\n"
     ]
    }
   ],
   "source": [
    "cd .."
   ]
  },
  {
   "cell_type": "code",
   "execution_count": 49,
   "id": "693d5233",
   "metadata": {},
   "outputs": [],
   "source": [
    "from ImageAnalysis import ImageAnalysisCode\n",
    "import glob\n",
    "import numpy as np"
   ]
  },
  {
   "cell_type": "code",
   "execution_count": null,
   "id": "683622ec",
   "metadata": {},
   "outputs": [],
   "source": []
  },
  {
   "cell_type": "code",
   "execution_count": null,
   "id": "6437d1d9",
   "metadata": {},
   "outputs": [],
   "source": []
  },
  {
   "cell_type": "code",
   "execution_count": 2,
   "id": "2ad0512c",
   "metadata": {},
   "outputs": [],
   "source": [
    "data_folder = r'Z:\\ats317group\\Data\\2023\\12-2023\\08 Dec 2023\\Andor\\ODT high B thermometry_2'"
   ]
  },
  {
   "cell_type": "code",
   "execution_count": 6,
   "id": "d6991729",
   "metadata": {},
   "outputs": [],
   "source": [
    "number_of_pics = len(glob.glob1(data_folder,\"*spool.dat\"))"
   ]
  },
  {
   "cell_type": "code",
   "execution_count": 7,
   "id": "866f0ae4",
   "metadata": {},
   "outputs": [
    {
     "data": {
      "text/plain": [
       "30"
      ]
     },
     "execution_count": 7,
     "metadata": {},
     "output_type": "execute_result"
    }
   ],
   "source": [
    "number_of_pics"
   ]
  },
  {
   "cell_type": "code",
   "execution_count": 27,
   "id": "47b26313",
   "metadata": {},
   "outputs": [
    {
     "data": {
      "text/plain": [
       "['0000000000spool.dat',\n",
       " '0100000000spool.dat',\n",
       " '0200000000spool.dat',\n",
       " '1000000000spool.dat',\n",
       " '1100000000spool.dat',\n",
       " '1200000000spool.dat',\n",
       " '2000000000spool.dat',\n",
       " '2100000000spool.dat',\n",
       " '2200000000spool.dat',\n",
       " '3000000000spool.dat',\n",
       " '3100000000spool.dat',\n",
       " '3200000000spool.dat',\n",
       " '4000000000spool.dat',\n",
       " '4100000000spool.dat',\n",
       " '4200000000spool.dat',\n",
       " '5000000000spool.dat',\n",
       " '5100000000spool.dat',\n",
       " '5200000000spool.dat',\n",
       " '6000000000spool.dat',\n",
       " '6100000000spool.dat',\n",
       " '6200000000spool.dat',\n",
       " '7000000000spool.dat',\n",
       " '7100000000spool.dat',\n",
       " '7200000000spool.dat',\n",
       " '8000000000spool.dat',\n",
       " '8100000000spool.dat',\n",
       " '8200000000spool.dat',\n",
       " '9000000000spool.dat',\n",
       " '9100000000spool.dat',\n",
       " '9200000000spool.dat']"
      ]
     },
     "execution_count": 27,
     "metadata": {},
     "output_type": "execute_result"
    }
   ],
   "source": [
    "filenames = glob.glob1(data_folder,\"*.dat\")\n",
    "filenames"
   ]
  },
  {
   "cell_type": "code",
   "execution_count": 19,
   "id": "4afac5e3",
   "metadata": {},
   "outputs": [
    {
     "data": {
      "text/plain": [
       "['000000',\n",
       " '000010',\n",
       " '000020',\n",
       " '000001',\n",
       " '000011',\n",
       " '000021',\n",
       " '000002',\n",
       " '000012',\n",
       " '000022',\n",
       " '000003',\n",
       " '000013',\n",
       " '000023',\n",
       " '000004',\n",
       " '000014',\n",
       " '000024',\n",
       " '000005',\n",
       " '000015',\n",
       " '000025',\n",
       " '000006',\n",
       " '000016',\n",
       " '000026',\n",
       " '000007',\n",
       " '000017',\n",
       " '000027',\n",
       " '000008',\n",
       " '000018',\n",
       " '000028',\n",
       " '000009',\n",
       " '000019',\n",
       " '000029']"
      ]
     },
     "execution_count": 19,
     "metadata": {},
     "output_type": "execute_result"
    }
   ],
   "source": [
    "filenamesInd = [ ii[5::-1] for ii in filenames]\n",
    "# filenamesInd.sort()\n",
    "filenamesInd"
   ]
  },
  {
   "cell_type": "code",
   "execution_count": 25,
   "id": "92017cd2",
   "metadata": {},
   "outputs": [],
   "source": [
    "aa = list(zip(filenamesInd, filenames)).sort()"
   ]
  },
  {
   "cell_type": "code",
   "execution_count": 26,
   "id": "1140b12f",
   "metadata": {},
   "outputs": [],
   "source": [
    "aa"
   ]
  },
  {
   "cell_type": "code",
   "execution_count": 23,
   "id": "8d32c4c1",
   "metadata": {},
   "outputs": [
    {
     "data": {
      "text/plain": [
       "[('000000', '0000000000spool.dat'),\n",
       " ('000001', '1000000000spool.dat'),\n",
       " ('000002', '2000000000spool.dat'),\n",
       " ('000003', '3000000000spool.dat'),\n",
       " ('000004', '4000000000spool.dat'),\n",
       " ('000005', '5000000000spool.dat'),\n",
       " ('000006', '6000000000spool.dat'),\n",
       " ('000007', '7000000000spool.dat'),\n",
       " ('000008', '8000000000spool.dat'),\n",
       " ('000009', '9000000000spool.dat'),\n",
       " ('000010', '0100000000spool.dat'),\n",
       " ('000011', '1100000000spool.dat'),\n",
       " ('000012', '2100000000spool.dat'),\n",
       " ('000013', '3100000000spool.dat'),\n",
       " ('000014', '4100000000spool.dat'),\n",
       " ('000015', '5100000000spool.dat'),\n",
       " ('000016', '6100000000spool.dat'),\n",
       " ('000017', '7100000000spool.dat'),\n",
       " ('000018', '8100000000spool.dat'),\n",
       " ('000019', '9100000000spool.dat'),\n",
       " ('000020', '0200000000spool.dat'),\n",
       " ('000021', '1200000000spool.dat'),\n",
       " ('000022', '2200000000spool.dat'),\n",
       " ('000023', '3200000000spool.dat'),\n",
       " ('000024', '4200000000spool.dat'),\n",
       " ('000025', '5200000000spool.dat'),\n",
       " ('000026', '6200000000spool.dat'),\n",
       " ('000027', '7200000000spool.dat'),\n",
       " ('000028', '8200000000spool.dat'),\n",
       " ('000029', '9200000000spool.dat')]"
      ]
     },
     "execution_count": 23,
     "metadata": {},
     "output_type": "execute_result"
    }
   ],
   "source": [
    "aa.sort()\n",
    "aa"
   ]
  },
  {
   "cell_type": "code",
   "execution_count": 24,
   "id": "6f2eaac0",
   "metadata": {},
   "outputs": [
    {
     "data": {
      "text/plain": [
       "['0000000000spool.dat',\n",
       " '1000000000spool.dat',\n",
       " '2000000000spool.dat',\n",
       " '3000000000spool.dat',\n",
       " '4000000000spool.dat',\n",
       " '5000000000spool.dat',\n",
       " '6000000000spool.dat',\n",
       " '7000000000spool.dat',\n",
       " '8000000000spool.dat',\n",
       " '9000000000spool.dat',\n",
       " '0100000000spool.dat',\n",
       " '1100000000spool.dat',\n",
       " '2100000000spool.dat',\n",
       " '3100000000spool.dat',\n",
       " '4100000000spool.dat',\n",
       " '5100000000spool.dat',\n",
       " '6100000000spool.dat',\n",
       " '7100000000spool.dat',\n",
       " '8100000000spool.dat',\n",
       " '9100000000spool.dat',\n",
       " '0200000000spool.dat',\n",
       " '1200000000spool.dat',\n",
       " '2200000000spool.dat',\n",
       " '3200000000spool.dat',\n",
       " '4200000000spool.dat',\n",
       " '5200000000spool.dat',\n",
       " '6200000000spool.dat',\n",
       " '7200000000spool.dat',\n",
       " '8200000000spool.dat',\n",
       " '9200000000spool.dat']"
      ]
     },
     "execution_count": 24,
     "metadata": {},
     "output_type": "execute_result"
    }
   ],
   "source": [
    "[ii[1] for ii in aa]"
   ]
  },
  {
   "cell_type": "code",
   "execution_count": 32,
   "id": "14f01218",
   "metadata": {},
   "outputs": [
    {
     "name": "stdout",
     "output_type": "stream",
     "text": [
      "asdf\n"
     ]
    }
   ],
   "source": [
    "if not None:\n",
    "    print('asdf')"
   ]
  },
  {
   "cell_type": "code",
   "execution_count": 38,
   "id": "95f8d2b1",
   "metadata": {},
   "outputs": [],
   "source": [
    "aa = 3"
   ]
  },
  {
   "cell_type": "code",
   "execution_count": 44,
   "id": "76e4ac2e",
   "metadata": {},
   "outputs": [
    {
     "name": "stdout",
     "output_type": "stream",
     "text": [
      "46875\n"
     ]
    }
   ],
   "source": [
    "aa *= 5\n",
    "print(aa)"
   ]
  },
  {
   "cell_type": "code",
   "execution_count": 46,
   "id": "4cc48bd8",
   "metadata": {},
   "outputs": [],
   "source": [
    "import numpy as np"
   ]
  },
  {
   "cell_type": "code",
   "execution_count": 47,
   "id": "89d63b7d",
   "metadata": {},
   "outputs": [
    {
     "data": {
      "text/plain": [
       "array([0., 0., 0., 0., 0.])"
      ]
     },
     "execution_count": 47,
     "metadata": {},
     "output_type": "execute_result"
    }
   ],
   "source": [
    "np.zeros(shape=5)"
   ]
  },
  {
   "cell_type": "code",
   "execution_count": null,
   "id": "bb9b673f",
   "metadata": {},
   "outputs": [],
   "source": []
  }
 ],
 "metadata": {
  "kernelspec": {
   "display_name": "Python 3 (ipykernel)",
   "language": "python",
   "name": "python3"
  },
  "language_info": {
   "codemirror_mode": {
    "name": "ipython",
    "version": 3
   },
   "file_extension": ".py",
   "mimetype": "text/x-python",
   "name": "python",
   "nbconvert_exporter": "python",
   "pygments_lexer": "ipython3",
   "version": "3.7.3"
  }
 },
 "nbformat": 4,
 "nbformat_minor": 5
}
