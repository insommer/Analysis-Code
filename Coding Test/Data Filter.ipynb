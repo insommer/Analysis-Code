{
 "cells": [
  {
   "cell_type": "code",
   "execution_count": 6,
   "id": "b1bb8c0b-89aa-49f0-8bd5-a771267b05bc",
   "metadata": {},
   "outputs": [],
   "source": [
    "%load_ext autoreload"
   ]
  },
  {
   "cell_type": "code",
   "execution_count": 7,
   "id": "a03b050b-a86d-4864-b379-61be592a0f16",
   "metadata": {},
   "outputs": [],
   "source": [
    "%autoreload 2"
   ]
  },
  {
   "cell_type": "code",
   "execution_count": 8,
   "id": "4c85959e-f905-458c-b458-eb57eaf3a50a",
   "metadata": {},
   "outputs": [
    {
     "name": "stdout",
     "output_type": "stream",
     "text": [
      "C:\\Users\\Sommer Lab\\Documents\\Analysis Code\n"
     ]
    }
   ],
   "source": [
    "cd .."
   ]
  },
  {
   "cell_type": "code",
   "execution_count": 9,
   "id": "39f64f3e-35d8-4026-bf1a-879210c08a6b",
   "metadata": {
    "tags": []
   },
   "outputs": [],
   "source": [
    "import sys\n",
    "# sys.path.append(r'C:\\Users\\Sommer Lab\\Documents\\Analysis Code')\n",
    "import os\n",
    "from scipy.optimize import curve_fit\n",
    "from scipy.ndimage import rotate\n",
    "from scipy.integrate import simpson\n",
    "\n",
    "from ImageAnalysis import ImageAnalysisCode\n",
    "import numpy as np\n",
    "import matplotlib.pyplot as plt\n",
    "import pandas as pd\n",
    "import datetime"
   ]
  },
  {
   "cell_type": "code",
   "execution_count": null,
   "id": "43f2a0f9-31d5-4000-b6a0-258332371721",
   "metadata": {},
   "outputs": [],
   "source": []
  },
  {
   "cell_type": "code",
   "execution_count": 1,
   "id": "5637783a-f1e1-46b6-a7a4-a4e19074b3e6",
   "metadata": {},
   "outputs": [],
   "source": [
    "filterlist1 =  ['wait==30', 'IterationNum>1', 'ODT Position==3400']"
   ]
  },
  {
   "cell_type": "code",
   "execution_count": 3,
   "id": "6371e33c-f0a3-4609-8d52-0281cdac679c",
   "metadata": {},
   "outputs": [
    {
     "data": {
      "text/plain": [
       "['wait==30', 'IterationNum>1']"
      ]
     },
     "execution_count": 3,
     "metadata": {},
     "output_type": "execute_result"
    }
   ],
   "source": [
    "[''.join(ii.split()) for ii in filterlist1]"
   ]
  },
  {
   "cell_type": "code",
   "execution_count": 82,
   "id": "b37f70e5-444e-4f4a-8c34-956b8182c323",
   "metadata": {},
   "outputs": [
    {
     "data": {
      "text/plain": [
       "'hello apple'"
      ]
     },
     "execution_count": 82,
     "metadata": {},
     "output_type": "execute_result"
    }
   ],
   "source": [
    "\" \".join(\"  hello  apple  \".split())"
   ]
  },
  {
   "cell_type": "code",
   "execution_count": 88,
   "id": "b724821d-e1bd-4d84-918c-d4461b83ddaf",
   "metadata": {},
   "outputs": [
    {
     "data": {
      "text/plain": [
       "['hell', 'apple']"
      ]
     },
     "execution_count": 88,
     "metadata": {},
     "output_type": "execute_result"
    }
   ],
   "source": [
    "\"  hell apple  \".split()"
   ]
  },
  {
   "cell_type": "code",
   "execution_count": null,
   "id": "70645fa6-a06f-4a08-8452-0e6a0205d2cb",
   "metadata": {},
   "outputs": [],
   "source": []
  },
  {
   "cell_type": "code",
   "execution_count": null,
   "id": "ea33b218-6dd2-4fc9-9659-9fcb5d56bd9d",
   "metadata": {},
   "outputs": [],
   "source": [
    "def DataFilter(df, *filterLists):\n",
    "    \n",
    "    masks = []\n",
    "    for flts in filterLists:\n",
    "        masklist = []\n",
    "        for flt in flts:\n",
    "            masklist.append(eval( 'df.' + flt.replace(' ', '_') ))   \n",
    "           \n",
    "        if len(masklist) > 1:\n",
    "            for mask in masklist[1:]:\n",
    "                masklist[0] |= mask\n",
    "        masks.append(masklist[0])\n",
    "        \n",
    "    if len(masks) > 1:\n",
    "        for mask in masks[1:]:\n",
    "            mask[0] &= mask\n",
    "    return df[ mask[0] ]"
   ]
  },
  {
   "cell_type": "code",
   "execution_count": null,
   "id": "d5840dac-caf5-4c7c-b2a2-db8cd6293ed2",
   "metadata": {},
   "outputs": [],
   "source": []
  },
  {
   "cell_type": "code",
   "execution_count": null,
   "id": "df6707a4-a08e-4e70-b4e6-3e9d8dd83213",
   "metadata": {},
   "outputs": [],
   "source": []
  },
  {
   "cell_type": "code",
   "execution_count": null,
   "id": "f417f9ce-3291-4c20-8e32-21373ee35a4b",
   "metadata": {},
   "outputs": [],
   "source": []
  },
  {
   "cell_type": "code",
   "execution_count": null,
   "id": "8d7f5d14-f31c-4517-a5c1-88339abffa08",
   "metadata": {},
   "outputs": [],
   "source": [
    "def DataFilter(df, filterByAnd=[], filterByOr=[], filterByOr2=[]):\n",
    "    if filterByAnd:\n",
    "        for flt in filterByAnd:\n",
    "            df = df[ eval('df.' + flt.replace(' ', '_')) ]\n",
    "            \n",
    "    if filterByOr:\n",
    "        df = FilterByOr(df, [filterByOr, filterByOr2])\n",
    "        \n",
    "    return df\n",
    "\n",
    "\n",
    "def FilterByOr(df, filterLists):\n",
    "    \n",
    "    masks = []\n",
    "    for flts in filterLists:\n",
    "        masklist = []\n",
    "        for flt in flts:\n",
    "            masklist.append(eval( 'df.' + flt.replace(' ', '_') ))   \n",
    "           \n",
    "        if len(masklist) > 1:\n",
    "            for mask in masklist[1:]:\n",
    "                masklist[0] |= mask\n",
    "        masks.append(masklist[0])\n",
    "        \n",
    "    if len(masks) > 1:\n",
    "        for mask in masks[1:]:\n",
    "            mask[0] &= mask\n",
    "    return df[ mask[0] ]"
   ]
  },
  {
   "cell_type": "code",
   "execution_count": null,
   "id": "4034f85e-5a8b-4ffb-92a6-181f7d393eec",
   "metadata": {},
   "outputs": [],
   "source": []
  },
  {
   "cell_type": "code",
   "execution_count": null,
   "id": "73c4f72c-3237-4095-abb6-cbe93d5c0a4a",
   "metadata": {},
   "outputs": [],
   "source": []
  },
  {
   "cell_type": "code",
   "execution_count": 10,
   "id": "5fe53a13-944e-4b30-846b-6267c2068f4d",
   "metadata": {
    "scrolled": true,
    "tags": []
   },
   "outputs": [
    {
     "data": {
      "text/plain": [
       "array([[ 0,  1,  2,  3,  4],\n",
       "       [ 5,  6,  7,  8,  9],\n",
       "       [10, 11, 12, 13, 14],\n",
       "       [15, 16, 17, 18, 19],\n",
       "       [20, 21, 22, 23, 24],\n",
       "       [25, 26, 27, 28, 29]])"
      ]
     },
     "execution_count": 10,
     "metadata": {},
     "output_type": "execute_result"
    }
   ],
   "source": [
    "array = np.arange(30).reshape(6,5)\n",
    "array"
   ]
  },
  {
   "cell_type": "code",
   "execution_count": 11,
   "id": "9bbc2115-a994-4fd0-97e6-ff78e013fa6f",
   "metadata": {
    "scrolled": true,
    "tags": []
   },
   "outputs": [
    {
     "data": {
      "text/html": [
       "<div>\n",
       "<style scoped>\n",
       "    .dataframe tbody tr th:only-of-type {\n",
       "        vertical-align: middle;\n",
       "    }\n",
       "\n",
       "    .dataframe tbody tr th {\n",
       "        vertical-align: top;\n",
       "    }\n",
       "\n",
       "    .dataframe thead th {\n",
       "        text-align: right;\n",
       "    }\n",
       "</style>\n",
       "<table border=\"1\" class=\"dataframe\">\n",
       "  <thead>\n",
       "    <tr style=\"text-align: right;\">\n",
       "      <th></th>\n",
       "      <th>A</th>\n",
       "      <th>B</th>\n",
       "      <th>C</th>\n",
       "      <th>D</th>\n",
       "      <th>E</th>\n",
       "    </tr>\n",
       "    <tr>\n",
       "      <th>ind</th>\n",
       "      <th></th>\n",
       "      <th></th>\n",
       "      <th></th>\n",
       "      <th></th>\n",
       "      <th></th>\n",
       "    </tr>\n",
       "  </thead>\n",
       "  <tbody>\n",
       "    <tr>\n",
       "      <th>a</th>\n",
       "      <td>0</td>\n",
       "      <td>1</td>\n",
       "      <td>2</td>\n",
       "      <td>3</td>\n",
       "      <td>4</td>\n",
       "    </tr>\n",
       "    <tr>\n",
       "      <th>b</th>\n",
       "      <td>5</td>\n",
       "      <td>6</td>\n",
       "      <td>7</td>\n",
       "      <td>8</td>\n",
       "      <td>9</td>\n",
       "    </tr>\n",
       "    <tr>\n",
       "      <th>c</th>\n",
       "      <td>10</td>\n",
       "      <td>11</td>\n",
       "      <td>12</td>\n",
       "      <td>13</td>\n",
       "      <td>14</td>\n",
       "    </tr>\n",
       "    <tr>\n",
       "      <th>d</th>\n",
       "      <td>15</td>\n",
       "      <td>16</td>\n",
       "      <td>17</td>\n",
       "      <td>18</td>\n",
       "      <td>19</td>\n",
       "    </tr>\n",
       "    <tr>\n",
       "      <th>e</th>\n",
       "      <td>20</td>\n",
       "      <td>21</td>\n",
       "      <td>22</td>\n",
       "      <td>23</td>\n",
       "      <td>24</td>\n",
       "    </tr>\n",
       "    <tr>\n",
       "      <th>f</th>\n",
       "      <td>25</td>\n",
       "      <td>26</td>\n",
       "      <td>27</td>\n",
       "      <td>28</td>\n",
       "      <td>29</td>\n",
       "    </tr>\n",
       "  </tbody>\n",
       "</table>\n",
       "</div>"
      ],
      "text/plain": [
       "      A   B   C   D   E\n",
       "ind                    \n",
       "a     0   1   2   3   4\n",
       "b     5   6   7   8   9\n",
       "c    10  11  12  13  14\n",
       "d    15  16  17  18  19\n",
       "e    20  21  22  23  24\n",
       "f    25  26  27  28  29"
      ]
     },
     "execution_count": 11,
     "metadata": {},
     "output_type": "execute_result"
    }
   ],
   "source": [
    "df = pd.DataFrame(array, columns = ['A', 'B', 'C', 'D', 'E'], index = ['a', 'b','c','d','e','f']).rename_axis('ind')\n",
    "df"
   ]
  },
  {
   "cell_type": "code",
   "execution_count": null,
   "id": "02c00100-05ef-4060-b18a-5aeb695664c2",
   "metadata": {},
   "outputs": [],
   "source": []
  },
  {
   "cell_type": "code",
   "execution_count": 12,
   "id": "06fe01cd-8008-4fe8-8c5c-69a88f138bd7",
   "metadata": {},
   "outputs": [],
   "source": [
    "l1 = df.A < 15\n",
    "l2 = df.B>10\n",
    "l3 = df.B<20"
   ]
  },
  {
   "cell_type": "code",
   "execution_count": 13,
   "id": "3cb1bf8e-3e3c-47dd-9087-eef1eedb939d",
   "metadata": {},
   "outputs": [
    {
     "data": {
      "text/plain": [
       "ind\n",
       "a     True\n",
       "b     True\n",
       "c     True\n",
       "d    False\n",
       "e    False\n",
       "f    False\n",
       "Name: A, dtype: bool"
      ]
     },
     "execution_count": 13,
     "metadata": {},
     "output_type": "execute_result"
    }
   ],
   "source": [
    "l1"
   ]
  },
  {
   "cell_type": "code",
   "execution_count": 14,
   "id": "20a38a3c-25e9-4247-b2c2-21a1a46ba212",
   "metadata": {},
   "outputs": [
    {
     "data": {
      "text/plain": [
       "ind\n",
       "a    False\n",
       "b    False\n",
       "c     True\n",
       "d     True\n",
       "e     True\n",
       "f     True\n",
       "Name: B, dtype: bool"
      ]
     },
     "execution_count": 14,
     "metadata": {},
     "output_type": "execute_result"
    }
   ],
   "source": [
    "l2"
   ]
  },
  {
   "cell_type": "code",
   "execution_count": 15,
   "id": "30f97dd8-e9cf-4378-ad73-aa3ffcc636e0",
   "metadata": {},
   "outputs": [
    {
     "data": {
      "text/plain": [
       "ind\n",
       "a     True\n",
       "b     True\n",
       "c     True\n",
       "d     True\n",
       "e    False\n",
       "f    False\n",
       "Name: B, dtype: bool"
      ]
     },
     "execution_count": 15,
     "metadata": {},
     "output_type": "execute_result"
    }
   ],
   "source": [
    "l3"
   ]
  },
  {
   "cell_type": "code",
   "execution_count": 17,
   "id": "0df7badf-f036-47c5-94c4-1ac8f24b286e",
   "metadata": {},
   "outputs": [
    {
     "data": {
      "text/plain": [
       "ind\n",
       "a    True\n",
       "b    True\n",
       "c    True\n",
       "d    True\n",
       "e    True\n",
       "f    True\n",
       "dtype: bool"
      ]
     },
     "execution_count": 17,
     "metadata": {},
     "output_type": "execute_result"
    }
   ],
   "source": [
    "l1 & l2"
   ]
  },
  {
   "cell_type": "code",
   "execution_count": 18,
   "id": "a3909429-60eb-4515-9a3f-c25112c8ce3c",
   "metadata": {},
   "outputs": [
    {
     "data": {
      "text/plain": [
       "pandas.core.series.Series"
      ]
     },
     "execution_count": 18,
     "metadata": {},
     "output_type": "execute_result"
    }
   ],
   "source": [
    "type(l1)"
   ]
  },
  {
   "cell_type": "code",
   "execution_count": 19,
   "id": "1f33ec8d-9330-4b22-a9e6-a542a91a127a",
   "metadata": {},
   "outputs": [
    {
     "data": {
      "text/plain": [
       "pandas.core.series.Series"
      ]
     },
     "execution_count": 19,
     "metadata": {},
     "output_type": "execute_result"
    }
   ],
   "source": [
    "type(df.A)"
   ]
  },
  {
   "cell_type": "code",
   "execution_count": null,
   "id": "c94ce8ae-0f70-49d8-9c59-9e05235df084",
   "metadata": {},
   "outputs": [],
   "source": []
  }
 ],
 "metadata": {
  "kernelspec": {
   "display_name": "Python 3 (ipykernel)",
   "language": "python",
   "name": "python3"
  },
  "language_info": {
   "codemirror_mode": {
    "name": "ipython",
    "version": 3
   },
   "file_extension": ".py",
   "mimetype": "text/x-python",
   "name": "python",
   "nbconvert_exporter": "python",
   "pygments_lexer": "ipython3",
   "version": "3.7.3"
  }
 },
 "nbformat": 4,
 "nbformat_minor": 5
}
