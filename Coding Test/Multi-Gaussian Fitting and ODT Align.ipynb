{
 "cells": [
  {
   "cell_type": "code",
   "execution_count": 1,
   "id": "82312ef2",
   "metadata": {},
   "outputs": [],
   "source": [
    "%load_ext autoreload"
   ]
  },
  {
   "cell_type": "code",
   "execution_count": 2,
   "id": "d44e6cb4",
   "metadata": {},
   "outputs": [],
   "source": [
    "%autoreload 2"
   ]
  },
  {
   "cell_type": "code",
   "execution_count": 3,
   "id": "5efd5ea4",
   "metadata": {},
   "outputs": [
    {
     "name": "stdout",
     "output_type": "stream",
     "text": [
      "C:\\Users\\Sommer Lab\\Documents\\Analysis Code\n"
     ]
    }
   ],
   "source": [
    "cd .."
   ]
  },
  {
   "cell_type": "code",
   "execution_count": 237,
   "id": "8a49cd0d",
   "metadata": {},
   "outputs": [],
   "source": [
    "import sys\n",
    "# sys.path.append(r'C:\\Users\\Sommer Lab\\Documents\\Analysis Code')\n",
    "import os\n",
    "from scipy.optimize import curve_fit\n",
    "from scipy.ndimage import rotate\n",
    "from scipy.integrate import simpson\n",
    "\n",
    "from ImageAnalysis import ImageAnalysisCode\n",
    "import numpy as np\n",
    "import matplotlib.pyplot as plt\n",
    "import pandas as pd"
   ]
  },
  {
   "cell_type": "code",
   "execution_count": 240,
   "id": "b9614c6a-5511-44d5-b0db-e6df7ba504b9",
   "metadata": {},
   "outputs": [],
   "source": [
    "from scipy import signal\n",
    "from scipy.ndimage import gaussian_filter1d\n",
    "from skimage.filters import threshold_otsu\n",
    "import pickle"
   ]
  },
  {
   "cell_type": "code",
   "execution_count": null,
   "id": "b9c66dd6-aad0-4f29-b1aa-c851789b83d2",
   "metadata": {},
   "outputs": [],
   "source": []
  },
  {
   "cell_type": "code",
   "execution_count": 340,
   "id": "ba849885-1e01-432e-b331-b516a9b0d4cc",
   "metadata": {},
   "outputs": [],
   "source": [
    "plt.rcParams['figure.figsize'] = [10,8]\n",
    "plt.rcParams['image.cmap'] = 'jet'\n",
    "plt.rcParams['image.interpolation'] = 'nearest'"
   ]
  },
  {
   "cell_type": "code",
   "execution_count": null,
   "id": "5516ae72-5c78-4730-93e4-9eb199fe3c94",
   "metadata": {},
   "outputs": [],
   "source": []
  },
  {
   "cell_type": "code",
   "execution_count": 5,
   "id": "c0526654",
   "metadata": {},
   "outputs": [],
   "source": [
    "def Gaussian(x, amp, center, w, offset=0):\n",
    "    return amp * np.exp(-0.5*(x-center)**2/w**2) + offset"
   ]
  },
  {
   "cell_type": "code",
   "execution_count": 6,
   "id": "229a7688",
   "metadata": {},
   "outputs": [],
   "source": [
    "def DoubleGaussian(x, amp1, amp2, center1, center2, width1, width2, offset):    \n",
    "    g1 = Gaussian(x, amp1, center1, width1)\n",
    "    g2 = Gaussian(x, amp2, center2, width2)\n",
    "    return g1 + g2 + offset"
   ]
  },
  {
   "cell_type": "code",
   "execution_count": 147,
   "id": "4e3e50ae",
   "metadata": {},
   "outputs": [],
   "source": [
    "def MultiGaussian(x, *params):\n",
    "    L = len(params)        \n",
    "    if  L % 3 != 1:\n",
    "        raise TypeError('The number of parameters provided to MultiGaussian() besides x variable should be 3N+1, N is the number of Gaussian curves.')\n",
    "\n",
    "    result = np.zeros(len(x))\n",
    "    N = L//3\n",
    "    \n",
    "    for n in range(N):\n",
    "        result += Gaussian(x, *params[n:-1:N])\n",
    "        # print(params[n:-1:N])\n",
    "    return result + params[-1]\n",
    "        "
   ]
  },
  {
   "cell_type": "code",
   "execution_count": 470,
   "id": "f4346a75-bca0-4d17-84f7-faec2efcd841",
   "metadata": {},
   "outputs": [],
   "source": [
    "def plotMultiGaussian(x, *params):\n",
    "    L = len(params)        \n",
    "    if  L % 3 != 1:\n",
    "        raise TypeError('The number of parameters provided to MultiGaussian() besides x variable should be 3N+1, N is the number of Gaussian curves.')\n",
    "\n",
    "    N = L//3\n",
    "    \n",
    "    for n in range(N):\n",
    "        plt.plot(Gaussian(x, *params[n:-1:N], params[-1]/N), label=['{:.2f}'.format(ii) for ii in params[n:-1:N]])\n",
    "    plt.legend()\n",
    "        # print(params[n:-1:N])"
   ]
  },
  {
   "cell_type": "code",
   "execution_count": 29,
   "id": "7a435d39",
   "metadata": {},
   "outputs": [],
   "source": [
    "def fitDoubleGaussian(data, xdata=None, dx=1,\n",
    "                      subtract_bg = True, signal_feature = 'wide', signal_width=10, fitbgDeg=5):\n",
    "    \n",
    "    if subtract_bg:\n",
    "        bg = ImageAnalysisCode.fitbg(data, signal_feature=signal_feature, signal_width=signal_width, fitbgDeg=fitbgDeg) \n",
    "        data = data - bg        \n",
    "        offset = 0\n",
    "    else:\n",
    "        offset = min( data[:10].mean(), data[-10:].mean() )\n",
    "    \n",
    "    peaks, properties = signal.find_peaks(data, \n",
    "#                                    prominence=0.1*(data.max()-data.min()), \n",
    "                                   width=3\n",
    "                                  )\n",
    "    \n",
    "    print(peaks)\n",
    "\n",
    "    #initial guess:\n",
    "    widths = (properties['right_ips'] - properties['left_ips']) / 2\n",
    "    guess = [*properties['prominences'], *peaks, *widths, offset]\n",
    "    \n",
    "    if xdata is None:\n",
    "        xdata = np.arange( len(data) )\n",
    "    \n",
    "    try:\n",
    "        popt, _ = curve_fit(DoubleGaussian, xdata, data, p0 = guess\n",
    "                            , bounds=([0]*6 + [-np.inf], [np.inf]*7)\n",
    "                            )\n",
    "        \n",
    "    except Exception as e:\n",
    "        print(e)\n",
    "        return None    \n",
    "    \n",
    "    return popt\n"
   ]
  },
  {
   "cell_type": "code",
   "execution_count": 735,
   "id": "d9bf2120",
   "metadata": {},
   "outputs": [],
   "source": [
    "def fitMultiGaussian(data, xdata=None, dx=1, NoOfModel='auto', \n",
    "                     subtract_bg=0, signal_feature='wide', signal_width=10, fitbgDeg=5,\n",
    "                     amp=1, width=3, denoise=0):\n",
    "    \n",
    "    if subtract_bg:\n",
    "        bg = ImageAnalysisCode.fitbg(data, signal_feature=signal_feature, signal_width=signal_width, fitbgDeg=fitbgDeg) \n",
    "        data = data - bg        \n",
    "        offset = 0\n",
    "    else:\n",
    "        offset = min( data[:10].mean(), data[-10:].mean() )\n",
    "    \n",
    "    peaks, properties = DetectPeaks(data, amp, width, denoise)\n",
    "    \n",
    "    #initial guess:\n",
    "    amps = properties['width_heights'] + properties['prominences'] / 2\n",
    "    widths = (properties['right_ips'] - properties['left_ips']) / 2    \n",
    "    \n",
    "    N = len(peaks)\n",
    "    # print(peaks)\n",
    "    if NoOfModel != 'auto' and NoOfModel > N:\n",
    "        D = NoOfModel - N\n",
    "        N = NoOfModel\n",
    "        amps = np.concatenate( (amps, [amps.mean()]*D) )\n",
    "        peaks = np.concatenate( (peaks, [int(amps.mean()-20)]*D) )\n",
    "        widths = np.concatenate( (widths, [int(widths.mean())]*D) )\n",
    "\n",
    "    guess = [*amps, *peaks, *widths, offset]\n",
    "    \n",
    "    if xdata is None:\n",
    "        xdata = np.arange( len(data) )\n",
    "    \n",
    "    try:\n",
    "        minamps = 0.1*(data.max()-data.min())\n",
    "        popt, _ = curve_fit(MultiGaussian, xdata, data, p0 = guess,\n",
    "                            bounds=([minamps]*N + [0]*N + [3]*N + [-np.inf], [np.inf]*(3*N+1))\n",
    "                            )\n",
    "        \n",
    "    except Exception as e:\n",
    "        print(e)\n",
    "        return None    \n",
    "    popt[2:-1] *= dx\n",
    "    return popt"
   ]
  },
  {
   "cell_type": "code",
   "execution_count": null,
   "id": "4b579f6b-6725-4416-825b-484701767ff4",
   "metadata": {},
   "outputs": [],
   "source": []
  },
  {
   "cell_type": "code",
   "execution_count": 740,
   "id": "bb1b67ca",
   "metadata": {},
   "outputs": [],
   "source": [
    "def DetectPeaks(yy, amp=1, width=3, denoise=0, doPlot=0):\n",
    "    \n",
    "    yycopy = yy.copy()\n",
    "    \n",
    "    if denoise:\n",
    "        yycopy = gaussian_filter1d(yy, 3)\n",
    "    \n",
    "    # Determine the background with the otsu method and set to 0.\n",
    "    thr = threshold_otsu(yycopy)\n",
    "    yycopy[yycopy < thr] = 0    \n",
    "\n",
    "    peaks, properties = signal.find_peaks(yycopy, prominence=amp*0.01*(yycopy.max()-yycopy.min()), width=width)\n",
    "\n",
    "    if doPlot:\n",
    "        plt.plot(yy, '--')\n",
    "        plt.plot(yycopy, '.g')\n",
    "        plt.vlines(x=peaks, ymin=yy[peaks] - properties[\"prominences\"],\n",
    "                   ymax = yy[peaks], color = \"C1\")\n",
    "        plt.hlines(y=properties[\"width_heights\"], xmin=properties[\"left_ips\"],\n",
    "                   xmax=properties[\"right_ips\"], color = \"C1\")\n",
    "    return peaks, properties\n"
   ]
  },
  {
   "cell_type": "markdown",
   "id": "f9228e87-1dc5-499c-86e6-c87fe5739335",
   "metadata": {
    "tags": []
   },
   "source": [
    "### Generate signal"
   ]
  },
  {
   "cell_type": "code",
   "execution_count": 704,
   "id": "8da3797d-e9e8-4edc-93d2-1c431fe2d214",
   "metadata": {},
   "outputs": [
    {
     "data": {
      "text/plain": [
       "array([ 22,  26,  90, 120,   8,  10,   0])"
      ]
     },
     "execution_count": 704,
     "metadata": {},
     "output_type": "execute_result"
    }
   ],
   "source": [
    "p1 = [12, 27, 7]\n",
    "p2 = [11, 45, 4]\n",
    "p3 = [13, 60, 5]\n",
    "offset = 0\n",
    "\n",
    "pp = list(zip( p2, p3))\n",
    "params = ()\n",
    "for p in pp:\n",
    "    params += p\n",
    "params += (offset,)\n",
    "params = np.array(params) *2\n",
    "params"
   ]
  },
  {
   "cell_type": "code",
   "execution_count": 705,
   "id": "5f13433a-5932-46f1-9257-d1b8c44d762f",
   "metadata": {},
   "outputs": [],
   "source": [
    "xx = np.arange(200)"
   ]
  },
  {
   "cell_type": "code",
   "execution_count": 706,
   "id": "99b5677a-05a7-4a27-a3c6-bd030164e080",
   "metadata": {},
   "outputs": [],
   "source": [
    "yy = MultiGaussian(xx, *params) + np.random.random(len(xx))*2"
   ]
  },
  {
   "cell_type": "code",
   "execution_count": 707,
   "id": "f1c553ef-be53-48c3-b5f5-5aae74d27081",
   "metadata": {},
   "outputs": [
    {
     "data": {
      "image/png": "[encoded data removed]",
      "text/plain": [
       "<Figure size 720x576 with 1 Axes>"
      ]
     },
     "metadata": {
      "needs_background": "light"
     },
     "output_type": "display_data"
    }
   ],
   "source": [
    "plt.plot(yy)\n",
    "plotMultiGaussian(xx, *params)\n",
    "plt.ylim([0, None]);"
   ]
  },
  {
   "cell_type": "markdown",
   "id": "5e6b2bc2-9ffa-4b98-b9cd-f90b72651de9",
   "metadata": {},
   "source": [
    "### Detect peaks directly"
   ]
  },
  {
   "cell_type": "code",
   "execution_count": 736,
   "id": "25736124-14ae-4827-baec-adada6cc2f77",
   "metadata": {},
   "outputs": [
    {
     "data": {
      "text/plain": [
       "(array([121], dtype=int64),\n",
       " {'prominences': array([26.9147696]),\n",
       "  'left_bases': array([79], dtype=int64),\n",
       "  'right_bases': array([135], dtype=int64),\n",
       "  'widths': array([25.43304603]),\n",
       "  'width_heights': array([13.4573848]),\n",
       "  'left_ips': array([106.82949271]),\n",
       "  'right_ips': array([132.26253874])})"
      ]
     },
     "execution_count": 736,
     "metadata": {},
     "output_type": "execute_result"
    },
    {
     "data": {
      "image/png": "[encoded data removed]",
      "text/plain": [
       "<Figure size 720x576 with 1 Axes>"
      ]
     },
     "metadata": {
      "needs_background": "light"
     },
     "output_type": "display_data"
    }
   ],
   "source": [
    "DetectPeaks(yy, doPlot=1)"
   ]
  },
  {
   "cell_type": "markdown",
   "id": "1dadd466-897b-49b4-acc8-f086001265bb",
   "metadata": {},
   "source": [
    "### Fit the curve"
   ]
  },
  {
   "cell_type": "code",
   "execution_count": 737,
   "id": "261a7754-b090-4334-8648-d8cdd72c4c5d",
   "metadata": {},
   "outputs": [
    {
     "data": {
      "text/plain": [
       "array([ 2.32816422e+01,  2.69103666e+00,  1.08813806e+02,  1.13021726e-12,\n",
       "        2.25338976e+01,  2.58756968e+01, -5.09055248e-01])"
      ]
     },
     "execution_count": 737,
     "metadata": {},
     "output_type": "execute_result"
    }
   ],
   "source": [
    "popt = fitMultiGaussian(yy, \n",
    "                        NoOfModel=2\n",
    "                       )\n",
    "popt"
   ]
  },
  {
   "cell_type": "code",
   "execution_count": 738,
   "id": "59dde2f0-0805-4225-9a2e-74c71687a986",
   "metadata": {},
   "outputs": [
    {
     "data": {
      "image/png": "[encoded data removed]",
      "text/plain": [
       "<Figure size 720x576 with 1 Axes>"
      ]
     },
     "metadata": {
      "needs_background": "light"
     },
     "output_type": "display_data"
    }
   ],
   "source": [
    "plt.plot(yy)\n",
    "plotMultiGaussian(xx, *popt)"
   ]
  },
  {
   "cell_type": "code",
   "execution_count": null,
   "id": "ffd7c753-42b2-4639-adfa-afc5717f6767",
   "metadata": {},
   "outputs": [],
   "source": []
  },
  {
   "cell_type": "code",
   "execution_count": 405,
   "id": "52627462-34e7-415c-ae29-7058be1d958a",
   "metadata": {},
   "outputs": [
    {
     "ename": "SyntaxError",
     "evalue": "invalid syntax (Temp/ipykernel_26392/3080409042.py, line 1)",
     "output_type": "error",
     "traceback": [
      "\u001b[1;36m  File \u001b[1;32m\"C:\\Users\\SOMMER~1\\AppData\\Local\\Temp/ipykernel_26392/3080409042.py\"\u001b[1;36m, line \u001b[1;32m1\u001b[0m\n\u001b[1;33m    if (N = 5-3) > 0:\u001b[0m\n\u001b[1;37m          ^\u001b[0m\n\u001b[1;31mSyntaxError\u001b[0m\u001b[1;31m:\u001b[0m invalid syntax\n"
     ]
    }
   ],
   "source": [
    "if (N = 5-3) > 0:\n",
    "    print('asdf')"
   ]
  },
  {
   "cell_type": "markdown",
   "id": "fb5f822a-ffde-42e9-bbec-7b1bd17de3ee",
   "metadata": {},
   "source": [
    "### Try filter the signal"
   ]
  },
  {
   "cell_type": "code",
   "execution_count": 272,
   "id": "fb75e89e-a7c9-43b2-bb56-c709cd65b029",
   "metadata": {},
   "outputs": [],
   "source": [
    "sos = signal.iirfilter(1, Wn=0.5, fs=30, btype=\"lowpass\",\n",
    "                             ftype=\"butter\", output=\"sos\")\n",
    "yfilt = signal.sosfilt(sos, yy)"
   ]
  },
  {
   "cell_type": "code",
   "execution_count": 276,
   "id": "153077b9-3c9c-4f3e-9d32-bac3dd5d8a56",
   "metadata": {},
   "outputs": [],
   "source": [
    "ygau = gaussian_filter1d(yy, 5)"
   ]
  },
  {
   "cell_type": "code",
   "execution_count": 277,
   "id": "9da719c3-c891-499e-887e-a732fdda56f3",
   "metadata": {},
   "outputs": [
    {
     "data": {
      "text/plain": [
       "(array([21, 67, 81], dtype=int64),\n",
       " {'prominences': array([10.17415034,  0.02593261,  0.03219542]),\n",
       "  'left_bases': array([ 0, 61, 74], dtype=int64),\n",
       "  'right_bases': array([89, 89, 89], dtype=int64),\n",
       "  'widths': array([23.04469274,  5.78058962,  6.07966234]),\n",
       "  'width_heights': array([7.19306801, 0.4404464 , 0.42685151]),\n",
       "  'left_ips': array([ 9.49169803, 63.81529345, 77.46601848]),\n",
       "  'right_ips': array([32.53639077, 69.59588306, 83.54568082])})"
      ]
     },
     "execution_count": 277,
     "metadata": {},
     "output_type": "execute_result"
    },
    {
     "data": {
      "image/png": "[encoded data removed]",
      "text/plain": [
       "<Figure size 720x576 with 1 Axes>"
      ]
     },
     "metadata": {
      "needs_background": "light"
     },
     "output_type": "display_data"
    }
   ],
   "source": [
    "DetectPeaksAndPlot(ygau)"
   ]
  },
  {
   "cell_type": "code",
   "execution_count": null,
   "id": "35bd2787-6950-43fe-85fd-1857daa32337",
   "metadata": {},
   "outputs": [],
   "source": []
  },
  {
   "cell_type": "code",
   "execution_count": 225,
   "id": "9444c079-ce85-4b67-b09a-28f99ce9dcc7",
   "metadata": {
    "tags": []
   },
   "outputs": [
    {
     "name": "stdout",
     "output_type": "stream",
     "text": [
      "[23 56 88]\n"
     ]
    },
    {
     "data": {
      "text/plain": [
       "(array([23, 56, 88], dtype=int64),\n",
       " {'prominences': array([11.66898459,  0.05494279,  0.06060299]),\n",
       "  'left_bases': array([ 0, 50, 68], dtype=int64),\n",
       "  'right_bases': array([68, 68, 93], dtype=int64),\n",
       "  'widths': array([23.6418334 ,  6.548183  ,  5.34187555]),\n",
       "  'width_heights': array([6.80551404, 0.51166772, 0.50996244]),\n",
       "  'left_ips': array([ 9.14573299, 53.12632844, 85.28293735]),\n",
       "  'right_ips': array([32.78756639, 59.67451145, 90.62481289])})"
      ]
     },
     "execution_count": 225,
     "metadata": {},
     "output_type": "execute_result"
    },
    {
     "data": {
      "image/png": "[encoded data removed]",
      "text/plain": [
       "<Figure size 1080x720 with 1 Axes>"
      ]
     },
     "metadata": {
      "needs_background": "light"
     },
     "output_type": "display_data"
    }
   ],
   "source": [
    "DetectPeaksAndPlot(yy, smooth=1)"
   ]
  },
  {
   "cell_type": "code",
   "execution_count": null,
   "id": "bcaa0841-2f82-4f0b-a50e-d925a80e97c9",
   "metadata": {},
   "outputs": [],
   "source": []
  },
  {
   "cell_type": "code",
   "execution_count": null,
   "id": "2e930ce3-0a7d-429a-9c34-e2d635be3c3e",
   "metadata": {},
   "outputs": [],
   "source": []
  },
  {
   "cell_type": "code",
   "execution_count": null,
   "id": "0bf78110-f952-4c3f-88c4-20968da95f18",
   "metadata": {},
   "outputs": [],
   "source": []
  },
  {
   "cell_type": "code",
   "execution_count": 279,
   "id": "cf5750f3",
   "metadata": {},
   "outputs": [
    {
     "name": "stdout",
     "output_type": "stream",
     "text": [
      "[26]\n"
     ]
    },
    {
     "data": {
      "text/plain": [
       "array([14.02329725, 21.03639862,  9.18481074,  0.29910791])"
      ]
     },
     "execution_count": 279,
     "metadata": {},
     "output_type": "execute_result"
    }
   ],
   "source": [
    "popt = fitMultiGaussian(yy, xx, subtract_bg=0)\n",
    "popt"
   ]
  },
  {
   "cell_type": "code",
   "execution_count": 280,
   "id": "30d00b30",
   "metadata": {},
   "outputs": [
    {
     "data": {
      "image/png": "[encoded data removed]",
      "text/plain": [
       "<Figure size 720x576 with 1 Axes>"
      ]
     },
     "metadata": {
      "needs_background": "light"
     },
     "output_type": "display_data"
    }
   ],
   "source": [
    "xx = np.arange(0,100)\n",
    "plt.plot( xx, MultiGaussian(xx, *popt) )\n",
    "plt.plot( xx, yy, '.')\n",
    "\n",
    "plotMultiGaussian( xx, *popt )"
   ]
  },
  {
   "cell_type": "code",
   "execution_count": 50,
   "id": "30324d41",
   "metadata": {},
   "outputs": [
    {
     "name": "stdout",
     "output_type": "stream",
     "text": [
      "0\n",
      "3\n",
      "6\n"
     ]
    }
   ],
   "source": [
    "for ii in range(0,9,3):\n",
    "    print(ii)"
   ]
  },
  {
   "cell_type": "code",
   "execution_count": 26,
   "id": "fa828352",
   "metadata": {},
   "outputs": [],
   "source": [
    "aa"
   ]
  },
  {
   "cell_type": "code",
   "execution_count": 36,
   "id": "06337c80",
   "metadata": {},
   "outputs": [
    {
     "name": "stdout",
     "output_type": "stream",
     "text": [
      "name 'runoob' is not defined\n",
      "这句话，无论异常是否发生都会执行。\n"
     ]
    }
   ],
   "source": [
    "try:\n",
    "    runoob()\n",
    "except NameError as error:\n",
    "    print(error)\n",
    "else:\n",
    "    try:\n",
    "        with open('file.log') as file:\n",
    "            read_data = file.read()\n",
    "    except FileNotFoundError as fnf_error:\n",
    "        print(fnf_error)\n",
    "finally:\n",
    "    print('这句话，无论异常是否发生都会执行。')\n"
   ]
  },
  {
   "cell_type": "code",
   "execution_count": 31,
   "id": "a08fdbec",
   "metadata": {},
   "outputs": [
    {
     "name": "stdout",
     "output_type": "stream",
     "text": [
      "这句话，无论异常是否发生都会执行。\n"
     ]
    },
    {
     "ename": "NameError",
     "evalue": "name 'runoob' is not defined",
     "output_type": "error",
     "traceback": [
      "\u001b[1;31m---------------------------------------------------------------------------\u001b[0m",
      "\u001b[1;31mNameError\u001b[0m                                 Traceback (most recent call last)",
      "\u001b[1;32mC:\\Users\\SOMMER~1\\AppData\\Local\\Temp/ipykernel_35052/276163388.py\u001b[0m in \u001b[0;36m<module>\u001b[1;34m\u001b[0m\n\u001b[0;32m      1\u001b[0m \u001b[1;32mtry\u001b[0m\u001b[1;33m:\u001b[0m\u001b[1;33m\u001b[0m\u001b[1;33m\u001b[0m\u001b[0m\n\u001b[1;32m----> 2\u001b[1;33m     \u001b[0mrunoob\u001b[0m\u001b[1;33m(\u001b[0m\u001b[1;33m)\u001b[0m\u001b[1;33m\u001b[0m\u001b[1;33m\u001b[0m\u001b[0m\n\u001b[0m\u001b[0;32m      3\u001b[0m \u001b[1;32mexcept\u001b[0m \u001b[0mAssertionError\u001b[0m \u001b[1;32mas\u001b[0m \u001b[0merror\u001b[0m\u001b[1;33m:\u001b[0m\u001b[1;33m\u001b[0m\u001b[1;33m\u001b[0m\u001b[0m\n\u001b[0;32m      4\u001b[0m     \u001b[0mprint\u001b[0m\u001b[1;33m(\u001b[0m\u001b[0merror\u001b[0m\u001b[1;33m)\u001b[0m\u001b[1;33m\u001b[0m\u001b[1;33m\u001b[0m\u001b[0m\n\u001b[0;32m      5\u001b[0m \u001b[1;32melse\u001b[0m\u001b[1;33m:\u001b[0m\u001b[1;33m\u001b[0m\u001b[1;33m\u001b[0m\u001b[0m\n",
      "\u001b[1;31mNameError\u001b[0m: name 'runoob' is not defined"
     ]
    }
   ],
   "source": [
    "try:\n",
    "    runoob()\n",
    "except AssertionError as error:\n",
    "    print(error)\n",
    "else:\n",
    "    try:\n",
    "        with open('file.log') as file:\n",
    "            read_data = file.read()\n",
    "    except FileNotFoundError as fnf_error:\n",
    "        print(fnf_error)\n",
    "finally:\n",
    "    print('这句话，无论异常是否发生都会执行。')"
   ]
  },
  {
   "cell_type": "code",
   "execution_count": null,
   "id": "8d395940-295a-466b-a82e-d9b659dc9470",
   "metadata": {},
   "outputs": [],
   "source": []
  },
  {
   "cell_type": "code",
   "execution_count": 333,
   "id": "fd0db290-3e56-4842-8d99-a4f35799c2ea",
   "metadata": {},
   "outputs": [],
   "source": [
    "f = r'D:\\Dropbox (Lehigh University)\\Sommer Lab Shared\\Data\\2024\\03-2024\\06 Mar 2024\\Basler\\ODT 1900 Align'"
   ]
  },
  {
   "cell_type": "code",
   "execution_count": 334,
   "id": "1d003dab-e0d6-4c3b-9255-62f121934a01",
   "metadata": {},
   "outputs": [],
   "source": [
    "# Load the Basler pictures\n",
    "data_folder_Basler = f\n",
    "files = os.listdir(data_folder_Basler)\n",
    "fileNo = len(files)\n",
    "\n",
    "imgs_Basler = []\n",
    "for file in files:\n",
    "    path = os.path.join(data_folder_Basler, file)\n",
    "    imgs_Basler.append( plt.imread(path)[...,0] )\n",
    "imgs_Basler = np.array(imgs_Basler)"
   ]
  },
  {
   "cell_type": "code",
   "execution_count": 336,
   "id": "113cfbe0-3e6c-4a6b-bfd6-131f48e231b4",
   "metadata": {},
   "outputs": [
    {
     "data": {
      "text/plain": [
       "['-1.png',\n",
       " '-2.png',\n",
       " '-3.png',\n",
       " '-4.png',\n",
       " '-5.png',\n",
       " '1.png',\n",
       " '2.png',\n",
       " '3.png',\n",
       " '4.png',\n",
       " '5.png']"
      ]
     },
     "execution_count": 336,
     "metadata": {},
     "output_type": "execute_result"
    }
   ],
   "source": [
    "files"
   ]
  },
  {
   "cell_type": "code",
   "execution_count": 343,
   "id": "029d5fd2-1eab-48df-9091-d38648ece4ba",
   "metadata": {},
   "outputs": [
    {
     "data": {
      "text/plain": [
       "(1530.0, 1700.0)"
      ]
     },
     "execution_count": 343,
     "metadata": {},
     "output_type": "execute_result"
    },
    {
     "data": {
      "image/png": "[encoded data removed]",
      "text/plain": [
       "<Figure size 720x576 with 1 Axes>"
      ]
     },
     "metadata": {
      "needs_background": "light"
     },
     "output_type": "display_data"
    }
   ],
   "source": [
    "plt.imshow(imgs_Basler[-1])\n",
    "plt.xlim([2350, 2500])\n",
    "plt.ylim([1530, 1700])"
   ]
  },
  {
   "cell_type": "code",
   "execution_count": null,
   "id": "e86bff3a-fcda-42f8-a175-755f3842ef6a",
   "metadata": {},
   "outputs": [],
   "source": []
  },
  {
   "cell_type": "code",
   "execution_count": 335,
   "id": "eb11501d-30c0-4832-a0f0-39be7051e1ef",
   "metadata": {},
   "outputs": [
    {
     "data": {
      "text/plain": [
       "array([[2.83415415e+01, 1.84579114e+03, 3.24082751e+01, 5.95910948e+00],\n",
       "       [2.69301596e+01, 1.80603180e+03, 3.36630482e+01, 6.27776447e+00],\n",
       "       [2.59713545e+01, 1.75720073e+03, 3.39320467e+01, 6.54570998e+00],\n",
       "       [2.59020711e+01, 1.90065504e+03, 3.41534324e+01, 1.02083250e+00]])"
      ]
     },
     "execution_count": 335,
     "metadata": {},
     "output_type": "execute_result"
    }
   ],
   "source": [
    "np.array(popt_Basler)"
   ]
  },
  {
   "cell_type": "code",
   "execution_count": 330,
   "id": "e6058a5c-4bb8-4c48-8796-017480a9441e",
   "metadata": {},
   "outputs": [
    {
     "data": {
      "image/png": "[encoded data removed]",
      "text/plain": [
       "<Figure size 720x576 with 4 Axes>"
      ]
     },
     "metadata": {
      "needs_background": "light"
     },
     "output_type": "display_data"
    }
   ],
   "source": [
    "# Fit 1-D picture\n",
    "imgs_oneD = imgs_Basler.sum(axis=1)\n",
    "\n",
    "popt_Basler=[]\n",
    "for ii in imgs_oneD:\n",
    "    popt = ImageAnalysisCode.fitSingleGaussian(ii, signal_feature='narrow')\n",
    "    popt_Basler.append(popt)\n",
    "\n",
    "if 1:\n",
    "    xx = np.arange(len(imgs_oneD[0]))\n",
    "    fig, axes = plt.subplots(fileNo, 1, sharex=True, layout='constrained')\n",
    "    for ii in range(fileNo):\n",
    "        \n",
    "        axes[ii].plot(imgs_oneD[ii], '.')\n",
    "        axes[ii].plot(xx, ImageAnalysisCode.Gaussian(xx, *popt_Basler[ii]))\n",
    "        axes[ii].text(0.9,0.9, files[ii], transform=axes[ii].transAxes)\n",
    "\n",
    "    c, w = np.array(popt_Basler).mean(axis=0)[1:-1]\n",
    "    axes[-1].set(xlim=[c-7*w, c+7*w])\n",
    "        "
   ]
  },
  {
   "cell_type": "code",
   "execution_count": 249,
   "id": "a362f7e7-16d1-4c21-abf2-cf764d4701a3",
   "metadata": {},
   "outputs": [
    {
     "data": {
      "text/html": [
       "<div>\n",
       "<style scoped>\n",
       "    .dataframe tbody tr th:only-of-type {\n",
       "        vertical-align: middle;\n",
       "    }\n",
       "\n",
       "    .dataframe tbody tr th {\n",
       "        vertical-align: top;\n",
       "    }\n",
       "\n",
       "    .dataframe thead th {\n",
       "        text-align: right;\n",
       "    }\n",
       "</style>\n",
       "<table border=\"1\" class=\"dataframe\">\n",
       "  <thead>\n",
       "    <tr style=\"text-align: right;\">\n",
       "      <th></th>\n",
       "      <th>center_Basler</th>\n",
       "    </tr>\n",
       "    <tr>\n",
       "      <th>ODT_Misalign</th>\n",
       "      <th></th>\n",
       "    </tr>\n",
       "  </thead>\n",
       "  <tbody>\n",
       "    <tr>\n",
       "      <th>-1</th>\n",
       "      <td>1845.791141</td>\n",
       "    </tr>\n",
       "    <tr>\n",
       "      <th>-2</th>\n",
       "      <td>1806.031805</td>\n",
       "    </tr>\n",
       "    <tr>\n",
       "      <th>-3</th>\n",
       "      <td>1757.200734</td>\n",
       "    </tr>\n",
       "    <tr>\n",
       "      <th>0</th>\n",
       "      <td>1900.655037</td>\n",
       "    </tr>\n",
       "  </tbody>\n",
       "</table>\n",
       "</div>"
      ],
      "text/plain": [
       "              center_Basler\n",
       "ODT_Misalign               \n",
       "-1              1845.791141\n",
       "-2              1806.031805\n",
       "-3              1757.200734\n",
       " 0              1900.655037"
      ]
     },
     "execution_count": 249,
     "metadata": {},
     "output_type": "execute_result"
    }
   ],
   "source": [
    "# Extract the position of the light and the misalign value into a pd dataframe        \n",
    "center_Basler = [ii[1] for ii in popt_Basler]\n",
    "odtMisalign = [ int(ii.split('.')[0]) for ii in files]\n",
    "\n",
    "dfBasler = pd.DataFrame({'ODT_Misalign': odtMisalign, 'center_Basler': center_Basler}).set_index('ODT_Misalign')\n",
    "dfBasler"
   ]
  },
  {
   "cell_type": "code",
   "execution_count": 250,
   "id": "78cf5e95-99c0-48cc-b5a7-a840dee839b2",
   "metadata": {},
   "outputs": [],
   "source": [
    "dfZyla = r'C:\\Users\\Sommer Lab\\Documents\\Analysis Code\\Applications\\testdata.pkl'\n",
    "with open(dfZyla, 'rb') as f:\n",
    "    results = pickle.load(f)"
   ]
  },
  {
   "cell_type": "code",
   "execution_count": 251,
   "id": "0f1bac34-fb0e-4c0a-8182-b6aa1107e563",
   "metadata": {},
   "outputs": [
    {
     "data": {
      "text/html": [
       "<div>\n",
       "<style scoped>\n",
       "    .dataframe tbody tr th:only-of-type {\n",
       "        vertical-align: middle;\n",
       "    }\n",
       "\n",
       "    .dataframe tbody tr th {\n",
       "        vertical-align: top;\n",
       "    }\n",
       "\n",
       "    .dataframe thead th {\n",
       "        text-align: right;\n",
       "    }\n",
       "</style>\n",
       "<table border=\"1\" class=\"dataframe\">\n",
       "  <thead>\n",
       "    <tr style=\"text-align: right;\">\n",
       "      <th></th>\n",
       "      <th>Ycenter</th>\n",
       "    </tr>\n",
       "    <tr>\n",
       "      <th>ODT_Misalign</th>\n",
       "      <th></th>\n",
       "    </tr>\n",
       "  </thead>\n",
       "  <tbody>\n",
       "    <tr>\n",
       "      <th>0.0</th>\n",
       "      <td>[382.9721439764404]</td>\n",
       "    </tr>\n",
       "    <tr>\n",
       "      <th>-1.0</th>\n",
       "      <td>[380.17676368297754, 452.756021836862]</td>\n",
       "    </tr>\n",
       "    <tr>\n",
       "      <th>-2.0</th>\n",
       "      <td>[381.3833965450697, 508.6660571020489]</td>\n",
       "    </tr>\n",
       "    <tr>\n",
       "      <th>-3.0</th>\n",
       "      <td>[381.13283594356477, 563.9592504558186]</td>\n",
       "    </tr>\n",
       "    <tr>\n",
       "      <th>1.0</th>\n",
       "      <td>[327.11750361947503, 380.0572463490169]</td>\n",
       "    </tr>\n",
       "    <tr>\n",
       "      <th>2.0</th>\n",
       "      <td>[203.15162636822555, 380.0017724823788]</td>\n",
       "    </tr>\n",
       "    <tr>\n",
       "      <th>3.0</th>\n",
       "      <td>[152.24396992124946, 380.969665904088]</td>\n",
       "    </tr>\n",
       "  </tbody>\n",
       "</table>\n",
       "</div>"
      ],
      "text/plain": [
       "                                              Ycenter\n",
       "ODT_Misalign                                         \n",
       " 0.0                              [382.9721439764404]\n",
       "-1.0           [380.17676368297754, 452.756021836862]\n",
       "-2.0           [381.3833965450697, 508.6660571020489]\n",
       "-3.0          [381.13283594356477, 563.9592504558186]\n",
       " 1.0          [327.11750361947503, 380.0572463490169]\n",
       " 2.0          [203.15162636822555, 380.0017724823788]\n",
       " 3.0           [152.24396992124946, 380.969665904088]"
      ]
     },
     "execution_count": 251,
     "metadata": {},
     "output_type": "execute_result"
    }
   ],
   "source": [
    "dfZyla = results[['ODT_Misalign', 'Ycenter']].set_index('ODT_Misalign')\n",
    "dfZyla"
   ]
  },
  {
   "cell_type": "code",
   "execution_count": 254,
   "id": "e68de639-399c-4baf-a384-9dea41094139",
   "metadata": {},
   "outputs": [
    {
     "data": {
      "text/html": [
       "<div>\n",
       "<style scoped>\n",
       "    .dataframe tbody tr th:only-of-type {\n",
       "        vertical-align: middle;\n",
       "    }\n",
       "\n",
       "    .dataframe tbody tr th {\n",
       "        vertical-align: top;\n",
       "    }\n",
       "\n",
       "    .dataframe thead th {\n",
       "        text-align: right;\n",
       "    }\n",
       "</style>\n",
       "<table border=\"1\" class=\"dataframe\">\n",
       "  <thead>\n",
       "    <tr style=\"text-align: right;\">\n",
       "      <th></th>\n",
       "      <th>center_Basler</th>\n",
       "      <th>Ycenter</th>\n",
       "    </tr>\n",
       "    <tr>\n",
       "      <th>ODT_Misalign</th>\n",
       "      <th></th>\n",
       "      <th></th>\n",
       "    </tr>\n",
       "  </thead>\n",
       "  <tbody>\n",
       "    <tr>\n",
       "      <th>-3</th>\n",
       "      <td>1757.200734</td>\n",
       "      <td>[381.13283594356477, 563.9592504558186]</td>\n",
       "    </tr>\n",
       "    <tr>\n",
       "      <th>-2</th>\n",
       "      <td>1806.031805</td>\n",
       "      <td>[381.3833965450697, 508.6660571020489]</td>\n",
       "    </tr>\n",
       "    <tr>\n",
       "      <th>-1</th>\n",
       "      <td>1845.791141</td>\n",
       "      <td>[380.17676368297754, 452.756021836862]</td>\n",
       "    </tr>\n",
       "    <tr>\n",
       "      <th>0</th>\n",
       "      <td>1900.655037</td>\n",
       "      <td>[382.9721439764404]</td>\n",
       "    </tr>\n",
       "  </tbody>\n",
       "</table>\n",
       "</div>"
      ],
      "text/plain": [
       "              center_Basler                                  Ycenter\n",
       "ODT_Misalign                                                        \n",
       "-3              1757.200734  [381.13283594356477, 563.9592504558186]\n",
       "-2              1806.031805   [381.3833965450697, 508.6660571020489]\n",
       "-1              1845.791141   [380.17676368297754, 452.756021836862]\n",
       "0               1900.655037                      [382.9721439764404]"
      ]
     },
     "execution_count": 254,
     "metadata": {},
     "output_type": "execute_result"
    }
   ],
   "source": [
    "dfjoin = dfBasler.join(dfZyla).sort_index()\n",
    "dfjoin"
   ]
  },
  {
   "cell_type": "code",
   "execution_count": 344,
   "id": "efa5b371-09a4-4235-850c-66a9afcf976b",
   "metadata": {},
   "outputs": [
    {
     "data": {
      "text/html": [
       "<div>\n",
       "<style scoped>\n",
       "    .dataframe tbody tr th:only-of-type {\n",
       "        vertical-align: middle;\n",
       "    }\n",
       "\n",
       "    .dataframe tbody tr th {\n",
       "        vertical-align: top;\n",
       "    }\n",
       "\n",
       "    .dataframe thead th {\n",
       "        text-align: right;\n",
       "    }\n",
       "</style>\n",
       "<table border=\"1\" class=\"dataframe\">\n",
       "  <thead>\n",
       "    <tr style=\"text-align: right;\">\n",
       "      <th></th>\n",
       "      <th>center_Basler</th>\n",
       "      <th>Ycenter</th>\n",
       "    </tr>\n",
       "    <tr>\n",
       "      <th>ODT_Misalign</th>\n",
       "      <th></th>\n",
       "      <th></th>\n",
       "    </tr>\n",
       "  </thead>\n",
       "  <tbody>\n",
       "    <tr>\n",
       "      <th>-3</th>\n",
       "      <td>1757.200734</td>\n",
       "      <td>[381.13283594356477, 563.9592504558186]</td>\n",
       "    </tr>\n",
       "    <tr>\n",
       "      <th>-2</th>\n",
       "      <td>1806.031805</td>\n",
       "      <td>[381.3833965450697, 508.6660571020489]</td>\n",
       "    </tr>\n",
       "    <tr>\n",
       "      <th>-1</th>\n",
       "      <td>1845.791141</td>\n",
       "      <td>[380.17676368297754, 452.756021836862]</td>\n",
       "    </tr>\n",
       "    <tr>\n",
       "      <th>0</th>\n",
       "      <td>1900.655037</td>\n",
       "      <td>[382.9721439764404]</td>\n",
       "    </tr>\n",
       "  </tbody>\n",
       "</table>\n",
       "</div>"
      ],
      "text/plain": [
       "              center_Basler                                  Ycenter\n",
       "ODT_Misalign                                                        \n",
       "-3              1757.200734  [381.13283594356477, 563.9592504558186]\n",
       "-2              1806.031805   [381.3833965450697, 508.6660571020489]\n",
       "-1              1845.791141   [380.17676368297754, 452.756021836862]\n",
       "0               1900.655037                      [382.9721439764404]"
      ]
     },
     "execution_count": 344,
     "metadata": {},
     "output_type": "execute_result"
    }
   ],
   "source": [
    "dfjoin"
   ]
  },
  {
   "cell_type": "code",
   "execution_count": 345,
   "id": "11b8630c-c178-49b6-b664-95d74c6fa291",
   "metadata": {},
   "outputs": [
    {
     "data": {
      "text/html": [
       "<div>\n",
       "<style scoped>\n",
       "    .dataframe tbody tr th:only-of-type {\n",
       "        vertical-align: middle;\n",
       "    }\n",
       "\n",
       "    .dataframe tbody tr th {\n",
       "        vertical-align: top;\n",
       "    }\n",
       "\n",
       "    .dataframe thead th {\n",
       "        text-align: right;\n",
       "    }\n",
       "</style>\n",
       "<table border=\"1\" class=\"dataframe\">\n",
       "  <thead>\n",
       "    <tr style=\"text-align: right;\">\n",
       "      <th></th>\n",
       "      <th>ODT_Misalign</th>\n",
       "      <th>center_Basler</th>\n",
       "      <th>Ycenter</th>\n",
       "    </tr>\n",
       "  </thead>\n",
       "  <tbody>\n",
       "    <tr>\n",
       "      <th>0</th>\n",
       "      <td>-3</td>\n",
       "      <td>1757.200734</td>\n",
       "      <td>[381.13283594356477, 563.9592504558186]</td>\n",
       "    </tr>\n",
       "    <tr>\n",
       "      <th>1</th>\n",
       "      <td>-2</td>\n",
       "      <td>1806.031805</td>\n",
       "      <td>[381.3833965450697, 508.6660571020489]</td>\n",
       "    </tr>\n",
       "    <tr>\n",
       "      <th>2</th>\n",
       "      <td>-1</td>\n",
       "      <td>1845.791141</td>\n",
       "      <td>[380.17676368297754, 452.756021836862]</td>\n",
       "    </tr>\n",
       "    <tr>\n",
       "      <th>3</th>\n",
       "      <td>0</td>\n",
       "      <td>1900.655037</td>\n",
       "      <td>[382.9721439764404]</td>\n",
       "    </tr>\n",
       "  </tbody>\n",
       "</table>\n",
       "</div>"
      ],
      "text/plain": [
       "   ODT_Misalign  center_Basler                                  Ycenter\n",
       "0            -3    1757.200734  [381.13283594356477, 563.9592504558186]\n",
       "1            -2    1806.031805   [381.3833965450697, 508.6660571020489]\n",
       "2            -1    1845.791141   [380.17676368297754, 452.756021836862]\n",
       "3             0    1900.655037                      [382.9721439764404]"
      ]
     },
     "execution_count": 345,
     "metadata": {},
     "output_type": "execute_result"
    }
   ],
   "source": [
    "dfjoin.reset_index()"
   ]
  },
  {
   "cell_type": "code",
   "execution_count": 351,
   "id": "ed65bf65-edfb-401d-a47e-6a0d79bebffe",
   "metadata": {},
   "outputs": [],
   "source": [
    "dfjoin[['aa']] = np.array([1,2,3,4]).reshape(-1,1)"
   ]
  },
  {
   "cell_type": "code",
   "execution_count": 352,
   "id": "fd25b346-fee5-48d9-ba61-4cc2d35667ed",
   "metadata": {},
   "outputs": [
    {
     "data": {
      "text/html": [
       "<div>\n",
       "<style scoped>\n",
       "    .dataframe tbody tr th:only-of-type {\n",
       "        vertical-align: middle;\n",
       "    }\n",
       "\n",
       "    .dataframe tbody tr th {\n",
       "        vertical-align: top;\n",
       "    }\n",
       "\n",
       "    .dataframe thead th {\n",
       "        text-align: right;\n",
       "    }\n",
       "</style>\n",
       "<table border=\"1\" class=\"dataframe\">\n",
       "  <thead>\n",
       "    <tr style=\"text-align: right;\">\n",
       "      <th></th>\n",
       "      <th>center_Basler</th>\n",
       "      <th>Ycenter</th>\n",
       "      <th>aa</th>\n",
       "    </tr>\n",
       "    <tr>\n",
       "      <th>ODT_Misalign</th>\n",
       "      <th></th>\n",
       "      <th></th>\n",
       "      <th></th>\n",
       "    </tr>\n",
       "  </thead>\n",
       "  <tbody>\n",
       "    <tr>\n",
       "      <th>-3</th>\n",
       "      <td>1757.200734</td>\n",
       "      <td>[381.13283594356477, 563.9592504558186]</td>\n",
       "      <td>1</td>\n",
       "    </tr>\n",
       "    <tr>\n",
       "      <th>-2</th>\n",
       "      <td>1806.031805</td>\n",
       "      <td>[381.3833965450697, 508.6660571020489]</td>\n",
       "      <td>2</td>\n",
       "    </tr>\n",
       "    <tr>\n",
       "      <th>-1</th>\n",
       "      <td>1845.791141</td>\n",
       "      <td>[380.17676368297754, 452.756021836862]</td>\n",
       "      <td>3</td>\n",
       "    </tr>\n",
       "    <tr>\n",
       "      <th>0</th>\n",
       "      <td>1900.655037</td>\n",
       "      <td>[382.9721439764404]</td>\n",
       "      <td>4</td>\n",
       "    </tr>\n",
       "  </tbody>\n",
       "</table>\n",
       "</div>"
      ],
      "text/plain": [
       "              center_Basler                                  Ycenter  aa\n",
       "ODT_Misalign                                                            \n",
       "-3              1757.200734  [381.13283594356477, 563.9592504558186]   1\n",
       "-2              1806.031805   [381.3833965450697, 508.6660571020489]   2\n",
       "-1              1845.791141   [380.17676368297754, 452.756021836862]   3\n",
       "0               1900.655037                      [382.9721439764404]   4"
      ]
     },
     "execution_count": 352,
     "metadata": {},
     "output_type": "execute_result"
    }
   ],
   "source": [
    "dfjoin"
   ]
  },
  {
   "cell_type": "code",
   "execution_count": 357,
   "id": "f42716ee-49b9-44b7-8e59-3ee978f60339",
   "metadata": {},
   "outputs": [
    {
     "data": {
      "text/plain": [
       "ODT_Misalign\n",
       "-3    1\n",
       "-2    2\n",
       "-1    3\n",
       "0     4\n",
       "Name: aa, dtype: int32"
      ]
     },
     "execution_count": 357,
     "metadata": {},
     "output_type": "execute_result"
    }
   ],
   "source": [
    "dfjoin.aa"
   ]
  },
  {
   "cell_type": "code",
   "execution_count": 355,
   "id": "fba6cc31-8c5d-4782-9067-9391b2ab4ef6",
   "metadata": {},
   "outputs": [
    {
     "data": {
      "text/plain": [
       "ODT_Misalign\n",
       "-3    1\n",
       "-2    2\n",
       "-1    3\n",
       "0     4\n",
       "Name: aa, dtype: int32"
      ]
     },
     "execution_count": 355,
     "metadata": {},
     "output_type": "execute_result"
    }
   ],
   "source": [
    "dfjoin.aa"
   ]
  },
  {
   "cell_type": "code",
   "execution_count": null,
   "id": "bbbe0b30-4be7-4048-86b6-f5918423757b",
   "metadata": {},
   "outputs": [],
   "source": [
    "df1[['Y1', 'Y2']] = pd.DataFrame(df1.Ycenter.values.tolist(), index=df1.index)"
   ]
  },
  {
   "cell_type": "code",
   "execution_count": null,
   "id": "48ad9e40-b133-4e6a-854f-2bc66cd57358",
   "metadata": {},
   "outputs": [],
   "source": []
  },
  {
   "cell_type": "code",
   "execution_count": 281,
   "id": "12ed0988-ef68-4725-a488-904b938ad8e5",
   "metadata": {},
   "outputs": [
    {
     "data": {
      "text/plain": [
       "array([array([381.13283594, 563.95925046]),\n",
       "       array([381.38339655, 508.6660571 ]),\n",
       "       array([380.17676368, 452.75602184]), array([382.97214398])],\n",
       "      dtype=object)"
      ]
     },
     "execution_count": 281,
     "metadata": {},
     "output_type": "execute_result"
    }
   ],
   "source": [
    "yy = dfjoin.Ycenter.values\n",
    "yy"
   ]
  },
  {
   "cell_type": "code",
   "execution_count": 308,
   "id": "2707707f-278c-45dd-8325-b2fab5d1cedb",
   "metadata": {},
   "outputs": [
    {
     "data": {
      "text/plain": [
       "ODT_Misalign\n",
       "-3    [381.13283594356477, 563.9592504558186]\n",
       "-2     [381.3833965450697, 508.6660571020489]\n",
       "-1     [380.17676368297754, 452.756021836862]\n",
       "0                         [382.9721439764404]\n",
       "Name: Ycenter, dtype: object"
      ]
     },
     "execution_count": 308,
     "metadata": {},
     "output_type": "execute_result"
    }
   ],
   "source": [
    "aa= dfjoin.Ycenter\n",
    "aa"
   ]
  },
  {
   "cell_type": "code",
   "execution_count": 310,
   "id": "9750d82f-bb1d-4d27-af77-d8a28dd77db2",
   "metadata": {},
   "outputs": [
    {
     "data": {
      "text/plain": [
       "array([382.97214398])"
      ]
     },
     "execution_count": 310,
     "metadata": {},
     "output_type": "execute_result"
    }
   ],
   "source": [
    "aa[0]"
   ]
  },
  {
   "cell_type": "code",
   "execution_count": 320,
   "id": "8599107c-a222-424e-82f4-4336f9dd1157",
   "metadata": {},
   "outputs": [
    {
     "data": {
      "text/plain": [
       "([563.9592504558186, 508.6660571020489, 452.756021836862],\n",
       " [381.13283594356477, 381.3833965450697, 380.17676368297754])"
      ]
     },
     "execution_count": 320,
     "metadata": {},
     "output_type": "execute_result"
    }
   ],
   "source": [
    "fit2Lines(dfjoin.center_Basler.values, dfjoin.Ycenter.values)"
   ]
  },
  {
   "cell_type": "code",
   "execution_count": 315,
   "id": "ccf1a9d4-e55e-4d2d-bd70-43458ad56193",
   "metadata": {},
   "outputs": [
    {
     "data": {
      "text/html": [
       "<div>\n",
       "<style scoped>\n",
       "    .dataframe tbody tr th:only-of-type {\n",
       "        vertical-align: middle;\n",
       "    }\n",
       "\n",
       "    .dataframe tbody tr th {\n",
       "        vertical-align: top;\n",
       "    }\n",
       "\n",
       "    .dataframe thead th {\n",
       "        text-align: right;\n",
       "    }\n",
       "</style>\n",
       "<table border=\"1\" class=\"dataframe\">\n",
       "  <thead>\n",
       "    <tr style=\"text-align: right;\">\n",
       "      <th></th>\n",
       "      <th>center_Basler</th>\n",
       "      <th>Ycenter</th>\n",
       "    </tr>\n",
       "    <tr>\n",
       "      <th>ODT_Misalign</th>\n",
       "      <th></th>\n",
       "      <th></th>\n",
       "    </tr>\n",
       "  </thead>\n",
       "  <tbody>\n",
       "    <tr>\n",
       "      <th>-3</th>\n",
       "      <td>1757.200734</td>\n",
       "      <td>[381.13283594356477, 563.9592504558186]</td>\n",
       "    </tr>\n",
       "    <tr>\n",
       "      <th>-2</th>\n",
       "      <td>1806.031805</td>\n",
       "      <td>[381.3833965450697, 508.6660571020489]</td>\n",
       "    </tr>\n",
       "    <tr>\n",
       "      <th>-1</th>\n",
       "      <td>1845.791141</td>\n",
       "      <td>[380.17676368297754, 452.756021836862]</td>\n",
       "    </tr>\n",
       "    <tr>\n",
       "      <th>0</th>\n",
       "      <td>1900.655037</td>\n",
       "      <td>[382.9721439764404]</td>\n",
       "    </tr>\n",
       "  </tbody>\n",
       "</table>\n",
       "</div>"
      ],
      "text/plain": [
       "              center_Basler                                  Ycenter\n",
       "ODT_Misalign                                                        \n",
       "-3              1757.200734  [381.13283594356477, 563.9592504558186]\n",
       "-2              1806.031805   [381.3833965450697, 508.6660571020489]\n",
       "-1              1845.791141   [380.17676368297754, 452.756021836862]\n",
       "0               1900.655037                      [382.9721439764404]"
      ]
     },
     "execution_count": 315,
     "metadata": {},
     "output_type": "execute_result"
    }
   ],
   "source": [
    "dfjoin"
   ]
  },
  {
   "cell_type": "code",
   "execution_count": null,
   "id": "0dfe3afb-dc1e-44f4-b9d8-5eef5a9e6fbe",
   "metadata": {},
   "outputs": [],
   "source": []
  },
  {
   "cell_type": "code",
   "execution_count": 318,
   "id": "88054256-dbf0-4518-9421-354a184be06a",
   "metadata": {},
   "outputs": [],
   "source": [
    "def fit2Lines(x, ys, pointsForGuess=3):\n",
    "    y1 = []\n",
    "    y2 = []\n",
    "    for ii in ys[:pointsForGuess]:\n",
    "        if len(ii) < 2:\n",
    "            break\n",
    "        y1.append(ii.max())\n",
    "        y2.append(ii.min())\n",
    "    \n",
    "    # Initial guess\n",
    "    x1 = x[:len(y1)]\n",
    "    p1 = np.poly1d( np.polyfit(x1, y1, deg=1) )\n",
    "    p2 = np.poly1d( np.polyfit(x1, y2, deg=1) )\n",
    "    \n",
    "    for ii in range(pointsForGuess, len(x)):\n",
    "        if len( ys[ii] ) < 2:\n",
    "            continue\n",
    "        \n",
    "        xi = x[ii]\n",
    "        yi1, yi2 = ys[ii]\n",
    "        pi1, pi2 = p1(xi), p2(xi)\n",
    "        \n",
    "        d1 = max(abs(yi1-pi1), abs(yi2-pi2)) \n",
    "        d2 = max(abs(yi1-pi2), abs(yi2-pi1)) \n",
    "        \n",
    "        if d2 < d1:\n",
    "            yi1, yi2 = yi2, yi1\n",
    "        \n",
    "        x1.append(xi)\n",
    "        y1.append(yi1)\n",
    "        y2.append(yi2)\n",
    "        \n",
    "    p1 = np.poly1d( np.polyfit(x1, y1, deg=1) )\n",
    "    p2 = np.poly1d( np.polyfit(x1, y2, deg=1) )\n",
    "        \n",
    "    return p1, p2"
   ]
  },
  {
   "cell_type": "code",
   "execution_count": 282,
   "id": "def50d01-5af7-43cd-81c0-02778ba38b11",
   "metadata": {},
   "outputs": [],
   "source": [
    "pp = np.poly1d([2,3])"
   ]
  },
  {
   "cell_type": "code",
   "execution_count": 285,
   "id": "365ac176-68ac-42c8-91d7-aefcf7691f9a",
   "metadata": {},
   "outputs": [
    {
     "data": {
      "text/plain": [
       "array([ 765.26567189, 1130.91850091])"
      ]
     },
     "execution_count": 285,
     "metadata": {},
     "output_type": "execute_result"
    }
   ],
   "source": [
    "pp(yy[0])"
   ]
  },
  {
   "cell_type": "code",
   "execution_count": 279,
   "id": "976bd7f2-d376-426d-b521-f0d1b73e840c",
   "metadata": {},
   "outputs": [
    {
     "data": {
      "text/plain": [
       "(array([-1.25064231e+00,  2.76337840e+03]),\n",
       " array([-1.01949649e-02,  3.99279268e+02]))"
      ]
     },
     "execution_count": 279,
     "metadata": {},
     "output_type": "execute_result"
    }
   ],
   "source": [
    "Separate2Lines(dfjoin.center_Basler, dfjoin.Ycenter)"
   ]
  },
  {
   "cell_type": "code",
   "execution_count": 275,
   "id": "43faf9f1-6856-4b3b-8310-87d350ae2787",
   "metadata": {},
   "outputs": [
    {
     "ename": "TypeError",
     "evalue": "object of type 'NoneType' has no len()",
     "output_type": "error",
     "traceback": [
      "\u001b[1;31m---------------------------------------------------------------------------\u001b[0m",
      "\u001b[1;31mTypeError\u001b[0m                                 Traceback (most recent call last)",
      "\u001b[1;32mC:\\Users\\SOMMER~1\\AppData\\Local\\Temp/ipykernel_7316/597994717.py\u001b[0m in \u001b[0;36m<module>\u001b[1;34m\u001b[0m\n\u001b[1;32m----> 1\u001b[1;33m \u001b[0mlen\u001b[0m\u001b[1;33m(\u001b[0m\u001b[1;32mNone\u001b[0m\u001b[1;33m)\u001b[0m\u001b[1;33m\u001b[0m\u001b[1;33m\u001b[0m\u001b[0m\n\u001b[0m",
      "\u001b[1;31mTypeError\u001b[0m: object of type 'NoneType' has no len()"
     ]
    }
   ],
   "source": [
    "len(None)"
   ]
  },
  {
   "cell_type": "code",
   "execution_count": 353,
   "id": "9263d028-d918-4135-8f07-9df91971e646",
   "metadata": {},
   "outputs": [
    {
     "data": {
      "text/html": [
       "<div>\n",
       "<style scoped>\n",
       "    .dataframe tbody tr th:only-of-type {\n",
       "        vertical-align: middle;\n",
       "    }\n",
       "\n",
       "    .dataframe tbody tr th {\n",
       "        vertical-align: top;\n",
       "    }\n",
       "\n",
       "    .dataframe thead th {\n",
       "        text-align: right;\n",
       "    }\n",
       "</style>\n",
       "<table border=\"1\" class=\"dataframe\">\n",
       "  <thead>\n",
       "    <tr style=\"text-align: right;\">\n",
       "      <th></th>\n",
       "      <th>Ycenter</th>\n",
       "      <th>Ywidth</th>\n",
       "      <th>YtomNumber</th>\n",
       "      <th>IterationNum</th>\n",
       "      <th>IterationCount</th>\n",
       "      <th>wait</th>\n",
       "      <th>AndorROIheight</th>\n",
       "      <th>AndorShortExpDelay_us</th>\n",
       "      <th>LFImg</th>\n",
       "      <th>LF_AOM_freq</th>\n",
       "      <th>...</th>\n",
       "      <th>ODT_Position</th>\n",
       "      <th>Burnt_In</th>\n",
       "      <th>ODT_FMdev_MHz</th>\n",
       "      <th>ODT_FMfreq_MHz</th>\n",
       "      <th>modulate_ON</th>\n",
       "      <th>Evap1_V</th>\n",
       "      <th>tau_evap_s</th>\n",
       "      <th>Evap_2_V</th>\n",
       "      <th>Var_49</th>\n",
       "      <th>ODT_Misalign</th>\n",
       "    </tr>\n",
       "    <tr>\n",
       "      <th>time</th>\n",
       "      <th></th>\n",
       "      <th></th>\n",
       "      <th></th>\n",
       "      <th></th>\n",
       "      <th></th>\n",
       "      <th></th>\n",
       "      <th></th>\n",
       "      <th></th>\n",
       "      <th></th>\n",
       "      <th></th>\n",
       "      <th></th>\n",
       "      <th></th>\n",
       "      <th></th>\n",
       "      <th></th>\n",
       "      <th></th>\n",
       "      <th></th>\n",
       "      <th></th>\n",
       "      <th></th>\n",
       "      <th></th>\n",
       "      <th></th>\n",
       "      <th></th>\n",
       "    </tr>\n",
       "  </thead>\n",
       "  <tbody>\n",
       "    <tr>\n",
       "      <th>2024-02-26 19:49:18.239392</th>\n",
       "      <td>[382.9721439764404]</td>\n",
       "      <td>[18.052506704669252]</td>\n",
       "      <td>1.449858e+06</td>\n",
       "      <td>0.0</td>\n",
       "      <td>1.0</td>\n",
       "      <td>50.0</td>\n",
       "      <td>512.0</td>\n",
       "      <td>2415.44</td>\n",
       "      <td>3.598</td>\n",
       "      <td>226.0</td>\n",
       "      <td>...</td>\n",
       "      <td>1900.0</td>\n",
       "      <td>0.0</td>\n",
       "      <td>10.0</td>\n",
       "      <td>1.0</td>\n",
       "      <td>0.0</td>\n",
       "      <td>0.15</td>\n",
       "      <td>1.0</td>\n",
       "      <td>0.1</td>\n",
       "      <td>0.0</td>\n",
       "      <td>0.0</td>\n",
       "    </tr>\n",
       "    <tr>\n",
       "      <th>2024-02-26 19:51:00.335385</th>\n",
       "      <td>[380.17676368297754, 452.756021836862]</td>\n",
       "      <td>[15.483953299796193, 15.138399942803979]</td>\n",
       "      <td>1.472108e+06</td>\n",
       "      <td>0.0</td>\n",
       "      <td>1.0</td>\n",
       "      <td>50.0</td>\n",
       "      <td>512.0</td>\n",
       "      <td>2415.44</td>\n",
       "      <td>3.598</td>\n",
       "      <td>226.0</td>\n",
       "      <td>...</td>\n",
       "      <td>1900.0</td>\n",
       "      <td>0.0</td>\n",
       "      <td>10.0</td>\n",
       "      <td>1.0</td>\n",
       "      <td>0.0</td>\n",
       "      <td>0.15</td>\n",
       "      <td>1.0</td>\n",
       "      <td>0.1</td>\n",
       "      <td>0.0</td>\n",
       "      <td>-1.0</td>\n",
       "    </tr>\n",
       "    <tr>\n",
       "      <th>2024-02-26 19:51:53.854583</th>\n",
       "      <td>[381.3833965450697, 508.6660571020489]</td>\n",
       "      <td>[15.3387676608026, 15.612848505762084]</td>\n",
       "      <td>1.432537e+06</td>\n",
       "      <td>0.0</td>\n",
       "      <td>1.0</td>\n",
       "      <td>50.0</td>\n",
       "      <td>512.0</td>\n",
       "      <td>2415.44</td>\n",
       "      <td>3.598</td>\n",
       "      <td>226.0</td>\n",
       "      <td>...</td>\n",
       "      <td>1900.0</td>\n",
       "      <td>0.0</td>\n",
       "      <td>10.0</td>\n",
       "      <td>1.0</td>\n",
       "      <td>0.0</td>\n",
       "      <td>0.15</td>\n",
       "      <td>1.0</td>\n",
       "      <td>0.1</td>\n",
       "      <td>0.0</td>\n",
       "      <td>-2.0</td>\n",
       "    </tr>\n",
       "    <tr>\n",
       "      <th>2024-02-26 19:52:27.576864</th>\n",
       "      <td>[381.13283594356477, 563.9592504558186]</td>\n",
       "      <td>[15.318889856435785, 15.631891777143181]</td>\n",
       "      <td>1.440862e+06</td>\n",
       "      <td>0.0</td>\n",
       "      <td>1.0</td>\n",
       "      <td>50.0</td>\n",
       "      <td>512.0</td>\n",
       "      <td>2415.44</td>\n",
       "      <td>3.598</td>\n",
       "      <td>226.0</td>\n",
       "      <td>...</td>\n",
       "      <td>1900.0</td>\n",
       "      <td>0.0</td>\n",
       "      <td>10.0</td>\n",
       "      <td>1.0</td>\n",
       "      <td>0.0</td>\n",
       "      <td>0.15</td>\n",
       "      <td>1.0</td>\n",
       "      <td>0.1</td>\n",
       "      <td>0.0</td>\n",
       "      <td>-3.0</td>\n",
       "    </tr>\n",
       "    <tr>\n",
       "      <th>2024-02-26 19:53:07.675307</th>\n",
       "      <td>[327.11750361947503, 380.0572463490169]</td>\n",
       "      <td>[15.274421317585418, 16.610589205340332]</td>\n",
       "      <td>1.376565e+06</td>\n",
       "      <td>0.0</td>\n",
       "      <td>1.0</td>\n",
       "      <td>50.0</td>\n",
       "      <td>512.0</td>\n",
       "      <td>2415.44</td>\n",
       "      <td>3.598</td>\n",
       "      <td>226.0</td>\n",
       "      <td>...</td>\n",
       "      <td>1900.0</td>\n",
       "      <td>0.0</td>\n",
       "      <td>10.0</td>\n",
       "      <td>1.0</td>\n",
       "      <td>0.0</td>\n",
       "      <td>0.15</td>\n",
       "      <td>1.0</td>\n",
       "      <td>0.1</td>\n",
       "      <td>0.0</td>\n",
       "      <td>1.0</td>\n",
       "    </tr>\n",
       "    <tr>\n",
       "      <th>2024-02-26 19:53:44.755128</th>\n",
       "      <td>[203.15162636822555, 380.0017724823788]</td>\n",
       "      <td>[15.86971726654875, 15.35916036512933]</td>\n",
       "      <td>1.357676e+06</td>\n",
       "      <td>0.0</td>\n",
       "      <td>1.0</td>\n",
       "      <td>50.0</td>\n",
       "      <td>512.0</td>\n",
       "      <td>2415.44</td>\n",
       "      <td>3.598</td>\n",
       "      <td>226.0</td>\n",
       "      <td>...</td>\n",
       "      <td>1900.0</td>\n",
       "      <td>0.0</td>\n",
       "      <td>10.0</td>\n",
       "      <td>1.0</td>\n",
       "      <td>0.0</td>\n",
       "      <td>0.15</td>\n",
       "      <td>1.0</td>\n",
       "      <td>0.1</td>\n",
       "      <td>0.0</td>\n",
       "      <td>2.0</td>\n",
       "    </tr>\n",
       "    <tr>\n",
       "      <th>2024-02-26 19:54:10.653070</th>\n",
       "      <td>[152.24396992124946, 380.969665904088]</td>\n",
       "      <td>[15.487691811626913, 15.471086622454067]</td>\n",
       "      <td>1.368402e+06</td>\n",
       "      <td>0.0</td>\n",
       "      <td>1.0</td>\n",
       "      <td>50.0</td>\n",
       "      <td>512.0</td>\n",
       "      <td>2415.44</td>\n",
       "      <td>3.598</td>\n",
       "      <td>226.0</td>\n",
       "      <td>...</td>\n",
       "      <td>1900.0</td>\n",
       "      <td>0.0</td>\n",
       "      <td>10.0</td>\n",
       "      <td>1.0</td>\n",
       "      <td>0.0</td>\n",
       "      <td>0.15</td>\n",
       "      <td>1.0</td>\n",
       "      <td>0.1</td>\n",
       "      <td>0.0</td>\n",
       "      <td>3.0</td>\n",
       "    </tr>\n",
       "  </tbody>\n",
       "</table>\n",
       "<p>7 rows × 53 columns</p>\n",
       "</div>"
      ],
      "text/plain": [
       "                                                            Ycenter  \\\n",
       "time                                                                  \n",
       "2024-02-26 19:49:18.239392                      [382.9721439764404]   \n",
       "2024-02-26 19:51:00.335385   [380.17676368297754, 452.756021836862]   \n",
       "2024-02-26 19:51:53.854583   [381.3833965450697, 508.6660571020489]   \n",
       "2024-02-26 19:52:27.576864  [381.13283594356477, 563.9592504558186]   \n",
       "2024-02-26 19:53:07.675307  [327.11750361947503, 380.0572463490169]   \n",
       "2024-02-26 19:53:44.755128  [203.15162636822555, 380.0017724823788]   \n",
       "2024-02-26 19:54:10.653070   [152.24396992124946, 380.969665904088]   \n",
       "\n",
       "                                                              Ywidth  \\\n",
       "time                                                                   \n",
       "2024-02-26 19:49:18.239392                      [18.052506704669252]   \n",
       "2024-02-26 19:51:00.335385  [15.483953299796193, 15.138399942803979]   \n",
       "2024-02-26 19:51:53.854583    [15.3387676608026, 15.612848505762084]   \n",
       "2024-02-26 19:52:27.576864  [15.318889856435785, 15.631891777143181]   \n",
       "2024-02-26 19:53:07.675307  [15.274421317585418, 16.610589205340332]   \n",
       "2024-02-26 19:53:44.755128    [15.86971726654875, 15.35916036512933]   \n",
       "2024-02-26 19:54:10.653070  [15.487691811626913, 15.471086622454067]   \n",
       "\n",
       "                              YtomNumber  IterationNum  IterationCount  wait  \\\n",
       "time                                                                           \n",
       "2024-02-26 19:49:18.239392  1.449858e+06           0.0             1.0  50.0   \n",
       "2024-02-26 19:51:00.335385  1.472108e+06           0.0             1.0  50.0   \n",
       "2024-02-26 19:51:53.854583  1.432537e+06           0.0             1.0  50.0   \n",
       "2024-02-26 19:52:27.576864  1.440862e+06           0.0             1.0  50.0   \n",
       "2024-02-26 19:53:07.675307  1.376565e+06           0.0             1.0  50.0   \n",
       "2024-02-26 19:53:44.755128  1.357676e+06           0.0             1.0  50.0   \n",
       "2024-02-26 19:54:10.653070  1.368402e+06           0.0             1.0  50.0   \n",
       "\n",
       "                            AndorROIheight  AndorShortExpDelay_us  LFImg  \\\n",
       "time                                                                       \n",
       "2024-02-26 19:49:18.239392           512.0                2415.44  3.598   \n",
       "2024-02-26 19:51:00.335385           512.0                2415.44  3.598   \n",
       "2024-02-26 19:51:53.854583           512.0                2415.44  3.598   \n",
       "2024-02-26 19:52:27.576864           512.0                2415.44  3.598   \n",
       "2024-02-26 19:53:07.675307           512.0                2415.44  3.598   \n",
       "2024-02-26 19:53:44.755128           512.0                2415.44  3.598   \n",
       "2024-02-26 19:54:10.653070           512.0                2415.44  3.598   \n",
       "\n",
       "                            LF_AOM_freq  ...  ODT_Position  Burnt_In  \\\n",
       "time                                     ...                           \n",
       "2024-02-26 19:49:18.239392        226.0  ...        1900.0       0.0   \n",
       "2024-02-26 19:51:00.335385        226.0  ...        1900.0       0.0   \n",
       "2024-02-26 19:51:53.854583        226.0  ...        1900.0       0.0   \n",
       "2024-02-26 19:52:27.576864        226.0  ...        1900.0       0.0   \n",
       "2024-02-26 19:53:07.675307        226.0  ...        1900.0       0.0   \n",
       "2024-02-26 19:53:44.755128        226.0  ...        1900.0       0.0   \n",
       "2024-02-26 19:54:10.653070        226.0  ...        1900.0       0.0   \n",
       "\n",
       "                            ODT_FMdev_MHz  ODT_FMfreq_MHz  modulate_ON  \\\n",
       "time                                                                     \n",
       "2024-02-26 19:49:18.239392           10.0             1.0          0.0   \n",
       "2024-02-26 19:51:00.335385           10.0             1.0          0.0   \n",
       "2024-02-26 19:51:53.854583           10.0             1.0          0.0   \n",
       "2024-02-26 19:52:27.576864           10.0             1.0          0.0   \n",
       "2024-02-26 19:53:07.675307           10.0             1.0          0.0   \n",
       "2024-02-26 19:53:44.755128           10.0             1.0          0.0   \n",
       "2024-02-26 19:54:10.653070           10.0             1.0          0.0   \n",
       "\n",
       "                            Evap1_V  tau_evap_s  Evap_2_V  Var_49  \\\n",
       "time                                                                \n",
       "2024-02-26 19:49:18.239392     0.15         1.0       0.1     0.0   \n",
       "2024-02-26 19:51:00.335385     0.15         1.0       0.1     0.0   \n",
       "2024-02-26 19:51:53.854583     0.15         1.0       0.1     0.0   \n",
       "2024-02-26 19:52:27.576864     0.15         1.0       0.1     0.0   \n",
       "2024-02-26 19:53:07.675307     0.15         1.0       0.1     0.0   \n",
       "2024-02-26 19:53:44.755128     0.15         1.0       0.1     0.0   \n",
       "2024-02-26 19:54:10.653070     0.15         1.0       0.1     0.0   \n",
       "\n",
       "                            ODT_Misalign  \n",
       "time                                      \n",
       "2024-02-26 19:49:18.239392           0.0  \n",
       "2024-02-26 19:51:00.335385          -1.0  \n",
       "2024-02-26 19:51:53.854583          -2.0  \n",
       "2024-02-26 19:52:27.576864          -3.0  \n",
       "2024-02-26 19:53:07.675307           1.0  \n",
       "2024-02-26 19:53:44.755128           2.0  \n",
       "2024-02-26 19:54:10.653070           3.0  \n",
       "\n",
       "[7 rows x 53 columns]"
      ]
     },
     "execution_count": 353,
     "metadata": {},
     "output_type": "execute_result"
    }
   ],
   "source": [
    "results"
   ]
  },
  {
   "cell_type": "code",
   "execution_count": null,
   "id": "8d3241ed-b0c6-4bc8-89be-cb2ab01fd1d1",
   "metadata": {},
   "outputs": [],
   "source": []
  }
 ],
 "metadata": {
  "kernelspec": {
   "display_name": "Python 3 (ipykernel)",
   "language": "python",
   "name": "python3"
  },
  "language_info": {
   "codemirror_mode": {
    "name": "ipython",
    "version": 3
   },
   "file_extension": ".py",
   "mimetype": "text/x-python",
   "name": "python",
   "nbconvert_exporter": "python",
   "pygments_lexer": "ipython3",
   "version": "3.7.3"
  }
 },
 "nbformat": 4,
 "nbformat_minor": 5
}
